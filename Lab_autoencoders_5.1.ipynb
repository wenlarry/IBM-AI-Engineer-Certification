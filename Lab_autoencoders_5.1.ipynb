<!DOCTYPE html>
<html>
<head><meta charset="utf-8" />

<title>ML0120EN-5.1-Review-Autoencoders</title>

<script src="https://cdnjs.cloudflare.com/ajax/libs/require.js/2.1.10/require.min.js"></script>
<script src="https://cdnjs.cloudflare.com/ajax/libs/jquery/2.0.3/jquery.min.js"></script>

<script>
(function() {
  function addWidgetsRenderer() {
    var mimeElement = document.querySelector('script[type="application/vnd.jupyter.widget-view+json"]');
    var scriptElement = document.createElement('script');
    var widgetRendererSrc = '@jupyter-widgets/html-manager@*/dist/embed-amd.js';
    var widgetState;

    // Fallback for older version:
    try {
      widgetState = mimeElement && JSON.parse(mimeElement.innerHTML);

      if (widgetState && (widgetState.version_major < 2 || !widgetState.version_major)) {
        widgetRendererSrc = 'jupyter-js-widgets@*/dist/embed.js';
      }
    } catch(e) {}

    scriptElement.src = widgetRendererSrc;
    document.body.appendChild(scriptElement);
  }

  document.addEventListener('DOMContentLoaded', addWidgetsRenderer);
}());
</script>

<style type="text/css">
    /*!
*
* Twitter Bootstrap
*
*/
/*!
 * Bootstrap v3.3.7 (http://getbootstrap.com)
 * Copyright 2011-2016 Twitter, Inc.
 * Licensed under MIT (https://github.com/twbs/bootstrap/blob/master/LICENSE)
 */
/*! normalize.css v3.0.3 | MIT License | github.com/necolas/normalize.css */
html {
  font-family: sans-serif;
  -ms-text-size-adjust: 100%;
  -webkit-text-size-adjust: 100%;
}
body {
  margin: 0;
}
article,
aside,
details,
figcaption,
figure,
footer,
header,
hgroup,
main,
menu,
nav,
section,
summary {
  display: block;
}
audio,
canvas,
progress,
video {
  display: inline-block;
  vertical-align: baseline;
}
audio:not([controls]) {
  display: none;
  height: 0;
}
[hidden],
template {
  display: none;
}
a {
  background-color: transparent;
}
a:active,
a:hover {
  outline: 0;
}
abbr[title] {
  border-bottom: 1px dotted;
}
b,
strong {
  font-weight: bold;
}
dfn {
  font-style: italic;
}
h1 {
  font-size: 2em;
  margin: 0.67em 0;
}
mark {
  background: #ff0;
  color: #000;
}
small {
  font-size: 80%;
}
sub,
sup {
  font-size: 75%;
  line-height: 0;
  position: relative;
  vertical-align: baseline;
}
sup {
  top: -0.5em;
}
sub {
  bottom: -0.25em;
}
img {
  border: 0;
}
svg:not(:root) {
  overflow: hidden;
}
figure {
  margin: 1em 40px;
}
hr {
  box-sizing: content-box;
  height: 0;
}
pre {
  overflow: auto;
}
code,
kbd,
pre,
samp {
  font-family: monospace, monospace;
  font-size: 1em;
}
button,
input,
optgroup,
select,
textarea {
  color: inherit;
  font: inherit;
  margin: 0;
}
button {
  overflow: visible;
}
button,
select {
  text-transform: none;
}
button,
html input[type="button"],
input[type="reset"],
input[type="submit"] {
  -webkit-appearance: button;
  cursor: pointer;
}
button[disabled],
html input[disabled] {
  cursor: default;
}
button::-moz-focus-inner,
input::-moz-focus-inner {
  border: 0;
  padding: 0;
}
input {
  line-height: normal;
}
input[type="checkbox"],
input[type="radio"] {
  box-sizing: border-box;
  padding: 0;
}
input[type="number"]::-webkit-inner-spin-button,
input[type="number"]::-webkit-outer-spin-button {
  height: auto;
}
input[type="search"] {
  -webkit-appearance: textfield;
  box-sizing: content-box;
}
input[type="search"]::-webkit-search-cancel-button,
input[type="search"]::-webkit-search-decoration {
  -webkit-appearance: none;
}
fieldset {
  border: 1px solid #c0c0c0;
  margin: 0 2px;
  padding: 0.35em 0.625em 0.75em;
}
legend {
  border: 0;
  padding: 0;
}
textarea {
  overflow: auto;
}
optgroup {
  font-weight: bold;
}
table {
  border-collapse: collapse;
  border-spacing: 0;
}
td,
th {
  padding: 0;
}
/*! Source: https://github.com/h5bp/html5-boilerplate/blob/master/src/css/main.css */
@media print {
  *,
  *:before,
  *:after {
    background: transparent !important;
    box-shadow: none !important;
    text-shadow: none !important;
  }
  a,
  a:visited {
    text-decoration: underline;
  }
  a[href]:after {
    content: " (" attr(href) ")";
  }
  abbr[title]:after {
    content: " (" attr(title) ")";
  }
  a[href^="#"]:after,
  a[href^="javascript:"]:after {
    content: "";
  }
  pre,
  blockquote {
    border: 1px solid #999;
    page-break-inside: avoid;
  }
  thead {
    display: table-header-group;
  }
  tr,
  img {
    page-break-inside: avoid;
  }
  img {
    max-width: 100% !important;
  }
  p,
  h2,
  h3 {
    orphans: 3;
    widows: 3;
  }
  h2,
  h3 {
    page-break-after: avoid;
  }
  .navbar {
    display: none;
  }
  .btn > .caret,
  .dropup > .btn > .caret {
    border-top-color: #000 !important;
  }
  .label {
    border: 1px solid #000;
  }
  .table {
    border-collapse: collapse !important;
  }
  .table td,
  .table th {
    background-color: #fff !important;
  }
  .table-bordered th,
  .table-bordered td {
    border: 1px solid #ddd !important;
  }
}
@font-face {
  font-family: 'Glyphicons Halflings';
  src: url('../components/bootstrap/fonts/glyphicons-halflings-regular.eot');
  src: url('../components/bootstrap/fonts/glyphicons-halflings-regular.eot?#iefix') format('embedded-opentype'), url('../components/bootstrap/fonts/glyphicons-halflings-regular.woff2') format('woff2'), url('../components/bootstrap/fonts/glyphicons-halflings-regular.woff') format('woff'), url('../components/bootstrap/fonts/glyphicons-halflings-regular.ttf') format('truetype'), url('../components/bootstrap/fonts/glyphicons-halflings-regular.svg#glyphicons_halflingsregular') format('svg');
}
.glyphicon {
  position: relative;
  top: 1px;
  display: inline-block;
  font-family: 'Glyphicons Halflings';
  font-style: normal;
  font-weight: normal;
  line-height: 1;
  -webkit-font-smoothing: antialiased;
  -moz-osx-font-smoothing: grayscale;
}
.glyphicon-asterisk:before {
  content: "\002a";
}
.glyphicon-plus:before {
  content: "\002b";
}
.glyphicon-euro:before,
.glyphicon-eur:before {
  content: "\20ac";
}
.glyphicon-minus:before {
  content: "\2212";
}
.glyphicon-cloud:before {
  content: "\2601";
}
.glyphicon-envelope:before {
  content: "\2709";
}
.glyphicon-pencil:before {
  content: "\270f";
}
.glyphicon-glass:before {
  content: "\e001";
}
.glyphicon-music:before {
  content: "\e002";
}
.glyphicon-search:before {
  content: "\e003";
}
.glyphicon-heart:before {
  content: "\e005";
}
.glyphicon-star:before {
  content: "\e006";
}
.glyphicon-star-empty:before {
  content: "\e007";
}
.glyphicon-user:before {
  content: "\e008";
}
.glyphicon-film:before {
  content: "\e009";
}
.glyphicon-th-large:before {
  content: "\e010";
}
.glyphicon-th:before {
  content: "\e011";
}
.glyphicon-th-list:before {
  content: "\e012";
}
.glyphicon-ok:before {
  content: "\e013";
}
.glyphicon-remove:before {
  content: "\e014";
}
.glyphicon-zoom-in:before {
  content: "\e015";
}
.glyphicon-zoom-out:before {
  content: "\e016";
}
.glyphicon-off:before {
  content: "\e017";
}
.glyphicon-signal:before {
  content: "\e018";
}
.glyphicon-cog:before {
  content: "\e019";
}
.glyphicon-trash:before {
  content: "\e020";
}
.glyphicon-home:before {
  content: "\e021";
}
.glyphicon-file:before {
  content: "\e022";
}
.glyphicon-time:before {
  content: "\e023";
}
.glyphicon-road:before {
  content: "\e024";
}
.glyphicon-download-alt:before {
  content: "\e025";
}
.glyphicon-download:before {
  content: "\e026";
}
.glyphicon-upload:before {
  content: "\e027";
}
.glyphicon-inbox:before {
  content: "\e028";
}
.glyphicon-play-circle:before {
  content: "\e029";
}
.glyphicon-repeat:before {
  content: "\e030";
}
.glyphicon-refresh:before {
  content: "\e031";
}
.glyphicon-list-alt:before {
  content: "\e032";
}
.glyphicon-lock:before {
  content: "\e033";
}
.glyphicon-flag:before {
  content: "\e034";
}
.glyphicon-headphones:before {
  content: "\e035";
}
.glyphicon-volume-off:before {
  content: "\e036";
}
.glyphicon-volume-down:before {
  content: "\e037";
}
.glyphicon-volume-up:before {
  content: "\e038";
}
.glyphicon-qrcode:before {
  content: "\e039";
}
.glyphicon-barcode:before {
  content: "\e040";
}
.glyphicon-tag:before {
  content: "\e041";
}
.glyphicon-tags:before {
  content: "\e042";
}
.glyphicon-book:before {
  content: "\e043";
}
.glyphicon-bookmark:before {
  content: "\e044";
}
.glyphicon-print:before {
  content: "\e045";
}
.glyphicon-camera:before {
  content: "\e046";
}
.glyphicon-font:before {
  content: "\e047";
}
.glyphicon-bold:before {
  content: "\e048";
}
.glyphicon-italic:before {
  content: "\e049";
}
.glyphicon-text-height:before {
  content: "\e050";
}
.glyphicon-text-width:before {
  content: "\e051";
}
.glyphicon-align-left:before {
  content: "\e052";
}
.glyphicon-align-center:before {
  content: "\e053";
}
.glyphicon-align-right:before {
  content: "\e054";
}
.glyphicon-align-justify:before {
  content: "\e055";
}
.glyphicon-list:before {
  content: "\e056";
}
.glyphicon-indent-left:before {
  content: "\e057";
}
.glyphicon-indent-right:before {
  content: "\e058";
}
.glyphicon-facetime-video:before {
  content: "\e059";
}
.glyphicon-picture:before {
  content: "\e060";
}
.glyphicon-map-marker:before {
  content: "\e062";
}
.glyphicon-adjust:before {
  content: "\e063";
}
.glyphicon-tint:before {
  content: "\e064";
}
.glyphicon-edit:before {
  content: "\e065";
}
.glyphicon-share:before {
  content: "\e066";
}
.glyphicon-check:before {
  content: "\e067";
}
.glyphicon-move:before {
  content: "\e068";
}
.glyphicon-step-backward:before {
  content: "\e069";
}
.glyphicon-fast-backward:before {
  content: "\e070";
}
.glyphicon-backward:before {
  content: "\e071";
}
.glyphicon-play:before {
  content: "\e072";
}
.glyphicon-pause:before {
  content: "\e073";
}
.glyphicon-stop:before {
  content: "\e074";
}
.glyphicon-forward:before {
  content: "\e075";
}
.glyphicon-fast-forward:before {
  content: "\e076";
}
.glyphicon-step-forward:before {
  content: "\e077";
}
.glyphicon-eject:before {
  content: "\e078";
}
.glyphicon-chevron-left:before {
  content: "\e079";
}
.glyphicon-chevron-right:before {
  content: "\e080";
}
.glyphicon-plus-sign:before {
  content: "\e081";
}
.glyphicon-minus-sign:before {
  content: "\e082";
}
.glyphicon-remove-sign:before {
  content: "\e083";
}
.glyphicon-ok-sign:before {
  content: "\e084";
}
.glyphicon-question-sign:before {
  content: "\e085";
}
.glyphicon-info-sign:before {
  content: "\e086";
}
.glyphicon-screenshot:before {
  content: "\e087";
}
.glyphicon-remove-circle:before {
  content: "\e088";
}
.glyphicon-ok-circle:before {
  content: "\e089";
}
.glyphicon-ban-circle:before {
  content: "\e090";
}
.glyphicon-arrow-left:before {
  content: "\e091";
}
.glyphicon-arrow-right:before {
  content: "\e092";
}
.glyphicon-arrow-up:before {
  content: "\e093";
}
.glyphicon-arrow-down:before {
  content: "\e094";
}
.glyphicon-share-alt:before {
  content: "\e095";
}
.glyphicon-resize-full:before {
  content: "\e096";
}
.glyphicon-resize-small:before {
  content: "\e097";
}
.glyphicon-exclamation-sign:before {
  content: "\e101";
}
.glyphicon-gift:before {
  content: "\e102";
}
.glyphicon-leaf:before {
  content: "\e103";
}
.glyphicon-fire:before {
  content: "\e104";
}
.glyphicon-eye-open:before {
  content: "\e105";
}
.glyphicon-eye-close:before {
  content: "\e106";
}
.glyphicon-warning-sign:before {
  content: "\e107";
}
.glyphicon-plane:before {
  content: "\e108";
}
.glyphicon-calendar:before {
  content: "\e109";
}
.glyphicon-random:before {
  content: "\e110";
}
.glyphicon-comment:before {
  content: "\e111";
}
.glyphicon-magnet:before {
  content: "\e112";
}
.glyphicon-chevron-up:before {
  content: "\e113";
}
.glyphicon-chevron-down:before {
  content: "\e114";
}
.glyphicon-retweet:before {
  content: "\e115";
}
.glyphicon-shopping-cart:before {
  content: "\e116";
}
.glyphicon-folder-close:before {
  content: "\e117";
}
.glyphicon-folder-open:before {
  content: "\e118";
}
.glyphicon-resize-vertical:before {
  content: "\e119";
}
.glyphicon-resize-horizontal:before {
  content: "\e120";
}
.glyphicon-hdd:before {
  content: "\e121";
}
.glyphicon-bullhorn:before {
  content: "\e122";
}
.glyphicon-bell:before {
  content: "\e123";
}
.glyphicon-certificate:before {
  content: "\e124";
}
.glyphicon-thumbs-up:before {
  content: "\e125";
}
.glyphicon-thumbs-down:before {
  content: "\e126";
}
.glyphicon-hand-right:before {
  content: "\e127";
}
.glyphicon-hand-left:before {
  content: "\e128";
}
.glyphicon-hand-up:before {
  content: "\e129";
}
.glyphicon-hand-down:before {
  content: "\e130";
}
.glyphicon-circle-arrow-right:before {
  content: "\e131";
}
.glyphicon-circle-arrow-left:before {
  content: "\e132";
}
.glyphicon-circle-arrow-up:before {
  content: "\e133";
}
.glyphicon-circle-arrow-down:before {
  content: "\e134";
}
.glyphicon-globe:before {
  content: "\e135";
}
.glyphicon-wrench:before {
  content: "\e136";
}
.glyphicon-tasks:before {
  content: "\e137";
}
.glyphicon-filter:before {
  content: "\e138";
}
.glyphicon-briefcase:before {
  content: "\e139";
}
.glyphicon-fullscreen:before {
  content: "\e140";
}
.glyphicon-dashboard:before {
  content: "\e141";
}
.glyphicon-paperclip:before {
  content: "\e142";
}
.glyphicon-heart-empty:before {
  content: "\e143";
}
.glyphicon-link:before {
  content: "\e144";
}
.glyphicon-phone:before {
  content: "\e145";
}
.glyphicon-pushpin:before {
  content: "\e146";
}
.glyphicon-usd:before {
  content: "\e148";
}
.glyphicon-gbp:before {
  content: "\e149";
}
.glyphicon-sort:before {
  content: "\e150";
}
.glyphicon-sort-by-alphabet:before {
  content: "\e151";
}
.glyphicon-sort-by-alphabet-alt:before {
  content: "\e152";
}
.glyphicon-sort-by-order:before {
  content: "\e153";
}
.glyphicon-sort-by-order-alt:before {
  content: "\e154";
}
.glyphicon-sort-by-attributes:before {
  content: "\e155";
}
.glyphicon-sort-by-attributes-alt:before {
  content: "\e156";
}
.glyphicon-unchecked:before {
  content: "\e157";
}
.glyphicon-expand:before {
  content: "\e158";
}
.glyphicon-collapse-down:before {
  content: "\e159";
}
.glyphicon-collapse-up:before {
  content: "\e160";
}
.glyphicon-log-in:before {
  content: "\e161";
}
.glyphicon-flash:before {
  content: "\e162";
}
.glyphicon-log-out:before {
  content: "\e163";
}
.glyphicon-new-window:before {
  content: "\e164";
}
.glyphicon-record:before {
  content: "\e165";
}
.glyphicon-save:before {
  content: "\e166";
}
.glyphicon-open:before {
  content: "\e167";
}
.glyphicon-saved:before {
  content: "\e168";
}
.glyphicon-import:before {
  content: "\e169";
}
.glyphicon-export:before {
  content: "\e170";
}
.glyphicon-send:before {
  content: "\e171";
}
.glyphicon-floppy-disk:before {
  content: "\e172";
}
.glyphicon-floppy-saved:before {
  content: "\e173";
}
.glyphicon-floppy-remove:before {
  content: "\e174";
}
.glyphicon-floppy-save:before {
  content: "\e175";
}
.glyphicon-floppy-open:before {
  content: "\e176";
}
.glyphicon-credit-card:before {
  content: "\e177";
}
.glyphicon-transfer:before {
  content: "\e178";
}
.glyphicon-cutlery:before {
  content: "\e179";
}
.glyphicon-header:before {
  content: "\e180";
}
.glyphicon-compressed:before {
  content: "\e181";
}
.glyphicon-earphone:before {
  content: "\e182";
}
.glyphicon-phone-alt:before {
  content: "\e183";
}
.glyphicon-tower:before {
  content: "\e184";
}
.glyphicon-stats:before {
  content: "\e185";
}
.glyphicon-sd-video:before {
  content: "\e186";
}
.glyphicon-hd-video:before {
  content: "\e187";
}
.glyphicon-subtitles:before {
  content: "\e188";
}
.glyphicon-sound-stereo:before {
  content: "\e189";
}
.glyphicon-sound-dolby:before {
  content: "\e190";
}
.glyphicon-sound-5-1:before {
  content: "\e191";
}
.glyphicon-sound-6-1:before {
  content: "\e192";
}
.glyphicon-sound-7-1:before {
  content: "\e193";
}
.glyphicon-copyright-mark:before {
  content: "\e194";
}
.glyphicon-registration-mark:before {
  content: "\e195";
}
.glyphicon-cloud-download:before {
  content: "\e197";
}
.glyphicon-cloud-upload:before {
  content: "\e198";
}
.glyphicon-tree-conifer:before {
  content: "\e199";
}
.glyphicon-tree-deciduous:before {
  content: "\e200";
}
.glyphicon-cd:before {
  content: "\e201";
}
.glyphicon-save-file:before {
  content: "\e202";
}
.glyphicon-open-file:before {
  content: "\e203";
}
.glyphicon-level-up:before {
  content: "\e204";
}
.glyphicon-copy:before {
  content: "\e205";
}
.glyphicon-paste:before {
  content: "\e206";
}
.glyphicon-alert:before {
  content: "\e209";
}
.glyphicon-equalizer:before {
  content: "\e210";
}
.glyphicon-king:before {
  content: "\e211";
}
.glyphicon-queen:before {
  content: "\e212";
}
.glyphicon-pawn:before {
  content: "\e213";
}
.glyphicon-bishop:before {
  content: "\e214";
}
.glyphicon-knight:before {
  content: "\e215";
}
.glyphicon-baby-formula:before {
  content: "\e216";
}
.glyphicon-tent:before {
  content: "\26fa";
}
.glyphicon-blackboard:before {
  content: "\e218";
}
.glyphicon-bed:before {
  content: "\e219";
}
.glyphicon-apple:before {
  content: "\f8ff";
}
.glyphicon-erase:before {
  content: "\e221";
}
.glyphicon-hourglass:before {
  content: "\231b";
}
.glyphicon-lamp:before {
  content: "\e223";
}
.glyphicon-duplicate:before {
  content: "\e224";
}
.glyphicon-piggy-bank:before {
  content: "\e225";
}
.glyphicon-scissors:before {
  content: "\e226";
}
.glyphicon-bitcoin:before {
  content: "\e227";
}
.glyphicon-btc:before {
  content: "\e227";
}
.glyphicon-xbt:before {
  content: "\e227";
}
.glyphicon-yen:before {
  content: "\00a5";
}
.glyphicon-jpy:before {
  content: "\00a5";
}
.glyphicon-ruble:before {
  content: "\20bd";
}
.glyphicon-rub:before {
  content: "\20bd";
}
.glyphicon-scale:before {
  content: "\e230";
}
.glyphicon-ice-lolly:before {
  content: "\e231";
}
.glyphicon-ice-lolly-tasted:before {
  content: "\e232";
}
.glyphicon-education:before {
  content: "\e233";
}
.glyphicon-option-horizontal:before {
  content: "\e234";
}
.glyphicon-option-vertical:before {
  content: "\e235";
}
.glyphicon-menu-hamburger:before {
  content: "\e236";
}
.glyphicon-modal-window:before {
  content: "\e237";
}
.glyphicon-oil:before {
  content: "\e238";
}
.glyphicon-grain:before {
  content: "\e239";
}
.glyphicon-sunglasses:before {
  content: "\e240";
}
.glyphicon-text-size:before {
  content: "\e241";
}
.glyphicon-text-color:before {
  content: "\e242";
}
.glyphicon-text-background:before {
  content: "\e243";
}
.glyphicon-object-align-top:before {
  content: "\e244";
}
.glyphicon-object-align-bottom:before {
  content: "\e245";
}
.glyphicon-object-align-horizontal:before {
  content: "\e246";
}
.glyphicon-object-align-left:before {
  content: "\e247";
}
.glyphicon-object-align-vertical:before {
  content: "\e248";
}
.glyphicon-object-align-right:before {
  content: "\e249";
}
.glyphicon-triangle-right:before {
  content: "\e250";
}
.glyphicon-triangle-left:before {
  content: "\e251";
}
.glyphicon-triangle-bottom:before {
  content: "\e252";
}
.glyphicon-triangle-top:before {
  content: "\e253";
}
.glyphicon-console:before {
  content: "\e254";
}
.glyphicon-superscript:before {
  content: "\e255";
}
.glyphicon-subscript:before {
  content: "\e256";
}
.glyphicon-menu-left:before {
  content: "\e257";
}
.glyphicon-menu-right:before {
  content: "\e258";
}
.glyphicon-menu-down:before {
  content: "\e259";
}
.glyphicon-menu-up:before {
  content: "\e260";
}
* {
  -webkit-box-sizing: border-box;
  -moz-box-sizing: border-box;
  box-sizing: border-box;
}
*:before,
*:after {
  -webkit-box-sizing: border-box;
  -moz-box-sizing: border-box;
  box-sizing: border-box;
}
html {
  font-size: 10px;
  -webkit-tap-highlight-color: rgba(0, 0, 0, 0);
}
body {
  font-family: "Helvetica Neue", Helvetica, Arial, sans-serif;
  font-size: 13px;
  line-height: 1.42857143;
  color: #000;
  background-color: #fff;
}
input,
button,
select,
textarea {
  font-family: inherit;
  font-size: inherit;
  line-height: inherit;
}
a {
  color: #337ab7;
  text-decoration: none;
}
a:hover,
a:focus {
  color: #23527c;
  text-decoration: underline;
}
a:focus {
  outline: 5px auto -webkit-focus-ring-color;
  outline-offset: -2px;
}
figure {
  margin: 0;
}
img {
  vertical-align: middle;
}
.img-responsive,
.thumbnail > img,
.thumbnail a > img,
.carousel-inner > .item > img,
.carousel-inner > .item > a > img {
  display: block;
  max-width: 100%;
  height: auto;
}
.img-rounded {
  border-radius: 3px;
}
.img-thumbnail {
  padding: 4px;
  line-height: 1.42857143;
  background-color: #fff;
  border: 1px solid #ddd;
  border-radius: 2px;
  -webkit-transition: all 0.2s ease-in-out;
  -o-transition: all 0.2s ease-in-out;
  transition: all 0.2s ease-in-out;
  display: inline-block;
  max-width: 100%;
  height: auto;
}
.img-circle {
  border-radius: 50%;
}
hr {
  margin-top: 18px;
  margin-bottom: 18px;
  border: 0;
  border-top: 1px solid #eeeeee;
}
.sr-only {
  position: absolute;
  width: 1px;
  height: 1px;
  margin: -1px;
  padding: 0;
  overflow: hidden;
  clip: rect(0, 0, 0, 0);
  border: 0;
}
.sr-only-focusable:active,
.sr-only-focusable:focus {
  position: static;
  width: auto;
  height: auto;
  margin: 0;
  overflow: visible;
  clip: auto;
}
[role="button"] {
  cursor: pointer;
}
h1,
h2,
h3,
h4,
h5,
h6,
.h1,
.h2,
.h3,
.h4,
.h5,
.h6 {
  font-family: inherit;
  font-weight: 500;
  line-height: 1.1;
  color: inherit;
}
h1 small,
h2 small,
h3 small,
h4 small,
h5 small,
h6 small,
.h1 small,
.h2 small,
.h3 small,
.h4 small,
.h5 small,
.h6 small,
h1 .small,
h2 .small,
h3 .small,
h4 .small,
h5 .small,
h6 .small,
.h1 .small,
.h2 .small,
.h3 .small,
.h4 .small,
.h5 .small,
.h6 .small {
  font-weight: normal;
  line-height: 1;
  color: #777777;
}
h1,
.h1,
h2,
.h2,
h3,
.h3 {
  margin-top: 18px;
  margin-bottom: 9px;
}
h1 small,
.h1 small,
h2 small,
.h2 small,
h3 small,
.h3 small,
h1 .small,
.h1 .small,
h2 .small,
.h2 .small,
h3 .small,
.h3 .small {
  font-size: 65%;
}
h4,
.h4,
h5,
.h5,
h6,
.h6 {
  margin-top: 9px;
  margin-bottom: 9px;
}
h4 small,
.h4 small,
h5 small,
.h5 small,
h6 small,
.h6 small,
h4 .small,
.h4 .small,
h5 .small,
.h5 .small,
h6 .small,
.h6 .small {
  font-size: 75%;
}
h1,
.h1 {
  font-size: 33px;
}
h2,
.h2 {
  font-size: 27px;
}
h3,
.h3 {
  font-size: 23px;
}
h4,
.h4 {
  font-size: 17px;
}
h5,
.h5 {
  font-size: 13px;
}
h6,
.h6 {
  font-size: 12px;
}
p {
  margin: 0 0 9px;
}
.lead {
  margin-bottom: 18px;
  font-size: 14px;
  font-weight: 300;
  line-height: 1.4;
}
@media (min-width: 768px) {
  .lead {
    font-size: 19.5px;
  }
}
small,
.small {
  font-size: 92%;
}
mark,
.mark {
  background-color: #fcf8e3;
  padding: .2em;
}
.text-left {
  text-align: left;
}
.text-right {
  text-align: right;
}
.text-center {
  text-align: center;
}
.text-justify {
  text-align: justify;
}
.text-nowrap {
  white-space: nowrap;
}
.text-lowercase {
  text-transform: lowercase;
}
.text-uppercase {
  text-transform: uppercase;
}
.text-capitalize {
  text-transform: capitalize;
}
.text-muted {
  color: #777777;
}
.text-primary {
  color: #337ab7;
}
a.text-primary:hover,
a.text-primary:focus {
  color: #286090;
}
.text-success {
  color: #3c763d;
}
a.text-success:hover,
a.text-success:focus {
  color: #2b542c;
}
.text-info {
  color: #31708f;
}
a.text-info:hover,
a.text-info:focus {
  color: #245269;
}
.text-warning {
  color: #8a6d3b;
}
a.text-warning:hover,
a.text-warning:focus {
  color: #66512c;
}
.text-danger {
  color: #a94442;
}
a.text-danger:hover,
a.text-danger:focus {
  color: #843534;
}
.bg-primary {
  color: #fff;
  background-color: #337ab7;
}
a.bg-primary:hover,
a.bg-primary:focus {
  background-color: #286090;
}
.bg-success {
  background-color: #dff0d8;
}
a.bg-success:hover,
a.bg-success:focus {
  background-color: #c1e2b3;
}
.bg-info {
  background-color: #d9edf7;
}
a.bg-info:hover,
a.bg-info:focus {
  background-color: #afd9ee;
}
.bg-warning {
  background-color: #fcf8e3;
}
a.bg-warning:hover,
a.bg-warning:focus {
  background-color: #f7ecb5;
}
.bg-danger {
  background-color: #f2dede;
}
a.bg-danger:hover,
a.bg-danger:focus {
  background-color: #e4b9b9;
}
.page-header {
  padding-bottom: 8px;
  margin: 36px 0 18px;
  border-bottom: 1px solid #eeeeee;
}
ul,
ol {
  margin-top: 0;
  margin-bottom: 9px;
}
ul ul,
ol ul,
ul ol,
ol ol {
  margin-bottom: 0;
}
.list-unstyled {
  padding-left: 0;
  list-style: none;
}
.list-inline {
  padding-left: 0;
  list-style: none;
  margin-left: -5px;
}
.list-inline > li {
  display: inline-block;
  padding-left: 5px;
  padding-right: 5px;
}
dl {
  margin-top: 0;
  margin-bottom: 18px;
}
dt,
dd {
  line-height: 1.42857143;
}
dt {
  font-weight: bold;
}
dd {
  margin-left: 0;
}
@media (min-width: 541px) {
  .dl-horizontal dt {
    float: left;
    width: 160px;
    clear: left;
    text-align: right;
    overflow: hidden;
    text-overflow: ellipsis;
    white-space: nowrap;
  }
  .dl-horizontal dd {
    margin-left: 180px;
  }
}
abbr[title],
abbr[data-original-title] {
  cursor: help;
  border-bottom: 1px dotted #777777;
}
.initialism {
  font-size: 90%;
  text-transform: uppercase;
}
blockquote {
  padding: 9px 18px;
  margin: 0 0 18px;
  font-size: inherit;
  border-left: 5px solid #eeeeee;
}
blockquote p:last-child,
blockquote ul:last-child,
blockquote ol:last-child {
  margin-bottom: 0;
}
blockquote footer,
blockquote small,
blockquote .small {
  display: block;
  font-size: 80%;
  line-height: 1.42857143;
  color: #777777;
}
blockquote footer:before,
blockquote small:before,
blockquote .small:before {
  content: '\2014 \00A0';
}
.blockquote-reverse,
blockquote.pull-right {
  padding-right: 15px;
  padding-left: 0;
  border-right: 5px solid #eeeeee;
  border-left: 0;
  text-align: right;
}
.blockquote-reverse footer:before,
blockquote.pull-right footer:before,
.blockquote-reverse small:before,
blockquote.pull-right small:before,
.blockquote-reverse .small:before,
blockquote.pull-right .small:before {
  content: '';
}
.blockquote-reverse footer:after,
blockquote.pull-right footer:after,
.blockquote-reverse small:after,
blockquote.pull-right small:after,
.blockquote-reverse .small:after,
blockquote.pull-right .small:after {
  content: '\00A0 \2014';
}
address {
  margin-bottom: 18px;
  font-style: normal;
  line-height: 1.42857143;
}
code,
kbd,
pre,
samp {
  font-family: monospace;
}
code {
  padding: 2px 4px;
  font-size: 90%;
  color: #c7254e;
  background-color: #f9f2f4;
  border-radius: 2px;
}
kbd {
  padding: 2px 4px;
  font-size: 90%;
  color: #888;
  background-color: transparent;
  border-radius: 1px;
  box-shadow: inset 0 -1px 0 rgba(0, 0, 0, 0.25);
}
kbd kbd {
  padding: 0;
  font-size: 100%;
  font-weight: bold;
  box-shadow: none;
}
pre {
  display: block;
  padding: 8.5px;
  margin: 0 0 9px;
  font-size: 12px;
  line-height: 1.42857143;
  word-break: break-all;
  word-wrap: break-word;
  color: #333333;
  background-color: #f5f5f5;
  border: 1px solid #ccc;
  border-radius: 2px;
}
pre code {
  padding: 0;
  font-size: inherit;
  color: inherit;
  white-space: pre-wrap;
  background-color: transparent;
  border-radius: 0;
}
.pre-scrollable {
  max-height: 340px;
  overflow-y: scroll;
}
.container {
  margin-right: auto;
  margin-left: auto;
  padding-left: 0px;
  padding-right: 0px;
}
@media (min-width: 768px) {
  .container {
    width: 768px;
  }
}
@media (min-width: 992px) {
  .container {
    width: 940px;
  }
}
@media (min-width: 1200px) {
  .container {
    width: 1140px;
  }
}
.container-fluid {
  margin-right: auto;
  margin-left: auto;
  padding-left: 0px;
  padding-right: 0px;
}
.row {
  margin-left: 0px;
  margin-right: 0px;
}
.col-xs-1, .col-sm-1, .col-md-1, .col-lg-1, .col-xs-2, .col-sm-2, .col-md-2, .col-lg-2, .col-xs-3, .col-sm-3, .col-md-3, .col-lg-3, .col-xs-4, .col-sm-4, .col-md-4, .col-lg-4, .col-xs-5, .col-sm-5, .col-md-5, .col-lg-5, .col-xs-6, .col-sm-6, .col-md-6, .col-lg-6, .col-xs-7, .col-sm-7, .col-md-7, .col-lg-7, .col-xs-8, .col-sm-8, .col-md-8, .col-lg-8, .col-xs-9, .col-sm-9, .col-md-9, .col-lg-9, .col-xs-10, .col-sm-10, .col-md-10, .col-lg-10, .col-xs-11, .col-sm-11, .col-md-11, .col-lg-11, .col-xs-12, .col-sm-12, .col-md-12, .col-lg-12 {
  position: relative;
  min-height: 1px;
  padding-left: 0px;
  padding-right: 0px;
}
.col-xs-1, .col-xs-2, .col-xs-3, .col-xs-4, .col-xs-5, .col-xs-6, .col-xs-7, .col-xs-8, .col-xs-9, .col-xs-10, .col-xs-11, .col-xs-12 {
  float: left;
}
.col-xs-12 {
  width: 100%;
}
.col-xs-11 {
  width: 91.66666667%;
}
.col-xs-10 {
  width: 83.33333333%;
}
.col-xs-9 {
  width: 75%;
}
.col-xs-8 {
  width: 66.66666667%;
}
.col-xs-7 {
  width: 58.33333333%;
}
.col-xs-6 {
  width: 50%;
}
.col-xs-5 {
  width: 41.66666667%;
}
.col-xs-4 {
  width: 33.33333333%;
}
.col-xs-3 {
  width: 25%;
}
.col-xs-2 {
  width: 16.66666667%;
}
.col-xs-1 {
  width: 8.33333333%;
}
.col-xs-pull-12 {
  right: 100%;
}
.col-xs-pull-11 {
  right: 91.66666667%;
}
.col-xs-pull-10 {
  right: 83.33333333%;
}
.col-xs-pull-9 {
  right: 75%;
}
.col-xs-pull-8 {
  right: 66.66666667%;
}
.col-xs-pull-7 {
  right: 58.33333333%;
}
.col-xs-pull-6 {
  right: 50%;
}
.col-xs-pull-5 {
  right: 41.66666667%;
}
.col-xs-pull-4 {
  right: 33.33333333%;
}
.col-xs-pull-3 {
  right: 25%;
}
.col-xs-pull-2 {
  right: 16.66666667%;
}
.col-xs-pull-1 {
  right: 8.33333333%;
}
.col-xs-pull-0 {
  right: auto;
}
.col-xs-push-12 {
  left: 100%;
}
.col-xs-push-11 {
  left: 91.66666667%;
}
.col-xs-push-10 {
  left: 83.33333333%;
}
.col-xs-push-9 {
  left: 75%;
}
.col-xs-push-8 {
  left: 66.66666667%;
}
.col-xs-push-7 {
  left: 58.33333333%;
}
.col-xs-push-6 {
  left: 50%;
}
.col-xs-push-5 {
  left: 41.66666667%;
}
.col-xs-push-4 {
  left: 33.33333333%;
}
.col-xs-push-3 {
  left: 25%;
}
.col-xs-push-2 {
  left: 16.66666667%;
}
.col-xs-push-1 {
  left: 8.33333333%;
}
.col-xs-push-0 {
  left: auto;
}
.col-xs-offset-12 {
  margin-left: 100%;
}
.col-xs-offset-11 {
  margin-left: 91.66666667%;
}
.col-xs-offset-10 {
  margin-left: 83.33333333%;
}
.col-xs-offset-9 {
  margin-left: 75%;
}
.col-xs-offset-8 {
  margin-left: 66.66666667%;
}
.col-xs-offset-7 {
  margin-left: 58.33333333%;
}
.col-xs-offset-6 {
  margin-left: 50%;
}
.col-xs-offset-5 {
  margin-left: 41.66666667%;
}
.col-xs-offset-4 {
  margin-left: 33.33333333%;
}
.col-xs-offset-3 {
  margin-left: 25%;
}
.col-xs-offset-2 {
  margin-left: 16.66666667%;
}
.col-xs-offset-1 {
  margin-left: 8.33333333%;
}
.col-xs-offset-0 {
  margin-left: 0%;
}
@media (min-width: 768px) {
  .col-sm-1, .col-sm-2, .col-sm-3, .col-sm-4, .col-sm-5, .col-sm-6, .col-sm-7, .col-sm-8, .col-sm-9, .col-sm-10, .col-sm-11, .col-sm-12 {
    float: left;
  }
  .col-sm-12 {
    width: 100%;
  }
  .col-sm-11 {
    width: 91.66666667%;
  }
  .col-sm-10 {
    width: 83.33333333%;
  }
  .col-sm-9 {
    width: 75%;
  }
  .col-sm-8 {
    width: 66.66666667%;
  }
  .col-sm-7 {
    width: 58.33333333%;
  }
  .col-sm-6 {
    width: 50%;
  }
  .col-sm-5 {
    width: 41.66666667%;
  }
  .col-sm-4 {
    width: 33.33333333%;
  }
  .col-sm-3 {
    width: 25%;
  }
  .col-sm-2 {
    width: 16.66666667%;
  }
  .col-sm-1 {
    width: 8.33333333%;
  }
  .col-sm-pull-12 {
    right: 100%;
  }
  .col-sm-pull-11 {
    right: 91.66666667%;
  }
  .col-sm-pull-10 {
    right: 83.33333333%;
  }
  .col-sm-pull-9 {
    right: 75%;
  }
  .col-sm-pull-8 {
    right: 66.66666667%;
  }
  .col-sm-pull-7 {
    right: 58.33333333%;
  }
  .col-sm-pull-6 {
    right: 50%;
  }
  .col-sm-pull-5 {
    right: 41.66666667%;
  }
  .col-sm-pull-4 {
    right: 33.33333333%;
  }
  .col-sm-pull-3 {
    right: 25%;
  }
  .col-sm-pull-2 {
    right: 16.66666667%;
  }
  .col-sm-pull-1 {
    right: 8.33333333%;
  }
  .col-sm-pull-0 {
    right: auto;
  }
  .col-sm-push-12 {
    left: 100%;
  }
  .col-sm-push-11 {
    left: 91.66666667%;
  }
  .col-sm-push-10 {
    left: 83.33333333%;
  }
  .col-sm-push-9 {
    left: 75%;
  }
  .col-sm-push-8 {
    left: 66.66666667%;
  }
  .col-sm-push-7 {
    left: 58.33333333%;
  }
  .col-sm-push-6 {
    left: 50%;
  }
  .col-sm-push-5 {
    left: 41.66666667%;
  }
  .col-sm-push-4 {
    left: 33.33333333%;
  }
  .col-sm-push-3 {
    left: 25%;
  }
  .col-sm-push-2 {
    left: 16.66666667%;
  }
  .col-sm-push-1 {
    left: 8.33333333%;
  }
  .col-sm-push-0 {
    left: auto;
  }
  .col-sm-offset-12 {
    margin-left: 100%;
  }
  .col-sm-offset-11 {
    margin-left: 91.66666667%;
  }
  .col-sm-offset-10 {
    margin-left: 83.33333333%;
  }
  .col-sm-offset-9 {
    margin-left: 75%;
  }
  .col-sm-offset-8 {
    margin-left: 66.66666667%;
  }
  .col-sm-offset-7 {
    margin-left: 58.33333333%;
  }
  .col-sm-offset-6 {
    margin-left: 50%;
  }
  .col-sm-offset-5 {
    margin-left: 41.66666667%;
  }
  .col-sm-offset-4 {
    margin-left: 33.33333333%;
  }
  .col-sm-offset-3 {
    margin-left: 25%;
  }
  .col-sm-offset-2 {
    margin-left: 16.66666667%;
  }
  .col-sm-offset-1 {
    margin-left: 8.33333333%;
  }
  .col-sm-offset-0 {
    margin-left: 0%;
  }
}
@media (min-width: 992px) {
  .col-md-1, .col-md-2, .col-md-3, .col-md-4, .col-md-5, .col-md-6, .col-md-7, .col-md-8, .col-md-9, .col-md-10, .col-md-11, .col-md-12 {
    float: left;
  }
  .col-md-12 {
    width: 100%;
  }
  .col-md-11 {
    width: 91.66666667%;
  }
  .col-md-10 {
    width: 83.33333333%;
  }
  .col-md-9 {
    width: 75%;
  }
  .col-md-8 {
    width: 66.66666667%;
  }
  .col-md-7 {
    width: 58.33333333%;
  }
  .col-md-6 {
    width: 50%;
  }
  .col-md-5 {
    width: 41.66666667%;
  }
  .col-md-4 {
    width: 33.33333333%;
  }
  .col-md-3 {
    width: 25%;
  }
  .col-md-2 {
    width: 16.66666667%;
  }
  .col-md-1 {
    width: 8.33333333%;
  }
  .col-md-pull-12 {
    right: 100%;
  }
  .col-md-pull-11 {
    right: 91.66666667%;
  }
  .col-md-pull-10 {
    right: 83.33333333%;
  }
  .col-md-pull-9 {
    right: 75%;
  }
  .col-md-pull-8 {
    right: 66.66666667%;
  }
  .col-md-pull-7 {
    right: 58.33333333%;
  }
  .col-md-pull-6 {
    right: 50%;
  }
  .col-md-pull-5 {
    right: 41.66666667%;
  }
  .col-md-pull-4 {
    right: 33.33333333%;
  }
  .col-md-pull-3 {
    right: 25%;
  }
  .col-md-pull-2 {
    right: 16.66666667%;
  }
  .col-md-pull-1 {
    right: 8.33333333%;
  }
  .col-md-pull-0 {
    right: auto;
  }
  .col-md-push-12 {
    left: 100%;
  }
  .col-md-push-11 {
    left: 91.66666667%;
  }
  .col-md-push-10 {
    left: 83.33333333%;
  }
  .col-md-push-9 {
    left: 75%;
  }
  .col-md-push-8 {
    left: 66.66666667%;
  }
  .col-md-push-7 {
    left: 58.33333333%;
  }
  .col-md-push-6 {
    left: 50%;
  }
  .col-md-push-5 {
    left: 41.66666667%;
  }
  .col-md-push-4 {
    left: 33.33333333%;
  }
  .col-md-push-3 {
    left: 25%;
  }
  .col-md-push-2 {
    left: 16.66666667%;
  }
  .col-md-push-1 {
    left: 8.33333333%;
  }
  .col-md-push-0 {
    left: auto;
  }
  .col-md-offset-12 {
    margin-left: 100%;
  }
  .col-md-offset-11 {
    margin-left: 91.66666667%;
  }
  .col-md-offset-10 {
    margin-left: 83.33333333%;
  }
  .col-md-offset-9 {
    margin-left: 75%;
  }
  .col-md-offset-8 {
    margin-left: 66.66666667%;
  }
  .col-md-offset-7 {
    margin-left: 58.33333333%;
  }
  .col-md-offset-6 {
    margin-left: 50%;
  }
  .col-md-offset-5 {
    margin-left: 41.66666667%;
  }
  .col-md-offset-4 {
    margin-left: 33.33333333%;
  }
  .col-md-offset-3 {
    margin-left: 25%;
  }
  .col-md-offset-2 {
    margin-left: 16.66666667%;
  }
  .col-md-offset-1 {
    margin-left: 8.33333333%;
  }
  .col-md-offset-0 {
    margin-left: 0%;
  }
}
@media (min-width: 1200px) {
  .col-lg-1, .col-lg-2, .col-lg-3, .col-lg-4, .col-lg-5, .col-lg-6, .col-lg-7, .col-lg-8, .col-lg-9, .col-lg-10, .col-lg-11, .col-lg-12 {
    float: left;
  }
  .col-lg-12 {
    width: 100%;
  }
  .col-lg-11 {
    width: 91.66666667%;
  }
  .col-lg-10 {
    width: 83.33333333%;
  }
  .col-lg-9 {
    width: 75%;
  }
  .col-lg-8 {
    width: 66.66666667%;
  }
  .col-lg-7 {
    width: 58.33333333%;
  }
  .col-lg-6 {
    width: 50%;
  }
  .col-lg-5 {
    width: 41.66666667%;
  }
  .col-lg-4 {
    width: 33.33333333%;
  }
  .col-lg-3 {
    width: 25%;
  }
  .col-lg-2 {
    width: 16.66666667%;
  }
  .col-lg-1 {
    width: 8.33333333%;
  }
  .col-lg-pull-12 {
    right: 100%;
  }
  .col-lg-pull-11 {
    right: 91.66666667%;
  }
  .col-lg-pull-10 {
    right: 83.33333333%;
  }
  .col-lg-pull-9 {
    right: 75%;
  }
  .col-lg-pull-8 {
    right: 66.66666667%;
  }
  .col-lg-pull-7 {
    right: 58.33333333%;
  }
  .col-lg-pull-6 {
    right: 50%;
  }
  .col-lg-pull-5 {
    right: 41.66666667%;
  }
  .col-lg-pull-4 {
    right: 33.33333333%;
  }
  .col-lg-pull-3 {
    right: 25%;
  }
  .col-lg-pull-2 {
    right: 16.66666667%;
  }
  .col-lg-pull-1 {
    right: 8.33333333%;
  }
  .col-lg-pull-0 {
    right: auto;
  }
  .col-lg-push-12 {
    left: 100%;
  }
  .col-lg-push-11 {
    left: 91.66666667%;
  }
  .col-lg-push-10 {
    left: 83.33333333%;
  }
  .col-lg-push-9 {
    left: 75%;
  }
  .col-lg-push-8 {
    left: 66.66666667%;
  }
  .col-lg-push-7 {
    left: 58.33333333%;
  }
  .col-lg-push-6 {
    left: 50%;
  }
  .col-lg-push-5 {
    left: 41.66666667%;
  }
  .col-lg-push-4 {
    left: 33.33333333%;
  }
  .col-lg-push-3 {
    left: 25%;
  }
  .col-lg-push-2 {
    left: 16.66666667%;
  }
  .col-lg-push-1 {
    left: 8.33333333%;
  }
  .col-lg-push-0 {
    left: auto;
  }
  .col-lg-offset-12 {
    margin-left: 100%;
  }
  .col-lg-offset-11 {
    margin-left: 91.66666667%;
  }
  .col-lg-offset-10 {
    margin-left: 83.33333333%;
  }
  .col-lg-offset-9 {
    margin-left: 75%;
  }
  .col-lg-offset-8 {
    margin-left: 66.66666667%;
  }
  .col-lg-offset-7 {
    margin-left: 58.33333333%;
  }
  .col-lg-offset-6 {
    margin-left: 50%;
  }
  .col-lg-offset-5 {
    margin-left: 41.66666667%;
  }
  .col-lg-offset-4 {
    margin-left: 33.33333333%;
  }
  .col-lg-offset-3 {
    margin-left: 25%;
  }
  .col-lg-offset-2 {
    margin-left: 16.66666667%;
  }
  .col-lg-offset-1 {
    margin-left: 8.33333333%;
  }
  .col-lg-offset-0 {
    margin-left: 0%;
  }
}
table {
  background-color: transparent;
}
caption {
  padding-top: 8px;
  padding-bottom: 8px;
  color: #777777;
  text-align: left;
}
th {
  text-align: left;
}
.table {
  width: 100%;
  max-width: 100%;
  margin-bottom: 18px;
}
.table > thead > tr > th,
.table > tbody > tr > th,
.table > tfoot > tr > th,
.table > thead > tr > td,
.table > tbody > tr > td,
.table > tfoot > tr > td {
  padding: 8px;
  line-height: 1.42857143;
  vertical-align: top;
  border-top: 1px solid #ddd;
}
.table > thead > tr > th {
  vertical-align: bottom;
  border-bottom: 2px solid #ddd;
}
.table > caption + thead > tr:first-child > th,
.table > colgroup + thead > tr:first-child > th,
.table > thead:first-child > tr:first-child > th,
.table > caption + thead > tr:first-child > td,
.table > colgroup + thead > tr:first-child > td,
.table > thead:first-child > tr:first-child > td {
  border-top: 0;
}
.table > tbody + tbody {
  border-top: 2px solid #ddd;
}
.table .table {
  background-color: #fff;
}
.table-condensed > thead > tr > th,
.table-condensed > tbody > tr > th,
.table-condensed > tfoot > tr > th,
.table-condensed > thead > tr > td,
.table-condensed > tbody > tr > td,
.table-condensed > tfoot > tr > td {
  padding: 5px;
}
.table-bordered {
  border: 1px solid #ddd;
}
.table-bordered > thead > tr > th,
.table-bordered > tbody > tr > th,
.table-bordered > tfoot > tr > th,
.table-bordered > thead > tr > td,
.table-bordered > tbody > tr > td,
.table-bordered > tfoot > tr > td {
  border: 1px solid #ddd;
}
.table-bordered > thead > tr > th,
.table-bordered > thead > tr > td {
  border-bottom-width: 2px;
}
.table-striped > tbody > tr:nth-of-type(odd) {
  background-color: #f9f9f9;
}
.table-hover > tbody > tr:hover {
  background-color: #f5f5f5;
}
table col[class*="col-"] {
  position: static;
  float: none;
  display: table-column;
}
table td[class*="col-"],
table th[class*="col-"] {
  position: static;
  float: none;
  display: table-cell;
}
.table > thead > tr > td.active,
.table > tbody > tr > td.active,
.table > tfoot > tr > td.active,
.table > thead > tr > th.active,
.table > tbody > tr > th.active,
.table > tfoot > tr > th.active,
.table > thead > tr.active > td,
.table > tbody > tr.active > td,
.table > tfoot > tr.active > td,
.table > thead > tr.active > th,
.table > tbody > tr.active > th,
.table > tfoot > tr.active > th {
  background-color: #f5f5f5;
}
.table-hover > tbody > tr > td.active:hover,
.table-hover > tbody > tr > th.active:hover,
.table-hover > tbody > tr.active:hover > td,
.table-hover > tbody > tr:hover > .active,
.table-hover > tbody > tr.active:hover > th {
  background-color: #e8e8e8;
}
.table > thead > tr > td.success,
.table > tbody > tr > td.success,
.table > tfoot > tr > td.success,
.table > thead > tr > th.success,
.table > tbody > tr > th.success,
.table > tfoot > tr > th.success,
.table > thead > tr.success > td,
.table > tbody > tr.success > td,
.table > tfoot > tr.success > td,
.table > thead > tr.success > th,
.table > tbody > tr.success > th,
.table > tfoot > tr.success > th {
  background-color: #dff0d8;
}
.table-hover > tbody > tr > td.success:hover,
.table-hover > tbody > tr > th.success:hover,
.table-hover > tbody > tr.success:hover > td,
.table-hover > tbody > tr:hover > .success,
.table-hover > tbody > tr.success:hover > th {
  background-color: #d0e9c6;
}
.table > thead > tr > td.info,
.table > tbody > tr > td.info,
.table > tfoot > tr > td.info,
.table > thead > tr > th.info,
.table > tbody > tr > th.info,
.table > tfoot > tr > th.info,
.table > thead > tr.info > td,
.table > tbody > tr.info > td,
.table > tfoot > tr.info > td,
.table > thead > tr.info > th,
.table > tbody > tr.info > th,
.table > tfoot > tr.info > th {
  background-color: #d9edf7;
}
.table-hover > tbody > tr > td.info:hover,
.table-hover > tbody > tr > th.info:hover,
.table-hover > tbody > tr.info:hover > td,
.table-hover > tbody > tr:hover > .info,
.table-hover > tbody > tr.info:hover > th {
  background-color: #c4e3f3;
}
.table > thead > tr > td.warning,
.table > tbody > tr > td.warning,
.table > tfoot > tr > td.warning,
.table > thead > tr > th.warning,
.table > tbody > tr > th.warning,
.table > tfoot > tr > th.warning,
.table > thead > tr.warning > td,
.table > tbody > tr.warning > td,
.table > tfoot > tr.warning > td,
.table > thead > tr.warning > th,
.table > tbody > tr.warning > th,
.table > tfoot > tr.warning > th {
  background-color: #fcf8e3;
}
.table-hover > tbody > tr > td.warning:hover,
.table-hover > tbody > tr > th.warning:hover,
.table-hover > tbody > tr.warning:hover > td,
.table-hover > tbody > tr:hover > .warning,
.table-hover > tbody > tr.warning:hover > th {
  background-color: #faf2cc;
}
.table > thead > tr > td.danger,
.table > tbody > tr > td.danger,
.table > tfoot > tr > td.danger,
.table > thead > tr > th.danger,
.table > tbody > tr > th.danger,
.table > tfoot > tr > th.danger,
.table > thead > tr.danger > td,
.table > tbody > tr.danger > td,
.table > tfoot > tr.danger > td,
.table > thead > tr.danger > th,
.table > tbody > tr.danger > th,
.table > tfoot > tr.danger > th {
  background-color: #f2dede;
}
.table-hover > tbody > tr > td.danger:hover,
.table-hover > tbody > tr > th.danger:hover,
.table-hover > tbody > tr.danger:hover > td,
.table-hover > tbody > tr:hover > .danger,
.table-hover > tbody > tr.danger:hover > th {
  background-color: #ebcccc;
}
.table-responsive {
  overflow-x: auto;
  min-height: 0.01%;
}
@media screen and (max-width: 767px) {
  .table-responsive {
    width: 100%;
    margin-bottom: 13.5px;
    overflow-y: hidden;
    -ms-overflow-style: -ms-autohiding-scrollbar;
    border: 1px solid #ddd;
  }
  .table-responsive > .table {
    margin-bottom: 0;
  }
  .table-responsive > .table > thead > tr > th,
  .table-responsive > .table > tbody > tr > th,
  .table-responsive > .table > tfoot > tr > th,
  .table-responsive > .table > thead > tr > td,
  .table-responsive > .table > tbody > tr > td,
  .table-responsive > .table > tfoot > tr > td {
    white-space: nowrap;
  }
  .table-responsive > .table-bordered {
    border: 0;
  }
  .table-responsive > .table-bordered > thead > tr > th:first-child,
  .table-responsive > .table-bordered > tbody > tr > th:first-child,
  .table-responsive > .table-bordered > tfoot > tr > th:first-child,
  .table-responsive > .table-bordered > thead > tr > td:first-child,
  .table-responsive > .table-bordered > tbody > tr > td:first-child,
  .table-responsive > .table-bordered > tfoot > tr > td:first-child {
    border-left: 0;
  }
  .table-responsive > .table-bordered > thead > tr > th:last-child,
  .table-responsive > .table-bordered > tbody > tr > th:last-child,
  .table-responsive > .table-bordered > tfoot > tr > th:last-child,
  .table-responsive > .table-bordered > thead > tr > td:last-child,
  .table-responsive > .table-bordered > tbody > tr > td:last-child,
  .table-responsive > .table-bordered > tfoot > tr > td:last-child {
    border-right: 0;
  }
  .table-responsive > .table-bordered > tbody > tr:last-child > th,
  .table-responsive > .table-bordered > tfoot > tr:last-child > th,
  .table-responsive > .table-bordered > tbody > tr:last-child > td,
  .table-responsive > .table-bordered > tfoot > tr:last-child > td {
    border-bottom: 0;
  }
}
fieldset {
  padding: 0;
  margin: 0;
  border: 0;
  min-width: 0;
}
legend {
  display: block;
  width: 100%;
  padding: 0;
  margin-bottom: 18px;
  font-size: 19.5px;
  line-height: inherit;
  color: #333333;
  border: 0;
  border-bottom: 1px solid #e5e5e5;
}
label {
  display: inline-block;
  max-width: 100%;
  margin-bottom: 5px;
  font-weight: bold;
}
input[type="search"] {
  -webkit-box-sizing: border-box;
  -moz-box-sizing: border-box;
  box-sizing: border-box;
}
input[type="radio"],
input[type="checkbox"] {
  margin: 4px 0 0;
  margin-top: 1px \9;
  line-height: normal;
}
input[type="file"] {
  display: block;
}
input[type="range"] {
  display: block;
  width: 100%;
}
select[multiple],
select[size] {
  height: auto;
}
input[type="file"]:focus,
input[type="radio"]:focus,
input[type="checkbox"]:focus {
  outline: 5px auto -webkit-focus-ring-color;
  outline-offset: -2px;
}
output {
  display: block;
  padding-top: 7px;
  font-size: 13px;
  line-height: 1.42857143;
  color: #555555;
}
.form-control {
  display: block;
  width: 100%;
  height: 32px;
  padding: 6px 12px;
  font-size: 13px;
  line-height: 1.42857143;
  color: #555555;
  background-color: #fff;
  background-image: none;
  border: 1px solid #ccc;
  border-radius: 2px;
  -webkit-box-shadow: inset 0 1px 1px rgba(0, 0, 0, 0.075);
  box-shadow: inset 0 1px 1px rgba(0, 0, 0, 0.075);
  -webkit-transition: border-color ease-in-out .15s, box-shadow ease-in-out .15s;
  -o-transition: border-color ease-in-out .15s, box-shadow ease-in-out .15s;
  transition: border-color ease-in-out .15s, box-shadow ease-in-out .15s;
}
.form-control:focus {
  border-color: #66afe9;
  outline: 0;
  -webkit-box-shadow: inset 0 1px 1px rgba(0,0,0,.075), 0 0 8px rgba(102, 175, 233, 0.6);
  box-shadow: inset 0 1px 1px rgba(0,0,0,.075), 0 0 8px rgba(102, 175, 233, 0.6);
}
.form-control::-moz-placeholder {
  color: #999;
  opacity: 1;
}
.form-control:-ms-input-placeholder {
  color: #999;
}
.form-control::-webkit-input-placeholder {
  color: #999;
}
.form-control::-ms-expand {
  border: 0;
  background-color: transparent;
}
.form-control[disabled],
.form-control[readonly],
fieldset[disabled] .form-control {
  background-color: #eeeeee;
  opacity: 1;
}
.form-control[disabled],
fieldset[disabled] .form-control {
  cursor: not-allowed;
}
textarea.form-control {
  height: auto;
}
input[type="search"] {
  -webkit-appearance: none;
}
@media screen and (-webkit-min-device-pixel-ratio: 0) {
  input[type="date"].form-control,
  input[type="time"].form-control,
  input[type="datetime-local"].form-control,
  input[type="month"].form-control {
    line-height: 32px;
  }
  input[type="date"].input-sm,
  input[type="time"].input-sm,
  input[type="datetime-local"].input-sm,
  input[type="month"].input-sm,
  .input-group-sm input[type="date"],
  .input-group-sm input[type="time"],
  .input-group-sm input[type="datetime-local"],
  .input-group-sm input[type="month"] {
    line-height: 30px;
  }
  input[type="date"].input-lg,
  input[type="time"].input-lg,
  input[type="datetime-local"].input-lg,
  input[type="month"].input-lg,
  .input-group-lg input[type="date"],
  .input-group-lg input[type="time"],
  .input-group-lg input[type="datetime-local"],
  .input-group-lg input[type="month"] {
    line-height: 45px;
  }
}
.form-group {
  margin-bottom: 15px;
}
.radio,
.checkbox {
  position: relative;
  display: block;
  margin-top: 10px;
  margin-bottom: 10px;
}
.radio label,
.checkbox label {
  min-height: 18px;
  padding-left: 20px;
  margin-bottom: 0;
  font-weight: normal;
  cursor: pointer;
}
.radio input[type="radio"],
.radio-inline input[type="radio"],
.checkbox input[type="checkbox"],
.checkbox-inline input[type="checkbox"] {
  position: absolute;
  margin-left: -20px;
  margin-top: 4px \9;
}
.radio + .radio,
.checkbox + .checkbox {
  margin-top: -5px;
}
.radio-inline,
.checkbox-inline {
  position: relative;
  display: inline-block;
  padding-left: 20px;
  margin-bottom: 0;
  vertical-align: middle;
  font-weight: normal;
  cursor: pointer;
}
.radio-inline + .radio-inline,
.checkbox-inline + .checkbox-inline {
  margin-top: 0;
  margin-left: 10px;
}
input[type="radio"][disabled],
input[type="checkbox"][disabled],
input[type="radio"].disabled,
input[type="checkbox"].disabled,
fieldset[disabled] input[type="radio"],
fieldset[disabled] input[type="checkbox"] {
  cursor: not-allowed;
}
.radio-inline.disabled,
.checkbox-inline.disabled,
fieldset[disabled] .radio-inline,
fieldset[disabled] .checkbox-inline {
  cursor: not-allowed;
}
.radio.disabled label,
.checkbox.disabled label,
fieldset[disabled] .radio label,
fieldset[disabled] .checkbox label {
  cursor: not-allowed;
}
.form-control-static {
  padding-top: 7px;
  padding-bottom: 7px;
  margin-bottom: 0;
  min-height: 31px;
}
.form-control-static.input-lg,
.form-control-static.input-sm {
  padding-left: 0;
  padding-right: 0;
}
.input-sm {
  height: 30px;
  padding: 5px 10px;
  font-size: 12px;
  line-height: 1.5;
  border-radius: 1px;
}
select.input-sm {
  height: 30px;
  line-height: 30px;
}
textarea.input-sm,
select[multiple].input-sm {
  height: auto;
}
.form-group-sm .form-control {
  height: 30px;
  padding: 5px 10px;
  font-size: 12px;
  line-height: 1.5;
  border-radius: 1px;
}
.form-group-sm select.form-control {
  height: 30px;
  line-height: 30px;
}
.form-group-sm textarea.form-control,
.form-group-sm select[multiple].form-control {
  height: auto;
}
.form-group-sm .form-control-static {
  height: 30px;
  min-height: 30px;
  padding: 6px 10px;
  font-size: 12px;
  line-height: 1.5;
}
.input-lg {
  height: 45px;
  padding: 10px 16px;
  font-size: 17px;
  line-height: 1.3333333;
  border-radius: 3px;
}
select.input-lg {
  height: 45px;
  line-height: 45px;
}
textarea.input-lg,
select[multiple].input-lg {
  height: auto;
}
.form-group-lg .form-control {
  height: 45px;
  padding: 10px 16px;
  font-size: 17px;
  line-height: 1.3333333;
  border-radius: 3px;
}
.form-group-lg select.form-control {
  height: 45px;
  line-height: 45px;
}
.form-group-lg textarea.form-control,
.form-group-lg select[multiple].form-control {
  height: auto;
}
.form-group-lg .form-control-static {
  height: 45px;
  min-height: 35px;
  padding: 11px 16px;
  font-size: 17px;
  line-height: 1.3333333;
}
.has-feedback {
  position: relative;
}
.has-feedback .form-control {
  padding-right: 40px;
}
.form-control-feedback {
  position: absolute;
  top: 0;
  right: 0;
  z-index: 2;
  display: block;
  width: 32px;
  height: 32px;
  line-height: 32px;
  text-align: center;
  pointer-events: none;
}
.input-lg + .form-control-feedback,
.input-group-lg + .form-control-feedback,
.form-group-lg .form-control + .form-control-feedback {
  width: 45px;
  height: 45px;
  line-height: 45px;
}
.input-sm + .form-control-feedback,
.input-group-sm + .form-control-feedback,
.form-group-sm .form-control + .form-control-feedback {
  width: 30px;
  height: 30px;
  line-height: 30px;
}
.has-success .help-block,
.has-success .control-label,
.has-success .radio,
.has-success .checkbox,
.has-success .radio-inline,
.has-success .checkbox-inline,
.has-success.radio label,
.has-success.checkbox label,
.has-success.radio-inline label,
.has-success.checkbox-inline label {
  color: #3c763d;
}
.has-success .form-control {
  border-color: #3c763d;
  -webkit-box-shadow: inset 0 1px 1px rgba(0, 0, 0, 0.075);
  box-shadow: inset 0 1px 1px rgba(0, 0, 0, 0.075);
}
.has-success .form-control:focus {
  border-color: #2b542c;
  -webkit-box-shadow: inset 0 1px 1px rgba(0, 0, 0, 0.075), 0 0 6px #67b168;
  box-shadow: inset 0 1px 1px rgba(0, 0, 0, 0.075), 0 0 6px #67b168;
}
.has-success .input-group-addon {
  color: #3c763d;
  border-color: #3c763d;
  background-color: #dff0d8;
}
.has-success .form-control-feedback {
  color: #3c763d;
}
.has-warning .help-block,
.has-warning .control-label,
.has-warning .radio,
.has-warning .checkbox,
.has-warning .radio-inline,
.has-warning .checkbox-inline,
.has-warning.radio label,
.has-warning.checkbox label,
.has-warning.radio-inline label,
.has-warning.checkbox-inline label {
  color: #8a6d3b;
}
.has-warning .form-control {
  border-color: #8a6d3b;
  -webkit-box-shadow: inset 0 1px 1px rgba(0, 0, 0, 0.075);
  box-shadow: inset 0 1px 1px rgba(0, 0, 0, 0.075);
}
.has-warning .form-control:focus {
  border-color: #66512c;
  -webkit-box-shadow: inset 0 1px 1px rgba(0, 0, 0, 0.075), 0 0 6px #c0a16b;
  box-shadow: inset 0 1px 1px rgba(0, 0, 0, 0.075), 0 0 6px #c0a16b;
}
.has-warning .input-group-addon {
  color: #8a6d3b;
  border-color: #8a6d3b;
  background-color: #fcf8e3;
}
.has-warning .form-control-feedback {
  color: #8a6d3b;
}
.has-error .help-block,
.has-error .control-label,
.has-error .radio,
.has-error .checkbox,
.has-error .radio-inline,
.has-error .checkbox-inline,
.has-error.radio label,
.has-error.checkbox label,
.has-error.radio-inline label,
.has-error.checkbox-inline label {
  color: #a94442;
}
.has-error .form-control {
  border-color: #a94442;
  -webkit-box-shadow: inset 0 1px 1px rgba(0, 0, 0, 0.075);
  box-shadow: inset 0 1px 1px rgba(0, 0, 0, 0.075);
}
.has-error .form-control:focus {
  border-color: #843534;
  -webkit-box-shadow: inset 0 1px 1px rgba(0, 0, 0, 0.075), 0 0 6px #ce8483;
  box-shadow: inset 0 1px 1px rgba(0, 0, 0, 0.075), 0 0 6px #ce8483;
}
.has-error .input-group-addon {
  color: #a94442;
  border-color: #a94442;
  background-color: #f2dede;
}
.has-error .form-control-feedback {
  color: #a94442;
}
.has-feedback label ~ .form-control-feedback {
  top: 23px;
}
.has-feedback label.sr-only ~ .form-control-feedback {
  top: 0;
}
.help-block {
  display: block;
  margin-top: 5px;
  margin-bottom: 10px;
  color: #404040;
}
@media (min-width: 768px) {
  .form-inline .form-group {
    display: inline-block;
    margin-bottom: 0;
    vertical-align: middle;
  }
  .form-inline .form-control {
    display: inline-block;
    width: auto;
    vertical-align: middle;
  }
  .form-inline .form-control-static {
    display: inline-block;
  }
  .form-inline .input-group {
    display: inline-table;
    vertical-align: middle;
  }
  .form-inline .input-group .input-group-addon,
  .form-inline .input-group .input-group-btn,
  .form-inline .input-group .form-control {
    width: auto;
  }
  .form-inline .input-group > .form-control {
    width: 100%;
  }
  .form-inline .control-label {
    margin-bottom: 0;
    vertical-align: middle;
  }
  .form-inline .radio,
  .form-inline .checkbox {
    display: inline-block;
    margin-top: 0;
    margin-bottom: 0;
    vertical-align: middle;
  }
  .form-inline .radio label,
  .form-inline .checkbox label {
    padding-left: 0;
  }
  .form-inline .radio input[type="radio"],
  .form-inline .checkbox input[type="checkbox"] {
    position: relative;
    margin-left: 0;
  }
  .form-inline .has-feedback .form-control-feedback {
    top: 0;
  }
}
.form-horizontal .radio,
.form-horizontal .checkbox,
.form-horizontal .radio-inline,
.form-horizontal .checkbox-inline {
  margin-top: 0;
  margin-bottom: 0;
  padding-top: 7px;
}
.form-horizontal .radio,
.form-horizontal .checkbox {
  min-height: 25px;
}
.form-horizontal .form-group {
  margin-left: 0px;
  margin-right: 0px;
}
@media (min-width: 768px) {
  .form-horizontal .control-label {
    text-align: right;
    margin-bottom: 0;
    padding-top: 7px;
  }
}
.form-horizontal .has-feedback .form-control-feedback {
  right: 0px;
}
@media (min-width: 768px) {
  .form-horizontal .form-group-lg .control-label {
    padding-top: 11px;
    font-size: 17px;
  }
}
@media (min-width: 768px) {
  .form-horizontal .form-group-sm .control-label {
    padding-top: 6px;
    font-size: 12px;
  }
}
.btn {
  display: inline-block;
  margin-bottom: 0;
  font-weight: normal;
  text-align: center;
  vertical-align: middle;
  touch-action: manipulation;
  cursor: pointer;
  background-image: none;
  border: 1px solid transparent;
  white-space: nowrap;
  padding: 6px 12px;
  font-size: 13px;
  line-height: 1.42857143;
  border-radius: 2px;
  -webkit-user-select: none;
  -moz-user-select: none;
  -ms-user-select: none;
  user-select: none;
}
.btn:focus,
.btn:active:focus,
.btn.active:focus,
.btn.focus,
.btn:active.focus,
.btn.active.focus {
  outline: 5px auto -webkit-focus-ring-color;
  outline-offset: -2px;
}
.btn:hover,
.btn:focus,
.btn.focus {
  color: #333;
  text-decoration: none;
}
.btn:active,
.btn.active {
  outline: 0;
  background-image: none;
  -webkit-box-shadow: inset 0 3px 5px rgba(0, 0, 0, 0.125);
  box-shadow: inset 0 3px 5px rgba(0, 0, 0, 0.125);
}
.btn.disabled,
.btn[disabled],
fieldset[disabled] .btn {
  cursor: not-allowed;
  opacity: 0.65;
  filter: alpha(opacity=65);
  -webkit-box-shadow: none;
  box-shadow: none;
}
a.btn.disabled,
fieldset[disabled] a.btn {
  pointer-events: none;
}
.btn-default {
  color: #333;
  background-color: #fff;
  border-color: #ccc;
}
.btn-default:focus,
.btn-default.focus {
  color: #333;
  background-color: #e6e6e6;
  border-color: #8c8c8c;
}
.btn-default:hover {
  color: #333;
  background-color: #e6e6e6;
  border-color: #adadad;
}
.btn-default:active,
.btn-default.active,
.open > .dropdown-toggle.btn-default {
  color: #333;
  background-color: #e6e6e6;
  border-color: #adadad;
}
.btn-default:active:hover,
.btn-default.active:hover,
.open > .dropdown-toggle.btn-default:hover,
.btn-default:active:focus,
.btn-default.active:focus,
.open > .dropdown-toggle.btn-default:focus,
.btn-default:active.focus,
.btn-default.active.focus,
.open > .dropdown-toggle.btn-default.focus {
  color: #333;
  background-color: #d4d4d4;
  border-color: #8c8c8c;
}
.btn-default:active,
.btn-default.active,
.open > .dropdown-toggle.btn-default {
  background-image: none;
}
.btn-default.disabled:hover,
.btn-default[disabled]:hover,
fieldset[disabled] .btn-default:hover,
.btn-default.disabled:focus,
.btn-default[disabled]:focus,
fieldset[disabled] .btn-default:focus,
.btn-default.disabled.focus,
.btn-default[disabled].focus,
fieldset[disabled] .btn-default.focus {
  background-color: #fff;
  border-color: #ccc;
}
.btn-default .badge {
  color: #fff;
  background-color: #333;
}
.btn-primary {
  color: #fff;
  background-color: #337ab7;
  border-color: #2e6da4;
}
.btn-primary:focus,
.btn-primary.focus {
  color: #fff;
  background-color: #286090;
  border-color: #122b40;
}
.btn-primary:hover {
  color: #fff;
  background-color: #286090;
  border-color: #204d74;
}
.btn-primary:active,
.btn-primary.active,
.open > .dropdown-toggle.btn-primary {
  color: #fff;
  background-color: #286090;
  border-color: #204d74;
}
.btn-primary:active:hover,
.btn-primary.active:hover,
.open > .dropdown-toggle.btn-primary:hover,
.btn-primary:active:focus,
.btn-primary.active:focus,
.open > .dropdown-toggle.btn-primary:focus,
.btn-primary:active.focus,
.btn-primary.active.focus,
.open > .dropdown-toggle.btn-primary.focus {
  color: #fff;
  background-color: #204d74;
  border-color: #122b40;
}
.btn-primary:active,
.btn-primary.active,
.open > .dropdown-toggle.btn-primary {
  background-image: none;
}
.btn-primary.disabled:hover,
.btn-primary[disabled]:hover,
fieldset[disabled] .btn-primary:hover,
.btn-primary.disabled:focus,
.btn-primary[disabled]:focus,
fieldset[disabled] .btn-primary:focus,
.btn-primary.disabled.focus,
.btn-primary[disabled].focus,
fieldset[disabled] .btn-primary.focus {
  background-color: #337ab7;
  border-color: #2e6da4;
}
.btn-primary .badge {
  color: #337ab7;
  background-color: #fff;
}
.btn-success {
  color: #fff;
  background-color: #5cb85c;
  border-color: #4cae4c;
}
.btn-success:focus,
.btn-success.focus {
  color: #fff;
  background-color: #449d44;
  border-color: #255625;
}
.btn-success:hover {
  color: #fff;
  background-color: #449d44;
  border-color: #398439;
}
.btn-success:active,
.btn-success.active,
.open > .dropdown-toggle.btn-success {
  color: #fff;
  background-color: #449d44;
  border-color: #398439;
}
.btn-success:active:hover,
.btn-success.active:hover,
.open > .dropdown-toggle.btn-success:hover,
.btn-success:active:focus,
.btn-success.active:focus,
.open > .dropdown-toggle.btn-success:focus,
.btn-success:active.focus,
.btn-success.active.focus,
.open > .dropdown-toggle.btn-success.focus {
  color: #fff;
  background-color: #398439;
  border-color: #255625;
}
.btn-success:active,
.btn-success.active,
.open > .dropdown-toggle.btn-success {
  background-image: none;
}
.btn-success.disabled:hover,
.btn-success[disabled]:hover,
fieldset[disabled] .btn-success:hover,
.btn-success.disabled:focus,
.btn-success[disabled]:focus,
fieldset[disabled] .btn-success:focus,
.btn-success.disabled.focus,
.btn-success[disabled].focus,
fieldset[disabled] .btn-success.focus {
  background-color: #5cb85c;
  border-color: #4cae4c;
}
.btn-success .badge {
  color: #5cb85c;
  background-color: #fff;
}
.btn-info {
  color: #fff;
  background-color: #5bc0de;
  border-color: #46b8da;
}
.btn-info:focus,
.btn-info.focus {
  color: #fff;
  background-color: #31b0d5;
  border-color: #1b6d85;
}
.btn-info:hover {
  color: #fff;
  background-color: #31b0d5;
  border-color: #269abc;
}
.btn-info:active,
.btn-info.active,
.open > .dropdown-toggle.btn-info {
  color: #fff;
  background-color: #31b0d5;
  border-color: #269abc;
}
.btn-info:active:hover,
.btn-info.active:hover,
.open > .dropdown-toggle.btn-info:hover,
.btn-info:active:focus,
.btn-info.active:focus,
.open > .dropdown-toggle.btn-info:focus,
.btn-info:active.focus,
.btn-info.active.focus,
.open > .dropdown-toggle.btn-info.focus {
  color: #fff;
  background-color: #269abc;
  border-color: #1b6d85;
}
.btn-info:active,
.btn-info.active,
.open > .dropdown-toggle.btn-info {
  background-image: none;
}
.btn-info.disabled:hover,
.btn-info[disabled]:hover,
fieldset[disabled] .btn-info:hover,
.btn-info.disabled:focus,
.btn-info[disabled]:focus,
fieldset[disabled] .btn-info:focus,
.btn-info.disabled.focus,
.btn-info[disabled].focus,
fieldset[disabled] .btn-info.focus {
  background-color: #5bc0de;
  border-color: #46b8da;
}
.btn-info .badge {
  color: #5bc0de;
  background-color: #fff;
}
.btn-warning {
  color: #fff;
  background-color: #f0ad4e;
  border-color: #eea236;
}
.btn-warning:focus,
.btn-warning.focus {
  color: #fff;
  background-color: #ec971f;
  border-color: #985f0d;
}
.btn-warning:hover {
  color: #fff;
  background-color: #ec971f;
  border-color: #d58512;
}
.btn-warning:active,
.btn-warning.active,
.open > .dropdown-toggle.btn-warning {
  color: #fff;
  background-color: #ec971f;
  border-color: #d58512;
}
.btn-warning:active:hover,
.btn-warning.active:hover,
.open > .dropdown-toggle.btn-warning:hover,
.btn-warning:active:focus,
.btn-warning.active:focus,
.open > .dropdown-toggle.btn-warning:focus,
.btn-warning:active.focus,
.btn-warning.active.focus,
.open > .dropdown-toggle.btn-warning.focus {
  color: #fff;
  background-color: #d58512;
  border-color: #985f0d;
}
.btn-warning:active,
.btn-warning.active,
.open > .dropdown-toggle.btn-warning {
  background-image: none;
}
.btn-warning.disabled:hover,
.btn-warning[disabled]:hover,
fieldset[disabled] .btn-warning:hover,
.btn-warning.disabled:focus,
.btn-warning[disabled]:focus,
fieldset[disabled] .btn-warning:focus,
.btn-warning.disabled.focus,
.btn-warning[disabled].focus,
fieldset[disabled] .btn-warning.focus {
  background-color: #f0ad4e;
  border-color: #eea236;
}
.btn-warning .badge {
  color: #f0ad4e;
  background-color: #fff;
}
.btn-danger {
  color: #fff;
  background-color: #d9534f;
  border-color: #d43f3a;
}
.btn-danger:focus,
.btn-danger.focus {
  color: #fff;
  background-color: #c9302c;
  border-color: #761c19;
}
.btn-danger:hover {
  color: #fff;
  background-color: #c9302c;
  border-color: #ac2925;
}
.btn-danger:active,
.btn-danger.active,
.open > .dropdown-toggle.btn-danger {
  color: #fff;
  background-color: #c9302c;
  border-color: #ac2925;
}
.btn-danger:active:hover,
.btn-danger.active:hover,
.open > .dropdown-toggle.btn-danger:hover,
.btn-danger:active:focus,
.btn-danger.active:focus,
.open > .dropdown-toggle.btn-danger:focus,
.btn-danger:active.focus,
.btn-danger.active.focus,
.open > .dropdown-toggle.btn-danger.focus {
  color: #fff;
  background-color: #ac2925;
  border-color: #761c19;
}
.btn-danger:active,
.btn-danger.active,
.open > .dropdown-toggle.btn-danger {
  background-image: none;
}
.btn-danger.disabled:hover,
.btn-danger[disabled]:hover,
fieldset[disabled] .btn-danger:hover,
.btn-danger.disabled:focus,
.btn-danger[disabled]:focus,
fieldset[disabled] .btn-danger:focus,
.btn-danger.disabled.focus,
.btn-danger[disabled].focus,
fieldset[disabled] .btn-danger.focus {
  background-color: #d9534f;
  border-color: #d43f3a;
}
.btn-danger .badge {
  color: #d9534f;
  background-color: #fff;
}
.btn-link {
  color: #337ab7;
  font-weight: normal;
  border-radius: 0;
}
.btn-link,
.btn-link:active,
.btn-link.active,
.btn-link[disabled],
fieldset[disabled] .btn-link {
  background-color: transparent;
  -webkit-box-shadow: none;
  box-shadow: none;
}
.btn-link,
.btn-link:hover,
.btn-link:focus,
.btn-link:active {
  border-color: transparent;
}
.btn-link:hover,
.btn-link:focus {
  color: #23527c;
  text-decoration: underline;
  background-color: transparent;
}
.btn-link[disabled]:hover,
fieldset[disabled] .btn-link:hover,
.btn-link[disabled]:focus,
fieldset[disabled] .btn-link:focus {
  color: #777777;
  text-decoration: none;
}
.btn-lg,
.btn-group-lg > .btn {
  padding: 10px 16px;
  font-size: 17px;
  line-height: 1.3333333;
  border-radius: 3px;
}
.btn-sm,
.btn-group-sm > .btn {
  padding: 5px 10px;
  font-size: 12px;
  line-height: 1.5;
  border-radius: 1px;
}
.btn-xs,
.btn-group-xs > .btn {
  padding: 1px 5px;
  font-size: 12px;
  line-height: 1.5;
  border-radius: 1px;
}
.btn-block {
  display: block;
  width: 100%;
}
.btn-block + .btn-block {
  margin-top: 5px;
}
input[type="submit"].btn-block,
input[type="reset"].btn-block,
input[type="button"].btn-block {
  width: 100%;
}
.fade {
  opacity: 0;
  -webkit-transition: opacity 0.15s linear;
  -o-transition: opacity 0.15s linear;
  transition: opacity 0.15s linear;
}
.fade.in {
  opacity: 1;
}
.collapse {
  display: none;
}
.collapse.in {
  display: block;
}
tr.collapse.in {
  display: table-row;
}
tbody.collapse.in {
  display: table-row-group;
}
.collapsing {
  position: relative;
  height: 0;
  overflow: hidden;
  -webkit-transition-property: height, visibility;
  transition-property: height, visibility;
  -webkit-transition-duration: 0.35s;
  transition-duration: 0.35s;
  -webkit-transition-timing-function: ease;
  transition-timing-function: ease;
}
.caret {
  display: inline-block;
  width: 0;
  height: 0;
  margin-left: 2px;
  vertical-align: middle;
  border-top: 4px dashed;
  border-top: 4px solid \9;
  border-right: 4px solid transparent;
  border-left: 4px solid transparent;
}
.dropup,
.dropdown {
  position: relative;
}
.dropdown-toggle:focus {
  outline: 0;
}
.dropdown-menu {
  position: absolute;
  top: 100%;
  left: 0;
  z-index: 1000;
  display: none;
  float: left;
  min-width: 160px;
  padding: 5px 0;
  margin: 2px 0 0;
  list-style: none;
  font-size: 13px;
  text-align: left;
  background-color: #fff;
  border: 1px solid #ccc;
  border: 1px solid rgba(0, 0, 0, 0.15);
  border-radius: 2px;
  -webkit-box-shadow: 0 6px 12px rgba(0, 0, 0, 0.175);
  box-shadow: 0 6px 12px rgba(0, 0, 0, 0.175);
  background-clip: padding-box;
}
.dropdown-menu.pull-right {
  right: 0;
  left: auto;
}
.dropdown-menu .divider {
  height: 1px;
  margin: 8px 0;
  overflow: hidden;
  background-color: #e5e5e5;
}
.dropdown-menu > li > a {
  display: block;
  padding: 3px 20px;
  clear: both;
  font-weight: normal;
  line-height: 1.42857143;
  color: #333333;
  white-space: nowrap;
}
.dropdown-menu > li > a:hover,
.dropdown-menu > li > a:focus {
  text-decoration: none;
  color: #262626;
  background-color: #f5f5f5;
}
.dropdown-menu > .active > a,
.dropdown-menu > .active > a:hover,
.dropdown-menu > .active > a:focus {
  color: #fff;
  text-decoration: none;
  outline: 0;
  background-color: #337ab7;
}
.dropdown-menu > .disabled > a,
.dropdown-menu > .disabled > a:hover,
.dropdown-menu > .disabled > a:focus {
  color: #777777;
}
.dropdown-menu > .disabled > a:hover,
.dropdown-menu > .disabled > a:focus {
  text-decoration: none;
  background-color: transparent;
  background-image: none;
  filter: progid:DXImageTransform.Microsoft.gradient(enabled = false);
  cursor: not-allowed;
}
.open > .dropdown-menu {
  display: block;
}
.open > a {
  outline: 0;
}
.dropdown-menu-right {
  left: auto;
  right: 0;
}
.dropdown-menu-left {
  left: 0;
  right: auto;
}
.dropdown-header {
  display: block;
  padding: 3px 20px;
  font-size: 12px;
  line-height: 1.42857143;
  color: #777777;
  white-space: nowrap;
}
.dropdown-backdrop {
  position: fixed;
  left: 0;
  right: 0;
  bottom: 0;
  top: 0;
  z-index: 990;
}
.pull-right > .dropdown-menu {
  right: 0;
  left: auto;
}
.dropup .caret,
.navbar-fixed-bottom .dropdown .caret {
  border-top: 0;
  border-bottom: 4px dashed;
  border-bottom: 4px solid \9;
  content: "";
}
.dropup .dropdown-menu,
.navbar-fixed-bottom .dropdown .dropdown-menu {
  top: auto;
  bottom: 100%;
  margin-bottom: 2px;
}
@media (min-width: 541px) {
  .navbar-right .dropdown-menu {
    left: auto;
    right: 0;
  }
  .navbar-right .dropdown-menu-left {
    left: 0;
    right: auto;
  }
}
.btn-group,
.btn-group-vertical {
  position: relative;
  display: inline-block;
  vertical-align: middle;
}
.btn-group > .btn,
.btn-group-vertical > .btn {
  position: relative;
  float: left;
}
.btn-group > .btn:hover,
.btn-group-vertical > .btn:hover,
.btn-group > .btn:focus,
.btn-group-vertical > .btn:focus,
.btn-group > .btn:active,
.btn-group-vertical > .btn:active,
.btn-group > .btn.active,
.btn-group-vertical > .btn.active {
  z-index: 2;
}
.btn-group .btn + .btn,
.btn-group .btn + .btn-group,
.btn-group .btn-group + .btn,
.btn-group .btn-group + .btn-group {
  margin-left: -1px;
}
.btn-toolbar {
  margin-left: -5px;
}
.btn-toolbar .btn,
.btn-toolbar .btn-group,
.btn-toolbar .input-group {
  float: left;
}
.btn-toolbar > .btn,
.btn-toolbar > .btn-group,
.btn-toolbar > .input-group {
  margin-left: 5px;
}
.btn-group > .btn:not(:first-child):not(:last-child):not(.dropdown-toggle) {
  border-radius: 0;
}
.btn-group > .btn:first-child {
  margin-left: 0;
}
.btn-group > .btn:first-child:not(:last-child):not(.dropdown-toggle) {
  border-bottom-right-radius: 0;
  border-top-right-radius: 0;
}
.btn-group > .btn:last-child:not(:first-child),
.btn-group > .dropdown-toggle:not(:first-child) {
  border-bottom-left-radius: 0;
  border-top-left-radius: 0;
}
.btn-group > .btn-group {
  float: left;
}
.btn-group > .btn-group:not(:first-child):not(:last-child) > .btn {
  border-radius: 0;
}
.btn-group > .btn-group:first-child:not(:last-child) > .btn:last-child,
.btn-group > .btn-group:first-child:not(:last-child) > .dropdown-toggle {
  border-bottom-right-radius: 0;
  border-top-right-radius: 0;
}
.btn-group > .btn-group:last-child:not(:first-child) > .btn:first-child {
  border-bottom-left-radius: 0;
  border-top-left-radius: 0;
}
.btn-group .dropdown-toggle:active,
.btn-group.open .dropdown-toggle {
  outline: 0;
}
.btn-group > .btn + .dropdown-toggle {
  padding-left: 8px;
  padding-right: 8px;
}
.btn-group > .btn-lg + .dropdown-toggle {
  padding-left: 12px;
  padding-right: 12px;
}
.btn-group.open .dropdown-toggle {
  -webkit-box-shadow: inset 0 3px 5px rgba(0, 0, 0, 0.125);
  box-shadow: inset 0 3px 5px rgba(0, 0, 0, 0.125);
}
.btn-group.open .dropdown-toggle.btn-link {
  -webkit-box-shadow: none;
  box-shadow: none;
}
.btn .caret {
  margin-left: 0;
}
.btn-lg .caret {
  border-width: 5px 5px 0;
  border-bottom-width: 0;
}
.dropup .btn-lg .caret {
  border-width: 0 5px 5px;
}
.btn-group-vertical > .btn,
.btn-group-vertical > .btn-group,
.btn-group-vertical > .btn-group > .btn {
  display: block;
  float: none;
  width: 100%;
  max-width: 100%;
}
.btn-group-vertical > .btn-group > .btn {
  float: none;
}
.btn-group-vertical > .btn + .btn,
.btn-group-vertical > .btn + .btn-group,
.btn-group-vertical > .btn-group + .btn,
.btn-group-vertical > .btn-group + .btn-group {
  margin-top: -1px;
  margin-left: 0;
}
.btn-group-vertical > .btn:not(:first-child):not(:last-child) {
  border-radius: 0;
}
.btn-group-vertical > .btn:first-child:not(:last-child) {
  border-top-right-radius: 2px;
  border-top-left-radius: 2px;
  border-bottom-right-radius: 0;
  border-bottom-left-radius: 0;
}
.btn-group-vertical > .btn:last-child:not(:first-child) {
  border-top-right-radius: 0;
  border-top-left-radius: 0;
  border-bottom-right-radius: 2px;
  border-bottom-left-radius: 2px;
}
.btn-group-vertical > .btn-group:not(:first-child):not(:last-child) > .btn {
  border-radius: 0;
}
.btn-group-vertical > .btn-group:first-child:not(:last-child) > .btn:last-child,
.btn-group-vertical > .btn-group:first-child:not(:last-child) > .dropdown-toggle {
  border-bottom-right-radius: 0;
  border-bottom-left-radius: 0;
}
.btn-group-vertical > .btn-group:last-child:not(:first-child) > .btn:first-child {
  border-top-right-radius: 0;
  border-top-left-radius: 0;
}
.btn-group-justified {
  display: table;
  width: 100%;
  table-layout: fixed;
  border-collapse: separate;
}
.btn-group-justified > .btn,
.btn-group-justified > .btn-group {
  float: none;
  display: table-cell;
  width: 1%;
}
.btn-group-justified > .btn-group .btn {
  width: 100%;
}
.btn-group-justified > .btn-group .dropdown-menu {
  left: auto;
}
[data-toggle="buttons"] > .btn input[type="radio"],
[data-toggle="buttons"] > .btn-group > .btn input[type="radio"],
[data-toggle="buttons"] > .btn input[type="checkbox"],
[data-toggle="buttons"] > .btn-group > .btn input[type="checkbox"] {
  position: absolute;
  clip: rect(0, 0, 0, 0);
  pointer-events: none;
}
.input-group {
  position: relative;
  display: table;
  border-collapse: separate;
}
.input-group[class*="col-"] {
  float: none;
  padding-left: 0;
  padding-right: 0;
}
.input-group .form-control {
  position: relative;
  z-index: 2;
  float: left;
  width: 100%;
  margin-bottom: 0;
}
.input-group .form-control:focus {
  z-index: 3;
}
.input-group-lg > .form-control,
.input-group-lg > .input-group-addon,
.input-group-lg > .input-group-btn > .btn {
  height: 45px;
  padding: 10px 16px;
  font-size: 17px;
  line-height: 1.3333333;
  border-radius: 3px;
}
select.input-group-lg > .form-control,
select.input-group-lg > .input-group-addon,
select.input-group-lg > .input-group-btn > .btn {
  height: 45px;
  line-height: 45px;
}
textarea.input-group-lg > .form-control,
textarea.input-group-lg > .input-group-addon,
textarea.input-group-lg > .input-group-btn > .btn,
select[multiple].input-group-lg > .form-control,
select[multiple].input-group-lg > .input-group-addon,
select[multiple].input-group-lg > .input-group-btn > .btn {
  height: auto;
}
.input-group-sm > .form-control,
.input-group-sm > .input-group-addon,
.input-group-sm > .input-group-btn > .btn {
  height: 30px;
  padding: 5px 10px;
  font-size: 12px;
  line-height: 1.5;
  border-radius: 1px;
}
select.input-group-sm > .form-control,
select.input-group-sm > .input-group-addon,
select.input-group-sm > .input-group-btn > .btn {
  height: 30px;
  line-height: 30px;
}
textarea.input-group-sm > .form-control,
textarea.input-group-sm > .input-group-addon,
textarea.input-group-sm > .input-group-btn > .btn,
select[multiple].input-group-sm > .form-control,
select[multiple].input-group-sm > .input-group-addon,
select[multiple].input-group-sm > .input-group-btn > .btn {
  height: auto;
}
.input-group-addon,
.input-group-btn,
.input-group .form-control {
  display: table-cell;
}
.input-group-addon:not(:first-child):not(:last-child),
.input-group-btn:not(:first-child):not(:last-child),
.input-group .form-control:not(:first-child):not(:last-child) {
  border-radius: 0;
}
.input-group-addon,
.input-group-btn {
  width: 1%;
  white-space: nowrap;
  vertical-align: middle;
}
.input-group-addon {
  padding: 6px 12px;
  font-size: 13px;
  font-weight: normal;
  line-height: 1;
  color: #555555;
  text-align: center;
  background-color: #eeeeee;
  border: 1px solid #ccc;
  border-radius: 2px;
}
.input-group-addon.input-sm {
  padding: 5px 10px;
  font-size: 12px;
  border-radius: 1px;
}
.input-group-addon.input-lg {
  padding: 10px 16px;
  font-size: 17px;
  border-radius: 3px;
}
.input-group-addon input[type="radio"],
.input-group-addon input[type="checkbox"] {
  margin-top: 0;
}
.input-group .form-control:first-child,
.input-group-addon:first-child,
.input-group-btn:first-child > .btn,
.input-group-btn:first-child > .btn-group > .btn,
.input-group-btn:first-child > .dropdown-toggle,
.input-group-btn:last-child > .btn:not(:last-child):not(.dropdown-toggle),
.input-group-btn:last-child > .btn-group:not(:last-child) > .btn {
  border-bottom-right-radius: 0;
  border-top-right-radius: 0;
}
.input-group-addon:first-child {
  border-right: 0;
}
.input-group .form-control:last-child,
.input-group-addon:last-child,
.input-group-btn:last-child > .btn,
.input-group-btn:last-child > .btn-group > .btn,
.input-group-btn:last-child > .dropdown-toggle,
.input-group-btn:first-child > .btn:not(:first-child),
.input-group-btn:first-child > .btn-group:not(:first-child) > .btn {
  border-bottom-left-radius: 0;
  border-top-left-radius: 0;
}
.input-group-addon:last-child {
  border-left: 0;
}
.input-group-btn {
  position: relative;
  font-size: 0;
  white-space: nowrap;
}
.input-group-btn > .btn {
  position: relative;
}
.input-group-btn > .btn + .btn {
  margin-left: -1px;
}
.input-group-btn > .btn:hover,
.input-group-btn > .btn:focus,
.input-group-btn > .btn:active {
  z-index: 2;
}
.input-group-btn:first-child > .btn,
.input-group-btn:first-child > .btn-group {
  margin-right: -1px;
}
.input-group-btn:last-child > .btn,
.input-group-btn:last-child > .btn-group {
  z-index: 2;
  margin-left: -1px;
}
.nav {
  margin-bottom: 0;
  padding-left: 0;
  list-style: none;
}
.nav > li {
  position: relative;
  display: block;
}
.nav > li > a {
  position: relative;
  display: block;
  padding: 10px 15px;
}
.nav > li > a:hover,
.nav > li > a:focus {
  text-decoration: none;
  background-color: #eeeeee;
}
.nav > li.disabled > a {
  color: #777777;
}
.nav > li.disabled > a:hover,
.nav > li.disabled > a:focus {
  color: #777777;
  text-decoration: none;
  background-color: transparent;
  cursor: not-allowed;
}
.nav .open > a,
.nav .open > a:hover,
.nav .open > a:focus {
  background-color: #eeeeee;
  border-color: #337ab7;
}
.nav .nav-divider {
  height: 1px;
  margin: 8px 0;
  overflow: hidden;
  background-color: #e5e5e5;
}
.nav > li > a > img {
  max-width: none;
}
.nav-tabs {
  border-bottom: 1px solid #ddd;
}
.nav-tabs > li {
  float: left;
  margin-bottom: -1px;
}
.nav-tabs > li > a {
  margin-right: 2px;
  line-height: 1.42857143;
  border: 1px solid transparent;
  border-radius: 2px 2px 0 0;
}
.nav-tabs > li > a:hover {
  border-color: #eeeeee #eeeeee #ddd;
}
.nav-tabs > li.active > a,
.nav-tabs > li.active > a:hover,
.nav-tabs > li.active > a:focus {
  color: #555555;
  background-color: #fff;
  border: 1px solid #ddd;
  border-bottom-color: transparent;
  cursor: default;
}
.nav-tabs.nav-justified {
  width: 100%;
  border-bottom: 0;
}
.nav-tabs.nav-justified > li {
  float: none;
}
.nav-tabs.nav-justified > li > a {
  text-align: center;
  margin-bottom: 5px;
}
.nav-tabs.nav-justified > .dropdown .dropdown-menu {
  top: auto;
  left: auto;
}
@media (min-width: 768px) {
  .nav-tabs.nav-justified > li {
    display: table-cell;
    width: 1%;
  }
  .nav-tabs.nav-justified > li > a {
    margin-bottom: 0;
  }
}
.nav-tabs.nav-justified > li > a {
  margin-right: 0;
  border-radius: 2px;
}
.nav-tabs.nav-justified > .active > a,
.nav-tabs.nav-justified > .active > a:hover,
.nav-tabs.nav-justified > .active > a:focus {
  border: 1px solid #ddd;
}
@media (min-width: 768px) {
  .nav-tabs.nav-justified > li > a {
    border-bottom: 1px solid #ddd;
    border-radius: 2px 2px 0 0;
  }
  .nav-tabs.nav-justified > .active > a,
  .nav-tabs.nav-justified > .active > a:hover,
  .nav-tabs.nav-justified > .active > a:focus {
    border-bottom-color: #fff;
  }
}
.nav-pills > li {
  float: left;
}
.nav-pills > li > a {
  border-radius: 2px;
}
.nav-pills > li + li {
  margin-left: 2px;
}
.nav-pills > li.active > a,
.nav-pills > li.active > a:hover,
.nav-pills > li.active > a:focus {
  color: #fff;
  background-color: #337ab7;
}
.nav-stacked > li {
  float: none;
}
.nav-stacked > li + li {
  margin-top: 2px;
  margin-left: 0;
}
.nav-justified {
  width: 100%;
}
.nav-justified > li {
  float: none;
}
.nav-justified > li > a {
  text-align: center;
  margin-bottom: 5px;
}
.nav-justified > .dropdown .dropdown-menu {
  top: auto;
  left: auto;
}
@media (min-width: 768px) {
  .nav-justified > li {
    display: table-cell;
    width: 1%;
  }
  .nav-justified > li > a {
    margin-bottom: 0;
  }
}
.nav-tabs-justified {
  border-bottom: 0;
}
.nav-tabs-justified > li > a {
  margin-right: 0;
  border-radius: 2px;
}
.nav-tabs-justified > .active > a,
.nav-tabs-justified > .active > a:hover,
.nav-tabs-justified > .active > a:focus {
  border: 1px solid #ddd;
}
@media (min-width: 768px) {
  .nav-tabs-justified > li > a {
    border-bottom: 1px solid #ddd;
    border-radius: 2px 2px 0 0;
  }
  .nav-tabs-justified > .active > a,
  .nav-tabs-justified > .active > a:hover,
  .nav-tabs-justified > .active > a:focus {
    border-bottom-color: #fff;
  }
}
.tab-content > .tab-pane {
  display: none;
}
.tab-content > .active {
  display: block;
}
.nav-tabs .dropdown-menu {
  margin-top: -1px;
  border-top-right-radius: 0;
  border-top-left-radius: 0;
}
.navbar {
  position: relative;
  min-height: 30px;
  margin-bottom: 18px;
  border: 1px solid transparent;
}
@media (min-width: 541px) {
  .navbar {
    border-radius: 2px;
  }
}
@media (min-width: 541px) {
  .navbar-header {
    float: left;
  }
}
.navbar-collapse {
  overflow-x: visible;
  padding-right: 0px;
  padding-left: 0px;
  border-top: 1px solid transparent;
  box-shadow: inset 0 1px 0 rgba(255, 255, 255, 0.1);
  -webkit-overflow-scrolling: touch;
}
.navbar-collapse.in {
  overflow-y: auto;
}
@media (min-width: 541px) {
  .navbar-collapse {
    width: auto;
    border-top: 0;
    box-shadow: none;
  }
  .navbar-collapse.collapse {
    display: block !important;
    height: auto !important;
    padding-bottom: 0;
    overflow: visible !important;
  }
  .navbar-collapse.in {
    overflow-y: visible;
  }
  .navbar-fixed-top .navbar-collapse,
  .navbar-static-top .navbar-collapse,
  .navbar-fixed-bottom .navbar-collapse {
    padding-left: 0;
    padding-right: 0;
  }
}
.navbar-fixed-top .navbar-collapse,
.navbar-fixed-bottom .navbar-collapse {
  max-height: 340px;
}
@media (max-device-width: 540px) and (orientation: landscape) {
  .navbar-fixed-top .navbar-collapse,
  .navbar-fixed-bottom .navbar-collapse {
    max-height: 200px;
  }
}
.container > .navbar-header,
.container-fluid > .navbar-header,
.container > .navbar-collapse,
.container-fluid > .navbar-collapse {
  margin-right: 0px;
  margin-left: 0px;
}
@media (min-width: 541px) {
  .container > .navbar-header,
  .container-fluid > .navbar-header,
  .container > .navbar-collapse,
  .container-fluid > .navbar-collapse {
    margin-right: 0;
    margin-left: 0;
  }
}
.navbar-static-top {
  z-index: 1000;
  border-width: 0 0 1px;
}
@media (min-width: 541px) {
  .navbar-static-top {
    border-radius: 0;
  }
}
.navbar-fixed-top,
.navbar-fixed-bottom {
  position: fixed;
  right: 0;
  left: 0;
  z-index: 1030;
}
@media (min-width: 541px) {
  .navbar-fixed-top,
  .navbar-fixed-bottom {
    border-radius: 0;
  }
}
.navbar-fixed-top {
  top: 0;
  border-width: 0 0 1px;
}
.navbar-fixed-bottom {
  bottom: 0;
  margin-bottom: 0;
  border-width: 1px 0 0;
}
.navbar-brand {
  float: left;
  padding: 6px 0px;
  font-size: 17px;
  line-height: 18px;
  height: 30px;
}
.navbar-brand:hover,
.navbar-brand:focus {
  text-decoration: none;
}
.navbar-brand > img {
  display: block;
}
@media (min-width: 541px) {
  .navbar > .container .navbar-brand,
  .navbar > .container-fluid .navbar-brand {
    margin-left: 0px;
  }
}
.navbar-toggle {
  position: relative;
  float: right;
  margin-right: 0px;
  padding: 9px 10px;
  margin-top: -2px;
  margin-bottom: -2px;
  background-color: transparent;
  background-image: none;
  border: 1px solid transparent;
  border-radius: 2px;
}
.navbar-toggle:focus {
  outline: 0;
}
.navbar-toggle .icon-bar {
  display: block;
  width: 22px;
  height: 2px;
  border-radius: 1px;
}
.navbar-toggle .icon-bar + .icon-bar {
  margin-top: 4px;
}
@media (min-width: 541px) {
  .navbar-toggle {
    display: none;
  }
}
.navbar-nav {
  margin: 3px 0px;
}
.navbar-nav > li > a {
  padding-top: 10px;
  padding-bottom: 10px;
  line-height: 18px;
}
@media (max-width: 540px) {
  .navbar-nav .open .dropdown-menu {
    position: static;
    float: none;
    width: auto;
    margin-top: 0;
    background-color: transparent;
    border: 0;
    box-shadow: none;
  }
  .navbar-nav .open .dropdown-menu > li > a,
  .navbar-nav .open .dropdown-menu .dropdown-header {
    padding: 5px 15px 5px 25px;
  }
  .navbar-nav .open .dropdown-menu > li > a {
    line-height: 18px;
  }
  .navbar-nav .open .dropdown-menu > li > a:hover,
  .navbar-nav .open .dropdown-menu > li > a:focus {
    background-image: none;
  }
}
@media (min-width: 541px) {
  .navbar-nav {
    float: left;
    margin: 0;
  }
  .navbar-nav > li {
    float: left;
  }
  .navbar-nav > li > a {
    padding-top: 6px;
    padding-bottom: 6px;
  }
}
.navbar-form {
  margin-left: 0px;
  margin-right: 0px;
  padding: 10px 0px;
  border-top: 1px solid transparent;
  border-bottom: 1px solid transparent;
  -webkit-box-shadow: inset 0 1px 0 rgba(255, 255, 255, 0.1), 0 1px 0 rgba(255, 255, 255, 0.1);
  box-shadow: inset 0 1px 0 rgba(255, 255, 255, 0.1), 0 1px 0 rgba(255, 255, 255, 0.1);
  margin-top: -1px;
  margin-bottom: -1px;
}
@media (min-width: 768px) {
  .navbar-form .form-group {
    display: inline-block;
    margin-bottom: 0;
    vertical-align: middle;
  }
  .navbar-form .form-control {
    display: inline-block;
    width: auto;
    vertical-align: middle;
  }
  .navbar-form .form-control-static {
    display: inline-block;
  }
  .navbar-form .input-group {
    display: inline-table;
    vertical-align: middle;
  }
  .navbar-form .input-group .input-group-addon,
  .navbar-form .input-group .input-group-btn,
  .navbar-form .input-group .form-control {
    width: auto;
  }
  .navbar-form .input-group > .form-control {
    width: 100%;
  }
  .navbar-form .control-label {
    margin-bottom: 0;
    vertical-align: middle;
  }
  .navbar-form .radio,
  .navbar-form .checkbox {
    display: inline-block;
    margin-top: 0;
    margin-bottom: 0;
    vertical-align: middle;
  }
  .navbar-form .radio label,
  .navbar-form .checkbox label {
    padding-left: 0;
  }
  .navbar-form .radio input[type="radio"],
  .navbar-form .checkbox input[type="checkbox"] {
    position: relative;
    margin-left: 0;
  }
  .navbar-form .has-feedback .form-control-feedback {
    top: 0;
  }
}
@media (max-width: 540px) {
  .navbar-form .form-group {
    margin-bottom: 5px;
  }
  .navbar-form .form-group:last-child {
    margin-bottom: 0;
  }
}
@media (min-width: 541px) {
  .navbar-form {
    width: auto;
    border: 0;
    margin-left: 0;
    margin-right: 0;
    padding-top: 0;
    padding-bottom: 0;
    -webkit-box-shadow: none;
    box-shadow: none;
  }
}
.navbar-nav > li > .dropdown-menu {
  margin-top: 0;
  border-top-right-radius: 0;
  border-top-left-radius: 0;
}
.navbar-fixed-bottom .navbar-nav > li > .dropdown-menu {
  margin-bottom: 0;
  border-top-right-radius: 2px;
  border-top-left-radius: 2px;
  border-bottom-right-radius: 0;
  border-bottom-left-radius: 0;
}
.navbar-btn {
  margin-top: -1px;
  margin-bottom: -1px;
}
.navbar-btn.btn-sm {
  margin-top: 0px;
  margin-bottom: 0px;
}
.navbar-btn.btn-xs {
  margin-top: 4px;
  margin-bottom: 4px;
}
.navbar-text {
  margin-top: 6px;
  margin-bottom: 6px;
}
@media (min-width: 541px) {
  .navbar-text {
    float: left;
    margin-left: 0px;
    margin-right: 0px;
  }
}
@media (min-width: 541px) {
  .navbar-left {
    float: left !important;
    float: left;
  }
  .navbar-right {
    float: right !important;
    float: right;
    margin-right: 0px;
  }
  .navbar-right ~ .navbar-right {
    margin-right: 0;
  }
}
.navbar-default {
  background-color: #f8f8f8;
  border-color: #e7e7e7;
}
.navbar-default .navbar-brand {
  color: #777;
}
.navbar-default .navbar-brand:hover,
.navbar-default .navbar-brand:focus {
  color: #5e5e5e;
  background-color: transparent;
}
.navbar-default .navbar-text {
  color: #777;
}
.navbar-default .navbar-nav > li > a {
  color: #777;
}
.navbar-default .navbar-nav > li > a:hover,
.navbar-default .navbar-nav > li > a:focus {
  color: #333;
  background-color: transparent;
}
.navbar-default .navbar-nav > .active > a,
.navbar-default .navbar-nav > .active > a:hover,
.navbar-default .navbar-nav > .active > a:focus {
  color: #555;
  background-color: #e7e7e7;
}
.navbar-default .navbar-nav > .disabled > a,
.navbar-default .navbar-nav > .disabled > a:hover,
.navbar-default .navbar-nav > .disabled > a:focus {
  color: #ccc;
  background-color: transparent;
}
.navbar-default .navbar-toggle {
  border-color: #ddd;
}
.navbar-default .navbar-toggle:hover,
.navbar-default .navbar-toggle:focus {
  background-color: #ddd;
}
.navbar-default .navbar-toggle .icon-bar {
  background-color: #888;
}
.navbar-default .navbar-collapse,
.navbar-default .navbar-form {
  border-color: #e7e7e7;
}
.navbar-default .navbar-nav > .open > a,
.navbar-default .navbar-nav > .open > a:hover,
.navbar-default .navbar-nav > .open > a:focus {
  background-color: #e7e7e7;
  color: #555;
}
@media (max-width: 540px) {
  .navbar-default .navbar-nav .open .dropdown-menu > li > a {
    color: #777;
  }
  .navbar-default .navbar-nav .open .dropdown-menu > li > a:hover,
  .navbar-default .navbar-nav .open .dropdown-menu > li > a:focus {
    color: #333;
    background-color: transparent;
  }
  .navbar-default .navbar-nav .open .dropdown-menu > .active > a,
  .navbar-default .navbar-nav .open .dropdown-menu > .active > a:hover,
  .navbar-default .navbar-nav .open .dropdown-menu > .active > a:focus {
    color: #555;
    background-color: #e7e7e7;
  }
  .navbar-default .navbar-nav .open .dropdown-menu > .disabled > a,
  .navbar-default .navbar-nav .open .dropdown-menu > .disabled > a:hover,
  .navbar-default .navbar-nav .open .dropdown-menu > .disabled > a:focus {
    color: #ccc;
    background-color: transparent;
  }
}
.navbar-default .navbar-link {
  color: #777;
}
.navbar-default .navbar-link:hover {
  color: #333;
}
.navbar-default .btn-link {
  color: #777;
}
.navbar-default .btn-link:hover,
.navbar-default .btn-link:focus {
  color: #333;
}
.navbar-default .btn-link[disabled]:hover,
fieldset[disabled] .navbar-default .btn-link:hover,
.navbar-default .btn-link[disabled]:focus,
fieldset[disabled] .navbar-default .btn-link:focus {
  color: #ccc;
}
.navbar-inverse {
  background-color: #222;
  border-color: #080808;
}
.navbar-inverse .navbar-brand {
  color: #9d9d9d;
}
.navbar-inverse .navbar-brand:hover,
.navbar-inverse .navbar-brand:focus {
  color: #fff;
  background-color: transparent;
}
.navbar-inverse .navbar-text {
  color: #9d9d9d;
}
.navbar-inverse .navbar-nav > li > a {
  color: #9d9d9d;
}
.navbar-inverse .navbar-nav > li > a:hover,
.navbar-inverse .navbar-nav > li > a:focus {
  color: #fff;
  background-color: transparent;
}
.navbar-inverse .navbar-nav > .active > a,
.navbar-inverse .navbar-nav > .active > a:hover,
.navbar-inverse .navbar-nav > .active > a:focus {
  color: #fff;
  background-color: #080808;
}
.navbar-inverse .navbar-nav > .disabled > a,
.navbar-inverse .navbar-nav > .disabled > a:hover,
.navbar-inverse .navbar-nav > .disabled > a:focus {
  color: #444;
  background-color: transparent;
}
.navbar-inverse .navbar-toggle {
  border-color: #333;
}
.navbar-inverse .navbar-toggle:hover,
.navbar-inverse .navbar-toggle:focus {
  background-color: #333;
}
.navbar-inverse .navbar-toggle .icon-bar {
  background-color: #fff;
}
.navbar-inverse .navbar-collapse,
.navbar-inverse .navbar-form {
  border-color: #101010;
}
.navbar-inverse .navbar-nav > .open > a,
.navbar-inverse .navbar-nav > .open > a:hover,
.navbar-inverse .navbar-nav > .open > a:focus {
  background-color: #080808;
  color: #fff;
}
@media (max-width: 540px) {
  .navbar-inverse .navbar-nav .open .dropdown-menu > .dropdown-header {
    border-color: #080808;
  }
  .navbar-inverse .navbar-nav .open .dropdown-menu .divider {
    background-color: #080808;
  }
  .navbar-inverse .navbar-nav .open .dropdown-menu > li > a {
    color: #9d9d9d;
  }
  .navbar-inverse .navbar-nav .open .dropdown-menu > li > a:hover,
  .navbar-inverse .navbar-nav .open .dropdown-menu > li > a:focus {
    color: #fff;
    background-color: transparent;
  }
  .navbar-inverse .navbar-nav .open .dropdown-menu > .active > a,
  .navbar-inverse .navbar-nav .open .dropdown-menu > .active > a:hover,
  .navbar-inverse .navbar-nav .open .dropdown-menu > .active > a:focus {
    color: #fff;
    background-color: #080808;
  }
  .navbar-inverse .navbar-nav .open .dropdown-menu > .disabled > a,
  .navbar-inverse .navbar-nav .open .dropdown-menu > .disabled > a:hover,
  .navbar-inverse .navbar-nav .open .dropdown-menu > .disabled > a:focus {
    color: #444;
    background-color: transparent;
  }
}
.navbar-inverse .navbar-link {
  color: #9d9d9d;
}
.navbar-inverse .navbar-link:hover {
  color: #fff;
}
.navbar-inverse .btn-link {
  color: #9d9d9d;
}
.navbar-inverse .btn-link:hover,
.navbar-inverse .btn-link:focus {
  color: #fff;
}
.navbar-inverse .btn-link[disabled]:hover,
fieldset[disabled] .navbar-inverse .btn-link:hover,
.navbar-inverse .btn-link[disabled]:focus,
fieldset[disabled] .navbar-inverse .btn-link:focus {
  color: #444;
}
.breadcrumb {
  padding: 8px 15px;
  margin-bottom: 18px;
  list-style: none;
  background-color: #f5f5f5;
  border-radius: 2px;
}
.breadcrumb > li {
  display: inline-block;
}
.breadcrumb > li + li:before {
  content: "/\00a0";
  padding: 0 5px;
  color: #5e5e5e;
}
.breadcrumb > .active {
  color: #777777;
}
.pagination {
  display: inline-block;
  padding-left: 0;
  margin: 18px 0;
  border-radius: 2px;
}
.pagination > li {
  display: inline;
}
.pagination > li > a,
.pagination > li > span {
  position: relative;
  float: left;
  padding: 6px 12px;
  line-height: 1.42857143;
  text-decoration: none;
  color: #337ab7;
  background-color: #fff;
  border: 1px solid #ddd;
  margin-left: -1px;
}
.pagination > li:first-child > a,
.pagination > li:first-child > span {
  margin-left: 0;
  border-bottom-left-radius: 2px;
  border-top-left-radius: 2px;
}
.pagination > li:last-child > a,
.pagination > li:last-child > span {
  border-bottom-right-radius: 2px;
  border-top-right-radius: 2px;
}
.pagination > li > a:hover,
.pagination > li > span:hover,
.pagination > li > a:focus,
.pagination > li > span:focus {
  z-index: 2;
  color: #23527c;
  background-color: #eeeeee;
  border-color: #ddd;
}
.pagination > .active > a,
.pagination > .active > span,
.pagination > .active > a:hover,
.pagination > .active > span:hover,
.pagination > .active > a:focus,
.pagination > .active > span:focus {
  z-index: 3;
  color: #fff;
  background-color: #337ab7;
  border-color: #337ab7;
  cursor: default;
}
.pagination > .disabled > span,
.pagination > .disabled > span:hover,
.pagination > .disabled > span:focus,
.pagination > .disabled > a,
.pagination > .disabled > a:hover,
.pagination > .disabled > a:focus {
  color: #777777;
  background-color: #fff;
  border-color: #ddd;
  cursor: not-allowed;
}
.pagination-lg > li > a,
.pagination-lg > li > span {
  padding: 10px 16px;
  font-size: 17px;
  line-height: 1.3333333;
}
.pagination-lg > li:first-child > a,
.pagination-lg > li:first-child > span {
  border-bottom-left-radius: 3px;
  border-top-left-radius: 3px;
}
.pagination-lg > li:last-child > a,
.pagination-lg > li:last-child > span {
  border-bottom-right-radius: 3px;
  border-top-right-radius: 3px;
}
.pagination-sm > li > a,
.pagination-sm > li > span {
  padding: 5px 10px;
  font-size: 12px;
  line-height: 1.5;
}
.pagination-sm > li:first-child > a,
.pagination-sm > li:first-child > span {
  border-bottom-left-radius: 1px;
  border-top-left-radius: 1px;
}
.pagination-sm > li:last-child > a,
.pagination-sm > li:last-child > span {
  border-bottom-right-radius: 1px;
  border-top-right-radius: 1px;
}
.pager {
  padding-left: 0;
  margin: 18px 0;
  list-style: none;
  text-align: center;
}
.pager li {
  display: inline;
}
.pager li > a,
.pager li > span {
  display: inline-block;
  padding: 5px 14px;
  background-color: #fff;
  border: 1px solid #ddd;
  border-radius: 15px;
}
.pager li > a:hover,
.pager li > a:focus {
  text-decoration: none;
  background-color: #eeeeee;
}
.pager .next > a,
.pager .next > span {
  float: right;
}
.pager .previous > a,
.pager .previous > span {
  float: left;
}
.pager .disabled > a,
.pager .disabled > a:hover,
.pager .disabled > a:focus,
.pager .disabled > span {
  color: #777777;
  background-color: #fff;
  cursor: not-allowed;
}
.label {
  display: inline;
  padding: .2em .6em .3em;
  font-size: 75%;
  font-weight: bold;
  line-height: 1;
  color: #fff;
  text-align: center;
  white-space: nowrap;
  vertical-align: baseline;
  border-radius: .25em;
}
a.label:hover,
a.label:focus {
  color: #fff;
  text-decoration: none;
  cursor: pointer;
}
.label:empty {
  display: none;
}
.btn .label {
  position: relative;
  top: -1px;
}
.label-default {
  background-color: #777777;
}
.label-default[href]:hover,
.label-default[href]:focus {
  background-color: #5e5e5e;
}
.label-primary {
  background-color: #337ab7;
}
.label-primary[href]:hover,
.label-primary[href]:focus {
  background-color: #286090;
}
.label-success {
  background-color: #5cb85c;
}
.label-success[href]:hover,
.label-success[href]:focus {
  background-color: #449d44;
}
.label-info {
  background-color: #5bc0de;
}
.label-info[href]:hover,
.label-info[href]:focus {
  background-color: #31b0d5;
}
.label-warning {
  background-color: #f0ad4e;
}
.label-warning[href]:hover,
.label-warning[href]:focus {
  background-color: #ec971f;
}
.label-danger {
  background-color: #d9534f;
}
.label-danger[href]:hover,
.label-danger[href]:focus {
  background-color: #c9302c;
}
.badge {
  display: inline-block;
  min-width: 10px;
  padding: 3px 7px;
  font-size: 12px;
  font-weight: bold;
  color: #fff;
  line-height: 1;
  vertical-align: middle;
  white-space: nowrap;
  text-align: center;
  background-color: #777777;
  border-radius: 10px;
}
.badge:empty {
  display: none;
}
.btn .badge {
  position: relative;
  top: -1px;
}
.btn-xs .badge,
.btn-group-xs > .btn .badge {
  top: 0;
  padding: 1px 5px;
}
a.badge:hover,
a.badge:focus {
  color: #fff;
  text-decoration: none;
  cursor: pointer;
}
.list-group-item.active > .badge,
.nav-pills > .active > a > .badge {
  color: #337ab7;
  background-color: #fff;
}
.list-group-item > .badge {
  float: right;
}
.list-group-item > .badge + .badge {
  margin-right: 5px;
}
.nav-pills > li > a > .badge {
  margin-left: 3px;
}
.jumbotron {
  padding-top: 30px;
  padding-bottom: 30px;
  margin-bottom: 30px;
  color: inherit;
  background-color: #eeeeee;
}
.jumbotron h1,
.jumbotron .h1 {
  color: inherit;
}
.jumbotron p {
  margin-bottom: 15px;
  font-size: 20px;
  font-weight: 200;
}
.jumbotron > hr {
  border-top-color: #d5d5d5;
}
.container .jumbotron,
.container-fluid .jumbotron {
  border-radius: 3px;
  padding-left: 0px;
  padding-right: 0px;
}
.jumbotron .container {
  max-width: 100%;
}
@media screen and (min-width: 768px) {
  .jumbotron {
    padding-top: 48px;
    padding-bottom: 48px;
  }
  .container .jumbotron,
  .container-fluid .jumbotron {
    padding-left: 60px;
    padding-right: 60px;
  }
  .jumbotron h1,
  .jumbotron .h1 {
    font-size: 59px;
  }
}
.thumbnail {
  display: block;
  padding: 4px;
  margin-bottom: 18px;
  line-height: 1.42857143;
  background-color: #fff;
  border: 1px solid #ddd;
  border-radius: 2px;
  -webkit-transition: border 0.2s ease-in-out;
  -o-transition: border 0.2s ease-in-out;
  transition: border 0.2s ease-in-out;
}
.thumbnail > img,
.thumbnail a > img {
  margin-left: auto;
  margin-right: auto;
}
a.thumbnail:hover,
a.thumbnail:focus,
a.thumbnail.active {
  border-color: #337ab7;
}
.thumbnail .caption {
  padding: 9px;
  color: #000;
}
.alert {
  padding: 15px;
  margin-bottom: 18px;
  border: 1px solid transparent;
  border-radius: 2px;
}
.alert h4 {
  margin-top: 0;
  color: inherit;
}
.alert .alert-link {
  font-weight: bold;
}
.alert > p,
.alert > ul {
  margin-bottom: 0;
}
.alert > p + p {
  margin-top: 5px;
}
.alert-dismissable,
.alert-dismissible {
  padding-right: 35px;
}
.alert-dismissable .close,
.alert-dismissible .close {
  position: relative;
  top: -2px;
  right: -21px;
  color: inherit;
}
.alert-success {
  background-color: #dff0d8;
  border-color: #d6e9c6;
  color: #3c763d;
}
.alert-success hr {
  border-top-color: #c9e2b3;
}
.alert-success .alert-link {
  color: #2b542c;
}
.alert-info {
  background-color: #d9edf7;
  border-color: #bce8f1;
  color: #31708f;
}
.alert-info hr {
  border-top-color: #a6e1ec;
}
.alert-info .alert-link {
  color: #245269;
}
.alert-warning {
  background-color: #fcf8e3;
  border-color: #faebcc;
  color: #8a6d3b;
}
.alert-warning hr {
  border-top-color: #f7e1b5;
}
.alert-warning .alert-link {
  color: #66512c;
}
.alert-danger {
  background-color: #f2dede;
  border-color: #ebccd1;
  color: #a94442;
}
.alert-danger hr {
  border-top-color: #e4b9c0;
}
.alert-danger .alert-link {
  color: #843534;
}
@-webkit-keyframes progress-bar-stripes {
  from {
    background-position: 40px 0;
  }
  to {
    background-position: 0 0;
  }
}
@keyframes progress-bar-stripes {
  from {
    background-position: 40px 0;
  }
  to {
    background-position: 0 0;
  }
}
.progress {
  overflow: hidden;
  height: 18px;
  margin-bottom: 18px;
  background-color: #f5f5f5;
  border-radius: 2px;
  -webkit-box-shadow: inset 0 1px 2px rgba(0, 0, 0, 0.1);
  box-shadow: inset 0 1px 2px rgba(0, 0, 0, 0.1);
}
.progress-bar {
  float: left;
  width: 0%;
  height: 100%;
  font-size: 12px;
  line-height: 18px;
  color: #fff;
  text-align: center;
  background-color: #337ab7;
  -webkit-box-shadow: inset 0 -1px 0 rgba(0, 0, 0, 0.15);
  box-shadow: inset 0 -1px 0 rgba(0, 0, 0, 0.15);
  -webkit-transition: width 0.6s ease;
  -o-transition: width 0.6s ease;
  transition: width 0.6s ease;
}
.progress-striped .progress-bar,
.progress-bar-striped {
  background-image: -webkit-linear-gradient(45deg, rgba(255, 255, 255, 0.15) 25%, transparent 25%, transparent 50%, rgba(255, 255, 255, 0.15) 50%, rgba(255, 255, 255, 0.15) 75%, transparent 75%, transparent);
  background-image: -o-linear-gradient(45deg, rgba(255, 255, 255, 0.15) 25%, transparent 25%, transparent 50%, rgba(255, 255, 255, 0.15) 50%, rgba(255, 255, 255, 0.15) 75%, transparent 75%, transparent);
  background-image: linear-gradient(45deg, rgba(255, 255, 255, 0.15) 25%, transparent 25%, transparent 50%, rgba(255, 255, 255, 0.15) 50%, rgba(255, 255, 255, 0.15) 75%, transparent 75%, transparent);
  background-size: 40px 40px;
}
.progress.active .progress-bar,
.progress-bar.active {
  -webkit-animation: progress-bar-stripes 2s linear infinite;
  -o-animation: progress-bar-stripes 2s linear infinite;
  animation: progress-bar-stripes 2s linear infinite;
}
.progress-bar-success {
  background-color: #5cb85c;
}
.progress-striped .progress-bar-success {
  background-image: -webkit-linear-gradient(45deg, rgba(255, 255, 255, 0.15) 25%, transparent 25%, transparent 50%, rgba(255, 255, 255, 0.15) 50%, rgba(255, 255, 255, 0.15) 75%, transparent 75%, transparent);
  background-image: -o-linear-gradient(45deg, rgba(255, 255, 255, 0.15) 25%, transparent 25%, transparent 50%, rgba(255, 255, 255, 0.15) 50%, rgba(255, 255, 255, 0.15) 75%, transparent 75%, transparent);
  background-image: linear-gradient(45deg, rgba(255, 255, 255, 0.15) 25%, transparent 25%, transparent 50%, rgba(255, 255, 255, 0.15) 50%, rgba(255, 255, 255, 0.15) 75%, transparent 75%, transparent);
}
.progress-bar-info {
  background-color: #5bc0de;
}
.progress-striped .progress-bar-info {
  background-image: -webkit-linear-gradient(45deg, rgba(255, 255, 255, 0.15) 25%, transparent 25%, transparent 50%, rgba(255, 255, 255, 0.15) 50%, rgba(255, 255, 255, 0.15) 75%, transparent 75%, transparent);
  background-image: -o-linear-gradient(45deg, rgba(255, 255, 255, 0.15) 25%, transparent 25%, transparent 50%, rgba(255, 255, 255, 0.15) 50%, rgba(255, 255, 255, 0.15) 75%, transparent 75%, transparent);
  background-image: linear-gradient(45deg, rgba(255, 255, 255, 0.15) 25%, transparent 25%, transparent 50%, rgba(255, 255, 255, 0.15) 50%, rgba(255, 255, 255, 0.15) 75%, transparent 75%, transparent);
}
.progress-bar-warning {
  background-color: #f0ad4e;
}
.progress-striped .progress-bar-warning {
  background-image: -webkit-linear-gradient(45deg, rgba(255, 255, 255, 0.15) 25%, transparent 25%, transparent 50%, rgba(255, 255, 255, 0.15) 50%, rgba(255, 255, 255, 0.15) 75%, transparent 75%, transparent);
  background-image: -o-linear-gradient(45deg, rgba(255, 255, 255, 0.15) 25%, transparent 25%, transparent 50%, rgba(255, 255, 255, 0.15) 50%, rgba(255, 255, 255, 0.15) 75%, transparent 75%, transparent);
  background-image: linear-gradient(45deg, rgba(255, 255, 255, 0.15) 25%, transparent 25%, transparent 50%, rgba(255, 255, 255, 0.15) 50%, rgba(255, 255, 255, 0.15) 75%, transparent 75%, transparent);
}
.progress-bar-danger {
  background-color: #d9534f;
}
.progress-striped .progress-bar-danger {
  background-image: -webkit-linear-gradient(45deg, rgba(255, 255, 255, 0.15) 25%, transparent 25%, transparent 50%, rgba(255, 255, 255, 0.15) 50%, rgba(255, 255, 255, 0.15) 75%, transparent 75%, transparent);
  background-image: -o-linear-gradient(45deg, rgba(255, 255, 255, 0.15) 25%, transparent 25%, transparent 50%, rgba(255, 255, 255, 0.15) 50%, rgba(255, 255, 255, 0.15) 75%, transparent 75%, transparent);
  background-image: linear-gradient(45deg, rgba(255, 255, 255, 0.15) 25%, transparent 25%, transparent 50%, rgba(255, 255, 255, 0.15) 50%, rgba(255, 255, 255, 0.15) 75%, transparent 75%, transparent);
}
.media {
  margin-top: 15px;
}
.media:first-child {
  margin-top: 0;
}
.media,
.media-body {
  zoom: 1;
  overflow: hidden;
}
.media-body {
  width: 10000px;
}
.media-object {
  display: block;
}
.media-object.img-thumbnail {
  max-width: none;
}
.media-right,
.media > .pull-right {
  padding-left: 10px;
}
.media-left,
.media > .pull-left {
  padding-right: 10px;
}
.media-left,
.media-right,
.media-body {
  display: table-cell;
  vertical-align: top;
}
.media-middle {
  vertical-align: middle;
}
.media-bottom {
  vertical-align: bottom;
}
.media-heading {
  margin-top: 0;
  margin-bottom: 5px;
}
.media-list {
  padding-left: 0;
  list-style: none;
}
.list-group {
  margin-bottom: 20px;
  padding-left: 0;
}
.list-group-item {
  position: relative;
  display: block;
  padding: 10px 15px;
  margin-bottom: -1px;
  background-color: #fff;
  border: 1px solid #ddd;
}
.list-group-item:first-child {
  border-top-right-radius: 2px;
  border-top-left-radius: 2px;
}
.list-group-item:last-child {
  margin-bottom: 0;
  border-bottom-right-radius: 2px;
  border-bottom-left-radius: 2px;
}
a.list-group-item,
button.list-group-item {
  color: #555;
}
a.list-group-item .list-group-item-heading,
button.list-group-item .list-group-item-heading {
  color: #333;
}
a.list-group-item:hover,
button.list-group-item:hover,
a.list-group-item:focus,
button.list-group-item:focus {
  text-decoration: none;
  color: #555;
  background-color: #f5f5f5;
}
button.list-group-item {
  width: 100%;
  text-align: left;
}
.list-group-item.disabled,
.list-group-item.disabled:hover,
.list-group-item.disabled:focus {
  background-color: #eeeeee;
  color: #777777;
  cursor: not-allowed;
}
.list-group-item.disabled .list-group-item-heading,
.list-group-item.disabled:hover .list-group-item-heading,
.list-group-item.disabled:focus .list-group-item-heading {
  color: inherit;
}
.list-group-item.disabled .list-group-item-text,
.list-group-item.disabled:hover .list-group-item-text,
.list-group-item.disabled:focus .list-group-item-text {
  color: #777777;
}
.list-group-item.active,
.list-group-item.active:hover,
.list-group-item.active:focus {
  z-index: 2;
  color: #fff;
  background-color: #337ab7;
  border-color: #337ab7;
}
.list-group-item.active .list-group-item-heading,
.list-group-item.active:hover .list-group-item-heading,
.list-group-item.active:focus .list-group-item-heading,
.list-group-item.active .list-group-item-heading > small,
.list-group-item.active:hover .list-group-item-heading > small,
.list-group-item.active:focus .list-group-item-heading > small,
.list-group-item.active .list-group-item-heading > .small,
.list-group-item.active:hover .list-group-item-heading > .small,
.list-group-item.active:focus .list-group-item-heading > .small {
  color: inherit;
}
.list-group-item.active .list-group-item-text,
.list-group-item.active:hover .list-group-item-text,
.list-group-item.active:focus .list-group-item-text {
  color: #c7ddef;
}
.list-group-item-success {
  color: #3c763d;
  background-color: #dff0d8;
}
a.list-group-item-success,
button.list-group-item-success {
  color: #3c763d;
}
a.list-group-item-success .list-group-item-heading,
button.list-group-item-success .list-group-item-heading {
  color: inherit;
}
a.list-group-item-success:hover,
button.list-group-item-success:hover,
a.list-group-item-success:focus,
button.list-group-item-success:focus {
  color: #3c763d;
  background-color: #d0e9c6;
}
a.list-group-item-success.active,
button.list-group-item-success.active,
a.list-group-item-success.active:hover,
button.list-group-item-success.active:hover,
a.list-group-item-success.active:focus,
button.list-group-item-success.active:focus {
  color: #fff;
  background-color: #3c763d;
  border-color: #3c763d;
}
.list-group-item-info {
  color: #31708f;
  background-color: #d9edf7;
}
a.list-group-item-info,
button.list-group-item-info {
  color: #31708f;
}
a.list-group-item-info .list-group-item-heading,
button.list-group-item-info .list-group-item-heading {
  color: inherit;
}
a.list-group-item-info:hover,
button.list-group-item-info:hover,
a.list-group-item-info:focus,
button.list-group-item-info:focus {
  color: #31708f;
  background-color: #c4e3f3;
}
a.list-group-item-info.active,
button.list-group-item-info.active,
a.list-group-item-info.active:hover,
button.list-group-item-info.active:hover,
a.list-group-item-info.active:focus,
button.list-group-item-info.active:focus {
  color: #fff;
  background-color: #31708f;
  border-color: #31708f;
}
.list-group-item-warning {
  color: #8a6d3b;
  background-color: #fcf8e3;
}
a.list-group-item-warning,
button.list-group-item-warning {
  color: #8a6d3b;
}
a.list-group-item-warning .list-group-item-heading,
button.list-group-item-warning .list-group-item-heading {
  color: inherit;
}
a.list-group-item-warning:hover,
button.list-group-item-warning:hover,
a.list-group-item-warning:focus,
button.list-group-item-warning:focus {
  color: #8a6d3b;
  background-color: #faf2cc;
}
a.list-group-item-warning.active,
button.list-group-item-warning.active,
a.list-group-item-warning.active:hover,
button.list-group-item-warning.active:hover,
a.list-group-item-warning.active:focus,
button.list-group-item-warning.active:focus {
  color: #fff;
  background-color: #8a6d3b;
  border-color: #8a6d3b;
}
.list-group-item-danger {
  color: #a94442;
  background-color: #f2dede;
}
a.list-group-item-danger,
button.list-group-item-danger {
  color: #a94442;
}
a.list-group-item-danger .list-group-item-heading,
button.list-group-item-danger .list-group-item-heading {
  color: inherit;
}
a.list-group-item-danger:hover,
button.list-group-item-danger:hover,
a.list-group-item-danger:focus,
button.list-group-item-danger:focus {
  color: #a94442;
  background-color: #ebcccc;
}
a.list-group-item-danger.active,
button.list-group-item-danger.active,
a.list-group-item-danger.active:hover,
button.list-group-item-danger.active:hover,
a.list-group-item-danger.active:focus,
button.list-group-item-danger.active:focus {
  color: #fff;
  background-color: #a94442;
  border-color: #a94442;
}
.list-group-item-heading {
  margin-top: 0;
  margin-bottom: 5px;
}
.list-group-item-text {
  margin-bottom: 0;
  line-height: 1.3;
}
.panel {
  margin-bottom: 18px;
  background-color: #fff;
  border: 1px solid transparent;
  border-radius: 2px;
  -webkit-box-shadow: 0 1px 1px rgba(0, 0, 0, 0.05);
  box-shadow: 0 1px 1px rgba(0, 0, 0, 0.05);
}
.panel-body {
  padding: 15px;
}
.panel-heading {
  padding: 10px 15px;
  border-bottom: 1px solid transparent;
  border-top-right-radius: 1px;
  border-top-left-radius: 1px;
}
.panel-heading > .dropdown .dropdown-toggle {
  color: inherit;
}
.panel-title {
  margin-top: 0;
  margin-bottom: 0;
  font-size: 15px;
  color: inherit;
}
.panel-title > a,
.panel-title > small,
.panel-title > .small,
.panel-title > small > a,
.panel-title > .small > a {
  color: inherit;
}
.panel-footer {
  padding: 10px 15px;
  background-color: #f5f5f5;
  border-top: 1px solid #ddd;
  border-bottom-right-radius: 1px;
  border-bottom-left-radius: 1px;
}
.panel > .list-group,
.panel > .panel-collapse > .list-group {
  margin-bottom: 0;
}
.panel > .list-group .list-group-item,
.panel > .panel-collapse > .list-group .list-group-item {
  border-width: 1px 0;
  border-radius: 0;
}
.panel > .list-group:first-child .list-group-item:first-child,
.panel > .panel-collapse > .list-group:first-child .list-group-item:first-child {
  border-top: 0;
  border-top-right-radius: 1px;
  border-top-left-radius: 1px;
}
.panel > .list-group:last-child .list-group-item:last-child,
.panel > .panel-collapse > .list-group:last-child .list-group-item:last-child {
  border-bottom: 0;
  border-bottom-right-radius: 1px;
  border-bottom-left-radius: 1px;
}
.panel > .panel-heading + .panel-collapse > .list-group .list-group-item:first-child {
  border-top-right-radius: 0;
  border-top-left-radius: 0;
}
.panel-heading + .list-group .list-group-item:first-child {
  border-top-width: 0;
}
.list-group + .panel-footer {
  border-top-width: 0;
}
.panel > .table,
.panel > .table-responsive > .table,
.panel > .panel-collapse > .table {
  margin-bottom: 0;
}
.panel > .table caption,
.panel > .table-responsive > .table caption,
.panel > .panel-collapse > .table caption {
  padding-left: 15px;
  padding-right: 15px;
}
.panel > .table:first-child,
.panel > .table-responsive:first-child > .table:first-child {
  border-top-right-radius: 1px;
  border-top-left-radius: 1px;
}
.panel > .table:first-child > thead:first-child > tr:first-child,
.panel > .table-responsive:first-child > .table:first-child > thead:first-child > tr:first-child,
.panel > .table:first-child > tbody:first-child > tr:first-child,
.panel > .table-responsive:first-child > .table:first-child > tbody:first-child > tr:first-child {
  border-top-left-radius: 1px;
  border-top-right-radius: 1px;
}
.panel > .table:first-child > thead:first-child > tr:first-child td:first-child,
.panel > .table-responsive:first-child > .table:first-child > thead:first-child > tr:first-child td:first-child,
.panel > .table:first-child > tbody:first-child > tr:first-child td:first-child,
.panel > .table-responsive:first-child > .table:first-child > tbody:first-child > tr:first-child td:first-child,
.panel > .table:first-child > thead:first-child > tr:first-child th:first-child,
.panel > .table-responsive:first-child > .table:first-child > thead:first-child > tr:first-child th:first-child,
.panel > .table:first-child > tbody:first-child > tr:first-child th:first-child,
.panel > .table-responsive:first-child > .table:first-child > tbody:first-child > tr:first-child th:first-child {
  border-top-left-radius: 1px;
}
.panel > .table:first-child > thead:first-child > tr:first-child td:last-child,
.panel > .table-responsive:first-child > .table:first-child > thead:first-child > tr:first-child td:last-child,
.panel > .table:first-child > tbody:first-child > tr:first-child td:last-child,
.panel > .table-responsive:first-child > .table:first-child > tbody:first-child > tr:first-child td:last-child,
.panel > .table:first-child > thead:first-child > tr:first-child th:last-child,
.panel > .table-responsive:first-child > .table:first-child > thead:first-child > tr:first-child th:last-child,
.panel > .table:first-child > tbody:first-child > tr:first-child th:last-child,
.panel > .table-responsive:first-child > .table:first-child > tbody:first-child > tr:first-child th:last-child {
  border-top-right-radius: 1px;
}
.panel > .table:last-child,
.panel > .table-responsive:last-child > .table:last-child {
  border-bottom-right-radius: 1px;
  border-bottom-left-radius: 1px;
}
.panel > .table:last-child > tbody:last-child > tr:last-child,
.panel > .table-responsive:last-child > .table:last-child > tbody:last-child > tr:last-child,
.panel > .table:last-child > tfoot:last-child > tr:last-child,
.panel > .table-responsive:last-child > .table:last-child > tfoot:last-child > tr:last-child {
  border-bottom-left-radius: 1px;
  border-bottom-right-radius: 1px;
}
.panel > .table:last-child > tbody:last-child > tr:last-child td:first-child,
.panel > .table-responsive:last-child > .table:last-child > tbody:last-child > tr:last-child td:first-child,
.panel > .table:last-child > tfoot:last-child > tr:last-child td:first-child,
.panel > .table-responsive:last-child > .table:last-child > tfoot:last-child > tr:last-child td:first-child,
.panel > .table:last-child > tbody:last-child > tr:last-child th:first-child,
.panel > .table-responsive:last-child > .table:last-child > tbody:last-child > tr:last-child th:first-child,
.panel > .table:last-child > tfoot:last-child > tr:last-child th:first-child,
.panel > .table-responsive:last-child > .table:last-child > tfoot:last-child > tr:last-child th:first-child {
  border-bottom-left-radius: 1px;
}
.panel > .table:last-child > tbody:last-child > tr:last-child td:last-child,
.panel > .table-responsive:last-child > .table:last-child > tbody:last-child > tr:last-child td:last-child,
.panel > .table:last-child > tfoot:last-child > tr:last-child td:last-child,
.panel > .table-responsive:last-child > .table:last-child > tfoot:last-child > tr:last-child td:last-child,
.panel > .table:last-child > tbody:last-child > tr:last-child th:last-child,
.panel > .table-responsive:last-child > .table:last-child > tbody:last-child > tr:last-child th:last-child,
.panel > .table:last-child > tfoot:last-child > tr:last-child th:last-child,
.panel > .table-responsive:last-child > .table:last-child > tfoot:last-child > tr:last-child th:last-child {
  border-bottom-right-radius: 1px;
}
.panel > .panel-body + .table,
.panel > .panel-body + .table-responsive,
.panel > .table + .panel-body,
.panel > .table-responsive + .panel-body {
  border-top: 1px solid #ddd;
}
.panel > .table > tbody:first-child > tr:first-child th,
.panel > .table > tbody:first-child > tr:first-child td {
  border-top: 0;
}
.panel > .table-bordered,
.panel > .table-responsive > .table-bordered {
  border: 0;
}
.panel > .table-bordered > thead > tr > th:first-child,
.panel > .table-responsive > .table-bordered > thead > tr > th:first-child,
.panel > .table-bordered > tbody > tr > th:first-child,
.panel > .table-responsive > .table-bordered > tbody > tr > th:first-child,
.panel > .table-bordered > tfoot > tr > th:first-child,
.panel > .table-responsive > .table-bordered > tfoot > tr > th:first-child,
.panel > .table-bordered > thead > tr > td:first-child,
.panel > .table-responsive > .table-bordered > thead > tr > td:first-child,
.panel > .table-bordered > tbody > tr > td:first-child,
.panel > .table-responsive > .table-bordered > tbody > tr > td:first-child,
.panel > .table-bordered > tfoot > tr > td:first-child,
.panel > .table-responsive > .table-bordered > tfoot > tr > td:first-child {
  border-left: 0;
}
.panel > .table-bordered > thead > tr > th:last-child,
.panel > .table-responsive > .table-bordered > thead > tr > th:last-child,
.panel > .table-bordered > tbody > tr > th:last-child,
.panel > .table-responsive > .table-bordered > tbody > tr > th:last-child,
.panel > .table-bordered > tfoot > tr > th:last-child,
.panel > .table-responsive > .table-bordered > tfoot > tr > th:last-child,
.panel > .table-bordered > thead > tr > td:last-child,
.panel > .table-responsive > .table-bordered > thead > tr > td:last-child,
.panel > .table-bordered > tbody > tr > td:last-child,
.panel > .table-responsive > .table-bordered > tbody > tr > td:last-child,
.panel > .table-bordered > tfoot > tr > td:last-child,
.panel > .table-responsive > .table-bordered > tfoot > tr > td:last-child {
  border-right: 0;
}
.panel > .table-bordered > thead > tr:first-child > td,
.panel > .table-responsive > .table-bordered > thead > tr:first-child > td,
.panel > .table-bordered > tbody > tr:first-child > td,
.panel > .table-responsive > .table-bordered > tbody > tr:first-child > td,
.panel > .table-bordered > thead > tr:first-child > th,
.panel > .table-responsive > .table-bordered > thead > tr:first-child > th,
.panel > .table-bordered > tbody > tr:first-child > th,
.panel > .table-responsive > .table-bordered > tbody > tr:first-child > th {
  border-bottom: 0;
}
.panel > .table-bordered > tbody > tr:last-child > td,
.panel > .table-responsive > .table-bordered > tbody > tr:last-child > td,
.panel > .table-bordered > tfoot > tr:last-child > td,
.panel > .table-responsive > .table-bordered > tfoot > tr:last-child > td,
.panel > .table-bordered > tbody > tr:last-child > th,
.panel > .table-responsive > .table-bordered > tbody > tr:last-child > th,
.panel > .table-bordered > tfoot > tr:last-child > th,
.panel > .table-responsive > .table-bordered > tfoot > tr:last-child > th {
  border-bottom: 0;
}
.panel > .table-responsive {
  border: 0;
  margin-bottom: 0;
}
.panel-group {
  margin-bottom: 18px;
}
.panel-group .panel {
  margin-bottom: 0;
  border-radius: 2px;
}
.panel-group .panel + .panel {
  margin-top: 5px;
}
.panel-group .panel-heading {
  border-bottom: 0;
}
.panel-group .panel-heading + .panel-collapse > .panel-body,
.panel-group .panel-heading + .panel-collapse > .list-group {
  border-top: 1px solid #ddd;
}
.panel-group .panel-footer {
  border-top: 0;
}
.panel-group .panel-footer + .panel-collapse .panel-body {
  border-bottom: 1px solid #ddd;
}
.panel-default {
  border-color: #ddd;
}
.panel-default > .panel-heading {
  color: #333333;
  background-color: #f5f5f5;
  border-color: #ddd;
}
.panel-default > .panel-heading + .panel-collapse > .panel-body {
  border-top-color: #ddd;
}
.panel-default > .panel-heading .badge {
  color: #f5f5f5;
  background-color: #333333;
}
.panel-default > .panel-footer + .panel-collapse > .panel-body {
  border-bottom-color: #ddd;
}
.panel-primary {
  border-color: #337ab7;
}
.panel-primary > .panel-heading {
  color: #fff;
  background-color: #337ab7;
  border-color: #337ab7;
}
.panel-primary > .panel-heading + .panel-collapse > .panel-body {
  border-top-color: #337ab7;
}
.panel-primary > .panel-heading .badge {
  color: #337ab7;
  background-color: #fff;
}
.panel-primary > .panel-footer + .panel-collapse > .panel-body {
  border-bottom-color: #337ab7;
}
.panel-success {
  border-color: #d6e9c6;
}
.panel-success > .panel-heading {
  color: #3c763d;
  background-color: #dff0d8;
  border-color: #d6e9c6;
}
.panel-success > .panel-heading + .panel-collapse > .panel-body {
  border-top-color: #d6e9c6;
}
.panel-success > .panel-heading .badge {
  color: #dff0d8;
  background-color: #3c763d;
}
.panel-success > .panel-footer + .panel-collapse > .panel-body {
  border-bottom-color: #d6e9c6;
}
.panel-info {
  border-color: #bce8f1;
}
.panel-info > .panel-heading {
  color: #31708f;
  background-color: #d9edf7;
  border-color: #bce8f1;
}
.panel-info > .panel-heading + .panel-collapse > .panel-body {
  border-top-color: #bce8f1;
}
.panel-info > .panel-heading .badge {
  color: #d9edf7;
  background-color: #31708f;
}
.panel-info > .panel-footer + .panel-collapse > .panel-body {
  border-bottom-color: #bce8f1;
}
.panel-warning {
  border-color: #faebcc;
}
.panel-warning > .panel-heading {
  color: #8a6d3b;
  background-color: #fcf8e3;
  border-color: #faebcc;
}
.panel-warning > .panel-heading + .panel-collapse > .panel-body {
  border-top-color: #faebcc;
}
.panel-warning > .panel-heading .badge {
  color: #fcf8e3;
  background-color: #8a6d3b;
}
.panel-warning > .panel-footer + .panel-collapse > .panel-body {
  border-bottom-color: #faebcc;
}
.panel-danger {
  border-color: #ebccd1;
}
.panel-danger > .panel-heading {
  color: #a94442;
  background-color: #f2dede;
  border-color: #ebccd1;
}
.panel-danger > .panel-heading + .panel-collapse > .panel-body {
  border-top-color: #ebccd1;
}
.panel-danger > .panel-heading .badge {
  color: #f2dede;
  background-color: #a94442;
}
.panel-danger > .panel-footer + .panel-collapse > .panel-body {
  border-bottom-color: #ebccd1;
}
.embed-responsive {
  position: relative;
  display: block;
  height: 0;
  padding: 0;
  overflow: hidden;
}
.embed-responsive .embed-responsive-item,
.embed-responsive iframe,
.embed-responsive embed,
.embed-responsive object,
.embed-responsive video {
  position: absolute;
  top: 0;
  left: 0;
  bottom: 0;
  height: 100%;
  width: 100%;
  border: 0;
}
.embed-responsive-16by9 {
  padding-bottom: 56.25%;
}
.embed-responsive-4by3 {
  padding-bottom: 75%;
}
.well {
  min-height: 20px;
  padding: 19px;
  margin-bottom: 20px;
  background-color: #f5f5f5;
  border: 1px solid #e3e3e3;
  border-radius: 2px;
  -webkit-box-shadow: inset 0 1px 1px rgba(0, 0, 0, 0.05);
  box-shadow: inset 0 1px 1px rgba(0, 0, 0, 0.05);
}
.well blockquote {
  border-color: #ddd;
  border-color: rgba(0, 0, 0, 0.15);
}
.well-lg {
  padding: 24px;
  border-radius: 3px;
}
.well-sm {
  padding: 9px;
  border-radius: 1px;
}
.close {
  float: right;
  font-size: 19.5px;
  font-weight: bold;
  line-height: 1;
  color: #000;
  text-shadow: 0 1px 0 #fff;
  opacity: 0.2;
  filter: alpha(opacity=20);
}
.close:hover,
.close:focus {
  color: #000;
  text-decoration: none;
  cursor: pointer;
  opacity: 0.5;
  filter: alpha(opacity=50);
}
button.close {
  padding: 0;
  cursor: pointer;
  background: transparent;
  border: 0;
  -webkit-appearance: none;
}
.modal-open {
  overflow: hidden;
}
.modal {
  display: none;
  overflow: hidden;
  position: fixed;
  top: 0;
  right: 0;
  bottom: 0;
  left: 0;
  z-index: 1050;
  -webkit-overflow-scrolling: touch;
  outline: 0;
}
.modal.fade .modal-dialog {
  -webkit-transform: translate(0, -25%);
  -ms-transform: translate(0, -25%);
  -o-transform: translate(0, -25%);
  transform: translate(0, -25%);
  -webkit-transition: -webkit-transform 0.3s ease-out;
  -moz-transition: -moz-transform 0.3s ease-out;
  -o-transition: -o-transform 0.3s ease-out;
  transition: transform 0.3s ease-out;
}
.modal.in .modal-dialog {
  -webkit-transform: translate(0, 0);
  -ms-transform: translate(0, 0);
  -o-transform: translate(0, 0);
  transform: translate(0, 0);
}
.modal-open .modal {
  overflow-x: hidden;
  overflow-y: auto;
}
.modal-dialog {
  position: relative;
  width: auto;
  margin: 10px;
}
.modal-content {
  position: relative;
  background-color: #fff;
  border: 1px solid #999;
  border: 1px solid rgba(0, 0, 0, 0.2);
  border-radius: 3px;
  -webkit-box-shadow: 0 3px 9px rgba(0, 0, 0, 0.5);
  box-shadow: 0 3px 9px rgba(0, 0, 0, 0.5);
  background-clip: padding-box;
  outline: 0;
}
.modal-backdrop {
  position: fixed;
  top: 0;
  right: 0;
  bottom: 0;
  left: 0;
  z-index: 1040;
  background-color: #000;
}
.modal-backdrop.fade {
  opacity: 0;
  filter: alpha(opacity=0);
}
.modal-backdrop.in {
  opacity: 0.5;
  filter: alpha(opacity=50);
}
.modal-header {
  padding: 15px;
  border-bottom: 1px solid #e5e5e5;
}
.modal-header .close {
  margin-top: -2px;
}
.modal-title {
  margin: 0;
  line-height: 1.42857143;
}
.modal-body {
  position: relative;
  padding: 15px;
}
.modal-footer {
  padding: 15px;
  text-align: right;
  border-top: 1px solid #e5e5e5;
}
.modal-footer .btn + .btn {
  margin-left: 5px;
  margin-bottom: 0;
}
.modal-footer .btn-group .btn + .btn {
  margin-left: -1px;
}
.modal-footer .btn-block + .btn-block {
  margin-left: 0;
}
.modal-scrollbar-measure {
  position: absolute;
  top: -9999px;
  width: 50px;
  height: 50px;
  overflow: scroll;
}
@media (min-width: 768px) {
  .modal-dialog {
    width: 600px;
    margin: 30px auto;
  }
  .modal-content {
    -webkit-box-shadow: 0 5px 15px rgba(0, 0, 0, 0.5);
    box-shadow: 0 5px 15px rgba(0, 0, 0, 0.5);
  }
  .modal-sm {
    width: 300px;
  }
}
@media (min-width: 992px) {
  .modal-lg {
    width: 900px;
  }
}
.tooltip {
  position: absolute;
  z-index: 1070;
  display: block;
  font-family: "Helvetica Neue", Helvetica, Arial, sans-serif;
  font-style: normal;
  font-weight: normal;
  letter-spacing: normal;
  line-break: auto;
  line-height: 1.42857143;
  text-align: left;
  text-align: start;
  text-decoration: none;
  text-shadow: none;
  text-transform: none;
  white-space: normal;
  word-break: normal;
  word-spacing: normal;
  word-wrap: normal;
  font-size: 12px;
  opacity: 0;
  filter: alpha(opacity=0);
}
.tooltip.in {
  opacity: 0.9;
  filter: alpha(opacity=90);
}
.tooltip.top {
  margin-top: -3px;
  padding: 5px 0;
}
.tooltip.right {
  margin-left: 3px;
  padding: 0 5px;
}
.tooltip.bottom {
  margin-top: 3px;
  padding: 5px 0;
}
.tooltip.left {
  margin-left: -3px;
  padding: 0 5px;
}
.tooltip-inner {
  max-width: 200px;
  padding: 3px 8px;
  color: #fff;
  text-align: center;
  background-color: #000;
  border-radius: 2px;
}
.tooltip-arrow {
  position: absolute;
  width: 0;
  height: 0;
  border-color: transparent;
  border-style: solid;
}
.tooltip.top .tooltip-arrow {
  bottom: 0;
  left: 50%;
  margin-left: -5px;
  border-width: 5px 5px 0;
  border-top-color: #000;
}
.tooltip.top-left .tooltip-arrow {
  bottom: 0;
  right: 5px;
  margin-bottom: -5px;
  border-width: 5px 5px 0;
  border-top-color: #000;
}
.tooltip.top-right .tooltip-arrow {
  bottom: 0;
  left: 5px;
  margin-bottom: -5px;
  border-width: 5px 5px 0;
  border-top-color: #000;
}
.tooltip.right .tooltip-arrow {
  top: 50%;
  left: 0;
  margin-top: -5px;
  border-width: 5px 5px 5px 0;
  border-right-color: #000;
}
.tooltip.left .tooltip-arrow {
  top: 50%;
  right: 0;
  margin-top: -5px;
  border-width: 5px 0 5px 5px;
  border-left-color: #000;
}
.tooltip.bottom .tooltip-arrow {
  top: 0;
  left: 50%;
  margin-left: -5px;
  border-width: 0 5px 5px;
  border-bottom-color: #000;
}
.tooltip.bottom-left .tooltip-arrow {
  top: 0;
  right: 5px;
  margin-top: -5px;
  border-width: 0 5px 5px;
  border-bottom-color: #000;
}
.tooltip.bottom-right .tooltip-arrow {
  top: 0;
  left: 5px;
  margin-top: -5px;
  border-width: 0 5px 5px;
  border-bottom-color: #000;
}
.popover {
  position: absolute;
  top: 0;
  left: 0;
  z-index: 1060;
  display: none;
  max-width: 276px;
  padding: 1px;
  font-family: "Helvetica Neue", Helvetica, Arial, sans-serif;
  font-style: normal;
  font-weight: normal;
  letter-spacing: normal;
  line-break: auto;
  line-height: 1.42857143;
  text-align: left;
  text-align: start;
  text-decoration: none;
  text-shadow: none;
  text-transform: none;
  white-space: normal;
  word-break: normal;
  word-spacing: normal;
  word-wrap: normal;
  font-size: 13px;
  background-color: #fff;
  background-clip: padding-box;
  border: 1px solid #ccc;
  border: 1px solid rgba(0, 0, 0, 0.2);
  border-radius: 3px;
  -webkit-box-shadow: 0 5px 10px rgba(0, 0, 0, 0.2);
  box-shadow: 0 5px 10px rgba(0, 0, 0, 0.2);
}
.popover.top {
  margin-top: -10px;
}
.popover.right {
  margin-left: 10px;
}
.popover.bottom {
  margin-top: 10px;
}
.popover.left {
  margin-left: -10px;
}
.popover-title {
  margin: 0;
  padding: 8px 14px;
  font-size: 13px;
  background-color: #f7f7f7;
  border-bottom: 1px solid #ebebeb;
  border-radius: 2px 2px 0 0;
}
.popover-content {
  padding: 9px 14px;
}
.popover > .arrow,
.popover > .arrow:after {
  position: absolute;
  display: block;
  width: 0;
  height: 0;
  border-color: transparent;
  border-style: solid;
}
.popover > .arrow {
  border-width: 11px;
}
.popover > .arrow:after {
  border-width: 10px;
  content: "";
}
.popover.top > .arrow {
  left: 50%;
  margin-left: -11px;
  border-bottom-width: 0;
  border-top-color: #999999;
  border-top-color: rgba(0, 0, 0, 0.25);
  bottom: -11px;
}
.popover.top > .arrow:after {
  content: " ";
  bottom: 1px;
  margin-left: -10px;
  border-bottom-width: 0;
  border-top-color: #fff;
}
.popover.right > .arrow {
  top: 50%;
  left: -11px;
  margin-top: -11px;
  border-left-width: 0;
  border-right-color: #999999;
  border-right-color: rgba(0, 0, 0, 0.25);
}
.popover.right > .arrow:after {
  content: " ";
  left: 1px;
  bottom: -10px;
  border-left-width: 0;
  border-right-color: #fff;
}
.popover.bottom > .arrow {
  left: 50%;
  margin-left: -11px;
  border-top-width: 0;
  border-bottom-color: #999999;
  border-bottom-color: rgba(0, 0, 0, 0.25);
  top: -11px;
}
.popover.bottom > .arrow:after {
  content: " ";
  top: 1px;
  margin-left: -10px;
  border-top-width: 0;
  border-bottom-color: #fff;
}
.popover.left > .arrow {
  top: 50%;
  right: -11px;
  margin-top: -11px;
  border-right-width: 0;
  border-left-color: #999999;
  border-left-color: rgba(0, 0, 0, 0.25);
}
.popover.left > .arrow:after {
  content: " ";
  right: 1px;
  border-right-width: 0;
  border-left-color: #fff;
  bottom: -10px;
}
.carousel {
  position: relative;
}
.carousel-inner {
  position: relative;
  overflow: hidden;
  width: 100%;
}
.carousel-inner > .item {
  display: none;
  position: relative;
  -webkit-transition: 0.6s ease-in-out left;
  -o-transition: 0.6s ease-in-out left;
  transition: 0.6s ease-in-out left;
}
.carousel-inner > .item > img,
.carousel-inner > .item > a > img {
  line-height: 1;
}
@media all and (transform-3d), (-webkit-transform-3d) {
  .carousel-inner > .item {
    -webkit-transition: -webkit-transform 0.6s ease-in-out;
    -moz-transition: -moz-transform 0.6s ease-in-out;
    -o-transition: -o-transform 0.6s ease-in-out;
    transition: transform 0.6s ease-in-out;
    -webkit-backface-visibility: hidden;
    -moz-backface-visibility: hidden;
    backface-visibility: hidden;
    -webkit-perspective: 1000px;
    -moz-perspective: 1000px;
    perspective: 1000px;
  }
  .carousel-inner > .item.next,
  .carousel-inner > .item.active.right {
    -webkit-transform: translate3d(100%, 0, 0);
    transform: translate3d(100%, 0, 0);
    left: 0;
  }
  .carousel-inner > .item.prev,
  .carousel-inner > .item.active.left {
    -webkit-transform: translate3d(-100%, 0, 0);
    transform: translate3d(-100%, 0, 0);
    left: 0;
  }
  .carousel-inner > .item.next.left,
  .carousel-inner > .item.prev.right,
  .carousel-inner > .item.active {
    -webkit-transform: translate3d(0, 0, 0);
    transform: translate3d(0, 0, 0);
    left: 0;
  }
}
.carousel-inner > .active,
.carousel-inner > .next,
.carousel-inner > .prev {
  display: block;
}
.carousel-inner > .active {
  left: 0;
}
.carousel-inner > .next,
.carousel-inner > .prev {
  position: absolute;
  top: 0;
  width: 100%;
}
.carousel-inner > .next {
  left: 100%;
}
.carousel-inner > .prev {
  left: -100%;
}
.carousel-inner > .next.left,
.carousel-inner > .prev.right {
  left: 0;
}
.carousel-inner > .active.left {
  left: -100%;
}
.carousel-inner > .active.right {
  left: 100%;
}
.carousel-control {
  position: absolute;
  top: 0;
  left: 0;
  bottom: 0;
  width: 15%;
  opacity: 0.5;
  filter: alpha(opacity=50);
  font-size: 20px;
  color: #fff;
  text-align: center;
  text-shadow: 0 1px 2px rgba(0, 0, 0, 0.6);
  background-color: rgba(0, 0, 0, 0);
}
.carousel-control.left {
  background-image: -webkit-linear-gradient(left, rgba(0, 0, 0, 0.5) 0%, rgba(0, 0, 0, 0.0001) 100%);
  background-image: -o-linear-gradient(left, rgba(0, 0, 0, 0.5) 0%, rgba(0, 0, 0, 0.0001) 100%);
  background-image: linear-gradient(to right, rgba(0, 0, 0, 0.5) 0%, rgba(0, 0, 0, 0.0001) 100%);
  background-repeat: repeat-x;
  filter: progid:DXImageTransform.Microsoft.gradient(startColorstr='#80000000', endColorstr='#00000000', GradientType=1);
}
.carousel-control.right {
  left: auto;
  right: 0;
  background-image: -webkit-linear-gradient(left, rgba(0, 0, 0, 0.0001) 0%, rgba(0, 0, 0, 0.5) 100%);
  background-image: -o-linear-gradient(left, rgba(0, 0, 0, 0.0001) 0%, rgba(0, 0, 0, 0.5) 100%);
  background-image: linear-gradient(to right, rgba(0, 0, 0, 0.0001) 0%, rgba(0, 0, 0, 0.5) 100%);
  background-repeat: repeat-x;
  filter: progid:DXImageTransform.Microsoft.gradient(startColorstr='#00000000', endColorstr='#80000000', GradientType=1);
}
.carousel-control:hover,
.carousel-control:focus {
  outline: 0;
  color: #fff;
  text-decoration: none;
  opacity: 0.9;
  filter: alpha(opacity=90);
}
.carousel-control .icon-prev,
.carousel-control .icon-next,
.carousel-control .glyphicon-chevron-left,
.carousel-control .glyphicon-chevron-right {
  position: absolute;
  top: 50%;
  margin-top: -10px;
  z-index: 5;
  display: inline-block;
}
.carousel-control .icon-prev,
.carousel-control .glyphicon-chevron-left {
  left: 50%;
  margin-left: -10px;
}
.carousel-control .icon-next,
.carousel-control .glyphicon-chevron-right {
  right: 50%;
  margin-right: -10px;
}
.carousel-control .icon-prev,
.carousel-control .icon-next {
  width: 20px;
  height: 20px;
  line-height: 1;
  font-family: serif;
}
.carousel-control .icon-prev:before {
  content: '\2039';
}
.carousel-control .icon-next:before {
  content: '\203a';
}
.carousel-indicators {
  position: absolute;
  bottom: 10px;
  left: 50%;
  z-index: 15;
  width: 60%;
  margin-left: -30%;
  padding-left: 0;
  list-style: none;
  text-align: center;
}
.carousel-indicators li {
  display: inline-block;
  width: 10px;
  height: 10px;
  margin: 1px;
  text-indent: -999px;
  border: 1px solid #fff;
  border-radius: 10px;
  cursor: pointer;
  background-color: #000 \9;
  background-color: rgba(0, 0, 0, 0);
}
.carousel-indicators .active {
  margin: 0;
  width: 12px;
  height: 12px;
  background-color: #fff;
}
.carousel-caption {
  position: absolute;
  left: 15%;
  right: 15%;
  bottom: 20px;
  z-index: 10;
  padding-top: 20px;
  padding-bottom: 20px;
  color: #fff;
  text-align: center;
  text-shadow: 0 1px 2px rgba(0, 0, 0, 0.6);
}
.carousel-caption .btn {
  text-shadow: none;
}
@media screen and (min-width: 768px) {
  .carousel-control .glyphicon-chevron-left,
  .carousel-control .glyphicon-chevron-right,
  .carousel-control .icon-prev,
  .carousel-control .icon-next {
    width: 30px;
    height: 30px;
    margin-top: -10px;
    font-size: 30px;
  }
  .carousel-control .glyphicon-chevron-left,
  .carousel-control .icon-prev {
    margin-left: -10px;
  }
  .carousel-control .glyphicon-chevron-right,
  .carousel-control .icon-next {
    margin-right: -10px;
  }
  .carousel-caption {
    left: 20%;
    right: 20%;
    padding-bottom: 30px;
  }
  .carousel-indicators {
    bottom: 20px;
  }
}
.clearfix:before,
.clearfix:after,
.dl-horizontal dd:before,
.dl-horizontal dd:after,
.container:before,
.container:after,
.container-fluid:before,
.container-fluid:after,
.row:before,
.row:after,
.form-horizontal .form-group:before,
.form-horizontal .form-group:after,
.btn-toolbar:before,
.btn-toolbar:after,
.btn-group-vertical > .btn-group:before,
.btn-group-vertical > .btn-group:after,
.nav:before,
.nav:after,
.navbar:before,
.navbar:after,
.navbar-header:before,
.navbar-header:after,
.navbar-collapse:before,
.navbar-collapse:after,
.pager:before,
.pager:after,
.panel-body:before,
.panel-body:after,
.modal-header:before,
.modal-header:after,
.modal-footer:before,
.modal-footer:after,
.item_buttons:before,
.item_buttons:after {
  content: " ";
  display: table;
}
.clearfix:after,
.dl-horizontal dd:after,
.container:after,
.container-fluid:after,
.row:after,
.form-horizontal .form-group:after,
.btn-toolbar:after,
.btn-group-vertical > .btn-group:after,
.nav:after,
.navbar:after,
.navbar-header:after,
.navbar-collapse:after,
.pager:after,
.panel-body:after,
.modal-header:after,
.modal-footer:after,
.item_buttons:after {
  clear: both;
}
.center-block {
  display: block;
  margin-left: auto;
  margin-right: auto;
}
.pull-right {
  float: right !important;
}
.pull-left {
  float: left !important;
}
.hide {
  display: none !important;
}
.show {
  display: block !important;
}
.invisible {
  visibility: hidden;
}
.text-hide {
  font: 0/0 a;
  color: transparent;
  text-shadow: none;
  background-color: transparent;
  border: 0;
}
.hidden {
  display: none !important;
}
.affix {
  position: fixed;
}
@-ms-viewport {
  width: device-width;
}
.visible-xs,
.visible-sm,
.visible-md,
.visible-lg {
  display: none !important;
}
.visible-xs-block,
.visible-xs-inline,
.visible-xs-inline-block,
.visible-sm-block,
.visible-sm-inline,
.visible-sm-inline-block,
.visible-md-block,
.visible-md-inline,
.visible-md-inline-block,
.visible-lg-block,
.visible-lg-inline,
.visible-lg-inline-block {
  display: none !important;
}
@media (max-width: 767px) {
  .visible-xs {
    display: block !important;
  }
  table.visible-xs {
    display: table !important;
  }
  tr.visible-xs {
    display: table-row !important;
  }
  th.visible-xs,
  td.visible-xs {
    display: table-cell !important;
  }
}
@media (max-width: 767px) {
  .visible-xs-block {
    display: block !important;
  }
}
@media (max-width: 767px) {
  .visible-xs-inline {
    display: inline !important;
  }
}
@media (max-width: 767px) {
  .visible-xs-inline-block {
    display: inline-block !important;
  }
}
@media (min-width: 768px) and (max-width: 991px) {
  .visible-sm {
    display: block !important;
  }
  table.visible-sm {
    display: table !important;
  }
  tr.visible-sm {
    display: table-row !important;
  }
  th.visible-sm,
  td.visible-sm {
    display: table-cell !important;
  }
}
@media (min-width: 768px) and (max-width: 991px) {
  .visible-sm-block {
    display: block !important;
  }
}
@media (min-width: 768px) and (max-width: 991px) {
  .visible-sm-inline {
    display: inline !important;
  }
}
@media (min-width: 768px) and (max-width: 991px) {
  .visible-sm-inline-block {
    display: inline-block !important;
  }
}
@media (min-width: 992px) and (max-width: 1199px) {
  .visible-md {
    display: block !important;
  }
  table.visible-md {
    display: table !important;
  }
  tr.visible-md {
    display: table-row !important;
  }
  th.visible-md,
  td.visible-md {
    display: table-cell !important;
  }
}
@media (min-width: 992px) and (max-width: 1199px) {
  .visible-md-block {
    display: block !important;
  }
}
@media (min-width: 992px) and (max-width: 1199px) {
  .visible-md-inline {
    display: inline !important;
  }
}
@media (min-width: 992px) and (max-width: 1199px) {
  .visible-md-inline-block {
    display: inline-block !important;
  }
}
@media (min-width: 1200px) {
  .visible-lg {
    display: block !important;
  }
  table.visible-lg {
    display: table !important;
  }
  tr.visible-lg {
    display: table-row !important;
  }
  th.visible-lg,
  td.visible-lg {
    display: table-cell !important;
  }
}
@media (min-width: 1200px) {
  .visible-lg-block {
    display: block !important;
  }
}
@media (min-width: 1200px) {
  .visible-lg-inline {
    display: inline !important;
  }
}
@media (min-width: 1200px) {
  .visible-lg-inline-block {
    display: inline-block !important;
  }
}
@media (max-width: 767px) {
  .hidden-xs {
    display: none !important;
  }
}
@media (min-width: 768px) and (max-width: 991px) {
  .hidden-sm {
    display: none !important;
  }
}
@media (min-width: 992px) and (max-width: 1199px) {
  .hidden-md {
    display: none !important;
  }
}
@media (min-width: 1200px) {
  .hidden-lg {
    display: none !important;
  }
}
.visible-print {
  display: none !important;
}
@media print {
  .visible-print {
    display: block !important;
  }
  table.visible-print {
    display: table !important;
  }
  tr.visible-print {
    display: table-row !important;
  }
  th.visible-print,
  td.visible-print {
    display: table-cell !important;
  }
}
.visible-print-block {
  display: none !important;
}
@media print {
  .visible-print-block {
    display: block !important;
  }
}
.visible-print-inline {
  display: none !important;
}
@media print {
  .visible-print-inline {
    display: inline !important;
  }
}
.visible-print-inline-block {
  display: none !important;
}
@media print {
  .visible-print-inline-block {
    display: inline-block !important;
  }
}
@media print {
  .hidden-print {
    display: none !important;
  }
}
/*!
*
* Font Awesome
*
*/
/*!
 *  Font Awesome 4.7.0 by @davegandy - http://fontawesome.io - @fontawesome
 *  License - http://fontawesome.io/license (Font: SIL OFL 1.1, CSS: MIT License)
 */
/* FONT PATH
 * -------------------------- */
@font-face {
  font-family: 'FontAwesome';
  src: url('../components/font-awesome/fonts/fontawesome-webfont.eot?v=4.7.0');
  src: url('../components/font-awesome/fonts/fontawesome-webfont.eot?#iefix&v=4.7.0') format('embedded-opentype'), url('../components/font-awesome/fonts/fontawesome-webfont.woff2?v=4.7.0') format('woff2'), url('../components/font-awesome/fonts/fontawesome-webfont.woff?v=4.7.0') format('woff'), url('../components/font-awesome/fonts/fontawesome-webfont.ttf?v=4.7.0') format('truetype'), url('../components/font-awesome/fonts/fontawesome-webfont.svg?v=4.7.0#fontawesomeregular') format('svg');
  font-weight: normal;
  font-style: normal;
}
.fa {
  display: inline-block;
  font: normal normal normal 14px/1 FontAwesome;
  font-size: inherit;
  text-rendering: auto;
  -webkit-font-smoothing: antialiased;
  -moz-osx-font-smoothing: grayscale;
}
/* makes the font 33% larger relative to the icon container */
.fa-lg {
  font-size: 1.33333333em;
  line-height: 0.75em;
  vertical-align: -15%;
}
.fa-2x {
  font-size: 2em;
}
.fa-3x {
  font-size: 3em;
}
.fa-4x {
  font-size: 4em;
}
.fa-5x {
  font-size: 5em;
}
.fa-fw {
  width: 1.28571429em;
  text-align: center;
}
.fa-ul {
  padding-left: 0;
  margin-left: 2.14285714em;
  list-style-type: none;
}
.fa-ul > li {
  position: relative;
}
.fa-li {
  position: absolute;
  left: -2.14285714em;
  width: 2.14285714em;
  top: 0.14285714em;
  text-align: center;
}
.fa-li.fa-lg {
  left: -1.85714286em;
}
.fa-border {
  padding: .2em .25em .15em;
  border: solid 0.08em #eee;
  border-radius: .1em;
}
.fa-pull-left {
  float: left;
}
.fa-pull-right {
  float: right;
}
.fa.fa-pull-left {
  margin-right: .3em;
}
.fa.fa-pull-right {
  margin-left: .3em;
}
/* Deprecated as of 4.4.0 */
.pull-right {
  float: right;
}
.pull-left {
  float: left;
}
.fa.pull-left {
  margin-right: .3em;
}
.fa.pull-right {
  margin-left: .3em;
}
.fa-spin {
  -webkit-animation: fa-spin 2s infinite linear;
  animation: fa-spin 2s infinite linear;
}
.fa-pulse {
  -webkit-animation: fa-spin 1s infinite steps(8);
  animation: fa-spin 1s infinite steps(8);
}
@-webkit-keyframes fa-spin {
  0% {
    -webkit-transform: rotate(0deg);
    transform: rotate(0deg);
  }
  100% {
    -webkit-transform: rotate(359deg);
    transform: rotate(359deg);
  }
}
@keyframes fa-spin {
  0% {
    -webkit-transform: rotate(0deg);
    transform: rotate(0deg);
  }
  100% {
    -webkit-transform: rotate(359deg);
    transform: rotate(359deg);
  }
}
.fa-rotate-90 {
  -ms-filter: "progid:DXImageTransform.Microsoft.BasicImage(rotation=1)";
  -webkit-transform: rotate(90deg);
  -ms-transform: rotate(90deg);
  transform: rotate(90deg);
}
.fa-rotate-180 {
  -ms-filter: "progid:DXImageTransform.Microsoft.BasicImage(rotation=2)";
  -webkit-transform: rotate(180deg);
  -ms-transform: rotate(180deg);
  transform: rotate(180deg);
}
.fa-rotate-270 {
  -ms-filter: "progid:DXImageTransform.Microsoft.BasicImage(rotation=3)";
  -webkit-transform: rotate(270deg);
  -ms-transform: rotate(270deg);
  transform: rotate(270deg);
}
.fa-flip-horizontal {
  -ms-filter: "progid:DXImageTransform.Microsoft.BasicImage(rotation=0, mirror=1)";
  -webkit-transform: scale(-1, 1);
  -ms-transform: scale(-1, 1);
  transform: scale(-1, 1);
}
.fa-flip-vertical {
  -ms-filter: "progid:DXImageTransform.Microsoft.BasicImage(rotation=2, mirror=1)";
  -webkit-transform: scale(1, -1);
  -ms-transform: scale(1, -1);
  transform: scale(1, -1);
}
:root .fa-rotate-90,
:root .fa-rotate-180,
:root .fa-rotate-270,
:root .fa-flip-horizontal,
:root .fa-flip-vertical {
  filter: none;
}
.fa-stack {
  position: relative;
  display: inline-block;
  width: 2em;
  height: 2em;
  line-height: 2em;
  vertical-align: middle;
}
.fa-stack-1x,
.fa-stack-2x {
  position: absolute;
  left: 0;
  width: 100%;
  text-align: center;
}
.fa-stack-1x {
  line-height: inherit;
}
.fa-stack-2x {
  font-size: 2em;
}
.fa-inverse {
  color: #fff;
}
/* Font Awesome uses the Unicode Private Use Area (PUA) to ensure screen
   readers do not read off random characters that represent icons */
.fa-glass:before {
  content: "\f000";
}
.fa-music:before {
  content: "\f001";
}
.fa-search:before {
  content: "\f002";
}
.fa-envelope-o:before {
  content: "\f003";
}
.fa-heart:before {
  content: "\f004";
}
.fa-star:before {
  content: "\f005";
}
.fa-star-o:before {
  content: "\f006";
}
.fa-user:before {
  content: "\f007";
}
.fa-film:before {
  content: "\f008";
}
.fa-th-large:before {
  content: "\f009";
}
.fa-th:before {
  content: "\f00a";
}
.fa-th-list:before {
  content: "\f00b";
}
.fa-check:before {
  content: "\f00c";
}
.fa-remove:before,
.fa-close:before,
.fa-times:before {
  content: "\f00d";
}
.fa-search-plus:before {
  content: "\f00e";
}
.fa-search-minus:before {
  content: "\f010";
}
.fa-power-off:before {
  content: "\f011";
}
.fa-signal:before {
  content: "\f012";
}
.fa-gear:before,
.fa-cog:before {
  content: "\f013";
}
.fa-trash-o:before {
  content: "\f014";
}
.fa-home:before {
  content: "\f015";
}
.fa-file-o:before {
  content: "\f016";
}
.fa-clock-o:before {
  content: "\f017";
}
.fa-road:before {
  content: "\f018";
}
.fa-download:before {
  content: "\f019";
}
.fa-arrow-circle-o-down:before {
  content: "\f01a";
}
.fa-arrow-circle-o-up:before {
  content: "\f01b";
}
.fa-inbox:before {
  content: "\f01c";
}
.fa-play-circle-o:before {
  content: "\f01d";
}
.fa-rotate-right:before,
.fa-repeat:before {
  content: "\f01e";
}
.fa-refresh:before {
  content: "\f021";
}
.fa-list-alt:before {
  content: "\f022";
}
.fa-lock:before {
  content: "\f023";
}
.fa-flag:before {
  content: "\f024";
}
.fa-headphones:before {
  content: "\f025";
}
.fa-volume-off:before {
  content: "\f026";
}
.fa-volume-down:before {
  content: "\f027";
}
.fa-volume-up:before {
  content: "\f028";
}
.fa-qrcode:before {
  content: "\f029";
}
.fa-barcode:before {
  content: "\f02a";
}
.fa-tag:before {
  content: "\f02b";
}
.fa-tags:before {
  content: "\f02c";
}
.fa-book:before {
  content: "\f02d";
}
.fa-bookmark:before {
  content: "\f02e";
}
.fa-print:before {
  content: "\f02f";
}
.fa-camera:before {
  content: "\f030";
}
.fa-font:before {
  content: "\f031";
}
.fa-bold:before {
  content: "\f032";
}
.fa-italic:before {
  content: "\f033";
}
.fa-text-height:before {
  content: "\f034";
}
.fa-text-width:before {
  content: "\f035";
}
.fa-align-left:before {
  content: "\f036";
}
.fa-align-center:before {
  content: "\f037";
}
.fa-align-right:before {
  content: "\f038";
}
.fa-align-justify:before {
  content: "\f039";
}
.fa-list:before {
  content: "\f03a";
}
.fa-dedent:before,
.fa-outdent:before {
  content: "\f03b";
}
.fa-indent:before {
  content: "\f03c";
}
.fa-video-camera:before {
  content: "\f03d";
}
.fa-photo:before,
.fa-image:before,
.fa-picture-o:before {
  content: "\f03e";
}
.fa-pencil:before {
  content: "\f040";
}
.fa-map-marker:before {
  content: "\f041";
}
.fa-adjust:before {
  content: "\f042";
}
.fa-tint:before {
  content: "\f043";
}
.fa-edit:before,
.fa-pencil-square-o:before {
  content: "\f044";
}
.fa-share-square-o:before {
  content: "\f045";
}
.fa-check-square-o:before {
  content: "\f046";
}
.fa-arrows:before {
  content: "\f047";
}
.fa-step-backward:before {
  content: "\f048";
}
.fa-fast-backward:before {
  content: "\f049";
}
.fa-backward:before {
  content: "\f04a";
}
.fa-play:before {
  content: "\f04b";
}
.fa-pause:before {
  content: "\f04c";
}
.fa-stop:before {
  content: "\f04d";
}
.fa-forward:before {
  content: "\f04e";
}
.fa-fast-forward:before {
  content: "\f050";
}
.fa-step-forward:before {
  content: "\f051";
}
.fa-eject:before {
  content: "\f052";
}
.fa-chevron-left:before {
  content: "\f053";
}
.fa-chevron-right:before {
  content: "\f054";
}
.fa-plus-circle:before {
  content: "\f055";
}
.fa-minus-circle:before {
  content: "\f056";
}
.fa-times-circle:before {
  content: "\f057";
}
.fa-check-circle:before {
  content: "\f058";
}
.fa-question-circle:before {
  content: "\f059";
}
.fa-info-circle:before {
  content: "\f05a";
}
.fa-crosshairs:before {
  content: "\f05b";
}
.fa-times-circle-o:before {
  content: "\f05c";
}
.fa-check-circle-o:before {
  content: "\f05d";
}
.fa-ban:before {
  content: "\f05e";
}
.fa-arrow-left:before {
  content: "\f060";
}
.fa-arrow-right:before {
  content: "\f061";
}
.fa-arrow-up:before {
  content: "\f062";
}
.fa-arrow-down:before {
  content: "\f063";
}
.fa-mail-forward:before,
.fa-share:before {
  content: "\f064";
}
.fa-expand:before {
  content: "\f065";
}
.fa-compress:before {
  content: "\f066";
}
.fa-plus:before {
  content: "\f067";
}
.fa-minus:before {
  content: "\f068";
}
.fa-asterisk:before {
  content: "\f069";
}
.fa-exclamation-circle:before {
  content: "\f06a";
}
.fa-gift:before {
  content: "\f06b";
}
.fa-leaf:before {
  content: "\f06c";
}
.fa-fire:before {
  content: "\f06d";
}
.fa-eye:before {
  content: "\f06e";
}
.fa-eye-slash:before {
  content: "\f070";
}
.fa-warning:before,
.fa-exclamation-triangle:before {
  content: "\f071";
}
.fa-plane:before {
  content: "\f072";
}
.fa-calendar:before {
  content: "\f073";
}
.fa-random:before {
  content: "\f074";
}
.fa-comment:before {
  content: "\f075";
}
.fa-magnet:before {
  content: "\f076";
}
.fa-chevron-up:before {
  content: "\f077";
}
.fa-chevron-down:before {
  content: "\f078";
}
.fa-retweet:before {
  content: "\f079";
}
.fa-shopping-cart:before {
  content: "\f07a";
}
.fa-folder:before {
  content: "\f07b";
}
.fa-folder-open:before {
  content: "\f07c";
}
.fa-arrows-v:before {
  content: "\f07d";
}
.fa-arrows-h:before {
  content: "\f07e";
}
.fa-bar-chart-o:before,
.fa-bar-chart:before {
  content: "\f080";
}
.fa-twitter-square:before {
  content: "\f081";
}
.fa-facebook-square:before {
  content: "\f082";
}
.fa-camera-retro:before {
  content: "\f083";
}
.fa-key:before {
  content: "\f084";
}
.fa-gears:before,
.fa-cogs:before {
  content: "\f085";
}
.fa-comments:before {
  content: "\f086";
}
.fa-thumbs-o-up:before {
  content: "\f087";
}
.fa-thumbs-o-down:before {
  content: "\f088";
}
.fa-star-half:before {
  content: "\f089";
}
.fa-heart-o:before {
  content: "\f08a";
}
.fa-sign-out:before {
  content: "\f08b";
}
.fa-linkedin-square:before {
  content: "\f08c";
}
.fa-thumb-tack:before {
  content: "\f08d";
}
.fa-external-link:before {
  content: "\f08e";
}
.fa-sign-in:before {
  content: "\f090";
}
.fa-trophy:before {
  content: "\f091";
}
.fa-github-square:before {
  content: "\f092";
}
.fa-upload:before {
  content: "\f093";
}
.fa-lemon-o:before {
  content: "\f094";
}
.fa-phone:before {
  content: "\f095";
}
.fa-square-o:before {
  content: "\f096";
}
.fa-bookmark-o:before {
  content: "\f097";
}
.fa-phone-square:before {
  content: "\f098";
}
.fa-twitter:before {
  content: "\f099";
}
.fa-facebook-f:before,
.fa-facebook:before {
  content: "\f09a";
}
.fa-github:before {
  content: "\f09b";
}
.fa-unlock:before {
  content: "\f09c";
}
.fa-credit-card:before {
  content: "\f09d";
}
.fa-feed:before,
.fa-rss:before {
  content: "\f09e";
}
.fa-hdd-o:before {
  content: "\f0a0";
}
.fa-bullhorn:before {
  content: "\f0a1";
}
.fa-bell:before {
  content: "\f0f3";
}
.fa-certificate:before {
  content: "\f0a3";
}
.fa-hand-o-right:before {
  content: "\f0a4";
}
.fa-hand-o-left:before {
  content: "\f0a5";
}
.fa-hand-o-up:before {
  content: "\f0a6";
}
.fa-hand-o-down:before {
  content: "\f0a7";
}
.fa-arrow-circle-left:before {
  content: "\f0a8";
}
.fa-arrow-circle-right:before {
  content: "\f0a9";
}
.fa-arrow-circle-up:before {
  content: "\f0aa";
}
.fa-arrow-circle-down:before {
  content: "\f0ab";
}
.fa-globe:before {
  content: "\f0ac";
}
.fa-wrench:before {
  content: "\f0ad";
}
.fa-tasks:before {
  content: "\f0ae";
}
.fa-filter:before {
  content: "\f0b0";
}
.fa-briefcase:before {
  content: "\f0b1";
}
.fa-arrows-alt:before {
  content: "\f0b2";
}
.fa-group:before,
.fa-users:before {
  content: "\f0c0";
}
.fa-chain:before,
.fa-link:before {
  content: "\f0c1";
}
.fa-cloud:before {
  content: "\f0c2";
}
.fa-flask:before {
  content: "\f0c3";
}
.fa-cut:before,
.fa-scissors:before {
  content: "\f0c4";
}
.fa-copy:before,
.fa-files-o:before {
  content: "\f0c5";
}
.fa-paperclip:before {
  content: "\f0c6";
}
.fa-save:before,
.fa-floppy-o:before {
  content: "\f0c7";
}
.fa-square:before {
  content: "\f0c8";
}
.fa-navicon:before,
.fa-reorder:before,
.fa-bars:before {
  content: "\f0c9";
}
.fa-list-ul:before {
  content: "\f0ca";
}
.fa-list-ol:before {
  content: "\f0cb";
}
.fa-strikethrough:before {
  content: "\f0cc";
}
.fa-underline:before {
  content: "\f0cd";
}
.fa-table:before {
  content: "\f0ce";
}
.fa-magic:before {
  content: "\f0d0";
}
.fa-truck:before {
  content: "\f0d1";
}
.fa-pinterest:before {
  content: "\f0d2";
}
.fa-pinterest-square:before {
  content: "\f0d3";
}
.fa-google-plus-square:before {
  content: "\f0d4";
}
.fa-google-plus:before {
  content: "\f0d5";
}
.fa-money:before {
  content: "\f0d6";
}
.fa-caret-down:before {
  content: "\f0d7";
}
.fa-caret-up:before {
  content: "\f0d8";
}
.fa-caret-left:before {
  content: "\f0d9";
}
.fa-caret-right:before {
  content: "\f0da";
}
.fa-columns:before {
  content: "\f0db";
}
.fa-unsorted:before,
.fa-sort:before {
  content: "\f0dc";
}
.fa-sort-down:before,
.fa-sort-desc:before {
  content: "\f0dd";
}
.fa-sort-up:before,
.fa-sort-asc:before {
  content: "\f0de";
}
.fa-envelope:before {
  content: "\f0e0";
}
.fa-linkedin:before {
  content: "\f0e1";
}
.fa-rotate-left:before,
.fa-undo:before {
  content: "\f0e2";
}
.fa-legal:before,
.fa-gavel:before {
  content: "\f0e3";
}
.fa-dashboard:before,
.fa-tachometer:before {
  content: "\f0e4";
}
.fa-comment-o:before {
  content: "\f0e5";
}
.fa-comments-o:before {
  content: "\f0e6";
}
.fa-flash:before,
.fa-bolt:before {
  content: "\f0e7";
}
.fa-sitemap:before {
  content: "\f0e8";
}
.fa-umbrella:before {
  content: "\f0e9";
}
.fa-paste:before,
.fa-clipboard:before {
  content: "\f0ea";
}
.fa-lightbulb-o:before {
  content: "\f0eb";
}
.fa-exchange:before {
  content: "\f0ec";
}
.fa-cloud-download:before {
  content: "\f0ed";
}
.fa-cloud-upload:before {
  content: "\f0ee";
}
.fa-user-md:before {
  content: "\f0f0";
}
.fa-stethoscope:before {
  content: "\f0f1";
}
.fa-suitcase:before {
  content: "\f0f2";
}
.fa-bell-o:before {
  content: "\f0a2";
}
.fa-coffee:before {
  content: "\f0f4";
}
.fa-cutlery:before {
  content: "\f0f5";
}
.fa-file-text-o:before {
  content: "\f0f6";
}
.fa-building-o:before {
  content: "\f0f7";
}
.fa-hospital-o:before {
  content: "\f0f8";
}
.fa-ambulance:before {
  content: "\f0f9";
}
.fa-medkit:before {
  content: "\f0fa";
}
.fa-fighter-jet:before {
  content: "\f0fb";
}
.fa-beer:before {
  content: "\f0fc";
}
.fa-h-square:before {
  content: "\f0fd";
}
.fa-plus-square:before {
  content: "\f0fe";
}
.fa-angle-double-left:before {
  content: "\f100";
}
.fa-angle-double-right:before {
  content: "\f101";
}
.fa-angle-double-up:before {
  content: "\f102";
}
.fa-angle-double-down:before {
  content: "\f103";
}
.fa-angle-left:before {
  content: "\f104";
}
.fa-angle-right:before {
  content: "\f105";
}
.fa-angle-up:before {
  content: "\f106";
}
.fa-angle-down:before {
  content: "\f107";
}
.fa-desktop:before {
  content: "\f108";
}
.fa-laptop:before {
  content: "\f109";
}
.fa-tablet:before {
  content: "\f10a";
}
.fa-mobile-phone:before,
.fa-mobile:before {
  content: "\f10b";
}
.fa-circle-o:before {
  content: "\f10c";
}
.fa-quote-left:before {
  content: "\f10d";
}
.fa-quote-right:before {
  content: "\f10e";
}
.fa-spinner:before {
  content: "\f110";
}
.fa-circle:before {
  content: "\f111";
}
.fa-mail-reply:before,
.fa-reply:before {
  content: "\f112";
}
.fa-github-alt:before {
  content: "\f113";
}
.fa-folder-o:before {
  content: "\f114";
}
.fa-folder-open-o:before {
  content: "\f115";
}
.fa-smile-o:before {
  content: "\f118";
}
.fa-frown-o:before {
  content: "\f119";
}
.fa-meh-o:before {
  content: "\f11a";
}
.fa-gamepad:before {
  content: "\f11b";
}
.fa-keyboard-o:before {
  content: "\f11c";
}
.fa-flag-o:before {
  content: "\f11d";
}
.fa-flag-checkered:before {
  content: "\f11e";
}
.fa-terminal:before {
  content: "\f120";
}
.fa-code:before {
  content: "\f121";
}
.fa-mail-reply-all:before,
.fa-reply-all:before {
  content: "\f122";
}
.fa-star-half-empty:before,
.fa-star-half-full:before,
.fa-star-half-o:before {
  content: "\f123";
}
.fa-location-arrow:before {
  content: "\f124";
}
.fa-crop:before {
  content: "\f125";
}
.fa-code-fork:before {
  content: "\f126";
}
.fa-unlink:before,
.fa-chain-broken:before {
  content: "\f127";
}
.fa-question:before {
  content: "\f128";
}
.fa-info:before {
  content: "\f129";
}
.fa-exclamation:before {
  content: "\f12a";
}
.fa-superscript:before {
  content: "\f12b";
}
.fa-subscript:before {
  content: "\f12c";
}
.fa-eraser:before {
  content: "\f12d";
}
.fa-puzzle-piece:before {
  content: "\f12e";
}
.fa-microphone:before {
  content: "\f130";
}
.fa-microphone-slash:before {
  content: "\f131";
}
.fa-shield:before {
  content: "\f132";
}
.fa-calendar-o:before {
  content: "\f133";
}
.fa-fire-extinguisher:before {
  content: "\f134";
}
.fa-rocket:before {
  content: "\f135";
}
.fa-maxcdn:before {
  content: "\f136";
}
.fa-chevron-circle-left:before {
  content: "\f137";
}
.fa-chevron-circle-right:before {
  content: "\f138";
}
.fa-chevron-circle-up:before {
  content: "\f139";
}
.fa-chevron-circle-down:before {
  content: "\f13a";
}
.fa-html5:before {
  content: "\f13b";
}
.fa-css3:before {
  content: "\f13c";
}
.fa-anchor:before {
  content: "\f13d";
}
.fa-unlock-alt:before {
  content: "\f13e";
}
.fa-bullseye:before {
  content: "\f140";
}
.fa-ellipsis-h:before {
  content: "\f141";
}
.fa-ellipsis-v:before {
  content: "\f142";
}
.fa-rss-square:before {
  content: "\f143";
}
.fa-play-circle:before {
  content: "\f144";
}
.fa-ticket:before {
  content: "\f145";
}
.fa-minus-square:before {
  content: "\f146";
}
.fa-minus-square-o:before {
  content: "\f147";
}
.fa-level-up:before {
  content: "\f148";
}
.fa-level-down:before {
  content: "\f149";
}
.fa-check-square:before {
  content: "\f14a";
}
.fa-pencil-square:before {
  content: "\f14b";
}
.fa-external-link-square:before {
  content: "\f14c";
}
.fa-share-square:before {
  content: "\f14d";
}
.fa-compass:before {
  content: "\f14e";
}
.fa-toggle-down:before,
.fa-caret-square-o-down:before {
  content: "\f150";
}
.fa-toggle-up:before,
.fa-caret-square-o-up:before {
  content: "\f151";
}
.fa-toggle-right:before,
.fa-caret-square-o-right:before {
  content: "\f152";
}
.fa-euro:before,
.fa-eur:before {
  content: "\f153";
}
.fa-gbp:before {
  content: "\f154";
}
.fa-dollar:before,
.fa-usd:before {
  content: "\f155";
}
.fa-rupee:before,
.fa-inr:before {
  content: "\f156";
}
.fa-cny:before,
.fa-rmb:before,
.fa-yen:before,
.fa-jpy:before {
  content: "\f157";
}
.fa-ruble:before,
.fa-rouble:before,
.fa-rub:before {
  content: "\f158";
}
.fa-won:before,
.fa-krw:before {
  content: "\f159";
}
.fa-bitcoin:before,
.fa-btc:before {
  content: "\f15a";
}
.fa-file:before {
  content: "\f15b";
}
.fa-file-text:before {
  content: "\f15c";
}
.fa-sort-alpha-asc:before {
  content: "\f15d";
}
.fa-sort-alpha-desc:before {
  content: "\f15e";
}
.fa-sort-amount-asc:before {
  content: "\f160";
}
.fa-sort-amount-desc:before {
  content: "\f161";
}
.fa-sort-numeric-asc:before {
  content: "\f162";
}
.fa-sort-numeric-desc:before {
  content: "\f163";
}
.fa-thumbs-up:before {
  content: "\f164";
}
.fa-thumbs-down:before {
  content: "\f165";
}
.fa-youtube-square:before {
  content: "\f166";
}
.fa-youtube:before {
  content: "\f167";
}
.fa-xing:before {
  content: "\f168";
}
.fa-xing-square:before {
  content: "\f169";
}
.fa-youtube-play:before {
  content: "\f16a";
}
.fa-dropbox:before {
  content: "\f16b";
}
.fa-stack-overflow:before {
  content: "\f16c";
}
.fa-instagram:before {
  content: "\f16d";
}
.fa-flickr:before {
  content: "\f16e";
}
.fa-adn:before {
  content: "\f170";
}
.fa-bitbucket:before {
  content: "\f171";
}
.fa-bitbucket-square:before {
  content: "\f172";
}
.fa-tumblr:before {
  content: "\f173";
}
.fa-tumblr-square:before {
  content: "\f174";
}
.fa-long-arrow-down:before {
  content: "\f175";
}
.fa-long-arrow-up:before {
  content: "\f176";
}
.fa-long-arrow-left:before {
  content: "\f177";
}
.fa-long-arrow-right:before {
  content: "\f178";
}
.fa-apple:before {
  content: "\f179";
}
.fa-windows:before {
  content: "\f17a";
}
.fa-android:before {
  content: "\f17b";
}
.fa-linux:before {
  content: "\f17c";
}
.fa-dribbble:before {
  content: "\f17d";
}
.fa-skype:before {
  content: "\f17e";
}
.fa-foursquare:before {
  content: "\f180";
}
.fa-trello:before {
  content: "\f181";
}
.fa-female:before {
  content: "\f182";
}
.fa-male:before {
  content: "\f183";
}
.fa-gittip:before,
.fa-gratipay:before {
  content: "\f184";
}
.fa-sun-o:before {
  content: "\f185";
}
.fa-moon-o:before {
  content: "\f186";
}
.fa-archive:before {
  content: "\f187";
}
.fa-bug:before {
  content: "\f188";
}
.fa-vk:before {
  content: "\f189";
}
.fa-weibo:before {
  content: "\f18a";
}
.fa-renren:before {
  content: "\f18b";
}
.fa-pagelines:before {
  content: "\f18c";
}
.fa-stack-exchange:before {
  content: "\f18d";
}
.fa-arrow-circle-o-right:before {
  content: "\f18e";
}
.fa-arrow-circle-o-left:before {
  content: "\f190";
}
.fa-toggle-left:before,
.fa-caret-square-o-left:before {
  content: "\f191";
}
.fa-dot-circle-o:before {
  content: "\f192";
}
.fa-wheelchair:before {
  content: "\f193";
}
.fa-vimeo-square:before {
  content: "\f194";
}
.fa-turkish-lira:before,
.fa-try:before {
  content: "\f195";
}
.fa-plus-square-o:before {
  content: "\f196";
}
.fa-space-shuttle:before {
  content: "\f197";
}
.fa-slack:before {
  content: "\f198";
}
.fa-envelope-square:before {
  content: "\f199";
}
.fa-wordpress:before {
  content: "\f19a";
}
.fa-openid:before {
  content: "\f19b";
}
.fa-institution:before,
.fa-bank:before,
.fa-university:before {
  content: "\f19c";
}
.fa-mortar-board:before,
.fa-graduation-cap:before {
  content: "\f19d";
}
.fa-yahoo:before {
  content: "\f19e";
}
.fa-google:before {
  content: "\f1a0";
}
.fa-reddit:before {
  content: "\f1a1";
}
.fa-reddit-square:before {
  content: "\f1a2";
}
.fa-stumbleupon-circle:before {
  content: "\f1a3";
}
.fa-stumbleupon:before {
  content: "\f1a4";
}
.fa-delicious:before {
  content: "\f1a5";
}
.fa-digg:before {
  content: "\f1a6";
}
.fa-pied-piper-pp:before {
  content: "\f1a7";
}
.fa-pied-piper-alt:before {
  content: "\f1a8";
}
.fa-drupal:before {
  content: "\f1a9";
}
.fa-joomla:before {
  content: "\f1aa";
}
.fa-language:before {
  content: "\f1ab";
}
.fa-fax:before {
  content: "\f1ac";
}
.fa-building:before {
  content: "\f1ad";
}
.fa-child:before {
  content: "\f1ae";
}
.fa-paw:before {
  content: "\f1b0";
}
.fa-spoon:before {
  content: "\f1b1";
}
.fa-cube:before {
  content: "\f1b2";
}
.fa-cubes:before {
  content: "\f1b3";
}
.fa-behance:before {
  content: "\f1b4";
}
.fa-behance-square:before {
  content: "\f1b5";
}
.fa-steam:before {
  content: "\f1b6";
}
.fa-steam-square:before {
  content: "\f1b7";
}
.fa-recycle:before {
  content: "\f1b8";
}
.fa-automobile:before,
.fa-car:before {
  content: "\f1b9";
}
.fa-cab:before,
.fa-taxi:before {
  content: "\f1ba";
}
.fa-tree:before {
  content: "\f1bb";
}
.fa-spotify:before {
  content: "\f1bc";
}
.fa-deviantart:before {
  content: "\f1bd";
}
.fa-soundcloud:before {
  content: "\f1be";
}
.fa-database:before {
  content: "\f1c0";
}
.fa-file-pdf-o:before {
  content: "\f1c1";
}
.fa-file-word-o:before {
  content: "\f1c2";
}
.fa-file-excel-o:before {
  content: "\f1c3";
}
.fa-file-powerpoint-o:before {
  content: "\f1c4";
}
.fa-file-photo-o:before,
.fa-file-picture-o:before,
.fa-file-image-o:before {
  content: "\f1c5";
}
.fa-file-zip-o:before,
.fa-file-archive-o:before {
  content: "\f1c6";
}
.fa-file-sound-o:before,
.fa-file-audio-o:before {
  content: "\f1c7";
}
.fa-file-movie-o:before,
.fa-file-video-o:before {
  content: "\f1c8";
}
.fa-file-code-o:before {
  content: "\f1c9";
}
.fa-vine:before {
  content: "\f1ca";
}
.fa-codepen:before {
  content: "\f1cb";
}
.fa-jsfiddle:before {
  content: "\f1cc";
}
.fa-life-bouy:before,
.fa-life-buoy:before,
.fa-life-saver:before,
.fa-support:before,
.fa-life-ring:before {
  content: "\f1cd";
}
.fa-circle-o-notch:before {
  content: "\f1ce";
}
.fa-ra:before,
.fa-resistance:before,
.fa-rebel:before {
  content: "\f1d0";
}
.fa-ge:before,
.fa-empire:before {
  content: "\f1d1";
}
.fa-git-square:before {
  content: "\f1d2";
}
.fa-git:before {
  content: "\f1d3";
}
.fa-y-combinator-square:before,
.fa-yc-square:before,
.fa-hacker-news:before {
  content: "\f1d4";
}
.fa-tencent-weibo:before {
  content: "\f1d5";
}
.fa-qq:before {
  content: "\f1d6";
}
.fa-wechat:before,
.fa-weixin:before {
  content: "\f1d7";
}
.fa-send:before,
.fa-paper-plane:before {
  content: "\f1d8";
}
.fa-send-o:before,
.fa-paper-plane-o:before {
  content: "\f1d9";
}
.fa-history:before {
  content: "\f1da";
}
.fa-circle-thin:before {
  content: "\f1db";
}
.fa-header:before {
  content: "\f1dc";
}
.fa-paragraph:before {
  content: "\f1dd";
}
.fa-sliders:before {
  content: "\f1de";
}
.fa-share-alt:before {
  content: "\f1e0";
}
.fa-share-alt-square:before {
  content: "\f1e1";
}
.fa-bomb:before {
  content: "\f1e2";
}
.fa-soccer-ball-o:before,
.fa-futbol-o:before {
  content: "\f1e3";
}
.fa-tty:before {
  content: "\f1e4";
}
.fa-binoculars:before {
  content: "\f1e5";
}
.fa-plug:before {
  content: "\f1e6";
}
.fa-slideshare:before {
  content: "\f1e7";
}
.fa-twitch:before {
  content: "\f1e8";
}
.fa-yelp:before {
  content: "\f1e9";
}
.fa-newspaper-o:before {
  content: "\f1ea";
}
.fa-wifi:before {
  content: "\f1eb";
}
.fa-calculator:before {
  content: "\f1ec";
}
.fa-paypal:before {
  content: "\f1ed";
}
.fa-google-wallet:before {
  content: "\f1ee";
}
.fa-cc-visa:before {
  content: "\f1f0";
}
.fa-cc-mastercard:before {
  content: "\f1f1";
}
.fa-cc-discover:before {
  content: "\f1f2";
}
.fa-cc-amex:before {
  content: "\f1f3";
}
.fa-cc-paypal:before {
  content: "\f1f4";
}
.fa-cc-stripe:before {
  content: "\f1f5";
}
.fa-bell-slash:before {
  content: "\f1f6";
}
.fa-bell-slash-o:before {
  content: "\f1f7";
}
.fa-trash:before {
  content: "\f1f8";
}
.fa-copyright:before {
  content: "\f1f9";
}
.fa-at:before {
  content: "\f1fa";
}
.fa-eyedropper:before {
  content: "\f1fb";
}
.fa-paint-brush:before {
  content: "\f1fc";
}
.fa-birthday-cake:before {
  content: "\f1fd";
}
.fa-area-chart:before {
  content: "\f1fe";
}
.fa-pie-chart:before {
  content: "\f200";
}
.fa-line-chart:before {
  content: "\f201";
}
.fa-lastfm:before {
  content: "\f202";
}
.fa-lastfm-square:before {
  content: "\f203";
}
.fa-toggle-off:before {
  content: "\f204";
}
.fa-toggle-on:before {
  content: "\f205";
}
.fa-bicycle:before {
  content: "\f206";
}
.fa-bus:before {
  content: "\f207";
}
.fa-ioxhost:before {
  content: "\f208";
}
.fa-angellist:before {
  content: "\f209";
}
.fa-cc:before {
  content: "\f20a";
}
.fa-shekel:before,
.fa-sheqel:before,
.fa-ils:before {
  content: "\f20b";
}
.fa-meanpath:before {
  content: "\f20c";
}
.fa-buysellads:before {
  content: "\f20d";
}
.fa-connectdevelop:before {
  content: "\f20e";
}
.fa-dashcube:before {
  content: "\f210";
}
.fa-forumbee:before {
  content: "\f211";
}
.fa-leanpub:before {
  content: "\f212";
}
.fa-sellsy:before {
  content: "\f213";
}
.fa-shirtsinbulk:before {
  content: "\f214";
}
.fa-simplybuilt:before {
  content: "\f215";
}
.fa-skyatlas:before {
  content: "\f216";
}
.fa-cart-plus:before {
  content: "\f217";
}
.fa-cart-arrow-down:before {
  content: "\f218";
}
.fa-diamond:before {
  content: "\f219";
}
.fa-ship:before {
  content: "\f21a";
}
.fa-user-secret:before {
  content: "\f21b";
}
.fa-motorcycle:before {
  content: "\f21c";
}
.fa-street-view:before {
  content: "\f21d";
}
.fa-heartbeat:before {
  content: "\f21e";
}
.fa-venus:before {
  content: "\f221";
}
.fa-mars:before {
  content: "\f222";
}
.fa-mercury:before {
  content: "\f223";
}
.fa-intersex:before,
.fa-transgender:before {
  content: "\f224";
}
.fa-transgender-alt:before {
  content: "\f225";
}
.fa-venus-double:before {
  content: "\f226";
}
.fa-mars-double:before {
  content: "\f227";
}
.fa-venus-mars:before {
  content: "\f228";
}
.fa-mars-stroke:before {
  content: "\f229";
}
.fa-mars-stroke-v:before {
  content: "\f22a";
}
.fa-mars-stroke-h:before {
  content: "\f22b";
}
.fa-neuter:before {
  content: "\f22c";
}
.fa-genderless:before {
  content: "\f22d";
}
.fa-facebook-official:before {
  content: "\f230";
}
.fa-pinterest-p:before {
  content: "\f231";
}
.fa-whatsapp:before {
  content: "\f232";
}
.fa-server:before {
  content: "\f233";
}
.fa-user-plus:before {
  content: "\f234";
}
.fa-user-times:before {
  content: "\f235";
}
.fa-hotel:before,
.fa-bed:before {
  content: "\f236";
}
.fa-viacoin:before {
  content: "\f237";
}
.fa-train:before {
  content: "\f238";
}
.fa-subway:before {
  content: "\f239";
}
.fa-medium:before {
  content: "\f23a";
}
.fa-yc:before,
.fa-y-combinator:before {
  content: "\f23b";
}
.fa-optin-monster:before {
  content: "\f23c";
}
.fa-opencart:before {
  content: "\f23d";
}
.fa-expeditedssl:before {
  content: "\f23e";
}
.fa-battery-4:before,
.fa-battery:before,
.fa-battery-full:before {
  content: "\f240";
}
.fa-battery-3:before,
.fa-battery-three-quarters:before {
  content: "\f241";
}
.fa-battery-2:before,
.fa-battery-half:before {
  content: "\f242";
}
.fa-battery-1:before,
.fa-battery-quarter:before {
  content: "\f243";
}
.fa-battery-0:before,
.fa-battery-empty:before {
  content: "\f244";
}
.fa-mouse-pointer:before {
  content: "\f245";
}
.fa-i-cursor:before {
  content: "\f246";
}
.fa-object-group:before {
  content: "\f247";
}
.fa-object-ungroup:before {
  content: "\f248";
}
.fa-sticky-note:before {
  content: "\f249";
}
.fa-sticky-note-o:before {
  content: "\f24a";
}
.fa-cc-jcb:before {
  content: "\f24b";
}
.fa-cc-diners-club:before {
  content: "\f24c";
}
.fa-clone:before {
  content: "\f24d";
}
.fa-balance-scale:before {
  content: "\f24e";
}
.fa-hourglass-o:before {
  content: "\f250";
}
.fa-hourglass-1:before,
.fa-hourglass-start:before {
  content: "\f251";
}
.fa-hourglass-2:before,
.fa-hourglass-half:before {
  content: "\f252";
}
.fa-hourglass-3:before,
.fa-hourglass-end:before {
  content: "\f253";
}
.fa-hourglass:before {
  content: "\f254";
}
.fa-hand-grab-o:before,
.fa-hand-rock-o:before {
  content: "\f255";
}
.fa-hand-stop-o:before,
.fa-hand-paper-o:before {
  content: "\f256";
}
.fa-hand-scissors-o:before {
  content: "\f257";
}
.fa-hand-lizard-o:before {
  content: "\f258";
}
.fa-hand-spock-o:before {
  content: "\f259";
}
.fa-hand-pointer-o:before {
  content: "\f25a";
}
.fa-hand-peace-o:before {
  content: "\f25b";
}
.fa-trademark:before {
  content: "\f25c";
}
.fa-registered:before {
  content: "\f25d";
}
.fa-creative-commons:before {
  content: "\f25e";
}
.fa-gg:before {
  content: "\f260";
}
.fa-gg-circle:before {
  content: "\f261";
}
.fa-tripadvisor:before {
  content: "\f262";
}
.fa-odnoklassniki:before {
  content: "\f263";
}
.fa-odnoklassniki-square:before {
  content: "\f264";
}
.fa-get-pocket:before {
  content: "\f265";
}
.fa-wikipedia-w:before {
  content: "\f266";
}
.fa-safari:before {
  content: "\f267";
}
.fa-chrome:before {
  content: "\f268";
}
.fa-firefox:before {
  content: "\f269";
}
.fa-opera:before {
  content: "\f26a";
}
.fa-internet-explorer:before {
  content: "\f26b";
}
.fa-tv:before,
.fa-television:before {
  content: "\f26c";
}
.fa-contao:before {
  content: "\f26d";
}
.fa-500px:before {
  content: "\f26e";
}
.fa-amazon:before {
  content: "\f270";
}
.fa-calendar-plus-o:before {
  content: "\f271";
}
.fa-calendar-minus-o:before {
  content: "\f272";
}
.fa-calendar-times-o:before {
  content: "\f273";
}
.fa-calendar-check-o:before {
  content: "\f274";
}
.fa-industry:before {
  content: "\f275";
}
.fa-map-pin:before {
  content: "\f276";
}
.fa-map-signs:before {
  content: "\f277";
}
.fa-map-o:before {
  content: "\f278";
}
.fa-map:before {
  content: "\f279";
}
.fa-commenting:before {
  content: "\f27a";
}
.fa-commenting-o:before {
  content: "\f27b";
}
.fa-houzz:before {
  content: "\f27c";
}
.fa-vimeo:before {
  content: "\f27d";
}
.fa-black-tie:before {
  content: "\f27e";
}
.fa-fonticons:before {
  content: "\f280";
}
.fa-reddit-alien:before {
  content: "\f281";
}
.fa-edge:before {
  content: "\f282";
}
.fa-credit-card-alt:before {
  content: "\f283";
}
.fa-codiepie:before {
  content: "\f284";
}
.fa-modx:before {
  content: "\f285";
}
.fa-fort-awesome:before {
  content: "\f286";
}
.fa-usb:before {
  content: "\f287";
}
.fa-product-hunt:before {
  content: "\f288";
}
.fa-mixcloud:before {
  content: "\f289";
}
.fa-scribd:before {
  content: "\f28a";
}
.fa-pause-circle:before {
  content: "\f28b";
}
.fa-pause-circle-o:before {
  content: "\f28c";
}
.fa-stop-circle:before {
  content: "\f28d";
}
.fa-stop-circle-o:before {
  content: "\f28e";
}
.fa-shopping-bag:before {
  content: "\f290";
}
.fa-shopping-basket:before {
  content: "\f291";
}
.fa-hashtag:before {
  content: "\f292";
}
.fa-bluetooth:before {
  content: "\f293";
}
.fa-bluetooth-b:before {
  content: "\f294";
}
.fa-percent:before {
  content: "\f295";
}
.fa-gitlab:before {
  content: "\f296";
}
.fa-wpbeginner:before {
  content: "\f297";
}
.fa-wpforms:before {
  content: "\f298";
}
.fa-envira:before {
  content: "\f299";
}
.fa-universal-access:before {
  content: "\f29a";
}
.fa-wheelchair-alt:before {
  content: "\f29b";
}
.fa-question-circle-o:before {
  content: "\f29c";
}
.fa-blind:before {
  content: "\f29d";
}
.fa-audio-description:before {
  content: "\f29e";
}
.fa-volume-control-phone:before {
  content: "\f2a0";
}
.fa-braille:before {
  content: "\f2a1";
}
.fa-assistive-listening-systems:before {
  content: "\f2a2";
}
.fa-asl-interpreting:before,
.fa-american-sign-language-interpreting:before {
  content: "\f2a3";
}
.fa-deafness:before,
.fa-hard-of-hearing:before,
.fa-deaf:before {
  content: "\f2a4";
}
.fa-glide:before {
  content: "\f2a5";
}
.fa-glide-g:before {
  content: "\f2a6";
}
.fa-signing:before,
.fa-sign-language:before {
  content: "\f2a7";
}
.fa-low-vision:before {
  content: "\f2a8";
}
.fa-viadeo:before {
  content: "\f2a9";
}
.fa-viadeo-square:before {
  content: "\f2aa";
}
.fa-snapchat:before {
  content: "\f2ab";
}
.fa-snapchat-ghost:before {
  content: "\f2ac";
}
.fa-snapchat-square:before {
  content: "\f2ad";
}
.fa-pied-piper:before {
  content: "\f2ae";
}
.fa-first-order:before {
  content: "\f2b0";
}
.fa-yoast:before {
  content: "\f2b1";
}
.fa-themeisle:before {
  content: "\f2b2";
}
.fa-google-plus-circle:before,
.fa-google-plus-official:before {
  content: "\f2b3";
}
.fa-fa:before,
.fa-font-awesome:before {
  content: "\f2b4";
}
.fa-handshake-o:before {
  content: "\f2b5";
}
.fa-envelope-open:before {
  content: "\f2b6";
}
.fa-envelope-open-o:before {
  content: "\f2b7";
}
.fa-linode:before {
  content: "\f2b8";
}
.fa-address-book:before {
  content: "\f2b9";
}
.fa-address-book-o:before {
  content: "\f2ba";
}
.fa-vcard:before,
.fa-address-card:before {
  content: "\f2bb";
}
.fa-vcard-o:before,
.fa-address-card-o:before {
  content: "\f2bc";
}
.fa-user-circle:before {
  content: "\f2bd";
}
.fa-user-circle-o:before {
  content: "\f2be";
}
.fa-user-o:before {
  content: "\f2c0";
}
.fa-id-badge:before {
  content: "\f2c1";
}
.fa-drivers-license:before,
.fa-id-card:before {
  content: "\f2c2";
}
.fa-drivers-license-o:before,
.fa-id-card-o:before {
  content: "\f2c3";
}
.fa-quora:before {
  content: "\f2c4";
}
.fa-free-code-camp:before {
  content: "\f2c5";
}
.fa-telegram:before {
  content: "\f2c6";
}
.fa-thermometer-4:before,
.fa-thermometer:before,
.fa-thermometer-full:before {
  content: "\f2c7";
}
.fa-thermometer-3:before,
.fa-thermometer-three-quarters:before {
  content: "\f2c8";
}
.fa-thermometer-2:before,
.fa-thermometer-half:before {
  content: "\f2c9";
}
.fa-thermometer-1:before,
.fa-thermometer-quarter:before {
  content: "\f2ca";
}
.fa-thermometer-0:before,
.fa-thermometer-empty:before {
  content: "\f2cb";
}
.fa-shower:before {
  content: "\f2cc";
}
.fa-bathtub:before,
.fa-s15:before,
.fa-bath:before {
  content: "\f2cd";
}
.fa-podcast:before {
  content: "\f2ce";
}
.fa-window-maximize:before {
  content: "\f2d0";
}
.fa-window-minimize:before {
  content: "\f2d1";
}
.fa-window-restore:before {
  content: "\f2d2";
}
.fa-times-rectangle:before,
.fa-window-close:before {
  content: "\f2d3";
}
.fa-times-rectangle-o:before,
.fa-window-close-o:before {
  content: "\f2d4";
}
.fa-bandcamp:before {
  content: "\f2d5";
}
.fa-grav:before {
  content: "\f2d6";
}
.fa-etsy:before {
  content: "\f2d7";
}
.fa-imdb:before {
  content: "\f2d8";
}
.fa-ravelry:before {
  content: "\f2d9";
}
.fa-eercast:before {
  content: "\f2da";
}
.fa-microchip:before {
  content: "\f2db";
}
.fa-snowflake-o:before {
  content: "\f2dc";
}
.fa-superpowers:before {
  content: "\f2dd";
}
.fa-wpexplorer:before {
  content: "\f2de";
}
.fa-meetup:before {
  content: "\f2e0";
}
.sr-only {
  position: absolute;
  width: 1px;
  height: 1px;
  padding: 0;
  margin: -1px;
  overflow: hidden;
  clip: rect(0, 0, 0, 0);
  border: 0;
}
.sr-only-focusable:active,
.sr-only-focusable:focus {
  position: static;
  width: auto;
  height: auto;
  margin: 0;
  overflow: visible;
  clip: auto;
}
.sr-only-focusable:active,
.sr-only-focusable:focus {
  position: static;
  width: auto;
  height: auto;
  margin: 0;
  overflow: visible;
  clip: auto;
}
/*!
*
* IPython base
*
*/
.modal.fade .modal-dialog {
  -webkit-transform: translate(0, 0);
  -ms-transform: translate(0, 0);
  -o-transform: translate(0, 0);
  transform: translate(0, 0);
}
code {
  color: #000;
}
pre {
  font-size: inherit;
  line-height: inherit;
}
label {
  font-weight: normal;
}
/* Make the page background atleast 100% the height of the view port */
/* Make the page itself atleast 70% the height of the view port */
.border-box-sizing {
  box-sizing: border-box;
  -moz-box-sizing: border-box;
  -webkit-box-sizing: border-box;
}
.corner-all {
  border-radius: 2px;
}
.no-padding {
  padding: 0px;
}
/* Flexible box model classes */
/* Taken from Alex Russell http://infrequently.org/2009/08/css-3-progress/ */
/* This file is a compatability layer.  It allows the usage of flexible box 
model layouts accross multiple browsers, including older browsers.  The newest,
universal implementation of the flexible box model is used when available (see
`Modern browsers` comments below).  Browsers that are known to implement this 
new spec completely include:

    Firefox 28.0+
    Chrome 29.0+
    Internet Explorer 11+ 
    Opera 17.0+

Browsers not listed, including Safari, are supported via the styling under the
`Old browsers` comments below.
*/
.hbox {
  /* Old browsers */
  display: -webkit-box;
  -webkit-box-orient: horizontal;
  -webkit-box-align: stretch;
  display: -moz-box;
  -moz-box-orient: horizontal;
  -moz-box-align: stretch;
  display: box;
  box-orient: horizontal;
  box-align: stretch;
  /* Modern browsers */
  display: flex;
  flex-direction: row;
  align-items: stretch;
}
.hbox > * {
  /* Old browsers */
  -webkit-box-flex: 0;
  -moz-box-flex: 0;
  box-flex: 0;
  /* Modern browsers */
  flex: none;
}
.vbox {
  /* Old browsers */
  display: -webkit-box;
  -webkit-box-orient: vertical;
  -webkit-box-align: stretch;
  display: -moz-box;
  -moz-box-orient: vertical;
  -moz-box-align: stretch;
  display: box;
  box-orient: vertical;
  box-align: stretch;
  /* Modern browsers */
  display: flex;
  flex-direction: column;
  align-items: stretch;
}
.vbox > * {
  /* Old browsers */
  -webkit-box-flex: 0;
  -moz-box-flex: 0;
  box-flex: 0;
  /* Modern browsers */
  flex: none;
}
.hbox.reverse,
.vbox.reverse,
.reverse {
  /* Old browsers */
  -webkit-box-direction: reverse;
  -moz-box-direction: reverse;
  box-direction: reverse;
  /* Modern browsers */
  flex-direction: row-reverse;
}
.hbox.box-flex0,
.vbox.box-flex0,
.box-flex0 {
  /* Old browsers */
  -webkit-box-flex: 0;
  -moz-box-flex: 0;
  box-flex: 0;
  /* Modern browsers */
  flex: none;
  width: auto;
}
.hbox.box-flex1,
.vbox.box-flex1,
.box-flex1 {
  /* Old browsers */
  -webkit-box-flex: 1;
  -moz-box-flex: 1;
  box-flex: 1;
  /* Modern browsers */
  flex: 1;
}
.hbox.box-flex,
.vbox.box-flex,
.box-flex {
  /* Old browsers */
  /* Old browsers */
  -webkit-box-flex: 1;
  -moz-box-flex: 1;
  box-flex: 1;
  /* Modern browsers */
  flex: 1;
}
.hbox.box-flex2,
.vbox.box-flex2,
.box-flex2 {
  /* Old browsers */
  -webkit-box-flex: 2;
  -moz-box-flex: 2;
  box-flex: 2;
  /* Modern browsers */
  flex: 2;
}
.box-group1 {
  /*  Deprecated */
  -webkit-box-flex-group: 1;
  -moz-box-flex-group: 1;
  box-flex-group: 1;
}
.box-group2 {
  /* Deprecated */
  -webkit-box-flex-group: 2;
  -moz-box-flex-group: 2;
  box-flex-group: 2;
}
.hbox.start,
.vbox.start,
.start {
  /* Old browsers */
  -webkit-box-pack: start;
  -moz-box-pack: start;
  box-pack: start;
  /* Modern browsers */
  justify-content: flex-start;
}
.hbox.end,
.vbox.end,
.end {
  /* Old browsers */
  -webkit-box-pack: end;
  -moz-box-pack: end;
  box-pack: end;
  /* Modern browsers */
  justify-content: flex-end;
}
.hbox.center,
.vbox.center,
.center {
  /* Old browsers */
  -webkit-box-pack: center;
  -moz-box-pack: center;
  box-pack: center;
  /* Modern browsers */
  justify-content: center;
}
.hbox.baseline,
.vbox.baseline,
.baseline {
  /* Old browsers */
  -webkit-box-pack: baseline;
  -moz-box-pack: baseline;
  box-pack: baseline;
  /* Modern browsers */
  justify-content: baseline;
}
.hbox.stretch,
.vbox.stretch,
.stretch {
  /* Old browsers */
  -webkit-box-pack: stretch;
  -moz-box-pack: stretch;
  box-pack: stretch;
  /* Modern browsers */
  justify-content: stretch;
}
.hbox.align-start,
.vbox.align-start,
.align-start {
  /* Old browsers */
  -webkit-box-align: start;
  -moz-box-align: start;
  box-align: start;
  /* Modern browsers */
  align-items: flex-start;
}
.hbox.align-end,
.vbox.align-end,
.align-end {
  /* Old browsers */
  -webkit-box-align: end;
  -moz-box-align: end;
  box-align: end;
  /* Modern browsers */
  align-items: flex-end;
}
.hbox.align-center,
.vbox.align-center,
.align-center {
  /* Old browsers */
  -webkit-box-align: center;
  -moz-box-align: center;
  box-align: center;
  /* Modern browsers */
  align-items: center;
}
.hbox.align-baseline,
.vbox.align-baseline,
.align-baseline {
  /* Old browsers */
  -webkit-box-align: baseline;
  -moz-box-align: baseline;
  box-align: baseline;
  /* Modern browsers */
  align-items: baseline;
}
.hbox.align-stretch,
.vbox.align-stretch,
.align-stretch {
  /* Old browsers */
  -webkit-box-align: stretch;
  -moz-box-align: stretch;
  box-align: stretch;
  /* Modern browsers */
  align-items: stretch;
}
div.error {
  margin: 2em;
  text-align: center;
}
div.error > h1 {
  font-size: 500%;
  line-height: normal;
}
div.error > p {
  font-size: 200%;
  line-height: normal;
}
div.traceback-wrapper {
  text-align: left;
  max-width: 800px;
  margin: auto;
}
div.traceback-wrapper pre.traceback {
  max-height: 600px;
  overflow: auto;
}
/**
 * Primary styles
 *
 * Author: Jupyter Development Team
 */
body {
  background-color: #fff;
  /* This makes sure that the body covers the entire window and needs to
       be in a different element than the display: box in wrapper below */
  position: absolute;
  left: 0px;
  right: 0px;
  top: 0px;
  bottom: 0px;
  overflow: visible;
}
body > #header {
  /* Initially hidden to prevent FLOUC */
  display: none;
  background-color: #fff;
  /* Display over codemirror */
  position: relative;
  z-index: 100;
}
body > #header #header-container {
  display: flex;
  flex-direction: row;
  justify-content: space-between;
  padding: 5px;
  padding-bottom: 5px;
  padding-top: 5px;
  box-sizing: border-box;
  -moz-box-sizing: border-box;
  -webkit-box-sizing: border-box;
}
body > #header .header-bar {
  width: 100%;
  height: 1px;
  background: #e7e7e7;
  margin-bottom: -1px;
}
@media print {
  body > #header {
    display: none !important;
  }
}
#header-spacer {
  width: 100%;
  visibility: hidden;
}
@media print {
  #header-spacer {
    display: none;
  }
}
#ipython_notebook {
  padding-left: 0px;
  padding-top: 1px;
  padding-bottom: 1px;
}
[dir="rtl"] #ipython_notebook {
  margin-right: 10px;
  margin-left: 0;
}
[dir="rtl"] #ipython_notebook.pull-left {
  float: right !important;
  float: right;
}
.flex-spacer {
  flex: 1;
}
#noscript {
  width: auto;
  padding-top: 16px;
  padding-bottom: 16px;
  text-align: center;
  font-size: 22px;
  color: red;
  font-weight: bold;
}
#ipython_notebook img {
  height: 28px;
}
#site {
  width: 100%;
  display: none;
  box-sizing: border-box;
  -moz-box-sizing: border-box;
  -webkit-box-sizing: border-box;
  overflow: auto;
}
@media print {
  #site {
    height: auto !important;
  }
}
/* Smaller buttons */
.ui-button .ui-button-text {
  padding: 0.2em 0.8em;
  font-size: 77%;
}
input.ui-button {
  padding: 0.3em 0.9em;
}
span#kernel_logo_widget {
  margin: 0 10px;
}
span#login_widget {
  float: right;
}
[dir="rtl"] span#login_widget {
  float: left;
}
span#login_widget > .button,
#logout {
  color: #333;
  background-color: #fff;
  border-color: #ccc;
}
span#login_widget > .button:focus,
#logout:focus,
span#login_widget > .button.focus,
#logout.focus {
  color: #333;
  background-color: #e6e6e6;
  border-color: #8c8c8c;
}
span#login_widget > .button:hover,
#logout:hover {
  color: #333;
  background-color: #e6e6e6;
  border-color: #adadad;
}
span#login_widget > .button:active,
#logout:active,
span#login_widget > .button.active,
#logout.active,
.open > .dropdown-togglespan#login_widget > .button,
.open > .dropdown-toggle#logout {
  color: #333;
  background-color: #e6e6e6;
  border-color: #adadad;
}
span#login_widget > .button:active:hover,
#logout:active:hover,
span#login_widget > .button.active:hover,
#logout.active:hover,
.open > .dropdown-togglespan#login_widget > .button:hover,
.open > .dropdown-toggle#logout:hover,
span#login_widget > .button:active:focus,
#logout:active:focus,
span#login_widget > .button.active:focus,
#logout.active:focus,
.open > .dropdown-togglespan#login_widget > .button:focus,
.open > .dropdown-toggle#logout:focus,
span#login_widget > .button:active.focus,
#logout:active.focus,
span#login_widget > .button.active.focus,
#logout.active.focus,
.open > .dropdown-togglespan#login_widget > .button.focus,
.open > .dropdown-toggle#logout.focus {
  color: #333;
  background-color: #d4d4d4;
  border-color: #8c8c8c;
}
span#login_widget > .button:active,
#logout:active,
span#login_widget > .button.active,
#logout.active,
.open > .dropdown-togglespan#login_widget > .button,
.open > .dropdown-toggle#logout {
  background-image: none;
}
span#login_widget > .button.disabled:hover,
#logout.disabled:hover,
span#login_widget > .button[disabled]:hover,
#logout[disabled]:hover,
fieldset[disabled] span#login_widget > .button:hover,
fieldset[disabled] #logout:hover,
span#login_widget > .button.disabled:focus,
#logout.disabled:focus,
span#login_widget > .button[disabled]:focus,
#logout[disabled]:focus,
fieldset[disabled] span#login_widget > .button:focus,
fieldset[disabled] #logout:focus,
span#login_widget > .button.disabled.focus,
#logout.disabled.focus,
span#login_widget > .button[disabled].focus,
#logout[disabled].focus,
fieldset[disabled] span#login_widget > .button.focus,
fieldset[disabled] #logout.focus {
  background-color: #fff;
  border-color: #ccc;
}
span#login_widget > .button .badge,
#logout .badge {
  color: #fff;
  background-color: #333;
}
.nav-header {
  text-transform: none;
}
#header > span {
  margin-top: 10px;
}
.modal_stretch .modal-dialog {
  /* Old browsers */
  display: -webkit-box;
  -webkit-box-orient: vertical;
  -webkit-box-align: stretch;
  display: -moz-box;
  -moz-box-orient: vertical;
  -moz-box-align: stretch;
  display: box;
  box-orient: vertical;
  box-align: stretch;
  /* Modern browsers */
  display: flex;
  flex-direction: column;
  align-items: stretch;
  min-height: 80vh;
}
.modal_stretch .modal-dialog .modal-body {
  max-height: calc(100vh - 200px);
  overflow: auto;
  flex: 1;
}
.modal-header {
  cursor: move;
}
@media (min-width: 768px) {
  .modal .modal-dialog {
    width: 700px;
  }
}
@media (min-width: 768px) {
  select.form-control {
    margin-left: 12px;
    margin-right: 12px;
  }
}
/*!
*
* IPython auth
*
*/
.center-nav {
  display: inline-block;
  margin-bottom: -4px;
}
[dir="rtl"] .center-nav form.pull-left {
  float: right !important;
  float: right;
}
[dir="rtl"] .center-nav .navbar-text {
  float: right;
}
[dir="rtl"] .navbar-inner {
  text-align: right;
}
[dir="rtl"] div.text-left {
  text-align: right;
}
/*!
*
* IPython tree view
*
*/
/* We need an invisible input field on top of the sentense*/
/* "Drag file onto the list ..." */
.alternate_upload {
  background-color: none;
  display: inline;
}
.alternate_upload.form {
  padding: 0;
  margin: 0;
}
.alternate_upload input.fileinput {
  position: absolute;
  display: block;
  width: 100%;
  height: 100%;
  overflow: hidden;
  cursor: pointer;
  opacity: 0;
  z-index: 2;
}
.alternate_upload .btn-xs > input.fileinput {
  margin: -1px -5px;
}
.alternate_upload .btn-upload {
  position: relative;
  height: 22px;
}
::-webkit-file-upload-button {
  cursor: pointer;
}
/**
 * Primary styles
 *
 * Author: Jupyter Development Team
 */
ul#tabs {
  margin-bottom: 4px;
}
ul#tabs a {
  padding-top: 6px;
  padding-bottom: 4px;
}
[dir="rtl"] ul#tabs.nav-tabs > li {
  float: right;
}
[dir="rtl"] ul#tabs.nav.nav-tabs {
  padding-right: 0;
}
ul.breadcrumb a:focus,
ul.breadcrumb a:hover {
  text-decoration: none;
}
ul.breadcrumb i.icon-home {
  font-size: 16px;
  margin-right: 4px;
}
ul.breadcrumb span {
  color: #5e5e5e;
}
.list_toolbar {
  padding: 4px 0 4px 0;
  vertical-align: middle;
}
.list_toolbar .tree-buttons {
  padding-top: 1px;
}
[dir="rtl"] .list_toolbar .tree-buttons .pull-right {
  float: left !important;
  float: left;
}
[dir="rtl"] .list_toolbar .col-sm-4,
[dir="rtl"] .list_toolbar .col-sm-8 {
  float: right;
}
.dynamic-buttons {
  padding-top: 3px;
  display: inline-block;
}
.list_toolbar [class*="span"] {
  min-height: 24px;
}
.list_header {
  font-weight: bold;
  background-color: #EEE;
}
.list_placeholder {
  font-weight: bold;
  padding-top: 4px;
  padding-bottom: 4px;
  padding-left: 7px;
  padding-right: 7px;
}
.list_container {
  margin-top: 4px;
  margin-bottom: 20px;
  border: 1px solid #ddd;
  border-radius: 2px;
}
.list_container > div {
  border-bottom: 1px solid #ddd;
}
.list_container > div:hover .list-item {
  background-color: red;
}
.list_container > div:last-child {
  border: none;
}
.list_item:hover .list_item {
  background-color: #ddd;
}
.list_item a {
  text-decoration: none;
}
.list_item:hover {
  background-color: #fafafa;
}
.list_header > div,
.list_item > div {
  padding-top: 4px;
  padding-bottom: 4px;
  padding-left: 7px;
  padding-right: 7px;
  line-height: 22px;
}
.list_header > div input,
.list_item > div input {
  margin-right: 7px;
  margin-left: 14px;
  vertical-align: text-bottom;
  line-height: 22px;
  position: relative;
  top: -1px;
}
.list_header > div .item_link,
.list_item > div .item_link {
  margin-left: -1px;
  vertical-align: baseline;
  line-height: 22px;
}
[dir="rtl"] .list_item > div input {
  margin-right: 0;
}
.new-file input[type=checkbox] {
  visibility: hidden;
}
.item_name {
  line-height: 22px;
  height: 24px;
}
.item_icon {
  font-size: 14px;
  color: #5e5e5e;
  margin-right: 7px;
  margin-left: 7px;
  line-height: 22px;
  vertical-align: baseline;
}
.item_modified {
  margin-right: 7px;
  margin-left: 7px;
}
[dir="rtl"] .item_modified.pull-right {
  float: left !important;
  float: left;
}
.item_buttons {
  line-height: 1em;
  margin-left: -5px;
}
.item_buttons .btn,
.item_buttons .btn-group,
.item_buttons .input-group {
  float: left;
}
.item_buttons > .btn,
.item_buttons > .btn-group,
.item_buttons > .input-group {
  margin-left: 5px;
}
.item_buttons .btn {
  min-width: 13ex;
}
.item_buttons .running-indicator {
  padding-top: 4px;
  color: #5cb85c;
}
.item_buttons .kernel-name {
  padding-top: 4px;
  color: #5bc0de;
  margin-right: 7px;
  float: left;
}
[dir="rtl"] .item_buttons.pull-right {
  float: left !important;
  float: left;
}
[dir="rtl"] .item_buttons .kernel-name {
  margin-left: 7px;
  float: right;
}
.toolbar_info {
  height: 24px;
  line-height: 24px;
}
.list_item input:not([type=checkbox]) {
  padding-top: 3px;
  padding-bottom: 3px;
  height: 22px;
  line-height: 14px;
  margin: 0px;
}
.highlight_text {
  color: blue;
}
#project_name {
  display: inline-block;
  padding-left: 7px;
  margin-left: -2px;
}
#project_name > .breadcrumb {
  padding: 0px;
  margin-bottom: 0px;
  background-color: transparent;
  font-weight: bold;
}
.sort_button {
  display: inline-block;
  padding-left: 7px;
}
[dir="rtl"] .sort_button.pull-right {
  float: left !important;
  float: left;
}
#tree-selector {
  padding-right: 0px;
}
#button-select-all {
  min-width: 50px;
}
[dir="rtl"] #button-select-all.btn {
  float: right ;
}
#select-all {
  margin-left: 7px;
  margin-right: 2px;
  margin-top: 2px;
  height: 16px;
}
[dir="rtl"] #select-all.pull-left {
  float: right !important;
  float: right;
}
.menu_icon {
  margin-right: 2px;
}
.tab-content .row {
  margin-left: 0px;
  margin-right: 0px;
}
.folder_icon:before {
  display: inline-block;
  font: normal normal normal 14px/1 FontAwesome;
  font-size: inherit;
  text-rendering: auto;
  -webkit-font-smoothing: antialiased;
  -moz-osx-font-smoothing: grayscale;
  content: "\f114";
}
.folder_icon:before.fa-pull-left {
  margin-right: .3em;
}
.folder_icon:before.fa-pull-right {
  margin-left: .3em;
}
.folder_icon:before.pull-left {
  margin-right: .3em;
}
.folder_icon:before.pull-right {
  margin-left: .3em;
}
.notebook_icon:before {
  display: inline-block;
  font: normal normal normal 14px/1 FontAwesome;
  font-size: inherit;
  text-rendering: auto;
  -webkit-font-smoothing: antialiased;
  -moz-osx-font-smoothing: grayscale;
  content: "\f02d";
  position: relative;
  top: -1px;
}
.notebook_icon:before.fa-pull-left {
  margin-right: .3em;
}
.notebook_icon:before.fa-pull-right {
  margin-left: .3em;
}
.notebook_icon:before.pull-left {
  margin-right: .3em;
}
.notebook_icon:before.pull-right {
  margin-left: .3em;
}
.running_notebook_icon:before {
  display: inline-block;
  font: normal normal normal 14px/1 FontAwesome;
  font-size: inherit;
  text-rendering: auto;
  -webkit-font-smoothing: antialiased;
  -moz-osx-font-smoothing: grayscale;
  content: "\f02d";
  position: relative;
  top: -1px;
  color: #5cb85c;
}
.running_notebook_icon:before.fa-pull-left {
  margin-right: .3em;
}
.running_notebook_icon:before.fa-pull-right {
  margin-left: .3em;
}
.running_notebook_icon:before.pull-left {
  margin-right: .3em;
}
.running_notebook_icon:before.pull-right {
  margin-left: .3em;
}
.file_icon:before {
  display: inline-block;
  font: normal normal normal 14px/1 FontAwesome;
  font-size: inherit;
  text-rendering: auto;
  -webkit-font-smoothing: antialiased;
  -moz-osx-font-smoothing: grayscale;
  content: "\f016";
  position: relative;
  top: -2px;
}
.file_icon:before.fa-pull-left {
  margin-right: .3em;
}
.file_icon:before.fa-pull-right {
  margin-left: .3em;
}
.file_icon:before.pull-left {
  margin-right: .3em;
}
.file_icon:before.pull-right {
  margin-left: .3em;
}
#notebook_toolbar .pull-right {
  padding-top: 0px;
  margin-right: -1px;
}
ul#new-menu {
  left: auto;
  right: 0;
}
#new-menu .dropdown-header {
  font-size: 10px;
  border-bottom: 1px solid #e5e5e5;
  padding: 0 0 3px;
  margin: -3px 20px 0;
}
.kernel-menu-icon {
  padding-right: 12px;
  width: 24px;
  content: "\f096";
}
.kernel-menu-icon:before {
  content: "\f096";
}
.kernel-menu-icon-current:before {
  content: "\f00c";
}
#tab_content {
  padding-top: 20px;
}
#running .panel-group .panel {
  margin-top: 3px;
  margin-bottom: 1em;
}
#running .panel-group .panel .panel-heading {
  background-color: #EEE;
  padding-top: 4px;
  padding-bottom: 4px;
  padding-left: 7px;
  padding-right: 7px;
  line-height: 22px;
}
#running .panel-group .panel .panel-heading a:focus,
#running .panel-group .panel .panel-heading a:hover {
  text-decoration: none;
}
#running .panel-group .panel .panel-body {
  padding: 0px;
}
#running .panel-group .panel .panel-body .list_container {
  margin-top: 0px;
  margin-bottom: 0px;
  border: 0px;
  border-radius: 0px;
}
#running .panel-group .panel .panel-body .list_container .list_item {
  border-bottom: 1px solid #ddd;
}
#running .panel-group .panel .panel-body .list_container .list_item:last-child {
  border-bottom: 0px;
}
.delete-button {
  display: none;
}
.duplicate-button {
  display: none;
}
.rename-button {
  display: none;
}
.move-button {
  display: none;
}
.download-button {
  display: none;
}
.shutdown-button {
  display: none;
}
.dynamic-instructions {
  display: inline-block;
  padding-top: 4px;
}
/*!
*
* IPython text editor webapp
*
*/
.selected-keymap i.fa {
  padding: 0px 5px;
}
.selected-keymap i.fa:before {
  content: "\f00c";
}
#mode-menu {
  overflow: auto;
  max-height: 20em;
}
.edit_app #header {
  -webkit-box-shadow: 0px 0px 12px 1px rgba(87, 87, 87, 0.2);
  box-shadow: 0px 0px 12px 1px rgba(87, 87, 87, 0.2);
}
.edit_app #menubar .navbar {
  /* Use a negative 1 bottom margin, so the border overlaps the border of the
    header */
  margin-bottom: -1px;
}
.dirty-indicator {
  display: inline-block;
  font: normal normal normal 14px/1 FontAwesome;
  font-size: inherit;
  text-rendering: auto;
  -webkit-font-smoothing: antialiased;
  -moz-osx-font-smoothing: grayscale;
  width: 20px;
}
.dirty-indicator.fa-pull-left {
  margin-right: .3em;
}
.dirty-indicator.fa-pull-right {
  margin-left: .3em;
}
.dirty-indicator.pull-left {
  margin-right: .3em;
}
.dirty-indicator.pull-right {
  margin-left: .3em;
}
.dirty-indicator-dirty {
  display: inline-block;
  font: normal normal normal 14px/1 FontAwesome;
  font-size: inherit;
  text-rendering: auto;
  -webkit-font-smoothing: antialiased;
  -moz-osx-font-smoothing: grayscale;
  width: 20px;
}
.dirty-indicator-dirty.fa-pull-left {
  margin-right: .3em;
}
.dirty-indicator-dirty.fa-pull-right {
  margin-left: .3em;
}
.dirty-indicator-dirty.pull-left {
  margin-right: .3em;
}
.dirty-indicator-dirty.pull-right {
  margin-left: .3em;
}
.dirty-indicator-clean {
  display: inline-block;
  font: normal normal normal 14px/1 FontAwesome;
  font-size: inherit;
  text-rendering: auto;
  -webkit-font-smoothing: antialiased;
  -moz-osx-font-smoothing: grayscale;
  width: 20px;
}
.dirty-indicator-clean.fa-pull-left {
  margin-right: .3em;
}
.dirty-indicator-clean.fa-pull-right {
  margin-left: .3em;
}
.dirty-indicator-clean.pull-left {
  margin-right: .3em;
}
.dirty-indicator-clean.pull-right {
  margin-left: .3em;
}
.dirty-indicator-clean:before {
  display: inline-block;
  font: normal normal normal 14px/1 FontAwesome;
  font-size: inherit;
  text-rendering: auto;
  -webkit-font-smoothing: antialiased;
  -moz-osx-font-smoothing: grayscale;
  content: "\f00c";
}
.dirty-indicator-clean:before.fa-pull-left {
  margin-right: .3em;
}
.dirty-indicator-clean:before.fa-pull-right {
  margin-left: .3em;
}
.dirty-indicator-clean:before.pull-left {
  margin-right: .3em;
}
.dirty-indicator-clean:before.pull-right {
  margin-left: .3em;
}
#filename {
  font-size: 16pt;
  display: table;
  padding: 0px 5px;
}
#current-mode {
  padding-left: 5px;
  padding-right: 5px;
}
#texteditor-backdrop {
  padding-top: 20px;
  padding-bottom: 20px;
}
@media not print {
  #texteditor-backdrop {
    background-color: #EEE;
  }
}
@media print {
  #texteditor-backdrop #texteditor-container .CodeMirror-gutter,
  #texteditor-backdrop #texteditor-container .CodeMirror-gutters {
    background-color: #fff;
  }
}
@media not print {
  #texteditor-backdrop #texteditor-container .CodeMirror-gutter,
  #texteditor-backdrop #texteditor-container .CodeMirror-gutters {
    background-color: #fff;
  }
}
@media not print {
  #texteditor-backdrop #texteditor-container {
    padding: 0px;
    background-color: #fff;
    -webkit-box-shadow: 0px 0px 12px 1px rgba(87, 87, 87, 0.2);
    box-shadow: 0px 0px 12px 1px rgba(87, 87, 87, 0.2);
  }
}
.CodeMirror-dialog {
  background-color: #fff;
}
/*!
*
* IPython notebook
*
*/
/* CSS font colors for translated ANSI escape sequences */
/* The color values are a mix of
   http://www.xcolors.net/dl/baskerville-ivorylight and
   http://www.xcolors.net/dl/euphrasia */
.ansi-black-fg {
  color: #3E424D;
}
.ansi-black-bg {
  background-color: #3E424D;
}
.ansi-black-intense-fg {
  color: #282C36;
}
.ansi-black-intense-bg {
  background-color: #282C36;
}
.ansi-red-fg {
  color: #E75C58;
}
.ansi-red-bg {
  background-color: #E75C58;
}
.ansi-red-intense-fg {
  color: #B22B31;
}
.ansi-red-intense-bg {
  background-color: #B22B31;
}
.ansi-green-fg {
  color: #00A250;
}
.ansi-green-bg {
  background-color: #00A250;
}
.ansi-green-intense-fg {
  color: #007427;
}
.ansi-green-intense-bg {
  background-color: #007427;
}
.ansi-yellow-fg {
  color: #DDB62B;
}
.ansi-yellow-bg {
  background-color: #DDB62B;
}
.ansi-yellow-intense-fg {
  color: #B27D12;
}
.ansi-yellow-intense-bg {
  background-color: #B27D12;
}
.ansi-blue-fg {
  color: #208FFB;
}
.ansi-blue-bg {
  background-color: #208FFB;
}
.ansi-blue-intense-fg {
  color: #0065CA;
}
.ansi-blue-intense-bg {
  background-color: #0065CA;
}
.ansi-magenta-fg {
  color: #D160C4;
}
.ansi-magenta-bg {
  background-color: #D160C4;
}
.ansi-magenta-intense-fg {
  color: #A03196;
}
.ansi-magenta-intense-bg {
  background-color: #A03196;
}
.ansi-cyan-fg {
  color: #60C6C8;
}
.ansi-cyan-bg {
  background-color: #60C6C8;
}
.ansi-cyan-intense-fg {
  color: #258F8F;
}
.ansi-cyan-intense-bg {
  background-color: #258F8F;
}
.ansi-white-fg {
  color: #C5C1B4;
}
.ansi-white-bg {
  background-color: #C5C1B4;
}
.ansi-white-intense-fg {
  color: #A1A6B2;
}
.ansi-white-intense-bg {
  background-color: #A1A6B2;
}
.ansi-default-inverse-fg {
  color: #FFFFFF;
}
.ansi-default-inverse-bg {
  background-color: #000000;
}
.ansi-bold {
  font-weight: bold;
}
.ansi-underline {
  text-decoration: underline;
}
/* The following styles are deprecated an will be removed in a future version */
.ansibold {
  font-weight: bold;
}
.ansi-inverse {
  outline: 0.5px dotted;
}
/* use dark versions for foreground, to improve visibility */
.ansiblack {
  color: black;
}
.ansired {
  color: darkred;
}
.ansigreen {
  color: darkgreen;
}
.ansiyellow {
  color: #c4a000;
}
.ansiblue {
  color: darkblue;
}
.ansipurple {
  color: darkviolet;
}
.ansicyan {
  color: steelblue;
}
.ansigray {
  color: gray;
}
/* and light for background, for the same reason */
.ansibgblack {
  background-color: black;
}
.ansibgred {
  background-color: red;
}
.ansibggreen {
  background-color: green;
}
.ansibgyellow {
  background-color: yellow;
}
.ansibgblue {
  background-color: blue;
}
.ansibgpurple {
  background-color: magenta;
}
.ansibgcyan {
  background-color: cyan;
}
.ansibggray {
  background-color: gray;
}
div.cell {
  /* Old browsers */
  display: -webkit-box;
  -webkit-box-orient: vertical;
  -webkit-box-align: stretch;
  display: -moz-box;
  -moz-box-orient: vertical;
  -moz-box-align: stretch;
  display: box;
  box-orient: vertical;
  box-align: stretch;
  /* Modern browsers */
  display: flex;
  flex-direction: column;
  align-items: stretch;
  border-radius: 2px;
  box-sizing: border-box;
  -moz-box-sizing: border-box;
  -webkit-box-sizing: border-box;
  border-width: 1px;
  border-style: solid;
  border-color: transparent;
  width: 100%;
  padding: 5px;
  /* This acts as a spacer between cells, that is outside the border */
  margin: 0px;
  outline: none;
  position: relative;
  overflow: visible;
}
div.cell:before {
  position: absolute;
  display: block;
  top: -1px;
  left: -1px;
  width: 5px;
  height: calc(100% +  2px);
  content: '';
  background: transparent;
}
div.cell.jupyter-soft-selected {
  border-left-color: #E3F2FD;
  border-left-width: 1px;
  padding-left: 5px;
  border-right-color: #E3F2FD;
  border-right-width: 1px;
  background: #E3F2FD;
}
@media print {
  div.cell.jupyter-soft-selected {
    border-color: transparent;
  }
}
div.cell.selected,
div.cell.selected.jupyter-soft-selected {
  border-color: #ababab;
}
div.cell.selected:before,
div.cell.selected.jupyter-soft-selected:before {
  position: absolute;
  display: block;
  top: -1px;
  left: -1px;
  width: 5px;
  height: calc(100% +  2px);
  content: '';
  background: #42A5F5;
}
@media print {
  div.cell.selected,
  div.cell.selected.jupyter-soft-selected {
    border-color: transparent;
  }
}
.edit_mode div.cell.selected {
  border-color: #66BB6A;
}
.edit_mode div.cell.selected:before {
  position: absolute;
  display: block;
  top: -1px;
  left: -1px;
  width: 5px;
  height: calc(100% +  2px);
  content: '';
  background: #66BB6A;
}
@media print {
  .edit_mode div.cell.selected {
    border-color: transparent;
  }
}
.prompt {
  /* This needs to be wide enough for 3 digit prompt numbers: In[100]: */
  min-width: 14ex;
  /* This padding is tuned to match the padding on the CodeMirror editor. */
  padding: 0.4em;
  margin: 0px;
  font-family: monospace;
  text-align: right;
  /* This has to match that of the the CodeMirror class line-height below */
  line-height: 1.21429em;
  /* Don't highlight prompt number selection */
  -webkit-touch-callout: none;
  -webkit-user-select: none;
  -khtml-user-select: none;
  -moz-user-select: none;
  -ms-user-select: none;
  user-select: none;
  /* Use default cursor */
  cursor: default;
}
@media (max-width: 540px) {
  .prompt {
    text-align: left;
  }
}
div.inner_cell {
  min-width: 0;
  /* Old browsers */
  display: -webkit-box;
  -webkit-box-orient: vertical;
  -webkit-box-align: stretch;
  display: -moz-box;
  -moz-box-orient: vertical;
  -moz-box-align: stretch;
  display: box;
  box-orient: vertical;
  box-align: stretch;
  /* Modern browsers */
  display: flex;
  flex-direction: column;
  align-items: stretch;
  /* Old browsers */
  -webkit-box-flex: 1;
  -moz-box-flex: 1;
  box-flex: 1;
  /* Modern browsers */
  flex: 1;
}
/* input_area and input_prompt must match in top border and margin for alignment */
div.input_area {
  border: 1px solid #cfcfcf;
  border-radius: 2px;
  background: #f7f7f7;
  line-height: 1.21429em;
}
/* This is needed so that empty prompt areas can collapse to zero height when there
   is no content in the output_subarea and the prompt. The main purpose of this is
   to make sure that empty JavaScript output_subareas have no height. */
div.prompt:empty {
  padding-top: 0;
  padding-bottom: 0;
}
div.unrecognized_cell {
  padding: 5px 5px 5px 0px;
  /* Old browsers */
  display: -webkit-box;
  -webkit-box-orient: horizontal;
  -webkit-box-align: stretch;
  display: -moz-box;
  -moz-box-orient: horizontal;
  -moz-box-align: stretch;
  display: box;
  box-orient: horizontal;
  box-align: stretch;
  /* Modern browsers */
  display: flex;
  flex-direction: row;
  align-items: stretch;
}
div.unrecognized_cell .inner_cell {
  border-radius: 2px;
  padding: 5px;
  font-weight: bold;
  color: red;
  border: 1px solid #cfcfcf;
  background: #eaeaea;
}
div.unrecognized_cell .inner_cell a {
  color: inherit;
  text-decoration: none;
}
div.unrecognized_cell .inner_cell a:hover {
  color: inherit;
  text-decoration: none;
}
@media (max-width: 540px) {
  div.unrecognized_cell > div.prompt {
    display: none;
  }
}
div.code_cell {
  /* avoid page breaking on code cells when printing */
}
@media print {
  div.code_cell {
    page-break-inside: avoid;
  }
}
/* any special styling for code cells that are currently running goes here */
div.input {
  page-break-inside: avoid;
  /* Old browsers */
  display: -webkit-box;
  -webkit-box-orient: horizontal;
  -webkit-box-align: stretch;
  display: -moz-box;
  -moz-box-orient: horizontal;
  -moz-box-align: stretch;
  display: box;
  box-orient: horizontal;
  box-align: stretch;
  /* Modern browsers */
  display: flex;
  flex-direction: row;
  align-items: stretch;
}
@media (max-width: 540px) {
  div.input {
    /* Old browsers */
    display: -webkit-box;
    -webkit-box-orient: vertical;
    -webkit-box-align: stretch;
    display: -moz-box;
    -moz-box-orient: vertical;
    -moz-box-align: stretch;
    display: box;
    box-orient: vertical;
    box-align: stretch;
    /* Modern browsers */
    display: flex;
    flex-direction: column;
    align-items: stretch;
  }
}
/* input_area and input_prompt must match in top border and margin for alignment */
div.input_prompt {
  color: #303F9F;
  border-top: 1px solid transparent;
}
div.input_area > div.highlight {
  margin: 0.4em;
  border: none;
  padding: 0px;
  background-color: transparent;
}
div.input_area > div.highlight > pre {
  margin: 0px;
  border: none;
  padding: 0px;
  background-color: transparent;
}
/* The following gets added to the <head> if it is detected that the user has a
 * monospace font with inconsistent normal/bold/italic height.  See
 * notebookmain.js.  Such fonts will have keywords vertically offset with
 * respect to the rest of the text.  The user should select a better font.
 * See: https://github.com/ipython/ipython/issues/1503
 *
 * .CodeMirror span {
 *      vertical-align: bottom;
 * }
 */
.CodeMirror {
  line-height: 1.21429em;
  /* Changed from 1em to our global default */
  font-size: 14px;
  height: auto;
  /* Changed to auto to autogrow */
  background: none;
  /* Changed from white to allow our bg to show through */
}
.CodeMirror-scroll {
  /*  The CodeMirror docs are a bit fuzzy on if overflow-y should be hidden or visible.*/
  /*  We have found that if it is visible, vertical scrollbars appear with font size changes.*/
  overflow-y: hidden;
  overflow-x: auto;
}
.CodeMirror-lines {
  /* In CM2, this used to be 0.4em, but in CM3 it went to 4px. We need the em value because */
  /* we have set a different line-height and want this to scale with that. */
  /* Note that this should set vertical padding only, since CodeMirror assumes
       that horizontal padding will be set on CodeMirror pre */
  padding: 0.4em 0;
}
.CodeMirror-linenumber {
  padding: 0 8px 0 4px;
}
.CodeMirror-gutters {
  border-bottom-left-radius: 2px;
  border-top-left-radius: 2px;
}
.CodeMirror pre {
  /* In CM3 this went to 4px from 0 in CM2. This sets horizontal padding only,
    use .CodeMirror-lines for vertical */
  padding: 0 0.4em;
  border: 0;
  border-radius: 0;
}
.CodeMirror-cursor {
  border-left: 1.4px solid black;
}
@media screen and (min-width: 2138px) and (max-width: 4319px) {
  .CodeMirror-cursor {
    border-left: 2px solid black;
  }
}
@media screen and (min-width: 4320px) {
  .CodeMirror-cursor {
    border-left: 4px solid black;
  }
}
/*

Original style from softwaremaniacs.org (c) Ivan Sagalaev <Maniac@SoftwareManiacs.Org>
Adapted from GitHub theme

*/
.highlight-base {
  color: #000;
}
.highlight-variable {
  color: #000;
}
.highlight-variable-2 {
  color: #1a1a1a;
}
.highlight-variable-3 {
  color: #333333;
}
.highlight-string {
  color: #BA2121;
}
.highlight-comment {
  color: #408080;
  font-style: italic;
}
.highlight-number {
  color: #080;
}
.highlight-atom {
  color: #88F;
}
.highlight-keyword {
  color: #008000;
  font-weight: bold;
}
.highlight-builtin {
  color: #008000;
}
.highlight-error {
  color: #f00;
}
.highlight-operator {
  color: #AA22FF;
  font-weight: bold;
}
.highlight-meta {
  color: #AA22FF;
}
/* previously not defined, copying from default codemirror */
.highlight-def {
  color: #00f;
}
.highlight-string-2 {
  color: #f50;
}
.highlight-qualifier {
  color: #555;
}
.highlight-bracket {
  color: #997;
}
.highlight-tag {
  color: #170;
}
.highlight-attribute {
  color: #00c;
}
.highlight-header {
  color: blue;
}
.highlight-quote {
  color: #090;
}
.highlight-link {
  color: #00c;
}
/* apply the same style to codemirror */
.cm-s-ipython span.cm-keyword {
  color: #008000;
  font-weight: bold;
}
.cm-s-ipython span.cm-atom {
  color: #88F;
}
.cm-s-ipython span.cm-number {
  color: #080;
}
.cm-s-ipython span.cm-def {
  color: #00f;
}
.cm-s-ipython span.cm-variable {
  color: #000;
}
.cm-s-ipython span.cm-operator {
  color: #AA22FF;
  font-weight: bold;
}
.cm-s-ipython span.cm-variable-2 {
  color: #1a1a1a;
}
.cm-s-ipython span.cm-variable-3 {
  color: #333333;
}
.cm-s-ipython span.cm-comment {
  color: #408080;
  font-style: italic;
}
.cm-s-ipython span.cm-string {
  color: #BA2121;
}
.cm-s-ipython span.cm-string-2 {
  color: #f50;
}
.cm-s-ipython span.cm-meta {
  color: #AA22FF;
}
.cm-s-ipython span.cm-qualifier {
  color: #555;
}
.cm-s-ipython span.cm-builtin {
  color: #008000;
}
.cm-s-ipython span.cm-bracket {
  color: #997;
}
.cm-s-ipython span.cm-tag {
  color: #170;
}
.cm-s-ipython span.cm-attribute {
  color: #00c;
}
.cm-s-ipython span.cm-header {
  color: blue;
}
.cm-s-ipython span.cm-quote {
  color: #090;
}
.cm-s-ipython span.cm-link {
  color: #00c;
}
.cm-s-ipython span.cm-error {
  color: #f00;
}
.cm-s-ipython span.cm-tab {
  background: url(data:image/png;base64,iVBORw0KGgoAAAANSUhEUgAAADAAAAAMCAYAAAAkuj5RAAAAAXNSR0IArs4c6QAAAGFJREFUSMft1LsRQFAQheHPowAKoACx3IgEKtaEHujDjORSgWTH/ZOdnZOcM/sgk/kFFWY0qV8foQwS4MKBCS3qR6ixBJvElOobYAtivseIE120FaowJPN75GMu8j/LfMwNjh4HUpwg4LUAAAAASUVORK5CYII=);
  background-position: right;
  background-repeat: no-repeat;
}
div.output_wrapper {
  /* this position must be relative to enable descendents to be absolute within it */
  position: relative;
  /* Old browsers */
  display: -webkit-box;
  -webkit-box-orient: vertical;
  -webkit-box-align: stretch;
  display: -moz-box;
  -moz-box-orient: vertical;
  -moz-box-align: stretch;
  display: box;
  box-orient: vertical;
  box-align: stretch;
  /* Modern browsers */
  display: flex;
  flex-direction: column;
  align-items: stretch;
  z-index: 1;
}
/* class for the output area when it should be height-limited */
div.output_scroll {
  /* ideally, this would be max-height, but FF barfs all over that */
  height: 24em;
  /* FF needs this *and the wrapper* to specify full width, or it will shrinkwrap */
  width: 100%;
  overflow: auto;
  border-radius: 2px;
  -webkit-box-shadow: inset 0 2px 8px rgba(0, 0, 0, 0.8);
  box-shadow: inset 0 2px 8px rgba(0, 0, 0, 0.8);
  display: block;
}
/* output div while it is collapsed */
div.output_collapsed {
  margin: 0px;
  padding: 0px;
  /* Old browsers */
  display: -webkit-box;
  -webkit-box-orient: vertical;
  -webkit-box-align: stretch;
  display: -moz-box;
  -moz-box-orient: vertical;
  -moz-box-align: stretch;
  display: box;
  box-orient: vertical;
  box-align: stretch;
  /* Modern browsers */
  display: flex;
  flex-direction: column;
  align-items: stretch;
}
div.out_prompt_overlay {
  height: 100%;
  padding: 0px 0.4em;
  position: absolute;
  border-radius: 2px;
}
div.out_prompt_overlay:hover {
  /* use inner shadow to get border that is computed the same on WebKit/FF */
  -webkit-box-shadow: inset 0 0 1px #000;
  box-shadow: inset 0 0 1px #000;
  background: rgba(240, 240, 240, 0.5);
}
div.output_prompt {
  color: #D84315;
}
/* This class is the outer container of all output sections. */
div.output_area {
  padding: 0px;
  page-break-inside: avoid;
  /* Old browsers */
  display: -webkit-box;
  -webkit-box-orient: horizontal;
  -webkit-box-align: stretch;
  display: -moz-box;
  -moz-box-orient: horizontal;
  -moz-box-align: stretch;
  display: box;
  box-orient: horizontal;
  box-align: stretch;
  /* Modern browsers */
  display: flex;
  flex-direction: row;
  align-items: stretch;
}
div.output_area .MathJax_Display {
  text-align: left !important;
}
div.output_area .rendered_html table {
  margin-left: 0;
  margin-right: 0;
}
div.output_area .rendered_html img {
  margin-left: 0;
  margin-right: 0;
}
div.output_area img,
div.output_area svg {
  max-width: 100%;
  height: auto;
}
div.output_area img.unconfined,
div.output_area svg.unconfined {
  max-width: none;
}
div.output_area .mglyph > img {
  max-width: none;
}
/* This is needed to protect the pre formating from global settings such
   as that of bootstrap */
.output {
  /* Old browsers */
  display: -webkit-box;
  -webkit-box-orient: vertical;
  -webkit-box-align: stretch;
  display: -moz-box;
  -moz-box-orient: vertical;
  -moz-box-align: stretch;
  display: box;
  box-orient: vertical;
  box-align: stretch;
  /* Modern browsers */
  display: flex;
  flex-direction: column;
  align-items: stretch;
}
@media (max-width: 540px) {
  div.output_area {
    /* Old browsers */
    display: -webkit-box;
    -webkit-box-orient: vertical;
    -webkit-box-align: stretch;
    display: -moz-box;
    -moz-box-orient: vertical;
    -moz-box-align: stretch;
    display: box;
    box-orient: vertical;
    box-align: stretch;
    /* Modern browsers */
    display: flex;
    flex-direction: column;
    align-items: stretch;
  }
}
div.output_area pre {
  margin: 0;
  padding: 1px 0 1px 0;
  border: 0;
  vertical-align: baseline;
  color: black;
  background-color: transparent;
  border-radius: 0;
}
/* This class is for the output subarea inside the output_area and after
   the prompt div. */
div.output_subarea {
  overflow-x: auto;
  padding: 0.4em;
  /* Old browsers */
  -webkit-box-flex: 1;
  -moz-box-flex: 1;
  box-flex: 1;
  /* Modern browsers */
  flex: 1;
  max-width: calc(100% - 14ex);
}
div.output_scroll div.output_subarea {
  overflow-x: visible;
}
/* The rest of the output_* classes are for special styling of the different
   output types */
/* all text output has this class: */
div.output_text {
  text-align: left;
  color: #000;
  /* This has to match that of the the CodeMirror class line-height below */
  line-height: 1.21429em;
}
/* stdout/stderr are 'text' as well as 'stream', but execute_result/error are *not* streams */
div.output_stderr {
  background: #fdd;
  /* very light red background for stderr */
}
div.output_latex {
  text-align: left;
}
/* Empty output_javascript divs should have no height */
div.output_javascript:empty {
  padding: 0;
}
.js-error {
  color: darkred;
}
/* raw_input styles */
div.raw_input_container {
  line-height: 1.21429em;
  padding-top: 5px;
}
pre.raw_input_prompt {
  /* nothing needed here. */
}
input.raw_input {
  font-family: monospace;
  font-size: inherit;
  color: inherit;
  width: auto;
  /* make sure input baseline aligns with prompt */
  vertical-align: baseline;
  /* padding + margin = 0.5em between prompt and cursor */
  padding: 0em 0.25em;
  margin: 0em 0.25em;
}
input.raw_input:focus {
  box-shadow: none;
}
p.p-space {
  margin-bottom: 10px;
}
div.output_unrecognized {
  padding: 5px;
  font-weight: bold;
  color: red;
}
div.output_unrecognized a {
  color: inherit;
  text-decoration: none;
}
div.output_unrecognized a:hover {
  color: inherit;
  text-decoration: none;
}
.rendered_html {
  color: #000;
  /* any extras will just be numbers: */
}
.rendered_html em {
  font-style: italic;
}
.rendered_html strong {
  font-weight: bold;
}
.rendered_html u {
  text-decoration: underline;
}
.rendered_html :link {
  text-decoration: underline;
}
.rendered_html :visited {
  text-decoration: underline;
}
.rendered_html h1 {
  font-size: 185.7%;
  margin: 1.08em 0 0 0;
  font-weight: bold;
  line-height: 1.0;
}
.rendered_html h2 {
  font-size: 157.1%;
  margin: 1.27em 0 0 0;
  font-weight: bold;
  line-height: 1.0;
}
.rendered_html h3 {
  font-size: 128.6%;
  margin: 1.55em 0 0 0;
  font-weight: bold;
  line-height: 1.0;
}
.rendered_html h4 {
  font-size: 100%;
  margin: 2em 0 0 0;
  font-weight: bold;
  line-height: 1.0;
}
.rendered_html h5 {
  font-size: 100%;
  margin: 2em 0 0 0;
  font-weight: bold;
  line-height: 1.0;
  font-style: italic;
}
.rendered_html h6 {
  font-size: 100%;
  margin: 2em 0 0 0;
  font-weight: bold;
  line-height: 1.0;
  font-style: italic;
}
.rendered_html h1:first-child {
  margin-top: 0.538em;
}
.rendered_html h2:first-child {
  margin-top: 0.636em;
}
.rendered_html h3:first-child {
  margin-top: 0.777em;
}
.rendered_html h4:first-child {
  margin-top: 1em;
}
.rendered_html h5:first-child {
  margin-top: 1em;
}
.rendered_html h6:first-child {
  margin-top: 1em;
}
.rendered_html ul:not(.list-inline),
.rendered_html ol:not(.list-inline) {
  padding-left: 2em;
}
.rendered_html ul {
  list-style: disc;
}
.rendered_html ul ul {
  list-style: square;
  margin-top: 0;
}
.rendered_html ul ul ul {
  list-style: circle;
}
.rendered_html ol {
  list-style: decimal;
}
.rendered_html ol ol {
  list-style: upper-alpha;
  margin-top: 0;
}
.rendered_html ol ol ol {
  list-style: lower-alpha;
}
.rendered_html ol ol ol ol {
  list-style: lower-roman;
}
.rendered_html ol ol ol ol ol {
  list-style: decimal;
}
.rendered_html * + ul {
  margin-top: 1em;
}
.rendered_html * + ol {
  margin-top: 1em;
}
.rendered_html hr {
  color: black;
  background-color: black;
}
.rendered_html pre {
  margin: 1em 2em;
  padding: 0px;
  background-color: #fff;
}
.rendered_html code {
  background-color: #eff0f1;
}
.rendered_html p code {
  padding: 1px 5px;
}
.rendered_html pre code {
  background-color: #fff;
}
.rendered_html pre,
.rendered_html code {
  border: 0;
  color: #000;
  font-size: 100%;
}
.rendered_html blockquote {
  margin: 1em 2em;
}
.rendered_html table {
  margin-left: auto;
  margin-right: auto;
  border: none;
  border-collapse: collapse;
  border-spacing: 0;
  color: black;
  font-size: 12px;
  table-layout: fixed;
}
.rendered_html thead {
  border-bottom: 1px solid black;
  vertical-align: bottom;
}
.rendered_html tr,
.rendered_html th,
.rendered_html td {
  text-align: right;
  vertical-align: middle;
  padding: 0.5em 0.5em;
  line-height: normal;
  white-space: normal;
  max-width: none;
  border: none;
}
.rendered_html th {
  font-weight: bold;
}
.rendered_html tbody tr:nth-child(odd) {
  background: #f5f5f5;
}
.rendered_html tbody tr:hover {
  background: rgba(66, 165, 245, 0.2);
}
.rendered_html * + table {
  margin-top: 1em;
}
.rendered_html p {
  text-align: left;
}
.rendered_html * + p {
  margin-top: 1em;
}
.rendered_html img {
  display: block;
  margin-left: auto;
  margin-right: auto;
}
.rendered_html * + img {
  margin-top: 1em;
}
.rendered_html img,
.rendered_html svg {
  max-width: 100%;
  height: auto;
}
.rendered_html img.unconfined,
.rendered_html svg.unconfined {
  max-width: none;
}
.rendered_html .alert {
  margin-bottom: initial;
}
.rendered_html * + .alert {
  margin-top: 1em;
}
[dir="rtl"] .rendered_html p {
  text-align: right;
}
div.text_cell {
  /* Old browsers */
  display: -webkit-box;
  -webkit-box-orient: horizontal;
  -webkit-box-align: stretch;
  display: -moz-box;
  -moz-box-orient: horizontal;
  -moz-box-align: stretch;
  display: box;
  box-orient: horizontal;
  box-align: stretch;
  /* Modern browsers */
  display: flex;
  flex-direction: row;
  align-items: stretch;
}
@media (max-width: 540px) {
  div.text_cell > div.prompt {
    display: none;
  }
}
div.text_cell_render {
  /*font-family: "Helvetica Neue", Arial, Helvetica, Geneva, sans-serif;*/
  outline: none;
  resize: none;
  width: inherit;
  border-style: none;
  padding: 0.5em 0.5em 0.5em 0.4em;
  color: #000;
  box-sizing: border-box;
  -moz-box-sizing: border-box;
  -webkit-box-sizing: border-box;
}
a.anchor-link:link {
  text-decoration: none;
  padding: 0px 20px;
  visibility: hidden;
}
h1:hover .anchor-link,
h2:hover .anchor-link,
h3:hover .anchor-link,
h4:hover .anchor-link,
h5:hover .anchor-link,
h6:hover .anchor-link {
  visibility: visible;
}
.text_cell.rendered .input_area {
  display: none;
}
.text_cell.rendered .rendered_html {
  overflow-x: auto;
  overflow-y: hidden;
}
.text_cell.rendered .rendered_html tr,
.text_cell.rendered .rendered_html th,
.text_cell.rendered .rendered_html td {
  max-width: none;
}
.text_cell.unrendered .text_cell_render {
  display: none;
}
.text_cell .dropzone .input_area {
  border: 2px dashed #bababa;
  margin: -1px;
}
.cm-header-1,
.cm-header-2,
.cm-header-3,
.cm-header-4,
.cm-header-5,
.cm-header-6 {
  font-weight: bold;
  font-family: "Helvetica Neue", Helvetica, Arial, sans-serif;
}
.cm-header-1 {
  font-size: 185.7%;
}
.cm-header-2 {
  font-size: 157.1%;
}
.cm-header-3 {
  font-size: 128.6%;
}
.cm-header-4 {
  font-size: 110%;
}
.cm-header-5 {
  font-size: 100%;
  font-style: italic;
}
.cm-header-6 {
  font-size: 100%;
  font-style: italic;
}
/*!
*
* IPython notebook webapp
*
*/
@media (max-width: 767px) {
  .notebook_app {
    padding-left: 0px;
    padding-right: 0px;
  }
}
#ipython-main-app {
  box-sizing: border-box;
  -moz-box-sizing: border-box;
  -webkit-box-sizing: border-box;
  height: 100%;
}
div#notebook_panel {
  margin: 0px;
  padding: 0px;
  box-sizing: border-box;
  -moz-box-sizing: border-box;
  -webkit-box-sizing: border-box;
  height: 100%;
}
div#notebook {
  font-size: 14px;
  line-height: 20px;
  overflow-y: hidden;
  overflow-x: auto;
  width: 100%;
  /* This spaces the page away from the edge of the notebook area */
  padding-top: 20px;
  margin: 0px;
  outline: none;
  box-sizing: border-box;
  -moz-box-sizing: border-box;
  -webkit-box-sizing: border-box;
  min-height: 100%;
}
@media not print {
  #notebook-container {
    padding: 15px;
    background-color: #fff;
    min-height: 0;
    -webkit-box-shadow: 0px 0px 12px 1px rgba(87, 87, 87, 0.2);
    box-shadow: 0px 0px 12px 1px rgba(87, 87, 87, 0.2);
  }
}
@media print {
  #notebook-container {
    width: 100%;
  }
}
div.ui-widget-content {
  border: 1px solid #ababab;
  outline: none;
}
pre.dialog {
  background-color: #f7f7f7;
  border: 1px solid #ddd;
  border-radius: 2px;
  padding: 0.4em;
  padding-left: 2em;
}
p.dialog {
  padding: 0.2em;
}
/* Word-wrap output correctly.  This is the CSS3 spelling, though Firefox seems
   to not honor it correctly.  Webkit browsers (Chrome, rekonq, Safari) do.
 */
pre,
code,
kbd,
samp {
  white-space: pre-wrap;
}
#fonttest {
  font-family: monospace;
}
p {
  margin-bottom: 0;
}
.end_space {
  min-height: 100px;
  transition: height .2s ease;
}
.notebook_app > #header {
  -webkit-box-shadow: 0px 0px 12px 1px rgba(87, 87, 87, 0.2);
  box-shadow: 0px 0px 12px 1px rgba(87, 87, 87, 0.2);
}
@media not print {
  .notebook_app {
    background-color: #EEE;
  }
}
kbd {
  border-style: solid;
  border-width: 1px;
  box-shadow: none;
  margin: 2px;
  padding-left: 2px;
  padding-right: 2px;
  padding-top: 1px;
  padding-bottom: 1px;
}
.jupyter-keybindings {
  padding: 1px;
  line-height: 24px;
  border-bottom: 1px solid gray;
}
.jupyter-keybindings input {
  margin: 0;
  padding: 0;
  border: none;
}
.jupyter-keybindings i {
  padding: 6px;
}
.well code {
  background-color: #ffffff;
  border-color: #ababab;
  border-width: 1px;
  border-style: solid;
  padding: 2px;
  padding-top: 1px;
  padding-bottom: 1px;
}
/* CSS for the cell toolbar */
.celltoolbar {
  border: thin solid #CFCFCF;
  border-bottom: none;
  background: #EEE;
  border-radius: 2px 2px 0px 0px;
  width: 100%;
  height: 29px;
  padding-right: 4px;
  /* Old browsers */
  display: -webkit-box;
  -webkit-box-orient: horizontal;
  -webkit-box-align: stretch;
  display: -moz-box;
  -moz-box-orient: horizontal;
  -moz-box-align: stretch;
  display: box;
  box-orient: horizontal;
  box-align: stretch;
  /* Modern browsers */
  display: flex;
  flex-direction: row;
  align-items: stretch;
  /* Old browsers */
  -webkit-box-pack: end;
  -moz-box-pack: end;
  box-pack: end;
  /* Modern browsers */
  justify-content: flex-end;
  display: -webkit-flex;
}
@media print {
  .celltoolbar {
    display: none;
  }
}
.ctb_hideshow {
  display: none;
  vertical-align: bottom;
}
/* ctb_show is added to the ctb_hideshow div to show the cell toolbar.
   Cell toolbars are only shown when the ctb_global_show class is also set.
*/
.ctb_global_show .ctb_show.ctb_hideshow {
  display: block;
}
.ctb_global_show .ctb_show + .input_area,
.ctb_global_show .ctb_show + div.text_cell_input,
.ctb_global_show .ctb_show ~ div.text_cell_render {
  border-top-right-radius: 0px;
  border-top-left-radius: 0px;
}
.ctb_global_show .ctb_show ~ div.text_cell_render {
  border: 1px solid #cfcfcf;
}
.celltoolbar {
  font-size: 87%;
  padding-top: 3px;
}
.celltoolbar select {
  display: block;
  width: 100%;
  height: 32px;
  padding: 6px 12px;
  font-size: 13px;
  line-height: 1.42857143;
  color: #555555;
  background-color: #fff;
  background-image: none;
  border: 1px solid #ccc;
  border-radius: 2px;
  -webkit-box-shadow: inset 0 1px 1px rgba(0, 0, 0, 0.075);
  box-shadow: inset 0 1px 1px rgba(0, 0, 0, 0.075);
  -webkit-transition: border-color ease-in-out .15s, box-shadow ease-in-out .15s;
  -o-transition: border-color ease-in-out .15s, box-shadow ease-in-out .15s;
  transition: border-color ease-in-out .15s, box-shadow ease-in-out .15s;
  height: 30px;
  padding: 5px 10px;
  font-size: 12px;
  line-height: 1.5;
  border-radius: 1px;
  width: inherit;
  font-size: inherit;
  height: 22px;
  padding: 0px;
  display: inline-block;
}
.celltoolbar select:focus {
  border-color: #66afe9;
  outline: 0;
  -webkit-box-shadow: inset 0 1px 1px rgba(0,0,0,.075), 0 0 8px rgba(102, 175, 233, 0.6);
  box-shadow: inset 0 1px 1px rgba(0,0,0,.075), 0 0 8px rgba(102, 175, 233, 0.6);
}
.celltoolbar select::-moz-placeholder {
  color: #999;
  opacity: 1;
}
.celltoolbar select:-ms-input-placeholder {
  color: #999;
}
.celltoolbar select::-webkit-input-placeholder {
  color: #999;
}
.celltoolbar select::-ms-expand {
  border: 0;
  background-color: transparent;
}
.celltoolbar select[disabled],
.celltoolbar select[readonly],
fieldset[disabled] .celltoolbar select {
  background-color: #eeeeee;
  opacity: 1;
}
.celltoolbar select[disabled],
fieldset[disabled] .celltoolbar select {
  cursor: not-allowed;
}
textarea.celltoolbar select {
  height: auto;
}
select.celltoolbar select {
  height: 30px;
  line-height: 30px;
}
textarea.celltoolbar select,
select[multiple].celltoolbar select {
  height: auto;
}
.celltoolbar label {
  margin-left: 5px;
  margin-right: 5px;
}
.tags_button_container {
  width: 100%;
  display: flex;
}
.tag-container {
  display: flex;
  flex-direction: row;
  flex-grow: 1;
  overflow: hidden;
  position: relative;
}
.tag-container > * {
  margin: 0 4px;
}
.remove-tag-btn {
  margin-left: 4px;
}
.tags-input {
  display: flex;
}
.cell-tag:last-child:after {
  content: "";
  position: absolute;
  right: 0;
  width: 40px;
  height: 100%;
  /* Fade to background color of cell toolbar */
  background: linear-gradient(to right, rgba(0, 0, 0, 0), #EEE);
}
.tags-input > * {
  margin-left: 4px;
}
.cell-tag,
.tags-input input,
.tags-input button {
  display: block;
  width: 100%;
  height: 32px;
  padding: 6px 12px;
  font-size: 13px;
  line-height: 1.42857143;
  color: #555555;
  background-color: #fff;
  background-image: none;
  border: 1px solid #ccc;
  border-radius: 2px;
  -webkit-box-shadow: inset 0 1px 1px rgba(0, 0, 0, 0.075);
  box-shadow: inset 0 1px 1px rgba(0, 0, 0, 0.075);
  -webkit-transition: border-color ease-in-out .15s, box-shadow ease-in-out .15s;
  -o-transition: border-color ease-in-out .15s, box-shadow ease-in-out .15s;
  transition: border-color ease-in-out .15s, box-shadow ease-in-out .15s;
  height: 30px;
  padding: 5px 10px;
  font-size: 12px;
  line-height: 1.5;
  border-radius: 1px;
  box-shadow: none;
  width: inherit;
  font-size: inherit;
  height: 22px;
  line-height: 22px;
  padding: 0px 4px;
  display: inline-block;
}
.cell-tag:focus,
.tags-input input:focus,
.tags-input button:focus {
  border-color: #66afe9;
  outline: 0;
  -webkit-box-shadow: inset 0 1px 1px rgba(0,0,0,.075), 0 0 8px rgba(102, 175, 233, 0.6);
  box-shadow: inset 0 1px 1px rgba(0,0,0,.075), 0 0 8px rgba(102, 175, 233, 0.6);
}
.cell-tag::-moz-placeholder,
.tags-input input::-moz-placeholder,
.tags-input button::-moz-placeholder {
  color: #999;
  opacity: 1;
}
.cell-tag:-ms-input-placeholder,
.tags-input input:-ms-input-placeholder,
.tags-input button:-ms-input-placeholder {
  color: #999;
}
.cell-tag::-webkit-input-placeholder,
.tags-input input::-webkit-input-placeholder,
.tags-input button::-webkit-input-placeholder {
  color: #999;
}
.cell-tag::-ms-expand,
.tags-input input::-ms-expand,
.tags-input button::-ms-expand {
  border: 0;
  background-color: transparent;
}
.cell-tag[disabled],
.tags-input input[disabled],
.tags-input button[disabled],
.cell-tag[readonly],
.tags-input input[readonly],
.tags-input button[readonly],
fieldset[disabled] .cell-tag,
fieldset[disabled] .tags-input input,
fieldset[disabled] .tags-input button {
  background-color: #eeeeee;
  opacity: 1;
}
.cell-tag[disabled],
.tags-input input[disabled],
.tags-input button[disabled],
fieldset[disabled] .cell-tag,
fieldset[disabled] .tags-input input,
fieldset[disabled] .tags-input button {
  cursor: not-allowed;
}
textarea.cell-tag,
textarea.tags-input input,
textarea.tags-input button {
  height: auto;
}
select.cell-tag,
select.tags-input input,
select.tags-input button {
  height: 30px;
  line-height: 30px;
}
textarea.cell-tag,
textarea.tags-input input,
textarea.tags-input button,
select[multiple].cell-tag,
select[multiple].tags-input input,
select[multiple].tags-input button {
  height: auto;
}
.cell-tag,
.tags-input button {
  padding: 0px 4px;
}
.cell-tag {
  background-color: #fff;
  white-space: nowrap;
}
.tags-input input[type=text]:focus {
  outline: none;
  box-shadow: none;
  border-color: #ccc;
}
.completions {
  position: absolute;
  z-index: 110;
  overflow: hidden;
  border: 1px solid #ababab;
  border-radius: 2px;
  -webkit-box-shadow: 0px 6px 10px -1px #adadad;
  box-shadow: 0px 6px 10px -1px #adadad;
  line-height: 1;
}
.completions select {
  background: white;
  outline: none;
  border: none;
  padding: 0px;
  margin: 0px;
  overflow: auto;
  font-family: monospace;
  font-size: 110%;
  color: #000;
  width: auto;
}
.completions select option.context {
  color: #286090;
}
#kernel_logo_widget .current_kernel_logo {
  display: none;
  margin-top: -1px;
  margin-bottom: -1px;
  width: 32px;
  height: 32px;
}
[dir="rtl"] #kernel_logo_widget {
  float: left !important;
  float: left;
}
.modal .modal-body .move-path {
  display: flex;
  flex-direction: row;
  justify-content: space;
  align-items: center;
}
.modal .modal-body .move-path .server-root {
  padding-right: 20px;
}
.modal .modal-body .move-path .path-input {
  flex: 1;
}
#menubar {
  box-sizing: border-box;
  -moz-box-sizing: border-box;
  -webkit-box-sizing: border-box;
  margin-top: 1px;
}
#menubar .navbar {
  border-top: 1px;
  border-radius: 0px 0px 2px 2px;
  margin-bottom: 0px;
}
#menubar .navbar-toggle {
  float: left;
  padding-top: 7px;
  padding-bottom: 7px;
  border: none;
}
#menubar .navbar-collapse {
  clear: left;
}
[dir="rtl"] #menubar .navbar-toggle {
  float: right;
}
[dir="rtl"] #menubar .navbar-collapse {
  clear: right;
}
[dir="rtl"] #menubar .navbar-nav {
  float: right;
}
[dir="rtl"] #menubar .nav {
  padding-right: 0px;
}
[dir="rtl"] #menubar .navbar-nav > li {
  float: right;
}
[dir="rtl"] #menubar .navbar-right {
  float: left !important;
}
[dir="rtl"] ul.dropdown-menu {
  text-align: right;
  left: auto;
}
[dir="rtl"] ul#new-menu.dropdown-menu {
  right: auto;
  left: 0;
}
.nav-wrapper {
  border-bottom: 1px solid #e7e7e7;
}
i.menu-icon {
  padding-top: 4px;
}
[dir="rtl"] i.menu-icon.pull-right {
  float: left !important;
  float: left;
}
ul#help_menu li a {
  overflow: hidden;
  padding-right: 2.2em;
}
ul#help_menu li a i {
  margin-right: -1.2em;
}
[dir="rtl"] ul#help_menu li a {
  padding-left: 2.2em;
}
[dir="rtl"] ul#help_menu li a i {
  margin-right: 0;
  margin-left: -1.2em;
}
[dir="rtl"] ul#help_menu li a i.pull-right {
  float: left !important;
  float: left;
}
.dropdown-submenu {
  position: relative;
}
.dropdown-submenu > .dropdown-menu {
  top: 0;
  left: 100%;
  margin-top: -6px;
  margin-left: -1px;
}
[dir="rtl"] .dropdown-submenu > .dropdown-menu {
  right: 100%;
  margin-right: -1px;
}
.dropdown-submenu:hover > .dropdown-menu {
  display: block;
}
.dropdown-submenu > a:after {
  display: inline-block;
  font: normal normal normal 14px/1 FontAwesome;
  font-size: inherit;
  text-rendering: auto;
  -webkit-font-smoothing: antialiased;
  -moz-osx-font-smoothing: grayscale;
  display: block;
  content: "\f0da";
  float: right;
  color: #333333;
  margin-top: 2px;
  margin-right: -10px;
}
.dropdown-submenu > a:after.fa-pull-left {
  margin-right: .3em;
}
.dropdown-submenu > a:after.fa-pull-right {
  margin-left: .3em;
}
.dropdown-submenu > a:after.pull-left {
  margin-right: .3em;
}
.dropdown-submenu > a:after.pull-right {
  margin-left: .3em;
}
[dir="rtl"] .dropdown-submenu > a:after {
  float: left;
  content: "\f0d9";
  margin-right: 0;
  margin-left: -10px;
}
.dropdown-submenu:hover > a:after {
  color: #262626;
}
.dropdown-submenu.pull-left {
  float: none;
}
.dropdown-submenu.pull-left > .dropdown-menu {
  left: -100%;
  margin-left: 10px;
}
#notification_area {
  float: right !important;
  float: right;
  z-index: 10;
}
[dir="rtl"] #notification_area {
  float: left !important;
  float: left;
}
.indicator_area {
  float: right !important;
  float: right;
  color: #777;
  margin-left: 5px;
  margin-right: 5px;
  width: 11px;
  z-index: 10;
  text-align: center;
  width: auto;
}
[dir="rtl"] .indicator_area {
  float: left !important;
  float: left;
}
#kernel_indicator {
  float: right !important;
  float: right;
  color: #777;
  margin-left: 5px;
  margin-right: 5px;
  width: 11px;
  z-index: 10;
  text-align: center;
  width: auto;
  border-left: 1px solid;
}
#kernel_indicator .kernel_indicator_name {
  padding-left: 5px;
  padding-right: 5px;
}
[dir="rtl"] #kernel_indicator {
  float: left !important;
  float: left;
  border-left: 0;
  border-right: 1px solid;
}
#modal_indicator {
  float: right !important;
  float: right;
  color: #777;
  margin-left: 5px;
  margin-right: 5px;
  width: 11px;
  z-index: 10;
  text-align: center;
  width: auto;
}
[dir="rtl"] #modal_indicator {
  float: left !important;
  float: left;
}
#readonly-indicator {
  float: right !important;
  float: right;
  color: #777;
  margin-left: 5px;
  margin-right: 5px;
  width: 11px;
  z-index: 10;
  text-align: center;
  width: auto;
  margin-top: 2px;
  margin-bottom: 0px;
  margin-left: 0px;
  margin-right: 0px;
  display: none;
}
.modal_indicator:before {
  width: 1.28571429em;
  text-align: center;
}
.edit_mode .modal_indicator:before {
  display: inline-block;
  font: normal normal normal 14px/1 FontAwesome;
  font-size: inherit;
  text-rendering: auto;
  -webkit-font-smoothing: antialiased;
  -moz-osx-font-smoothing: grayscale;
  content: "\f040";
}
.edit_mode .modal_indicator:before.fa-pull-left {
  margin-right: .3em;
}
.edit_mode .modal_indicator:before.fa-pull-right {
  margin-left: .3em;
}
.edit_mode .modal_indicator:before.pull-left {
  margin-right: .3em;
}
.edit_mode .modal_indicator:before.pull-right {
  margin-left: .3em;
}
.command_mode .modal_indicator:before {
  display: inline-block;
  font: normal normal normal 14px/1 FontAwesome;
  font-size: inherit;
  text-rendering: auto;
  -webkit-font-smoothing: antialiased;
  -moz-osx-font-smoothing: grayscale;
  content: ' ';
}
.command_mode .modal_indicator:before.fa-pull-left {
  margin-right: .3em;
}
.command_mode .modal_indicator:before.fa-pull-right {
  margin-left: .3em;
}
.command_mode .modal_indicator:before.pull-left {
  margin-right: .3em;
}
.command_mode .modal_indicator:before.pull-right {
  margin-left: .3em;
}
.kernel_idle_icon:before {
  display: inline-block;
  font: normal normal normal 14px/1 FontAwesome;
  font-size: inherit;
  text-rendering: auto;
  -webkit-font-smoothing: antialiased;
  -moz-osx-font-smoothing: grayscale;
  content: "\f10c";
}
.kernel_idle_icon:before.fa-pull-left {
  margin-right: .3em;
}
.kernel_idle_icon:before.fa-pull-right {
  margin-left: .3em;
}
.kernel_idle_icon:before.pull-left {
  margin-right: .3em;
}
.kernel_idle_icon:before.pull-right {
  margin-left: .3em;
}
.kernel_busy_icon:before {
  display: inline-block;
  font: normal normal normal 14px/1 FontAwesome;
  font-size: inherit;
  text-rendering: auto;
  -webkit-font-smoothing: antialiased;
  -moz-osx-font-smoothing: grayscale;
  content: "\f111";
}
.kernel_busy_icon:before.fa-pull-left {
  margin-right: .3em;
}
.kernel_busy_icon:before.fa-pull-right {
  margin-left: .3em;
}
.kernel_busy_icon:before.pull-left {
  margin-right: .3em;
}
.kernel_busy_icon:before.pull-right {
  margin-left: .3em;
}
.kernel_dead_icon:before {
  display: inline-block;
  font: normal normal normal 14px/1 FontAwesome;
  font-size: inherit;
  text-rendering: auto;
  -webkit-font-smoothing: antialiased;
  -moz-osx-font-smoothing: grayscale;
  content: "\f1e2";
}
.kernel_dead_icon:before.fa-pull-left {
  margin-right: .3em;
}
.kernel_dead_icon:before.fa-pull-right {
  margin-left: .3em;
}
.kernel_dead_icon:before.pull-left {
  margin-right: .3em;
}
.kernel_dead_icon:before.pull-right {
  margin-left: .3em;
}
.kernel_disconnected_icon:before {
  display: inline-block;
  font: normal normal normal 14px/1 FontAwesome;
  font-size: inherit;
  text-rendering: auto;
  -webkit-font-smoothing: antialiased;
  -moz-osx-font-smoothing: grayscale;
  content: "\f127";
}
.kernel_disconnected_icon:before.fa-pull-left {
  margin-right: .3em;
}
.kernel_disconnected_icon:before.fa-pull-right {
  margin-left: .3em;
}
.kernel_disconnected_icon:before.pull-left {
  margin-right: .3em;
}
.kernel_disconnected_icon:before.pull-right {
  margin-left: .3em;
}
.notification_widget {
  color: #777;
  z-index: 10;
  background: rgba(240, 240, 240, 0.5);
  margin-right: 4px;
  color: #333;
  background-color: #fff;
  border-color: #ccc;
}
.notification_widget:focus,
.notification_widget.focus {
  color: #333;
  background-color: #e6e6e6;
  border-color: #8c8c8c;
}
.notification_widget:hover {
  color: #333;
  background-color: #e6e6e6;
  border-color: #adadad;
}
.notification_widget:active,
.notification_widget.active,
.open > .dropdown-toggle.notification_widget {
  color: #333;
  background-color: #e6e6e6;
  border-color: #adadad;
}
.notification_widget:active:hover,
.notification_widget.active:hover,
.open > .dropdown-toggle.notification_widget:hover,
.notification_widget:active:focus,
.notification_widget.active:focus,
.open > .dropdown-toggle.notification_widget:focus,
.notification_widget:active.focus,
.notification_widget.active.focus,
.open > .dropdown-toggle.notification_widget.focus {
  color: #333;
  background-color: #d4d4d4;
  border-color: #8c8c8c;
}
.notification_widget:active,
.notification_widget.active,
.open > .dropdown-toggle.notification_widget {
  background-image: none;
}
.notification_widget.disabled:hover,
.notification_widget[disabled]:hover,
fieldset[disabled] .notification_widget:hover,
.notification_widget.disabled:focus,
.notification_widget[disabled]:focus,
fieldset[disabled] .notification_widget:focus,
.notification_widget.disabled.focus,
.notification_widget[disabled].focus,
fieldset[disabled] .notification_widget.focus {
  background-color: #fff;
  border-color: #ccc;
}
.notification_widget .badge {
  color: #fff;
  background-color: #333;
}
.notification_widget.warning {
  color: #fff;
  background-color: #f0ad4e;
  border-color: #eea236;
}
.notification_widget.warning:focus,
.notification_widget.warning.focus {
  color: #fff;
  background-color: #ec971f;
  border-color: #985f0d;
}
.notification_widget.warning:hover {
  color: #fff;
  background-color: #ec971f;
  border-color: #d58512;
}
.notification_widget.warning:active,
.notification_widget.warning.active,
.open > .dropdown-toggle.notification_widget.warning {
  color: #fff;
  background-color: #ec971f;
  border-color: #d58512;
}
.notification_widget.warning:active:hover,
.notification_widget.warning.active:hover,
.open > .dropdown-toggle.notification_widget.warning:hover,
.notification_widget.warning:active:focus,
.notification_widget.warning.active:focus,
.open > .dropdown-toggle.notification_widget.warning:focus,
.notification_widget.warning:active.focus,
.notification_widget.warning.active.focus,
.open > .dropdown-toggle.notification_widget.warning.focus {
  color: #fff;
  background-color: #d58512;
  border-color: #985f0d;
}
.notification_widget.warning:active,
.notification_widget.warning.active,
.open > .dropdown-toggle.notification_widget.warning {
  background-image: none;
}
.notification_widget.warning.disabled:hover,
.notification_widget.warning[disabled]:hover,
fieldset[disabled] .notification_widget.warning:hover,
.notification_widget.warning.disabled:focus,
.notification_widget.warning[disabled]:focus,
fieldset[disabled] .notification_widget.warning:focus,
.notification_widget.warning.disabled.focus,
.notification_widget.warning[disabled].focus,
fieldset[disabled] .notification_widget.warning.focus {
  background-color: #f0ad4e;
  border-color: #eea236;
}
.notification_widget.warning .badge {
  color: #f0ad4e;
  background-color: #fff;
}
.notification_widget.success {
  color: #fff;
  background-color: #5cb85c;
  border-color: #4cae4c;
}
.notification_widget.success:focus,
.notification_widget.success.focus {
  color: #fff;
  background-color: #449d44;
  border-color: #255625;
}
.notification_widget.success:hover {
  color: #fff;
  background-color: #449d44;
  border-color: #398439;
}
.notification_widget.success:active,
.notification_widget.success.active,
.open > .dropdown-toggle.notification_widget.success {
  color: #fff;
  background-color: #449d44;
  border-color: #398439;
}
.notification_widget.success:active:hover,
.notification_widget.success.active:hover,
.open > .dropdown-toggle.notification_widget.success:hover,
.notification_widget.success:active:focus,
.notification_widget.success.active:focus,
.open > .dropdown-toggle.notification_widget.success:focus,
.notification_widget.success:active.focus,
.notification_widget.success.active.focus,
.open > .dropdown-toggle.notification_widget.success.focus {
  color: #fff;
  background-color: #398439;
  border-color: #255625;
}
.notification_widget.success:active,
.notification_widget.success.active,
.open > .dropdown-toggle.notification_widget.success {
  background-image: none;
}
.notification_widget.success.disabled:hover,
.notification_widget.success[disabled]:hover,
fieldset[disabled] .notification_widget.success:hover,
.notification_widget.success.disabled:focus,
.notification_widget.success[disabled]:focus,
fieldset[disabled] .notification_widget.success:focus,
.notification_widget.success.disabled.focus,
.notification_widget.success[disabled].focus,
fieldset[disabled] .notification_widget.success.focus {
  background-color: #5cb85c;
  border-color: #4cae4c;
}
.notification_widget.success .badge {
  color: #5cb85c;
  background-color: #fff;
}
.notification_widget.info {
  color: #fff;
  background-color: #5bc0de;
  border-color: #46b8da;
}
.notification_widget.info:focus,
.notification_widget.info.focus {
  color: #fff;
  background-color: #31b0d5;
  border-color: #1b6d85;
}
.notification_widget.info:hover {
  color: #fff;
  background-color: #31b0d5;
  border-color: #269abc;
}
.notification_widget.info:active,
.notification_widget.info.active,
.open > .dropdown-toggle.notification_widget.info {
  color: #fff;
  background-color: #31b0d5;
  border-color: #269abc;
}
.notification_widget.info:active:hover,
.notification_widget.info.active:hover,
.open > .dropdown-toggle.notification_widget.info:hover,
.notification_widget.info:active:focus,
.notification_widget.info.active:focus,
.open > .dropdown-toggle.notification_widget.info:focus,
.notification_widget.info:active.focus,
.notification_widget.info.active.focus,
.open > .dropdown-toggle.notification_widget.info.focus {
  color: #fff;
  background-color: #269abc;
  border-color: #1b6d85;
}
.notification_widget.info:active,
.notification_widget.info.active,
.open > .dropdown-toggle.notification_widget.info {
  background-image: none;
}
.notification_widget.info.disabled:hover,
.notification_widget.info[disabled]:hover,
fieldset[disabled] .notification_widget.info:hover,
.notification_widget.info.disabled:focus,
.notification_widget.info[disabled]:focus,
fieldset[disabled] .notification_widget.info:focus,
.notification_widget.info.disabled.focus,
.notification_widget.info[disabled].focus,
fieldset[disabled] .notification_widget.info.focus {
  background-color: #5bc0de;
  border-color: #46b8da;
}
.notification_widget.info .badge {
  color: #5bc0de;
  background-color: #fff;
}
.notification_widget.danger {
  color: #fff;
  background-color: #d9534f;
  border-color: #d43f3a;
}
.notification_widget.danger:focus,
.notification_widget.danger.focus {
  color: #fff;
  background-color: #c9302c;
  border-color: #761c19;
}
.notification_widget.danger:hover {
  color: #fff;
  background-color: #c9302c;
  border-color: #ac2925;
}
.notification_widget.danger:active,
.notification_widget.danger.active,
.open > .dropdown-toggle.notification_widget.danger {
  color: #fff;
  background-color: #c9302c;
  border-color: #ac2925;
}
.notification_widget.danger:active:hover,
.notification_widget.danger.active:hover,
.open > .dropdown-toggle.notification_widget.danger:hover,
.notification_widget.danger:active:focus,
.notification_widget.danger.active:focus,
.open > .dropdown-toggle.notification_widget.danger:focus,
.notification_widget.danger:active.focus,
.notification_widget.danger.active.focus,
.open > .dropdown-toggle.notification_widget.danger.focus {
  color: #fff;
  background-color: #ac2925;
  border-color: #761c19;
}
.notification_widget.danger:active,
.notification_widget.danger.active,
.open > .dropdown-toggle.notification_widget.danger {
  background-image: none;
}
.notification_widget.danger.disabled:hover,
.notification_widget.danger[disabled]:hover,
fieldset[disabled] .notification_widget.danger:hover,
.notification_widget.danger.disabled:focus,
.notification_widget.danger[disabled]:focus,
fieldset[disabled] .notification_widget.danger:focus,
.notification_widget.danger.disabled.focus,
.notification_widget.danger[disabled].focus,
fieldset[disabled] .notification_widget.danger.focus {
  background-color: #d9534f;
  border-color: #d43f3a;
}
.notification_widget.danger .badge {
  color: #d9534f;
  background-color: #fff;
}
div#pager {
  background-color: #fff;
  font-size: 14px;
  line-height: 20px;
  overflow: hidden;
  display: none;
  position: fixed;
  bottom: 0px;
  width: 100%;
  max-height: 50%;
  padding-top: 8px;
  -webkit-box-shadow: 0px 0px 12px 1px rgba(87, 87, 87, 0.2);
  box-shadow: 0px 0px 12px 1px rgba(87, 87, 87, 0.2);
  /* Display over codemirror */
  z-index: 100;
  /* Hack which prevents jquery ui resizable from changing top. */
  top: auto !important;
}
div#pager pre {
  line-height: 1.21429em;
  color: #000;
  background-color: #f7f7f7;
  padding: 0.4em;
}
div#pager #pager-button-area {
  position: absolute;
  top: 8px;
  right: 20px;
}
div#pager #pager-contents {
  position: relative;
  overflow: auto;
  width: 100%;
  height: 100%;
}
div#pager #pager-contents #pager-container {
  position: relative;
  padding: 15px 0px;
  box-sizing: border-box;
  -moz-box-sizing: border-box;
  -webkit-box-sizing: border-box;
}
div#pager .ui-resizable-handle {
  top: 0px;
  height: 8px;
  background: #f7f7f7;
  border-top: 1px solid #cfcfcf;
  border-bottom: 1px solid #cfcfcf;
  /* This injects handle bars (a short, wide = symbol) for 
        the resize handle. */
}
div#pager .ui-resizable-handle::after {
  content: '';
  top: 2px;
  left: 50%;
  height: 3px;
  width: 30px;
  margin-left: -15px;
  position: absolute;
  border-top: 1px solid #cfcfcf;
}
.quickhelp {
  /* Old browsers */
  display: -webkit-box;
  -webkit-box-orient: horizontal;
  -webkit-box-align: stretch;
  display: -moz-box;
  -moz-box-orient: horizontal;
  -moz-box-align: stretch;
  display: box;
  box-orient: horizontal;
  box-align: stretch;
  /* Modern browsers */
  display: flex;
  flex-direction: row;
  align-items: stretch;
  line-height: 1.8em;
}
.shortcut_key {
  display: inline-block;
  width: 21ex;
  text-align: right;
  font-family: monospace;
}
.shortcut_descr {
  display: inline-block;
  /* Old browsers */
  -webkit-box-flex: 1;
  -moz-box-flex: 1;
  box-flex: 1;
  /* Modern browsers */
  flex: 1;
}
span.save_widget {
  height: 30px;
  margin-top: 4px;
  display: flex;
  justify-content: flex-start;
  align-items: baseline;
  width: 50%;
  flex: 1;
}
span.save_widget span.filename {
  height: 100%;
  line-height: 1em;
  margin-left: 16px;
  border: none;
  font-size: 146.5%;
  text-overflow: ellipsis;
  overflow: hidden;
  white-space: nowrap;
  border-radius: 2px;
}
span.save_widget span.filename:hover {
  background-color: #e6e6e6;
}
[dir="rtl"] span.save_widget.pull-left {
  float: right !important;
  float: right;
}
[dir="rtl"] span.save_widget span.filename {
  margin-left: 0;
  margin-right: 16px;
}
span.checkpoint_status,
span.autosave_status {
  font-size: small;
  white-space: nowrap;
  padding: 0 5px;
}
@media (max-width: 767px) {
  span.save_widget {
    font-size: small;
    padding: 0 0 0 5px;
  }
  span.checkpoint_status,
  span.autosave_status {
    display: none;
  }
}
@media (min-width: 768px) and (max-width: 991px) {
  span.checkpoint_status {
    display: none;
  }
  span.autosave_status {
    font-size: x-small;
  }
}
.toolbar {
  padding: 0px;
  margin-left: -5px;
  margin-top: 2px;
  margin-bottom: 5px;
  box-sizing: border-box;
  -moz-box-sizing: border-box;
  -webkit-box-sizing: border-box;
}
.toolbar select,
.toolbar label {
  width: auto;
  vertical-align: middle;
  margin-right: 2px;
  margin-bottom: 0px;
  display: inline;
  font-size: 92%;
  margin-left: 0.3em;
  margin-right: 0.3em;
  padding: 0px;
  padding-top: 3px;
}
.toolbar .btn {
  padding: 2px 8px;
}
.toolbar .btn-group {
  margin-top: 0px;
  margin-left: 5px;
}
.toolbar-btn-label {
  margin-left: 6px;
}
#maintoolbar {
  margin-bottom: -3px;
  margin-top: -8px;
  border: 0px;
  min-height: 27px;
  margin-left: 0px;
  padding-top: 11px;
  padding-bottom: 3px;
}
#maintoolbar .navbar-text {
  float: none;
  vertical-align: middle;
  text-align: right;
  margin-left: 5px;
  margin-right: 0px;
  margin-top: 0px;
}
.select-xs {
  height: 24px;
}
[dir="rtl"] .btn-group > .btn,
.btn-group-vertical > .btn {
  float: right;
}
.pulse,
.dropdown-menu > li > a.pulse,
li.pulse > a.dropdown-toggle,
li.pulse.open > a.dropdown-toggle {
  background-color: #F37626;
  color: white;
}
/**
 * Primary styles
 *
 * Author: Jupyter Development Team
 */
/** WARNING IF YOU ARE EDITTING THIS FILE, if this is a .css file, It has a lot
 * of chance of beeing generated from the ../less/[samename].less file, you can
 * try to get back the less file by reverting somme commit in history
 **/
/*
 * We'll try to get something pretty, so we
 * have some strange css to have the scroll bar on
 * the left with fix button on the top right of the tooltip
 */
@-moz-keyframes fadeOut {
  from {
    opacity: 1;
  }
  to {
    opacity: 0;
  }
}
@-webkit-keyframes fadeOut {
  from {
    opacity: 1;
  }
  to {
    opacity: 0;
  }
}
@-moz-keyframes fadeIn {
  from {
    opacity: 0;
  }
  to {
    opacity: 1;
  }
}
@-webkit-keyframes fadeIn {
  from {
    opacity: 0;
  }
  to {
    opacity: 1;
  }
}
/*properties of tooltip after "expand"*/
.bigtooltip {
  overflow: auto;
  height: 200px;
  -webkit-transition-property: height;
  -webkit-transition-duration: 500ms;
  -moz-transition-property: height;
  -moz-transition-duration: 500ms;
  transition-property: height;
  transition-duration: 500ms;
}
/*properties of tooltip before "expand"*/
.smalltooltip {
  -webkit-transition-property: height;
  -webkit-transition-duration: 500ms;
  -moz-transition-property: height;
  -moz-transition-duration: 500ms;
  transition-property: height;
  transition-duration: 500ms;
  text-overflow: ellipsis;
  overflow: hidden;
  height: 80px;
}
.tooltipbuttons {
  position: absolute;
  padding-right: 15px;
  top: 0px;
  right: 0px;
}
.tooltiptext {
  /*avoid the button to overlap on some docstring*/
  padding-right: 30px;
}
.ipython_tooltip {
  max-width: 700px;
  /*fade-in animation when inserted*/
  -webkit-animation: fadeOut 400ms;
  -moz-animation: fadeOut 400ms;
  animation: fadeOut 400ms;
  -webkit-animation: fadeIn 400ms;
  -moz-animation: fadeIn 400ms;
  animation: fadeIn 400ms;
  vertical-align: middle;
  background-color: #f7f7f7;
  overflow: visible;
  border: #ababab 1px solid;
  outline: none;
  padding: 3px;
  margin: 0px;
  padding-left: 7px;
  font-family: monospace;
  min-height: 50px;
  -moz-box-shadow: 0px 6px 10px -1px #adadad;
  -webkit-box-shadow: 0px 6px 10px -1px #adadad;
  box-shadow: 0px 6px 10px -1px #adadad;
  border-radius: 2px;
  position: absolute;
  z-index: 1000;
}
.ipython_tooltip a {
  float: right;
}
.ipython_tooltip .tooltiptext pre {
  border: 0;
  border-radius: 0;
  font-size: 100%;
  background-color: #f7f7f7;
}
.pretooltiparrow {
  left: 0px;
  margin: 0px;
  top: -16px;
  width: 40px;
  height: 16px;
  overflow: hidden;
  position: absolute;
}
.pretooltiparrow:before {
  background-color: #f7f7f7;
  border: 1px #ababab solid;
  z-index: 11;
  content: "";
  position: absolute;
  left: 15px;
  top: 10px;
  width: 25px;
  height: 25px;
  -webkit-transform: rotate(45deg);
  -moz-transform: rotate(45deg);
  -ms-transform: rotate(45deg);
  -o-transform: rotate(45deg);
}
ul.typeahead-list i {
  margin-left: -10px;
  width: 18px;
}
[dir="rtl"] ul.typeahead-list i {
  margin-left: 0;
  margin-right: -10px;
}
ul.typeahead-list {
  max-height: 80vh;
  overflow: auto;
}
ul.typeahead-list > li > a {
  /** Firefox bug **/
  /* see https://github.com/jupyter/notebook/issues/559 */
  white-space: normal;
}
ul.typeahead-list  > li > a.pull-right {
  float: left !important;
  float: left;
}
[dir="rtl"] .typeahead-list {
  text-align: right;
}
.cmd-palette .modal-body {
  padding: 7px;
}
.cmd-palette form {
  background: white;
}
.cmd-palette input {
  outline: none;
}
.no-shortcut {
  min-width: 20px;
  color: transparent;
}
[dir="rtl"] .no-shortcut.pull-right {
  float: left !important;
  float: left;
}
[dir="rtl"] .command-shortcut.pull-right {
  float: left !important;
  float: left;
}
.command-shortcut:before {
  content: "(command mode)";
  padding-right: 3px;
  color: #777777;
}
.edit-shortcut:before {
  content: "(edit)";
  padding-right: 3px;
  color: #777777;
}
[dir="rtl"] .edit-shortcut.pull-right {
  float: left !important;
  float: left;
}
#find-and-replace #replace-preview .match,
#find-and-replace #replace-preview .insert {
  background-color: #BBDEFB;
  border-color: #90CAF9;
  border-style: solid;
  border-width: 1px;
  border-radius: 0px;
}
[dir="ltr"] #find-and-replace .input-group-btn + .form-control {
  border-left: none;
}
[dir="rtl"] #find-and-replace .input-group-btn + .form-control {
  border-right: none;
}
#find-and-replace #replace-preview .replace .match {
  background-color: #FFCDD2;
  border-color: #EF9A9A;
  border-radius: 0px;
}
#find-and-replace #replace-preview .replace .insert {
  background-color: #C8E6C9;
  border-color: #A5D6A7;
  border-radius: 0px;
}
#find-and-replace #replace-preview {
  max-height: 60vh;
  overflow: auto;
}
#find-and-replace #replace-preview pre {
  padding: 5px 10px;
}
.terminal-app {
  background: #EEE;
}
.terminal-app #header {
  background: #fff;
  -webkit-box-shadow: 0px 0px 12px 1px rgba(87, 87, 87, 0.2);
  box-shadow: 0px 0px 12px 1px rgba(87, 87, 87, 0.2);
}
.terminal-app .terminal {
  width: 100%;
  float: left;
  font-family: monospace;
  color: white;
  background: black;
  padding: 0.4em;
  border-radius: 2px;
  -webkit-box-shadow: 0px 0px 12px 1px rgba(87, 87, 87, 0.4);
  box-shadow: 0px 0px 12px 1px rgba(87, 87, 87, 0.4);
}
.terminal-app .terminal,
.terminal-app .terminal dummy-screen {
  line-height: 1em;
  font-size: 14px;
}
.terminal-app .terminal .xterm-rows {
  padding: 10px;
}
.terminal-app .terminal-cursor {
  color: black;
  background: white;
}
.terminal-app #terminado-container {
  margin-top: 20px;
}
/*# sourceMappingURL=style.min.css.map */
    </style>
<style type="text/css">
    .highlight .hll { background-color: #ffffcc }
.highlight  { background: #f8f8f8; }
.highlight .c { color: #408080; font-style: italic } /* Comment */
.highlight .err { border: 1px solid #FF0000 } /* Error */
.highlight .k { color: #008000; font-weight: bold } /* Keyword */
.highlight .o { color: #666666 } /* Operator */
.highlight .ch { color: #408080; font-style: italic } /* Comment.Hashbang */
.highlight .cm { color: #408080; font-style: italic } /* Comment.Multiline */
.highlight .cp { color: #BC7A00 } /* Comment.Preproc */
.highlight .cpf { color: #408080; font-style: italic } /* Comment.PreprocFile */
.highlight .c1 { color: #408080; font-style: italic } /* Comment.Single */
.highlight .cs { color: #408080; font-style: italic } /* Comment.Special */
.highlight .gd { color: #A00000 } /* Generic.Deleted */
.highlight .ge { font-style: italic } /* Generic.Emph */
.highlight .gr { color: #FF0000 } /* Generic.Error */
.highlight .gh { color: #000080; font-weight: bold } /* Generic.Heading */
.highlight .gi { color: #00A000 } /* Generic.Inserted */
.highlight .go { color: #888888 } /* Generic.Output */
.highlight .gp { color: #000080; font-weight: bold } /* Generic.Prompt */
.highlight .gs { font-weight: bold } /* Generic.Strong */
.highlight .gu { color: #800080; font-weight: bold } /* Generic.Subheading */
.highlight .gt { color: #0044DD } /* Generic.Traceback */
.highlight .kc { color: #008000; font-weight: bold } /* Keyword.Constant */
.highlight .kd { color: #008000; font-weight: bold } /* Keyword.Declaration */
.highlight .kn { color: #008000; font-weight: bold } /* Keyword.Namespace */
.highlight .kp { color: #008000 } /* Keyword.Pseudo */
.highlight .kr { color: #008000; font-weight: bold } /* Keyword.Reserved */
.highlight .kt { color: #B00040 } /* Keyword.Type */
.highlight .m { color: #666666 } /* Literal.Number */
.highlight .s { color: #BA2121 } /* Literal.String */
.highlight .na { color: #7D9029 } /* Name.Attribute */
.highlight .nb { color: #008000 } /* Name.Builtin */
.highlight .nc { color: #0000FF; font-weight: bold } /* Name.Class */
.highlight .no { color: #880000 } /* Name.Constant */
.highlight .nd { color: #AA22FF } /* Name.Decorator */
.highlight .ni { color: #999999; font-weight: bold } /* Name.Entity */
.highlight .ne { color: #D2413A; font-weight: bold } /* Name.Exception */
.highlight .nf { color: #0000FF } /* Name.Function */
.highlight .nl { color: #A0A000 } /* Name.Label */
.highlight .nn { color: #0000FF; font-weight: bold } /* Name.Namespace */
.highlight .nt { color: #008000; font-weight: bold } /* Name.Tag */
.highlight .nv { color: #19177C } /* Name.Variable */
.highlight .ow { color: #AA22FF; font-weight: bold } /* Operator.Word */
.highlight .w { color: #bbbbbb } /* Text.Whitespace */
.highlight .mb { color: #666666 } /* Literal.Number.Bin */
.highlight .mf { color: #666666 } /* Literal.Number.Float */
.highlight .mh { color: #666666 } /* Literal.Number.Hex */
.highlight .mi { color: #666666 } /* Literal.Number.Integer */
.highlight .mo { color: #666666 } /* Literal.Number.Oct */
.highlight .sa { color: #BA2121 } /* Literal.String.Affix */
.highlight .sb { color: #BA2121 } /* Literal.String.Backtick */
.highlight .sc { color: #BA2121 } /* Literal.String.Char */
.highlight .dl { color: #BA2121 } /* Literal.String.Delimiter */
.highlight .sd { color: #BA2121; font-style: italic } /* Literal.String.Doc */
.highlight .s2 { color: #BA2121 } /* Literal.String.Double */
.highlight .se { color: #BB6622; font-weight: bold } /* Literal.String.Escape */
.highlight .sh { color: #BA2121 } /* Literal.String.Heredoc */
.highlight .si { color: #BB6688; font-weight: bold } /* Literal.String.Interpol */
.highlight .sx { color: #008000 } /* Literal.String.Other */
.highlight .sr { color: #BB6688 } /* Literal.String.Regex */
.highlight .s1 { color: #BA2121 } /* Literal.String.Single */
.highlight .ss { color: #19177C } /* Literal.String.Symbol */
.highlight .bp { color: #008000 } /* Name.Builtin.Pseudo */
.highlight .fm { color: #0000FF } /* Name.Function.Magic */
.highlight .vc { color: #19177C } /* Name.Variable.Class */
.highlight .vg { color: #19177C } /* Name.Variable.Global */
.highlight .vi { color: #19177C } /* Name.Variable.Instance */
.highlight .vm { color: #19177C } /* Name.Variable.Magic */
.highlight .il { color: #666666 } /* Literal.Number.Integer.Long */
    </style>


<style type="text/css">
/* Overrides of notebook CSS for static HTML export */
body {
  overflow: visible;
  padding: 8px;
}

div#notebook {
  overflow: visible;
  border-top: none;
}@media print {
  div.cell {
    display: block;
    page-break-inside: avoid;
  } 
  div.output_wrapper { 
    display: block;
    page-break-inside: avoid; 
  }
  div.output { 
    display: block;
    page-break-inside: avoid; 
  }
}
</style>

<!-- Custom stylesheet, it must be in the same directory as the html file -->
<link rel="stylesheet" href="custom.css">

<!-- Loading mathjax macro -->
<!-- Load mathjax -->
    <script src="https://cdnjs.cloudflare.com/ajax/libs/mathjax/2.7.5/latest.js?config=TeX-AMS_HTML"></script>
    <!-- MathJax configuration -->
    <script type="text/x-mathjax-config">
    MathJax.Hub.Config({
        tex2jax: {
            inlineMath: [ ['$','$'], ["\\(","\\)"] ],
            displayMath: [ ['$$','$$'], ["\\[","\\]"] ],
            processEscapes: true,
            processEnvironments: true
        },
        // Center justify equations in code and markdown cells. Elsewhere
        // we use CSS to left justify single line equations in code cells.
        displayAlign: 'center',
        "HTML-CSS": {
            styles: {'.MathJax_Display': {"margin": 0}},
            linebreaks: { automatic: true }
        }
    });
    </script>
    <!-- End of mathjax configuration --></head>
<body>
  <div tabindex="-1" id="notebook" class="border-box-sizing">
    <div class="container" id="notebook-container">

<div class="cell border-box-sizing text_cell rendered"><div class="prompt input_prompt">
</div><div class="inner_cell">
<div class="text_cell_render border-box-sizing rendered_html">
<p><a href="https://www.bigdatauniversity.com"><img src="https://ibm.box.com/shared/static/qo20b88v1hbjztubt06609ovs85q8fau.png" width="400px" align="center"></a></p>
<h1 align="center"><font size="5">AUTOENCODERS</font></h1>
</div>
</div>
</div>
<div class="cell border-box-sizing text_cell rendered"><div class="prompt input_prompt">
</div><div class="inner_cell">
<div class="text_cell_render border-box-sizing rendered_html">
<p><div class="alert alert-block alert-info" style="margin-top: 20px">
Welcome to this notebook about autoencoders.
<font size="3"><strong>In this notebook you will find an explanation of what is an autoencoder, how it works, and see an implementation of an autoencoder in TensorFlow.</strong></font>
<br>
<br></p>
<p><h2>Table of Contents</h2></p>
<p><ol>
 <li><a href="#ref1">Introduction</a></li>
 <li><a href="#ref2">Feature Extraction and Dimensionality Reduction</a></li>
 <li><a href="#ref3">Autoencoder Structure</a></li>
 <li><a href="#ref4">Performance</a></li>
 <li><a href="#ref5">Training: Loss Function</a></li>
 <li><a href="#ref6">Code</a></li>
</ol>
&lt;/div&gt;
<br>
By the end of this notebook, you should be able to create simple autoencoders and how to apply them to problems that involves unsupervised learning.
<br></p>
<p><p></p></p>
<hr>
</div>
</div>
</div>
<div class="cell border-box-sizing text_cell rendered"><div class="prompt input_prompt">
</div><div class="inner_cell">
<div class="text_cell_render border-box-sizing rendered_html">
<p><a id="ref1"></a></p>
<p><h2>Introduction</h2>
An autoencoder, also known as autoassociator or Diabolo networks, is an artificial neural network employed to recreate the given input.
It takes a set of <b>unlabeled</b> inputs, encodes them and then tries to extract the most valuable information from them.
They are used for feature extraction, learning generative models of data, dimensionality reduction and can be used for compression.</p>
<p>A 2006 paper named <b><a href="https://www.cs.toronto.edu/~hinton/science.pdf">Reducing the Dimensionality of Data with Neural Networks</a>, done by G. E. Hinton and R. R. Salakhutdinov</b>, showed better results than years of refining other types of network, and was a breakthrough in the field of Neural Networks, a field that was "stagnant" for 10 years.</p>
<p>Now, autoencoders, based on Restricted Boltzmann Machines, are employed in some of the largest deep learning applications. They are the building blocks of Deep Belief Networks (DBN).</p>
<center><img src="https://ibm.box.com/shared/static/xlkv9v7xzxhjww681dq3h1pydxcm4ktp.png" style="width: 350px;"></center>
</div>
</div>
</div>
<div class="cell border-box-sizing text_cell rendered"><div class="prompt input_prompt">
</div><div class="inner_cell">
<div class="text_cell_render border-box-sizing rendered_html">
<hr>
</div>
</div>
</div>
<div class="cell border-box-sizing text_cell rendered"><div class="prompt input_prompt">
</div><div class="inner_cell">
<div class="text_cell_render border-box-sizing rendered_html">
<p><a id="ref2"></a></p>
<h2>Feature Extraction and Dimensionality Reduction</h2><p>An example given by Nikhil Buduma in KdNuggets (<a href="http://www.kdnuggets.com/2015/03/deep-learning-curse-dimensionality-autoencoders.html">link</a>) which gave an excellent explanation of the utility of this type of Neural Network.</p>
<p>Say that you want to extract what emotion the person in a photography is feeling. Using the following 256x256 pixel grayscale picture as an example:</p>
<p><img src="https://ibm.box.com/shared/static/r5knpow4bk2farlvxia71e9jp2f2u126.png"></p>
<p>But when use this picture we start running into a bottleneck! Because this image being 256x256 pixels in size correspond with an input vector of 65536 dimensions! If we used an image produced with conventional cellphone cameras, that generates images of 4000 x 3000 pixels, we would have 12 million dimensions to analyze.</p>
<p>This bottleneck is further problematized as the difficulty of a machine learning problem is increased as more dimensions are involved. According to a 1982 study by C.J. Stone (<a href="http://www-personal.umich.edu/~jizhu/jizhu/wuke/Stone-AoS82.pdf">link</a>), the time to fit a model, is optimal if:</p>
<p><br><br></p>
<div class="alert alert-block alert-info" style="margin-top: 20px">
<h3><strong>$$m^{-p/(2p+d)}$$</strong></h3>
<br>
Where:
<br>
m: Number of data points
<br>
d: Dimensionality of the data
<br>
p: Parameter that depends on the model
</div><p>As you can see, it increases exponentially!
Returning to our example, we don't need to use all of the 65,536 dimensions to classify an emotion. A human identify emotions according to some specific facial expression, some <b>key features</b>, like the shape of the mouth and eyebrows.</p>
<center><img src="https://ibm.box.com/shared/static/m8urvuqujkt2vt1ru1fnslzh24pv7hn4.png" height="256" width="256"></center>
</div>
</div>
</div>
<div class="cell border-box-sizing text_cell rendered"><div class="prompt input_prompt">
</div><div class="inner_cell">
<div class="text_cell_render border-box-sizing rendered_html">
<hr>
</div>
</div>
</div>
<div class="cell border-box-sizing text_cell rendered"><div class="prompt input_prompt">
</div><div class="inner_cell">
<div class="text_cell_render border-box-sizing rendered_html">
<p><a id="ref3"></a></p>
<h2>Autoencoder Structure</h2><p><img src="https://ibm.box.com/shared/static/no7omt2jhqvv7uuls7ihnzikyl9ysnfp.png" style="width: 400px;"></p>
<p>An autoencoder can be divided in two parts, the <b>encoder</b> and the <b>decoder</b>.</p>
<p>The encoder needs to compress the representation of an input. In this case we are going to reduce the dimension the face of our actor, from 2000 dimensions to only 30 dimensions, by running the data through layers of our encoder.</p>
<p>The decoder works like encoder network in reverse. It works to recreate the input, as closely as possible. This plays an important role during training, because it forces the autoencoder to select the most important features in the compressed representation.</p>

</div>
</div>
</div>
<div class="cell border-box-sizing text_cell rendered"><div class="prompt input_prompt">
</div><div class="inner_cell">
<div class="text_cell_render border-box-sizing rendered_html">
<hr>
</div>
</div>
</div>
<div class="cell border-box-sizing text_cell rendered"><div class="prompt input_prompt">
</div><div class="inner_cell">
<div class="text_cell_render border-box-sizing rendered_html">
<p><a id="ref4"></a></p>
<h2>Performance</h2><p>After the training has been done, you can use the encoded data as a reliable dimensionally-reduced data, applying it to any problems where dimensionality reduction seems appropriate.</p>
<p><img src="https://ibm.box.com/shared/static/yt3xyon4g2jyw1w9qup1mvx7cgh28l64.png"></p>
<p>This image was extracted from the G. E. Hinton and R. R. Salakhutdinovcomparing's <a href="https://www.cs.toronto.edu/~hinton/science.pdf">paper</a>, on the two-dimensional reduction for 500 digits of the MNIST, with PCA on the left and autoencoder on the right. We can see that the autoencoder provided us with a better separation of data.</p>

</div>
</div>
</div>
<div class="cell border-box-sizing text_cell rendered"><div class="prompt input_prompt">
</div><div class="inner_cell">
<div class="text_cell_render border-box-sizing rendered_html">
<hr>
</div>
</div>
</div>
<div class="cell border-box-sizing text_cell rendered"><div class="prompt input_prompt">
</div><div class="inner_cell">
<div class="text_cell_render border-box-sizing rendered_html">
<p><a id="ref5"></a></p>
<h2>Training: Loss function</h2><p>An autoencoder uses the Loss function to properly train the network. The Loss function will calculate the differences between our output and the expected results. After that, we can minimize this error with gradient descent. There are more than one type of Loss function, it depends on the type of data.</p>

</div>
</div>
</div>
<div class="cell border-box-sizing text_cell rendered"><div class="prompt input_prompt">
</div><div class="inner_cell">
<div class="text_cell_render border-box-sizing rendered_html">
<p><h3>Binary Values:</h3>
$$l(f(x)) = - \sum_{k} (x_k log(\hat{x}_k) + (1 - x_k) \log (1 - \hat{x}_k) \ )$$</p>

</div>
</div>
</div>
<div class="cell border-box-sizing text_cell rendered"><div class="prompt input_prompt">
</div><div class="inner_cell">
<div class="text_cell_render border-box-sizing rendered_html">
<p>For binary values, we can use an equation based on the sum of Bernoulli's cross-entropy.</p>
<p>$x_k$ is one of our inputs and $\hat{x}_k$ is the respective output.</p>
<p>We use this function so that if $x_k$ equals to one, we want to push $\hat{x}_k$ as close as possible to one. The same if $x_k$ equals to zero.</p>
<p>If the value is one, we just need to calculate the first part of the formula, that is, $- x_k log(\hat{x}_k)$. Which, turns out to just calculate $- log(\hat{x}_k)$.</p>
<p>And if the value is zero, we need to calculate just the second part, $(1 - x_k) \log (1 - \hat{x}_k) \ )$ - which turns out to be $log (1 - \hat{x}_k) $.</p>

</div>
</div>
</div>
<div class="cell border-box-sizing text_cell rendered"><div class="prompt input_prompt">
</div><div class="inner_cell">
<div class="text_cell_render border-box-sizing rendered_html">
<p><h3>Real values:</h3>
$$l(f(x)) = - \frac{1}{2}\sum_{k} (\hat{x}_k- x_k \ )^2$$</p>

</div>
</div>
</div>
<div class="cell border-box-sizing text_cell rendered"><div class="prompt input_prompt">
</div><div class="inner_cell">
<div class="text_cell_render border-box-sizing rendered_html">
<p>As the above function would behave badly with inputs that are not 0 or 1, we can use the sum of squared differences for our Loss function. If you use this loss function, it's necessary that you use a linear activation function for the output layer.</p>
<p>As it was with the above example, $x_k$ is one of our inputs and $\hat{x}_k$ is the respective output, and we want to make our output as similar as possible to our input.</p>

</div>
</div>
</div>
<div class="cell border-box-sizing text_cell rendered"><div class="prompt input_prompt">
</div><div class="inner_cell">
<div class="text_cell_render border-box-sizing rendered_html">
<h3>Loss Gradient:</h3>$$\nabla_{\hat{a}(x^{(t)})} \ l( \ f(x^{(t)}))  = \hat{x}^{(t)} - x^{(t)} $$
</div>
</div>
</div>
<div class="cell border-box-sizing text_cell rendered"><div class="prompt input_prompt">
</div><div class="inner_cell">
<div class="text_cell_render border-box-sizing rendered_html">
<p>We use the gradient descent to reach the local minimum of our function $l( \ f(x^{(t)})$, taking steps towards the negative of the gradient of the function in the current point.</p>
<p>Our function about the gradient $(\nabla_{\hat{a}(x^{(t)})})$ of the loss of $l( \ f(x^{(t)})$ in the preactivation of the output layer.</p>
<p>It's actually a simple formula, it is done by calculating the difference between our output $\hat{x}^{(t)}$ and our input $x^{(t)}$.</p>
<p>Then our network backpropagates our gradient $\nabla_{\hat{a}(x^{(t)})} \ l( \ f(x^{(t)}))$ through the network using <b>backpropagation</b>.</p>

</div>
</div>
</div>
<div class="cell border-box-sizing text_cell rendered"><div class="prompt input_prompt">
</div><div class="inner_cell">
<div class="text_cell_render border-box-sizing rendered_html">
<hr>
</div>
</div>
</div>
<div class="cell border-box-sizing text_cell rendered"><div class="prompt input_prompt">
</div><div class="inner_cell">
<div class="text_cell_render border-box-sizing rendered_html">
<p><a id="ref6"></a></p>
<h2>Code</h2><p>For this part, we walk through a lot of Python 2.7.11 code. We are going to use the MNIST dataset for our example.
The following code was created by Aymeric Damien. You can find some of his code in <a href="https://github.com/aymericdamien">here</a>. We made some modifications for us to import the datasets to Jupyter Notebooks.</p>

</div>
</div>
</div>
<div class="cell border-box-sizing text_cell rendered"><div class="prompt input_prompt">
</div><div class="inner_cell">
<div class="text_cell_render border-box-sizing rendered_html">
<p>Let's call our imports and make the MNIST data available to use.</p>

</div>
</div>
</div>
<div class="cell border-box-sizing code_cell rendered">
<div class="input">
<div class="prompt input_prompt">In&nbsp;[1]:</div>
<div class="inner_cell">
    <div class="input_area">
<div class=" highlight hl-ipython3"><pre><span></span><span class="c1">#from __future__ import division, print_function, absolute_import</span>

<span class="kn">import</span> <span class="nn">tensorflow</span> <span class="k">as</span> <span class="nn">tf</span>
<span class="kn">import</span> <span class="nn">numpy</span> <span class="k">as</span> <span class="nn">np</span>
<span class="kn">import</span> <span class="nn">matplotlib.pyplot</span> <span class="k">as</span> <span class="nn">plt</span>
<span class="o">%</span><span class="k">matplotlib</span> inline

<span class="c1"># Import MINST data</span>
<span class="kn">from</span> <span class="nn">tensorflow.examples.tutorials.mnist</span> <span class="kn">import</span> <span class="n">input_data</span>
<span class="n">mnist</span> <span class="o">=</span> <span class="n">input_data</span><span class="o">.</span><span class="n">read_data_sets</span><span class="p">(</span><span class="s2">&quot;/tmp/data/&quot;</span><span class="p">,</span> <span class="n">one_hot</span><span class="o">=</span><span class="kc">True</span><span class="p">)</span>
</pre></div>

    </div>
</div>
</div>

<div class="output_wrapper">
<div class="output">


<div class="output_area">

    <div class="prompt"></div>


<div class="output_subarea output_stream output_stderr output_text">
<pre>/home/jupyterlab/conda/envs/python/lib/python3.6/site-packages/tensorflow/python/framework/dtypes.py:519: FutureWarning: Passing (type, 1) or &#39;1type&#39; as a synonym of type is deprecated; in a future version of numpy, it will be understood as (type, (1,)) / &#39;(1,)type&#39;.
  _np_qint8 = np.dtype([(&#34;qint8&#34;, np.int8, 1)])
/home/jupyterlab/conda/envs/python/lib/python3.6/site-packages/tensorflow/python/framework/dtypes.py:520: FutureWarning: Passing (type, 1) or &#39;1type&#39; as a synonym of type is deprecated; in a future version of numpy, it will be understood as (type, (1,)) / &#39;(1,)type&#39;.
  _np_quint8 = np.dtype([(&#34;quint8&#34;, np.uint8, 1)])
/home/jupyterlab/conda/envs/python/lib/python3.6/site-packages/tensorflow/python/framework/dtypes.py:521: FutureWarning: Passing (type, 1) or &#39;1type&#39; as a synonym of type is deprecated; in a future version of numpy, it will be understood as (type, (1,)) / &#39;(1,)type&#39;.
  _np_qint16 = np.dtype([(&#34;qint16&#34;, np.int16, 1)])
/home/jupyterlab/conda/envs/python/lib/python3.6/site-packages/tensorflow/python/framework/dtypes.py:522: FutureWarning: Passing (type, 1) or &#39;1type&#39; as a synonym of type is deprecated; in a future version of numpy, it will be understood as (type, (1,)) / &#39;(1,)type&#39;.
  _np_quint16 = np.dtype([(&#34;quint16&#34;, np.uint16, 1)])
/home/jupyterlab/conda/envs/python/lib/python3.6/site-packages/tensorflow/python/framework/dtypes.py:523: FutureWarning: Passing (type, 1) or &#39;1type&#39; as a synonym of type is deprecated; in a future version of numpy, it will be understood as (type, (1,)) / &#39;(1,)type&#39;.
  _np_qint32 = np.dtype([(&#34;qint32&#34;, np.int32, 1)])
/home/jupyterlab/conda/envs/python/lib/python3.6/site-packages/tensorflow/python/framework/dtypes.py:528: FutureWarning: Passing (type, 1) or &#39;1type&#39; as a synonym of type is deprecated; in a future version of numpy, it will be understood as (type, (1,)) / &#39;(1,)type&#39;.
  np_resource = np.dtype([(&#34;resource&#34;, np.ubyte, 1)])
</pre>
</div>
</div>

<div class="output_area">

    <div class="prompt"></div>


<div class="output_subarea output_stream output_stdout output_text">
<pre>WARNING:tensorflow:From &lt;ipython-input-1-aeda475fcce4&gt;:10: read_data_sets (from tensorflow.contrib.learn.python.learn.datasets.mnist) is deprecated and will be removed in a future version.
Instructions for updating:
Please use alternatives such as official/mnist/dataset.py from tensorflow/models.
WARNING:tensorflow:From /home/jupyterlab/conda/envs/python/lib/python3.6/site-packages/tensorflow/contrib/learn/python/learn/datasets/mnist.py:260: maybe_download (from tensorflow.contrib.learn.python.learn.datasets.base) is deprecated and will be removed in a future version.
Instructions for updating:
Please write your own downloading logic.
WARNING:tensorflow:From /home/jupyterlab/conda/envs/python/lib/python3.6/site-packages/tensorflow/contrib/learn/python/learn/datasets/base.py:252: _internal_retry.&lt;locals&gt;.wrap.&lt;locals&gt;.wrapped_fn (from tensorflow.contrib.learn.python.learn.datasets.base) is deprecated and will be removed in a future version.
Instructions for updating:
Please use urllib or similar directly.
Successfully downloaded train-images-idx3-ubyte.gz 9912422 bytes.
WARNING:tensorflow:From /home/jupyterlab/conda/envs/python/lib/python3.6/site-packages/tensorflow/contrib/learn/python/learn/datasets/mnist.py:262: extract_images (from tensorflow.contrib.learn.python.learn.datasets.mnist) is deprecated and will be removed in a future version.
Instructions for updating:
Please use tf.data to implement this functionality.
Extracting /tmp/data/train-images-idx3-ubyte.gz
Successfully downloaded train-labels-idx1-ubyte.gz 28881 bytes.
WARNING:tensorflow:From /home/jupyterlab/conda/envs/python/lib/python3.6/site-packages/tensorflow/contrib/learn/python/learn/datasets/mnist.py:267: extract_labels (from tensorflow.contrib.learn.python.learn.datasets.mnist) is deprecated and will be removed in a future version.
Instructions for updating:
Please use tf.data to implement this functionality.
Extracting /tmp/data/train-labels-idx1-ubyte.gz
WARNING:tensorflow:From /home/jupyterlab/conda/envs/python/lib/python3.6/site-packages/tensorflow/contrib/learn/python/learn/datasets/mnist.py:110: dense_to_one_hot (from tensorflow.contrib.learn.python.learn.datasets.mnist) is deprecated and will be removed in a future version.
Instructions for updating:
Please use tf.one_hot on tensors.
Successfully downloaded t10k-images-idx3-ubyte.gz 1648877 bytes.
Extracting /tmp/data/t10k-images-idx3-ubyte.gz
Successfully downloaded t10k-labels-idx1-ubyte.gz 4542 bytes.
Extracting /tmp/data/t10k-labels-idx1-ubyte.gz
WARNING:tensorflow:From /home/jupyterlab/conda/envs/python/lib/python3.6/site-packages/tensorflow/contrib/learn/python/learn/datasets/mnist.py:290: DataSet.__init__ (from tensorflow.contrib.learn.python.learn.datasets.mnist) is deprecated and will be removed in a future version.
Instructions for updating:
Please use alternatives such as official/mnist/dataset.py from tensorflow/models.
</pre>
</div>
</div>

</div>
</div>

</div>
<div class="cell border-box-sizing text_cell rendered"><div class="prompt input_prompt">
</div><div class="inner_cell">
<div class="text_cell_render border-box-sizing rendered_html">
<p>Now, let's give the parameters that are going to be used by our NN.</p>

</div>
</div>
</div>
<div class="cell border-box-sizing code_cell rendered">
<div class="input">
<div class="prompt input_prompt">In&nbsp;[2]:</div>
<div class="inner_cell">
    <div class="input_area">
<div class=" highlight hl-ipython3"><pre><span></span><span class="n">learning_rate</span> <span class="o">=</span> <span class="mf">0.01</span>
<span class="n">training_epochs</span> <span class="o">=</span> <span class="mi">8</span>
<span class="n">batch_size</span> <span class="o">=</span> <span class="mi">256</span>
<span class="n">display_step</span> <span class="o">=</span> <span class="mi">1</span>
<span class="n">examples_to_show</span> <span class="o">=</span> <span class="mi">10</span>

<span class="c1"># Network Parameters</span>
<span class="n">n_hidden_1</span> <span class="o">=</span> <span class="mi">256</span> <span class="c1"># 1st layer num features</span>
<span class="n">n_hidden_2</span> <span class="o">=</span> <span class="mi">128</span> <span class="c1"># 2nd layer num features</span>
<span class="n">n_input</span> <span class="o">=</span> <span class="mi">784</span> <span class="c1"># MNIST data input (img shape: 28*28)</span>

<span class="c1"># tf Graph input (only pictures)</span>
<span class="n">X</span> <span class="o">=</span> <span class="n">tf</span><span class="o">.</span><span class="n">placeholder</span><span class="p">(</span><span class="s2">&quot;float&quot;</span><span class="p">,</span> <span class="p">[</span><span class="kc">None</span><span class="p">,</span> <span class="n">n_input</span><span class="p">])</span>

<span class="n">weights</span> <span class="o">=</span> <span class="p">{</span>
    <span class="s1">&#39;encoder_h1&#39;</span><span class="p">:</span> <span class="n">tf</span><span class="o">.</span><span class="n">Variable</span><span class="p">(</span><span class="n">tf</span><span class="o">.</span><span class="n">random_normal</span><span class="p">([</span><span class="n">n_input</span><span class="p">,</span> <span class="n">n_hidden_1</span><span class="p">])),</span>
    <span class="s1">&#39;encoder_h2&#39;</span><span class="p">:</span> <span class="n">tf</span><span class="o">.</span><span class="n">Variable</span><span class="p">(</span><span class="n">tf</span><span class="o">.</span><span class="n">random_normal</span><span class="p">([</span><span class="n">n_hidden_1</span><span class="p">,</span> <span class="n">n_hidden_2</span><span class="p">])),</span>
    <span class="s1">&#39;decoder_h1&#39;</span><span class="p">:</span> <span class="n">tf</span><span class="o">.</span><span class="n">Variable</span><span class="p">(</span><span class="n">tf</span><span class="o">.</span><span class="n">random_normal</span><span class="p">([</span><span class="n">n_hidden_2</span><span class="p">,</span> <span class="n">n_hidden_1</span><span class="p">])),</span>
    <span class="s1">&#39;decoder_h2&#39;</span><span class="p">:</span> <span class="n">tf</span><span class="o">.</span><span class="n">Variable</span><span class="p">(</span><span class="n">tf</span><span class="o">.</span><span class="n">random_normal</span><span class="p">([</span><span class="n">n_hidden_1</span><span class="p">,</span> <span class="n">n_input</span><span class="p">])),</span>
<span class="p">}</span>
<span class="n">biases</span> <span class="o">=</span> <span class="p">{</span>
    <span class="s1">&#39;encoder_b1&#39;</span><span class="p">:</span> <span class="n">tf</span><span class="o">.</span><span class="n">Variable</span><span class="p">(</span><span class="n">tf</span><span class="o">.</span><span class="n">random_normal</span><span class="p">([</span><span class="n">n_hidden_1</span><span class="p">])),</span>
    <span class="s1">&#39;encoder_b2&#39;</span><span class="p">:</span> <span class="n">tf</span><span class="o">.</span><span class="n">Variable</span><span class="p">(</span><span class="n">tf</span><span class="o">.</span><span class="n">random_normal</span><span class="p">([</span><span class="n">n_hidden_2</span><span class="p">])),</span>
    <span class="s1">&#39;decoder_b1&#39;</span><span class="p">:</span> <span class="n">tf</span><span class="o">.</span><span class="n">Variable</span><span class="p">(</span><span class="n">tf</span><span class="o">.</span><span class="n">random_normal</span><span class="p">([</span><span class="n">n_hidden_1</span><span class="p">])),</span>
    <span class="s1">&#39;decoder_b2&#39;</span><span class="p">:</span> <span class="n">tf</span><span class="o">.</span><span class="n">Variable</span><span class="p">(</span><span class="n">tf</span><span class="o">.</span><span class="n">random_normal</span><span class="p">([</span><span class="n">n_input</span><span class="p">])),</span>
<span class="p">}</span>
</pre></div>

    </div>
</div>
</div>

</div>
<div class="cell border-box-sizing text_cell rendered"><div class="prompt input_prompt">
</div><div class="inner_cell">
<div class="text_cell_render border-box-sizing rendered_html">
<p>Now we need to create our encoder. For this, we are going to use sigmoidal functions. Sigmoidal functions delivers great results with this type of network. This is due to having a good derivative that is well-suited to backpropagation. We can create our encoder using the sigmoidal function like this:</p>

</div>
</div>
</div>
<div class="cell border-box-sizing code_cell rendered">
<div class="input">
<div class="prompt input_prompt">In&nbsp;[3]:</div>
<div class="inner_cell">
    <div class="input_area">
<div class=" highlight hl-ipython3"><pre><span></span><span class="c1"># Building the encoder</span>
<span class="k">def</span> <span class="nf">encoder</span><span class="p">(</span><span class="n">x</span><span class="p">):</span>
    <span class="c1"># Encoder first layer with sigmoid activation #1</span>
    <span class="n">layer_1</span> <span class="o">=</span> <span class="n">tf</span><span class="o">.</span><span class="n">nn</span><span class="o">.</span><span class="n">sigmoid</span><span class="p">(</span><span class="n">tf</span><span class="o">.</span><span class="n">add</span><span class="p">(</span><span class="n">tf</span><span class="o">.</span><span class="n">matmul</span><span class="p">(</span><span class="n">x</span><span class="p">,</span> <span class="n">weights</span><span class="p">[</span><span class="s1">&#39;encoder_h1&#39;</span><span class="p">]),</span> <span class="n">biases</span><span class="p">[</span><span class="s1">&#39;encoder_b1&#39;</span><span class="p">]))</span>
    <span class="c1"># Encoder second layer with sigmoid activation #2</span>
    <span class="n">layer_2</span> <span class="o">=</span> <span class="n">tf</span><span class="o">.</span><span class="n">nn</span><span class="o">.</span><span class="n">sigmoid</span><span class="p">(</span><span class="n">tf</span><span class="o">.</span><span class="n">add</span><span class="p">(</span><span class="n">tf</span><span class="o">.</span><span class="n">matmul</span><span class="p">(</span><span class="n">layer_1</span><span class="p">,</span> <span class="n">weights</span><span class="p">[</span><span class="s1">&#39;encoder_h2&#39;</span><span class="p">]),</span> <span class="n">biases</span><span class="p">[</span><span class="s1">&#39;encoder_b2&#39;</span><span class="p">]))</span>
    <span class="k">return</span> <span class="n">layer_2</span>
</pre></div>

    </div>
</div>
</div>

</div>
<div class="cell border-box-sizing text_cell rendered"><div class="prompt input_prompt">
</div><div class="inner_cell">
<div class="text_cell_render border-box-sizing rendered_html">
<p>And the decoder:</p>
<p>You can see that the layer_1 in the encoder is the layer_2 in the decoder and vice-versa.</p>

</div>
</div>
</div>
<div class="cell border-box-sizing code_cell rendered">
<div class="input">
<div class="prompt input_prompt">In&nbsp;[4]:</div>
<div class="inner_cell">
    <div class="input_area">
<div class=" highlight hl-ipython3"><pre><span></span><span class="c1"># Building the decoder</span>
<span class="k">def</span> <span class="nf">decoder</span><span class="p">(</span><span class="n">x</span><span class="p">):</span>
    <span class="c1"># Decoder first layer with sigmoid activation #1</span>
    <span class="n">layer_1</span> <span class="o">=</span> <span class="n">tf</span><span class="o">.</span><span class="n">nn</span><span class="o">.</span><span class="n">sigmoid</span><span class="p">(</span><span class="n">tf</span><span class="o">.</span><span class="n">add</span><span class="p">(</span><span class="n">tf</span><span class="o">.</span><span class="n">matmul</span><span class="p">(</span><span class="n">x</span><span class="p">,</span> <span class="n">weights</span><span class="p">[</span><span class="s1">&#39;decoder_h1&#39;</span><span class="p">]),</span><span class="n">biases</span><span class="p">[</span><span class="s1">&#39;decoder_b1&#39;</span><span class="p">]))</span>
    <span class="c1"># Decoder second layer with sigmoid activation #2</span>
    <span class="n">layer_2</span> <span class="o">=</span> <span class="n">tf</span><span class="o">.</span><span class="n">nn</span><span class="o">.</span><span class="n">sigmoid</span><span class="p">(</span><span class="n">tf</span><span class="o">.</span><span class="n">add</span><span class="p">(</span><span class="n">tf</span><span class="o">.</span><span class="n">matmul</span><span class="p">(</span><span class="n">layer_1</span><span class="p">,</span> <span class="n">weights</span><span class="p">[</span><span class="s1">&#39;decoder_h2&#39;</span><span class="p">]),</span> <span class="n">biases</span><span class="p">[</span><span class="s1">&#39;decoder_b2&#39;</span><span class="p">]))</span>
    <span class="k">return</span> <span class="n">layer_2</span>
</pre></div>

    </div>
</div>
</div>

</div>
<div class="cell border-box-sizing text_cell rendered"><div class="prompt input_prompt">
</div><div class="inner_cell">
<div class="text_cell_render border-box-sizing rendered_html">
<p>Let's construct our model.
In the variable <code>cost</code> we have the loss function and in the <code>optimizer</code> variable we have our gradient used for backpropagation.</p>

</div>
</div>
</div>
<div class="cell border-box-sizing code_cell rendered">
<div class="input">
<div class="prompt input_prompt">In&nbsp;[5]:</div>
<div class="inner_cell">
    <div class="input_area">
<div class=" highlight hl-ipython3"><pre><span></span><span class="c1"># Construct model</span>
<span class="n">encoder_op</span> <span class="o">=</span> <span class="n">encoder</span><span class="p">(</span><span class="n">X</span><span class="p">)</span>
<span class="n">decoder_op</span> <span class="o">=</span> <span class="n">decoder</span><span class="p">(</span><span class="n">encoder_op</span><span class="p">)</span>

<span class="c1"># Reconstructed Images</span>
<span class="n">y_pred</span> <span class="o">=</span> <span class="n">decoder_op</span>
<span class="c1"># Targets (Labels) are the input data.</span>
<span class="n">y_true</span> <span class="o">=</span> <span class="n">X</span>

<span class="c1"># Define loss and optimizer, minimize the squared error</span>
<span class="n">cost</span> <span class="o">=</span> <span class="n">tf</span><span class="o">.</span><span class="n">reduce_mean</span><span class="p">(</span><span class="n">tf</span><span class="o">.</span><span class="n">pow</span><span class="p">(</span><span class="n">y_true</span> <span class="o">-</span> <span class="n">y_pred</span><span class="p">,</span> <span class="mi">2</span><span class="p">))</span>
<span class="n">optimizer</span> <span class="o">=</span> <span class="n">tf</span><span class="o">.</span><span class="n">train</span><span class="o">.</span><span class="n">RMSPropOptimizer</span><span class="p">(</span><span class="n">learning_rate</span><span class="p">)</span><span class="o">.</span><span class="n">minimize</span><span class="p">(</span><span class="n">cost</span><span class="p">)</span>

<span class="c1"># Initializing the variables</span>
<span class="n">init</span> <span class="o">=</span> <span class="n">tf</span><span class="o">.</span><span class="n">global_variables_initializer</span><span class="p">()</span>
</pre></div>

    </div>
</div>
</div>

</div>
<div class="cell border-box-sizing text_cell rendered"><div class="prompt input_prompt">
</div><div class="inner_cell">
<div class="text_cell_render border-box-sizing rendered_html">
<p>For training we will run for 20 epochs.</p>

</div>
</div>
</div>
<div class="cell border-box-sizing code_cell rendered">
<div class="input">
<div class="prompt input_prompt">In&nbsp;[6]:</div>
<div class="inner_cell">
    <div class="input_area">
<div class=" highlight hl-ipython3"><pre><span></span><span class="c1"># Launch the graph</span>
<span class="c1"># Using InteractiveSession (more convenient while using Notebooks)</span>
<span class="n">sess</span> <span class="o">=</span> <span class="n">tf</span><span class="o">.</span><span class="n">InteractiveSession</span><span class="p">()</span>
<span class="n">sess</span><span class="o">.</span><span class="n">run</span><span class="p">(</span><span class="n">init</span><span class="p">)</span>

<span class="n">total_batch</span> <span class="o">=</span> <span class="nb">int</span><span class="p">(</span><span class="n">mnist</span><span class="o">.</span><span class="n">train</span><span class="o">.</span><span class="n">num_examples</span> <span class="o">/</span> <span class="n">batch_size</span><span class="p">)</span>
<span class="c1"># Training cycle</span>
<span class="k">for</span> <span class="n">epoch</span> <span class="ow">in</span> <span class="nb">range</span><span class="p">(</span><span class="n">training_epochs</span><span class="p">):</span>
    <span class="c1"># Loop over all batches</span>
    <span class="k">for</span> <span class="n">i</span> <span class="ow">in</span> <span class="nb">range</span><span class="p">(</span><span class="n">total_batch</span><span class="p">):</span>
        <span class="n">batch_xs</span><span class="p">,</span> <span class="n">batch_ys</span> <span class="o">=</span> <span class="n">mnist</span><span class="o">.</span><span class="n">train</span><span class="o">.</span><span class="n">next_batch</span><span class="p">(</span><span class="n">batch_size</span><span class="p">)</span>
        <span class="c1"># Run optimization op (backprop) and cost op (to get loss value)</span>
        <span class="n">_</span><span class="p">,</span> <span class="n">c</span> <span class="o">=</span> <span class="n">sess</span><span class="o">.</span><span class="n">run</span><span class="p">([</span><span class="n">optimizer</span><span class="p">,</span> <span class="n">cost</span><span class="p">],</span> <span class="n">feed_dict</span><span class="o">=</span><span class="p">{</span><span class="n">X</span><span class="p">:</span> <span class="n">batch_xs</span><span class="p">})</span>
    <span class="c1"># Display logs per epoch step</span>
    <span class="k">if</span> <span class="n">epoch</span> <span class="o">%</span> <span class="n">display_step</span> <span class="o">==</span> <span class="mi">0</span><span class="p">:</span>
        <span class="nb">print</span><span class="p">(</span><span class="s2">&quot;Epoch:&quot;</span><span class="p">,</span> <span class="s1">&#39;</span><span class="si">%04d</span><span class="s1">&#39;</span> <span class="o">%</span> <span class="p">(</span><span class="n">epoch</span><span class="o">+</span><span class="mi">1</span><span class="p">),</span>
              <span class="s2">&quot;cost=&quot;</span><span class="p">,</span> <span class="s2">&quot;</span><span class="si">{:.9f}</span><span class="s2">&quot;</span><span class="o">.</span><span class="n">format</span><span class="p">(</span><span class="n">c</span><span class="p">))</span>

<span class="nb">print</span><span class="p">(</span><span class="s2">&quot;Optimization Finished!&quot;</span><span class="p">)</span>
</pre></div>

    </div>
</div>
</div>

<div class="output_wrapper">
<div class="output">


<div class="output_area">

    <div class="prompt"></div>


<div class="output_subarea output_stream output_stdout output_text">
<pre>Epoch: 0001 cost= 0.216099694
Epoch: 0002 cost= 0.177453369
Epoch: 0003 cost= 0.161362544
Epoch: 0004 cost= 0.151179627
Epoch: 0005 cost= 0.142130136
Epoch: 0006 cost= 0.135626018
Epoch: 0007 cost= 0.134643912
Epoch: 0008 cost= 0.127500087
Optimization Finished!
</pre>
</div>
</div>

</div>
</div>

</div>
<div class="cell border-box-sizing text_cell rendered"><div class="prompt input_prompt">
</div><div class="inner_cell">
<div class="text_cell_render border-box-sizing rendered_html">
<p>Now, let's apply encoder and decoder for our tests.</p>

</div>
</div>
</div>
<div class="cell border-box-sizing code_cell rendered">
<div class="input">
<div class="prompt input_prompt">In&nbsp;[7]:</div>
<div class="inner_cell">
    <div class="input_area">
<div class=" highlight hl-ipython3"><pre><span></span><span class="c1"># Applying encode and decode over test set</span>
<span class="n">encode_decode</span> <span class="o">=</span> <span class="n">sess</span><span class="o">.</span><span class="n">run</span><span class="p">(</span>
    <span class="n">y_pred</span><span class="p">,</span> <span class="n">feed_dict</span><span class="o">=</span><span class="p">{</span><span class="n">X</span><span class="p">:</span> <span class="n">mnist</span><span class="o">.</span><span class="n">test</span><span class="o">.</span><span class="n">images</span><span class="p">[:</span><span class="n">examples_to_show</span><span class="p">]})</span>
</pre></div>

    </div>
</div>
</div>

</div>
<div class="cell border-box-sizing text_cell rendered"><div class="prompt input_prompt">
</div><div class="inner_cell">
<div class="text_cell_render border-box-sizing rendered_html">
<p>Let's simply visualize our graphs!</p>

</div>
</div>
</div>
<div class="cell border-box-sizing code_cell rendered">
<div class="input">
<div class="prompt input_prompt">In&nbsp;[8]:</div>
<div class="inner_cell">
    <div class="input_area">
<div class=" highlight hl-ipython3"><pre><span></span><span class="c1"># Compare original images with their reconstructions</span>
<span class="n">f</span><span class="p">,</span> <span class="n">a</span> <span class="o">=</span> <span class="n">plt</span><span class="o">.</span><span class="n">subplots</span><span class="p">(</span><span class="mi">2</span><span class="p">,</span> <span class="mi">10</span><span class="p">,</span> <span class="n">figsize</span><span class="o">=</span><span class="p">(</span><span class="mi">10</span><span class="p">,</span> <span class="mi">2</span><span class="p">))</span>
<span class="k">for</span> <span class="n">i</span> <span class="ow">in</span> <span class="nb">range</span><span class="p">(</span><span class="n">examples_to_show</span><span class="p">):</span>
    <span class="n">a</span><span class="p">[</span><span class="mi">0</span><span class="p">][</span><span class="n">i</span><span class="p">]</span><span class="o">.</span><span class="n">imshow</span><span class="p">(</span><span class="n">np</span><span class="o">.</span><span class="n">reshape</span><span class="p">(</span><span class="n">mnist</span><span class="o">.</span><span class="n">test</span><span class="o">.</span><span class="n">images</span><span class="p">[</span><span class="n">i</span><span class="p">],</span> <span class="p">(</span><span class="mi">28</span><span class="p">,</span> <span class="mi">28</span><span class="p">)))</span>
    <span class="n">a</span><span class="p">[</span><span class="mi">1</span><span class="p">][</span><span class="n">i</span><span class="p">]</span><span class="o">.</span><span class="n">imshow</span><span class="p">(</span><span class="n">np</span><span class="o">.</span><span class="n">reshape</span><span class="p">(</span><span class="n">encode_decode</span><span class="p">[</span><span class="n">i</span><span class="p">],</span> <span class="p">(</span><span class="mi">28</span><span class="p">,</span> <span class="mi">28</span><span class="p">)))</span>
</pre></div>

    </div>
</div>
</div>

<div class="output_wrapper">
<div class="output">


<div class="output_area">

    <div class="prompt"></div>




<div class="output_png output_subarea ">
<img src="data:image/png;base64,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
"
>
</div>

</div>

</div>
</div>

</div>
<div class="cell border-box-sizing text_cell rendered"><div class="prompt input_prompt">
</div><div class="inner_cell">
<div class="text_cell_render border-box-sizing rendered_html">
<p>As you can see, the reconstructions were successful. It can be seen that some noise were added to the image.</p>

</div>
</div>
</div>
<div class="cell border-box-sizing text_cell rendered"><div class="prompt input_prompt">
</div><div class="inner_cell">
<div class="text_cell_render border-box-sizing rendered_html">
<hr>
</div>
</div>
</div>
<div class="cell border-box-sizing text_cell rendered"><div class="prompt input_prompt">
</div><div class="inner_cell">
<div class="text_cell_render border-box-sizing rendered_html">
<h2 id="Want-to-learn-more?">Want to learn more?<a class="anchor-link" href="#Want-to-learn-more?">&#182;</a></h2><p>Running deep learning programs usually needs a high performance platform. <strong>PowerAI</strong> speeds up deep learning and AI. Built on IBM’s Power Systems, <strong>PowerAI</strong> is a scalable software platform that accelerates deep learning and AI with blazing performance for individual users or enterprises. The <strong>PowerAI</strong> platform supports popular machine learning libraries and dependencies including TensorFlow, Caffe, Torch, and Theano. You can use <a href="https://cocl.us/ML0120EN_PAI">PowerAI on IMB Cloud</a>.</p>
<p>Also, you can use <strong>Watson Studio</strong> to run these notebooks faster with bigger datasets.<strong>Watson Studio</strong> is IBM’s leading cloud solution for data scientists, built by data scientists. With Jupyter notebooks, RStudio, Apache Spark and popular libraries pre-packaged in the cloud, <strong>Watson Studio</strong> enables data scientists to collaborate on their projects without having to install anything. Join the fast-growing community of <strong>Watson Studio</strong> users today with a free account at <a href="https://cocl.us/ML0120EN_DSX">Watson Studio</a>.This is the end of this lesson. Thank you for reading this notebook, and good luck on your studies.</p>

</div>
</div>
</div>
<div class="cell border-box-sizing text_cell rendered"><div class="prompt input_prompt">
</div><div class="inner_cell">
<div class="text_cell_render border-box-sizing rendered_html">
<h3 id="Thanks-for-completing-this-lesson!">Thanks for completing this lesson!<a class="anchor-link" href="#Thanks-for-completing-this-lesson!">&#182;</a></h3>
</div>
</div>
</div>
<div class="cell border-box-sizing text_cell rendered"><div class="prompt input_prompt">
</div><div class="inner_cell">
<div class="text_cell_render border-box-sizing rendered_html">
<p>Created by <a href="https://www.linkedin.com/in/franciscomagioli">Francisco Magioli</a>, <a href="https://ca.linkedin.com/in/erich-natsubori-sato">Erich Natsubori Sato</a>, <a href="https://ca.linkedin.com/in/saeedaghabozorgi">Saeed Aghabozorgi</a></p>

</div>
</div>
</div>
<div class="cell border-box-sizing text_cell rendered"><div class="prompt input_prompt">
</div><div class="inner_cell">
<div class="text_cell_render border-box-sizing rendered_html">
<h3 id="References:">References:<a class="anchor-link" href="#References:">&#182;</a></h3><ul>
<li><a href="https://en.wikipedia.org/wiki/Autoencoder">https://en.wikipedia.org/wiki/Autoencoder</a></li>
<li><a href="http://ufldl.stanford.edu/tutorial/unsupervised/Autoencoders/">http://ufldl.stanford.edu/tutorial/unsupervised/Autoencoders/</a></li>
<li><a href="http://www.slideshare.net/billlangjun/simple-introduction-to-autoencoder">http://www.slideshare.net/billlangjun/simple-introduction-to-autoencoder</a></li>
<li><a href="http://www.slideshare.net/danieljohnlewis/piotr-mirowski-review-autoencoders-deep-learning-ciuuk14">http://www.slideshare.net/danieljohnlewis/piotr-mirowski-review-autoencoders-deep-learning-ciuuk14</a></li>
<li><a href="https://cs.stanford.edu/~quocle/tutorial2.pdf">https://cs.stanford.edu/~quocle/tutorial2.pdf</a></li>
<li><a href="https://gist.github.com/hussius/1534135a419bb0b957b9">https://gist.github.com/hussius/1534135a419bb0b957b9</a></li>
<li><a href="http://www.deeplearningbook.org/contents/autoencoders.html">http://www.deeplearningbook.org/contents/autoencoders.html</a></li>
<li><a href="http://www.kdnuggets.com/2015/03/deep-learning-curse-dimensionality-autoencoders.html/">http://www.kdnuggets.com/2015/03/deep-learning-curse-dimensionality-autoencoders.html/</a></li>
<li><a href="https://www.youtube.com/watch?v=xTU79Zs4XKY">https://www.youtube.com/watch?v=xTU79Zs4XKY</a></li>
<li><a href="http://www-personal.umich.edu/~jizhu/jizhu/wuke/Stone-AoS82.pdf">http://www-personal.umich.edu/~jizhu/jizhu/wuke/Stone-AoS82.pdf</a></li>
</ul>

</div>
</div>
</div>
<div class="cell border-box-sizing text_cell rendered"><div class="prompt input_prompt">
</div><div class="inner_cell">
<div class="text_cell_render border-box-sizing rendered_html">
<hr>

<p>Copyright &copy; 2018 <a href="https://cocl.us/DX0108EN_CC">Cognitive Class</a>. This notebook and its source code are released under the terms of the <a href="https://bigdatauniversity.com/mit-license/">MIT License</a>.</p>

</div>
</div>
</div>
    </div>
  </div>
</body>

 


</html>
