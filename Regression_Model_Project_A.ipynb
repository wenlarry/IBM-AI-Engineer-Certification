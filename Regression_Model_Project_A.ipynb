{
 "cells": [
  {
   "cell_type": "code",
   "execution_count": 1,
   "metadata": {},
   "outputs": [],
   "source": [
    "import numpy as np\n",
    "import pandas as pd"
   ]
  },
  {
   "cell_type": "code",
   "execution_count": 2,
   "metadata": {},
   "outputs": [
    {
     "data": {
      "text/html": [
       "<div>\n",
       "<style scoped>\n",
       "    .dataframe tbody tr th:only-of-type {\n",
       "        vertical-align: middle;\n",
       "    }\n",
       "\n",
       "    .dataframe tbody tr th {\n",
       "        vertical-align: top;\n",
       "    }\n",
       "\n",
       "    .dataframe thead th {\n",
       "        text-align: right;\n",
       "    }\n",
       "</style>\n",
       "<table border=\"1\" class=\"dataframe\">\n",
       "  <thead>\n",
       "    <tr style=\"text-align: right;\">\n",
       "      <th></th>\n",
       "      <th>Cement</th>\n",
       "      <th>Blast Furnace Slag</th>\n",
       "      <th>Fly Ash</th>\n",
       "      <th>Water</th>\n",
       "      <th>Superplasticizer</th>\n",
       "      <th>Coarse Aggregate</th>\n",
       "      <th>Fine Aggregate</th>\n",
       "      <th>Age</th>\n",
       "      <th>Strength</th>\n",
       "    </tr>\n",
       "  </thead>\n",
       "  <tbody>\n",
       "    <tr>\n",
       "      <th>0</th>\n",
       "      <td>540.0</td>\n",
       "      <td>0.0</td>\n",
       "      <td>0.0</td>\n",
       "      <td>162.0</td>\n",
       "      <td>2.5</td>\n",
       "      <td>1040.0</td>\n",
       "      <td>676.0</td>\n",
       "      <td>28</td>\n",
       "      <td>79.99</td>\n",
       "    </tr>\n",
       "    <tr>\n",
       "      <th>1</th>\n",
       "      <td>540.0</td>\n",
       "      <td>0.0</td>\n",
       "      <td>0.0</td>\n",
       "      <td>162.0</td>\n",
       "      <td>2.5</td>\n",
       "      <td>1055.0</td>\n",
       "      <td>676.0</td>\n",
       "      <td>28</td>\n",
       "      <td>61.89</td>\n",
       "    </tr>\n",
       "    <tr>\n",
       "      <th>2</th>\n",
       "      <td>332.5</td>\n",
       "      <td>142.5</td>\n",
       "      <td>0.0</td>\n",
       "      <td>228.0</td>\n",
       "      <td>0.0</td>\n",
       "      <td>932.0</td>\n",
       "      <td>594.0</td>\n",
       "      <td>270</td>\n",
       "      <td>40.27</td>\n",
       "    </tr>\n",
       "    <tr>\n",
       "      <th>3</th>\n",
       "      <td>332.5</td>\n",
       "      <td>142.5</td>\n",
       "      <td>0.0</td>\n",
       "      <td>228.0</td>\n",
       "      <td>0.0</td>\n",
       "      <td>932.0</td>\n",
       "      <td>594.0</td>\n",
       "      <td>365</td>\n",
       "      <td>41.05</td>\n",
       "    </tr>\n",
       "    <tr>\n",
       "      <th>4</th>\n",
       "      <td>198.6</td>\n",
       "      <td>132.4</td>\n",
       "      <td>0.0</td>\n",
       "      <td>192.0</td>\n",
       "      <td>0.0</td>\n",
       "      <td>978.4</td>\n",
       "      <td>825.5</td>\n",
       "      <td>360</td>\n",
       "      <td>44.30</td>\n",
       "    </tr>\n",
       "  </tbody>\n",
       "</table>\n",
       "</div>"
      ],
      "text/plain": [
       "   Cement  Blast Furnace Slag  Fly Ash  Water  Superplasticizer  \\\n",
       "0   540.0                 0.0      0.0  162.0               2.5   \n",
       "1   540.0                 0.0      0.0  162.0               2.5   \n",
       "2   332.5               142.5      0.0  228.0               0.0   \n",
       "3   332.5               142.5      0.0  228.0               0.0   \n",
       "4   198.6               132.4      0.0  192.0               0.0   \n",
       "\n",
       "   Coarse Aggregate  Fine Aggregate  Age  Strength  \n",
       "0            1040.0           676.0   28     79.99  \n",
       "1            1055.0           676.0   28     61.89  \n",
       "2             932.0           594.0  270     40.27  \n",
       "3             932.0           594.0  365     41.05  \n",
       "4             978.4           825.5  360     44.30  "
      ]
     },
     "execution_count": 2,
     "metadata": {},
     "output_type": "execute_result"
    }
   ],
   "source": [
    "concrete_data = pd.read_csv('https://cocl.us/concrete_data')\n",
    "concrete_data.head()"
   ]
  },
  {
   "cell_type": "code",
   "execution_count": 3,
   "metadata": {},
   "outputs": [
    {
     "data": {
      "text/plain": [
       "(1030, 9)"
      ]
     },
     "execution_count": 3,
     "metadata": {},
     "output_type": "execute_result"
    }
   ],
   "source": [
    "concrete_data.shape"
   ]
  },
  {
   "cell_type": "code",
   "execution_count": 4,
   "metadata": {},
   "outputs": [
    {
     "data": {
      "text/html": [
       "<div>\n",
       "<style scoped>\n",
       "    .dataframe tbody tr th:only-of-type {\n",
       "        vertical-align: middle;\n",
       "    }\n",
       "\n",
       "    .dataframe tbody tr th {\n",
       "        vertical-align: top;\n",
       "    }\n",
       "\n",
       "    .dataframe thead th {\n",
       "        text-align: right;\n",
       "    }\n",
       "</style>\n",
       "<table border=\"1\" class=\"dataframe\">\n",
       "  <thead>\n",
       "    <tr style=\"text-align: right;\">\n",
       "      <th></th>\n",
       "      <th>Cement</th>\n",
       "      <th>Blast Furnace Slag</th>\n",
       "      <th>Fly Ash</th>\n",
       "      <th>Water</th>\n",
       "      <th>Superplasticizer</th>\n",
       "      <th>Coarse Aggregate</th>\n",
       "      <th>Fine Aggregate</th>\n",
       "      <th>Age</th>\n",
       "      <th>Strength</th>\n",
       "    </tr>\n",
       "  </thead>\n",
       "  <tbody>\n",
       "    <tr>\n",
       "      <th>count</th>\n",
       "      <td>1030.000000</td>\n",
       "      <td>1030.000000</td>\n",
       "      <td>1030.000000</td>\n",
       "      <td>1030.000000</td>\n",
       "      <td>1030.000000</td>\n",
       "      <td>1030.000000</td>\n",
       "      <td>1030.000000</td>\n",
       "      <td>1030.000000</td>\n",
       "      <td>1030.000000</td>\n",
       "    </tr>\n",
       "    <tr>\n",
       "      <th>mean</th>\n",
       "      <td>281.167864</td>\n",
       "      <td>73.895825</td>\n",
       "      <td>54.188350</td>\n",
       "      <td>181.567282</td>\n",
       "      <td>6.204660</td>\n",
       "      <td>972.918932</td>\n",
       "      <td>773.580485</td>\n",
       "      <td>45.662136</td>\n",
       "      <td>35.817961</td>\n",
       "    </tr>\n",
       "    <tr>\n",
       "      <th>std</th>\n",
       "      <td>104.506364</td>\n",
       "      <td>86.279342</td>\n",
       "      <td>63.997004</td>\n",
       "      <td>21.354219</td>\n",
       "      <td>5.973841</td>\n",
       "      <td>77.753954</td>\n",
       "      <td>80.175980</td>\n",
       "      <td>63.169912</td>\n",
       "      <td>16.705742</td>\n",
       "    </tr>\n",
       "    <tr>\n",
       "      <th>min</th>\n",
       "      <td>102.000000</td>\n",
       "      <td>0.000000</td>\n",
       "      <td>0.000000</td>\n",
       "      <td>121.800000</td>\n",
       "      <td>0.000000</td>\n",
       "      <td>801.000000</td>\n",
       "      <td>594.000000</td>\n",
       "      <td>1.000000</td>\n",
       "      <td>2.330000</td>\n",
       "    </tr>\n",
       "    <tr>\n",
       "      <th>25%</th>\n",
       "      <td>192.375000</td>\n",
       "      <td>0.000000</td>\n",
       "      <td>0.000000</td>\n",
       "      <td>164.900000</td>\n",
       "      <td>0.000000</td>\n",
       "      <td>932.000000</td>\n",
       "      <td>730.950000</td>\n",
       "      <td>7.000000</td>\n",
       "      <td>23.710000</td>\n",
       "    </tr>\n",
       "    <tr>\n",
       "      <th>50%</th>\n",
       "      <td>272.900000</td>\n",
       "      <td>22.000000</td>\n",
       "      <td>0.000000</td>\n",
       "      <td>185.000000</td>\n",
       "      <td>6.400000</td>\n",
       "      <td>968.000000</td>\n",
       "      <td>779.500000</td>\n",
       "      <td>28.000000</td>\n",
       "      <td>34.445000</td>\n",
       "    </tr>\n",
       "    <tr>\n",
       "      <th>75%</th>\n",
       "      <td>350.000000</td>\n",
       "      <td>142.950000</td>\n",
       "      <td>118.300000</td>\n",
       "      <td>192.000000</td>\n",
       "      <td>10.200000</td>\n",
       "      <td>1029.400000</td>\n",
       "      <td>824.000000</td>\n",
       "      <td>56.000000</td>\n",
       "      <td>46.135000</td>\n",
       "    </tr>\n",
       "    <tr>\n",
       "      <th>max</th>\n",
       "      <td>540.000000</td>\n",
       "      <td>359.400000</td>\n",
       "      <td>200.100000</td>\n",
       "      <td>247.000000</td>\n",
       "      <td>32.200000</td>\n",
       "      <td>1145.000000</td>\n",
       "      <td>992.600000</td>\n",
       "      <td>365.000000</td>\n",
       "      <td>82.600000</td>\n",
       "    </tr>\n",
       "  </tbody>\n",
       "</table>\n",
       "</div>"
      ],
      "text/plain": [
       "            Cement  Blast Furnace Slag      Fly Ash        Water  \\\n",
       "count  1030.000000         1030.000000  1030.000000  1030.000000   \n",
       "mean    281.167864           73.895825    54.188350   181.567282   \n",
       "std     104.506364           86.279342    63.997004    21.354219   \n",
       "min     102.000000            0.000000     0.000000   121.800000   \n",
       "25%     192.375000            0.000000     0.000000   164.900000   \n",
       "50%     272.900000           22.000000     0.000000   185.000000   \n",
       "75%     350.000000          142.950000   118.300000   192.000000   \n",
       "max     540.000000          359.400000   200.100000   247.000000   \n",
       "\n",
       "       Superplasticizer  Coarse Aggregate  Fine Aggregate          Age  \\\n",
       "count       1030.000000       1030.000000     1030.000000  1030.000000   \n",
       "mean           6.204660        972.918932      773.580485    45.662136   \n",
       "std            5.973841         77.753954       80.175980    63.169912   \n",
       "min            0.000000        801.000000      594.000000     1.000000   \n",
       "25%            0.000000        932.000000      730.950000     7.000000   \n",
       "50%            6.400000        968.000000      779.500000    28.000000   \n",
       "75%           10.200000       1029.400000      824.000000    56.000000   \n",
       "max           32.200000       1145.000000      992.600000   365.000000   \n",
       "\n",
       "          Strength  \n",
       "count  1030.000000  \n",
       "mean     35.817961  \n",
       "std      16.705742  \n",
       "min       2.330000  \n",
       "25%      23.710000  \n",
       "50%      34.445000  \n",
       "75%      46.135000  \n",
       "max      82.600000  "
      ]
     },
     "execution_count": 4,
     "metadata": {},
     "output_type": "execute_result"
    }
   ],
   "source": [
    "concrete_data.describe()"
   ]
  },
  {
   "cell_type": "code",
   "execution_count": 5,
   "metadata": {},
   "outputs": [
    {
     "data": {
      "text/plain": [
       "Cement                0\n",
       "Blast Furnace Slag    0\n",
       "Fly Ash               0\n",
       "Water                 0\n",
       "Superplasticizer      0\n",
       "Coarse Aggregate      0\n",
       "Fine Aggregate        0\n",
       "Age                   0\n",
       "Strength              0\n",
       "dtype: int64"
      ]
     },
     "execution_count": 5,
     "metadata": {},
     "output_type": "execute_result"
    }
   ],
   "source": [
    "concrete_data.isnull().sum()"
   ]
  },
  {
   "cell_type": "code",
   "execution_count": 6,
   "metadata": {},
   "outputs": [],
   "source": [
    "# Split the data into predictors n target\n",
    "\n",
    "concrete_data_columns = concrete_data.columns\n",
    "predictors = concrete_data[concrete_data_columns[concrete_data_columns!= 'Strength']]\n",
    "target = concrete_data['Strength']"
   ]
  },
  {
   "cell_type": "code",
   "execution_count": 7,
   "metadata": {},
   "outputs": [
    {
     "data": {
      "text/plain": [
       "8"
      ]
     },
     "execution_count": 7,
     "metadata": {},
     "output_type": "execute_result"
    }
   ],
   "source": [
    "# Number of predictors\n",
    "\n",
    "n_cols = predictors.shape[1]\n",
    "n_cols"
   ]
  },
  {
   "cell_type": "code",
   "execution_count": 8,
   "metadata": {},
   "outputs": [
    {
     "name": "stderr",
     "output_type": "stream",
     "text": [
      "Using TensorFlow backend.\n",
      "/home/jupyterlab/conda/envs/python/lib/python3.6/site-packages/tensorflow/python/framework/dtypes.py:519: FutureWarning: Passing (type, 1) or '1type' as a synonym of type is deprecated; in a future version of numpy, it will be understood as (type, (1,)) / '(1,)type'.\n",
      "  _np_qint8 = np.dtype([(\"qint8\", np.int8, 1)])\n",
      "/home/jupyterlab/conda/envs/python/lib/python3.6/site-packages/tensorflow/python/framework/dtypes.py:520: FutureWarning: Passing (type, 1) or '1type' as a synonym of type is deprecated; in a future version of numpy, it will be understood as (type, (1,)) / '(1,)type'.\n",
      "  _np_quint8 = np.dtype([(\"quint8\", np.uint8, 1)])\n",
      "/home/jupyterlab/conda/envs/python/lib/python3.6/site-packages/tensorflow/python/framework/dtypes.py:521: FutureWarning: Passing (type, 1) or '1type' as a synonym of type is deprecated; in a future version of numpy, it will be understood as (type, (1,)) / '(1,)type'.\n",
      "  _np_qint16 = np.dtype([(\"qint16\", np.int16, 1)])\n",
      "/home/jupyterlab/conda/envs/python/lib/python3.6/site-packages/tensorflow/python/framework/dtypes.py:522: FutureWarning: Passing (type, 1) or '1type' as a synonym of type is deprecated; in a future version of numpy, it will be understood as (type, (1,)) / '(1,)type'.\n",
      "  _np_quint16 = np.dtype([(\"quint16\", np.uint16, 1)])\n",
      "/home/jupyterlab/conda/envs/python/lib/python3.6/site-packages/tensorflow/python/framework/dtypes.py:523: FutureWarning: Passing (type, 1) or '1type' as a synonym of type is deprecated; in a future version of numpy, it will be understood as (type, (1,)) / '(1,)type'.\n",
      "  _np_qint32 = np.dtype([(\"qint32\", np.int32, 1)])\n",
      "/home/jupyterlab/conda/envs/python/lib/python3.6/site-packages/tensorflow/python/framework/dtypes.py:528: FutureWarning: Passing (type, 1) or '1type' as a synonym of type is deprecated; in a future version of numpy, it will be understood as (type, (1,)) / '(1,)type'.\n",
      "  np_resource = np.dtype([(\"resource\", np.ubyte, 1)])\n"
     ]
    }
   ],
   "source": [
    "import keras\n",
    "from keras.models import Sequential\n",
    "from keras.layers import Dense"
   ]
  },
  {
   "cell_type": "code",
   "execution_count": 9,
   "metadata": {},
   "outputs": [],
   "source": [
    "# Regression Model\n",
    "\n",
    "def regression_model():\n",
    "    model = Sequential()\n",
    "    model.add(Dense(10, activation ='relu', input_shape=(n_cols,)))\n",
    "    model.add(Dense(1))\n",
    "    \n",
    "    model.compile(optimizer='adam', loss='mean_squared_error'\n",
    ")\n",
    "    return model\n",
    "       "
   ]
  },
  {
   "cell_type": "code",
   "execution_count": 10,
   "metadata": {},
   "outputs": [],
   "source": [
    "# split the data into trg n test sets\n",
    "\n",
    "from sklearn.model_selection import train_test_split\n",
    "\n",
    "X_train, X_test, y_train, y_test = train_test_split(predictors,\n",
    "target, test_size=0.3, random_state=1)\n"
   ]
  },
  {
   "cell_type": "code",
   "execution_count": 11,
   "metadata": {},
   "outputs": [],
   "source": [
    "# Model Create\n",
    "\n",
    "model = regression_model()"
   ]
  },
  {
   "cell_type": "code",
   "execution_count": 12,
   "metadata": {},
   "outputs": [
    {
     "name": "stdout",
     "output_type": "stream",
     "text": [
      "Epoch 1/50\n",
      "721/721 [==============================] - 1s 939us/step - loss: 101853.5071\n",
      "Epoch 2/50\n",
      "721/721 [==============================] - 0s 309us/step - loss: 47368.9222\n",
      "Epoch 3/50\n",
      "721/721 [==============================] - 0s 358us/step - loss: 18273.5847\n",
      "Epoch 4/50\n",
      "721/721 [==============================] - 0s 357us/step - loss: 6798.4211\n",
      "Epoch 5/50\n",
      "721/721 [==============================] - 0s 306us/step - loss: 3867.1427\n",
      "Epoch 6/50\n",
      "721/721 [==============================] - 0s 383us/step - loss: 3341.9086\n",
      "Epoch 7/50\n",
      "721/721 [==============================] - 0s 308us/step - loss: 3074.7293\n",
      "Epoch 8/50\n",
      "721/721 [==============================] - 0s 356us/step - loss: 2832.3215\n",
      "Epoch 9/50\n",
      "721/721 [==============================] - 0s 334us/step - loss: 2608.0749\n",
      "Epoch 10/50\n",
      "721/721 [==============================] - 0s 360us/step - loss: 2395.9122\n",
      "Epoch 11/50\n",
      "721/721 [==============================] - 0s 336us/step - loss: 2202.0391\n",
      "Epoch 12/50\n",
      "721/721 [==============================] - 0s 303us/step - loss: 2024.9859\n",
      "Epoch 13/50\n",
      "721/721 [==============================] - 0s 304us/step - loss: 1862.1784\n",
      "Epoch 14/50\n",
      "721/721 [==============================] - 0s 301us/step - loss: 1711.5577\n",
      "Epoch 15/50\n",
      "721/721 [==============================] - 0s 329us/step - loss: 1576.7752\n",
      "Epoch 16/50\n",
      "721/721 [==============================] - 0s 309us/step - loss: 1451.3753\n",
      "Epoch 17/50\n",
      "721/721 [==============================] - 0s 305us/step - loss: 1336.9481\n",
      "Epoch 18/50\n",
      "721/721 [==============================] - 0s 332us/step - loss: 1235.1169\n",
      "Epoch 19/50\n",
      "721/721 [==============================] - 0s 363us/step - loss: 1139.7536\n",
      "Epoch 20/50\n",
      "721/721 [==============================] - 0s 339us/step - loss: 1054.2783\n",
      "Epoch 21/50\n",
      "721/721 [==============================] - 0s 354us/step - loss: 976.2615\n",
      "Epoch 22/50\n",
      "721/721 [==============================] - 0s 308us/step - loss: 904.4321\n",
      "Epoch 23/50\n",
      "721/721 [==============================] - 0s 355us/step - loss: 842.4909\n",
      "Epoch 24/50\n",
      "721/721 [==============================] - 0s 309us/step - loss: 780.1161\n",
      "Epoch 25/50\n",
      "721/721 [==============================] - 0s 443us/step - loss: 727.2496 0s - loss: 668.4\n",
      "Epoch 26/50\n",
      "721/721 [==============================] - 0s 556us/step - loss: 677.1077\n",
      "Epoch 27/50\n",
      "721/721 [==============================] - 0s 499us/step - loss: 631.8604\n",
      "Epoch 28/50\n",
      "721/721 [==============================] - 0s 576us/step - loss: 591.0669\n",
      "Epoch 29/50\n",
      "721/721 [==============================] - 0s 663us/step - loss: 556.5044\n",
      "Epoch 30/50\n",
      "721/721 [==============================] - 0s 530us/step - loss: 523.4140\n",
      "Epoch 31/50\n",
      "721/721 [==============================] - 0s 455us/step - loss: 490.2232\n",
      "Epoch 32/50\n",
      "721/721 [==============================] - 0s 324us/step - loss: 462.5824\n",
      "Epoch 33/50\n",
      "721/721 [==============================] - 0s 386us/step - loss: 438.0096\n",
      "Epoch 34/50\n",
      "721/721 [==============================] - 0s 357us/step - loss: 414.6360\n",
      "Epoch 35/50\n",
      "721/721 [==============================] - 0s 385us/step - loss: 394.8587\n",
      "Epoch 36/50\n",
      "721/721 [==============================] - 0s 334us/step - loss: 374.0944\n",
      "Epoch 37/50\n",
      "721/721 [==============================] - 0s 384us/step - loss: 357.3510\n",
      "Epoch 38/50\n",
      "721/721 [==============================] - 0s 444us/step - loss: 341.9894\n",
      "Epoch 39/50\n",
      "721/721 [==============================] - 0s 302us/step - loss: 326.4859\n",
      "Epoch 40/50\n",
      "721/721 [==============================] - 0s 333us/step - loss: 314.0869\n",
      "Epoch 41/50\n",
      "721/721 [==============================] - 0s 305us/step - loss: 301.2896\n",
      "Epoch 42/50\n",
      "721/721 [==============================] - 0s 306us/step - loss: 290.5113\n",
      "Epoch 43/50\n",
      "721/721 [==============================] - 0s 355us/step - loss: 280.3944\n",
      "Epoch 44/50\n",
      "721/721 [==============================] - 0s 309us/step - loss: 271.0288\n",
      "Epoch 45/50\n",
      "721/721 [==============================] - 0s 325us/step - loss: 262.5874\n",
      "Epoch 46/50\n",
      "721/721 [==============================] - 0s 307us/step - loss: 254.3866\n",
      "Epoch 47/50\n",
      "721/721 [==============================] - 0s 494us/step - loss: 246.7030\n",
      "Epoch 48/50\n",
      "721/721 [==============================] - 0s 306us/step - loss: 240.3401\n",
      "Epoch 49/50\n",
      "721/721 [==============================] - 0s 361us/step - loss: 234.6672\n",
      "Epoch 50/50\n",
      "721/721 [==============================] - 0s 334us/step - loss: 229.3541\n"
     ]
    },
    {
     "data": {
      "text/plain": [
       "<keras.callbacks.History at 0x7fb2b486b780>"
      ]
     },
     "execution_count": 12,
     "metadata": {},
     "output_type": "execute_result"
    }
   ],
   "source": [
    "# Model Fit\n",
    "\n",
    "epochs = 50\n",
    "model.fit(X_train, y_train, epochs=epochs, verbose=1)"
   ]
  },
  {
   "cell_type": "code",
   "execution_count": 13,
   "metadata": {},
   "outputs": [
    {
     "name": "stdout",
     "output_type": "stream",
     "text": [
      "309/309 [==============================] - 0s 313us/step\n"
     ]
    },
    {
     "data": {
      "text/plain": [
       "225.70457418991137"
      ]
     },
     "execution_count": 13,
     "metadata": {},
     "output_type": "execute_result"
    }
   ],
   "source": [
    "# Model Evalation on test data\n",
    "\n",
    "loss = model.evaluate(X_test, y_test)\n",
    "y_pred = model.predict(X_test)\n",
    "loss"
   ]
  },
  {
   "cell_type": "code",
   "execution_count": 14,
   "metadata": {},
   "outputs": [
    {
     "name": "stdout",
     "output_type": "stream",
     "text": [
      "225.70456943173673\n"
     ]
    }
   ],
   "source": [
    "# MSE btw the predicted concrete strength and its actual\n",
    "\n",
    "from sklearn.metrics import mean_squared_error\n",
    "mse = mean_squared_error(y_test, y_pred)\n",
    "print (mse)"
   ]
  },
  {
   "cell_type": "code",
   "execution_count": 19,
   "metadata": {},
   "outputs": [
    {
     "name": "stdout",
     "output_type": "stream",
     "text": [
      "MSE 1: 49.90456373097442\n",
      "MSE 2: 68.56659637994365\n",
      "MSE 3: 46.479070052359866\n",
      "MSE 4: 49.15714599708137\n",
      "MSE 5: 52.37039890721392\n",
      "MSE 6: 52.093781381749025\n",
      "MSE 7: 58.32754482034726\n",
      "MSE 8: 47.193913209785535\n",
      "MSE 9: 48.971673983972046\n",
      "MSE 10: 51.83808684117586\n",
      "MSE 11: 47.80214633139206\n",
      "MSE 12: 45.70614177123628\n",
      "MSE 13: 55.942473908458325\n",
      "MSE 14: 52.86977859299545\n",
      "MSE 15: 49.68782224932921\n",
      "MSE 16: 43.15169966490909\n",
      "MSE 17: 48.954662520522824\n",
      "MSE 18: 48.87146897300548\n",
      "MSE 19: 46.3015224740729\n",
      "MSE 20: 49.66466050626391\n",
      "MSE 21: 44.425454840305164\n",
      "MSE 22: 47.12307546671155\n",
      "MSE 23: 45.15734637362286\n",
      "MSE 24: 45.842305587719174\n",
      "MSE 25: 49.69406604458213\n",
      "MSE 26: 47.626687898605\n",
      "MSE 27: 51.705565369244916\n",
      "MSE 28: 44.820812151270005\n",
      "MSE 29: 54.53893055344862\n",
      "MSE 30: 50.00184470858775\n",
      "MSE 31: 53.38740611153513\n",
      "MSE 32: 44.727919526084726\n",
      "MSE 33: 47.54122626048461\n",
      "MSE 34: 49.752118033498625\n",
      "MSE 35: 53.573132561248485\n",
      "MSE 36: 58.64809106623085\n",
      "MSE 37: 51.53609966537327\n",
      "MSE 38: 54.06701825583251\n",
      "MSE 39: 48.33623310817484\n",
      "MSE 40: 45.558070309339605\n",
      "MSE 41: 54.85000968365222\n",
      "MSE 42: 44.9352474274373\n",
      "MSE 43: 48.177568701092866\n",
      "MSE 44: 56.32085998930206\n",
      "MSE 45: 51.86859775283962\n",
      "MSE 46: 55.14494686682247\n",
      "MSE 47: 52.66866119779815\n",
      "MSE 48: 50.441842039040374\n",
      "MSE 49: 51.37509766365718\n",
      "MSE 50: 54.76713218812418\n",
      "Mean: 50.449370048991426\n",
      "Standard Deviation: 4.547960785269116\n"
     ]
    }
   ],
   "source": [
    "from sklearn.metrics import mean_squared_error\n",
    "total_mean_squared_errors = 50\n",
    "epochs = 50\n",
    "mean_squared_errors = []\n",
    "for i in range(0, total_mean_squared_errors):\n",
    "    X_train, X_test, y_train, y_test = train_test_split(predictors, target, test_size = 0.3, random_state=i)\n",
    "    model.fit(X_train, y_train, epochs=epochs, verbose=0)\n",
    "    MSE = model.evaluate(X_test, y_test, verbose=0)\n",
    "    print(\"MSE \" +str(i+1)+\": \"+str(MSE))\n",
    "    y_pred = model.predict(X_test)\n",
    "    mserror = mean_squared_error(y_test, y_pred)\n",
    "    mean_squared_errors.append(mserror)\n",
    "                                        \n",
    "mean_squared_errors = np.array(mean_squared_errors)\n",
    "mean = np.mean(mean_squared_errors)\n",
    "sd = np.std(mean_squared_errors)\n",
    "                                        \n",
    "print(\"Mean: \"+str(mean))\n",
    "print(\"Standard Deviation: \"+str(sd))\n"
   ]
  },
  {
   "cell_type": "code",
   "execution_count": 20,
   "metadata": {},
   "outputs": [],
   "source": [
    "## Above is the mean and standard deviation of 50 mean squared errors WITHOUT normalized data.\n",
    "## Mean = 50.449370048991426\n",
    "# Standard Deviation = 4.547960785269116"
   ]
  },
  {
   "cell_type": "markdown",
   "metadata": {},
   "source": []
  }
 ],
 "metadata": {
  "kernelspec": {
   "display_name": "Python",
   "language": "python",
   "name": "conda-env-python-py"
  },
  "language_info": {
   "codemirror_mode": {
    "name": "ipython",
    "version": 3
   },
   "file_extension": ".py",
   "mimetype": "text/x-python",
   "name": "python",
   "nbconvert_exporter": "python",
   "pygments_lexer": "ipython3",
   "version": "3.6.10"
  }
 },
 "nbformat": 4,
 "nbformat_minor": 4
}
