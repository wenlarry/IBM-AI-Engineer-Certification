<!DOCTYPE html>
<html>
<head><meta charset="utf-8" />

<title>ML0120EN-2.2-Review-CNN-MNIST-Dataset</title>

<script src="https://cdnjs.cloudflare.com/ajax/libs/require.js/2.1.10/require.min.js"></script>
<script src="https://cdnjs.cloudflare.com/ajax/libs/jquery/2.0.3/jquery.min.js"></script>



<style type="text/css">
    /*!
*
* Twitter Bootstrap
*
*/
/*!
 * Bootstrap v3.3.7 (http://getbootstrap.com)
 * Copyright 2011-2016 Twitter, Inc.
 * Licensed under MIT (https://github.com/twbs/bootstrap/blob/master/LICENSE)
 */
/*! normalize.css v3.0.3 | MIT License | github.com/necolas/normalize.css */
html {
  font-family: sans-serif;
  -ms-text-size-adjust: 100%;
  -webkit-text-size-adjust: 100%;
}
body {
  margin: 0;
}
article,
aside,
details,
figcaption,
figure,
footer,
header,
hgroup,
main,
menu,
nav,
section,
summary {
  display: block;
}
audio,
canvas,
progress,
video {
  display: inline-block;
  vertical-align: baseline;
}
audio:not([controls]) {
  display: none;
  height: 0;
}
[hidden],
template {
  display: none;
}
a {
  background-color: transparent;
}
a:active,
a:hover {
  outline: 0;
}
abbr[title] {
  border-bottom: 1px dotted;
}
b,
strong {
  font-weight: bold;
}
dfn {
  font-style: italic;
}
h1 {
  font-size: 2em;
  margin: 0.67em 0;
}
mark {
  background: #ff0;
  color: #000;
}
small {
  font-size: 80%;
}
sub,
sup {
  font-size: 75%;
  line-height: 0;
  position: relative;
  vertical-align: baseline;
}
sup {
  top: -0.5em;
}
sub {
  bottom: -0.25em;
}
img {
  border: 0;
}
svg:not(:root) {
  overflow: hidden;
}
figure {
  margin: 1em 40px;
}
hr {
  box-sizing: content-box;
  height: 0;
}
pre {
  overflow: auto;
}
code,
kbd,
pre,
samp {
  font-family: monospace, monospace;
  font-size: 1em;
}
button,
input,
optgroup,
select,
textarea {
  color: inherit;
  font: inherit;
  margin: 0;
}
button {
  overflow: visible;
}
button,
select {
  text-transform: none;
}
button,
html input[type="button"],
input[type="reset"],
input[type="submit"] {
  -webkit-appearance: button;
  cursor: pointer;
}
button[disabled],
html input[disabled] {
  cursor: default;
}
button::-moz-focus-inner,
input::-moz-focus-inner {
  border: 0;
  padding: 0;
}
input {
  line-height: normal;
}
input[type="checkbox"],
input[type="radio"] {
  box-sizing: border-box;
  padding: 0;
}
input[type="number"]::-webkit-inner-spin-button,
input[type="number"]::-webkit-outer-spin-button {
  height: auto;
}
input[type="search"] {
  -webkit-appearance: textfield;
  box-sizing: content-box;
}
input[type="search"]::-webkit-search-cancel-button,
input[type="search"]::-webkit-search-decoration {
  -webkit-appearance: none;
}
fieldset {
  border: 1px solid #c0c0c0;
  margin: 0 2px;
  padding: 0.35em 0.625em 0.75em;
}
legend {
  border: 0;
  padding: 0;
}
textarea {
  overflow: auto;
}
optgroup {
  font-weight: bold;
}
table {
  border-collapse: collapse;
  border-spacing: 0;
}
td,
th {
  padding: 0;
}
/*! Source: https://github.com/h5bp/html5-boilerplate/blob/master/src/css/main.css */
@media print {
  *,
  *:before,
  *:after {
    background: transparent !important;
    box-shadow: none !important;
    text-shadow: none !important;
  }
  a,
  a:visited {
    text-decoration: underline;
  }
  a[href]:after {
    content: " (" attr(href) ")";
  }
  abbr[title]:after {
    content: " (" attr(title) ")";
  }
  a[href^="#"]:after,
  a[href^="javascript:"]:after {
    content: "";
  }
  pre,
  blockquote {
    border: 1px solid #999;
    page-break-inside: avoid;
  }
  thead {
    display: table-header-group;
  }
  tr,
  img {
    page-break-inside: avoid;
  }
  img {
    max-width: 100% !important;
  }
  p,
  h2,
  h3 {
    orphans: 3;
    widows: 3;
  }
  h2,
  h3 {
    page-break-after: avoid;
  }
  .navbar {
    display: none;
  }
  .btn > .caret,
  .dropup > .btn > .caret {
    border-top-color: #000 !important;
  }
  .label {
    border: 1px solid #000;
  }
  .table {
    border-collapse: collapse !important;
  }
  .table td,
  .table th {
    background-color: #fff !important;
  }
  .table-bordered th,
  .table-bordered td {
    border: 1px solid #ddd !important;
  }
}
@font-face {
  font-family: 'Glyphicons Halflings';
  src: url('../components/bootstrap/fonts/glyphicons-halflings-regular.eot');
  src: url('../components/bootstrap/fonts/glyphicons-halflings-regular.eot?#iefix') format('embedded-opentype'), url('../components/bootstrap/fonts/glyphicons-halflings-regular.woff2') format('woff2'), url('../components/bootstrap/fonts/glyphicons-halflings-regular.woff') format('woff'), url('../components/bootstrap/fonts/glyphicons-halflings-regular.ttf') format('truetype'), url('../components/bootstrap/fonts/glyphicons-halflings-regular.svg#glyphicons_halflingsregular') format('svg');
}
.glyphicon {
  position: relative;
  top: 1px;
  display: inline-block;
  font-family: 'Glyphicons Halflings';
  font-style: normal;
  font-weight: normal;
  line-height: 1;
  -webkit-font-smoothing: antialiased;
  -moz-osx-font-smoothing: grayscale;
}
.glyphicon-asterisk:before {
  content: "\002a";
}
.glyphicon-plus:before {
  content: "\002b";
}
.glyphicon-euro:before,
.glyphicon-eur:before {
  content: "\20ac";
}
.glyphicon-minus:before {
  content: "\2212";
}
.glyphicon-cloud:before {
  content: "\2601";
}
.glyphicon-envelope:before {
  content: "\2709";
}
.glyphicon-pencil:before {
  content: "\270f";
}
.glyphicon-glass:before {
  content: "\e001";
}
.glyphicon-music:before {
  content: "\e002";
}
.glyphicon-search:before {
  content: "\e003";
}
.glyphicon-heart:before {
  content: "\e005";
}
.glyphicon-star:before {
  content: "\e006";
}
.glyphicon-star-empty:before {
  content: "\e007";
}
.glyphicon-user:before {
  content: "\e008";
}
.glyphicon-film:before {
  content: "\e009";
}
.glyphicon-th-large:before {
  content: "\e010";
}
.glyphicon-th:before {
  content: "\e011";
}
.glyphicon-th-list:before {
  content: "\e012";
}
.glyphicon-ok:before {
  content: "\e013";
}
.glyphicon-remove:before {
  content: "\e014";
}
.glyphicon-zoom-in:before {
  content: "\e015";
}
.glyphicon-zoom-out:before {
  content: "\e016";
}
.glyphicon-off:before {
  content: "\e017";
}
.glyphicon-signal:before {
  content: "\e018";
}
.glyphicon-cog:before {
  content: "\e019";
}
.glyphicon-trash:before {
  content: "\e020";
}
.glyphicon-home:before {
  content: "\e021";
}
.glyphicon-file:before {
  content: "\e022";
}
.glyphicon-time:before {
  content: "\e023";
}
.glyphicon-road:before {
  content: "\e024";
}
.glyphicon-download-alt:before {
  content: "\e025";
}
.glyphicon-download:before {
  content: "\e026";
}
.glyphicon-upload:before {
  content: "\e027";
}
.glyphicon-inbox:before {
  content: "\e028";
}
.glyphicon-play-circle:before {
  content: "\e029";
}
.glyphicon-repeat:before {
  content: "\e030";
}
.glyphicon-refresh:before {
  content: "\e031";
}
.glyphicon-list-alt:before {
  content: "\e032";
}
.glyphicon-lock:before {
  content: "\e033";
}
.glyphicon-flag:before {
  content: "\e034";
}
.glyphicon-headphones:before {
  content: "\e035";
}
.glyphicon-volume-off:before {
  content: "\e036";
}
.glyphicon-volume-down:before {
  content: "\e037";
}
.glyphicon-volume-up:before {
  content: "\e038";
}
.glyphicon-qrcode:before {
  content: "\e039";
}
.glyphicon-barcode:before {
  content: "\e040";
}
.glyphicon-tag:before {
  content: "\e041";
}
.glyphicon-tags:before {
  content: "\e042";
}
.glyphicon-book:before {
  content: "\e043";
}
.glyphicon-bookmark:before {
  content: "\e044";
}
.glyphicon-print:before {
  content: "\e045";
}
.glyphicon-camera:before {
  content: "\e046";
}
.glyphicon-font:before {
  content: "\e047";
}
.glyphicon-bold:before {
  content: "\e048";
}
.glyphicon-italic:before {
  content: "\e049";
}
.glyphicon-text-height:before {
  content: "\e050";
}
.glyphicon-text-width:before {
  content: "\e051";
}
.glyphicon-align-left:before {
  content: "\e052";
}
.glyphicon-align-center:before {
  content: "\e053";
}
.glyphicon-align-right:before {
  content: "\e054";
}
.glyphicon-align-justify:before {
  content: "\e055";
}
.glyphicon-list:before {
  content: "\e056";
}
.glyphicon-indent-left:before {
  content: "\e057";
}
.glyphicon-indent-right:before {
  content: "\e058";
}
.glyphicon-facetime-video:before {
  content: "\e059";
}
.glyphicon-picture:before {
  content: "\e060";
}
.glyphicon-map-marker:before {
  content: "\e062";
}
.glyphicon-adjust:before {
  content: "\e063";
}
.glyphicon-tint:before {
  content: "\e064";
}
.glyphicon-edit:before {
  content: "\e065";
}
.glyphicon-share:before {
  content: "\e066";
}
.glyphicon-check:before {
  content: "\e067";
}
.glyphicon-move:before {
  content: "\e068";
}
.glyphicon-step-backward:before {
  content: "\e069";
}
.glyphicon-fast-backward:before {
  content: "\e070";
}
.glyphicon-backward:before {
  content: "\e071";
}
.glyphicon-play:before {
  content: "\e072";
}
.glyphicon-pause:before {
  content: "\e073";
}
.glyphicon-stop:before {
  content: "\e074";
}
.glyphicon-forward:before {
  content: "\e075";
}
.glyphicon-fast-forward:before {
  content: "\e076";
}
.glyphicon-step-forward:before {
  content: "\e077";
}
.glyphicon-eject:before {
  content: "\e078";
}
.glyphicon-chevron-left:before {
  content: "\e079";
}
.glyphicon-chevron-right:before {
  content: "\e080";
}
.glyphicon-plus-sign:before {
  content: "\e081";
}
.glyphicon-minus-sign:before {
  content: "\e082";
}
.glyphicon-remove-sign:before {
  content: "\e083";
}
.glyphicon-ok-sign:before {
  content: "\e084";
}
.glyphicon-question-sign:before {
  content: "\e085";
}
.glyphicon-info-sign:before {
  content: "\e086";
}
.glyphicon-screenshot:before {
  content: "\e087";
}
.glyphicon-remove-circle:before {
  content: "\e088";
}
.glyphicon-ok-circle:before {
  content: "\e089";
}
.glyphicon-ban-circle:before {
  content: "\e090";
}
.glyphicon-arrow-left:before {
  content: "\e091";
}
.glyphicon-arrow-right:before {
  content: "\e092";
}
.glyphicon-arrow-up:before {
  content: "\e093";
}
.glyphicon-arrow-down:before {
  content: "\e094";
}
.glyphicon-share-alt:before {
  content: "\e095";
}
.glyphicon-resize-full:before {
  content: "\e096";
}
.glyphicon-resize-small:before {
  content: "\e097";
}
.glyphicon-exclamation-sign:before {
  content: "\e101";
}
.glyphicon-gift:before {
  content: "\e102";
}
.glyphicon-leaf:before {
  content: "\e103";
}
.glyphicon-fire:before {
  content: "\e104";
}
.glyphicon-eye-open:before {
  content: "\e105";
}
.glyphicon-eye-close:before {
  content: "\e106";
}
.glyphicon-warning-sign:before {
  content: "\e107";
}
.glyphicon-plane:before {
  content: "\e108";
}
.glyphicon-calendar:before {
  content: "\e109";
}
.glyphicon-random:before {
  content: "\e110";
}
.glyphicon-comment:before {
  content: "\e111";
}
.glyphicon-magnet:before {
  content: "\e112";
}
.glyphicon-chevron-up:before {
  content: "\e113";
}
.glyphicon-chevron-down:before {
  content: "\e114";
}
.glyphicon-retweet:before {
  content: "\e115";
}
.glyphicon-shopping-cart:before {
  content: "\e116";
}
.glyphicon-folder-close:before {
  content: "\e117";
}
.glyphicon-folder-open:before {
  content: "\e118";
}
.glyphicon-resize-vertical:before {
  content: "\e119";
}
.glyphicon-resize-horizontal:before {
  content: "\e120";
}
.glyphicon-hdd:before {
  content: "\e121";
}
.glyphicon-bullhorn:before {
  content: "\e122";
}
.glyphicon-bell:before {
  content: "\e123";
}
.glyphicon-certificate:before {
  content: "\e124";
}
.glyphicon-thumbs-up:before {
  content: "\e125";
}
.glyphicon-thumbs-down:before {
  content: "\e126";
}
.glyphicon-hand-right:before {
  content: "\e127";
}
.glyphicon-hand-left:before {
  content: "\e128";
}
.glyphicon-hand-up:before {
  content: "\e129";
}
.glyphicon-hand-down:before {
  content: "\e130";
}
.glyphicon-circle-arrow-right:before {
  content: "\e131";
}
.glyphicon-circle-arrow-left:before {
  content: "\e132";
}
.glyphicon-circle-arrow-up:before {
  content: "\e133";
}
.glyphicon-circle-arrow-down:before {
  content: "\e134";
}
.glyphicon-globe:before {
  content: "\e135";
}
.glyphicon-wrench:before {
  content: "\e136";
}
.glyphicon-tasks:before {
  content: "\e137";
}
.glyphicon-filter:before {
  content: "\e138";
}
.glyphicon-briefcase:before {
  content: "\e139";
}
.glyphicon-fullscreen:before {
  content: "\e140";
}
.glyphicon-dashboard:before {
  content: "\e141";
}
.glyphicon-paperclip:before {
  content: "\e142";
}
.glyphicon-heart-empty:before {
  content: "\e143";
}
.glyphicon-link:before {
  content: "\e144";
}
.glyphicon-phone:before {
  content: "\e145";
}
.glyphicon-pushpin:before {
  content: "\e146";
}
.glyphicon-usd:before {
  content: "\e148";
}
.glyphicon-gbp:before {
  content: "\e149";
}
.glyphicon-sort:before {
  content: "\e150";
}
.glyphicon-sort-by-alphabet:before {
  content: "\e151";
}
.glyphicon-sort-by-alphabet-alt:before {
  content: "\e152";
}
.glyphicon-sort-by-order:before {
  content: "\e153";
}
.glyphicon-sort-by-order-alt:before {
  content: "\e154";
}
.glyphicon-sort-by-attributes:before {
  content: "\e155";
}
.glyphicon-sort-by-attributes-alt:before {
  content: "\e156";
}
.glyphicon-unchecked:before {
  content: "\e157";
}
.glyphicon-expand:before {
  content: "\e158";
}
.glyphicon-collapse-down:before {
  content: "\e159";
}
.glyphicon-collapse-up:before {
  content: "\e160";
}
.glyphicon-log-in:before {
  content: "\e161";
}
.glyphicon-flash:before {
  content: "\e162";
}
.glyphicon-log-out:before {
  content: "\e163";
}
.glyphicon-new-window:before {
  content: "\e164";
}
.glyphicon-record:before {
  content: "\e165";
}
.glyphicon-save:before {
  content: "\e166";
}
.glyphicon-open:before {
  content: "\e167";
}
.glyphicon-saved:before {
  content: "\e168";
}
.glyphicon-import:before {
  content: "\e169";
}
.glyphicon-export:before {
  content: "\e170";
}
.glyphicon-send:before {
  content: "\e171";
}
.glyphicon-floppy-disk:before {
  content: "\e172";
}
.glyphicon-floppy-saved:before {
  content: "\e173";
}
.glyphicon-floppy-remove:before {
  content: "\e174";
}
.glyphicon-floppy-save:before {
  content: "\e175";
}
.glyphicon-floppy-open:before {
  content: "\e176";
}
.glyphicon-credit-card:before {
  content: "\e177";
}
.glyphicon-transfer:before {
  content: "\e178";
}
.glyphicon-cutlery:before {
  content: "\e179";
}
.glyphicon-header:before {
  content: "\e180";
}
.glyphicon-compressed:before {
  content: "\e181";
}
.glyphicon-earphone:before {
  content: "\e182";
}
.glyphicon-phone-alt:before {
  content: "\e183";
}
.glyphicon-tower:before {
  content: "\e184";
}
.glyphicon-stats:before {
  content: "\e185";
}
.glyphicon-sd-video:before {
  content: "\e186";
}
.glyphicon-hd-video:before {
  content: "\e187";
}
.glyphicon-subtitles:before {
  content: "\e188";
}
.glyphicon-sound-stereo:before {
  content: "\e189";
}
.glyphicon-sound-dolby:before {
  content: "\e190";
}
.glyphicon-sound-5-1:before {
  content: "\e191";
}
.glyphicon-sound-6-1:before {
  content: "\e192";
}
.glyphicon-sound-7-1:before {
  content: "\e193";
}
.glyphicon-copyright-mark:before {
  content: "\e194";
}
.glyphicon-registration-mark:before {
  content: "\e195";
}
.glyphicon-cloud-download:before {
  content: "\e197";
}
.glyphicon-cloud-upload:before {
  content: "\e198";
}
.glyphicon-tree-conifer:before {
  content: "\e199";
}
.glyphicon-tree-deciduous:before {
  content: "\e200";
}
.glyphicon-cd:before {
  content: "\e201";
}
.glyphicon-save-file:before {
  content: "\e202";
}
.glyphicon-open-file:before {
  content: "\e203";
}
.glyphicon-level-up:before {
  content: "\e204";
}
.glyphicon-copy:before {
  content: "\e205";
}
.glyphicon-paste:before {
  content: "\e206";
}
.glyphicon-alert:before {
  content: "\e209";
}
.glyphicon-equalizer:before {
  content: "\e210";
}
.glyphicon-king:before {
  content: "\e211";
}
.glyphicon-queen:before {
  content: "\e212";
}
.glyphicon-pawn:before {
  content: "\e213";
}
.glyphicon-bishop:before {
  content: "\e214";
}
.glyphicon-knight:before {
  content: "\e215";
}
.glyphicon-baby-formula:before {
  content: "\e216";
}
.glyphicon-tent:before {
  content: "\26fa";
}
.glyphicon-blackboard:before {
  content: "\e218";
}
.glyphicon-bed:before {
  content: "\e219";
}
.glyphicon-apple:before {
  content: "\f8ff";
}
.glyphicon-erase:before {
  content: "\e221";
}
.glyphicon-hourglass:before {
  content: "\231b";
}
.glyphicon-lamp:before {
  content: "\e223";
}
.glyphicon-duplicate:before {
  content: "\e224";
}
.glyphicon-piggy-bank:before {
  content: "\e225";
}
.glyphicon-scissors:before {
  content: "\e226";
}
.glyphicon-bitcoin:before {
  content: "\e227";
}
.glyphicon-btc:before {
  content: "\e227";
}
.glyphicon-xbt:before {
  content: "\e227";
}
.glyphicon-yen:before {
  content: "\00a5";
}
.glyphicon-jpy:before {
  content: "\00a5";
}
.glyphicon-ruble:before {
  content: "\20bd";
}
.glyphicon-rub:before {
  content: "\20bd";
}
.glyphicon-scale:before {
  content: "\e230";
}
.glyphicon-ice-lolly:before {
  content: "\e231";
}
.glyphicon-ice-lolly-tasted:before {
  content: "\e232";
}
.glyphicon-education:before {
  content: "\e233";
}
.glyphicon-option-horizontal:before {
  content: "\e234";
}
.glyphicon-option-vertical:before {
  content: "\e235";
}
.glyphicon-menu-hamburger:before {
  content: "\e236";
}
.glyphicon-modal-window:before {
  content: "\e237";
}
.glyphicon-oil:before {
  content: "\e238";
}
.glyphicon-grain:before {
  content: "\e239";
}
.glyphicon-sunglasses:before {
  content: "\e240";
}
.glyphicon-text-size:before {
  content: "\e241";
}
.glyphicon-text-color:before {
  content: "\e242";
}
.glyphicon-text-background:before {
  content: "\e243";
}
.glyphicon-object-align-top:before {
  content: "\e244";
}
.glyphicon-object-align-bottom:before {
  content: "\e245";
}
.glyphicon-object-align-horizontal:before {
  content: "\e246";
}
.glyphicon-object-align-left:before {
  content: "\e247";
}
.glyphicon-object-align-vertical:before {
  content: "\e248";
}
.glyphicon-object-align-right:before {
  content: "\e249";
}
.glyphicon-triangle-right:before {
  content: "\e250";
}
.glyphicon-triangle-left:before {
  content: "\e251";
}
.glyphicon-triangle-bottom:before {
  content: "\e252";
}
.glyphicon-triangle-top:before {
  content: "\e253";
}
.glyphicon-console:before {
  content: "\e254";
}
.glyphicon-superscript:before {
  content: "\e255";
}
.glyphicon-subscript:before {
  content: "\e256";
}
.glyphicon-menu-left:before {
  content: "\e257";
}
.glyphicon-menu-right:before {
  content: "\e258";
}
.glyphicon-menu-down:before {
  content: "\e259";
}
.glyphicon-menu-up:before {
  content: "\e260";
}
* {
  -webkit-box-sizing: border-box;
  -moz-box-sizing: border-box;
  box-sizing: border-box;
}
*:before,
*:after {
  -webkit-box-sizing: border-box;
  -moz-box-sizing: border-box;
  box-sizing: border-box;
}
html {
  font-size: 10px;
  -webkit-tap-highlight-color: rgba(0, 0, 0, 0);
}
body {
  font-family: "Helvetica Neue", Helvetica, Arial, sans-serif;
  font-size: 13px;
  line-height: 1.42857143;
  color: #000;
  background-color: #fff;
}
input,
button,
select,
textarea {
  font-family: inherit;
  font-size: inherit;
  line-height: inherit;
}
a {
  color: #337ab7;
  text-decoration: none;
}
a:hover,
a:focus {
  color: #23527c;
  text-decoration: underline;
}
a:focus {
  outline: 5px auto -webkit-focus-ring-color;
  outline-offset: -2px;
}
figure {
  margin: 0;
}
img {
  vertical-align: middle;
}
.img-responsive,
.thumbnail > img,
.thumbnail a > img,
.carousel-inner > .item > img,
.carousel-inner > .item > a > img {
  display: block;
  max-width: 100%;
  height: auto;
}
.img-rounded {
  border-radius: 3px;
}
.img-thumbnail {
  padding: 4px;
  line-height: 1.42857143;
  background-color: #fff;
  border: 1px solid #ddd;
  border-radius: 2px;
  -webkit-transition: all 0.2s ease-in-out;
  -o-transition: all 0.2s ease-in-out;
  transition: all 0.2s ease-in-out;
  display: inline-block;
  max-width: 100%;
  height: auto;
}
.img-circle {
  border-radius: 50%;
}
hr {
  margin-top: 18px;
  margin-bottom: 18px;
  border: 0;
  border-top: 1px solid #eeeeee;
}
.sr-only {
  position: absolute;
  width: 1px;
  height: 1px;
  margin: -1px;
  padding: 0;
  overflow: hidden;
  clip: rect(0, 0, 0, 0);
  border: 0;
}
.sr-only-focusable:active,
.sr-only-focusable:focus {
  position: static;
  width: auto;
  height: auto;
  margin: 0;
  overflow: visible;
  clip: auto;
}
[role="button"] {
  cursor: pointer;
}
h1,
h2,
h3,
h4,
h5,
h6,
.h1,
.h2,
.h3,
.h4,
.h5,
.h6 {
  font-family: inherit;
  font-weight: 500;
  line-height: 1.1;
  color: inherit;
}
h1 small,
h2 small,
h3 small,
h4 small,
h5 small,
h6 small,
.h1 small,
.h2 small,
.h3 small,
.h4 small,
.h5 small,
.h6 small,
h1 .small,
h2 .small,
h3 .small,
h4 .small,
h5 .small,
h6 .small,
.h1 .small,
.h2 .small,
.h3 .small,
.h4 .small,
.h5 .small,
.h6 .small {
  font-weight: normal;
  line-height: 1;
  color: #777777;
}
h1,
.h1,
h2,
.h2,
h3,
.h3 {
  margin-top: 18px;
  margin-bottom: 9px;
}
h1 small,
.h1 small,
h2 small,
.h2 small,
h3 small,
.h3 small,
h1 .small,
.h1 .small,
h2 .small,
.h2 .small,
h3 .small,
.h3 .small {
  font-size: 65%;
}
h4,
.h4,
h5,
.h5,
h6,
.h6 {
  margin-top: 9px;
  margin-bottom: 9px;
}
h4 small,
.h4 small,
h5 small,
.h5 small,
h6 small,
.h6 small,
h4 .small,
.h4 .small,
h5 .small,
.h5 .small,
h6 .small,
.h6 .small {
  font-size: 75%;
}
h1,
.h1 {
  font-size: 33px;
}
h2,
.h2 {
  font-size: 27px;
}
h3,
.h3 {
  font-size: 23px;
}
h4,
.h4 {
  font-size: 17px;
}
h5,
.h5 {
  font-size: 13px;
}
h6,
.h6 {
  font-size: 12px;
}
p {
  margin: 0 0 9px;
}
.lead {
  margin-bottom: 18px;
  font-size: 14px;
  font-weight: 300;
  line-height: 1.4;
}
@media (min-width: 768px) {
  .lead {
    font-size: 19.5px;
  }
}
small,
.small {
  font-size: 92%;
}
mark,
.mark {
  background-color: #fcf8e3;
  padding: .2em;
}
.text-left {
  text-align: left;
}
.text-right {
  text-align: right;
}
.text-center {
  text-align: center;
}
.text-justify {
  text-align: justify;
}
.text-nowrap {
  white-space: nowrap;
}
.text-lowercase {
  text-transform: lowercase;
}
.text-uppercase {
  text-transform: uppercase;
}
.text-capitalize {
  text-transform: capitalize;
}
.text-muted {
  color: #777777;
}
.text-primary {
  color: #337ab7;
}
a.text-primary:hover,
a.text-primary:focus {
  color: #286090;
}
.text-success {
  color: #3c763d;
}
a.text-success:hover,
a.text-success:focus {
  color: #2b542c;
}
.text-info {
  color: #31708f;
}
a.text-info:hover,
a.text-info:focus {
  color: #245269;
}
.text-warning {
  color: #8a6d3b;
}
a.text-warning:hover,
a.text-warning:focus {
  color: #66512c;
}
.text-danger {
  color: #a94442;
}
a.text-danger:hover,
a.text-danger:focus {
  color: #843534;
}
.bg-primary {
  color: #fff;
  background-color: #337ab7;
}
a.bg-primary:hover,
a.bg-primary:focus {
  background-color: #286090;
}
.bg-success {
  background-color: #dff0d8;
}
a.bg-success:hover,
a.bg-success:focus {
  background-color: #c1e2b3;
}
.bg-info {
  background-color: #d9edf7;
}
a.bg-info:hover,
a.bg-info:focus {
  background-color: #afd9ee;
}
.bg-warning {
  background-color: #fcf8e3;
}
a.bg-warning:hover,
a.bg-warning:focus {
  background-color: #f7ecb5;
}
.bg-danger {
  background-color: #f2dede;
}
a.bg-danger:hover,
a.bg-danger:focus {
  background-color: #e4b9b9;
}
.page-header {
  padding-bottom: 8px;
  margin: 36px 0 18px;
  border-bottom: 1px solid #eeeeee;
}
ul,
ol {
  margin-top: 0;
  margin-bottom: 9px;
}
ul ul,
ol ul,
ul ol,
ol ol {
  margin-bottom: 0;
}
.list-unstyled {
  padding-left: 0;
  list-style: none;
}
.list-inline {
  padding-left: 0;
  list-style: none;
  margin-left: -5px;
}
.list-inline > li {
  display: inline-block;
  padding-left: 5px;
  padding-right: 5px;
}
dl {
  margin-top: 0;
  margin-bottom: 18px;
}
dt,
dd {
  line-height: 1.42857143;
}
dt {
  font-weight: bold;
}
dd {
  margin-left: 0;
}
@media (min-width: 541px) {
  .dl-horizontal dt {
    float: left;
    width: 160px;
    clear: left;
    text-align: right;
    overflow: hidden;
    text-overflow: ellipsis;
    white-space: nowrap;
  }
  .dl-horizontal dd {
    margin-left: 180px;
  }
}
abbr[title],
abbr[data-original-title] {
  cursor: help;
  border-bottom: 1px dotted #777777;
}
.initialism {
  font-size: 90%;
  text-transform: uppercase;
}
blockquote {
  padding: 9px 18px;
  margin: 0 0 18px;
  font-size: inherit;
  border-left: 5px solid #eeeeee;
}
blockquote p:last-child,
blockquote ul:last-child,
blockquote ol:last-child {
  margin-bottom: 0;
}
blockquote footer,
blockquote small,
blockquote .small {
  display: block;
  font-size: 80%;
  line-height: 1.42857143;
  color: #777777;
}
blockquote footer:before,
blockquote small:before,
blockquote .small:before {
  content: '\2014 \00A0';
}
.blockquote-reverse,
blockquote.pull-right {
  padding-right: 15px;
  padding-left: 0;
  border-right: 5px solid #eeeeee;
  border-left: 0;
  text-align: right;
}
.blockquote-reverse footer:before,
blockquote.pull-right footer:before,
.blockquote-reverse small:before,
blockquote.pull-right small:before,
.blockquote-reverse .small:before,
blockquote.pull-right .small:before {
  content: '';
}
.blockquote-reverse footer:after,
blockquote.pull-right footer:after,
.blockquote-reverse small:after,
blockquote.pull-right small:after,
.blockquote-reverse .small:after,
blockquote.pull-right .small:after {
  content: '\00A0 \2014';
}
address {
  margin-bottom: 18px;
  font-style: normal;
  line-height: 1.42857143;
}
code,
kbd,
pre,
samp {
  font-family: monospace;
}
code {
  padding: 2px 4px;
  font-size: 90%;
  color: #c7254e;
  background-color: #f9f2f4;
  border-radius: 2px;
}
kbd {
  padding: 2px 4px;
  font-size: 90%;
  color: #888;
  background-color: transparent;
  border-radius: 1px;
  box-shadow: inset 0 -1px 0 rgba(0, 0, 0, 0.25);
}
kbd kbd {
  padding: 0;
  font-size: 100%;
  font-weight: bold;
  box-shadow: none;
}
pre {
  display: block;
  padding: 8.5px;
  margin: 0 0 9px;
  font-size: 12px;
  line-height: 1.42857143;
  word-break: break-all;
  word-wrap: break-word;
  color: #333333;
  background-color: #f5f5f5;
  border: 1px solid #ccc;
  border-radius: 2px;
}
pre code {
  padding: 0;
  font-size: inherit;
  color: inherit;
  white-space: pre-wrap;
  background-color: transparent;
  border-radius: 0;
}
.pre-scrollable {
  max-height: 340px;
  overflow-y: scroll;
}
.container {
  margin-right: auto;
  margin-left: auto;
  padding-left: 0px;
  padding-right: 0px;
}
@media (min-width: 768px) {
  .container {
    width: 768px;
  }
}
@media (min-width: 992px) {
  .container {
    width: 940px;
  }
}
@media (min-width: 1200px) {
  .container {
    width: 1140px;
  }
}
.container-fluid {
  margin-right: auto;
  margin-left: auto;
  padding-left: 0px;
  padding-right: 0px;
}
.row {
  margin-left: 0px;
  margin-right: 0px;
}
.col-xs-1, .col-sm-1, .col-md-1, .col-lg-1, .col-xs-2, .col-sm-2, .col-md-2, .col-lg-2, .col-xs-3, .col-sm-3, .col-md-3, .col-lg-3, .col-xs-4, .col-sm-4, .col-md-4, .col-lg-4, .col-xs-5, .col-sm-5, .col-md-5, .col-lg-5, .col-xs-6, .col-sm-6, .col-md-6, .col-lg-6, .col-xs-7, .col-sm-7, .col-md-7, .col-lg-7, .col-xs-8, .col-sm-8, .col-md-8, .col-lg-8, .col-xs-9, .col-sm-9, .col-md-9, .col-lg-9, .col-xs-10, .col-sm-10, .col-md-10, .col-lg-10, .col-xs-11, .col-sm-11, .col-md-11, .col-lg-11, .col-xs-12, .col-sm-12, .col-md-12, .col-lg-12 {
  position: relative;
  min-height: 1px;
  padding-left: 0px;
  padding-right: 0px;
}
.col-xs-1, .col-xs-2, .col-xs-3, .col-xs-4, .col-xs-5, .col-xs-6, .col-xs-7, .col-xs-8, .col-xs-9, .col-xs-10, .col-xs-11, .col-xs-12 {
  float: left;
}
.col-xs-12 {
  width: 100%;
}
.col-xs-11 {
  width: 91.66666667%;
}
.col-xs-10 {
  width: 83.33333333%;
}
.col-xs-9 {
  width: 75%;
}
.col-xs-8 {
  width: 66.66666667%;
}
.col-xs-7 {
  width: 58.33333333%;
}
.col-xs-6 {
  width: 50%;
}
.col-xs-5 {
  width: 41.66666667%;
}
.col-xs-4 {
  width: 33.33333333%;
}
.col-xs-3 {
  width: 25%;
}
.col-xs-2 {
  width: 16.66666667%;
}
.col-xs-1 {
  width: 8.33333333%;
}
.col-xs-pull-12 {
  right: 100%;
}
.col-xs-pull-11 {
  right: 91.66666667%;
}
.col-xs-pull-10 {
  right: 83.33333333%;
}
.col-xs-pull-9 {
  right: 75%;
}
.col-xs-pull-8 {
  right: 66.66666667%;
}
.col-xs-pull-7 {
  right: 58.33333333%;
}
.col-xs-pull-6 {
  right: 50%;
}
.col-xs-pull-5 {
  right: 41.66666667%;
}
.col-xs-pull-4 {
  right: 33.33333333%;
}
.col-xs-pull-3 {
  right: 25%;
}
.col-xs-pull-2 {
  right: 16.66666667%;
}
.col-xs-pull-1 {
  right: 8.33333333%;
}
.col-xs-pull-0 {
  right: auto;
}
.col-xs-push-12 {
  left: 100%;
}
.col-xs-push-11 {
  left: 91.66666667%;
}
.col-xs-push-10 {
  left: 83.33333333%;
}
.col-xs-push-9 {
  left: 75%;
}
.col-xs-push-8 {
  left: 66.66666667%;
}
.col-xs-push-7 {
  left: 58.33333333%;
}
.col-xs-push-6 {
  left: 50%;
}
.col-xs-push-5 {
  left: 41.66666667%;
}
.col-xs-push-4 {
  left: 33.33333333%;
}
.col-xs-push-3 {
  left: 25%;
}
.col-xs-push-2 {
  left: 16.66666667%;
}
.col-xs-push-1 {
  left: 8.33333333%;
}
.col-xs-push-0 {
  left: auto;
}
.col-xs-offset-12 {
  margin-left: 100%;
}
.col-xs-offset-11 {
  margin-left: 91.66666667%;
}
.col-xs-offset-10 {
  margin-left: 83.33333333%;
}
.col-xs-offset-9 {
  margin-left: 75%;
}
.col-xs-offset-8 {
  margin-left: 66.66666667%;
}
.col-xs-offset-7 {
  margin-left: 58.33333333%;
}
.col-xs-offset-6 {
  margin-left: 50%;
}
.col-xs-offset-5 {
  margin-left: 41.66666667%;
}
.col-xs-offset-4 {
  margin-left: 33.33333333%;
}
.col-xs-offset-3 {
  margin-left: 25%;
}
.col-xs-offset-2 {
  margin-left: 16.66666667%;
}
.col-xs-offset-1 {
  margin-left: 8.33333333%;
}
.col-xs-offset-0 {
  margin-left: 0%;
}
@media (min-width: 768px) {
  .col-sm-1, .col-sm-2, .col-sm-3, .col-sm-4, .col-sm-5, .col-sm-6, .col-sm-7, .col-sm-8, .col-sm-9, .col-sm-10, .col-sm-11, .col-sm-12 {
    float: left;
  }
  .col-sm-12 {
    width: 100%;
  }
  .col-sm-11 {
    width: 91.66666667%;
  }
  .col-sm-10 {
    width: 83.33333333%;
  }
  .col-sm-9 {
    width: 75%;
  }
  .col-sm-8 {
    width: 66.66666667%;
  }
  .col-sm-7 {
    width: 58.33333333%;
  }
  .col-sm-6 {
    width: 50%;
  }
  .col-sm-5 {
    width: 41.66666667%;
  }
  .col-sm-4 {
    width: 33.33333333%;
  }
  .col-sm-3 {
    width: 25%;
  }
  .col-sm-2 {
    width: 16.66666667%;
  }
  .col-sm-1 {
    width: 8.33333333%;
  }
  .col-sm-pull-12 {
    right: 100%;
  }
  .col-sm-pull-11 {
    right: 91.66666667%;
  }
  .col-sm-pull-10 {
    right: 83.33333333%;
  }
  .col-sm-pull-9 {
    right: 75%;
  }
  .col-sm-pull-8 {
    right: 66.66666667%;
  }
  .col-sm-pull-7 {
    right: 58.33333333%;
  }
  .col-sm-pull-6 {
    right: 50%;
  }
  .col-sm-pull-5 {
    right: 41.66666667%;
  }
  .col-sm-pull-4 {
    right: 33.33333333%;
  }
  .col-sm-pull-3 {
    right: 25%;
  }
  .col-sm-pull-2 {
    right: 16.66666667%;
  }
  .col-sm-pull-1 {
    right: 8.33333333%;
  }
  .col-sm-pull-0 {
    right: auto;
  }
  .col-sm-push-12 {
    left: 100%;
  }
  .col-sm-push-11 {
    left: 91.66666667%;
  }
  .col-sm-push-10 {
    left: 83.33333333%;
  }
  .col-sm-push-9 {
    left: 75%;
  }
  .col-sm-push-8 {
    left: 66.66666667%;
  }
  .col-sm-push-7 {
    left: 58.33333333%;
  }
  .col-sm-push-6 {
    left: 50%;
  }
  .col-sm-push-5 {
    left: 41.66666667%;
  }
  .col-sm-push-4 {
    left: 33.33333333%;
  }
  .col-sm-push-3 {
    left: 25%;
  }
  .col-sm-push-2 {
    left: 16.66666667%;
  }
  .col-sm-push-1 {
    left: 8.33333333%;
  }
  .col-sm-push-0 {
    left: auto;
  }
  .col-sm-offset-12 {
    margin-left: 100%;
  }
  .col-sm-offset-11 {
    margin-left: 91.66666667%;
  }
  .col-sm-offset-10 {
    margin-left: 83.33333333%;
  }
  .col-sm-offset-9 {
    margin-left: 75%;
  }
  .col-sm-offset-8 {
    margin-left: 66.66666667%;
  }
  .col-sm-offset-7 {
    margin-left: 58.33333333%;
  }
  .col-sm-offset-6 {
    margin-left: 50%;
  }
  .col-sm-offset-5 {
    margin-left: 41.66666667%;
  }
  .col-sm-offset-4 {
    margin-left: 33.33333333%;
  }
  .col-sm-offset-3 {
    margin-left: 25%;
  }
  .col-sm-offset-2 {
    margin-left: 16.66666667%;
  }
  .col-sm-offset-1 {
    margin-left: 8.33333333%;
  }
  .col-sm-offset-0 {
    margin-left: 0%;
  }
}
@media (min-width: 992px) {
  .col-md-1, .col-md-2, .col-md-3, .col-md-4, .col-md-5, .col-md-6, .col-md-7, .col-md-8, .col-md-9, .col-md-10, .col-md-11, .col-md-12 {
    float: left;
  }
  .col-md-12 {
    width: 100%;
  }
  .col-md-11 {
    width: 91.66666667%;
  }
  .col-md-10 {
    width: 83.33333333%;
  }
  .col-md-9 {
    width: 75%;
  }
  .col-md-8 {
    width: 66.66666667%;
  }
  .col-md-7 {
    width: 58.33333333%;
  }
  .col-md-6 {
    width: 50%;
  }
  .col-md-5 {
    width: 41.66666667%;
  }
  .col-md-4 {
    width: 33.33333333%;
  }
  .col-md-3 {
    width: 25%;
  }
  .col-md-2 {
    width: 16.66666667%;
  }
  .col-md-1 {
    width: 8.33333333%;
  }
  .col-md-pull-12 {
    right: 100%;
  }
  .col-md-pull-11 {
    right: 91.66666667%;
  }
  .col-md-pull-10 {
    right: 83.33333333%;
  }
  .col-md-pull-9 {
    right: 75%;
  }
  .col-md-pull-8 {
    right: 66.66666667%;
  }
  .col-md-pull-7 {
    right: 58.33333333%;
  }
  .col-md-pull-6 {
    right: 50%;
  }
  .col-md-pull-5 {
    right: 41.66666667%;
  }
  .col-md-pull-4 {
    right: 33.33333333%;
  }
  .col-md-pull-3 {
    right: 25%;
  }
  .col-md-pull-2 {
    right: 16.66666667%;
  }
  .col-md-pull-1 {
    right: 8.33333333%;
  }
  .col-md-pull-0 {
    right: auto;
  }
  .col-md-push-12 {
    left: 100%;
  }
  .col-md-push-11 {
    left: 91.66666667%;
  }
  .col-md-push-10 {
    left: 83.33333333%;
  }
  .col-md-push-9 {
    left: 75%;
  }
  .col-md-push-8 {
    left: 66.66666667%;
  }
  .col-md-push-7 {
    left: 58.33333333%;
  }
  .col-md-push-6 {
    left: 50%;
  }
  .col-md-push-5 {
    left: 41.66666667%;
  }
  .col-md-push-4 {
    left: 33.33333333%;
  }
  .col-md-push-3 {
    left: 25%;
  }
  .col-md-push-2 {
    left: 16.66666667%;
  }
  .col-md-push-1 {
    left: 8.33333333%;
  }
  .col-md-push-0 {
    left: auto;
  }
  .col-md-offset-12 {
    margin-left: 100%;
  }
  .col-md-offset-11 {
    margin-left: 91.66666667%;
  }
  .col-md-offset-10 {
    margin-left: 83.33333333%;
  }
  .col-md-offset-9 {
    margin-left: 75%;
  }
  .col-md-offset-8 {
    margin-left: 66.66666667%;
  }
  .col-md-offset-7 {
    margin-left: 58.33333333%;
  }
  .col-md-offset-6 {
    margin-left: 50%;
  }
  .col-md-offset-5 {
    margin-left: 41.66666667%;
  }
  .col-md-offset-4 {
    margin-left: 33.33333333%;
  }
  .col-md-offset-3 {
    margin-left: 25%;
  }
  .col-md-offset-2 {
    margin-left: 16.66666667%;
  }
  .col-md-offset-1 {
    margin-left: 8.33333333%;
  }
  .col-md-offset-0 {
    margin-left: 0%;
  }
}
@media (min-width: 1200px) {
  .col-lg-1, .col-lg-2, .col-lg-3, .col-lg-4, .col-lg-5, .col-lg-6, .col-lg-7, .col-lg-8, .col-lg-9, .col-lg-10, .col-lg-11, .col-lg-12 {
    float: left;
  }
  .col-lg-12 {
    width: 100%;
  }
  .col-lg-11 {
    width: 91.66666667%;
  }
  .col-lg-10 {
    width: 83.33333333%;
  }
  .col-lg-9 {
    width: 75%;
  }
  .col-lg-8 {
    width: 66.66666667%;
  }
  .col-lg-7 {
    width: 58.33333333%;
  }
  .col-lg-6 {
    width: 50%;
  }
  .col-lg-5 {
    width: 41.66666667%;
  }
  .col-lg-4 {
    width: 33.33333333%;
  }
  .col-lg-3 {
    width: 25%;
  }
  .col-lg-2 {
    width: 16.66666667%;
  }
  .col-lg-1 {
    width: 8.33333333%;
  }
  .col-lg-pull-12 {
    right: 100%;
  }
  .col-lg-pull-11 {
    right: 91.66666667%;
  }
  .col-lg-pull-10 {
    right: 83.33333333%;
  }
  .col-lg-pull-9 {
    right: 75%;
  }
  .col-lg-pull-8 {
    right: 66.66666667%;
  }
  .col-lg-pull-7 {
    right: 58.33333333%;
  }
  .col-lg-pull-6 {
    right: 50%;
  }
  .col-lg-pull-5 {
    right: 41.66666667%;
  }
  .col-lg-pull-4 {
    right: 33.33333333%;
  }
  .col-lg-pull-3 {
    right: 25%;
  }
  .col-lg-pull-2 {
    right: 16.66666667%;
  }
  .col-lg-pull-1 {
    right: 8.33333333%;
  }
  .col-lg-pull-0 {
    right: auto;
  }
  .col-lg-push-12 {
    left: 100%;
  }
  .col-lg-push-11 {
    left: 91.66666667%;
  }
  .col-lg-push-10 {
    left: 83.33333333%;
  }
  .col-lg-push-9 {
    left: 75%;
  }
  .col-lg-push-8 {
    left: 66.66666667%;
  }
  .col-lg-push-7 {
    left: 58.33333333%;
  }
  .col-lg-push-6 {
    left: 50%;
  }
  .col-lg-push-5 {
    left: 41.66666667%;
  }
  .col-lg-push-4 {
    left: 33.33333333%;
  }
  .col-lg-push-3 {
    left: 25%;
  }
  .col-lg-push-2 {
    left: 16.66666667%;
  }
  .col-lg-push-1 {
    left: 8.33333333%;
  }
  .col-lg-push-0 {
    left: auto;
  }
  .col-lg-offset-12 {
    margin-left: 100%;
  }
  .col-lg-offset-11 {
    margin-left: 91.66666667%;
  }
  .col-lg-offset-10 {
    margin-left: 83.33333333%;
  }
  .col-lg-offset-9 {
    margin-left: 75%;
  }
  .col-lg-offset-8 {
    margin-left: 66.66666667%;
  }
  .col-lg-offset-7 {
    margin-left: 58.33333333%;
  }
  .col-lg-offset-6 {
    margin-left: 50%;
  }
  .col-lg-offset-5 {
    margin-left: 41.66666667%;
  }
  .col-lg-offset-4 {
    margin-left: 33.33333333%;
  }
  .col-lg-offset-3 {
    margin-left: 25%;
  }
  .col-lg-offset-2 {
    margin-left: 16.66666667%;
  }
  .col-lg-offset-1 {
    margin-left: 8.33333333%;
  }
  .col-lg-offset-0 {
    margin-left: 0%;
  }
}
table {
  background-color: transparent;
}
caption {
  padding-top: 8px;
  padding-bottom: 8px;
  color: #777777;
  text-align: left;
}
th {
  text-align: left;
}
.table {
  width: 100%;
  max-width: 100%;
  margin-bottom: 18px;
}
.table > thead > tr > th,
.table > tbody > tr > th,
.table > tfoot > tr > th,
.table > thead > tr > td,
.table > tbody > tr > td,
.table > tfoot > tr > td {
  padding: 8px;
  line-height: 1.42857143;
  vertical-align: top;
  border-top: 1px solid #ddd;
}
.table > thead > tr > th {
  vertical-align: bottom;
  border-bottom: 2px solid #ddd;
}
.table > caption + thead > tr:first-child > th,
.table > colgroup + thead > tr:first-child > th,
.table > thead:first-child > tr:first-child > th,
.table > caption + thead > tr:first-child > td,
.table > colgroup + thead > tr:first-child > td,
.table > thead:first-child > tr:first-child > td {
  border-top: 0;
}
.table > tbody + tbody {
  border-top: 2px solid #ddd;
}
.table .table {
  background-color: #fff;
}
.table-condensed > thead > tr > th,
.table-condensed > tbody > tr > th,
.table-condensed > tfoot > tr > th,
.table-condensed > thead > tr > td,
.table-condensed > tbody > tr > td,
.table-condensed > tfoot > tr > td {
  padding: 5px;
}
.table-bordered {
  border: 1px solid #ddd;
}
.table-bordered > thead > tr > th,
.table-bordered > tbody > tr > th,
.table-bordered > tfoot > tr > th,
.table-bordered > thead > tr > td,
.table-bordered > tbody > tr > td,
.table-bordered > tfoot > tr > td {
  border: 1px solid #ddd;
}
.table-bordered > thead > tr > th,
.table-bordered > thead > tr > td {
  border-bottom-width: 2px;
}
.table-striped > tbody > tr:nth-of-type(odd) {
  background-color: #f9f9f9;
}
.table-hover > tbody > tr:hover {
  background-color: #f5f5f5;
}
table col[class*="col-"] {
  position: static;
  float: none;
  display: table-column;
}
table td[class*="col-"],
table th[class*="col-"] {
  position: static;
  float: none;
  display: table-cell;
}
.table > thead > tr > td.active,
.table > tbody > tr > td.active,
.table > tfoot > tr > td.active,
.table > thead > tr > th.active,
.table > tbody > tr > th.active,
.table > tfoot > tr > th.active,
.table > thead > tr.active > td,
.table > tbody > tr.active > td,
.table > tfoot > tr.active > td,
.table > thead > tr.active > th,
.table > tbody > tr.active > th,
.table > tfoot > tr.active > th {
  background-color: #f5f5f5;
}
.table-hover > tbody > tr > td.active:hover,
.table-hover > tbody > tr > th.active:hover,
.table-hover > tbody > tr.active:hover > td,
.table-hover > tbody > tr:hover > .active,
.table-hover > tbody > tr.active:hover > th {
  background-color: #e8e8e8;
}
.table > thead > tr > td.success,
.table > tbody > tr > td.success,
.table > tfoot > tr > td.success,
.table > thead > tr > th.success,
.table > tbody > tr > th.success,
.table > tfoot > tr > th.success,
.table > thead > tr.success > td,
.table > tbody > tr.success > td,
.table > tfoot > tr.success > td,
.table > thead > tr.success > th,
.table > tbody > tr.success > th,
.table > tfoot > tr.success > th {
  background-color: #dff0d8;
}
.table-hover > tbody > tr > td.success:hover,
.table-hover > tbody > tr > th.success:hover,
.table-hover > tbody > tr.success:hover > td,
.table-hover > tbody > tr:hover > .success,
.table-hover > tbody > tr.success:hover > th {
  background-color: #d0e9c6;
}
.table > thead > tr > td.info,
.table > tbody > tr > td.info,
.table > tfoot > tr > td.info,
.table > thead > tr > th.info,
.table > tbody > tr > th.info,
.table > tfoot > tr > th.info,
.table > thead > tr.info > td,
.table > tbody > tr.info > td,
.table > tfoot > tr.info > td,
.table > thead > tr.info > th,
.table > tbody > tr.info > th,
.table > tfoot > tr.info > th {
  background-color: #d9edf7;
}
.table-hover > tbody > tr > td.info:hover,
.table-hover > tbody > tr > th.info:hover,
.table-hover > tbody > tr.info:hover > td,
.table-hover > tbody > tr:hover > .info,
.table-hover > tbody > tr.info:hover > th {
  background-color: #c4e3f3;
}
.table > thead > tr > td.warning,
.table > tbody > tr > td.warning,
.table > tfoot > tr > td.warning,
.table > thead > tr > th.warning,
.table > tbody > tr > th.warning,
.table > tfoot > tr > th.warning,
.table > thead > tr.warning > td,
.table > tbody > tr.warning > td,
.table > tfoot > tr.warning > td,
.table > thead > tr.warning > th,
.table > tbody > tr.warning > th,
.table > tfoot > tr.warning > th {
  background-color: #fcf8e3;
}
.table-hover > tbody > tr > td.warning:hover,
.table-hover > tbody > tr > th.warning:hover,
.table-hover > tbody > tr.warning:hover > td,
.table-hover > tbody > tr:hover > .warning,
.table-hover > tbody > tr.warning:hover > th {
  background-color: #faf2cc;
}
.table > thead > tr > td.danger,
.table > tbody > tr > td.danger,
.table > tfoot > tr > td.danger,
.table > thead > tr > th.danger,
.table > tbody > tr > th.danger,
.table > tfoot > tr > th.danger,
.table > thead > tr.danger > td,
.table > tbody > tr.danger > td,
.table > tfoot > tr.danger > td,
.table > thead > tr.danger > th,
.table > tbody > tr.danger > th,
.table > tfoot > tr.danger > th {
  background-color: #f2dede;
}
.table-hover > tbody > tr > td.danger:hover,
.table-hover > tbody > tr > th.danger:hover,
.table-hover > tbody > tr.danger:hover > td,
.table-hover > tbody > tr:hover > .danger,
.table-hover > tbody > tr.danger:hover > th {
  background-color: #ebcccc;
}
.table-responsive {
  overflow-x: auto;
  min-height: 0.01%;
}
@media screen and (max-width: 767px) {
  .table-responsive {
    width: 100%;
    margin-bottom: 13.5px;
    overflow-y: hidden;
    -ms-overflow-style: -ms-autohiding-scrollbar;
    border: 1px solid #ddd;
  }
  .table-responsive > .table {
    margin-bottom: 0;
  }
  .table-responsive > .table > thead > tr > th,
  .table-responsive > .table > tbody > tr > th,
  .table-responsive > .table > tfoot > tr > th,
  .table-responsive > .table > thead > tr > td,
  .table-responsive > .table > tbody > tr > td,
  .table-responsive > .table > tfoot > tr > td {
    white-space: nowrap;
  }
  .table-responsive > .table-bordered {
    border: 0;
  }
  .table-responsive > .table-bordered > thead > tr > th:first-child,
  .table-responsive > .table-bordered > tbody > tr > th:first-child,
  .table-responsive > .table-bordered > tfoot > tr > th:first-child,
  .table-responsive > .table-bordered > thead > tr > td:first-child,
  .table-responsive > .table-bordered > tbody > tr > td:first-child,
  .table-responsive > .table-bordered > tfoot > tr > td:first-child {
    border-left: 0;
  }
  .table-responsive > .table-bordered > thead > tr > th:last-child,
  .table-responsive > .table-bordered > tbody > tr > th:last-child,
  .table-responsive > .table-bordered > tfoot > tr > th:last-child,
  .table-responsive > .table-bordered > thead > tr > td:last-child,
  .table-responsive > .table-bordered > tbody > tr > td:last-child,
  .table-responsive > .table-bordered > tfoot > tr > td:last-child {
    border-right: 0;
  }
  .table-responsive > .table-bordered > tbody > tr:last-child > th,
  .table-responsive > .table-bordered > tfoot > tr:last-child > th,
  .table-responsive > .table-bordered > tbody > tr:last-child > td,
  .table-responsive > .table-bordered > tfoot > tr:last-child > td {
    border-bottom: 0;
  }
}
fieldset {
  padding: 0;
  margin: 0;
  border: 0;
  min-width: 0;
}
legend {
  display: block;
  width: 100%;
  padding: 0;
  margin-bottom: 18px;
  font-size: 19.5px;
  line-height: inherit;
  color: #333333;
  border: 0;
  border-bottom: 1px solid #e5e5e5;
}
label {
  display: inline-block;
  max-width: 100%;
  margin-bottom: 5px;
  font-weight: bold;
}
input[type="search"] {
  -webkit-box-sizing: border-box;
  -moz-box-sizing: border-box;
  box-sizing: border-box;
}
input[type="radio"],
input[type="checkbox"] {
  margin: 4px 0 0;
  margin-top: 1px \9;
  line-height: normal;
}
input[type="file"] {
  display: block;
}
input[type="range"] {
  display: block;
  width: 100%;
}
select[multiple],
select[size] {
  height: auto;
}
input[type="file"]:focus,
input[type="radio"]:focus,
input[type="checkbox"]:focus {
  outline: 5px auto -webkit-focus-ring-color;
  outline-offset: -2px;
}
output {
  display: block;
  padding-top: 7px;
  font-size: 13px;
  line-height: 1.42857143;
  color: #555555;
}
.form-control {
  display: block;
  width: 100%;
  height: 32px;
  padding: 6px 12px;
  font-size: 13px;
  line-height: 1.42857143;
  color: #555555;
  background-color: #fff;
  background-image: none;
  border: 1px solid #ccc;
  border-radius: 2px;
  -webkit-box-shadow: inset 0 1px 1px rgba(0, 0, 0, 0.075);
  box-shadow: inset 0 1px 1px rgba(0, 0, 0, 0.075);
  -webkit-transition: border-color ease-in-out .15s, box-shadow ease-in-out .15s;
  -o-transition: border-color ease-in-out .15s, box-shadow ease-in-out .15s;
  transition: border-color ease-in-out .15s, box-shadow ease-in-out .15s;
}
.form-control:focus {
  border-color: #66afe9;
  outline: 0;
  -webkit-box-shadow: inset 0 1px 1px rgba(0,0,0,.075), 0 0 8px rgba(102, 175, 233, 0.6);
  box-shadow: inset 0 1px 1px rgba(0,0,0,.075), 0 0 8px rgba(102, 175, 233, 0.6);
}
.form-control::-moz-placeholder {
  color: #999;
  opacity: 1;
}
.form-control:-ms-input-placeholder {
  color: #999;
}
.form-control::-webkit-input-placeholder {
  color: #999;
}
.form-control::-ms-expand {
  border: 0;
  background-color: transparent;
}
.form-control[disabled],
.form-control[readonly],
fieldset[disabled] .form-control {
  background-color: #eeeeee;
  opacity: 1;
}
.form-control[disabled],
fieldset[disabled] .form-control {
  cursor: not-allowed;
}
textarea.form-control {
  height: auto;
}
input[type="search"] {
  -webkit-appearance: none;
}
@media screen and (-webkit-min-device-pixel-ratio: 0) {
  input[type="date"].form-control,
  input[type="time"].form-control,
  input[type="datetime-local"].form-control,
  input[type="month"].form-control {
    line-height: 32px;
  }
  input[type="date"].input-sm,
  input[type="time"].input-sm,
  input[type="datetime-local"].input-sm,
  input[type="month"].input-sm,
  .input-group-sm input[type="date"],
  .input-group-sm input[type="time"],
  .input-group-sm input[type="datetime-local"],
  .input-group-sm input[type="month"] {
    line-height: 30px;
  }
  input[type="date"].input-lg,
  input[type="time"].input-lg,
  input[type="datetime-local"].input-lg,
  input[type="month"].input-lg,
  .input-group-lg input[type="date"],
  .input-group-lg input[type="time"],
  .input-group-lg input[type="datetime-local"],
  .input-group-lg input[type="month"] {
    line-height: 45px;
  }
}
.form-group {
  margin-bottom: 15px;
}
.radio,
.checkbox {
  position: relative;
  display: block;
  margin-top: 10px;
  margin-bottom: 10px;
}
.radio label,
.checkbox label {
  min-height: 18px;
  padding-left: 20px;
  margin-bottom: 0;
  font-weight: normal;
  cursor: pointer;
}
.radio input[type="radio"],
.radio-inline input[type="radio"],
.checkbox input[type="checkbox"],
.checkbox-inline input[type="checkbox"] {
  position: absolute;
  margin-left: -20px;
  margin-top: 4px \9;
}
.radio + .radio,
.checkbox + .checkbox {
  margin-top: -5px;
}
.radio-inline,
.checkbox-inline {
  position: relative;
  display: inline-block;
  padding-left: 20px;
  margin-bottom: 0;
  vertical-align: middle;
  font-weight: normal;
  cursor: pointer;
}
.radio-inline + .radio-inline,
.checkbox-inline + .checkbox-inline {
  margin-top: 0;
  margin-left: 10px;
}
input[type="radio"][disabled],
input[type="checkbox"][disabled],
input[type="radio"].disabled,
input[type="checkbox"].disabled,
fieldset[disabled] input[type="radio"],
fieldset[disabled] input[type="checkbox"] {
  cursor: not-allowed;
}
.radio-inline.disabled,
.checkbox-inline.disabled,
fieldset[disabled] .radio-inline,
fieldset[disabled] .checkbox-inline {
  cursor: not-allowed;
}
.radio.disabled label,
.checkbox.disabled label,
fieldset[disabled] .radio label,
fieldset[disabled] .checkbox label {
  cursor: not-allowed;
}
.form-control-static {
  padding-top: 7px;
  padding-bottom: 7px;
  margin-bottom: 0;
  min-height: 31px;
}
.form-control-static.input-lg,
.form-control-static.input-sm {
  padding-left: 0;
  padding-right: 0;
}
.input-sm {
  height: 30px;
  padding: 5px 10px;
  font-size: 12px;
  line-height: 1.5;
  border-radius: 1px;
}
select.input-sm {
  height: 30px;
  line-height: 30px;
}
textarea.input-sm,
select[multiple].input-sm {
  height: auto;
}
.form-group-sm .form-control {
  height: 30px;
  padding: 5px 10px;
  font-size: 12px;
  line-height: 1.5;
  border-radius: 1px;
}
.form-group-sm select.form-control {
  height: 30px;
  line-height: 30px;
}
.form-group-sm textarea.form-control,
.form-group-sm select[multiple].form-control {
  height: auto;
}
.form-group-sm .form-control-static {
  height: 30px;
  min-height: 30px;
  padding: 6px 10px;
  font-size: 12px;
  line-height: 1.5;
}
.input-lg {
  height: 45px;
  padding: 10px 16px;
  font-size: 17px;
  line-height: 1.3333333;
  border-radius: 3px;
}
select.input-lg {
  height: 45px;
  line-height: 45px;
}
textarea.input-lg,
select[multiple].input-lg {
  height: auto;
}
.form-group-lg .form-control {
  height: 45px;
  padding: 10px 16px;
  font-size: 17px;
  line-height: 1.3333333;
  border-radius: 3px;
}
.form-group-lg select.form-control {
  height: 45px;
  line-height: 45px;
}
.form-group-lg textarea.form-control,
.form-group-lg select[multiple].form-control {
  height: auto;
}
.form-group-lg .form-control-static {
  height: 45px;
  min-height: 35px;
  padding: 11px 16px;
  font-size: 17px;
  line-height: 1.3333333;
}
.has-feedback {
  position: relative;
}
.has-feedback .form-control {
  padding-right: 40px;
}
.form-control-feedback {
  position: absolute;
  top: 0;
  right: 0;
  z-index: 2;
  display: block;
  width: 32px;
  height: 32px;
  line-height: 32px;
  text-align: center;
  pointer-events: none;
}
.input-lg + .form-control-feedback,
.input-group-lg + .form-control-feedback,
.form-group-lg .form-control + .form-control-feedback {
  width: 45px;
  height: 45px;
  line-height: 45px;
}
.input-sm + .form-control-feedback,
.input-group-sm + .form-control-feedback,
.form-group-sm .form-control + .form-control-feedback {
  width: 30px;
  height: 30px;
  line-height: 30px;
}
.has-success .help-block,
.has-success .control-label,
.has-success .radio,
.has-success .checkbox,
.has-success .radio-inline,
.has-success .checkbox-inline,
.has-success.radio label,
.has-success.checkbox label,
.has-success.radio-inline label,
.has-success.checkbox-inline label {
  color: #3c763d;
}
.has-success .form-control {
  border-color: #3c763d;
  -webkit-box-shadow: inset 0 1px 1px rgba(0, 0, 0, 0.075);
  box-shadow: inset 0 1px 1px rgba(0, 0, 0, 0.075);
}
.has-success .form-control:focus {
  border-color: #2b542c;
  -webkit-box-shadow: inset 0 1px 1px rgba(0, 0, 0, 0.075), 0 0 6px #67b168;
  box-shadow: inset 0 1px 1px rgba(0, 0, 0, 0.075), 0 0 6px #67b168;
}
.has-success .input-group-addon {
  color: #3c763d;
  border-color: #3c763d;
  background-color: #dff0d8;
}
.has-success .form-control-feedback {
  color: #3c763d;
}
.has-warning .help-block,
.has-warning .control-label,
.has-warning .radio,
.has-warning .checkbox,
.has-warning .radio-inline,
.has-warning .checkbox-inline,
.has-warning.radio label,
.has-warning.checkbox label,
.has-warning.radio-inline label,
.has-warning.checkbox-inline label {
  color: #8a6d3b;
}
.has-warning .form-control {
  border-color: #8a6d3b;
  -webkit-box-shadow: inset 0 1px 1px rgba(0, 0, 0, 0.075);
  box-shadow: inset 0 1px 1px rgba(0, 0, 0, 0.075);
}
.has-warning .form-control:focus {
  border-color: #66512c;
  -webkit-box-shadow: inset 0 1px 1px rgba(0, 0, 0, 0.075), 0 0 6px #c0a16b;
  box-shadow: inset 0 1px 1px rgba(0, 0, 0, 0.075), 0 0 6px #c0a16b;
}
.has-warning .input-group-addon {
  color: #8a6d3b;
  border-color: #8a6d3b;
  background-color: #fcf8e3;
}
.has-warning .form-control-feedback {
  color: #8a6d3b;
}
.has-error .help-block,
.has-error .control-label,
.has-error .radio,
.has-error .checkbox,
.has-error .radio-inline,
.has-error .checkbox-inline,
.has-error.radio label,
.has-error.checkbox label,
.has-error.radio-inline label,
.has-error.checkbox-inline label {
  color: #a94442;
}
.has-error .form-control {
  border-color: #a94442;
  -webkit-box-shadow: inset 0 1px 1px rgba(0, 0, 0, 0.075);
  box-shadow: inset 0 1px 1px rgba(0, 0, 0, 0.075);
}
.has-error .form-control:focus {
  border-color: #843534;
  -webkit-box-shadow: inset 0 1px 1px rgba(0, 0, 0, 0.075), 0 0 6px #ce8483;
  box-shadow: inset 0 1px 1px rgba(0, 0, 0, 0.075), 0 0 6px #ce8483;
}
.has-error .input-group-addon {
  color: #a94442;
  border-color: #a94442;
  background-color: #f2dede;
}
.has-error .form-control-feedback {
  color: #a94442;
}
.has-feedback label ~ .form-control-feedback {
  top: 23px;
}
.has-feedback label.sr-only ~ .form-control-feedback {
  top: 0;
}
.help-block {
  display: block;
  margin-top: 5px;
  margin-bottom: 10px;
  color: #404040;
}
@media (min-width: 768px) {
  .form-inline .form-group {
    display: inline-block;
    margin-bottom: 0;
    vertical-align: middle;
  }
  .form-inline .form-control {
    display: inline-block;
    width: auto;
    vertical-align: middle;
  }
  .form-inline .form-control-static {
    display: inline-block;
  }
  .form-inline .input-group {
    display: inline-table;
    vertical-align: middle;
  }
  .form-inline .input-group .input-group-addon,
  .form-inline .input-group .input-group-btn,
  .form-inline .input-group .form-control {
    width: auto;
  }
  .form-inline .input-group > .form-control {
    width: 100%;
  }
  .form-inline .control-label {
    margin-bottom: 0;
    vertical-align: middle;
  }
  .form-inline .radio,
  .form-inline .checkbox {
    display: inline-block;
    margin-top: 0;
    margin-bottom: 0;
    vertical-align: middle;
  }
  .form-inline .radio label,
  .form-inline .checkbox label {
    padding-left: 0;
  }
  .form-inline .radio input[type="radio"],
  .form-inline .checkbox input[type="checkbox"] {
    position: relative;
    margin-left: 0;
  }
  .form-inline .has-feedback .form-control-feedback {
    top: 0;
  }
}
.form-horizontal .radio,
.form-horizontal .checkbox,
.form-horizontal .radio-inline,
.form-horizontal .checkbox-inline {
  margin-top: 0;
  margin-bottom: 0;
  padding-top: 7px;
}
.form-horizontal .radio,
.form-horizontal .checkbox {
  min-height: 25px;
}
.form-horizontal .form-group {
  margin-left: 0px;
  margin-right: 0px;
}
@media (min-width: 768px) {
  .form-horizontal .control-label {
    text-align: right;
    margin-bottom: 0;
    padding-top: 7px;
  }
}
.form-horizontal .has-feedback .form-control-feedback {
  right: 0px;
}
@media (min-width: 768px) {
  .form-horizontal .form-group-lg .control-label {
    padding-top: 11px;
    font-size: 17px;
  }
}
@media (min-width: 768px) {
  .form-horizontal .form-group-sm .control-label {
    padding-top: 6px;
    font-size: 12px;
  }
}
.btn {
  display: inline-block;
  margin-bottom: 0;
  font-weight: normal;
  text-align: center;
  vertical-align: middle;
  touch-action: manipulation;
  cursor: pointer;
  background-image: none;
  border: 1px solid transparent;
  white-space: nowrap;
  padding: 6px 12px;
  font-size: 13px;
  line-height: 1.42857143;
  border-radius: 2px;
  -webkit-user-select: none;
  -moz-user-select: none;
  -ms-user-select: none;
  user-select: none;
}
.btn:focus,
.btn:active:focus,
.btn.active:focus,
.btn.focus,
.btn:active.focus,
.btn.active.focus {
  outline: 5px auto -webkit-focus-ring-color;
  outline-offset: -2px;
}
.btn:hover,
.btn:focus,
.btn.focus {
  color: #333;
  text-decoration: none;
}
.btn:active,
.btn.active {
  outline: 0;
  background-image: none;
  -webkit-box-shadow: inset 0 3px 5px rgba(0, 0, 0, 0.125);
  box-shadow: inset 0 3px 5px rgba(0, 0, 0, 0.125);
}
.btn.disabled,
.btn[disabled],
fieldset[disabled] .btn {
  cursor: not-allowed;
  opacity: 0.65;
  filter: alpha(opacity=65);
  -webkit-box-shadow: none;
  box-shadow: none;
}
a.btn.disabled,
fieldset[disabled] a.btn {
  pointer-events: none;
}
.btn-default {
  color: #333;
  background-color: #fff;
  border-color: #ccc;
}
.btn-default:focus,
.btn-default.focus {
  color: #333;
  background-color: #e6e6e6;
  border-color: #8c8c8c;
}
.btn-default:hover {
  color: #333;
  background-color: #e6e6e6;
  border-color: #adadad;
}
.btn-default:active,
.btn-default.active,
.open > .dropdown-toggle.btn-default {
  color: #333;
  background-color: #e6e6e6;
  border-color: #adadad;
}
.btn-default:active:hover,
.btn-default.active:hover,
.open > .dropdown-toggle.btn-default:hover,
.btn-default:active:focus,
.btn-default.active:focus,
.open > .dropdown-toggle.btn-default:focus,
.btn-default:active.focus,
.btn-default.active.focus,
.open > .dropdown-toggle.btn-default.focus {
  color: #333;
  background-color: #d4d4d4;
  border-color: #8c8c8c;
}
.btn-default:active,
.btn-default.active,
.open > .dropdown-toggle.btn-default {
  background-image: none;
}
.btn-default.disabled:hover,
.btn-default[disabled]:hover,
fieldset[disabled] .btn-default:hover,
.btn-default.disabled:focus,
.btn-default[disabled]:focus,
fieldset[disabled] .btn-default:focus,
.btn-default.disabled.focus,
.btn-default[disabled].focus,
fieldset[disabled] .btn-default.focus {
  background-color: #fff;
  border-color: #ccc;
}
.btn-default .badge {
  color: #fff;
  background-color: #333;
}
.btn-primary {
  color: #fff;
  background-color: #337ab7;
  border-color: #2e6da4;
}
.btn-primary:focus,
.btn-primary.focus {
  color: #fff;
  background-color: #286090;
  border-color: #122b40;
}
.btn-primary:hover {
  color: #fff;
  background-color: #286090;
  border-color: #204d74;
}
.btn-primary:active,
.btn-primary.active,
.open > .dropdown-toggle.btn-primary {
  color: #fff;
  background-color: #286090;
  border-color: #204d74;
}
.btn-primary:active:hover,
.btn-primary.active:hover,
.open > .dropdown-toggle.btn-primary:hover,
.btn-primary:active:focus,
.btn-primary.active:focus,
.open > .dropdown-toggle.btn-primary:focus,
.btn-primary:active.focus,
.btn-primary.active.focus,
.open > .dropdown-toggle.btn-primary.focus {
  color: #fff;
  background-color: #204d74;
  border-color: #122b40;
}
.btn-primary:active,
.btn-primary.active,
.open > .dropdown-toggle.btn-primary {
  background-image: none;
}
.btn-primary.disabled:hover,
.btn-primary[disabled]:hover,
fieldset[disabled] .btn-primary:hover,
.btn-primary.disabled:focus,
.btn-primary[disabled]:focus,
fieldset[disabled] .btn-primary:focus,
.btn-primary.disabled.focus,
.btn-primary[disabled].focus,
fieldset[disabled] .btn-primary.focus {
  background-color: #337ab7;
  border-color: #2e6da4;
}
.btn-primary .badge {
  color: #337ab7;
  background-color: #fff;
}
.btn-success {
  color: #fff;
  background-color: #5cb85c;
  border-color: #4cae4c;
}
.btn-success:focus,
.btn-success.focus {
  color: #fff;
  background-color: #449d44;
  border-color: #255625;
}
.btn-success:hover {
  color: #fff;
  background-color: #449d44;
  border-color: #398439;
}
.btn-success:active,
.btn-success.active,
.open > .dropdown-toggle.btn-success {
  color: #fff;
  background-color: #449d44;
  border-color: #398439;
}
.btn-success:active:hover,
.btn-success.active:hover,
.open > .dropdown-toggle.btn-success:hover,
.btn-success:active:focus,
.btn-success.active:focus,
.open > .dropdown-toggle.btn-success:focus,
.btn-success:active.focus,
.btn-success.active.focus,
.open > .dropdown-toggle.btn-success.focus {
  color: #fff;
  background-color: #398439;
  border-color: #255625;
}
.btn-success:active,
.btn-success.active,
.open > .dropdown-toggle.btn-success {
  background-image: none;
}
.btn-success.disabled:hover,
.btn-success[disabled]:hover,
fieldset[disabled] .btn-success:hover,
.btn-success.disabled:focus,
.btn-success[disabled]:focus,
fieldset[disabled] .btn-success:focus,
.btn-success.disabled.focus,
.btn-success[disabled].focus,
fieldset[disabled] .btn-success.focus {
  background-color: #5cb85c;
  border-color: #4cae4c;
}
.btn-success .badge {
  color: #5cb85c;
  background-color: #fff;
}
.btn-info {
  color: #fff;
  background-color: #5bc0de;
  border-color: #46b8da;
}
.btn-info:focus,
.btn-info.focus {
  color: #fff;
  background-color: #31b0d5;
  border-color: #1b6d85;
}
.btn-info:hover {
  color: #fff;
  background-color: #31b0d5;
  border-color: #269abc;
}
.btn-info:active,
.btn-info.active,
.open > .dropdown-toggle.btn-info {
  color: #fff;
  background-color: #31b0d5;
  border-color: #269abc;
}
.btn-info:active:hover,
.btn-info.active:hover,
.open > .dropdown-toggle.btn-info:hover,
.btn-info:active:focus,
.btn-info.active:focus,
.open > .dropdown-toggle.btn-info:focus,
.btn-info:active.focus,
.btn-info.active.focus,
.open > .dropdown-toggle.btn-info.focus {
  color: #fff;
  background-color: #269abc;
  border-color: #1b6d85;
}
.btn-info:active,
.btn-info.active,
.open > .dropdown-toggle.btn-info {
  background-image: none;
}
.btn-info.disabled:hover,
.btn-info[disabled]:hover,
fieldset[disabled] .btn-info:hover,
.btn-info.disabled:focus,
.btn-info[disabled]:focus,
fieldset[disabled] .btn-info:focus,
.btn-info.disabled.focus,
.btn-info[disabled].focus,
fieldset[disabled] .btn-info.focus {
  background-color: #5bc0de;
  border-color: #46b8da;
}
.btn-info .badge {
  color: #5bc0de;
  background-color: #fff;
}
.btn-warning {
  color: #fff;
  background-color: #f0ad4e;
  border-color: #eea236;
}
.btn-warning:focus,
.btn-warning.focus {
  color: #fff;
  background-color: #ec971f;
  border-color: #985f0d;
}
.btn-warning:hover {
  color: #fff;
  background-color: #ec971f;
  border-color: #d58512;
}
.btn-warning:active,
.btn-warning.active,
.open > .dropdown-toggle.btn-warning {
  color: #fff;
  background-color: #ec971f;
  border-color: #d58512;
}
.btn-warning:active:hover,
.btn-warning.active:hover,
.open > .dropdown-toggle.btn-warning:hover,
.btn-warning:active:focus,
.btn-warning.active:focus,
.open > .dropdown-toggle.btn-warning:focus,
.btn-warning:active.focus,
.btn-warning.active.focus,
.open > .dropdown-toggle.btn-warning.focus {
  color: #fff;
  background-color: #d58512;
  border-color: #985f0d;
}
.btn-warning:active,
.btn-warning.active,
.open > .dropdown-toggle.btn-warning {
  background-image: none;
}
.btn-warning.disabled:hover,
.btn-warning[disabled]:hover,
fieldset[disabled] .btn-warning:hover,
.btn-warning.disabled:focus,
.btn-warning[disabled]:focus,
fieldset[disabled] .btn-warning:focus,
.btn-warning.disabled.focus,
.btn-warning[disabled].focus,
fieldset[disabled] .btn-warning.focus {
  background-color: #f0ad4e;
  border-color: #eea236;
}
.btn-warning .badge {
  color: #f0ad4e;
  background-color: #fff;
}
.btn-danger {
  color: #fff;
  background-color: #d9534f;
  border-color: #d43f3a;
}
.btn-danger:focus,
.btn-danger.focus {
  color: #fff;
  background-color: #c9302c;
  border-color: #761c19;
}
.btn-danger:hover {
  color: #fff;
  background-color: #c9302c;
  border-color: #ac2925;
}
.btn-danger:active,
.btn-danger.active,
.open > .dropdown-toggle.btn-danger {
  color: #fff;
  background-color: #c9302c;
  border-color: #ac2925;
}
.btn-danger:active:hover,
.btn-danger.active:hover,
.open > .dropdown-toggle.btn-danger:hover,
.btn-danger:active:focus,
.btn-danger.active:focus,
.open > .dropdown-toggle.btn-danger:focus,
.btn-danger:active.focus,
.btn-danger.active.focus,
.open > .dropdown-toggle.btn-danger.focus {
  color: #fff;
  background-color: #ac2925;
  border-color: #761c19;
}
.btn-danger:active,
.btn-danger.active,
.open > .dropdown-toggle.btn-danger {
  background-image: none;
}
.btn-danger.disabled:hover,
.btn-danger[disabled]:hover,
fieldset[disabled] .btn-danger:hover,
.btn-danger.disabled:focus,
.btn-danger[disabled]:focus,
fieldset[disabled] .btn-danger:focus,
.btn-danger.disabled.focus,
.btn-danger[disabled].focus,
fieldset[disabled] .btn-danger.focus {
  background-color: #d9534f;
  border-color: #d43f3a;
}
.btn-danger .badge {
  color: #d9534f;
  background-color: #fff;
}
.btn-link {
  color: #337ab7;
  font-weight: normal;
  border-radius: 0;
}
.btn-link,
.btn-link:active,
.btn-link.active,
.btn-link[disabled],
fieldset[disabled] .btn-link {
  background-color: transparent;
  -webkit-box-shadow: none;
  box-shadow: none;
}
.btn-link,
.btn-link:hover,
.btn-link:focus,
.btn-link:active {
  border-color: transparent;
}
.btn-link:hover,
.btn-link:focus {
  color: #23527c;
  text-decoration: underline;
  background-color: transparent;
}
.btn-link[disabled]:hover,
fieldset[disabled] .btn-link:hover,
.btn-link[disabled]:focus,
fieldset[disabled] .btn-link:focus {
  color: #777777;
  text-decoration: none;
}
.btn-lg,
.btn-group-lg > .btn {
  padding: 10px 16px;
  font-size: 17px;
  line-height: 1.3333333;
  border-radius: 3px;
}
.btn-sm,
.btn-group-sm > .btn {
  padding: 5px 10px;
  font-size: 12px;
  line-height: 1.5;
  border-radius: 1px;
}
.btn-xs,
.btn-group-xs > .btn {
  padding: 1px 5px;
  font-size: 12px;
  line-height: 1.5;
  border-radius: 1px;
}
.btn-block {
  display: block;
  width: 100%;
}
.btn-block + .btn-block {
  margin-top: 5px;
}
input[type="submit"].btn-block,
input[type="reset"].btn-block,
input[type="button"].btn-block {
  width: 100%;
}
.fade {
  opacity: 0;
  -webkit-transition: opacity 0.15s linear;
  -o-transition: opacity 0.15s linear;
  transition: opacity 0.15s linear;
}
.fade.in {
  opacity: 1;
}
.collapse {
  display: none;
}
.collapse.in {
  display: block;
}
tr.collapse.in {
  display: table-row;
}
tbody.collapse.in {
  display: table-row-group;
}
.collapsing {
  position: relative;
  height: 0;
  overflow: hidden;
  -webkit-transition-property: height, visibility;
  transition-property: height, visibility;
  -webkit-transition-duration: 0.35s;
  transition-duration: 0.35s;
  -webkit-transition-timing-function: ease;
  transition-timing-function: ease;
}
.caret {
  display: inline-block;
  width: 0;
  height: 0;
  margin-left: 2px;
  vertical-align: middle;
  border-top: 4px dashed;
  border-top: 4px solid \9;
  border-right: 4px solid transparent;
  border-left: 4px solid transparent;
}
.dropup,
.dropdown {
  position: relative;
}
.dropdown-toggle:focus {
  outline: 0;
}
.dropdown-menu {
  position: absolute;
  top: 100%;
  left: 0;
  z-index: 1000;
  display: none;
  float: left;
  min-width: 160px;
  padding: 5px 0;
  margin: 2px 0 0;
  list-style: none;
  font-size: 13px;
  text-align: left;
  background-color: #fff;
  border: 1px solid #ccc;
  border: 1px solid rgba(0, 0, 0, 0.15);
  border-radius: 2px;
  -webkit-box-shadow: 0 6px 12px rgba(0, 0, 0, 0.175);
  box-shadow: 0 6px 12px rgba(0, 0, 0, 0.175);
  background-clip: padding-box;
}
.dropdown-menu.pull-right {
  right: 0;
  left: auto;
}
.dropdown-menu .divider {
  height: 1px;
  margin: 8px 0;
  overflow: hidden;
  background-color: #e5e5e5;
}
.dropdown-menu > li > a {
  display: block;
  padding: 3px 20px;
  clear: both;
  font-weight: normal;
  line-height: 1.42857143;
  color: #333333;
  white-space: nowrap;
}
.dropdown-menu > li > a:hover,
.dropdown-menu > li > a:focus {
  text-decoration: none;
  color: #262626;
  background-color: #f5f5f5;
}
.dropdown-menu > .active > a,
.dropdown-menu > .active > a:hover,
.dropdown-menu > .active > a:focus {
  color: #fff;
  text-decoration: none;
  outline: 0;
  background-color: #337ab7;
}
.dropdown-menu > .disabled > a,
.dropdown-menu > .disabled > a:hover,
.dropdown-menu > .disabled > a:focus {
  color: #777777;
}
.dropdown-menu > .disabled > a:hover,
.dropdown-menu > .disabled > a:focus {
  text-decoration: none;
  background-color: transparent;
  background-image: none;
  filter: progid:DXImageTransform.Microsoft.gradient(enabled = false);
  cursor: not-allowed;
}
.open > .dropdown-menu {
  display: block;
}
.open > a {
  outline: 0;
}
.dropdown-menu-right {
  left: auto;
  right: 0;
}
.dropdown-menu-left {
  left: 0;
  right: auto;
}
.dropdown-header {
  display: block;
  padding: 3px 20px;
  font-size: 12px;
  line-height: 1.42857143;
  color: #777777;
  white-space: nowrap;
}
.dropdown-backdrop {
  position: fixed;
  left: 0;
  right: 0;
  bottom: 0;
  top: 0;
  z-index: 990;
}
.pull-right > .dropdown-menu {
  right: 0;
  left: auto;
}
.dropup .caret,
.navbar-fixed-bottom .dropdown .caret {
  border-top: 0;
  border-bottom: 4px dashed;
  border-bottom: 4px solid \9;
  content: "";
}
.dropup .dropdown-menu,
.navbar-fixed-bottom .dropdown .dropdown-menu {
  top: auto;
  bottom: 100%;
  margin-bottom: 2px;
}
@media (min-width: 541px) {
  .navbar-right .dropdown-menu {
    left: auto;
    right: 0;
  }
  .navbar-right .dropdown-menu-left {
    left: 0;
    right: auto;
  }
}
.btn-group,
.btn-group-vertical {
  position: relative;
  display: inline-block;
  vertical-align: middle;
}
.btn-group > .btn,
.btn-group-vertical > .btn {
  position: relative;
  float: left;
}
.btn-group > .btn:hover,
.btn-group-vertical > .btn:hover,
.btn-group > .btn:focus,
.btn-group-vertical > .btn:focus,
.btn-group > .btn:active,
.btn-group-vertical > .btn:active,
.btn-group > .btn.active,
.btn-group-vertical > .btn.active {
  z-index: 2;
}
.btn-group .btn + .btn,
.btn-group .btn + .btn-group,
.btn-group .btn-group + .btn,
.btn-group .btn-group + .btn-group {
  margin-left: -1px;
}
.btn-toolbar {
  margin-left: -5px;
}
.btn-toolbar .btn,
.btn-toolbar .btn-group,
.btn-toolbar .input-group {
  float: left;
}
.btn-toolbar > .btn,
.btn-toolbar > .btn-group,
.btn-toolbar > .input-group {
  margin-left: 5px;
}
.btn-group > .btn:not(:first-child):not(:last-child):not(.dropdown-toggle) {
  border-radius: 0;
}
.btn-group > .btn:first-child {
  margin-left: 0;
}
.btn-group > .btn:first-child:not(:last-child):not(.dropdown-toggle) {
  border-bottom-right-radius: 0;
  border-top-right-radius: 0;
}
.btn-group > .btn:last-child:not(:first-child),
.btn-group > .dropdown-toggle:not(:first-child) {
  border-bottom-left-radius: 0;
  border-top-left-radius: 0;
}
.btn-group > .btn-group {
  float: left;
}
.btn-group > .btn-group:not(:first-child):not(:last-child) > .btn {
  border-radius: 0;
}
.btn-group > .btn-group:first-child:not(:last-child) > .btn:last-child,
.btn-group > .btn-group:first-child:not(:last-child) > .dropdown-toggle {
  border-bottom-right-radius: 0;
  border-top-right-radius: 0;
}
.btn-group > .btn-group:last-child:not(:first-child) > .btn:first-child {
  border-bottom-left-radius: 0;
  border-top-left-radius: 0;
}
.btn-group .dropdown-toggle:active,
.btn-group.open .dropdown-toggle {
  outline: 0;
}
.btn-group > .btn + .dropdown-toggle {
  padding-left: 8px;
  padding-right: 8px;
}
.btn-group > .btn-lg + .dropdown-toggle {
  padding-left: 12px;
  padding-right: 12px;
}
.btn-group.open .dropdown-toggle {
  -webkit-box-shadow: inset 0 3px 5px rgba(0, 0, 0, 0.125);
  box-shadow: inset 0 3px 5px rgba(0, 0, 0, 0.125);
}
.btn-group.open .dropdown-toggle.btn-link {
  -webkit-box-shadow: none;
  box-shadow: none;
}
.btn .caret {
  margin-left: 0;
}
.btn-lg .caret {
  border-width: 5px 5px 0;
  border-bottom-width: 0;
}
.dropup .btn-lg .caret {
  border-width: 0 5px 5px;
}
.btn-group-vertical > .btn,
.btn-group-vertical > .btn-group,
.btn-group-vertical > .btn-group > .btn {
  display: block;
  float: none;
  width: 100%;
  max-width: 100%;
}
.btn-group-vertical > .btn-group > .btn {
  float: none;
}
.btn-group-vertical > .btn + .btn,
.btn-group-vertical > .btn + .btn-group,
.btn-group-vertical > .btn-group + .btn,
.btn-group-vertical > .btn-group + .btn-group {
  margin-top: -1px;
  margin-left: 0;
}
.btn-group-vertical > .btn:not(:first-child):not(:last-child) {
  border-radius: 0;
}
.btn-group-vertical > .btn:first-child:not(:last-child) {
  border-top-right-radius: 2px;
  border-top-left-radius: 2px;
  border-bottom-right-radius: 0;
  border-bottom-left-radius: 0;
}
.btn-group-vertical > .btn:last-child:not(:first-child) {
  border-top-right-radius: 0;
  border-top-left-radius: 0;
  border-bottom-right-radius: 2px;
  border-bottom-left-radius: 2px;
}
.btn-group-vertical > .btn-group:not(:first-child):not(:last-child) > .btn {
  border-radius: 0;
}
.btn-group-vertical > .btn-group:first-child:not(:last-child) > .btn:last-child,
.btn-group-vertical > .btn-group:first-child:not(:last-child) > .dropdown-toggle {
  border-bottom-right-radius: 0;
  border-bottom-left-radius: 0;
}
.btn-group-vertical > .btn-group:last-child:not(:first-child) > .btn:first-child {
  border-top-right-radius: 0;
  border-top-left-radius: 0;
}
.btn-group-justified {
  display: table;
  width: 100%;
  table-layout: fixed;
  border-collapse: separate;
}
.btn-group-justified > .btn,
.btn-group-justified > .btn-group {
  float: none;
  display: table-cell;
  width: 1%;
}
.btn-group-justified > .btn-group .btn {
  width: 100%;
}
.btn-group-justified > .btn-group .dropdown-menu {
  left: auto;
}
[data-toggle="buttons"] > .btn input[type="radio"],
[data-toggle="buttons"] > .btn-group > .btn input[type="radio"],
[data-toggle="buttons"] > .btn input[type="checkbox"],
[data-toggle="buttons"] > .btn-group > .btn input[type="checkbox"] {
  position: absolute;
  clip: rect(0, 0, 0, 0);
  pointer-events: none;
}
.input-group {
  position: relative;
  display: table;
  border-collapse: separate;
}
.input-group[class*="col-"] {
  float: none;
  padding-left: 0;
  padding-right: 0;
}
.input-group .form-control {
  position: relative;
  z-index: 2;
  float: left;
  width: 100%;
  margin-bottom: 0;
}
.input-group .form-control:focus {
  z-index: 3;
}
.input-group-lg > .form-control,
.input-group-lg > .input-group-addon,
.input-group-lg > .input-group-btn > .btn {
  height: 45px;
  padding: 10px 16px;
  font-size: 17px;
  line-height: 1.3333333;
  border-radius: 3px;
}
select.input-group-lg > .form-control,
select.input-group-lg > .input-group-addon,
select.input-group-lg > .input-group-btn > .btn {
  height: 45px;
  line-height: 45px;
}
textarea.input-group-lg > .form-control,
textarea.input-group-lg > .input-group-addon,
textarea.input-group-lg > .input-group-btn > .btn,
select[multiple].input-group-lg > .form-control,
select[multiple].input-group-lg > .input-group-addon,
select[multiple].input-group-lg > .input-group-btn > .btn {
  height: auto;
}
.input-group-sm > .form-control,
.input-group-sm > .input-group-addon,
.input-group-sm > .input-group-btn > .btn {
  height: 30px;
  padding: 5px 10px;
  font-size: 12px;
  line-height: 1.5;
  border-radius: 1px;
}
select.input-group-sm > .form-control,
select.input-group-sm > .input-group-addon,
select.input-group-sm > .input-group-btn > .btn {
  height: 30px;
  line-height: 30px;
}
textarea.input-group-sm > .form-control,
textarea.input-group-sm > .input-group-addon,
textarea.input-group-sm > .input-group-btn > .btn,
select[multiple].input-group-sm > .form-control,
select[multiple].input-group-sm > .input-group-addon,
select[multiple].input-group-sm > .input-group-btn > .btn {
  height: auto;
}
.input-group-addon,
.input-group-btn,
.input-group .form-control {
  display: table-cell;
}
.input-group-addon:not(:first-child):not(:last-child),
.input-group-btn:not(:first-child):not(:last-child),
.input-group .form-control:not(:first-child):not(:last-child) {
  border-radius: 0;
}
.input-group-addon,
.input-group-btn {
  width: 1%;
  white-space: nowrap;
  vertical-align: middle;
}
.input-group-addon {
  padding: 6px 12px;
  font-size: 13px;
  font-weight: normal;
  line-height: 1;
  color: #555555;
  text-align: center;
  background-color: #eeeeee;
  border: 1px solid #ccc;
  border-radius: 2px;
}
.input-group-addon.input-sm {
  padding: 5px 10px;
  font-size: 12px;
  border-radius: 1px;
}
.input-group-addon.input-lg {
  padding: 10px 16px;
  font-size: 17px;
  border-radius: 3px;
}
.input-group-addon input[type="radio"],
.input-group-addon input[type="checkbox"] {
  margin-top: 0;
}
.input-group .form-control:first-child,
.input-group-addon:first-child,
.input-group-btn:first-child > .btn,
.input-group-btn:first-child > .btn-group > .btn,
.input-group-btn:first-child > .dropdown-toggle,
.input-group-btn:last-child > .btn:not(:last-child):not(.dropdown-toggle),
.input-group-btn:last-child > .btn-group:not(:last-child) > .btn {
  border-bottom-right-radius: 0;
  border-top-right-radius: 0;
}
.input-group-addon:first-child {
  border-right: 0;
}
.input-group .form-control:last-child,
.input-group-addon:last-child,
.input-group-btn:last-child > .btn,
.input-group-btn:last-child > .btn-group > .btn,
.input-group-btn:last-child > .dropdown-toggle,
.input-group-btn:first-child > .btn:not(:first-child),
.input-group-btn:first-child > .btn-group:not(:first-child) > .btn {
  border-bottom-left-radius: 0;
  border-top-left-radius: 0;
}
.input-group-addon:last-child {
  border-left: 0;
}
.input-group-btn {
  position: relative;
  font-size: 0;
  white-space: nowrap;
}
.input-group-btn > .btn {
  position: relative;
}
.input-group-btn > .btn + .btn {
  margin-left: -1px;
}
.input-group-btn > .btn:hover,
.input-group-btn > .btn:focus,
.input-group-btn > .btn:active {
  z-index: 2;
}
.input-group-btn:first-child > .btn,
.input-group-btn:first-child > .btn-group {
  margin-right: -1px;
}
.input-group-btn:last-child > .btn,
.input-group-btn:last-child > .btn-group {
  z-index: 2;
  margin-left: -1px;
}
.nav {
  margin-bottom: 0;
  padding-left: 0;
  list-style: none;
}
.nav > li {
  position: relative;
  display: block;
}
.nav > li > a {
  position: relative;
  display: block;
  padding: 10px 15px;
}
.nav > li > a:hover,
.nav > li > a:focus {
  text-decoration: none;
  background-color: #eeeeee;
}
.nav > li.disabled > a {
  color: #777777;
}
.nav > li.disabled > a:hover,
.nav > li.disabled > a:focus {
  color: #777777;
  text-decoration: none;
  background-color: transparent;
  cursor: not-allowed;
}
.nav .open > a,
.nav .open > a:hover,
.nav .open > a:focus {
  background-color: #eeeeee;
  border-color: #337ab7;
}
.nav .nav-divider {
  height: 1px;
  margin: 8px 0;
  overflow: hidden;
  background-color: #e5e5e5;
}
.nav > li > a > img {
  max-width: none;
}
.nav-tabs {
  border-bottom: 1px solid #ddd;
}
.nav-tabs > li {
  float: left;
  margin-bottom: -1px;
}
.nav-tabs > li > a {
  margin-right: 2px;
  line-height: 1.42857143;
  border: 1px solid transparent;
  border-radius: 2px 2px 0 0;
}
.nav-tabs > li > a:hover {
  border-color: #eeeeee #eeeeee #ddd;
}
.nav-tabs > li.active > a,
.nav-tabs > li.active > a:hover,
.nav-tabs > li.active > a:focus {
  color: #555555;
  background-color: #fff;
  border: 1px solid #ddd;
  border-bottom-color: transparent;
  cursor: default;
}
.nav-tabs.nav-justified {
  width: 100%;
  border-bottom: 0;
}
.nav-tabs.nav-justified > li {
  float: none;
}
.nav-tabs.nav-justified > li > a {
  text-align: center;
  margin-bottom: 5px;
}
.nav-tabs.nav-justified > .dropdown .dropdown-menu {
  top: auto;
  left: auto;
}
@media (min-width: 768px) {
  .nav-tabs.nav-justified > li {
    display: table-cell;
    width: 1%;
  }
  .nav-tabs.nav-justified > li > a {
    margin-bottom: 0;
  }
}
.nav-tabs.nav-justified > li > a {
  margin-right: 0;
  border-radius: 2px;
}
.nav-tabs.nav-justified > .active > a,
.nav-tabs.nav-justified > .active > a:hover,
.nav-tabs.nav-justified > .active > a:focus {
  border: 1px solid #ddd;
}
@media (min-width: 768px) {
  .nav-tabs.nav-justified > li > a {
    border-bottom: 1px solid #ddd;
    border-radius: 2px 2px 0 0;
  }
  .nav-tabs.nav-justified > .active > a,
  .nav-tabs.nav-justified > .active > a:hover,
  .nav-tabs.nav-justified > .active > a:focus {
    border-bottom-color: #fff;
  }
}
.nav-pills > li {
  float: left;
}
.nav-pills > li > a {
  border-radius: 2px;
}
.nav-pills > li + li {
  margin-left: 2px;
}
.nav-pills > li.active > a,
.nav-pills > li.active > a:hover,
.nav-pills > li.active > a:focus {
  color: #fff;
  background-color: #337ab7;
}
.nav-stacked > li {
  float: none;
}
.nav-stacked > li + li {
  margin-top: 2px;
  margin-left: 0;
}
.nav-justified {
  width: 100%;
}
.nav-justified > li {
  float: none;
}
.nav-justified > li > a {
  text-align: center;
  margin-bottom: 5px;
}
.nav-justified > .dropdown .dropdown-menu {
  top: auto;
  left: auto;
}
@media (min-width: 768px) {
  .nav-justified > li {
    display: table-cell;
    width: 1%;
  }
  .nav-justified > li > a {
    margin-bottom: 0;
  }
}
.nav-tabs-justified {
  border-bottom: 0;
}
.nav-tabs-justified > li > a {
  margin-right: 0;
  border-radius: 2px;
}
.nav-tabs-justified > .active > a,
.nav-tabs-justified > .active > a:hover,
.nav-tabs-justified > .active > a:focus {
  border: 1px solid #ddd;
}
@media (min-width: 768px) {
  .nav-tabs-justified > li > a {
    border-bottom: 1px solid #ddd;
    border-radius: 2px 2px 0 0;
  }
  .nav-tabs-justified > .active > a,
  .nav-tabs-justified > .active > a:hover,
  .nav-tabs-justified > .active > a:focus {
    border-bottom-color: #fff;
  }
}
.tab-content > .tab-pane {
  display: none;
}
.tab-content > .active {
  display: block;
}
.nav-tabs .dropdown-menu {
  margin-top: -1px;
  border-top-right-radius: 0;
  border-top-left-radius: 0;
}
.navbar {
  position: relative;
  min-height: 30px;
  margin-bottom: 18px;
  border: 1px solid transparent;
}
@media (min-width: 541px) {
  .navbar {
    border-radius: 2px;
  }
}
@media (min-width: 541px) {
  .navbar-header {
    float: left;
  }
}
.navbar-collapse {
  overflow-x: visible;
  padding-right: 0px;
  padding-left: 0px;
  border-top: 1px solid transparent;
  box-shadow: inset 0 1px 0 rgba(255, 255, 255, 0.1);
  -webkit-overflow-scrolling: touch;
}
.navbar-collapse.in {
  overflow-y: auto;
}
@media (min-width: 541px) {
  .navbar-collapse {
    width: auto;
    border-top: 0;
    box-shadow: none;
  }
  .navbar-collapse.collapse {
    display: block !important;
    height: auto !important;
    padding-bottom: 0;
    overflow: visible !important;
  }
  .navbar-collapse.in {
    overflow-y: visible;
  }
  .navbar-fixed-top .navbar-collapse,
  .navbar-static-top .navbar-collapse,
  .navbar-fixed-bottom .navbar-collapse {
    padding-left: 0;
    padding-right: 0;
  }
}
.navbar-fixed-top .navbar-collapse,
.navbar-fixed-bottom .navbar-collapse {
  max-height: 340px;
}
@media (max-device-width: 540px) and (orientation: landscape) {
  .navbar-fixed-top .navbar-collapse,
  .navbar-fixed-bottom .navbar-collapse {
    max-height: 200px;
  }
}
.container > .navbar-header,
.container-fluid > .navbar-header,
.container > .navbar-collapse,
.container-fluid > .navbar-collapse {
  margin-right: 0px;
  margin-left: 0px;
}
@media (min-width: 541px) {
  .container > .navbar-header,
  .container-fluid > .navbar-header,
  .container > .navbar-collapse,
  .container-fluid > .navbar-collapse {
    margin-right: 0;
    margin-left: 0;
  }
}
.navbar-static-top {
  z-index: 1000;
  border-width: 0 0 1px;
}
@media (min-width: 541px) {
  .navbar-static-top {
    border-radius: 0;
  }
}
.navbar-fixed-top,
.navbar-fixed-bottom {
  position: fixed;
  right: 0;
  left: 0;
  z-index: 1030;
}
@media (min-width: 541px) {
  .navbar-fixed-top,
  .navbar-fixed-bottom {
    border-radius: 0;
  }
}
.navbar-fixed-top {
  top: 0;
  border-width: 0 0 1px;
}
.navbar-fixed-bottom {
  bottom: 0;
  margin-bottom: 0;
  border-width: 1px 0 0;
}
.navbar-brand {
  float: left;
  padding: 6px 0px;
  font-size: 17px;
  line-height: 18px;
  height: 30px;
}
.navbar-brand:hover,
.navbar-brand:focus {
  text-decoration: none;
}
.navbar-brand > img {
  display: block;
}
@media (min-width: 541px) {
  .navbar > .container .navbar-brand,
  .navbar > .container-fluid .navbar-brand {
    margin-left: 0px;
  }
}
.navbar-toggle {
  position: relative;
  float: right;
  margin-right: 0px;
  padding: 9px 10px;
  margin-top: -2px;
  margin-bottom: -2px;
  background-color: transparent;
  background-image: none;
  border: 1px solid transparent;
  border-radius: 2px;
}
.navbar-toggle:focus {
  outline: 0;
}
.navbar-toggle .icon-bar {
  display: block;
  width: 22px;
  height: 2px;
  border-radius: 1px;
}
.navbar-toggle .icon-bar + .icon-bar {
  margin-top: 4px;
}
@media (min-width: 541px) {
  .navbar-toggle {
    display: none;
  }
}
.navbar-nav {
  margin: 3px 0px;
}
.navbar-nav > li > a {
  padding-top: 10px;
  padding-bottom: 10px;
  line-height: 18px;
}
@media (max-width: 540px) {
  .navbar-nav .open .dropdown-menu {
    position: static;
    float: none;
    width: auto;
    margin-top: 0;
    background-color: transparent;
    border: 0;
    box-shadow: none;
  }
  .navbar-nav .open .dropdown-menu > li > a,
  .navbar-nav .open .dropdown-menu .dropdown-header {
    padding: 5px 15px 5px 25px;
  }
  .navbar-nav .open .dropdown-menu > li > a {
    line-height: 18px;
  }
  .navbar-nav .open .dropdown-menu > li > a:hover,
  .navbar-nav .open .dropdown-menu > li > a:focus {
    background-image: none;
  }
}
@media (min-width: 541px) {
  .navbar-nav {
    float: left;
    margin: 0;
  }
  .navbar-nav > li {
    float: left;
  }
  .navbar-nav > li > a {
    padding-top: 6px;
    padding-bottom: 6px;
  }
}
.navbar-form {
  margin-left: 0px;
  margin-right: 0px;
  padding: 10px 0px;
  border-top: 1px solid transparent;
  border-bottom: 1px solid transparent;
  -webkit-box-shadow: inset 0 1px 0 rgba(255, 255, 255, 0.1), 0 1px 0 rgba(255, 255, 255, 0.1);
  box-shadow: inset 0 1px 0 rgba(255, 255, 255, 0.1), 0 1px 0 rgba(255, 255, 255, 0.1);
  margin-top: -1px;
  margin-bottom: -1px;
}
@media (min-width: 768px) {
  .navbar-form .form-group {
    display: inline-block;
    margin-bottom: 0;
    vertical-align: middle;
  }
  .navbar-form .form-control {
    display: inline-block;
    width: auto;
    vertical-align: middle;
  }
  .navbar-form .form-control-static {
    display: inline-block;
  }
  .navbar-form .input-group {
    display: inline-table;
    vertical-align: middle;
  }
  .navbar-form .input-group .input-group-addon,
  .navbar-form .input-group .input-group-btn,
  .navbar-form .input-group .form-control {
    width: auto;
  }
  .navbar-form .input-group > .form-control {
    width: 100%;
  }
  .navbar-form .control-label {
    margin-bottom: 0;
    vertical-align: middle;
  }
  .navbar-form .radio,
  .navbar-form .checkbox {
    display: inline-block;
    margin-top: 0;
    margin-bottom: 0;
    vertical-align: middle;
  }
  .navbar-form .radio label,
  .navbar-form .checkbox label {
    padding-left: 0;
  }
  .navbar-form .radio input[type="radio"],
  .navbar-form .checkbox input[type="checkbox"] {
    position: relative;
    margin-left: 0;
  }
  .navbar-form .has-feedback .form-control-feedback {
    top: 0;
  }
}
@media (max-width: 540px) {
  .navbar-form .form-group {
    margin-bottom: 5px;
  }
  .navbar-form .form-group:last-child {
    margin-bottom: 0;
  }
}
@media (min-width: 541px) {
  .navbar-form {
    width: auto;
    border: 0;
    margin-left: 0;
    margin-right: 0;
    padding-top: 0;
    padding-bottom: 0;
    -webkit-box-shadow: none;
    box-shadow: none;
  }
}
.navbar-nav > li > .dropdown-menu {
  margin-top: 0;
  border-top-right-radius: 0;
  border-top-left-radius: 0;
}
.navbar-fixed-bottom .navbar-nav > li > .dropdown-menu {
  margin-bottom: 0;
  border-top-right-radius: 2px;
  border-top-left-radius: 2px;
  border-bottom-right-radius: 0;
  border-bottom-left-radius: 0;
}
.navbar-btn {
  margin-top: -1px;
  margin-bottom: -1px;
}
.navbar-btn.btn-sm {
  margin-top: 0px;
  margin-bottom: 0px;
}
.navbar-btn.btn-xs {
  margin-top: 4px;
  margin-bottom: 4px;
}
.navbar-text {
  margin-top: 6px;
  margin-bottom: 6px;
}
@media (min-width: 541px) {
  .navbar-text {
    float: left;
    margin-left: 0px;
    margin-right: 0px;
  }
}
@media (min-width: 541px) {
  .navbar-left {
    float: left !important;
    float: left;
  }
  .navbar-right {
    float: right !important;
    float: right;
    margin-right: 0px;
  }
  .navbar-right ~ .navbar-right {
    margin-right: 0;
  }
}
.navbar-default {
  background-color: #f8f8f8;
  border-color: #e7e7e7;
}
.navbar-default .navbar-brand {
  color: #777;
}
.navbar-default .navbar-brand:hover,
.navbar-default .navbar-brand:focus {
  color: #5e5e5e;
  background-color: transparent;
}
.navbar-default .navbar-text {
  color: #777;
}
.navbar-default .navbar-nav > li > a {
  color: #777;
}
.navbar-default .navbar-nav > li > a:hover,
.navbar-default .navbar-nav > li > a:focus {
  color: #333;
  background-color: transparent;
}
.navbar-default .navbar-nav > .active > a,
.navbar-default .navbar-nav > .active > a:hover,
.navbar-default .navbar-nav > .active > a:focus {
  color: #555;
  background-color: #e7e7e7;
}
.navbar-default .navbar-nav > .disabled > a,
.navbar-default .navbar-nav > .disabled > a:hover,
.navbar-default .navbar-nav > .disabled > a:focus {
  color: #ccc;
  background-color: transparent;
}
.navbar-default .navbar-toggle {
  border-color: #ddd;
}
.navbar-default .navbar-toggle:hover,
.navbar-default .navbar-toggle:focus {
  background-color: #ddd;
}
.navbar-default .navbar-toggle .icon-bar {
  background-color: #888;
}
.navbar-default .navbar-collapse,
.navbar-default .navbar-form {
  border-color: #e7e7e7;
}
.navbar-default .navbar-nav > .open > a,
.navbar-default .navbar-nav > .open > a:hover,
.navbar-default .navbar-nav > .open > a:focus {
  background-color: #e7e7e7;
  color: #555;
}
@media (max-width: 540px) {
  .navbar-default .navbar-nav .open .dropdown-menu > li > a {
    color: #777;
  }
  .navbar-default .navbar-nav .open .dropdown-menu > li > a:hover,
  .navbar-default .navbar-nav .open .dropdown-menu > li > a:focus {
    color: #333;
    background-color: transparent;
  }
  .navbar-default .navbar-nav .open .dropdown-menu > .active > a,
  .navbar-default .navbar-nav .open .dropdown-menu > .active > a:hover,
  .navbar-default .navbar-nav .open .dropdown-menu > .active > a:focus {
    color: #555;
    background-color: #e7e7e7;
  }
  .navbar-default .navbar-nav .open .dropdown-menu > .disabled > a,
  .navbar-default .navbar-nav .open .dropdown-menu > .disabled > a:hover,
  .navbar-default .navbar-nav .open .dropdown-menu > .disabled > a:focus {
    color: #ccc;
    background-color: transparent;
  }
}
.navbar-default .navbar-link {
  color: #777;
}
.navbar-default .navbar-link:hover {
  color: #333;
}
.navbar-default .btn-link {
  color: #777;
}
.navbar-default .btn-link:hover,
.navbar-default .btn-link:focus {
  color: #333;
}
.navbar-default .btn-link[disabled]:hover,
fieldset[disabled] .navbar-default .btn-link:hover,
.navbar-default .btn-link[disabled]:focus,
fieldset[disabled] .navbar-default .btn-link:focus {
  color: #ccc;
}
.navbar-inverse {
  background-color: #222;
  border-color: #080808;
}
.navbar-inverse .navbar-brand {
  color: #9d9d9d;
}
.navbar-inverse .navbar-brand:hover,
.navbar-inverse .navbar-brand:focus {
  color: #fff;
  background-color: transparent;
}
.navbar-inverse .navbar-text {
  color: #9d9d9d;
}
.navbar-inverse .navbar-nav > li > a {
  color: #9d9d9d;
}
.navbar-inverse .navbar-nav > li > a:hover,
.navbar-inverse .navbar-nav > li > a:focus {
  color: #fff;
  background-color: transparent;
}
.navbar-inverse .navbar-nav > .active > a,
.navbar-inverse .navbar-nav > .active > a:hover,
.navbar-inverse .navbar-nav > .active > a:focus {
  color: #fff;
  background-color: #080808;
}
.navbar-inverse .navbar-nav > .disabled > a,
.navbar-inverse .navbar-nav > .disabled > a:hover,
.navbar-inverse .navbar-nav > .disabled > a:focus {
  color: #444;
  background-color: transparent;
}
.navbar-inverse .navbar-toggle {
  border-color: #333;
}
.navbar-inverse .navbar-toggle:hover,
.navbar-inverse .navbar-toggle:focus {
  background-color: #333;
}
.navbar-inverse .navbar-toggle .icon-bar {
  background-color: #fff;
}
.navbar-inverse .navbar-collapse,
.navbar-inverse .navbar-form {
  border-color: #101010;
}
.navbar-inverse .navbar-nav > .open > a,
.navbar-inverse .navbar-nav > .open > a:hover,
.navbar-inverse .navbar-nav > .open > a:focus {
  background-color: #080808;
  color: #fff;
}
@media (max-width: 540px) {
  .navbar-inverse .navbar-nav .open .dropdown-menu > .dropdown-header {
    border-color: #080808;
  }
  .navbar-inverse .navbar-nav .open .dropdown-menu .divider {
    background-color: #080808;
  }
  .navbar-inverse .navbar-nav .open .dropdown-menu > li > a {
    color: #9d9d9d;
  }
  .navbar-inverse .navbar-nav .open .dropdown-menu > li > a:hover,
  .navbar-inverse .navbar-nav .open .dropdown-menu > li > a:focus {
    color: #fff;
    background-color: transparent;
  }
  .navbar-inverse .navbar-nav .open .dropdown-menu > .active > a,
  .navbar-inverse .navbar-nav .open .dropdown-menu > .active > a:hover,
  .navbar-inverse .navbar-nav .open .dropdown-menu > .active > a:focus {
    color: #fff;
    background-color: #080808;
  }
  .navbar-inverse .navbar-nav .open .dropdown-menu > .disabled > a,
  .navbar-inverse .navbar-nav .open .dropdown-menu > .disabled > a:hover,
  .navbar-inverse .navbar-nav .open .dropdown-menu > .disabled > a:focus {
    color: #444;
    background-color: transparent;
  }
}
.navbar-inverse .navbar-link {
  color: #9d9d9d;
}
.navbar-inverse .navbar-link:hover {
  color: #fff;
}
.navbar-inverse .btn-link {
  color: #9d9d9d;
}
.navbar-inverse .btn-link:hover,
.navbar-inverse .btn-link:focus {
  color: #fff;
}
.navbar-inverse .btn-link[disabled]:hover,
fieldset[disabled] .navbar-inverse .btn-link:hover,
.navbar-inverse .btn-link[disabled]:focus,
fieldset[disabled] .navbar-inverse .btn-link:focus {
  color: #444;
}
.breadcrumb {
  padding: 8px 15px;
  margin-bottom: 18px;
  list-style: none;
  background-color: #f5f5f5;
  border-radius: 2px;
}
.breadcrumb > li {
  display: inline-block;
}
.breadcrumb > li + li:before {
  content: "/\00a0";
  padding: 0 5px;
  color: #5e5e5e;
}
.breadcrumb > .active {
  color: #777777;
}
.pagination {
  display: inline-block;
  padding-left: 0;
  margin: 18px 0;
  border-radius: 2px;
}
.pagination > li {
  display: inline;
}
.pagination > li > a,
.pagination > li > span {
  position: relative;
  float: left;
  padding: 6px 12px;
  line-height: 1.42857143;
  text-decoration: none;
  color: #337ab7;
  background-color: #fff;
  border: 1px solid #ddd;
  margin-left: -1px;
}
.pagination > li:first-child > a,
.pagination > li:first-child > span {
  margin-left: 0;
  border-bottom-left-radius: 2px;
  border-top-left-radius: 2px;
}
.pagination > li:last-child > a,
.pagination > li:last-child > span {
  border-bottom-right-radius: 2px;
  border-top-right-radius: 2px;
}
.pagination > li > a:hover,
.pagination > li > span:hover,
.pagination > li > a:focus,
.pagination > li > span:focus {
  z-index: 2;
  color: #23527c;
  background-color: #eeeeee;
  border-color: #ddd;
}
.pagination > .active > a,
.pagination > .active > span,
.pagination > .active > a:hover,
.pagination > .active > span:hover,
.pagination > .active > a:focus,
.pagination > .active > span:focus {
  z-index: 3;
  color: #fff;
  background-color: #337ab7;
  border-color: #337ab7;
  cursor: default;
}
.pagination > .disabled > span,
.pagination > .disabled > span:hover,
.pagination > .disabled > span:focus,
.pagination > .disabled > a,
.pagination > .disabled > a:hover,
.pagination > .disabled > a:focus {
  color: #777777;
  background-color: #fff;
  border-color: #ddd;
  cursor: not-allowed;
}
.pagination-lg > li > a,
.pagination-lg > li > span {
  padding: 10px 16px;
  font-size: 17px;
  line-height: 1.3333333;
}
.pagination-lg > li:first-child > a,
.pagination-lg > li:first-child > span {
  border-bottom-left-radius: 3px;
  border-top-left-radius: 3px;
}
.pagination-lg > li:last-child > a,
.pagination-lg > li:last-child > span {
  border-bottom-right-radius: 3px;
  border-top-right-radius: 3px;
}
.pagination-sm > li > a,
.pagination-sm > li > span {
  padding: 5px 10px;
  font-size: 12px;
  line-height: 1.5;
}
.pagination-sm > li:first-child > a,
.pagination-sm > li:first-child > span {
  border-bottom-left-radius: 1px;
  border-top-left-radius: 1px;
}
.pagination-sm > li:last-child > a,
.pagination-sm > li:last-child > span {
  border-bottom-right-radius: 1px;
  border-top-right-radius: 1px;
}
.pager {
  padding-left: 0;
  margin: 18px 0;
  list-style: none;
  text-align: center;
}
.pager li {
  display: inline;
}
.pager li > a,
.pager li > span {
  display: inline-block;
  padding: 5px 14px;
  background-color: #fff;
  border: 1px solid #ddd;
  border-radius: 15px;
}
.pager li > a:hover,
.pager li > a:focus {
  text-decoration: none;
  background-color: #eeeeee;
}
.pager .next > a,
.pager .next > span {
  float: right;
}
.pager .previous > a,
.pager .previous > span {
  float: left;
}
.pager .disabled > a,
.pager .disabled > a:hover,
.pager .disabled > a:focus,
.pager .disabled > span {
  color: #777777;
  background-color: #fff;
  cursor: not-allowed;
}
.label {
  display: inline;
  padding: .2em .6em .3em;
  font-size: 75%;
  font-weight: bold;
  line-height: 1;
  color: #fff;
  text-align: center;
  white-space: nowrap;
  vertical-align: baseline;
  border-radius: .25em;
}
a.label:hover,
a.label:focus {
  color: #fff;
  text-decoration: none;
  cursor: pointer;
}
.label:empty {
  display: none;
}
.btn .label {
  position: relative;
  top: -1px;
}
.label-default {
  background-color: #777777;
}
.label-default[href]:hover,
.label-default[href]:focus {
  background-color: #5e5e5e;
}
.label-primary {
  background-color: #337ab7;
}
.label-primary[href]:hover,
.label-primary[href]:focus {
  background-color: #286090;
}
.label-success {
  background-color: #5cb85c;
}
.label-success[href]:hover,
.label-success[href]:focus {
  background-color: #449d44;
}
.label-info {
  background-color: #5bc0de;
}
.label-info[href]:hover,
.label-info[href]:focus {
  background-color: #31b0d5;
}
.label-warning {
  background-color: #f0ad4e;
}
.label-warning[href]:hover,
.label-warning[href]:focus {
  background-color: #ec971f;
}
.label-danger {
  background-color: #d9534f;
}
.label-danger[href]:hover,
.label-danger[href]:focus {
  background-color: #c9302c;
}
.badge {
  display: inline-block;
  min-width: 10px;
  padding: 3px 7px;
  font-size: 12px;
  font-weight: bold;
  color: #fff;
  line-height: 1;
  vertical-align: middle;
  white-space: nowrap;
  text-align: center;
  background-color: #777777;
  border-radius: 10px;
}
.badge:empty {
  display: none;
}
.btn .badge {
  position: relative;
  top: -1px;
}
.btn-xs .badge,
.btn-group-xs > .btn .badge {
  top: 0;
  padding: 1px 5px;
}
a.badge:hover,
a.badge:focus {
  color: #fff;
  text-decoration: none;
  cursor: pointer;
}
.list-group-item.active > .badge,
.nav-pills > .active > a > .badge {
  color: #337ab7;
  background-color: #fff;
}
.list-group-item > .badge {
  float: right;
}
.list-group-item > .badge + .badge {
  margin-right: 5px;
}
.nav-pills > li > a > .badge {
  margin-left: 3px;
}
.jumbotron {
  padding-top: 30px;
  padding-bottom: 30px;
  margin-bottom: 30px;
  color: inherit;
  background-color: #eeeeee;
}
.jumbotron h1,
.jumbotron .h1 {
  color: inherit;
}
.jumbotron p {
  margin-bottom: 15px;
  font-size: 20px;
  font-weight: 200;
}
.jumbotron > hr {
  border-top-color: #d5d5d5;
}
.container .jumbotron,
.container-fluid .jumbotron {
  border-radius: 3px;
  padding-left: 0px;
  padding-right: 0px;
}
.jumbotron .container {
  max-width: 100%;
}
@media screen and (min-width: 768px) {
  .jumbotron {
    padding-top: 48px;
    padding-bottom: 48px;
  }
  .container .jumbotron,
  .container-fluid .jumbotron {
    padding-left: 60px;
    padding-right: 60px;
  }
  .jumbotron h1,
  .jumbotron .h1 {
    font-size: 59px;
  }
}
.thumbnail {
  display: block;
  padding: 4px;
  margin-bottom: 18px;
  line-height: 1.42857143;
  background-color: #fff;
  border: 1px solid #ddd;
  border-radius: 2px;
  -webkit-transition: border 0.2s ease-in-out;
  -o-transition: border 0.2s ease-in-out;
  transition: border 0.2s ease-in-out;
}
.thumbnail > img,
.thumbnail a > img {
  margin-left: auto;
  margin-right: auto;
}
a.thumbnail:hover,
a.thumbnail:focus,
a.thumbnail.active {
  border-color: #337ab7;
}
.thumbnail .caption {
  padding: 9px;
  color: #000;
}
.alert {
  padding: 15px;
  margin-bottom: 18px;
  border: 1px solid transparent;
  border-radius: 2px;
}
.alert h4 {
  margin-top: 0;
  color: inherit;
}
.alert .alert-link {
  font-weight: bold;
}
.alert > p,
.alert > ul {
  margin-bottom: 0;
}
.alert > p + p {
  margin-top: 5px;
}
.alert-dismissable,
.alert-dismissible {
  padding-right: 35px;
}
.alert-dismissable .close,
.alert-dismissible .close {
  position: relative;
  top: -2px;
  right: -21px;
  color: inherit;
}
.alert-success {
  background-color: #dff0d8;
  border-color: #d6e9c6;
  color: #3c763d;
}
.alert-success hr {
  border-top-color: #c9e2b3;
}
.alert-success .alert-link {
  color: #2b542c;
}
.alert-info {
  background-color: #d9edf7;
  border-color: #bce8f1;
  color: #31708f;
}
.alert-info hr {
  border-top-color: #a6e1ec;
}
.alert-info .alert-link {
  color: #245269;
}
.alert-warning {
  background-color: #fcf8e3;
  border-color: #faebcc;
  color: #8a6d3b;
}
.alert-warning hr {
  border-top-color: #f7e1b5;
}
.alert-warning .alert-link {
  color: #66512c;
}
.alert-danger {
  background-color: #f2dede;
  border-color: #ebccd1;
  color: #a94442;
}
.alert-danger hr {
  border-top-color: #e4b9c0;
}
.alert-danger .alert-link {
  color: #843534;
}
@-webkit-keyframes progress-bar-stripes {
  from {
    background-position: 40px 0;
  }
  to {
    background-position: 0 0;
  }
}
@keyframes progress-bar-stripes {
  from {
    background-position: 40px 0;
  }
  to {
    background-position: 0 0;
  }
}
.progress {
  overflow: hidden;
  height: 18px;
  margin-bottom: 18px;
  background-color: #f5f5f5;
  border-radius: 2px;
  -webkit-box-shadow: inset 0 1px 2px rgba(0, 0, 0, 0.1);
  box-shadow: inset 0 1px 2px rgba(0, 0, 0, 0.1);
}
.progress-bar {
  float: left;
  width: 0%;
  height: 100%;
  font-size: 12px;
  line-height: 18px;
  color: #fff;
  text-align: center;
  background-color: #337ab7;
  -webkit-box-shadow: inset 0 -1px 0 rgba(0, 0, 0, 0.15);
  box-shadow: inset 0 -1px 0 rgba(0, 0, 0, 0.15);
  -webkit-transition: width 0.6s ease;
  -o-transition: width 0.6s ease;
  transition: width 0.6s ease;
}
.progress-striped .progress-bar,
.progress-bar-striped {
  background-image: -webkit-linear-gradient(45deg, rgba(255, 255, 255, 0.15) 25%, transparent 25%, transparent 50%, rgba(255, 255, 255, 0.15) 50%, rgba(255, 255, 255, 0.15) 75%, transparent 75%, transparent);
  background-image: -o-linear-gradient(45deg, rgba(255, 255, 255, 0.15) 25%, transparent 25%, transparent 50%, rgba(255, 255, 255, 0.15) 50%, rgba(255, 255, 255, 0.15) 75%, transparent 75%, transparent);
  background-image: linear-gradient(45deg, rgba(255, 255, 255, 0.15) 25%, transparent 25%, transparent 50%, rgba(255, 255, 255, 0.15) 50%, rgba(255, 255, 255, 0.15) 75%, transparent 75%, transparent);
  background-size: 40px 40px;
}
.progress.active .progress-bar,
.progress-bar.active {
  -webkit-animation: progress-bar-stripes 2s linear infinite;
  -o-animation: progress-bar-stripes 2s linear infinite;
  animation: progress-bar-stripes 2s linear infinite;
}
.progress-bar-success {
  background-color: #5cb85c;
}
.progress-striped .progress-bar-success {
  background-image: -webkit-linear-gradient(45deg, rgba(255, 255, 255, 0.15) 25%, transparent 25%, transparent 50%, rgba(255, 255, 255, 0.15) 50%, rgba(255, 255, 255, 0.15) 75%, transparent 75%, transparent);
  background-image: -o-linear-gradient(45deg, rgba(255, 255, 255, 0.15) 25%, transparent 25%, transparent 50%, rgba(255, 255, 255, 0.15) 50%, rgba(255, 255, 255, 0.15) 75%, transparent 75%, transparent);
  background-image: linear-gradient(45deg, rgba(255, 255, 255, 0.15) 25%, transparent 25%, transparent 50%, rgba(255, 255, 255, 0.15) 50%, rgba(255, 255, 255, 0.15) 75%, transparent 75%, transparent);
}
.progress-bar-info {
  background-color: #5bc0de;
}
.progress-striped .progress-bar-info {
  background-image: -webkit-linear-gradient(45deg, rgba(255, 255, 255, 0.15) 25%, transparent 25%, transparent 50%, rgba(255, 255, 255, 0.15) 50%, rgba(255, 255, 255, 0.15) 75%, transparent 75%, transparent);
  background-image: -o-linear-gradient(45deg, rgba(255, 255, 255, 0.15) 25%, transparent 25%, transparent 50%, rgba(255, 255, 255, 0.15) 50%, rgba(255, 255, 255, 0.15) 75%, transparent 75%, transparent);
  background-image: linear-gradient(45deg, rgba(255, 255, 255, 0.15) 25%, transparent 25%, transparent 50%, rgba(255, 255, 255, 0.15) 50%, rgba(255, 255, 255, 0.15) 75%, transparent 75%, transparent);
}
.progress-bar-warning {
  background-color: #f0ad4e;
}
.progress-striped .progress-bar-warning {
  background-image: -webkit-linear-gradient(45deg, rgba(255, 255, 255, 0.15) 25%, transparent 25%, transparent 50%, rgba(255, 255, 255, 0.15) 50%, rgba(255, 255, 255, 0.15) 75%, transparent 75%, transparent);
  background-image: -o-linear-gradient(45deg, rgba(255, 255, 255, 0.15) 25%, transparent 25%, transparent 50%, rgba(255, 255, 255, 0.15) 50%, rgba(255, 255, 255, 0.15) 75%, transparent 75%, transparent);
  background-image: linear-gradient(45deg, rgba(255, 255, 255, 0.15) 25%, transparent 25%, transparent 50%, rgba(255, 255, 255, 0.15) 50%, rgba(255, 255, 255, 0.15) 75%, transparent 75%, transparent);
}
.progress-bar-danger {
  background-color: #d9534f;
}
.progress-striped .progress-bar-danger {
  background-image: -webkit-linear-gradient(45deg, rgba(255, 255, 255, 0.15) 25%, transparent 25%, transparent 50%, rgba(255, 255, 255, 0.15) 50%, rgba(255, 255, 255, 0.15) 75%, transparent 75%, transparent);
  background-image: -o-linear-gradient(45deg, rgba(255, 255, 255, 0.15) 25%, transparent 25%, transparent 50%, rgba(255, 255, 255, 0.15) 50%, rgba(255, 255, 255, 0.15) 75%, transparent 75%, transparent);
  background-image: linear-gradient(45deg, rgba(255, 255, 255, 0.15) 25%, transparent 25%, transparent 50%, rgba(255, 255, 255, 0.15) 50%, rgba(255, 255, 255, 0.15) 75%, transparent 75%, transparent);
}
.media {
  margin-top: 15px;
}
.media:first-child {
  margin-top: 0;
}
.media,
.media-body {
  zoom: 1;
  overflow: hidden;
}
.media-body {
  width: 10000px;
}
.media-object {
  display: block;
}
.media-object.img-thumbnail {
  max-width: none;
}
.media-right,
.media > .pull-right {
  padding-left: 10px;
}
.media-left,
.media > .pull-left {
  padding-right: 10px;
}
.media-left,
.media-right,
.media-body {
  display: table-cell;
  vertical-align: top;
}
.media-middle {
  vertical-align: middle;
}
.media-bottom {
  vertical-align: bottom;
}
.media-heading {
  margin-top: 0;
  margin-bottom: 5px;
}
.media-list {
  padding-left: 0;
  list-style: none;
}
.list-group {
  margin-bottom: 20px;
  padding-left: 0;
}
.list-group-item {
  position: relative;
  display: block;
  padding: 10px 15px;
  margin-bottom: -1px;
  background-color: #fff;
  border: 1px solid #ddd;
}
.list-group-item:first-child {
  border-top-right-radius: 2px;
  border-top-left-radius: 2px;
}
.list-group-item:last-child {
  margin-bottom: 0;
  border-bottom-right-radius: 2px;
  border-bottom-left-radius: 2px;
}
a.list-group-item,
button.list-group-item {
  color: #555;
}
a.list-group-item .list-group-item-heading,
button.list-group-item .list-group-item-heading {
  color: #333;
}
a.list-group-item:hover,
button.list-group-item:hover,
a.list-group-item:focus,
button.list-group-item:focus {
  text-decoration: none;
  color: #555;
  background-color: #f5f5f5;
}
button.list-group-item {
  width: 100%;
  text-align: left;
}
.list-group-item.disabled,
.list-group-item.disabled:hover,
.list-group-item.disabled:focus {
  background-color: #eeeeee;
  color: #777777;
  cursor: not-allowed;
}
.list-group-item.disabled .list-group-item-heading,
.list-group-item.disabled:hover .list-group-item-heading,
.list-group-item.disabled:focus .list-group-item-heading {
  color: inherit;
}
.list-group-item.disabled .list-group-item-text,
.list-group-item.disabled:hover .list-group-item-text,
.list-group-item.disabled:focus .list-group-item-text {
  color: #777777;
}
.list-group-item.active,
.list-group-item.active:hover,
.list-group-item.active:focus {
  z-index: 2;
  color: #fff;
  background-color: #337ab7;
  border-color: #337ab7;
}
.list-group-item.active .list-group-item-heading,
.list-group-item.active:hover .list-group-item-heading,
.list-group-item.active:focus .list-group-item-heading,
.list-group-item.active .list-group-item-heading > small,
.list-group-item.active:hover .list-group-item-heading > small,
.list-group-item.active:focus .list-group-item-heading > small,
.list-group-item.active .list-group-item-heading > .small,
.list-group-item.active:hover .list-group-item-heading > .small,
.list-group-item.active:focus .list-group-item-heading > .small {
  color: inherit;
}
.list-group-item.active .list-group-item-text,
.list-group-item.active:hover .list-group-item-text,
.list-group-item.active:focus .list-group-item-text {
  color: #c7ddef;
}
.list-group-item-success {
  color: #3c763d;
  background-color: #dff0d8;
}
a.list-group-item-success,
button.list-group-item-success {
  color: #3c763d;
}
a.list-group-item-success .list-group-item-heading,
button.list-group-item-success .list-group-item-heading {
  color: inherit;
}
a.list-group-item-success:hover,
button.list-group-item-success:hover,
a.list-group-item-success:focus,
button.list-group-item-success:focus {
  color: #3c763d;
  background-color: #d0e9c6;
}
a.list-group-item-success.active,
button.list-group-item-success.active,
a.list-group-item-success.active:hover,
button.list-group-item-success.active:hover,
a.list-group-item-success.active:focus,
button.list-group-item-success.active:focus {
  color: #fff;
  background-color: #3c763d;
  border-color: #3c763d;
}
.list-group-item-info {
  color: #31708f;
  background-color: #d9edf7;
}
a.list-group-item-info,
button.list-group-item-info {
  color: #31708f;
}
a.list-group-item-info .list-group-item-heading,
button.list-group-item-info .list-group-item-heading {
  color: inherit;
}
a.list-group-item-info:hover,
button.list-group-item-info:hover,
a.list-group-item-info:focus,
button.list-group-item-info:focus {
  color: #31708f;
  background-color: #c4e3f3;
}
a.list-group-item-info.active,
button.list-group-item-info.active,
a.list-group-item-info.active:hover,
button.list-group-item-info.active:hover,
a.list-group-item-info.active:focus,
button.list-group-item-info.active:focus {
  color: #fff;
  background-color: #31708f;
  border-color: #31708f;
}
.list-group-item-warning {
  color: #8a6d3b;
  background-color: #fcf8e3;
}
a.list-group-item-warning,
button.list-group-item-warning {
  color: #8a6d3b;
}
a.list-group-item-warning .list-group-item-heading,
button.list-group-item-warning .list-group-item-heading {
  color: inherit;
}
a.list-group-item-warning:hover,
button.list-group-item-warning:hover,
a.list-group-item-warning:focus,
button.list-group-item-warning:focus {
  color: #8a6d3b;
  background-color: #faf2cc;
}
a.list-group-item-warning.active,
button.list-group-item-warning.active,
a.list-group-item-warning.active:hover,
button.list-group-item-warning.active:hover,
a.list-group-item-warning.active:focus,
button.list-group-item-warning.active:focus {
  color: #fff;
  background-color: #8a6d3b;
  border-color: #8a6d3b;
}
.list-group-item-danger {
  color: #a94442;
  background-color: #f2dede;
}
a.list-group-item-danger,
button.list-group-item-danger {
  color: #a94442;
}
a.list-group-item-danger .list-group-item-heading,
button.list-group-item-danger .list-group-item-heading {
  color: inherit;
}
a.list-group-item-danger:hover,
button.list-group-item-danger:hover,
a.list-group-item-danger:focus,
button.list-group-item-danger:focus {
  color: #a94442;
  background-color: #ebcccc;
}
a.list-group-item-danger.active,
button.list-group-item-danger.active,
a.list-group-item-danger.active:hover,
button.list-group-item-danger.active:hover,
a.list-group-item-danger.active:focus,
button.list-group-item-danger.active:focus {
  color: #fff;
  background-color: #a94442;
  border-color: #a94442;
}
.list-group-item-heading {
  margin-top: 0;
  margin-bottom: 5px;
}
.list-group-item-text {
  margin-bottom: 0;
  line-height: 1.3;
}
.panel {
  margin-bottom: 18px;
  background-color: #fff;
  border: 1px solid transparent;
  border-radius: 2px;
  -webkit-box-shadow: 0 1px 1px rgba(0, 0, 0, 0.05);
  box-shadow: 0 1px 1px rgba(0, 0, 0, 0.05);
}
.panel-body {
  padding: 15px;
}
.panel-heading {
  padding: 10px 15px;
  border-bottom: 1px solid transparent;
  border-top-right-radius: 1px;
  border-top-left-radius: 1px;
}
.panel-heading > .dropdown .dropdown-toggle {
  color: inherit;
}
.panel-title {
  margin-top: 0;
  margin-bottom: 0;
  font-size: 15px;
  color: inherit;
}
.panel-title > a,
.panel-title > small,
.panel-title > .small,
.panel-title > small > a,
.panel-title > .small > a {
  color: inherit;
}
.panel-footer {
  padding: 10px 15px;
  background-color: #f5f5f5;
  border-top: 1px solid #ddd;
  border-bottom-right-radius: 1px;
  border-bottom-left-radius: 1px;
}
.panel > .list-group,
.panel > .panel-collapse > .list-group {
  margin-bottom: 0;
}
.panel > .list-group .list-group-item,
.panel > .panel-collapse > .list-group .list-group-item {
  border-width: 1px 0;
  border-radius: 0;
}
.panel > .list-group:first-child .list-group-item:first-child,
.panel > .panel-collapse > .list-group:first-child .list-group-item:first-child {
  border-top: 0;
  border-top-right-radius: 1px;
  border-top-left-radius: 1px;
}
.panel > .list-group:last-child .list-group-item:last-child,
.panel > .panel-collapse > .list-group:last-child .list-group-item:last-child {
  border-bottom: 0;
  border-bottom-right-radius: 1px;
  border-bottom-left-radius: 1px;
}
.panel > .panel-heading + .panel-collapse > .list-group .list-group-item:first-child {
  border-top-right-radius: 0;
  border-top-left-radius: 0;
}
.panel-heading + .list-group .list-group-item:first-child {
  border-top-width: 0;
}
.list-group + .panel-footer {
  border-top-width: 0;
}
.panel > .table,
.panel > .table-responsive > .table,
.panel > .panel-collapse > .table {
  margin-bottom: 0;
}
.panel > .table caption,
.panel > .table-responsive > .table caption,
.panel > .panel-collapse > .table caption {
  padding-left: 15px;
  padding-right: 15px;
}
.panel > .table:first-child,
.panel > .table-responsive:first-child > .table:first-child {
  border-top-right-radius: 1px;
  border-top-left-radius: 1px;
}
.panel > .table:first-child > thead:first-child > tr:first-child,
.panel > .table-responsive:first-child > .table:first-child > thead:first-child > tr:first-child,
.panel > .table:first-child > tbody:first-child > tr:first-child,
.panel > .table-responsive:first-child > .table:first-child > tbody:first-child > tr:first-child {
  border-top-left-radius: 1px;
  border-top-right-radius: 1px;
}
.panel > .table:first-child > thead:first-child > tr:first-child td:first-child,
.panel > .table-responsive:first-child > .table:first-child > thead:first-child > tr:first-child td:first-child,
.panel > .table:first-child > tbody:first-child > tr:first-child td:first-child,
.panel > .table-responsive:first-child > .table:first-child > tbody:first-child > tr:first-child td:first-child,
.panel > .table:first-child > thead:first-child > tr:first-child th:first-child,
.panel > .table-responsive:first-child > .table:first-child > thead:first-child > tr:first-child th:first-child,
.panel > .table:first-child > tbody:first-child > tr:first-child th:first-child,
.panel > .table-responsive:first-child > .table:first-child > tbody:first-child > tr:first-child th:first-child {
  border-top-left-radius: 1px;
}
.panel > .table:first-child > thead:first-child > tr:first-child td:last-child,
.panel > .table-responsive:first-child > .table:first-child > thead:first-child > tr:first-child td:last-child,
.panel > .table:first-child > tbody:first-child > tr:first-child td:last-child,
.panel > .table-responsive:first-child > .table:first-child > tbody:first-child > tr:first-child td:last-child,
.panel > .table:first-child > thead:first-child > tr:first-child th:last-child,
.panel > .table-responsive:first-child > .table:first-child > thead:first-child > tr:first-child th:last-child,
.panel > .table:first-child > tbody:first-child > tr:first-child th:last-child,
.panel > .table-responsive:first-child > .table:first-child > tbody:first-child > tr:first-child th:last-child {
  border-top-right-radius: 1px;
}
.panel > .table:last-child,
.panel > .table-responsive:last-child > .table:last-child {
  border-bottom-right-radius: 1px;
  border-bottom-left-radius: 1px;
}
.panel > .table:last-child > tbody:last-child > tr:last-child,
.panel > .table-responsive:last-child > .table:last-child > tbody:last-child > tr:last-child,
.panel > .table:last-child > tfoot:last-child > tr:last-child,
.panel > .table-responsive:last-child > .table:last-child > tfoot:last-child > tr:last-child {
  border-bottom-left-radius: 1px;
  border-bottom-right-radius: 1px;
}
.panel > .table:last-child > tbody:last-child > tr:last-child td:first-child,
.panel > .table-responsive:last-child > .table:last-child > tbody:last-child > tr:last-child td:first-child,
.panel > .table:last-child > tfoot:last-child > tr:last-child td:first-child,
.panel > .table-responsive:last-child > .table:last-child > tfoot:last-child > tr:last-child td:first-child,
.panel > .table:last-child > tbody:last-child > tr:last-child th:first-child,
.panel > .table-responsive:last-child > .table:last-child > tbody:last-child > tr:last-child th:first-child,
.panel > .table:last-child > tfoot:last-child > tr:last-child th:first-child,
.panel > .table-responsive:last-child > .table:last-child > tfoot:last-child > tr:last-child th:first-child {
  border-bottom-left-radius: 1px;
}
.panel > .table:last-child > tbody:last-child > tr:last-child td:last-child,
.panel > .table-responsive:last-child > .table:last-child > tbody:last-child > tr:last-child td:last-child,
.panel > .table:last-child > tfoot:last-child > tr:last-child td:last-child,
.panel > .table-responsive:last-child > .table:last-child > tfoot:last-child > tr:last-child td:last-child,
.panel > .table:last-child > tbody:last-child > tr:last-child th:last-child,
.panel > .table-responsive:last-child > .table:last-child > tbody:last-child > tr:last-child th:last-child,
.panel > .table:last-child > tfoot:last-child > tr:last-child th:last-child,
.panel > .table-responsive:last-child > .table:last-child > tfoot:last-child > tr:last-child th:last-child {
  border-bottom-right-radius: 1px;
}
.panel > .panel-body + .table,
.panel > .panel-body + .table-responsive,
.panel > .table + .panel-body,
.panel > .table-responsive + .panel-body {
  border-top: 1px solid #ddd;
}
.panel > .table > tbody:first-child > tr:first-child th,
.panel > .table > tbody:first-child > tr:first-child td {
  border-top: 0;
}
.panel > .table-bordered,
.panel > .table-responsive > .table-bordered {
  border: 0;
}
.panel > .table-bordered > thead > tr > th:first-child,
.panel > .table-responsive > .table-bordered > thead > tr > th:first-child,
.panel > .table-bordered > tbody > tr > th:first-child,
.panel > .table-responsive > .table-bordered > tbody > tr > th:first-child,
.panel > .table-bordered > tfoot > tr > th:first-child,
.panel > .table-responsive > .table-bordered > tfoot > tr > th:first-child,
.panel > .table-bordered > thead > tr > td:first-child,
.panel > .table-responsive > .table-bordered > thead > tr > td:first-child,
.panel > .table-bordered > tbody > tr > td:first-child,
.panel > .table-responsive > .table-bordered > tbody > tr > td:first-child,
.panel > .table-bordered > tfoot > tr > td:first-child,
.panel > .table-responsive > .table-bordered > tfoot > tr > td:first-child {
  border-left: 0;
}
.panel > .table-bordered > thead > tr > th:last-child,
.panel > .table-responsive > .table-bordered > thead > tr > th:last-child,
.panel > .table-bordered > tbody > tr > th:last-child,
.panel > .table-responsive > .table-bordered > tbody > tr > th:last-child,
.panel > .table-bordered > tfoot > tr > th:last-child,
.panel > .table-responsive > .table-bordered > tfoot > tr > th:last-child,
.panel > .table-bordered > thead > tr > td:last-child,
.panel > .table-responsive > .table-bordered > thead > tr > td:last-child,
.panel > .table-bordered > tbody > tr > td:last-child,
.panel > .table-responsive > .table-bordered > tbody > tr > td:last-child,
.panel > .table-bordered > tfoot > tr > td:last-child,
.panel > .table-responsive > .table-bordered > tfoot > tr > td:last-child {
  border-right: 0;
}
.panel > .table-bordered > thead > tr:first-child > td,
.panel > .table-responsive > .table-bordered > thead > tr:first-child > td,
.panel > .table-bordered > tbody > tr:first-child > td,
.panel > .table-responsive > .table-bordered > tbody > tr:first-child > td,
.panel > .table-bordered > thead > tr:first-child > th,
.panel > .table-responsive > .table-bordered > thead > tr:first-child > th,
.panel > .table-bordered > tbody > tr:first-child > th,
.panel > .table-responsive > .table-bordered > tbody > tr:first-child > th {
  border-bottom: 0;
}
.panel > .table-bordered > tbody > tr:last-child > td,
.panel > .table-responsive > .table-bordered > tbody > tr:last-child > td,
.panel > .table-bordered > tfoot > tr:last-child > td,
.panel > .table-responsive > .table-bordered > tfoot > tr:last-child > td,
.panel > .table-bordered > tbody > tr:last-child > th,
.panel > .table-responsive > .table-bordered > tbody > tr:last-child > th,
.panel > .table-bordered > tfoot > tr:last-child > th,
.panel > .table-responsive > .table-bordered > tfoot > tr:last-child > th {
  border-bottom: 0;
}
.panel > .table-responsive {
  border: 0;
  margin-bottom: 0;
}
.panel-group {
  margin-bottom: 18px;
}
.panel-group .panel {
  margin-bottom: 0;
  border-radius: 2px;
}
.panel-group .panel + .panel {
  margin-top: 5px;
}
.panel-group .panel-heading {
  border-bottom: 0;
}
.panel-group .panel-heading + .panel-collapse > .panel-body,
.panel-group .panel-heading + .panel-collapse > .list-group {
  border-top: 1px solid #ddd;
}
.panel-group .panel-footer {
  border-top: 0;
}
.panel-group .panel-footer + .panel-collapse .panel-body {
  border-bottom: 1px solid #ddd;
}
.panel-default {
  border-color: #ddd;
}
.panel-default > .panel-heading {
  color: #333333;
  background-color: #f5f5f5;
  border-color: #ddd;
}
.panel-default > .panel-heading + .panel-collapse > .panel-body {
  border-top-color: #ddd;
}
.panel-default > .panel-heading .badge {
  color: #f5f5f5;
  background-color: #333333;
}
.panel-default > .panel-footer + .panel-collapse > .panel-body {
  border-bottom-color: #ddd;
}
.panel-primary {
  border-color: #337ab7;
}
.panel-primary > .panel-heading {
  color: #fff;
  background-color: #337ab7;
  border-color: #337ab7;
}
.panel-primary > .panel-heading + .panel-collapse > .panel-body {
  border-top-color: #337ab7;
}
.panel-primary > .panel-heading .badge {
  color: #337ab7;
  background-color: #fff;
}
.panel-primary > .panel-footer + .panel-collapse > .panel-body {
  border-bottom-color: #337ab7;
}
.panel-success {
  border-color: #d6e9c6;
}
.panel-success > .panel-heading {
  color: #3c763d;
  background-color: #dff0d8;
  border-color: #d6e9c6;
}
.panel-success > .panel-heading + .panel-collapse > .panel-body {
  border-top-color: #d6e9c6;
}
.panel-success > .panel-heading .badge {
  color: #dff0d8;
  background-color: #3c763d;
}
.panel-success > .panel-footer + .panel-collapse > .panel-body {
  border-bottom-color: #d6e9c6;
}
.panel-info {
  border-color: #bce8f1;
}
.panel-info > .panel-heading {
  color: #31708f;
  background-color: #d9edf7;
  border-color: #bce8f1;
}
.panel-info > .panel-heading + .panel-collapse > .panel-body {
  border-top-color: #bce8f1;
}
.panel-info > .panel-heading .badge {
  color: #d9edf7;
  background-color: #31708f;
}
.panel-info > .panel-footer + .panel-collapse > .panel-body {
  border-bottom-color: #bce8f1;
}
.panel-warning {
  border-color: #faebcc;
}
.panel-warning > .panel-heading {
  color: #8a6d3b;
  background-color: #fcf8e3;
  border-color: #faebcc;
}
.panel-warning > .panel-heading + .panel-collapse > .panel-body {
  border-top-color: #faebcc;
}
.panel-warning > .panel-heading .badge {
  color: #fcf8e3;
  background-color: #8a6d3b;
}
.panel-warning > .panel-footer + .panel-collapse > .panel-body {
  border-bottom-color: #faebcc;
}
.panel-danger {
  border-color: #ebccd1;
}
.panel-danger > .panel-heading {
  color: #a94442;
  background-color: #f2dede;
  border-color: #ebccd1;
}
.panel-danger > .panel-heading + .panel-collapse > .panel-body {
  border-top-color: #ebccd1;
}
.panel-danger > .panel-heading .badge {
  color: #f2dede;
  background-color: #a94442;
}
.panel-danger > .panel-footer + .panel-collapse > .panel-body {
  border-bottom-color: #ebccd1;
}
.embed-responsive {
  position: relative;
  display: block;
  height: 0;
  padding: 0;
  overflow: hidden;
}
.embed-responsive .embed-responsive-item,
.embed-responsive iframe,
.embed-responsive embed,
.embed-responsive object,
.embed-responsive video {
  position: absolute;
  top: 0;
  left: 0;
  bottom: 0;
  height: 100%;
  width: 100%;
  border: 0;
}
.embed-responsive-16by9 {
  padding-bottom: 56.25%;
}
.embed-responsive-4by3 {
  padding-bottom: 75%;
}
.well {
  min-height: 20px;
  padding: 19px;
  margin-bottom: 20px;
  background-color: #f5f5f5;
  border: 1px solid #e3e3e3;
  border-radius: 2px;
  -webkit-box-shadow: inset 0 1px 1px rgba(0, 0, 0, 0.05);
  box-shadow: inset 0 1px 1px rgba(0, 0, 0, 0.05);
}
.well blockquote {
  border-color: #ddd;
  border-color: rgba(0, 0, 0, 0.15);
}
.well-lg {
  padding: 24px;
  border-radius: 3px;
}
.well-sm {
  padding: 9px;
  border-radius: 1px;
}
.close {
  float: right;
  font-size: 19.5px;
  font-weight: bold;
  line-height: 1;
  color: #000;
  text-shadow: 0 1px 0 #fff;
  opacity: 0.2;
  filter: alpha(opacity=20);
}
.close:hover,
.close:focus {
  color: #000;
  text-decoration: none;
  cursor: pointer;
  opacity: 0.5;
  filter: alpha(opacity=50);
}
button.close {
  padding: 0;
  cursor: pointer;
  background: transparent;
  border: 0;
  -webkit-appearance: none;
}
.modal-open {
  overflow: hidden;
}
.modal {
  display: none;
  overflow: hidden;
  position: fixed;
  top: 0;
  right: 0;
  bottom: 0;
  left: 0;
  z-index: 1050;
  -webkit-overflow-scrolling: touch;
  outline: 0;
}
.modal.fade .modal-dialog {
  -webkit-transform: translate(0, -25%);
  -ms-transform: translate(0, -25%);
  -o-transform: translate(0, -25%);
  transform: translate(0, -25%);
  -webkit-transition: -webkit-transform 0.3s ease-out;
  -moz-transition: -moz-transform 0.3s ease-out;
  -o-transition: -o-transform 0.3s ease-out;
  transition: transform 0.3s ease-out;
}
.modal.in .modal-dialog {
  -webkit-transform: translate(0, 0);
  -ms-transform: translate(0, 0);
  -o-transform: translate(0, 0);
  transform: translate(0, 0);
}
.modal-open .modal {
  overflow-x: hidden;
  overflow-y: auto;
}
.modal-dialog {
  position: relative;
  width: auto;
  margin: 10px;
}
.modal-content {
  position: relative;
  background-color: #fff;
  border: 1px solid #999;
  border: 1px solid rgba(0, 0, 0, 0.2);
  border-radius: 3px;
  -webkit-box-shadow: 0 3px 9px rgba(0, 0, 0, 0.5);
  box-shadow: 0 3px 9px rgba(0, 0, 0, 0.5);
  background-clip: padding-box;
  outline: 0;
}
.modal-backdrop {
  position: fixed;
  top: 0;
  right: 0;
  bottom: 0;
  left: 0;
  z-index: 1040;
  background-color: #000;
}
.modal-backdrop.fade {
  opacity: 0;
  filter: alpha(opacity=0);
}
.modal-backdrop.in {
  opacity: 0.5;
  filter: alpha(opacity=50);
}
.modal-header {
  padding: 15px;
  border-bottom: 1px solid #e5e5e5;
}
.modal-header .close {
  margin-top: -2px;
}
.modal-title {
  margin: 0;
  line-height: 1.42857143;
}
.modal-body {
  position: relative;
  padding: 15px;
}
.modal-footer {
  padding: 15px;
  text-align: right;
  border-top: 1px solid #e5e5e5;
}
.modal-footer .btn + .btn {
  margin-left: 5px;
  margin-bottom: 0;
}
.modal-footer .btn-group .btn + .btn {
  margin-left: -1px;
}
.modal-footer .btn-block + .btn-block {
  margin-left: 0;
}
.modal-scrollbar-measure {
  position: absolute;
  top: -9999px;
  width: 50px;
  height: 50px;
  overflow: scroll;
}
@media (min-width: 768px) {
  .modal-dialog {
    width: 600px;
    margin: 30px auto;
  }
  .modal-content {
    -webkit-box-shadow: 0 5px 15px rgba(0, 0, 0, 0.5);
    box-shadow: 0 5px 15px rgba(0, 0, 0, 0.5);
  }
  .modal-sm {
    width: 300px;
  }
}
@media (min-width: 992px) {
  .modal-lg {
    width: 900px;
  }
}
.tooltip {
  position: absolute;
  z-index: 1070;
  display: block;
  font-family: "Helvetica Neue", Helvetica, Arial, sans-serif;
  font-style: normal;
  font-weight: normal;
  letter-spacing: normal;
  line-break: auto;
  line-height: 1.42857143;
  text-align: left;
  text-align: start;
  text-decoration: none;
  text-shadow: none;
  text-transform: none;
  white-space: normal;
  word-break: normal;
  word-spacing: normal;
  word-wrap: normal;
  font-size: 12px;
  opacity: 0;
  filter: alpha(opacity=0);
}
.tooltip.in {
  opacity: 0.9;
  filter: alpha(opacity=90);
}
.tooltip.top {
  margin-top: -3px;
  padding: 5px 0;
}
.tooltip.right {
  margin-left: 3px;
  padding: 0 5px;
}
.tooltip.bottom {
  margin-top: 3px;
  padding: 5px 0;
}
.tooltip.left {
  margin-left: -3px;
  padding: 0 5px;
}
.tooltip-inner {
  max-width: 200px;
  padding: 3px 8px;
  color: #fff;
  text-align: center;
  background-color: #000;
  border-radius: 2px;
}
.tooltip-arrow {
  position: absolute;
  width: 0;
  height: 0;
  border-color: transparent;
  border-style: solid;
}
.tooltip.top .tooltip-arrow {
  bottom: 0;
  left: 50%;
  margin-left: -5px;
  border-width: 5px 5px 0;
  border-top-color: #000;
}
.tooltip.top-left .tooltip-arrow {
  bottom: 0;
  right: 5px;
  margin-bottom: -5px;
  border-width: 5px 5px 0;
  border-top-color: #000;
}
.tooltip.top-right .tooltip-arrow {
  bottom: 0;
  left: 5px;
  margin-bottom: -5px;
  border-width: 5px 5px 0;
  border-top-color: #000;
}
.tooltip.right .tooltip-arrow {
  top: 50%;
  left: 0;
  margin-top: -5px;
  border-width: 5px 5px 5px 0;
  border-right-color: #000;
}
.tooltip.left .tooltip-arrow {
  top: 50%;
  right: 0;
  margin-top: -5px;
  border-width: 5px 0 5px 5px;
  border-left-color: #000;
}
.tooltip.bottom .tooltip-arrow {
  top: 0;
  left: 50%;
  margin-left: -5px;
  border-width: 0 5px 5px;
  border-bottom-color: #000;
}
.tooltip.bottom-left .tooltip-arrow {
  top: 0;
  right: 5px;
  margin-top: -5px;
  border-width: 0 5px 5px;
  border-bottom-color: #000;
}
.tooltip.bottom-right .tooltip-arrow {
  top: 0;
  left: 5px;
  margin-top: -5px;
  border-width: 0 5px 5px;
  border-bottom-color: #000;
}
.popover {
  position: absolute;
  top: 0;
  left: 0;
  z-index: 1060;
  display: none;
  max-width: 276px;
  padding: 1px;
  font-family: "Helvetica Neue", Helvetica, Arial, sans-serif;
  font-style: normal;
  font-weight: normal;
  letter-spacing: normal;
  line-break: auto;
  line-height: 1.42857143;
  text-align: left;
  text-align: start;
  text-decoration: none;
  text-shadow: none;
  text-transform: none;
  white-space: normal;
  word-break: normal;
  word-spacing: normal;
  word-wrap: normal;
  font-size: 13px;
  background-color: #fff;
  background-clip: padding-box;
  border: 1px solid #ccc;
  border: 1px solid rgba(0, 0, 0, 0.2);
  border-radius: 3px;
  -webkit-box-shadow: 0 5px 10px rgba(0, 0, 0, 0.2);
  box-shadow: 0 5px 10px rgba(0, 0, 0, 0.2);
}
.popover.top {
  margin-top: -10px;
}
.popover.right {
  margin-left: 10px;
}
.popover.bottom {
  margin-top: 10px;
}
.popover.left {
  margin-left: -10px;
}
.popover-title {
  margin: 0;
  padding: 8px 14px;
  font-size: 13px;
  background-color: #f7f7f7;
  border-bottom: 1px solid #ebebeb;
  border-radius: 2px 2px 0 0;
}
.popover-content {
  padding: 9px 14px;
}
.popover > .arrow,
.popover > .arrow:after {
  position: absolute;
  display: block;
  width: 0;
  height: 0;
  border-color: transparent;
  border-style: solid;
}
.popover > .arrow {
  border-width: 11px;
}
.popover > .arrow:after {
  border-width: 10px;
  content: "";
}
.popover.top > .arrow {
  left: 50%;
  margin-left: -11px;
  border-bottom-width: 0;
  border-top-color: #999999;
  border-top-color: rgba(0, 0, 0, 0.25);
  bottom: -11px;
}
.popover.top > .arrow:after {
  content: " ";
  bottom: 1px;
  margin-left: -10px;
  border-bottom-width: 0;
  border-top-color: #fff;
}
.popover.right > .arrow {
  top: 50%;
  left: -11px;
  margin-top: -11px;
  border-left-width: 0;
  border-right-color: #999999;
  border-right-color: rgba(0, 0, 0, 0.25);
}
.popover.right > .arrow:after {
  content: " ";
  left: 1px;
  bottom: -10px;
  border-left-width: 0;
  border-right-color: #fff;
}
.popover.bottom > .arrow {
  left: 50%;
  margin-left: -11px;
  border-top-width: 0;
  border-bottom-color: #999999;
  border-bottom-color: rgba(0, 0, 0, 0.25);
  top: -11px;
}
.popover.bottom > .arrow:after {
  content: " ";
  top: 1px;
  margin-left: -10px;
  border-top-width: 0;
  border-bottom-color: #fff;
}
.popover.left > .arrow {
  top: 50%;
  right: -11px;
  margin-top: -11px;
  border-right-width: 0;
  border-left-color: #999999;
  border-left-color: rgba(0, 0, 0, 0.25);
}
.popover.left > .arrow:after {
  content: " ";
  right: 1px;
  border-right-width: 0;
  border-left-color: #fff;
  bottom: -10px;
}
.carousel {
  position: relative;
}
.carousel-inner {
  position: relative;
  overflow: hidden;
  width: 100%;
}
.carousel-inner > .item {
  display: none;
  position: relative;
  -webkit-transition: 0.6s ease-in-out left;
  -o-transition: 0.6s ease-in-out left;
  transition: 0.6s ease-in-out left;
}
.carousel-inner > .item > img,
.carousel-inner > .item > a > img {
  line-height: 1;
}
@media all and (transform-3d), (-webkit-transform-3d) {
  .carousel-inner > .item {
    -webkit-transition: -webkit-transform 0.6s ease-in-out;
    -moz-transition: -moz-transform 0.6s ease-in-out;
    -o-transition: -o-transform 0.6s ease-in-out;
    transition: transform 0.6s ease-in-out;
    -webkit-backface-visibility: hidden;
    -moz-backface-visibility: hidden;
    backface-visibility: hidden;
    -webkit-perspective: 1000px;
    -moz-perspective: 1000px;
    perspective: 1000px;
  }
  .carousel-inner > .item.next,
  .carousel-inner > .item.active.right {
    -webkit-transform: translate3d(100%, 0, 0);
    transform: translate3d(100%, 0, 0);
    left: 0;
  }
  .carousel-inner > .item.prev,
  .carousel-inner > .item.active.left {
    -webkit-transform: translate3d(-100%, 0, 0);
    transform: translate3d(-100%, 0, 0);
    left: 0;
  }
  .carousel-inner > .item.next.left,
  .carousel-inner > .item.prev.right,
  .carousel-inner > .item.active {
    -webkit-transform: translate3d(0, 0, 0);
    transform: translate3d(0, 0, 0);
    left: 0;
  }
}
.carousel-inner > .active,
.carousel-inner > .next,
.carousel-inner > .prev {
  display: block;
}
.carousel-inner > .active {
  left: 0;
}
.carousel-inner > .next,
.carousel-inner > .prev {
  position: absolute;
  top: 0;
  width: 100%;
}
.carousel-inner > .next {
  left: 100%;
}
.carousel-inner > .prev {
  left: -100%;
}
.carousel-inner > .next.left,
.carousel-inner > .prev.right {
  left: 0;
}
.carousel-inner > .active.left {
  left: -100%;
}
.carousel-inner > .active.right {
  left: 100%;
}
.carousel-control {
  position: absolute;
  top: 0;
  left: 0;
  bottom: 0;
  width: 15%;
  opacity: 0.5;
  filter: alpha(opacity=50);
  font-size: 20px;
  color: #fff;
  text-align: center;
  text-shadow: 0 1px 2px rgba(0, 0, 0, 0.6);
  background-color: rgba(0, 0, 0, 0);
}
.carousel-control.left {
  background-image: -webkit-linear-gradient(left, rgba(0, 0, 0, 0.5) 0%, rgba(0, 0, 0, 0.0001) 100%);
  background-image: -o-linear-gradient(left, rgba(0, 0, 0, 0.5) 0%, rgba(0, 0, 0, 0.0001) 100%);
  background-image: linear-gradient(to right, rgba(0, 0, 0, 0.5) 0%, rgba(0, 0, 0, 0.0001) 100%);
  background-repeat: repeat-x;
  filter: progid:DXImageTransform.Microsoft.gradient(startColorstr='#80000000', endColorstr='#00000000', GradientType=1);
}
.carousel-control.right {
  left: auto;
  right: 0;
  background-image: -webkit-linear-gradient(left, rgba(0, 0, 0, 0.0001) 0%, rgba(0, 0, 0, 0.5) 100%);
  background-image: -o-linear-gradient(left, rgba(0, 0, 0, 0.0001) 0%, rgba(0, 0, 0, 0.5) 100%);
  background-image: linear-gradient(to right, rgba(0, 0, 0, 0.0001) 0%, rgba(0, 0, 0, 0.5) 100%);
  background-repeat: repeat-x;
  filter: progid:DXImageTransform.Microsoft.gradient(startColorstr='#00000000', endColorstr='#80000000', GradientType=1);
}
.carousel-control:hover,
.carousel-control:focus {
  outline: 0;
  color: #fff;
  text-decoration: none;
  opacity: 0.9;
  filter: alpha(opacity=90);
}
.carousel-control .icon-prev,
.carousel-control .icon-next,
.carousel-control .glyphicon-chevron-left,
.carousel-control .glyphicon-chevron-right {
  position: absolute;
  top: 50%;
  margin-top: -10px;
  z-index: 5;
  display: inline-block;
}
.carousel-control .icon-prev,
.carousel-control .glyphicon-chevron-left {
  left: 50%;
  margin-left: -10px;
}
.carousel-control .icon-next,
.carousel-control .glyphicon-chevron-right {
  right: 50%;
  margin-right: -10px;
}
.carousel-control .icon-prev,
.carousel-control .icon-next {
  width: 20px;
  height: 20px;
  line-height: 1;
  font-family: serif;
}
.carousel-control .icon-prev:before {
  content: '\2039';
}
.carousel-control .icon-next:before {
  content: '\203a';
}
.carousel-indicators {
  position: absolute;
  bottom: 10px;
  left: 50%;
  z-index: 15;
  width: 60%;
  margin-left: -30%;
  padding-left: 0;
  list-style: none;
  text-align: center;
}
.carousel-indicators li {
  display: inline-block;
  width: 10px;
  height: 10px;
  margin: 1px;
  text-indent: -999px;
  border: 1px solid #fff;
  border-radius: 10px;
  cursor: pointer;
  background-color: #000 \9;
  background-color: rgba(0, 0, 0, 0);
}
.carousel-indicators .active {
  margin: 0;
  width: 12px;
  height: 12px;
  background-color: #fff;
}
.carousel-caption {
  position: absolute;
  left: 15%;
  right: 15%;
  bottom: 20px;
  z-index: 10;
  padding-top: 20px;
  padding-bottom: 20px;
  color: #fff;
  text-align: center;
  text-shadow: 0 1px 2px rgba(0, 0, 0, 0.6);
}
.carousel-caption .btn {
  text-shadow: none;
}
@media screen and (min-width: 768px) {
  .carousel-control .glyphicon-chevron-left,
  .carousel-control .glyphicon-chevron-right,
  .carousel-control .icon-prev,
  .carousel-control .icon-next {
    width: 30px;
    height: 30px;
    margin-top: -10px;
    font-size: 30px;
  }
  .carousel-control .glyphicon-chevron-left,
  .carousel-control .icon-prev {
    margin-left: -10px;
  }
  .carousel-control .glyphicon-chevron-right,
  .carousel-control .icon-next {
    margin-right: -10px;
  }
  .carousel-caption {
    left: 20%;
    right: 20%;
    padding-bottom: 30px;
  }
  .carousel-indicators {
    bottom: 20px;
  }
}
.clearfix:before,
.clearfix:after,
.dl-horizontal dd:before,
.dl-horizontal dd:after,
.container:before,
.container:after,
.container-fluid:before,
.container-fluid:after,
.row:before,
.row:after,
.form-horizontal .form-group:before,
.form-horizontal .form-group:after,
.btn-toolbar:before,
.btn-toolbar:after,
.btn-group-vertical > .btn-group:before,
.btn-group-vertical > .btn-group:after,
.nav:before,
.nav:after,
.navbar:before,
.navbar:after,
.navbar-header:before,
.navbar-header:after,
.navbar-collapse:before,
.navbar-collapse:after,
.pager:before,
.pager:after,
.panel-body:before,
.panel-body:after,
.modal-header:before,
.modal-header:after,
.modal-footer:before,
.modal-footer:after,
.item_buttons:before,
.item_buttons:after {
  content: " ";
  display: table;
}
.clearfix:after,
.dl-horizontal dd:after,
.container:after,
.container-fluid:after,
.row:after,
.form-horizontal .form-group:after,
.btn-toolbar:after,
.btn-group-vertical > .btn-group:after,
.nav:after,
.navbar:after,
.navbar-header:after,
.navbar-collapse:after,
.pager:after,
.panel-body:after,
.modal-header:after,
.modal-footer:after,
.item_buttons:after {
  clear: both;
}
.center-block {
  display: block;
  margin-left: auto;
  margin-right: auto;
}
.pull-right {
  float: right !important;
}
.pull-left {
  float: left !important;
}
.hide {
  display: none !important;
}
.show {
  display: block !important;
}
.invisible {
  visibility: hidden;
}
.text-hide {
  font: 0/0 a;
  color: transparent;
  text-shadow: none;
  background-color: transparent;
  border: 0;
}
.hidden {
  display: none !important;
}
.affix {
  position: fixed;
}
@-ms-viewport {
  width: device-width;
}
.visible-xs,
.visible-sm,
.visible-md,
.visible-lg {
  display: none !important;
}
.visible-xs-block,
.visible-xs-inline,
.visible-xs-inline-block,
.visible-sm-block,
.visible-sm-inline,
.visible-sm-inline-block,
.visible-md-block,
.visible-md-inline,
.visible-md-inline-block,
.visible-lg-block,
.visible-lg-inline,
.visible-lg-inline-block {
  display: none !important;
}
@media (max-width: 767px) {
  .visible-xs {
    display: block !important;
  }
  table.visible-xs {
    display: table !important;
  }
  tr.visible-xs {
    display: table-row !important;
  }
  th.visible-xs,
  td.visible-xs {
    display: table-cell !important;
  }
}
@media (max-width: 767px) {
  .visible-xs-block {
    display: block !important;
  }
}
@media (max-width: 767px) {
  .visible-xs-inline {
    display: inline !important;
  }
}
@media (max-width: 767px) {
  .visible-xs-inline-block {
    display: inline-block !important;
  }
}
@media (min-width: 768px) and (max-width: 991px) {
  .visible-sm {
    display: block !important;
  }
  table.visible-sm {
    display: table !important;
  }
  tr.visible-sm {
    display: table-row !important;
  }
  th.visible-sm,
  td.visible-sm {
    display: table-cell !important;
  }
}
@media (min-width: 768px) and (max-width: 991px) {
  .visible-sm-block {
    display: block !important;
  }
}
@media (min-width: 768px) and (max-width: 991px) {
  .visible-sm-inline {
    display: inline !important;
  }
}
@media (min-width: 768px) and (max-width: 991px) {
  .visible-sm-inline-block {
    display: inline-block !important;
  }
}
@media (min-width: 992px) and (max-width: 1199px) {
  .visible-md {
    display: block !important;
  }
  table.visible-md {
    display: table !important;
  }
  tr.visible-md {
    display: table-row !important;
  }
  th.visible-md,
  td.visible-md {
    display: table-cell !important;
  }
}
@media (min-width: 992px) and (max-width: 1199px) {
  .visible-md-block {
    display: block !important;
  }
}
@media (min-width: 992px) and (max-width: 1199px) {
  .visible-md-inline {
    display: inline !important;
  }
}
@media (min-width: 992px) and (max-width: 1199px) {
  .visible-md-inline-block {
    display: inline-block !important;
  }
}
@media (min-width: 1200px) {
  .visible-lg {
    display: block !important;
  }
  table.visible-lg {
    display: table !important;
  }
  tr.visible-lg {
    display: table-row !important;
  }
  th.visible-lg,
  td.visible-lg {
    display: table-cell !important;
  }
}
@media (min-width: 1200px) {
  .visible-lg-block {
    display: block !important;
  }
}
@media (min-width: 1200px) {
  .visible-lg-inline {
    display: inline !important;
  }
}
@media (min-width: 1200px) {
  .visible-lg-inline-block {
    display: inline-block !important;
  }
}
@media (max-width: 767px) {
  .hidden-xs {
    display: none !important;
  }
}
@media (min-width: 768px) and (max-width: 991px) {
  .hidden-sm {
    display: none !important;
  }
}
@media (min-width: 992px) and (max-width: 1199px) {
  .hidden-md {
    display: none !important;
  }
}
@media (min-width: 1200px) {
  .hidden-lg {
    display: none !important;
  }
}
.visible-print {
  display: none !important;
}
@media print {
  .visible-print {
    display: block !important;
  }
  table.visible-print {
    display: table !important;
  }
  tr.visible-print {
    display: table-row !important;
  }
  th.visible-print,
  td.visible-print {
    display: table-cell !important;
  }
}
.visible-print-block {
  display: none !important;
}
@media print {
  .visible-print-block {
    display: block !important;
  }
}
.visible-print-inline {
  display: none !important;
}
@media print {
  .visible-print-inline {
    display: inline !important;
  }
}
.visible-print-inline-block {
  display: none !important;
}
@media print {
  .visible-print-inline-block {
    display: inline-block !important;
  }
}
@media print {
  .hidden-print {
    display: none !important;
  }
}
/*!
*
* Font Awesome
*
*/
/*!
 *  Font Awesome 4.7.0 by @davegandy - http://fontawesome.io - @fontawesome
 *  License - http://fontawesome.io/license (Font: SIL OFL 1.1, CSS: MIT License)
 */
/* FONT PATH
 * -------------------------- */
@font-face {
  font-family: 'FontAwesome';
  src: url('../components/font-awesome/fonts/fontawesome-webfont.eot?v=4.7.0');
  src: url('../components/font-awesome/fonts/fontawesome-webfont.eot?#iefix&v=4.7.0') format('embedded-opentype'), url('../components/font-awesome/fonts/fontawesome-webfont.woff2?v=4.7.0') format('woff2'), url('../components/font-awesome/fonts/fontawesome-webfont.woff?v=4.7.0') format('woff'), url('../components/font-awesome/fonts/fontawesome-webfont.ttf?v=4.7.0') format('truetype'), url('../components/font-awesome/fonts/fontawesome-webfont.svg?v=4.7.0#fontawesomeregular') format('svg');
  font-weight: normal;
  font-style: normal;
}
.fa {
  display: inline-block;
  font: normal normal normal 14px/1 FontAwesome;
  font-size: inherit;
  text-rendering: auto;
  -webkit-font-smoothing: antialiased;
  -moz-osx-font-smoothing: grayscale;
}
/* makes the font 33% larger relative to the icon container */
.fa-lg {
  font-size: 1.33333333em;
  line-height: 0.75em;
  vertical-align: -15%;
}
.fa-2x {
  font-size: 2em;
}
.fa-3x {
  font-size: 3em;
}
.fa-4x {
  font-size: 4em;
}
.fa-5x {
  font-size: 5em;
}
.fa-fw {
  width: 1.28571429em;
  text-align: center;
}
.fa-ul {
  padding-left: 0;
  margin-left: 2.14285714em;
  list-style-type: none;
}
.fa-ul > li {
  position: relative;
}
.fa-li {
  position: absolute;
  left: -2.14285714em;
  width: 2.14285714em;
  top: 0.14285714em;
  text-align: center;
}
.fa-li.fa-lg {
  left: -1.85714286em;
}
.fa-border {
  padding: .2em .25em .15em;
  border: solid 0.08em #eee;
  border-radius: .1em;
}
.fa-pull-left {
  float: left;
}
.fa-pull-right {
  float: right;
}
.fa.fa-pull-left {
  margin-right: .3em;
}
.fa.fa-pull-right {
  margin-left: .3em;
}
/* Deprecated as of 4.4.0 */
.pull-right {
  float: right;
}
.pull-left {
  float: left;
}
.fa.pull-left {
  margin-right: .3em;
}
.fa.pull-right {
  margin-left: .3em;
}
.fa-spin {
  -webkit-animation: fa-spin 2s infinite linear;
  animation: fa-spin 2s infinite linear;
}
.fa-pulse {
  -webkit-animation: fa-spin 1s infinite steps(8);
  animation: fa-spin 1s infinite steps(8);
}
@-webkit-keyframes fa-spin {
  0% {
    -webkit-transform: rotate(0deg);
    transform: rotate(0deg);
  }
  100% {
    -webkit-transform: rotate(359deg);
    transform: rotate(359deg);
  }
}
@keyframes fa-spin {
  0% {
    -webkit-transform: rotate(0deg);
    transform: rotate(0deg);
  }
  100% {
    -webkit-transform: rotate(359deg);
    transform: rotate(359deg);
  }
}
.fa-rotate-90 {
  -ms-filter: "progid:DXImageTransform.Microsoft.BasicImage(rotation=1)";
  -webkit-transform: rotate(90deg);
  -ms-transform: rotate(90deg);
  transform: rotate(90deg);
}
.fa-rotate-180 {
  -ms-filter: "progid:DXImageTransform.Microsoft.BasicImage(rotation=2)";
  -webkit-transform: rotate(180deg);
  -ms-transform: rotate(180deg);
  transform: rotate(180deg);
}
.fa-rotate-270 {
  -ms-filter: "progid:DXImageTransform.Microsoft.BasicImage(rotation=3)";
  -webkit-transform: rotate(270deg);
  -ms-transform: rotate(270deg);
  transform: rotate(270deg);
}
.fa-flip-horizontal {
  -ms-filter: "progid:DXImageTransform.Microsoft.BasicImage(rotation=0, mirror=1)";
  -webkit-transform: scale(-1, 1);
  -ms-transform: scale(-1, 1);
  transform: scale(-1, 1);
}
.fa-flip-vertical {
  -ms-filter: "progid:DXImageTransform.Microsoft.BasicImage(rotation=2, mirror=1)";
  -webkit-transform: scale(1, -1);
  -ms-transform: scale(1, -1);
  transform: scale(1, -1);
}
:root .fa-rotate-90,
:root .fa-rotate-180,
:root .fa-rotate-270,
:root .fa-flip-horizontal,
:root .fa-flip-vertical {
  filter: none;
}
.fa-stack {
  position: relative;
  display: inline-block;
  width: 2em;
  height: 2em;
  line-height: 2em;
  vertical-align: middle;
}
.fa-stack-1x,
.fa-stack-2x {
  position: absolute;
  left: 0;
  width: 100%;
  text-align: center;
}
.fa-stack-1x {
  line-height: inherit;
}
.fa-stack-2x {
  font-size: 2em;
}
.fa-inverse {
  color: #fff;
}
/* Font Awesome uses the Unicode Private Use Area (PUA) to ensure screen
   readers do not read off random characters that represent icons */
.fa-glass:before {
  content: "\f000";
}
.fa-music:before {
  content: "\f001";
}
.fa-search:before {
  content: "\f002";
}
.fa-envelope-o:before {
  content: "\f003";
}
.fa-heart:before {
  content: "\f004";
}
.fa-star:before {
  content: "\f005";
}
.fa-star-o:before {
  content: "\f006";
}
.fa-user:before {
  content: "\f007";
}
.fa-film:before {
  content: "\f008";
}
.fa-th-large:before {
  content: "\f009";
}
.fa-th:before {
  content: "\f00a";
}
.fa-th-list:before {
  content: "\f00b";
}
.fa-check:before {
  content: "\f00c";
}
.fa-remove:before,
.fa-close:before,
.fa-times:before {
  content: "\f00d";
}
.fa-search-plus:before {
  content: "\f00e";
}
.fa-search-minus:before {
  content: "\f010";
}
.fa-power-off:before {
  content: "\f011";
}
.fa-signal:before {
  content: "\f012";
}
.fa-gear:before,
.fa-cog:before {
  content: "\f013";
}
.fa-trash-o:before {
  content: "\f014";
}
.fa-home:before {
  content: "\f015";
}
.fa-file-o:before {
  content: "\f016";
}
.fa-clock-o:before {
  content: "\f017";
}
.fa-road:before {
  content: "\f018";
}
.fa-download:before {
  content: "\f019";
}
.fa-arrow-circle-o-down:before {
  content: "\f01a";
}
.fa-arrow-circle-o-up:before {
  content: "\f01b";
}
.fa-inbox:before {
  content: "\f01c";
}
.fa-play-circle-o:before {
  content: "\f01d";
}
.fa-rotate-right:before,
.fa-repeat:before {
  content: "\f01e";
}
.fa-refresh:before {
  content: "\f021";
}
.fa-list-alt:before {
  content: "\f022";
}
.fa-lock:before {
  content: "\f023";
}
.fa-flag:before {
  content: "\f024";
}
.fa-headphones:before {
  content: "\f025";
}
.fa-volume-off:before {
  content: "\f026";
}
.fa-volume-down:before {
  content: "\f027";
}
.fa-volume-up:before {
  content: "\f028";
}
.fa-qrcode:before {
  content: "\f029";
}
.fa-barcode:before {
  content: "\f02a";
}
.fa-tag:before {
  content: "\f02b";
}
.fa-tags:before {
  content: "\f02c";
}
.fa-book:before {
  content: "\f02d";
}
.fa-bookmark:before {
  content: "\f02e";
}
.fa-print:before {
  content: "\f02f";
}
.fa-camera:before {
  content: "\f030";
}
.fa-font:before {
  content: "\f031";
}
.fa-bold:before {
  content: "\f032";
}
.fa-italic:before {
  content: "\f033";
}
.fa-text-height:before {
  content: "\f034";
}
.fa-text-width:before {
  content: "\f035";
}
.fa-align-left:before {
  content: "\f036";
}
.fa-align-center:before {
  content: "\f037";
}
.fa-align-right:before {
  content: "\f038";
}
.fa-align-justify:before {
  content: "\f039";
}
.fa-list:before {
  content: "\f03a";
}
.fa-dedent:before,
.fa-outdent:before {
  content: "\f03b";
}
.fa-indent:before {
  content: "\f03c";
}
.fa-video-camera:before {
  content: "\f03d";
}
.fa-photo:before,
.fa-image:before,
.fa-picture-o:before {
  content: "\f03e";
}
.fa-pencil:before {
  content: "\f040";
}
.fa-map-marker:before {
  content: "\f041";
}
.fa-adjust:before {
  content: "\f042";
}
.fa-tint:before {
  content: "\f043";
}
.fa-edit:before,
.fa-pencil-square-o:before {
  content: "\f044";
}
.fa-share-square-o:before {
  content: "\f045";
}
.fa-check-square-o:before {
  content: "\f046";
}
.fa-arrows:before {
  content: "\f047";
}
.fa-step-backward:before {
  content: "\f048";
}
.fa-fast-backward:before {
  content: "\f049";
}
.fa-backward:before {
  content: "\f04a";
}
.fa-play:before {
  content: "\f04b";
}
.fa-pause:before {
  content: "\f04c";
}
.fa-stop:before {
  content: "\f04d";
}
.fa-forward:before {
  content: "\f04e";
}
.fa-fast-forward:before {
  content: "\f050";
}
.fa-step-forward:before {
  content: "\f051";
}
.fa-eject:before {
  content: "\f052";
}
.fa-chevron-left:before {
  content: "\f053";
}
.fa-chevron-right:before {
  content: "\f054";
}
.fa-plus-circle:before {
  content: "\f055";
}
.fa-minus-circle:before {
  content: "\f056";
}
.fa-times-circle:before {
  content: "\f057";
}
.fa-check-circle:before {
  content: "\f058";
}
.fa-question-circle:before {
  content: "\f059";
}
.fa-info-circle:before {
  content: "\f05a";
}
.fa-crosshairs:before {
  content: "\f05b";
}
.fa-times-circle-o:before {
  content: "\f05c";
}
.fa-check-circle-o:before {
  content: "\f05d";
}
.fa-ban:before {
  content: "\f05e";
}
.fa-arrow-left:before {
  content: "\f060";
}
.fa-arrow-right:before {
  content: "\f061";
}
.fa-arrow-up:before {
  content: "\f062";
}
.fa-arrow-down:before {
  content: "\f063";
}
.fa-mail-forward:before,
.fa-share:before {
  content: "\f064";
}
.fa-expand:before {
  content: "\f065";
}
.fa-compress:before {
  content: "\f066";
}
.fa-plus:before {
  content: "\f067";
}
.fa-minus:before {
  content: "\f068";
}
.fa-asterisk:before {
  content: "\f069";
}
.fa-exclamation-circle:before {
  content: "\f06a";
}
.fa-gift:before {
  content: "\f06b";
}
.fa-leaf:before {
  content: "\f06c";
}
.fa-fire:before {
  content: "\f06d";
}
.fa-eye:before {
  content: "\f06e";
}
.fa-eye-slash:before {
  content: "\f070";
}
.fa-warning:before,
.fa-exclamation-triangle:before {
  content: "\f071";
}
.fa-plane:before {
  content: "\f072";
}
.fa-calendar:before {
  content: "\f073";
}
.fa-random:before {
  content: "\f074";
}
.fa-comment:before {
  content: "\f075";
}
.fa-magnet:before {
  content: "\f076";
}
.fa-chevron-up:before {
  content: "\f077";
}
.fa-chevron-down:before {
  content: "\f078";
}
.fa-retweet:before {
  content: "\f079";
}
.fa-shopping-cart:before {
  content: "\f07a";
}
.fa-folder:before {
  content: "\f07b";
}
.fa-folder-open:before {
  content: "\f07c";
}
.fa-arrows-v:before {
  content: "\f07d";
}
.fa-arrows-h:before {
  content: "\f07e";
}
.fa-bar-chart-o:before,
.fa-bar-chart:before {
  content: "\f080";
}
.fa-twitter-square:before {
  content: "\f081";
}
.fa-facebook-square:before {
  content: "\f082";
}
.fa-camera-retro:before {
  content: "\f083";
}
.fa-key:before {
  content: "\f084";
}
.fa-gears:before,
.fa-cogs:before {
  content: "\f085";
}
.fa-comments:before {
  content: "\f086";
}
.fa-thumbs-o-up:before {
  content: "\f087";
}
.fa-thumbs-o-down:before {
  content: "\f088";
}
.fa-star-half:before {
  content: "\f089";
}
.fa-heart-o:before {
  content: "\f08a";
}
.fa-sign-out:before {
  content: "\f08b";
}
.fa-linkedin-square:before {
  content: "\f08c";
}
.fa-thumb-tack:before {
  content: "\f08d";
}
.fa-external-link:before {
  content: "\f08e";
}
.fa-sign-in:before {
  content: "\f090";
}
.fa-trophy:before {
  content: "\f091";
}
.fa-github-square:before {
  content: "\f092";
}
.fa-upload:before {
  content: "\f093";
}
.fa-lemon-o:before {
  content: "\f094";
}
.fa-phone:before {
  content: "\f095";
}
.fa-square-o:before {
  content: "\f096";
}
.fa-bookmark-o:before {
  content: "\f097";
}
.fa-phone-square:before {
  content: "\f098";
}
.fa-twitter:before {
  content: "\f099";
}
.fa-facebook-f:before,
.fa-facebook:before {
  content: "\f09a";
}
.fa-github:before {
  content: "\f09b";
}
.fa-unlock:before {
  content: "\f09c";
}
.fa-credit-card:before {
  content: "\f09d";
}
.fa-feed:before,
.fa-rss:before {
  content: "\f09e";
}
.fa-hdd-o:before {
  content: "\f0a0";
}
.fa-bullhorn:before {
  content: "\f0a1";
}
.fa-bell:before {
  content: "\f0f3";
}
.fa-certificate:before {
  content: "\f0a3";
}
.fa-hand-o-right:before {
  content: "\f0a4";
}
.fa-hand-o-left:before {
  content: "\f0a5";
}
.fa-hand-o-up:before {
  content: "\f0a6";
}
.fa-hand-o-down:before {
  content: "\f0a7";
}
.fa-arrow-circle-left:before {
  content: "\f0a8";
}
.fa-arrow-circle-right:before {
  content: "\f0a9";
}
.fa-arrow-circle-up:before {
  content: "\f0aa";
}
.fa-arrow-circle-down:before {
  content: "\f0ab";
}
.fa-globe:before {
  content: "\f0ac";
}
.fa-wrench:before {
  content: "\f0ad";
}
.fa-tasks:before {
  content: "\f0ae";
}
.fa-filter:before {
  content: "\f0b0";
}
.fa-briefcase:before {
  content: "\f0b1";
}
.fa-arrows-alt:before {
  content: "\f0b2";
}
.fa-group:before,
.fa-users:before {
  content: "\f0c0";
}
.fa-chain:before,
.fa-link:before {
  content: "\f0c1";
}
.fa-cloud:before {
  content: "\f0c2";
}
.fa-flask:before {
  content: "\f0c3";
}
.fa-cut:before,
.fa-scissors:before {
  content: "\f0c4";
}
.fa-copy:before,
.fa-files-o:before {
  content: "\f0c5";
}
.fa-paperclip:before {
  content: "\f0c6";
}
.fa-save:before,
.fa-floppy-o:before {
  content: "\f0c7";
}
.fa-square:before {
  content: "\f0c8";
}
.fa-navicon:before,
.fa-reorder:before,
.fa-bars:before {
  content: "\f0c9";
}
.fa-list-ul:before {
  content: "\f0ca";
}
.fa-list-ol:before {
  content: "\f0cb";
}
.fa-strikethrough:before {
  content: "\f0cc";
}
.fa-underline:before {
  content: "\f0cd";
}
.fa-table:before {
  content: "\f0ce";
}
.fa-magic:before {
  content: "\f0d0";
}
.fa-truck:before {
  content: "\f0d1";
}
.fa-pinterest:before {
  content: "\f0d2";
}
.fa-pinterest-square:before {
  content: "\f0d3";
}
.fa-google-plus-square:before {
  content: "\f0d4";
}
.fa-google-plus:before {
  content: "\f0d5";
}
.fa-money:before {
  content: "\f0d6";
}
.fa-caret-down:before {
  content: "\f0d7";
}
.fa-caret-up:before {
  content: "\f0d8";
}
.fa-caret-left:before {
  content: "\f0d9";
}
.fa-caret-right:before {
  content: "\f0da";
}
.fa-columns:before {
  content: "\f0db";
}
.fa-unsorted:before,
.fa-sort:before {
  content: "\f0dc";
}
.fa-sort-down:before,
.fa-sort-desc:before {
  content: "\f0dd";
}
.fa-sort-up:before,
.fa-sort-asc:before {
  content: "\f0de";
}
.fa-envelope:before {
  content: "\f0e0";
}
.fa-linkedin:before {
  content: "\f0e1";
}
.fa-rotate-left:before,
.fa-undo:before {
  content: "\f0e2";
}
.fa-legal:before,
.fa-gavel:before {
  content: "\f0e3";
}
.fa-dashboard:before,
.fa-tachometer:before {
  content: "\f0e4";
}
.fa-comment-o:before {
  content: "\f0e5";
}
.fa-comments-o:before {
  content: "\f0e6";
}
.fa-flash:before,
.fa-bolt:before {
  content: "\f0e7";
}
.fa-sitemap:before {
  content: "\f0e8";
}
.fa-umbrella:before {
  content: "\f0e9";
}
.fa-paste:before,
.fa-clipboard:before {
  content: "\f0ea";
}
.fa-lightbulb-o:before {
  content: "\f0eb";
}
.fa-exchange:before {
  content: "\f0ec";
}
.fa-cloud-download:before {
  content: "\f0ed";
}
.fa-cloud-upload:before {
  content: "\f0ee";
}
.fa-user-md:before {
  content: "\f0f0";
}
.fa-stethoscope:before {
  content: "\f0f1";
}
.fa-suitcase:before {
  content: "\f0f2";
}
.fa-bell-o:before {
  content: "\f0a2";
}
.fa-coffee:before {
  content: "\f0f4";
}
.fa-cutlery:before {
  content: "\f0f5";
}
.fa-file-text-o:before {
  content: "\f0f6";
}
.fa-building-o:before {
  content: "\f0f7";
}
.fa-hospital-o:before {
  content: "\f0f8";
}
.fa-ambulance:before {
  content: "\f0f9";
}
.fa-medkit:before {
  content: "\f0fa";
}
.fa-fighter-jet:before {
  content: "\f0fb";
}
.fa-beer:before {
  content: "\f0fc";
}
.fa-h-square:before {
  content: "\f0fd";
}
.fa-plus-square:before {
  content: "\f0fe";
}
.fa-angle-double-left:before {
  content: "\f100";
}
.fa-angle-double-right:before {
  content: "\f101";
}
.fa-angle-double-up:before {
  content: "\f102";
}
.fa-angle-double-down:before {
  content: "\f103";
}
.fa-angle-left:before {
  content: "\f104";
}
.fa-angle-right:before {
  content: "\f105";
}
.fa-angle-up:before {
  content: "\f106";
}
.fa-angle-down:before {
  content: "\f107";
}
.fa-desktop:before {
  content: "\f108";
}
.fa-laptop:before {
  content: "\f109";
}
.fa-tablet:before {
  content: "\f10a";
}
.fa-mobile-phone:before,
.fa-mobile:before {
  content: "\f10b";
}
.fa-circle-o:before {
  content: "\f10c";
}
.fa-quote-left:before {
  content: "\f10d";
}
.fa-quote-right:before {
  content: "\f10e";
}
.fa-spinner:before {
  content: "\f110";
}
.fa-circle:before {
  content: "\f111";
}
.fa-mail-reply:before,
.fa-reply:before {
  content: "\f112";
}
.fa-github-alt:before {
  content: "\f113";
}
.fa-folder-o:before {
  content: "\f114";
}
.fa-folder-open-o:before {
  content: "\f115";
}
.fa-smile-o:before {
  content: "\f118";
}
.fa-frown-o:before {
  content: "\f119";
}
.fa-meh-o:before {
  content: "\f11a";
}
.fa-gamepad:before {
  content: "\f11b";
}
.fa-keyboard-o:before {
  content: "\f11c";
}
.fa-flag-o:before {
  content: "\f11d";
}
.fa-flag-checkered:before {
  content: "\f11e";
}
.fa-terminal:before {
  content: "\f120";
}
.fa-code:before {
  content: "\f121";
}
.fa-mail-reply-all:before,
.fa-reply-all:before {
  content: "\f122";
}
.fa-star-half-empty:before,
.fa-star-half-full:before,
.fa-star-half-o:before {
  content: "\f123";
}
.fa-location-arrow:before {
  content: "\f124";
}
.fa-crop:before {
  content: "\f125";
}
.fa-code-fork:before {
  content: "\f126";
}
.fa-unlink:before,
.fa-chain-broken:before {
  content: "\f127";
}
.fa-question:before {
  content: "\f128";
}
.fa-info:before {
  content: "\f129";
}
.fa-exclamation:before {
  content: "\f12a";
}
.fa-superscript:before {
  content: "\f12b";
}
.fa-subscript:before {
  content: "\f12c";
}
.fa-eraser:before {
  content: "\f12d";
}
.fa-puzzle-piece:before {
  content: "\f12e";
}
.fa-microphone:before {
  content: "\f130";
}
.fa-microphone-slash:before {
  content: "\f131";
}
.fa-shield:before {
  content: "\f132";
}
.fa-calendar-o:before {
  content: "\f133";
}
.fa-fire-extinguisher:before {
  content: "\f134";
}
.fa-rocket:before {
  content: "\f135";
}
.fa-maxcdn:before {
  content: "\f136";
}
.fa-chevron-circle-left:before {
  content: "\f137";
}
.fa-chevron-circle-right:before {
  content: "\f138";
}
.fa-chevron-circle-up:before {
  content: "\f139";
}
.fa-chevron-circle-down:before {
  content: "\f13a";
}
.fa-html5:before {
  content: "\f13b";
}
.fa-css3:before {
  content: "\f13c";
}
.fa-anchor:before {
  content: "\f13d";
}
.fa-unlock-alt:before {
  content: "\f13e";
}
.fa-bullseye:before {
  content: "\f140";
}
.fa-ellipsis-h:before {
  content: "\f141";
}
.fa-ellipsis-v:before {
  content: "\f142";
}
.fa-rss-square:before {
  content: "\f143";
}
.fa-play-circle:before {
  content: "\f144";
}
.fa-ticket:before {
  content: "\f145";
}
.fa-minus-square:before {
  content: "\f146";
}
.fa-minus-square-o:before {
  content: "\f147";
}
.fa-level-up:before {
  content: "\f148";
}
.fa-level-down:before {
  content: "\f149";
}
.fa-check-square:before {
  content: "\f14a";
}
.fa-pencil-square:before {
  content: "\f14b";
}
.fa-external-link-square:before {
  content: "\f14c";
}
.fa-share-square:before {
  content: "\f14d";
}
.fa-compass:before {
  content: "\f14e";
}
.fa-toggle-down:before,
.fa-caret-square-o-down:before {
  content: "\f150";
}
.fa-toggle-up:before,
.fa-caret-square-o-up:before {
  content: "\f151";
}
.fa-toggle-right:before,
.fa-caret-square-o-right:before {
  content: "\f152";
}
.fa-euro:before,
.fa-eur:before {
  content: "\f153";
}
.fa-gbp:before {
  content: "\f154";
}
.fa-dollar:before,
.fa-usd:before {
  content: "\f155";
}
.fa-rupee:before,
.fa-inr:before {
  content: "\f156";
}
.fa-cny:before,
.fa-rmb:before,
.fa-yen:before,
.fa-jpy:before {
  content: "\f157";
}
.fa-ruble:before,
.fa-rouble:before,
.fa-rub:before {
  content: "\f158";
}
.fa-won:before,
.fa-krw:before {
  content: "\f159";
}
.fa-bitcoin:before,
.fa-btc:before {
  content: "\f15a";
}
.fa-file:before {
  content: "\f15b";
}
.fa-file-text:before {
  content: "\f15c";
}
.fa-sort-alpha-asc:before {
  content: "\f15d";
}
.fa-sort-alpha-desc:before {
  content: "\f15e";
}
.fa-sort-amount-asc:before {
  content: "\f160";
}
.fa-sort-amount-desc:before {
  content: "\f161";
}
.fa-sort-numeric-asc:before {
  content: "\f162";
}
.fa-sort-numeric-desc:before {
  content: "\f163";
}
.fa-thumbs-up:before {
  content: "\f164";
}
.fa-thumbs-down:before {
  content: "\f165";
}
.fa-youtube-square:before {
  content: "\f166";
}
.fa-youtube:before {
  content: "\f167";
}
.fa-xing:before {
  content: "\f168";
}
.fa-xing-square:before {
  content: "\f169";
}
.fa-youtube-play:before {
  content: "\f16a";
}
.fa-dropbox:before {
  content: "\f16b";
}
.fa-stack-overflow:before {
  content: "\f16c";
}
.fa-instagram:before {
  content: "\f16d";
}
.fa-flickr:before {
  content: "\f16e";
}
.fa-adn:before {
  content: "\f170";
}
.fa-bitbucket:before {
  content: "\f171";
}
.fa-bitbucket-square:before {
  content: "\f172";
}
.fa-tumblr:before {
  content: "\f173";
}
.fa-tumblr-square:before {
  content: "\f174";
}
.fa-long-arrow-down:before {
  content: "\f175";
}
.fa-long-arrow-up:before {
  content: "\f176";
}
.fa-long-arrow-left:before {
  content: "\f177";
}
.fa-long-arrow-right:before {
  content: "\f178";
}
.fa-apple:before {
  content: "\f179";
}
.fa-windows:before {
  content: "\f17a";
}
.fa-android:before {
  content: "\f17b";
}
.fa-linux:before {
  content: "\f17c";
}
.fa-dribbble:before {
  content: "\f17d";
}
.fa-skype:before {
  content: "\f17e";
}
.fa-foursquare:before {
  content: "\f180";
}
.fa-trello:before {
  content: "\f181";
}
.fa-female:before {
  content: "\f182";
}
.fa-male:before {
  content: "\f183";
}
.fa-gittip:before,
.fa-gratipay:before {
  content: "\f184";
}
.fa-sun-o:before {
  content: "\f185";
}
.fa-moon-o:before {
  content: "\f186";
}
.fa-archive:before {
  content: "\f187";
}
.fa-bug:before {
  content: "\f188";
}
.fa-vk:before {
  content: "\f189";
}
.fa-weibo:before {
  content: "\f18a";
}
.fa-renren:before {
  content: "\f18b";
}
.fa-pagelines:before {
  content: "\f18c";
}
.fa-stack-exchange:before {
  content: "\f18d";
}
.fa-arrow-circle-o-right:before {
  content: "\f18e";
}
.fa-arrow-circle-o-left:before {
  content: "\f190";
}
.fa-toggle-left:before,
.fa-caret-square-o-left:before {
  content: "\f191";
}
.fa-dot-circle-o:before {
  content: "\f192";
}
.fa-wheelchair:before {
  content: "\f193";
}
.fa-vimeo-square:before {
  content: "\f194";
}
.fa-turkish-lira:before,
.fa-try:before {
  content: "\f195";
}
.fa-plus-square-o:before {
  content: "\f196";
}
.fa-space-shuttle:before {
  content: "\f197";
}
.fa-slack:before {
  content: "\f198";
}
.fa-envelope-square:before {
  content: "\f199";
}
.fa-wordpress:before {
  content: "\f19a";
}
.fa-openid:before {
  content: "\f19b";
}
.fa-institution:before,
.fa-bank:before,
.fa-university:before {
  content: "\f19c";
}
.fa-mortar-board:before,
.fa-graduation-cap:before {
  content: "\f19d";
}
.fa-yahoo:before {
  content: "\f19e";
}
.fa-google:before {
  content: "\f1a0";
}
.fa-reddit:before {
  content: "\f1a1";
}
.fa-reddit-square:before {
  content: "\f1a2";
}
.fa-stumbleupon-circle:before {
  content: "\f1a3";
}
.fa-stumbleupon:before {
  content: "\f1a4";
}
.fa-delicious:before {
  content: "\f1a5";
}
.fa-digg:before {
  content: "\f1a6";
}
.fa-pied-piper-pp:before {
  content: "\f1a7";
}
.fa-pied-piper-alt:before {
  content: "\f1a8";
}
.fa-drupal:before {
  content: "\f1a9";
}
.fa-joomla:before {
  content: "\f1aa";
}
.fa-language:before {
  content: "\f1ab";
}
.fa-fax:before {
  content: "\f1ac";
}
.fa-building:before {
  content: "\f1ad";
}
.fa-child:before {
  content: "\f1ae";
}
.fa-paw:before {
  content: "\f1b0";
}
.fa-spoon:before {
  content: "\f1b1";
}
.fa-cube:before {
  content: "\f1b2";
}
.fa-cubes:before {
  content: "\f1b3";
}
.fa-behance:before {
  content: "\f1b4";
}
.fa-behance-square:before {
  content: "\f1b5";
}
.fa-steam:before {
  content: "\f1b6";
}
.fa-steam-square:before {
  content: "\f1b7";
}
.fa-recycle:before {
  content: "\f1b8";
}
.fa-automobile:before,
.fa-car:before {
  content: "\f1b9";
}
.fa-cab:before,
.fa-taxi:before {
  content: "\f1ba";
}
.fa-tree:before {
  content: "\f1bb";
}
.fa-spotify:before {
  content: "\f1bc";
}
.fa-deviantart:before {
  content: "\f1bd";
}
.fa-soundcloud:before {
  content: "\f1be";
}
.fa-database:before {
  content: "\f1c0";
}
.fa-file-pdf-o:before {
  content: "\f1c1";
}
.fa-file-word-o:before {
  content: "\f1c2";
}
.fa-file-excel-o:before {
  content: "\f1c3";
}
.fa-file-powerpoint-o:before {
  content: "\f1c4";
}
.fa-file-photo-o:before,
.fa-file-picture-o:before,
.fa-file-image-o:before {
  content: "\f1c5";
}
.fa-file-zip-o:before,
.fa-file-archive-o:before {
  content: "\f1c6";
}
.fa-file-sound-o:before,
.fa-file-audio-o:before {
  content: "\f1c7";
}
.fa-file-movie-o:before,
.fa-file-video-o:before {
  content: "\f1c8";
}
.fa-file-code-o:before {
  content: "\f1c9";
}
.fa-vine:before {
  content: "\f1ca";
}
.fa-codepen:before {
  content: "\f1cb";
}
.fa-jsfiddle:before {
  content: "\f1cc";
}
.fa-life-bouy:before,
.fa-life-buoy:before,
.fa-life-saver:before,
.fa-support:before,
.fa-life-ring:before {
  content: "\f1cd";
}
.fa-circle-o-notch:before {
  content: "\f1ce";
}
.fa-ra:before,
.fa-resistance:before,
.fa-rebel:before {
  content: "\f1d0";
}
.fa-ge:before,
.fa-empire:before {
  content: "\f1d1";
}
.fa-git-square:before {
  content: "\f1d2";
}
.fa-git:before {
  content: "\f1d3";
}
.fa-y-combinator-square:before,
.fa-yc-square:before,
.fa-hacker-news:before {
  content: "\f1d4";
}
.fa-tencent-weibo:before {
  content: "\f1d5";
}
.fa-qq:before {
  content: "\f1d6";
}
.fa-wechat:before,
.fa-weixin:before {
  content: "\f1d7";
}
.fa-send:before,
.fa-paper-plane:before {
  content: "\f1d8";
}
.fa-send-o:before,
.fa-paper-plane-o:before {
  content: "\f1d9";
}
.fa-history:before {
  content: "\f1da";
}
.fa-circle-thin:before {
  content: "\f1db";
}
.fa-header:before {
  content: "\f1dc";
}
.fa-paragraph:before {
  content: "\f1dd";
}
.fa-sliders:before {
  content: "\f1de";
}
.fa-share-alt:before {
  content: "\f1e0";
}
.fa-share-alt-square:before {
  content: "\f1e1";
}
.fa-bomb:before {
  content: "\f1e2";
}
.fa-soccer-ball-o:before,
.fa-futbol-o:before {
  content: "\f1e3";
}
.fa-tty:before {
  content: "\f1e4";
}
.fa-binoculars:before {
  content: "\f1e5";
}
.fa-plug:before {
  content: "\f1e6";
}
.fa-slideshare:before {
  content: "\f1e7";
}
.fa-twitch:before {
  content: "\f1e8";
}
.fa-yelp:before {
  content: "\f1e9";
}
.fa-newspaper-o:before {
  content: "\f1ea";
}
.fa-wifi:before {
  content: "\f1eb";
}
.fa-calculator:before {
  content: "\f1ec";
}
.fa-paypal:before {
  content: "\f1ed";
}
.fa-google-wallet:before {
  content: "\f1ee";
}
.fa-cc-visa:before {
  content: "\f1f0";
}
.fa-cc-mastercard:before {
  content: "\f1f1";
}
.fa-cc-discover:before {
  content: "\f1f2";
}
.fa-cc-amex:before {
  content: "\f1f3";
}
.fa-cc-paypal:before {
  content: "\f1f4";
}
.fa-cc-stripe:before {
  content: "\f1f5";
}
.fa-bell-slash:before {
  content: "\f1f6";
}
.fa-bell-slash-o:before {
  content: "\f1f7";
}
.fa-trash:before {
  content: "\f1f8";
}
.fa-copyright:before {
  content: "\f1f9";
}
.fa-at:before {
  content: "\f1fa";
}
.fa-eyedropper:before {
  content: "\f1fb";
}
.fa-paint-brush:before {
  content: "\f1fc";
}
.fa-birthday-cake:before {
  content: "\f1fd";
}
.fa-area-chart:before {
  content: "\f1fe";
}
.fa-pie-chart:before {
  content: "\f200";
}
.fa-line-chart:before {
  content: "\f201";
}
.fa-lastfm:before {
  content: "\f202";
}
.fa-lastfm-square:before {
  content: "\f203";
}
.fa-toggle-off:before {
  content: "\f204";
}
.fa-toggle-on:before {
  content: "\f205";
}
.fa-bicycle:before {
  content: "\f206";
}
.fa-bus:before {
  content: "\f207";
}
.fa-ioxhost:before {
  content: "\f208";
}
.fa-angellist:before {
  content: "\f209";
}
.fa-cc:before {
  content: "\f20a";
}
.fa-shekel:before,
.fa-sheqel:before,
.fa-ils:before {
  content: "\f20b";
}
.fa-meanpath:before {
  content: "\f20c";
}
.fa-buysellads:before {
  content: "\f20d";
}
.fa-connectdevelop:before {
  content: "\f20e";
}
.fa-dashcube:before {
  content: "\f210";
}
.fa-forumbee:before {
  content: "\f211";
}
.fa-leanpub:before {
  content: "\f212";
}
.fa-sellsy:before {
  content: "\f213";
}
.fa-shirtsinbulk:before {
  content: "\f214";
}
.fa-simplybuilt:before {
  content: "\f215";
}
.fa-skyatlas:before {
  content: "\f216";
}
.fa-cart-plus:before {
  content: "\f217";
}
.fa-cart-arrow-down:before {
  content: "\f218";
}
.fa-diamond:before {
  content: "\f219";
}
.fa-ship:before {
  content: "\f21a";
}
.fa-user-secret:before {
  content: "\f21b";
}
.fa-motorcycle:before {
  content: "\f21c";
}
.fa-street-view:before {
  content: "\f21d";
}
.fa-heartbeat:before {
  content: "\f21e";
}
.fa-venus:before {
  content: "\f221";
}
.fa-mars:before {
  content: "\f222";
}
.fa-mercury:before {
  content: "\f223";
}
.fa-intersex:before,
.fa-transgender:before {
  content: "\f224";
}
.fa-transgender-alt:before {
  content: "\f225";
}
.fa-venus-double:before {
  content: "\f226";
}
.fa-mars-double:before {
  content: "\f227";
}
.fa-venus-mars:before {
  content: "\f228";
}
.fa-mars-stroke:before {
  content: "\f229";
}
.fa-mars-stroke-v:before {
  content: "\f22a";
}
.fa-mars-stroke-h:before {
  content: "\f22b";
}
.fa-neuter:before {
  content: "\f22c";
}
.fa-genderless:before {
  content: "\f22d";
}
.fa-facebook-official:before {
  content: "\f230";
}
.fa-pinterest-p:before {
  content: "\f231";
}
.fa-whatsapp:before {
  content: "\f232";
}
.fa-server:before {
  content: "\f233";
}
.fa-user-plus:before {
  content: "\f234";
}
.fa-user-times:before {
  content: "\f235";
}
.fa-hotel:before,
.fa-bed:before {
  content: "\f236";
}
.fa-viacoin:before {
  content: "\f237";
}
.fa-train:before {
  content: "\f238";
}
.fa-subway:before {
  content: "\f239";
}
.fa-medium:before {
  content: "\f23a";
}
.fa-yc:before,
.fa-y-combinator:before {
  content: "\f23b";
}
.fa-optin-monster:before {
  content: "\f23c";
}
.fa-opencart:before {
  content: "\f23d";
}
.fa-expeditedssl:before {
  content: "\f23e";
}
.fa-battery-4:before,
.fa-battery:before,
.fa-battery-full:before {
  content: "\f240";
}
.fa-battery-3:before,
.fa-battery-three-quarters:before {
  content: "\f241";
}
.fa-battery-2:before,
.fa-battery-half:before {
  content: "\f242";
}
.fa-battery-1:before,
.fa-battery-quarter:before {
  content: "\f243";
}
.fa-battery-0:before,
.fa-battery-empty:before {
  content: "\f244";
}
.fa-mouse-pointer:before {
  content: "\f245";
}
.fa-i-cursor:before {
  content: "\f246";
}
.fa-object-group:before {
  content: "\f247";
}
.fa-object-ungroup:before {
  content: "\f248";
}
.fa-sticky-note:before {
  content: "\f249";
}
.fa-sticky-note-o:before {
  content: "\f24a";
}
.fa-cc-jcb:before {
  content: "\f24b";
}
.fa-cc-diners-club:before {
  content: "\f24c";
}
.fa-clone:before {
  content: "\f24d";
}
.fa-balance-scale:before {
  content: "\f24e";
}
.fa-hourglass-o:before {
  content: "\f250";
}
.fa-hourglass-1:before,
.fa-hourglass-start:before {
  content: "\f251";
}
.fa-hourglass-2:before,
.fa-hourglass-half:before {
  content: "\f252";
}
.fa-hourglass-3:before,
.fa-hourglass-end:before {
  content: "\f253";
}
.fa-hourglass:before {
  content: "\f254";
}
.fa-hand-grab-o:before,
.fa-hand-rock-o:before {
  content: "\f255";
}
.fa-hand-stop-o:before,
.fa-hand-paper-o:before {
  content: "\f256";
}
.fa-hand-scissors-o:before {
  content: "\f257";
}
.fa-hand-lizard-o:before {
  content: "\f258";
}
.fa-hand-spock-o:before {
  content: "\f259";
}
.fa-hand-pointer-o:before {
  content: "\f25a";
}
.fa-hand-peace-o:before {
  content: "\f25b";
}
.fa-trademark:before {
  content: "\f25c";
}
.fa-registered:before {
  content: "\f25d";
}
.fa-creative-commons:before {
  content: "\f25e";
}
.fa-gg:before {
  content: "\f260";
}
.fa-gg-circle:before {
  content: "\f261";
}
.fa-tripadvisor:before {
  content: "\f262";
}
.fa-odnoklassniki:before {
  content: "\f263";
}
.fa-odnoklassniki-square:before {
  content: "\f264";
}
.fa-get-pocket:before {
  content: "\f265";
}
.fa-wikipedia-w:before {
  content: "\f266";
}
.fa-safari:before {
  content: "\f267";
}
.fa-chrome:before {
  content: "\f268";
}
.fa-firefox:before {
  content: "\f269";
}
.fa-opera:before {
  content: "\f26a";
}
.fa-internet-explorer:before {
  content: "\f26b";
}
.fa-tv:before,
.fa-television:before {
  content: "\f26c";
}
.fa-contao:before {
  content: "\f26d";
}
.fa-500px:before {
  content: "\f26e";
}
.fa-amazon:before {
  content: "\f270";
}
.fa-calendar-plus-o:before {
  content: "\f271";
}
.fa-calendar-minus-o:before {
  content: "\f272";
}
.fa-calendar-times-o:before {
  content: "\f273";
}
.fa-calendar-check-o:before {
  content: "\f274";
}
.fa-industry:before {
  content: "\f275";
}
.fa-map-pin:before {
  content: "\f276";
}
.fa-map-signs:before {
  content: "\f277";
}
.fa-map-o:before {
  content: "\f278";
}
.fa-map:before {
  content: "\f279";
}
.fa-commenting:before {
  content: "\f27a";
}
.fa-commenting-o:before {
  content: "\f27b";
}
.fa-houzz:before {
  content: "\f27c";
}
.fa-vimeo:before {
  content: "\f27d";
}
.fa-black-tie:before {
  content: "\f27e";
}
.fa-fonticons:before {
  content: "\f280";
}
.fa-reddit-alien:before {
  content: "\f281";
}
.fa-edge:before {
  content: "\f282";
}
.fa-credit-card-alt:before {
  content: "\f283";
}
.fa-codiepie:before {
  content: "\f284";
}
.fa-modx:before {
  content: "\f285";
}
.fa-fort-awesome:before {
  content: "\f286";
}
.fa-usb:before {
  content: "\f287";
}
.fa-product-hunt:before {
  content: "\f288";
}
.fa-mixcloud:before {
  content: "\f289";
}
.fa-scribd:before {
  content: "\f28a";
}
.fa-pause-circle:before {
  content: "\f28b";
}
.fa-pause-circle-o:before {
  content: "\f28c";
}
.fa-stop-circle:before {
  content: "\f28d";
}
.fa-stop-circle-o:before {
  content: "\f28e";
}
.fa-shopping-bag:before {
  content: "\f290";
}
.fa-shopping-basket:before {
  content: "\f291";
}
.fa-hashtag:before {
  content: "\f292";
}
.fa-bluetooth:before {
  content: "\f293";
}
.fa-bluetooth-b:before {
  content: "\f294";
}
.fa-percent:before {
  content: "\f295";
}
.fa-gitlab:before {
  content: "\f296";
}
.fa-wpbeginner:before {
  content: "\f297";
}
.fa-wpforms:before {
  content: "\f298";
}
.fa-envira:before {
  content: "\f299";
}
.fa-universal-access:before {
  content: "\f29a";
}
.fa-wheelchair-alt:before {
  content: "\f29b";
}
.fa-question-circle-o:before {
  content: "\f29c";
}
.fa-blind:before {
  content: "\f29d";
}
.fa-audio-description:before {
  content: "\f29e";
}
.fa-volume-control-phone:before {
  content: "\f2a0";
}
.fa-braille:before {
  content: "\f2a1";
}
.fa-assistive-listening-systems:before {
  content: "\f2a2";
}
.fa-asl-interpreting:before,
.fa-american-sign-language-interpreting:before {
  content: "\f2a3";
}
.fa-deafness:before,
.fa-hard-of-hearing:before,
.fa-deaf:before {
  content: "\f2a4";
}
.fa-glide:before {
  content: "\f2a5";
}
.fa-glide-g:before {
  content: "\f2a6";
}
.fa-signing:before,
.fa-sign-language:before {
  content: "\f2a7";
}
.fa-low-vision:before {
  content: "\f2a8";
}
.fa-viadeo:before {
  content: "\f2a9";
}
.fa-viadeo-square:before {
  content: "\f2aa";
}
.fa-snapchat:before {
  content: "\f2ab";
}
.fa-snapchat-ghost:before {
  content: "\f2ac";
}
.fa-snapchat-square:before {
  content: "\f2ad";
}
.fa-pied-piper:before {
  content: "\f2ae";
}
.fa-first-order:before {
  content: "\f2b0";
}
.fa-yoast:before {
  content: "\f2b1";
}
.fa-themeisle:before {
  content: "\f2b2";
}
.fa-google-plus-circle:before,
.fa-google-plus-official:before {
  content: "\f2b3";
}
.fa-fa:before,
.fa-font-awesome:before {
  content: "\f2b4";
}
.fa-handshake-o:before {
  content: "\f2b5";
}
.fa-envelope-open:before {
  content: "\f2b6";
}
.fa-envelope-open-o:before {
  content: "\f2b7";
}
.fa-linode:before {
  content: "\f2b8";
}
.fa-address-book:before {
  content: "\f2b9";
}
.fa-address-book-o:before {
  content: "\f2ba";
}
.fa-vcard:before,
.fa-address-card:before {
  content: "\f2bb";
}
.fa-vcard-o:before,
.fa-address-card-o:before {
  content: "\f2bc";
}
.fa-user-circle:before {
  content: "\f2bd";
}
.fa-user-circle-o:before {
  content: "\f2be";
}
.fa-user-o:before {
  content: "\f2c0";
}
.fa-id-badge:before {
  content: "\f2c1";
}
.fa-drivers-license:before,
.fa-id-card:before {
  content: "\f2c2";
}
.fa-drivers-license-o:before,
.fa-id-card-o:before {
  content: "\f2c3";
}
.fa-quora:before {
  content: "\f2c4";
}
.fa-free-code-camp:before {
  content: "\f2c5";
}
.fa-telegram:before {
  content: "\f2c6";
}
.fa-thermometer-4:before,
.fa-thermometer:before,
.fa-thermometer-full:before {
  content: "\f2c7";
}
.fa-thermometer-3:before,
.fa-thermometer-three-quarters:before {
  content: "\f2c8";
}
.fa-thermometer-2:before,
.fa-thermometer-half:before {
  content: "\f2c9";
}
.fa-thermometer-1:before,
.fa-thermometer-quarter:before {
  content: "\f2ca";
}
.fa-thermometer-0:before,
.fa-thermometer-empty:before {
  content: "\f2cb";
}
.fa-shower:before {
  content: "\f2cc";
}
.fa-bathtub:before,
.fa-s15:before,
.fa-bath:before {
  content: "\f2cd";
}
.fa-podcast:before {
  content: "\f2ce";
}
.fa-window-maximize:before {
  content: "\f2d0";
}
.fa-window-minimize:before {
  content: "\f2d1";
}
.fa-window-restore:before {
  content: "\f2d2";
}
.fa-times-rectangle:before,
.fa-window-close:before {
  content: "\f2d3";
}
.fa-times-rectangle-o:before,
.fa-window-close-o:before {
  content: "\f2d4";
}
.fa-bandcamp:before {
  content: "\f2d5";
}
.fa-grav:before {
  content: "\f2d6";
}
.fa-etsy:before {
  content: "\f2d7";
}
.fa-imdb:before {
  content: "\f2d8";
}
.fa-ravelry:before {
  content: "\f2d9";
}
.fa-eercast:before {
  content: "\f2da";
}
.fa-microchip:before {
  content: "\f2db";
}
.fa-snowflake-o:before {
  content: "\f2dc";
}
.fa-superpowers:before {
  content: "\f2dd";
}
.fa-wpexplorer:before {
  content: "\f2de";
}
.fa-meetup:before {
  content: "\f2e0";
}
.sr-only {
  position: absolute;
  width: 1px;
  height: 1px;
  padding: 0;
  margin: -1px;
  overflow: hidden;
  clip: rect(0, 0, 0, 0);
  border: 0;
}
.sr-only-focusable:active,
.sr-only-focusable:focus {
  position: static;
  width: auto;
  height: auto;
  margin: 0;
  overflow: visible;
  clip: auto;
}
.sr-only-focusable:active,
.sr-only-focusable:focus {
  position: static;
  width: auto;
  height: auto;
  margin: 0;
  overflow: visible;
  clip: auto;
}
/*!
*
* IPython base
*
*/
.modal.fade .modal-dialog {
  -webkit-transform: translate(0, 0);
  -ms-transform: translate(0, 0);
  -o-transform: translate(0, 0);
  transform: translate(0, 0);
}
code {
  color: #000;
}
pre {
  font-size: inherit;
  line-height: inherit;
}
label {
  font-weight: normal;
}
/* Make the page background atleast 100% the height of the view port */
/* Make the page itself atleast 70% the height of the view port */
.border-box-sizing {
  box-sizing: border-box;
  -moz-box-sizing: border-box;
  -webkit-box-sizing: border-box;
}
.corner-all {
  border-radius: 2px;
}
.no-padding {
  padding: 0px;
}
/* Flexible box model classes */
/* Taken from Alex Russell http://infrequently.org/2009/08/css-3-progress/ */
/* This file is a compatability layer.  It allows the usage of flexible box 
model layouts accross multiple browsers, including older browsers.  The newest,
universal implementation of the flexible box model is used when available (see
`Modern browsers` comments below).  Browsers that are known to implement this 
new spec completely include:

    Firefox 28.0+
    Chrome 29.0+
    Internet Explorer 11+ 
    Opera 17.0+

Browsers not listed, including Safari, are supported via the styling under the
`Old browsers` comments below.
*/
.hbox {
  /* Old browsers */
  display: -webkit-box;
  -webkit-box-orient: horizontal;
  -webkit-box-align: stretch;
  display: -moz-box;
  -moz-box-orient: horizontal;
  -moz-box-align: stretch;
  display: box;
  box-orient: horizontal;
  box-align: stretch;
  /* Modern browsers */
  display: flex;
  flex-direction: row;
  align-items: stretch;
}
.hbox > * {
  /* Old browsers */
  -webkit-box-flex: 0;
  -moz-box-flex: 0;
  box-flex: 0;
  /* Modern browsers */
  flex: none;
}
.vbox {
  /* Old browsers */
  display: -webkit-box;
  -webkit-box-orient: vertical;
  -webkit-box-align: stretch;
  display: -moz-box;
  -moz-box-orient: vertical;
  -moz-box-align: stretch;
  display: box;
  box-orient: vertical;
  box-align: stretch;
  /* Modern browsers */
  display: flex;
  flex-direction: column;
  align-items: stretch;
}
.vbox > * {
  /* Old browsers */
  -webkit-box-flex: 0;
  -moz-box-flex: 0;
  box-flex: 0;
  /* Modern browsers */
  flex: none;
}
.hbox.reverse,
.vbox.reverse,
.reverse {
  /* Old browsers */
  -webkit-box-direction: reverse;
  -moz-box-direction: reverse;
  box-direction: reverse;
  /* Modern browsers */
  flex-direction: row-reverse;
}
.hbox.box-flex0,
.vbox.box-flex0,
.box-flex0 {
  /* Old browsers */
  -webkit-box-flex: 0;
  -moz-box-flex: 0;
  box-flex: 0;
  /* Modern browsers */
  flex: none;
  width: auto;
}
.hbox.box-flex1,
.vbox.box-flex1,
.box-flex1 {
  /* Old browsers */
  -webkit-box-flex: 1;
  -moz-box-flex: 1;
  box-flex: 1;
  /* Modern browsers */
  flex: 1;
}
.hbox.box-flex,
.vbox.box-flex,
.box-flex {
  /* Old browsers */
  /* Old browsers */
  -webkit-box-flex: 1;
  -moz-box-flex: 1;
  box-flex: 1;
  /* Modern browsers */
  flex: 1;
}
.hbox.box-flex2,
.vbox.box-flex2,
.box-flex2 {
  /* Old browsers */
  -webkit-box-flex: 2;
  -moz-box-flex: 2;
  box-flex: 2;
  /* Modern browsers */
  flex: 2;
}
.box-group1 {
  /*  Deprecated */
  -webkit-box-flex-group: 1;
  -moz-box-flex-group: 1;
  box-flex-group: 1;
}
.box-group2 {
  /* Deprecated */
  -webkit-box-flex-group: 2;
  -moz-box-flex-group: 2;
  box-flex-group: 2;
}
.hbox.start,
.vbox.start,
.start {
  /* Old browsers */
  -webkit-box-pack: start;
  -moz-box-pack: start;
  box-pack: start;
  /* Modern browsers */
  justify-content: flex-start;
}
.hbox.end,
.vbox.end,
.end {
  /* Old browsers */
  -webkit-box-pack: end;
  -moz-box-pack: end;
  box-pack: end;
  /* Modern browsers */
  justify-content: flex-end;
}
.hbox.center,
.vbox.center,
.center {
  /* Old browsers */
  -webkit-box-pack: center;
  -moz-box-pack: center;
  box-pack: center;
  /* Modern browsers */
  justify-content: center;
}
.hbox.baseline,
.vbox.baseline,
.baseline {
  /* Old browsers */
  -webkit-box-pack: baseline;
  -moz-box-pack: baseline;
  box-pack: baseline;
  /* Modern browsers */
  justify-content: baseline;
}
.hbox.stretch,
.vbox.stretch,
.stretch {
  /* Old browsers */
  -webkit-box-pack: stretch;
  -moz-box-pack: stretch;
  box-pack: stretch;
  /* Modern browsers */
  justify-content: stretch;
}
.hbox.align-start,
.vbox.align-start,
.align-start {
  /* Old browsers */
  -webkit-box-align: start;
  -moz-box-align: start;
  box-align: start;
  /* Modern browsers */
  align-items: flex-start;
}
.hbox.align-end,
.vbox.align-end,
.align-end {
  /* Old browsers */
  -webkit-box-align: end;
  -moz-box-align: end;
  box-align: end;
  /* Modern browsers */
  align-items: flex-end;
}
.hbox.align-center,
.vbox.align-center,
.align-center {
  /* Old browsers */
  -webkit-box-align: center;
  -moz-box-align: center;
  box-align: center;
  /* Modern browsers */
  align-items: center;
}
.hbox.align-baseline,
.vbox.align-baseline,
.align-baseline {
  /* Old browsers */
  -webkit-box-align: baseline;
  -moz-box-align: baseline;
  box-align: baseline;
  /* Modern browsers */
  align-items: baseline;
}
.hbox.align-stretch,
.vbox.align-stretch,
.align-stretch {
  /* Old browsers */
  -webkit-box-align: stretch;
  -moz-box-align: stretch;
  box-align: stretch;
  /* Modern browsers */
  align-items: stretch;
}
div.error {
  margin: 2em;
  text-align: center;
}
div.error > h1 {
  font-size: 500%;
  line-height: normal;
}
div.error > p {
  font-size: 200%;
  line-height: normal;
}
div.traceback-wrapper {
  text-align: left;
  max-width: 800px;
  margin: auto;
}
div.traceback-wrapper pre.traceback {
  max-height: 600px;
  overflow: auto;
}
/**
 * Primary styles
 *
 * Author: Jupyter Development Team
 */
body {
  background-color: #fff;
  /* This makes sure that the body covers the entire window and needs to
       be in a different element than the display: box in wrapper below */
  position: absolute;
  left: 0px;
  right: 0px;
  top: 0px;
  bottom: 0px;
  overflow: visible;
}
body > #header {
  /* Initially hidden to prevent FLOUC */
  display: none;
  background-color: #fff;
  /* Display over codemirror */
  position: relative;
  z-index: 100;
}
body > #header #header-container {
  display: flex;
  flex-direction: row;
  justify-content: space-between;
  padding: 5px;
  padding-bottom: 5px;
  padding-top: 5px;
  box-sizing: border-box;
  -moz-box-sizing: border-box;
  -webkit-box-sizing: border-box;
}
body > #header .header-bar {
  width: 100%;
  height: 1px;
  background: #e7e7e7;
  margin-bottom: -1px;
}
@media print {
  body > #header {
    display: none !important;
  }
}
#header-spacer {
  width: 100%;
  visibility: hidden;
}
@media print {
  #header-spacer {
    display: none;
  }
}
#ipython_notebook {
  padding-left: 0px;
  padding-top: 1px;
  padding-bottom: 1px;
}
[dir="rtl"] #ipython_notebook {
  margin-right: 10px;
  margin-left: 0;
}
[dir="rtl"] #ipython_notebook.pull-left {
  float: right !important;
  float: right;
}
.flex-spacer {
  flex: 1;
}
#noscript {
  width: auto;
  padding-top: 16px;
  padding-bottom: 16px;
  text-align: center;
  font-size: 22px;
  color: red;
  font-weight: bold;
}
#ipython_notebook img {
  height: 28px;
}
#site {
  width: 100%;
  display: none;
  box-sizing: border-box;
  -moz-box-sizing: border-box;
  -webkit-box-sizing: border-box;
  overflow: auto;
}
@media print {
  #site {
    height: auto !important;
  }
}
/* Smaller buttons */
.ui-button .ui-button-text {
  padding: 0.2em 0.8em;
  font-size: 77%;
}
input.ui-button {
  padding: 0.3em 0.9em;
}
span#kernel_logo_widget {
  margin: 0 10px;
}
span#login_widget {
  float: right;
}
[dir="rtl"] span#login_widget {
  float: left;
}
span#login_widget > .button,
#logout {
  color: #333;
  background-color: #fff;
  border-color: #ccc;
}
span#login_widget > .button:focus,
#logout:focus,
span#login_widget > .button.focus,
#logout.focus {
  color: #333;
  background-color: #e6e6e6;
  border-color: #8c8c8c;
}
span#login_widget > .button:hover,
#logout:hover {
  color: #333;
  background-color: #e6e6e6;
  border-color: #adadad;
}
span#login_widget > .button:active,
#logout:active,
span#login_widget > .button.active,
#logout.active,
.open > .dropdown-togglespan#login_widget > .button,
.open > .dropdown-toggle#logout {
  color: #333;
  background-color: #e6e6e6;
  border-color: #adadad;
}
span#login_widget > .button:active:hover,
#logout:active:hover,
span#login_widget > .button.active:hover,
#logout.active:hover,
.open > .dropdown-togglespan#login_widget > .button:hover,
.open > .dropdown-toggle#logout:hover,
span#login_widget > .button:active:focus,
#logout:active:focus,
span#login_widget > .button.active:focus,
#logout.active:focus,
.open > .dropdown-togglespan#login_widget > .button:focus,
.open > .dropdown-toggle#logout:focus,
span#login_widget > .button:active.focus,
#logout:active.focus,
span#login_widget > .button.active.focus,
#logout.active.focus,
.open > .dropdown-togglespan#login_widget > .button.focus,
.open > .dropdown-toggle#logout.focus {
  color: #333;
  background-color: #d4d4d4;
  border-color: #8c8c8c;
}
span#login_widget > .button:active,
#logout:active,
span#login_widget > .button.active,
#logout.active,
.open > .dropdown-togglespan#login_widget > .button,
.open > .dropdown-toggle#logout {
  background-image: none;
}
span#login_widget > .button.disabled:hover,
#logout.disabled:hover,
span#login_widget > .button[disabled]:hover,
#logout[disabled]:hover,
fieldset[disabled] span#login_widget > .button:hover,
fieldset[disabled] #logout:hover,
span#login_widget > .button.disabled:focus,
#logout.disabled:focus,
span#login_widget > .button[disabled]:focus,
#logout[disabled]:focus,
fieldset[disabled] span#login_widget > .button:focus,
fieldset[disabled] #logout:focus,
span#login_widget > .button.disabled.focus,
#logout.disabled.focus,
span#login_widget > .button[disabled].focus,
#logout[disabled].focus,
fieldset[disabled] span#login_widget > .button.focus,
fieldset[disabled] #logout.focus {
  background-color: #fff;
  border-color: #ccc;
}
span#login_widget > .button .badge,
#logout .badge {
  color: #fff;
  background-color: #333;
}
.nav-header {
  text-transform: none;
}
#header > span {
  margin-top: 10px;
}
.modal_stretch .modal-dialog {
  /* Old browsers */
  display: -webkit-box;
  -webkit-box-orient: vertical;
  -webkit-box-align: stretch;
  display: -moz-box;
  -moz-box-orient: vertical;
  -moz-box-align: stretch;
  display: box;
  box-orient: vertical;
  box-align: stretch;
  /* Modern browsers */
  display: flex;
  flex-direction: column;
  align-items: stretch;
  min-height: 80vh;
}
.modal_stretch .modal-dialog .modal-body {
  max-height: calc(100vh - 200px);
  overflow: auto;
  flex: 1;
}
.modal-header {
  cursor: move;
}
@media (min-width: 768px) {
  .modal .modal-dialog {
    width: 700px;
  }
}
@media (min-width: 768px) {
  select.form-control {
    margin-left: 12px;
    margin-right: 12px;
  }
}
/*!
*
* IPython auth
*
*/
.center-nav {
  display: inline-block;
  margin-bottom: -4px;
}
[dir="rtl"] .center-nav form.pull-left {
  float: right !important;
  float: right;
}
[dir="rtl"] .center-nav .navbar-text {
  float: right;
}
[dir="rtl"] .navbar-inner {
  text-align: right;
}
[dir="rtl"] div.text-left {
  text-align: right;
}
/*!
*
* IPython tree view
*
*/
/* We need an invisible input field on top of the sentense*/
/* "Drag file onto the list ..." */
.alternate_upload {
  background-color: none;
  display: inline;
}
.alternate_upload.form {
  padding: 0;
  margin: 0;
}
.alternate_upload input.fileinput {
  position: absolute;
  display: block;
  width: 100%;
  height: 100%;
  overflow: hidden;
  cursor: pointer;
  opacity: 0;
  z-index: 2;
}
.alternate_upload .btn-xs > input.fileinput {
  margin: -1px -5px;
}
.alternate_upload .btn-upload {
  position: relative;
  height: 22px;
}
::-webkit-file-upload-button {
  cursor: pointer;
}
/**
 * Primary styles
 *
 * Author: Jupyter Development Team
 */
ul#tabs {
  margin-bottom: 4px;
}
ul#tabs a {
  padding-top: 6px;
  padding-bottom: 4px;
}
[dir="rtl"] ul#tabs.nav-tabs > li {
  float: right;
}
[dir="rtl"] ul#tabs.nav.nav-tabs {
  padding-right: 0;
}
ul.breadcrumb a:focus,
ul.breadcrumb a:hover {
  text-decoration: none;
}
ul.breadcrumb i.icon-home {
  font-size: 16px;
  margin-right: 4px;
}
ul.breadcrumb span {
  color: #5e5e5e;
}
.list_toolbar {
  padding: 4px 0 4px 0;
  vertical-align: middle;
}
.list_toolbar .tree-buttons {
  padding-top: 1px;
}
[dir="rtl"] .list_toolbar .tree-buttons .pull-right {
  float: left !important;
  float: left;
}
[dir="rtl"] .list_toolbar .col-sm-4,
[dir="rtl"] .list_toolbar .col-sm-8 {
  float: right;
}
.dynamic-buttons {
  padding-top: 3px;
  display: inline-block;
}
.list_toolbar [class*="span"] {
  min-height: 24px;
}
.list_header {
  font-weight: bold;
  background-color: #EEE;
}
.list_placeholder {
  font-weight: bold;
  padding-top: 4px;
  padding-bottom: 4px;
  padding-left: 7px;
  padding-right: 7px;
}
.list_container {
  margin-top: 4px;
  margin-bottom: 20px;
  border: 1px solid #ddd;
  border-radius: 2px;
}
.list_container > div {
  border-bottom: 1px solid #ddd;
}
.list_container > div:hover .list-item {
  background-color: red;
}
.list_container > div:last-child {
  border: none;
}
.list_item:hover .list_item {
  background-color: #ddd;
}
.list_item a {
  text-decoration: none;
}
.list_item:hover {
  background-color: #fafafa;
}
.list_header > div,
.list_item > div {
  padding-top: 4px;
  padding-bottom: 4px;
  padding-left: 7px;
  padding-right: 7px;
  line-height: 22px;
}
.list_header > div input,
.list_item > div input {
  margin-right: 7px;
  margin-left: 14px;
  vertical-align: text-bottom;
  line-height: 22px;
  position: relative;
  top: -1px;
}
.list_header > div .item_link,
.list_item > div .item_link {
  margin-left: -1px;
  vertical-align: baseline;
  line-height: 22px;
}
[dir="rtl"] .list_item > div input {
  margin-right: 0;
}
.new-file input[type=checkbox] {
  visibility: hidden;
}
.item_name {
  line-height: 22px;
  height: 24px;
}
.item_icon {
  font-size: 14px;
  color: #5e5e5e;
  margin-right: 7px;
  margin-left: 7px;
  line-height: 22px;
  vertical-align: baseline;
}
.item_modified {
  margin-right: 7px;
  margin-left: 7px;
}
[dir="rtl"] .item_modified.pull-right {
  float: left !important;
  float: left;
}
.item_buttons {
  line-height: 1em;
  margin-left: -5px;
}
.item_buttons .btn,
.item_buttons .btn-group,
.item_buttons .input-group {
  float: left;
}
.item_buttons > .btn,
.item_buttons > .btn-group,
.item_buttons > .input-group {
  margin-left: 5px;
}
.item_buttons .btn {
  min-width: 13ex;
}
.item_buttons .running-indicator {
  padding-top: 4px;
  color: #5cb85c;
}
.item_buttons .kernel-name {
  padding-top: 4px;
  color: #5bc0de;
  margin-right: 7px;
  float: left;
}
[dir="rtl"] .item_buttons.pull-right {
  float: left !important;
  float: left;
}
[dir="rtl"] .item_buttons .kernel-name {
  margin-left: 7px;
  float: right;
}
.toolbar_info {
  height: 24px;
  line-height: 24px;
}
.list_item input:not([type=checkbox]) {
  padding-top: 3px;
  padding-bottom: 3px;
  height: 22px;
  line-height: 14px;
  margin: 0px;
}
.highlight_text {
  color: blue;
}
#project_name {
  display: inline-block;
  padding-left: 7px;
  margin-left: -2px;
}
#project_name > .breadcrumb {
  padding: 0px;
  margin-bottom: 0px;
  background-color: transparent;
  font-weight: bold;
}
.sort_button {
  display: inline-block;
  padding-left: 7px;
}
[dir="rtl"] .sort_button.pull-right {
  float: left !important;
  float: left;
}
#tree-selector {
  padding-right: 0px;
}
#button-select-all {
  min-width: 50px;
}
[dir="rtl"] #button-select-all.btn {
  float: right ;
}
#select-all {
  margin-left: 7px;
  margin-right: 2px;
  margin-top: 2px;
  height: 16px;
}
[dir="rtl"] #select-all.pull-left {
  float: right !important;
  float: right;
}
.menu_icon {
  margin-right: 2px;
}
.tab-content .row {
  margin-left: 0px;
  margin-right: 0px;
}
.folder_icon:before {
  display: inline-block;
  font: normal normal normal 14px/1 FontAwesome;
  font-size: inherit;
  text-rendering: auto;
  -webkit-font-smoothing: antialiased;
  -moz-osx-font-smoothing: grayscale;
  content: "\f114";
}
.folder_icon:before.fa-pull-left {
  margin-right: .3em;
}
.folder_icon:before.fa-pull-right {
  margin-left: .3em;
}
.folder_icon:before.pull-left {
  margin-right: .3em;
}
.folder_icon:before.pull-right {
  margin-left: .3em;
}
.notebook_icon:before {
  display: inline-block;
  font: normal normal normal 14px/1 FontAwesome;
  font-size: inherit;
  text-rendering: auto;
  -webkit-font-smoothing: antialiased;
  -moz-osx-font-smoothing: grayscale;
  content: "\f02d";
  position: relative;
  top: -1px;
}
.notebook_icon:before.fa-pull-left {
  margin-right: .3em;
}
.notebook_icon:before.fa-pull-right {
  margin-left: .3em;
}
.notebook_icon:before.pull-left {
  margin-right: .3em;
}
.notebook_icon:before.pull-right {
  margin-left: .3em;
}
.running_notebook_icon:before {
  display: inline-block;
  font: normal normal normal 14px/1 FontAwesome;
  font-size: inherit;
  text-rendering: auto;
  -webkit-font-smoothing: antialiased;
  -moz-osx-font-smoothing: grayscale;
  content: "\f02d";
  position: relative;
  top: -1px;
  color: #5cb85c;
}
.running_notebook_icon:before.fa-pull-left {
  margin-right: .3em;
}
.running_notebook_icon:before.fa-pull-right {
  margin-left: .3em;
}
.running_notebook_icon:before.pull-left {
  margin-right: .3em;
}
.running_notebook_icon:before.pull-right {
  margin-left: .3em;
}
.file_icon:before {
  display: inline-block;
  font: normal normal normal 14px/1 FontAwesome;
  font-size: inherit;
  text-rendering: auto;
  -webkit-font-smoothing: antialiased;
  -moz-osx-font-smoothing: grayscale;
  content: "\f016";
  position: relative;
  top: -2px;
}
.file_icon:before.fa-pull-left {
  margin-right: .3em;
}
.file_icon:before.fa-pull-right {
  margin-left: .3em;
}
.file_icon:before.pull-left {
  margin-right: .3em;
}
.file_icon:before.pull-right {
  margin-left: .3em;
}
#notebook_toolbar .pull-right {
  padding-top: 0px;
  margin-right: -1px;
}
ul#new-menu {
  left: auto;
  right: 0;
}
#new-menu .dropdown-header {
  font-size: 10px;
  border-bottom: 1px solid #e5e5e5;
  padding: 0 0 3px;
  margin: -3px 20px 0;
}
.kernel-menu-icon {
  padding-right: 12px;
  width: 24px;
  content: "\f096";
}
.kernel-menu-icon:before {
  content: "\f096";
}
.kernel-menu-icon-current:before {
  content: "\f00c";
}
#tab_content {
  padding-top: 20px;
}
#running .panel-group .panel {
  margin-top: 3px;
  margin-bottom: 1em;
}
#running .panel-group .panel .panel-heading {
  background-color: #EEE;
  padding-top: 4px;
  padding-bottom: 4px;
  padding-left: 7px;
  padding-right: 7px;
  line-height: 22px;
}
#running .panel-group .panel .panel-heading a:focus,
#running .panel-group .panel .panel-heading a:hover {
  text-decoration: none;
}
#running .panel-group .panel .panel-body {
  padding: 0px;
}
#running .panel-group .panel .panel-body .list_container {
  margin-top: 0px;
  margin-bottom: 0px;
  border: 0px;
  border-radius: 0px;
}
#running .panel-group .panel .panel-body .list_container .list_item {
  border-bottom: 1px solid #ddd;
}
#running .panel-group .panel .panel-body .list_container .list_item:last-child {
  border-bottom: 0px;
}
.delete-button {
  display: none;
}
.duplicate-button {
  display: none;
}
.rename-button {
  display: none;
}
.move-button {
  display: none;
}
.download-button {
  display: none;
}
.shutdown-button {
  display: none;
}
.dynamic-instructions {
  display: inline-block;
  padding-top: 4px;
}
/*!
*
* IPython text editor webapp
*
*/
.selected-keymap i.fa {
  padding: 0px 5px;
}
.selected-keymap i.fa:before {
  content: "\f00c";
}
#mode-menu {
  overflow: auto;
  max-height: 20em;
}
.edit_app #header {
  -webkit-box-shadow: 0px 0px 12px 1px rgba(87, 87, 87, 0.2);
  box-shadow: 0px 0px 12px 1px rgba(87, 87, 87, 0.2);
}
.edit_app #menubar .navbar {
  /* Use a negative 1 bottom margin, so the border overlaps the border of the
    header */
  margin-bottom: -1px;
}
.dirty-indicator {
  display: inline-block;
  font: normal normal normal 14px/1 FontAwesome;
  font-size: inherit;
  text-rendering: auto;
  -webkit-font-smoothing: antialiased;
  -moz-osx-font-smoothing: grayscale;
  width: 20px;
}
.dirty-indicator.fa-pull-left {
  margin-right: .3em;
}
.dirty-indicator.fa-pull-right {
  margin-left: .3em;
}
.dirty-indicator.pull-left {
  margin-right: .3em;
}
.dirty-indicator.pull-right {
  margin-left: .3em;
}
.dirty-indicator-dirty {
  display: inline-block;
  font: normal normal normal 14px/1 FontAwesome;
  font-size: inherit;
  text-rendering: auto;
  -webkit-font-smoothing: antialiased;
  -moz-osx-font-smoothing: grayscale;
  width: 20px;
}
.dirty-indicator-dirty.fa-pull-left {
  margin-right: .3em;
}
.dirty-indicator-dirty.fa-pull-right {
  margin-left: .3em;
}
.dirty-indicator-dirty.pull-left {
  margin-right: .3em;
}
.dirty-indicator-dirty.pull-right {
  margin-left: .3em;
}
.dirty-indicator-clean {
  display: inline-block;
  font: normal normal normal 14px/1 FontAwesome;
  font-size: inherit;
  text-rendering: auto;
  -webkit-font-smoothing: antialiased;
  -moz-osx-font-smoothing: grayscale;
  width: 20px;
}
.dirty-indicator-clean.fa-pull-left {
  margin-right: .3em;
}
.dirty-indicator-clean.fa-pull-right {
  margin-left: .3em;
}
.dirty-indicator-clean.pull-left {
  margin-right: .3em;
}
.dirty-indicator-clean.pull-right {
  margin-left: .3em;
}
.dirty-indicator-clean:before {
  display: inline-block;
  font: normal normal normal 14px/1 FontAwesome;
  font-size: inherit;
  text-rendering: auto;
  -webkit-font-smoothing: antialiased;
  -moz-osx-font-smoothing: grayscale;
  content: "\f00c";
}
.dirty-indicator-clean:before.fa-pull-left {
  margin-right: .3em;
}
.dirty-indicator-clean:before.fa-pull-right {
  margin-left: .3em;
}
.dirty-indicator-clean:before.pull-left {
  margin-right: .3em;
}
.dirty-indicator-clean:before.pull-right {
  margin-left: .3em;
}
#filename {
  font-size: 16pt;
  display: table;
  padding: 0px 5px;
}
#current-mode {
  padding-left: 5px;
  padding-right: 5px;
}
#texteditor-backdrop {
  padding-top: 20px;
  padding-bottom: 20px;
}
@media not print {
  #texteditor-backdrop {
    background-color: #EEE;
  }
}
@media print {
  #texteditor-backdrop #texteditor-container .CodeMirror-gutter,
  #texteditor-backdrop #texteditor-container .CodeMirror-gutters {
    background-color: #fff;
  }
}
@media not print {
  #texteditor-backdrop #texteditor-container .CodeMirror-gutter,
  #texteditor-backdrop #texteditor-container .CodeMirror-gutters {
    background-color: #fff;
  }
}
@media not print {
  #texteditor-backdrop #texteditor-container {
    padding: 0px;
    background-color: #fff;
    -webkit-box-shadow: 0px 0px 12px 1px rgba(87, 87, 87, 0.2);
    box-shadow: 0px 0px 12px 1px rgba(87, 87, 87, 0.2);
  }
}
.CodeMirror-dialog {
  background-color: #fff;
}
/*!
*
* IPython notebook
*
*/
/* CSS font colors for translated ANSI escape sequences */
/* The color values are a mix of
   http://www.xcolors.net/dl/baskerville-ivorylight and
   http://www.xcolors.net/dl/euphrasia */
.ansi-black-fg {
  color: #3E424D;
}
.ansi-black-bg {
  background-color: #3E424D;
}
.ansi-black-intense-fg {
  color: #282C36;
}
.ansi-black-intense-bg {
  background-color: #282C36;
}
.ansi-red-fg {
  color: #E75C58;
}
.ansi-red-bg {
  background-color: #E75C58;
}
.ansi-red-intense-fg {
  color: #B22B31;
}
.ansi-red-intense-bg {
  background-color: #B22B31;
}
.ansi-green-fg {
  color: #00A250;
}
.ansi-green-bg {
  background-color: #00A250;
}
.ansi-green-intense-fg {
  color: #007427;
}
.ansi-green-intense-bg {
  background-color: #007427;
}
.ansi-yellow-fg {
  color: #DDB62B;
}
.ansi-yellow-bg {
  background-color: #DDB62B;
}
.ansi-yellow-intense-fg {
  color: #B27D12;
}
.ansi-yellow-intense-bg {
  background-color: #B27D12;
}
.ansi-blue-fg {
  color: #208FFB;
}
.ansi-blue-bg {
  background-color: #208FFB;
}
.ansi-blue-intense-fg {
  color: #0065CA;
}
.ansi-blue-intense-bg {
  background-color: #0065CA;
}
.ansi-magenta-fg {
  color: #D160C4;
}
.ansi-magenta-bg {
  background-color: #D160C4;
}
.ansi-magenta-intense-fg {
  color: #A03196;
}
.ansi-magenta-intense-bg {
  background-color: #A03196;
}
.ansi-cyan-fg {
  color: #60C6C8;
}
.ansi-cyan-bg {
  background-color: #60C6C8;
}
.ansi-cyan-intense-fg {
  color: #258F8F;
}
.ansi-cyan-intense-bg {
  background-color: #258F8F;
}
.ansi-white-fg {
  color: #C5C1B4;
}
.ansi-white-bg {
  background-color: #C5C1B4;
}
.ansi-white-intense-fg {
  color: #A1A6B2;
}
.ansi-white-intense-bg {
  background-color: #A1A6B2;
}
.ansi-default-inverse-fg {
  color: #FFFFFF;
}
.ansi-default-inverse-bg {
  background-color: #000000;
}
.ansi-bold {
  font-weight: bold;
}
.ansi-underline {
  text-decoration: underline;
}
/* The following styles are deprecated an will be removed in a future version */
.ansibold {
  font-weight: bold;
}
.ansi-inverse {
  outline: 0.5px dotted;
}
/* use dark versions for foreground, to improve visibility */
.ansiblack {
  color: black;
}
.ansired {
  color: darkred;
}
.ansigreen {
  color: darkgreen;
}
.ansiyellow {
  color: #c4a000;
}
.ansiblue {
  color: darkblue;
}
.ansipurple {
  color: darkviolet;
}
.ansicyan {
  color: steelblue;
}
.ansigray {
  color: gray;
}
/* and light for background, for the same reason */
.ansibgblack {
  background-color: black;
}
.ansibgred {
  background-color: red;
}
.ansibggreen {
  background-color: green;
}
.ansibgyellow {
  background-color: yellow;
}
.ansibgblue {
  background-color: blue;
}
.ansibgpurple {
  background-color: magenta;
}
.ansibgcyan {
  background-color: cyan;
}
.ansibggray {
  background-color: gray;
}
div.cell {
  /* Old browsers */
  display: -webkit-box;
  -webkit-box-orient: vertical;
  -webkit-box-align: stretch;
  display: -moz-box;
  -moz-box-orient: vertical;
  -moz-box-align: stretch;
  display: box;
  box-orient: vertical;
  box-align: stretch;
  /* Modern browsers */
  display: flex;
  flex-direction: column;
  align-items: stretch;
  border-radius: 2px;
  box-sizing: border-box;
  -moz-box-sizing: border-box;
  -webkit-box-sizing: border-box;
  border-width: 1px;
  border-style: solid;
  border-color: transparent;
  width: 100%;
  padding: 5px;
  /* This acts as a spacer between cells, that is outside the border */
  margin: 0px;
  outline: none;
  position: relative;
  overflow: visible;
}
div.cell:before {
  position: absolute;
  display: block;
  top: -1px;
  left: -1px;
  width: 5px;
  height: calc(100% +  2px);
  content: '';
  background: transparent;
}
div.cell.jupyter-soft-selected {
  border-left-color: #E3F2FD;
  border-left-width: 1px;
  padding-left: 5px;
  border-right-color: #E3F2FD;
  border-right-width: 1px;
  background: #E3F2FD;
}
@media print {
  div.cell.jupyter-soft-selected {
    border-color: transparent;
  }
}
div.cell.selected,
div.cell.selected.jupyter-soft-selected {
  border-color: #ababab;
}
div.cell.selected:before,
div.cell.selected.jupyter-soft-selected:before {
  position: absolute;
  display: block;
  top: -1px;
  left: -1px;
  width: 5px;
  height: calc(100% +  2px);
  content: '';
  background: #42A5F5;
}
@media print {
  div.cell.selected,
  div.cell.selected.jupyter-soft-selected {
    border-color: transparent;
  }
}
.edit_mode div.cell.selected {
  border-color: #66BB6A;
}
.edit_mode div.cell.selected:before {
  position: absolute;
  display: block;
  top: -1px;
  left: -1px;
  width: 5px;
  height: calc(100% +  2px);
  content: '';
  background: #66BB6A;
}
@media print {
  .edit_mode div.cell.selected {
    border-color: transparent;
  }
}
.prompt {
  /* This needs to be wide enough for 3 digit prompt numbers: In[100]: */
  min-width: 14ex;
  /* This padding is tuned to match the padding on the CodeMirror editor. */
  padding: 0.4em;
  margin: 0px;
  font-family: monospace;
  text-align: right;
  /* This has to match that of the the CodeMirror class line-height below */
  line-height: 1.21429em;
  /* Don't highlight prompt number selection */
  -webkit-touch-callout: none;
  -webkit-user-select: none;
  -khtml-user-select: none;
  -moz-user-select: none;
  -ms-user-select: none;
  user-select: none;
  /* Use default cursor */
  cursor: default;
}
@media (max-width: 540px) {
  .prompt {
    text-align: left;
  }
}
div.inner_cell {
  min-width: 0;
  /* Old browsers */
  display: -webkit-box;
  -webkit-box-orient: vertical;
  -webkit-box-align: stretch;
  display: -moz-box;
  -moz-box-orient: vertical;
  -moz-box-align: stretch;
  display: box;
  box-orient: vertical;
  box-align: stretch;
  /* Modern browsers */
  display: flex;
  flex-direction: column;
  align-items: stretch;
  /* Old browsers */
  -webkit-box-flex: 1;
  -moz-box-flex: 1;
  box-flex: 1;
  /* Modern browsers */
  flex: 1;
}
/* input_area and input_prompt must match in top border and margin for alignment */
div.input_area {
  border: 1px solid #cfcfcf;
  border-radius: 2px;
  background: #f7f7f7;
  line-height: 1.21429em;
}
/* This is needed so that empty prompt areas can collapse to zero height when there
   is no content in the output_subarea and the prompt. The main purpose of this is
   to make sure that empty JavaScript output_subareas have no height. */
div.prompt:empty {
  padding-top: 0;
  padding-bottom: 0;
}
div.unrecognized_cell {
  padding: 5px 5px 5px 0px;
  /* Old browsers */
  display: -webkit-box;
  -webkit-box-orient: horizontal;
  -webkit-box-align: stretch;
  display: -moz-box;
  -moz-box-orient: horizontal;
  -moz-box-align: stretch;
  display: box;
  box-orient: horizontal;
  box-align: stretch;
  /* Modern browsers */
  display: flex;
  flex-direction: row;
  align-items: stretch;
}
div.unrecognized_cell .inner_cell {
  border-radius: 2px;
  padding: 5px;
  font-weight: bold;
  color: red;
  border: 1px solid #cfcfcf;
  background: #eaeaea;
}
div.unrecognized_cell .inner_cell a {
  color: inherit;
  text-decoration: none;
}
div.unrecognized_cell .inner_cell a:hover {
  color: inherit;
  text-decoration: none;
}
@media (max-width: 540px) {
  div.unrecognized_cell > div.prompt {
    display: none;
  }
}
div.code_cell {
  /* avoid page breaking on code cells when printing */
}
@media print {
  div.code_cell {
    page-break-inside: avoid;
  }
}
/* any special styling for code cells that are currently running goes here */
div.input {
  page-break-inside: avoid;
  /* Old browsers */
  display: -webkit-box;
  -webkit-box-orient: horizontal;
  -webkit-box-align: stretch;
  display: -moz-box;
  -moz-box-orient: horizontal;
  -moz-box-align: stretch;
  display: box;
  box-orient: horizontal;
  box-align: stretch;
  /* Modern browsers */
  display: flex;
  flex-direction: row;
  align-items: stretch;
}
@media (max-width: 540px) {
  div.input {
    /* Old browsers */
    display: -webkit-box;
    -webkit-box-orient: vertical;
    -webkit-box-align: stretch;
    display: -moz-box;
    -moz-box-orient: vertical;
    -moz-box-align: stretch;
    display: box;
    box-orient: vertical;
    box-align: stretch;
    /* Modern browsers */
    display: flex;
    flex-direction: column;
    align-items: stretch;
  }
}
/* input_area and input_prompt must match in top border and margin for alignment */
div.input_prompt {
  color: #303F9F;
  border-top: 1px solid transparent;
}
div.input_area > div.highlight {
  margin: 0.4em;
  border: none;
  padding: 0px;
  background-color: transparent;
}
div.input_area > div.highlight > pre {
  margin: 0px;
  border: none;
  padding: 0px;
  background-color: transparent;
}
/* The following gets added to the <head> if it is detected that the user has a
 * monospace font with inconsistent normal/bold/italic height.  See
 * notebookmain.js.  Such fonts will have keywords vertically offset with
 * respect to the rest of the text.  The user should select a better font.
 * See: https://github.com/ipython/ipython/issues/1503
 *
 * .CodeMirror span {
 *      vertical-align: bottom;
 * }
 */
.CodeMirror {
  line-height: 1.21429em;
  /* Changed from 1em to our global default */
  font-size: 14px;
  height: auto;
  /* Changed to auto to autogrow */
  background: none;
  /* Changed from white to allow our bg to show through */
}
.CodeMirror-scroll {
  /*  The CodeMirror docs are a bit fuzzy on if overflow-y should be hidden or visible.*/
  /*  We have found that if it is visible, vertical scrollbars appear with font size changes.*/
  overflow-y: hidden;
  overflow-x: auto;
}
.CodeMirror-lines {
  /* In CM2, this used to be 0.4em, but in CM3 it went to 4px. We need the em value because */
  /* we have set a different line-height and want this to scale with that. */
  /* Note that this should set vertical padding only, since CodeMirror assumes
       that horizontal padding will be set on CodeMirror pre */
  padding: 0.4em 0;
}
.CodeMirror-linenumber {
  padding: 0 8px 0 4px;
}
.CodeMirror-gutters {
  border-bottom-left-radius: 2px;
  border-top-left-radius: 2px;
}
.CodeMirror pre {
  /* In CM3 this went to 4px from 0 in CM2. This sets horizontal padding only,
    use .CodeMirror-lines for vertical */
  padding: 0 0.4em;
  border: 0;
  border-radius: 0;
}
.CodeMirror-cursor {
  border-left: 1.4px solid black;
}
@media screen and (min-width: 2138px) and (max-width: 4319px) {
  .CodeMirror-cursor {
    border-left: 2px solid black;
  }
}
@media screen and (min-width: 4320px) {
  .CodeMirror-cursor {
    border-left: 4px solid black;
  }
}
/*

Original style from softwaremaniacs.org (c) Ivan Sagalaev <Maniac@SoftwareManiacs.Org>
Adapted from GitHub theme

*/
.highlight-base {
  color: #000;
}
.highlight-variable {
  color: #000;
}
.highlight-variable-2 {
  color: #1a1a1a;
}
.highlight-variable-3 {
  color: #333333;
}
.highlight-string {
  color: #BA2121;
}
.highlight-comment {
  color: #408080;
  font-style: italic;
}
.highlight-number {
  color: #080;
}
.highlight-atom {
  color: #88F;
}
.highlight-keyword {
  color: #008000;
  font-weight: bold;
}
.highlight-builtin {
  color: #008000;
}
.highlight-error {
  color: #f00;
}
.highlight-operator {
  color: #AA22FF;
  font-weight: bold;
}
.highlight-meta {
  color: #AA22FF;
}
/* previously not defined, copying from default codemirror */
.highlight-def {
  color: #00f;
}
.highlight-string-2 {
  color: #f50;
}
.highlight-qualifier {
  color: #555;
}
.highlight-bracket {
  color: #997;
}
.highlight-tag {
  color: #170;
}
.highlight-attribute {
  color: #00c;
}
.highlight-header {
  color: blue;
}
.highlight-quote {
  color: #090;
}
.highlight-link {
  color: #00c;
}
/* apply the same style to codemirror */
.cm-s-ipython span.cm-keyword {
  color: #008000;
  font-weight: bold;
}
.cm-s-ipython span.cm-atom {
  color: #88F;
}
.cm-s-ipython span.cm-number {
  color: #080;
}
.cm-s-ipython span.cm-def {
  color: #00f;
}
.cm-s-ipython span.cm-variable {
  color: #000;
}
.cm-s-ipython span.cm-operator {
  color: #AA22FF;
  font-weight: bold;
}
.cm-s-ipython span.cm-variable-2 {
  color: #1a1a1a;
}
.cm-s-ipython span.cm-variable-3 {
  color: #333333;
}
.cm-s-ipython span.cm-comment {
  color: #408080;
  font-style: italic;
}
.cm-s-ipython span.cm-string {
  color: #BA2121;
}
.cm-s-ipython span.cm-string-2 {
  color: #f50;
}
.cm-s-ipython span.cm-meta {
  color: #AA22FF;
}
.cm-s-ipython span.cm-qualifier {
  color: #555;
}
.cm-s-ipython span.cm-builtin {
  color: #008000;
}
.cm-s-ipython span.cm-bracket {
  color: #997;
}
.cm-s-ipython span.cm-tag {
  color: #170;
}
.cm-s-ipython span.cm-attribute {
  color: #00c;
}
.cm-s-ipython span.cm-header {
  color: blue;
}
.cm-s-ipython span.cm-quote {
  color: #090;
}
.cm-s-ipython span.cm-link {
  color: #00c;
}
.cm-s-ipython span.cm-error {
  color: #f00;
}
.cm-s-ipython span.cm-tab {
  background: url(data:image/png;base64,iVBORw0KGgoAAAANSUhEUgAAADAAAAAMCAYAAAAkuj5RAAAAAXNSR0IArs4c6QAAAGFJREFUSMft1LsRQFAQheHPowAKoACx3IgEKtaEHujDjORSgWTH/ZOdnZOcM/sgk/kFFWY0qV8foQwS4MKBCS3qR6ixBJvElOobYAtivseIE120FaowJPN75GMu8j/LfMwNjh4HUpwg4LUAAAAASUVORK5CYII=);
  background-position: right;
  background-repeat: no-repeat;
}
div.output_wrapper {
  /* this position must be relative to enable descendents to be absolute within it */
  position: relative;
  /* Old browsers */
  display: -webkit-box;
  -webkit-box-orient: vertical;
  -webkit-box-align: stretch;
  display: -moz-box;
  -moz-box-orient: vertical;
  -moz-box-align: stretch;
  display: box;
  box-orient: vertical;
  box-align: stretch;
  /* Modern browsers */
  display: flex;
  flex-direction: column;
  align-items: stretch;
  z-index: 1;
}
/* class for the output area when it should be height-limited */
div.output_scroll {
  /* ideally, this would be max-height, but FF barfs all over that */
  height: 24em;
  /* FF needs this *and the wrapper* to specify full width, or it will shrinkwrap */
  width: 100%;
  overflow: auto;
  border-radius: 2px;
  -webkit-box-shadow: inset 0 2px 8px rgba(0, 0, 0, 0.8);
  box-shadow: inset 0 2px 8px rgba(0, 0, 0, 0.8);
  display: block;
}
/* output div while it is collapsed */
div.output_collapsed {
  margin: 0px;
  padding: 0px;
  /* Old browsers */
  display: -webkit-box;
  -webkit-box-orient: vertical;
  -webkit-box-align: stretch;
  display: -moz-box;
  -moz-box-orient: vertical;
  -moz-box-align: stretch;
  display: box;
  box-orient: vertical;
  box-align: stretch;
  /* Modern browsers */
  display: flex;
  flex-direction: column;
  align-items: stretch;
}
div.out_prompt_overlay {
  height: 100%;
  padding: 0px 0.4em;
  position: absolute;
  border-radius: 2px;
}
div.out_prompt_overlay:hover {
  /* use inner shadow to get border that is computed the same on WebKit/FF */
  -webkit-box-shadow: inset 0 0 1px #000;
  box-shadow: inset 0 0 1px #000;
  background: rgba(240, 240, 240, 0.5);
}
div.output_prompt {
  color: #D84315;
}
/* This class is the outer container of all output sections. */
div.output_area {
  padding: 0px;
  page-break-inside: avoid;
  /* Old browsers */
  display: -webkit-box;
  -webkit-box-orient: horizontal;
  -webkit-box-align: stretch;
  display: -moz-box;
  -moz-box-orient: horizontal;
  -moz-box-align: stretch;
  display: box;
  box-orient: horizontal;
  box-align: stretch;
  /* Modern browsers */
  display: flex;
  flex-direction: row;
  align-items: stretch;
}
div.output_area .MathJax_Display {
  text-align: left !important;
}
div.output_area .rendered_html table {
  margin-left: 0;
  margin-right: 0;
}
div.output_area .rendered_html img {
  margin-left: 0;
  margin-right: 0;
}
div.output_area img,
div.output_area svg {
  max-width: 100%;
  height: auto;
}
div.output_area img.unconfined,
div.output_area svg.unconfined {
  max-width: none;
}
div.output_area .mglyph > img {
  max-width: none;
}
/* This is needed to protect the pre formating from global settings such
   as that of bootstrap */
.output {
  /* Old browsers */
  display: -webkit-box;
  -webkit-box-orient: vertical;
  -webkit-box-align: stretch;
  display: -moz-box;
  -moz-box-orient: vertical;
  -moz-box-align: stretch;
  display: box;
  box-orient: vertical;
  box-align: stretch;
  /* Modern browsers */
  display: flex;
  flex-direction: column;
  align-items: stretch;
}
@media (max-width: 540px) {
  div.output_area {
    /* Old browsers */
    display: -webkit-box;
    -webkit-box-orient: vertical;
    -webkit-box-align: stretch;
    display: -moz-box;
    -moz-box-orient: vertical;
    -moz-box-align: stretch;
    display: box;
    box-orient: vertical;
    box-align: stretch;
    /* Modern browsers */
    display: flex;
    flex-direction: column;
    align-items: stretch;
  }
}
div.output_area pre {
  margin: 0;
  padding: 1px 0 1px 0;
  border: 0;
  vertical-align: baseline;
  color: black;
  background-color: transparent;
  border-radius: 0;
}
/* This class is for the output subarea inside the output_area and after
   the prompt div. */
div.output_subarea {
  overflow-x: auto;
  padding: 0.4em;
  /* Old browsers */
  -webkit-box-flex: 1;
  -moz-box-flex: 1;
  box-flex: 1;
  /* Modern browsers */
  flex: 1;
  max-width: calc(100% - 14ex);
}
div.output_scroll div.output_subarea {
  overflow-x: visible;
}
/* The rest of the output_* classes are for special styling of the different
   output types */
/* all text output has this class: */
div.output_text {
  text-align: left;
  color: #000;
  /* This has to match that of the the CodeMirror class line-height below */
  line-height: 1.21429em;
}
/* stdout/stderr are 'text' as well as 'stream', but execute_result/error are *not* streams */
div.output_stderr {
  background: #fdd;
  /* very light red background for stderr */
}
div.output_latex {
  text-align: left;
}
/* Empty output_javascript divs should have no height */
div.output_javascript:empty {
  padding: 0;
}
.js-error {
  color: darkred;
}
/* raw_input styles */
div.raw_input_container {
  line-height: 1.21429em;
  padding-top: 5px;
}
pre.raw_input_prompt {
  /* nothing needed here. */
}
input.raw_input {
  font-family: monospace;
  font-size: inherit;
  color: inherit;
  width: auto;
  /* make sure input baseline aligns with prompt */
  vertical-align: baseline;
  /* padding + margin = 0.5em between prompt and cursor */
  padding: 0em 0.25em;
  margin: 0em 0.25em;
}
input.raw_input:focus {
  box-shadow: none;
}
p.p-space {
  margin-bottom: 10px;
}
div.output_unrecognized {
  padding: 5px;
  font-weight: bold;
  color: red;
}
div.output_unrecognized a {
  color: inherit;
  text-decoration: none;
}
div.output_unrecognized a:hover {
  color: inherit;
  text-decoration: none;
}
.rendered_html {
  color: #000;
  /* any extras will just be numbers: */
}
.rendered_html em {
  font-style: italic;
}
.rendered_html strong {
  font-weight: bold;
}
.rendered_html u {
  text-decoration: underline;
}
.rendered_html :link {
  text-decoration: underline;
}
.rendered_html :visited {
  text-decoration: underline;
}
.rendered_html h1 {
  font-size: 185.7%;
  margin: 1.08em 0 0 0;
  font-weight: bold;
  line-height: 1.0;
}
.rendered_html h2 {
  font-size: 157.1%;
  margin: 1.27em 0 0 0;
  font-weight: bold;
  line-height: 1.0;
}
.rendered_html h3 {
  font-size: 128.6%;
  margin: 1.55em 0 0 0;
  font-weight: bold;
  line-height: 1.0;
}
.rendered_html h4 {
  font-size: 100%;
  margin: 2em 0 0 0;
  font-weight: bold;
  line-height: 1.0;
}
.rendered_html h5 {
  font-size: 100%;
  margin: 2em 0 0 0;
  font-weight: bold;
  line-height: 1.0;
  font-style: italic;
}
.rendered_html h6 {
  font-size: 100%;
  margin: 2em 0 0 0;
  font-weight: bold;
  line-height: 1.0;
  font-style: italic;
}
.rendered_html h1:first-child {
  margin-top: 0.538em;
}
.rendered_html h2:first-child {
  margin-top: 0.636em;
}
.rendered_html h3:first-child {
  margin-top: 0.777em;
}
.rendered_html h4:first-child {
  margin-top: 1em;
}
.rendered_html h5:first-child {
  margin-top: 1em;
}
.rendered_html h6:first-child {
  margin-top: 1em;
}
.rendered_html ul:not(.list-inline),
.rendered_html ol:not(.list-inline) {
  padding-left: 2em;
}
.rendered_html ul {
  list-style: disc;
}
.rendered_html ul ul {
  list-style: square;
  margin-top: 0;
}
.rendered_html ul ul ul {
  list-style: circle;
}
.rendered_html ol {
  list-style: decimal;
}
.rendered_html ol ol {
  list-style: upper-alpha;
  margin-top: 0;
}
.rendered_html ol ol ol {
  list-style: lower-alpha;
}
.rendered_html ol ol ol ol {
  list-style: lower-roman;
}
.rendered_html ol ol ol ol ol {
  list-style: decimal;
}
.rendered_html * + ul {
  margin-top: 1em;
}
.rendered_html * + ol {
  margin-top: 1em;
}
.rendered_html hr {
  color: black;
  background-color: black;
}
.rendered_html pre {
  margin: 1em 2em;
  padding: 0px;
  background-color: #fff;
}
.rendered_html code {
  background-color: #eff0f1;
}
.rendered_html p code {
  padding: 1px 5px;
}
.rendered_html pre code {
  background-color: #fff;
}
.rendered_html pre,
.rendered_html code {
  border: 0;
  color: #000;
  font-size: 100%;
}
.rendered_html blockquote {
  margin: 1em 2em;
}
.rendered_html table {
  margin-left: auto;
  margin-right: auto;
  border: none;
  border-collapse: collapse;
  border-spacing: 0;
  color: black;
  font-size: 12px;
  table-layout: fixed;
}
.rendered_html thead {
  border-bottom: 1px solid black;
  vertical-align: bottom;
}
.rendered_html tr,
.rendered_html th,
.rendered_html td {
  text-align: right;
  vertical-align: middle;
  padding: 0.5em 0.5em;
  line-height: normal;
  white-space: normal;
  max-width: none;
  border: none;
}
.rendered_html th {
  font-weight: bold;
}
.rendered_html tbody tr:nth-child(odd) {
  background: #f5f5f5;
}
.rendered_html tbody tr:hover {
  background: rgba(66, 165, 245, 0.2);
}
.rendered_html * + table {
  margin-top: 1em;
}
.rendered_html p {
  text-align: left;
}
.rendered_html * + p {
  margin-top: 1em;
}
.rendered_html img {
  display: block;
  margin-left: auto;
  margin-right: auto;
}
.rendered_html * + img {
  margin-top: 1em;
}
.rendered_html img,
.rendered_html svg {
  max-width: 100%;
  height: auto;
}
.rendered_html img.unconfined,
.rendered_html svg.unconfined {
  max-width: none;
}
.rendered_html .alert {
  margin-bottom: initial;
}
.rendered_html * + .alert {
  margin-top: 1em;
}
[dir="rtl"] .rendered_html p {
  text-align: right;
}
div.text_cell {
  /* Old browsers */
  display: -webkit-box;
  -webkit-box-orient: horizontal;
  -webkit-box-align: stretch;
  display: -moz-box;
  -moz-box-orient: horizontal;
  -moz-box-align: stretch;
  display: box;
  box-orient: horizontal;
  box-align: stretch;
  /* Modern browsers */
  display: flex;
  flex-direction: row;
  align-items: stretch;
}
@media (max-width: 540px) {
  div.text_cell > div.prompt {
    display: none;
  }
}
div.text_cell_render {
  /*font-family: "Helvetica Neue", Arial, Helvetica, Geneva, sans-serif;*/
  outline: none;
  resize: none;
  width: inherit;
  border-style: none;
  padding: 0.5em 0.5em 0.5em 0.4em;
  color: #000;
  box-sizing: border-box;
  -moz-box-sizing: border-box;
  -webkit-box-sizing: border-box;
}
a.anchor-link:link {
  text-decoration: none;
  padding: 0px 20px;
  visibility: hidden;
}
h1:hover .anchor-link,
h2:hover .anchor-link,
h3:hover .anchor-link,
h4:hover .anchor-link,
h5:hover .anchor-link,
h6:hover .anchor-link {
  visibility: visible;
}
.text_cell.rendered .input_area {
  display: none;
}
.text_cell.rendered .rendered_html {
  overflow-x: auto;
  overflow-y: hidden;
}
.text_cell.rendered .rendered_html tr,
.text_cell.rendered .rendered_html th,
.text_cell.rendered .rendered_html td {
  max-width: none;
}
.text_cell.unrendered .text_cell_render {
  display: none;
}
.text_cell .dropzone .input_area {
  border: 2px dashed #bababa;
  margin: -1px;
}
.cm-header-1,
.cm-header-2,
.cm-header-3,
.cm-header-4,
.cm-header-5,
.cm-header-6 {
  font-weight: bold;
  font-family: "Helvetica Neue", Helvetica, Arial, sans-serif;
}
.cm-header-1 {
  font-size: 185.7%;
}
.cm-header-2 {
  font-size: 157.1%;
}
.cm-header-3 {
  font-size: 128.6%;
}
.cm-header-4 {
  font-size: 110%;
}
.cm-header-5 {
  font-size: 100%;
  font-style: italic;
}
.cm-header-6 {
  font-size: 100%;
  font-style: italic;
}
/*!
*
* IPython notebook webapp
*
*/
@media (max-width: 767px) {
  .notebook_app {
    padding-left: 0px;
    padding-right: 0px;
  }
}
#ipython-main-app {
  box-sizing: border-box;
  -moz-box-sizing: border-box;
  -webkit-box-sizing: border-box;
  height: 100%;
}
div#notebook_panel {
  margin: 0px;
  padding: 0px;
  box-sizing: border-box;
  -moz-box-sizing: border-box;
  -webkit-box-sizing: border-box;
  height: 100%;
}
div#notebook {
  font-size: 14px;
  line-height: 20px;
  overflow-y: hidden;
  overflow-x: auto;
  width: 100%;
  /* This spaces the page away from the edge of the notebook area */
  padding-top: 20px;
  margin: 0px;
  outline: none;
  box-sizing: border-box;
  -moz-box-sizing: border-box;
  -webkit-box-sizing: border-box;
  min-height: 100%;
}
@media not print {
  #notebook-container {
    padding: 15px;
    background-color: #fff;
    min-height: 0;
    -webkit-box-shadow: 0px 0px 12px 1px rgba(87, 87, 87, 0.2);
    box-shadow: 0px 0px 12px 1px rgba(87, 87, 87, 0.2);
  }
}
@media print {
  #notebook-container {
    width: 100%;
  }
}
div.ui-widget-content {
  border: 1px solid #ababab;
  outline: none;
}
pre.dialog {
  background-color: #f7f7f7;
  border: 1px solid #ddd;
  border-radius: 2px;
  padding: 0.4em;
  padding-left: 2em;
}
p.dialog {
  padding: 0.2em;
}
/* Word-wrap output correctly.  This is the CSS3 spelling, though Firefox seems
   to not honor it correctly.  Webkit browsers (Chrome, rekonq, Safari) do.
 */
pre,
code,
kbd,
samp {
  white-space: pre-wrap;
}
#fonttest {
  font-family: monospace;
}
p {
  margin-bottom: 0;
}
.end_space {
  min-height: 100px;
  transition: height .2s ease;
}
.notebook_app > #header {
  -webkit-box-shadow: 0px 0px 12px 1px rgba(87, 87, 87, 0.2);
  box-shadow: 0px 0px 12px 1px rgba(87, 87, 87, 0.2);
}
@media not print {
  .notebook_app {
    background-color: #EEE;
  }
}
kbd {
  border-style: solid;
  border-width: 1px;
  box-shadow: none;
  margin: 2px;
  padding-left: 2px;
  padding-right: 2px;
  padding-top: 1px;
  padding-bottom: 1px;
}
.jupyter-keybindings {
  padding: 1px;
  line-height: 24px;
  border-bottom: 1px solid gray;
}
.jupyter-keybindings input {
  margin: 0;
  padding: 0;
  border: none;
}
.jupyter-keybindings i {
  padding: 6px;
}
.well code {
  background-color: #ffffff;
  border-color: #ababab;
  border-width: 1px;
  border-style: solid;
  padding: 2px;
  padding-top: 1px;
  padding-bottom: 1px;
}
/* CSS for the cell toolbar */
.celltoolbar {
  border: thin solid #CFCFCF;
  border-bottom: none;
  background: #EEE;
  border-radius: 2px 2px 0px 0px;
  width: 100%;
  height: 29px;
  padding-right: 4px;
  /* Old browsers */
  display: -webkit-box;
  -webkit-box-orient: horizontal;
  -webkit-box-align: stretch;
  display: -moz-box;
  -moz-box-orient: horizontal;
  -moz-box-align: stretch;
  display: box;
  box-orient: horizontal;
  box-align: stretch;
  /* Modern browsers */
  display: flex;
  flex-direction: row;
  align-items: stretch;
  /* Old browsers */
  -webkit-box-pack: end;
  -moz-box-pack: end;
  box-pack: end;
  /* Modern browsers */
  justify-content: flex-end;
  display: -webkit-flex;
}
@media print {
  .celltoolbar {
    display: none;
  }
}
.ctb_hideshow {
  display: none;
  vertical-align: bottom;
}
/* ctb_show is added to the ctb_hideshow div to show the cell toolbar.
   Cell toolbars are only shown when the ctb_global_show class is also set.
*/
.ctb_global_show .ctb_show.ctb_hideshow {
  display: block;
}
.ctb_global_show .ctb_show + .input_area,
.ctb_global_show .ctb_show + div.text_cell_input,
.ctb_global_show .ctb_show ~ div.text_cell_render {
  border-top-right-radius: 0px;
  border-top-left-radius: 0px;
}
.ctb_global_show .ctb_show ~ div.text_cell_render {
  border: 1px solid #cfcfcf;
}
.celltoolbar {
  font-size: 87%;
  padding-top: 3px;
}
.celltoolbar select {
  display: block;
  width: 100%;
  height: 32px;
  padding: 6px 12px;
  font-size: 13px;
  line-height: 1.42857143;
  color: #555555;
  background-color: #fff;
  background-image: none;
  border: 1px solid #ccc;
  border-radius: 2px;
  -webkit-box-shadow: inset 0 1px 1px rgba(0, 0, 0, 0.075);
  box-shadow: inset 0 1px 1px rgba(0, 0, 0, 0.075);
  -webkit-transition: border-color ease-in-out .15s, box-shadow ease-in-out .15s;
  -o-transition: border-color ease-in-out .15s, box-shadow ease-in-out .15s;
  transition: border-color ease-in-out .15s, box-shadow ease-in-out .15s;
  height: 30px;
  padding: 5px 10px;
  font-size: 12px;
  line-height: 1.5;
  border-radius: 1px;
  width: inherit;
  font-size: inherit;
  height: 22px;
  padding: 0px;
  display: inline-block;
}
.celltoolbar select:focus {
  border-color: #66afe9;
  outline: 0;
  -webkit-box-shadow: inset 0 1px 1px rgba(0,0,0,.075), 0 0 8px rgba(102, 175, 233, 0.6);
  box-shadow: inset 0 1px 1px rgba(0,0,0,.075), 0 0 8px rgba(102, 175, 233, 0.6);
}
.celltoolbar select::-moz-placeholder {
  color: #999;
  opacity: 1;
}
.celltoolbar select:-ms-input-placeholder {
  color: #999;
}
.celltoolbar select::-webkit-input-placeholder {
  color: #999;
}
.celltoolbar select::-ms-expand {
  border: 0;
  background-color: transparent;
}
.celltoolbar select[disabled],
.celltoolbar select[readonly],
fieldset[disabled] .celltoolbar select {
  background-color: #eeeeee;
  opacity: 1;
}
.celltoolbar select[disabled],
fieldset[disabled] .celltoolbar select {
  cursor: not-allowed;
}
textarea.celltoolbar select {
  height: auto;
}
select.celltoolbar select {
  height: 30px;
  line-height: 30px;
}
textarea.celltoolbar select,
select[multiple].celltoolbar select {
  height: auto;
}
.celltoolbar label {
  margin-left: 5px;
  margin-right: 5px;
}
.tags_button_container {
  width: 100%;
  display: flex;
}
.tag-container {
  display: flex;
  flex-direction: row;
  flex-grow: 1;
  overflow: hidden;
  position: relative;
}
.tag-container > * {
  margin: 0 4px;
}
.remove-tag-btn {
  margin-left: 4px;
}
.tags-input {
  display: flex;
}
.cell-tag:last-child:after {
  content: "";
  position: absolute;
  right: 0;
  width: 40px;
  height: 100%;
  /* Fade to background color of cell toolbar */
  background: linear-gradient(to right, rgba(0, 0, 0, 0), #EEE);
}
.tags-input > * {
  margin-left: 4px;
}
.cell-tag,
.tags-input input,
.tags-input button {
  display: block;
  width: 100%;
  height: 32px;
  padding: 6px 12px;
  font-size: 13px;
  line-height: 1.42857143;
  color: #555555;
  background-color: #fff;
  background-image: none;
  border: 1px solid #ccc;
  border-radius: 2px;
  -webkit-box-shadow: inset 0 1px 1px rgba(0, 0, 0, 0.075);
  box-shadow: inset 0 1px 1px rgba(0, 0, 0, 0.075);
  -webkit-transition: border-color ease-in-out .15s, box-shadow ease-in-out .15s;
  -o-transition: border-color ease-in-out .15s, box-shadow ease-in-out .15s;
  transition: border-color ease-in-out .15s, box-shadow ease-in-out .15s;
  height: 30px;
  padding: 5px 10px;
  font-size: 12px;
  line-height: 1.5;
  border-radius: 1px;
  box-shadow: none;
  width: inherit;
  font-size: inherit;
  height: 22px;
  line-height: 22px;
  padding: 0px 4px;
  display: inline-block;
}
.cell-tag:focus,
.tags-input input:focus,
.tags-input button:focus {
  border-color: #66afe9;
  outline: 0;
  -webkit-box-shadow: inset 0 1px 1px rgba(0,0,0,.075), 0 0 8px rgba(102, 175, 233, 0.6);
  box-shadow: inset 0 1px 1px rgba(0,0,0,.075), 0 0 8px rgba(102, 175, 233, 0.6);
}
.cell-tag::-moz-placeholder,
.tags-input input::-moz-placeholder,
.tags-input button::-moz-placeholder {
  color: #999;
  opacity: 1;
}
.cell-tag:-ms-input-placeholder,
.tags-input input:-ms-input-placeholder,
.tags-input button:-ms-input-placeholder {
  color: #999;
}
.cell-tag::-webkit-input-placeholder,
.tags-input input::-webkit-input-placeholder,
.tags-input button::-webkit-input-placeholder {
  color: #999;
}
.cell-tag::-ms-expand,
.tags-input input::-ms-expand,
.tags-input button::-ms-expand {
  border: 0;
  background-color: transparent;
}
.cell-tag[disabled],
.tags-input input[disabled],
.tags-input button[disabled],
.cell-tag[readonly],
.tags-input input[readonly],
.tags-input button[readonly],
fieldset[disabled] .cell-tag,
fieldset[disabled] .tags-input input,
fieldset[disabled] .tags-input button {
  background-color: #eeeeee;
  opacity: 1;
}
.cell-tag[disabled],
.tags-input input[disabled],
.tags-input button[disabled],
fieldset[disabled] .cell-tag,
fieldset[disabled] .tags-input input,
fieldset[disabled] .tags-input button {
  cursor: not-allowed;
}
textarea.cell-tag,
textarea.tags-input input,
textarea.tags-input button {
  height: auto;
}
select.cell-tag,
select.tags-input input,
select.tags-input button {
  height: 30px;
  line-height: 30px;
}
textarea.cell-tag,
textarea.tags-input input,
textarea.tags-input button,
select[multiple].cell-tag,
select[multiple].tags-input input,
select[multiple].tags-input button {
  height: auto;
}
.cell-tag,
.tags-input button {
  padding: 0px 4px;
}
.cell-tag {
  background-color: #fff;
  white-space: nowrap;
}
.tags-input input[type=text]:focus {
  outline: none;
  box-shadow: none;
  border-color: #ccc;
}
.completions {
  position: absolute;
  z-index: 110;
  overflow: hidden;
  border: 1px solid #ababab;
  border-radius: 2px;
  -webkit-box-shadow: 0px 6px 10px -1px #adadad;
  box-shadow: 0px 6px 10px -1px #adadad;
  line-height: 1;
}
.completions select {
  background: white;
  outline: none;
  border: none;
  padding: 0px;
  margin: 0px;
  overflow: auto;
  font-family: monospace;
  font-size: 110%;
  color: #000;
  width: auto;
}
.completions select option.context {
  color: #286090;
}
#kernel_logo_widget .current_kernel_logo {
  display: none;
  margin-top: -1px;
  margin-bottom: -1px;
  width: 32px;
  height: 32px;
}
[dir="rtl"] #kernel_logo_widget {
  float: left !important;
  float: left;
}
.modal .modal-body .move-path {
  display: flex;
  flex-direction: row;
  justify-content: space;
  align-items: center;
}
.modal .modal-body .move-path .server-root {
  padding-right: 20px;
}
.modal .modal-body .move-path .path-input {
  flex: 1;
}
#menubar {
  box-sizing: border-box;
  -moz-box-sizing: border-box;
  -webkit-box-sizing: border-box;
  margin-top: 1px;
}
#menubar .navbar {
  border-top: 1px;
  border-radius: 0px 0px 2px 2px;
  margin-bottom: 0px;
}
#menubar .navbar-toggle {
  float: left;
  padding-top: 7px;
  padding-bottom: 7px;
  border: none;
}
#menubar .navbar-collapse {
  clear: left;
}
[dir="rtl"] #menubar .navbar-toggle {
  float: right;
}
[dir="rtl"] #menubar .navbar-collapse {
  clear: right;
}
[dir="rtl"] #menubar .navbar-nav {
  float: right;
}
[dir="rtl"] #menubar .nav {
  padding-right: 0px;
}
[dir="rtl"] #menubar .navbar-nav > li {
  float: right;
}
[dir="rtl"] #menubar .navbar-right {
  float: left !important;
}
[dir="rtl"] ul.dropdown-menu {
  text-align: right;
  left: auto;
}
[dir="rtl"] ul#new-menu.dropdown-menu {
  right: auto;
  left: 0;
}
.nav-wrapper {
  border-bottom: 1px solid #e7e7e7;
}
i.menu-icon {
  padding-top: 4px;
}
[dir="rtl"] i.menu-icon.pull-right {
  float: left !important;
  float: left;
}
ul#help_menu li a {
  overflow: hidden;
  padding-right: 2.2em;
}
ul#help_menu li a i {
  margin-right: -1.2em;
}
[dir="rtl"] ul#help_menu li a {
  padding-left: 2.2em;
}
[dir="rtl"] ul#help_menu li a i {
  margin-right: 0;
  margin-left: -1.2em;
}
[dir="rtl"] ul#help_menu li a i.pull-right {
  float: left !important;
  float: left;
}
.dropdown-submenu {
  position: relative;
}
.dropdown-submenu > .dropdown-menu {
  top: 0;
  left: 100%;
  margin-top: -6px;
  margin-left: -1px;
}
[dir="rtl"] .dropdown-submenu > .dropdown-menu {
  right: 100%;
  margin-right: -1px;
}
.dropdown-submenu:hover > .dropdown-menu {
  display: block;
}
.dropdown-submenu > a:after {
  display: inline-block;
  font: normal normal normal 14px/1 FontAwesome;
  font-size: inherit;
  text-rendering: auto;
  -webkit-font-smoothing: antialiased;
  -moz-osx-font-smoothing: grayscale;
  display: block;
  content: "\f0da";
  float: right;
  color: #333333;
  margin-top: 2px;
  margin-right: -10px;
}
.dropdown-submenu > a:after.fa-pull-left {
  margin-right: .3em;
}
.dropdown-submenu > a:after.fa-pull-right {
  margin-left: .3em;
}
.dropdown-submenu > a:after.pull-left {
  margin-right: .3em;
}
.dropdown-submenu > a:after.pull-right {
  margin-left: .3em;
}
[dir="rtl"] .dropdown-submenu > a:after {
  float: left;
  content: "\f0d9";
  margin-right: 0;
  margin-left: -10px;
}
.dropdown-submenu:hover > a:after {
  color: #262626;
}
.dropdown-submenu.pull-left {
  float: none;
}
.dropdown-submenu.pull-left > .dropdown-menu {
  left: -100%;
  margin-left: 10px;
}
#notification_area {
  float: right !important;
  float: right;
  z-index: 10;
}
[dir="rtl"] #notification_area {
  float: left !important;
  float: left;
}
.indicator_area {
  float: right !important;
  float: right;
  color: #777;
  margin-left: 5px;
  margin-right: 5px;
  width: 11px;
  z-index: 10;
  text-align: center;
  width: auto;
}
[dir="rtl"] .indicator_area {
  float: left !important;
  float: left;
}
#kernel_indicator {
  float: right !important;
  float: right;
  color: #777;
  margin-left: 5px;
  margin-right: 5px;
  width: 11px;
  z-index: 10;
  text-align: center;
  width: auto;
  border-left: 1px solid;
}
#kernel_indicator .kernel_indicator_name {
  padding-left: 5px;
  padding-right: 5px;
}
[dir="rtl"] #kernel_indicator {
  float: left !important;
  float: left;
  border-left: 0;
  border-right: 1px solid;
}
#modal_indicator {
  float: right !important;
  float: right;
  color: #777;
  margin-left: 5px;
  margin-right: 5px;
  width: 11px;
  z-index: 10;
  text-align: center;
  width: auto;
}
[dir="rtl"] #modal_indicator {
  float: left !important;
  float: left;
}
#readonly-indicator {
  float: right !important;
  float: right;
  color: #777;
  margin-left: 5px;
  margin-right: 5px;
  width: 11px;
  z-index: 10;
  text-align: center;
  width: auto;
  margin-top: 2px;
  margin-bottom: 0px;
  margin-left: 0px;
  margin-right: 0px;
  display: none;
}
.modal_indicator:before {
  width: 1.28571429em;
  text-align: center;
}
.edit_mode .modal_indicator:before {
  display: inline-block;
  font: normal normal normal 14px/1 FontAwesome;
  font-size: inherit;
  text-rendering: auto;
  -webkit-font-smoothing: antialiased;
  -moz-osx-font-smoothing: grayscale;
  content: "\f040";
}
.edit_mode .modal_indicator:before.fa-pull-left {
  margin-right: .3em;
}
.edit_mode .modal_indicator:before.fa-pull-right {
  margin-left: .3em;
}
.edit_mode .modal_indicator:before.pull-left {
  margin-right: .3em;
}
.edit_mode .modal_indicator:before.pull-right {
  margin-left: .3em;
}
.command_mode .modal_indicator:before {
  display: inline-block;
  font: normal normal normal 14px/1 FontAwesome;
  font-size: inherit;
  text-rendering: auto;
  -webkit-font-smoothing: antialiased;
  -moz-osx-font-smoothing: grayscale;
  content: ' ';
}
.command_mode .modal_indicator:before.fa-pull-left {
  margin-right: .3em;
}
.command_mode .modal_indicator:before.fa-pull-right {
  margin-left: .3em;
}
.command_mode .modal_indicator:before.pull-left {
  margin-right: .3em;
}
.command_mode .modal_indicator:before.pull-right {
  margin-left: .3em;
}
.kernel_idle_icon:before {
  display: inline-block;
  font: normal normal normal 14px/1 FontAwesome;
  font-size: inherit;
  text-rendering: auto;
  -webkit-font-smoothing: antialiased;
  -moz-osx-font-smoothing: grayscale;
  content: "\f10c";
}
.kernel_idle_icon:before.fa-pull-left {
  margin-right: .3em;
}
.kernel_idle_icon:before.fa-pull-right {
  margin-left: .3em;
}
.kernel_idle_icon:before.pull-left {
  margin-right: .3em;
}
.kernel_idle_icon:before.pull-right {
  margin-left: .3em;
}
.kernel_busy_icon:before {
  display: inline-block;
  font: normal normal normal 14px/1 FontAwesome;
  font-size: inherit;
  text-rendering: auto;
  -webkit-font-smoothing: antialiased;
  -moz-osx-font-smoothing: grayscale;
  content: "\f111";
}
.kernel_busy_icon:before.fa-pull-left {
  margin-right: .3em;
}
.kernel_busy_icon:before.fa-pull-right {
  margin-left: .3em;
}
.kernel_busy_icon:before.pull-left {
  margin-right: .3em;
}
.kernel_busy_icon:before.pull-right {
  margin-left: .3em;
}
.kernel_dead_icon:before {
  display: inline-block;
  font: normal normal normal 14px/1 FontAwesome;
  font-size: inherit;
  text-rendering: auto;
  -webkit-font-smoothing: antialiased;
  -moz-osx-font-smoothing: grayscale;
  content: "\f1e2";
}
.kernel_dead_icon:before.fa-pull-left {
  margin-right: .3em;
}
.kernel_dead_icon:before.fa-pull-right {
  margin-left: .3em;
}
.kernel_dead_icon:before.pull-left {
  margin-right: .3em;
}
.kernel_dead_icon:before.pull-right {
  margin-left: .3em;
}
.kernel_disconnected_icon:before {
  display: inline-block;
  font: normal normal normal 14px/1 FontAwesome;
  font-size: inherit;
  text-rendering: auto;
  -webkit-font-smoothing: antialiased;
  -moz-osx-font-smoothing: grayscale;
  content: "\f127";
}
.kernel_disconnected_icon:before.fa-pull-left {
  margin-right: .3em;
}
.kernel_disconnected_icon:before.fa-pull-right {
  margin-left: .3em;
}
.kernel_disconnected_icon:before.pull-left {
  margin-right: .3em;
}
.kernel_disconnected_icon:before.pull-right {
  margin-left: .3em;
}
.notification_widget {
  color: #777;
  z-index: 10;
  background: rgba(240, 240, 240, 0.5);
  margin-right: 4px;
  color: #333;
  background-color: #fff;
  border-color: #ccc;
}
.notification_widget:focus,
.notification_widget.focus {
  color: #333;
  background-color: #e6e6e6;
  border-color: #8c8c8c;
}
.notification_widget:hover {
  color: #333;
  background-color: #e6e6e6;
  border-color: #adadad;
}
.notification_widget:active,
.notification_widget.active,
.open > .dropdown-toggle.notification_widget {
  color: #333;
  background-color: #e6e6e6;
  border-color: #adadad;
}
.notification_widget:active:hover,
.notification_widget.active:hover,
.open > .dropdown-toggle.notification_widget:hover,
.notification_widget:active:focus,
.notification_widget.active:focus,
.open > .dropdown-toggle.notification_widget:focus,
.notification_widget:active.focus,
.notification_widget.active.focus,
.open > .dropdown-toggle.notification_widget.focus {
  color: #333;
  background-color: #d4d4d4;
  border-color: #8c8c8c;
}
.notification_widget:active,
.notification_widget.active,
.open > .dropdown-toggle.notification_widget {
  background-image: none;
}
.notification_widget.disabled:hover,
.notification_widget[disabled]:hover,
fieldset[disabled] .notification_widget:hover,
.notification_widget.disabled:focus,
.notification_widget[disabled]:focus,
fieldset[disabled] .notification_widget:focus,
.notification_widget.disabled.focus,
.notification_widget[disabled].focus,
fieldset[disabled] .notification_widget.focus {
  background-color: #fff;
  border-color: #ccc;
}
.notification_widget .badge {
  color: #fff;
  background-color: #333;
}
.notification_widget.warning {
  color: #fff;
  background-color: #f0ad4e;
  border-color: #eea236;
}
.notification_widget.warning:focus,
.notification_widget.warning.focus {
  color: #fff;
  background-color: #ec971f;
  border-color: #985f0d;
}
.notification_widget.warning:hover {
  color: #fff;
  background-color: #ec971f;
  border-color: #d58512;
}
.notification_widget.warning:active,
.notification_widget.warning.active,
.open > .dropdown-toggle.notification_widget.warning {
  color: #fff;
  background-color: #ec971f;
  border-color: #d58512;
}
.notification_widget.warning:active:hover,
.notification_widget.warning.active:hover,
.open > .dropdown-toggle.notification_widget.warning:hover,
.notification_widget.warning:active:focus,
.notification_widget.warning.active:focus,
.open > .dropdown-toggle.notification_widget.warning:focus,
.notification_widget.warning:active.focus,
.notification_widget.warning.active.focus,
.open > .dropdown-toggle.notification_widget.warning.focus {
  color: #fff;
  background-color: #d58512;
  border-color: #985f0d;
}
.notification_widget.warning:active,
.notification_widget.warning.active,
.open > .dropdown-toggle.notification_widget.warning {
  background-image: none;
}
.notification_widget.warning.disabled:hover,
.notification_widget.warning[disabled]:hover,
fieldset[disabled] .notification_widget.warning:hover,
.notification_widget.warning.disabled:focus,
.notification_widget.warning[disabled]:focus,
fieldset[disabled] .notification_widget.warning:focus,
.notification_widget.warning.disabled.focus,
.notification_widget.warning[disabled].focus,
fieldset[disabled] .notification_widget.warning.focus {
  background-color: #f0ad4e;
  border-color: #eea236;
}
.notification_widget.warning .badge {
  color: #f0ad4e;
  background-color: #fff;
}
.notification_widget.success {
  color: #fff;
  background-color: #5cb85c;
  border-color: #4cae4c;
}
.notification_widget.success:focus,
.notification_widget.success.focus {
  color: #fff;
  background-color: #449d44;
  border-color: #255625;
}
.notification_widget.success:hover {
  color: #fff;
  background-color: #449d44;
  border-color: #398439;
}
.notification_widget.success:active,
.notification_widget.success.active,
.open > .dropdown-toggle.notification_widget.success {
  color: #fff;
  background-color: #449d44;
  border-color: #398439;
}
.notification_widget.success:active:hover,
.notification_widget.success.active:hover,
.open > .dropdown-toggle.notification_widget.success:hover,
.notification_widget.success:active:focus,
.notification_widget.success.active:focus,
.open > .dropdown-toggle.notification_widget.success:focus,
.notification_widget.success:active.focus,
.notification_widget.success.active.focus,
.open > .dropdown-toggle.notification_widget.success.focus {
  color: #fff;
  background-color: #398439;
  border-color: #255625;
}
.notification_widget.success:active,
.notification_widget.success.active,
.open > .dropdown-toggle.notification_widget.success {
  background-image: none;
}
.notification_widget.success.disabled:hover,
.notification_widget.success[disabled]:hover,
fieldset[disabled] .notification_widget.success:hover,
.notification_widget.success.disabled:focus,
.notification_widget.success[disabled]:focus,
fieldset[disabled] .notification_widget.success:focus,
.notification_widget.success.disabled.focus,
.notification_widget.success[disabled].focus,
fieldset[disabled] .notification_widget.success.focus {
  background-color: #5cb85c;
  border-color: #4cae4c;
}
.notification_widget.success .badge {
  color: #5cb85c;
  background-color: #fff;
}
.notification_widget.info {
  color: #fff;
  background-color: #5bc0de;
  border-color: #46b8da;
}
.notification_widget.info:focus,
.notification_widget.info.focus {
  color: #fff;
  background-color: #31b0d5;
  border-color: #1b6d85;
}
.notification_widget.info:hover {
  color: #fff;
  background-color: #31b0d5;
  border-color: #269abc;
}
.notification_widget.info:active,
.notification_widget.info.active,
.open > .dropdown-toggle.notification_widget.info {
  color: #fff;
  background-color: #31b0d5;
  border-color: #269abc;
}
.notification_widget.info:active:hover,
.notification_widget.info.active:hover,
.open > .dropdown-toggle.notification_widget.info:hover,
.notification_widget.info:active:focus,
.notification_widget.info.active:focus,
.open > .dropdown-toggle.notification_widget.info:focus,
.notification_widget.info:active.focus,
.notification_widget.info.active.focus,
.open > .dropdown-toggle.notification_widget.info.focus {
  color: #fff;
  background-color: #269abc;
  border-color: #1b6d85;
}
.notification_widget.info:active,
.notification_widget.info.active,
.open > .dropdown-toggle.notification_widget.info {
  background-image: none;
}
.notification_widget.info.disabled:hover,
.notification_widget.info[disabled]:hover,
fieldset[disabled] .notification_widget.info:hover,
.notification_widget.info.disabled:focus,
.notification_widget.info[disabled]:focus,
fieldset[disabled] .notification_widget.info:focus,
.notification_widget.info.disabled.focus,
.notification_widget.info[disabled].focus,
fieldset[disabled] .notification_widget.info.focus {
  background-color: #5bc0de;
  border-color: #46b8da;
}
.notification_widget.info .badge {
  color: #5bc0de;
  background-color: #fff;
}
.notification_widget.danger {
  color: #fff;
  background-color: #d9534f;
  border-color: #d43f3a;
}
.notification_widget.danger:focus,
.notification_widget.danger.focus {
  color: #fff;
  background-color: #c9302c;
  border-color: #761c19;
}
.notification_widget.danger:hover {
  color: #fff;
  background-color: #c9302c;
  border-color: #ac2925;
}
.notification_widget.danger:active,
.notification_widget.danger.active,
.open > .dropdown-toggle.notification_widget.danger {
  color: #fff;
  background-color: #c9302c;
  border-color: #ac2925;
}
.notification_widget.danger:active:hover,
.notification_widget.danger.active:hover,
.open > .dropdown-toggle.notification_widget.danger:hover,
.notification_widget.danger:active:focus,
.notification_widget.danger.active:focus,
.open > .dropdown-toggle.notification_widget.danger:focus,
.notification_widget.danger:active.focus,
.notification_widget.danger.active.focus,
.open > .dropdown-toggle.notification_widget.danger.focus {
  color: #fff;
  background-color: #ac2925;
  border-color: #761c19;
}
.notification_widget.danger:active,
.notification_widget.danger.active,
.open > .dropdown-toggle.notification_widget.danger {
  background-image: none;
}
.notification_widget.danger.disabled:hover,
.notification_widget.danger[disabled]:hover,
fieldset[disabled] .notification_widget.danger:hover,
.notification_widget.danger.disabled:focus,
.notification_widget.danger[disabled]:focus,
fieldset[disabled] .notification_widget.danger:focus,
.notification_widget.danger.disabled.focus,
.notification_widget.danger[disabled].focus,
fieldset[disabled] .notification_widget.danger.focus {
  background-color: #d9534f;
  border-color: #d43f3a;
}
.notification_widget.danger .badge {
  color: #d9534f;
  background-color: #fff;
}
div#pager {
  background-color: #fff;
  font-size: 14px;
  line-height: 20px;
  overflow: hidden;
  display: none;
  position: fixed;
  bottom: 0px;
  width: 100%;
  max-height: 50%;
  padding-top: 8px;
  -webkit-box-shadow: 0px 0px 12px 1px rgba(87, 87, 87, 0.2);
  box-shadow: 0px 0px 12px 1px rgba(87, 87, 87, 0.2);
  /* Display over codemirror */
  z-index: 100;
  /* Hack which prevents jquery ui resizable from changing top. */
  top: auto !important;
}
div#pager pre {
  line-height: 1.21429em;
  color: #000;
  background-color: #f7f7f7;
  padding: 0.4em;
}
div#pager #pager-button-area {
  position: absolute;
  top: 8px;
  right: 20px;
}
div#pager #pager-contents {
  position: relative;
  overflow: auto;
  width: 100%;
  height: 100%;
}
div#pager #pager-contents #pager-container {
  position: relative;
  padding: 15px 0px;
  box-sizing: border-box;
  -moz-box-sizing: border-box;
  -webkit-box-sizing: border-box;
}
div#pager .ui-resizable-handle {
  top: 0px;
  height: 8px;
  background: #f7f7f7;
  border-top: 1px solid #cfcfcf;
  border-bottom: 1px solid #cfcfcf;
  /* This injects handle bars (a short, wide = symbol) for 
        the resize handle. */
}
div#pager .ui-resizable-handle::after {
  content: '';
  top: 2px;
  left: 50%;
  height: 3px;
  width: 30px;
  margin-left: -15px;
  position: absolute;
  border-top: 1px solid #cfcfcf;
}
.quickhelp {
  /* Old browsers */
  display: -webkit-box;
  -webkit-box-orient: horizontal;
  -webkit-box-align: stretch;
  display: -moz-box;
  -moz-box-orient: horizontal;
  -moz-box-align: stretch;
  display: box;
  box-orient: horizontal;
  box-align: stretch;
  /* Modern browsers */
  display: flex;
  flex-direction: row;
  align-items: stretch;
  line-height: 1.8em;
}
.shortcut_key {
  display: inline-block;
  width: 21ex;
  text-align: right;
  font-family: monospace;
}
.shortcut_descr {
  display: inline-block;
  /* Old browsers */
  -webkit-box-flex: 1;
  -moz-box-flex: 1;
  box-flex: 1;
  /* Modern browsers */
  flex: 1;
}
span.save_widget {
  height: 30px;
  margin-top: 4px;
  display: flex;
  justify-content: flex-start;
  align-items: baseline;
  width: 50%;
  flex: 1;
}
span.save_widget span.filename {
  height: 100%;
  line-height: 1em;
  margin-left: 16px;
  border: none;
  font-size: 146.5%;
  text-overflow: ellipsis;
  overflow: hidden;
  white-space: nowrap;
  border-radius: 2px;
}
span.save_widget span.filename:hover {
  background-color: #e6e6e6;
}
[dir="rtl"] span.save_widget.pull-left {
  float: right !important;
  float: right;
}
[dir="rtl"] span.save_widget span.filename {
  margin-left: 0;
  margin-right: 16px;
}
span.checkpoint_status,
span.autosave_status {
  font-size: small;
  white-space: nowrap;
  padding: 0 5px;
}
@media (max-width: 767px) {
  span.save_widget {
    font-size: small;
    padding: 0 0 0 5px;
  }
  span.checkpoint_status,
  span.autosave_status {
    display: none;
  }
}
@media (min-width: 768px) and (max-width: 991px) {
  span.checkpoint_status {
    display: none;
  }
  span.autosave_status {
    font-size: x-small;
  }
}
.toolbar {
  padding: 0px;
  margin-left: -5px;
  margin-top: 2px;
  margin-bottom: 5px;
  box-sizing: border-box;
  -moz-box-sizing: border-box;
  -webkit-box-sizing: border-box;
}
.toolbar select,
.toolbar label {
  width: auto;
  vertical-align: middle;
  margin-right: 2px;
  margin-bottom: 0px;
  display: inline;
  font-size: 92%;
  margin-left: 0.3em;
  margin-right: 0.3em;
  padding: 0px;
  padding-top: 3px;
}
.toolbar .btn {
  padding: 2px 8px;
}
.toolbar .btn-group {
  margin-top: 0px;
  margin-left: 5px;
}
.toolbar-btn-label {
  margin-left: 6px;
}
#maintoolbar {
  margin-bottom: -3px;
  margin-top: -8px;
  border: 0px;
  min-height: 27px;
  margin-left: 0px;
  padding-top: 11px;
  padding-bottom: 3px;
}
#maintoolbar .navbar-text {
  float: none;
  vertical-align: middle;
  text-align: right;
  margin-left: 5px;
  margin-right: 0px;
  margin-top: 0px;
}
.select-xs {
  height: 24px;
}
[dir="rtl"] .btn-group > .btn,
.btn-group-vertical > .btn {
  float: right;
}
.pulse,
.dropdown-menu > li > a.pulse,
li.pulse > a.dropdown-toggle,
li.pulse.open > a.dropdown-toggle {
  background-color: #F37626;
  color: white;
}
/**
 * Primary styles
 *
 * Author: Jupyter Development Team
 */
/** WARNING IF YOU ARE EDITTING THIS FILE, if this is a .css file, It has a lot
 * of chance of beeing generated from the ../less/[samename].less file, you can
 * try to get back the less file by reverting somme commit in history
 **/
/*
 * We'll try to get something pretty, so we
 * have some strange css to have the scroll bar on
 * the left with fix button on the top right of the tooltip
 */
@-moz-keyframes fadeOut {
  from {
    opacity: 1;
  }
  to {
    opacity: 0;
  }
}
@-webkit-keyframes fadeOut {
  from {
    opacity: 1;
  }
  to {
    opacity: 0;
  }
}
@-moz-keyframes fadeIn {
  from {
    opacity: 0;
  }
  to {
    opacity: 1;
  }
}
@-webkit-keyframes fadeIn {
  from {
    opacity: 0;
  }
  to {
    opacity: 1;
  }
}
/*properties of tooltip after "expand"*/
.bigtooltip {
  overflow: auto;
  height: 200px;
  -webkit-transition-property: height;
  -webkit-transition-duration: 500ms;
  -moz-transition-property: height;
  -moz-transition-duration: 500ms;
  transition-property: height;
  transition-duration: 500ms;
}
/*properties of tooltip before "expand"*/
.smalltooltip {
  -webkit-transition-property: height;
  -webkit-transition-duration: 500ms;
  -moz-transition-property: height;
  -moz-transition-duration: 500ms;
  transition-property: height;
  transition-duration: 500ms;
  text-overflow: ellipsis;
  overflow: hidden;
  height: 80px;
}
.tooltipbuttons {
  position: absolute;
  padding-right: 15px;
  top: 0px;
  right: 0px;
}
.tooltiptext {
  /*avoid the button to overlap on some docstring*/
  padding-right: 30px;
}
.ipython_tooltip {
  max-width: 700px;
  /*fade-in animation when inserted*/
  -webkit-animation: fadeOut 400ms;
  -moz-animation: fadeOut 400ms;
  animation: fadeOut 400ms;
  -webkit-animation: fadeIn 400ms;
  -moz-animation: fadeIn 400ms;
  animation: fadeIn 400ms;
  vertical-align: middle;
  background-color: #f7f7f7;
  overflow: visible;
  border: #ababab 1px solid;
  outline: none;
  padding: 3px;
  margin: 0px;
  padding-left: 7px;
  font-family: monospace;
  min-height: 50px;
  -moz-box-shadow: 0px 6px 10px -1px #adadad;
  -webkit-box-shadow: 0px 6px 10px -1px #adadad;
  box-shadow: 0px 6px 10px -1px #adadad;
  border-radius: 2px;
  position: absolute;
  z-index: 1000;
}
.ipython_tooltip a {
  float: right;
}
.ipython_tooltip .tooltiptext pre {
  border: 0;
  border-radius: 0;
  font-size: 100%;
  background-color: #f7f7f7;
}
.pretooltiparrow {
  left: 0px;
  margin: 0px;
  top: -16px;
  width: 40px;
  height: 16px;
  overflow: hidden;
  position: absolute;
}
.pretooltiparrow:before {
  background-color: #f7f7f7;
  border: 1px #ababab solid;
  z-index: 11;
  content: "";
  position: absolute;
  left: 15px;
  top: 10px;
  width: 25px;
  height: 25px;
  -webkit-transform: rotate(45deg);
  -moz-transform: rotate(45deg);
  -ms-transform: rotate(45deg);
  -o-transform: rotate(45deg);
}
ul.typeahead-list i {
  margin-left: -10px;
  width: 18px;
}
[dir="rtl"] ul.typeahead-list i {
  margin-left: 0;
  margin-right: -10px;
}
ul.typeahead-list {
  max-height: 80vh;
  overflow: auto;
}
ul.typeahead-list > li > a {
  /** Firefox bug **/
  /* see https://github.com/jupyter/notebook/issues/559 */
  white-space: normal;
}
ul.typeahead-list  > li > a.pull-right {
  float: left !important;
  float: left;
}
[dir="rtl"] .typeahead-list {
  text-align: right;
}
.cmd-palette .modal-body {
  padding: 7px;
}
.cmd-palette form {
  background: white;
}
.cmd-palette input {
  outline: none;
}
.no-shortcut {
  min-width: 20px;
  color: transparent;
}
[dir="rtl"] .no-shortcut.pull-right {
  float: left !important;
  float: left;
}
[dir="rtl"] .command-shortcut.pull-right {
  float: left !important;
  float: left;
}
.command-shortcut:before {
  content: "(command mode)";
  padding-right: 3px;
  color: #777777;
}
.edit-shortcut:before {
  content: "(edit)";
  padding-right: 3px;
  color: #777777;
}
[dir="rtl"] .edit-shortcut.pull-right {
  float: left !important;
  float: left;
}
#find-and-replace #replace-preview .match,
#find-and-replace #replace-preview .insert {
  background-color: #BBDEFB;
  border-color: #90CAF9;
  border-style: solid;
  border-width: 1px;
  border-radius: 0px;
}
[dir="ltr"] #find-and-replace .input-group-btn + .form-control {
  border-left: none;
}
[dir="rtl"] #find-and-replace .input-group-btn + .form-control {
  border-right: none;
}
#find-and-replace #replace-preview .replace .match {
  background-color: #FFCDD2;
  border-color: #EF9A9A;
  border-radius: 0px;
}
#find-and-replace #replace-preview .replace .insert {
  background-color: #C8E6C9;
  border-color: #A5D6A7;
  border-radius: 0px;
}
#find-and-replace #replace-preview {
  max-height: 60vh;
  overflow: auto;
}
#find-and-replace #replace-preview pre {
  padding: 5px 10px;
}
.terminal-app {
  background: #EEE;
}
.terminal-app #header {
  background: #fff;
  -webkit-box-shadow: 0px 0px 12px 1px rgba(87, 87, 87, 0.2);
  box-shadow: 0px 0px 12px 1px rgba(87, 87, 87, 0.2);
}
.terminal-app .terminal {
  width: 100%;
  float: left;
  font-family: monospace;
  color: white;
  background: black;
  padding: 0.4em;
  border-radius: 2px;
  -webkit-box-shadow: 0px 0px 12px 1px rgba(87, 87, 87, 0.4);
  box-shadow: 0px 0px 12px 1px rgba(87, 87, 87, 0.4);
}
.terminal-app .terminal,
.terminal-app .terminal dummy-screen {
  line-height: 1em;
  font-size: 14px;
}
.terminal-app .terminal .xterm-rows {
  padding: 10px;
}
.terminal-app .terminal-cursor {
  color: black;
  background: white;
}
.terminal-app #terminado-container {
  margin-top: 20px;
}
/*# sourceMappingURL=style.min.css.map */
    </style>
<style type="text/css">
    .highlight .hll { background-color: #ffffcc }
.highlight  { background: #f8f8f8; }
.highlight .c { color: #408080; font-style: italic } /* Comment */
.highlight .err { border: 1px solid #FF0000 } /* Error */
.highlight .k { color: #008000; font-weight: bold } /* Keyword */
.highlight .o { color: #666666 } /* Operator */
.highlight .ch { color: #408080; font-style: italic } /* Comment.Hashbang */
.highlight .cm { color: #408080; font-style: italic } /* Comment.Multiline */
.highlight .cp { color: #BC7A00 } /* Comment.Preproc */
.highlight .cpf { color: #408080; font-style: italic } /* Comment.PreprocFile */
.highlight .c1 { color: #408080; font-style: italic } /* Comment.Single */
.highlight .cs { color: #408080; font-style: italic } /* Comment.Special */
.highlight .gd { color: #A00000 } /* Generic.Deleted */
.highlight .ge { font-style: italic } /* Generic.Emph */
.highlight .gr { color: #FF0000 } /* Generic.Error */
.highlight .gh { color: #000080; font-weight: bold } /* Generic.Heading */
.highlight .gi { color: #00A000 } /* Generic.Inserted */
.highlight .go { color: #888888 } /* Generic.Output */
.highlight .gp { color: #000080; font-weight: bold } /* Generic.Prompt */
.highlight .gs { font-weight: bold } /* Generic.Strong */
.highlight .gu { color: #800080; font-weight: bold } /* Generic.Subheading */
.highlight .gt { color: #0044DD } /* Generic.Traceback */
.highlight .kc { color: #008000; font-weight: bold } /* Keyword.Constant */
.highlight .kd { color: #008000; font-weight: bold } /* Keyword.Declaration */
.highlight .kn { color: #008000; font-weight: bold } /* Keyword.Namespace */
.highlight .kp { color: #008000 } /* Keyword.Pseudo */
.highlight .kr { color: #008000; font-weight: bold } /* Keyword.Reserved */
.highlight .kt { color: #B00040 } /* Keyword.Type */
.highlight .m { color: #666666 } /* Literal.Number */
.highlight .s { color: #BA2121 } /* Literal.String */
.highlight .na { color: #7D9029 } /* Name.Attribute */
.highlight .nb { color: #008000 } /* Name.Builtin */
.highlight .nc { color: #0000FF; font-weight: bold } /* Name.Class */
.highlight .no { color: #880000 } /* Name.Constant */
.highlight .nd { color: #AA22FF } /* Name.Decorator */
.highlight .ni { color: #999999; font-weight: bold } /* Name.Entity */
.highlight .ne { color: #D2413A; font-weight: bold } /* Name.Exception */
.highlight .nf { color: #0000FF } /* Name.Function */
.highlight .nl { color: #A0A000 } /* Name.Label */
.highlight .nn { color: #0000FF; font-weight: bold } /* Name.Namespace */
.highlight .nt { color: #008000; font-weight: bold } /* Name.Tag */
.highlight .nv { color: #19177C } /* Name.Variable */
.highlight .ow { color: #AA22FF; font-weight: bold } /* Operator.Word */
.highlight .w { color: #bbbbbb } /* Text.Whitespace */
.highlight .mb { color: #666666 } /* Literal.Number.Bin */
.highlight .mf { color: #666666 } /* Literal.Number.Float */
.highlight .mh { color: #666666 } /* Literal.Number.Hex */
.highlight .mi { color: #666666 } /* Literal.Number.Integer */
.highlight .mo { color: #666666 } /* Literal.Number.Oct */
.highlight .sa { color: #BA2121 } /* Literal.String.Affix */
.highlight .sb { color: #BA2121 } /* Literal.String.Backtick */
.highlight .sc { color: #BA2121 } /* Literal.String.Char */
.highlight .dl { color: #BA2121 } /* Literal.String.Delimiter */
.highlight .sd { color: #BA2121; font-style: italic } /* Literal.String.Doc */
.highlight .s2 { color: #BA2121 } /* Literal.String.Double */
.highlight .se { color: #BB6622; font-weight: bold } /* Literal.String.Escape */
.highlight .sh { color: #BA2121 } /* Literal.String.Heredoc */
.highlight .si { color: #BB6688; font-weight: bold } /* Literal.String.Interpol */
.highlight .sx { color: #008000 } /* Literal.String.Other */
.highlight .sr { color: #BB6688 } /* Literal.String.Regex */
.highlight .s1 { color: #BA2121 } /* Literal.String.Single */
.highlight .ss { color: #19177C } /* Literal.String.Symbol */
.highlight .bp { color: #008000 } /* Name.Builtin.Pseudo */
.highlight .fm { color: #0000FF } /* Name.Function.Magic */
.highlight .vc { color: #19177C } /* Name.Variable.Class */
.highlight .vg { color: #19177C } /* Name.Variable.Global */
.highlight .vi { color: #19177C } /* Name.Variable.Instance */
.highlight .vm { color: #19177C } /* Name.Variable.Magic */
.highlight .il { color: #666666 } /* Literal.Number.Integer.Long */
    </style>


<style type="text/css">
/* Overrides of notebook CSS for static HTML export */
body {
  overflow: visible;
  padding: 8px;
}

div#notebook {
  overflow: visible;
  border-top: none;
}@media print {
  div.cell {
    display: block;
    page-break-inside: avoid;
  } 
  div.output_wrapper { 
    display: block;
    page-break-inside: avoid; 
  }
  div.output { 
    display: block;
    page-break-inside: avoid; 
  }
}
</style>

<!-- Custom stylesheet, it must be in the same directory as the html file -->
<link rel="stylesheet" href="custom.css">

<!-- Loading mathjax macro -->
<!-- Load mathjax -->
    <script src="https://cdnjs.cloudflare.com/ajax/libs/mathjax/2.7.5/latest.js?config=TeX-AMS_HTML"></script>
    <!-- MathJax configuration -->
    <script type="text/x-mathjax-config">
    MathJax.Hub.Config({
        tex2jax: {
            inlineMath: [ ['$','$'], ["\\(","\\)"] ],
            displayMath: [ ['$$','$$'], ["\\[","\\]"] ],
            processEscapes: true,
            processEnvironments: true
        },
        // Center justify equations in code and markdown cells. Elsewhere
        // we use CSS to left justify single line equations in code cells.
        displayAlign: 'center',
        "HTML-CSS": {
            styles: {'.MathJax_Display': {"margin": 0}},
            linebreaks: { automatic: true }
        }
    });
    </script>
    <!-- End of mathjax configuration --></head>
<body>
  <div tabindex="-1" id="notebook" class="border-box-sizing">
    <div class="container" id="notebook-container">

<div class="cell border-box-sizing text_cell rendered"><div class="prompt input_prompt">
</div><div class="inner_cell">
<div class="text_cell_render border-box-sizing rendered_html">
<p><a href="https://www.bigdatauniversity.com"><img src="https://ibm.box.com/shared/static/qo20b88v1hbjztubt06609ovs85q8fau.png" width="400px"  align="center"></a></p>
<h1 align="center"><font size="5">CONVOLUTIONAL NEURAL NETWORK APPLICATION</font></h1>
</div>
</div>
</div>
<div class="cell border-box-sizing text_cell rendered"><div class="prompt input_prompt">
</div><div class="inner_cell">
<div class="text_cell_render border-box-sizing rendered_html">
<h2>Introduction</h2>
</div>
</div>
</div>
<div class="cell border-box-sizing text_cell rendered"><div class="prompt input_prompt">
</div><div class="inner_cell">
<div class="text_cell_render border-box-sizing rendered_html">
<p>In this section, we will use the famous <a href="http://yann.lecun.com/exdb/mnist/">MNIST Dataset</a> to build two Neural Networks capable to perform handwritten digits classification. The first Network is a simple Multi-layer Perceptron (MLP) and the second one is a Convolutional Neural Network (CNN from now on). In other words, when given an input our algorithm will say, with some associated error, what type of digit this input represents.</p>

</div>
</div>
</div>
<div class="cell border-box-sizing text_cell rendered"><div class="prompt input_prompt">
</div><div class="inner_cell">
<div class="text_cell_render border-box-sizing rendered_html">
<hr>

</div>
</div>
</div>
<div class="cell border-box-sizing text_cell rendered"><div class="prompt input_prompt">
</div><div class="inner_cell">
<div class="text_cell_render border-box-sizing rendered_html">
<div class="alert alert-block alert-info" style="margin-top: 20px">
<font size = 3><strong>Click on the links to go to the following sections:</strong></font>
<br>
<h2>Table of Contents</h2>
<ol>
    <li><a href="#ref1">What is Deep Learning</a></li>
    <li><a href="#ref2">Simple test: Is TensorFlow working?</a></li>
    <li><a href="#ref3">1st part: classify MNIST using a simple model</a></li>
    <li><a href="#ref4">Evaluating the final result</a></li>
    <li><a href="#ref5">How to improve our model?</a></li>
    <li><a href="#ref6">2nd part: Deep Learning applied on MNIST</a></li>
    <li><a href="#ref7">Summary of the Deep Convolutional Neural Network</a></li>
    <li><a href="#ref8">Define functions and train the model</a></li>
    <li><a href="#ref9">Evaluate the model</a></li>
</ol>    
</div>
</div>
</div>
</div>
<div class="cell border-box-sizing text_cell rendered"><div class="prompt input_prompt">
</div><div class="inner_cell">
<div class="text_cell_render border-box-sizing rendered_html">
<hr>
</div>
</div>
</div>
<div class="cell border-box-sizing text_cell rendered"><div class="prompt input_prompt">
</div><div class="inner_cell">
<div class="text_cell_render border-box-sizing rendered_html">
<p><a id="ref1"></a></p>
<h2>What is Deep Learning?</h2>
</div>
</div>
</div>
<div class="cell border-box-sizing text_cell rendered"><div class="prompt input_prompt">
</div><div class="inner_cell">
<div class="text_cell_render border-box-sizing rendered_html">
<p><b>Brief Theory:</b> Deep learning (also known as deep structured learning, hierarchical learning or deep machine learning) is a branch of machine learning based on a set of algorithms that attempt to model high-level abstractions in data by using multiple processing layers, with complex structures or otherwise, composed of multiple non-linear transformations.</p>

</div>
</div>
</div>
<div class="cell border-box-sizing text_cell rendered"><div class="prompt input_prompt">
</div><div class="inner_cell">
<div class="text_cell_render border-box-sizing rendered_html">
<p><img src="https://ibm.box.com/shared/static/gcbbrh440604cj2nksu3f44be87b8ank.png" alt="HTML5 Icon" style="width: 600px; height: 450px;"></p>
<div style="text-align: center">It's time for deep learning. Our brain doesn't work with only one or three layers. Why it would be different with machines?. </div>
</div>
</div>
</div>
<div class="cell border-box-sizing text_cell rendered"><div class="prompt input_prompt">
</div><div class="inner_cell">
<div class="text_cell_render border-box-sizing rendered_html">
<p><b>In Practice, defining the term "Deep":</b> in this context, deep means that we are studying a Neural Network which has several hidden layers (more than one), no matter what type (convolutional, pooling, normalization, fully-connected etc). The most interesting part is that some papers noticed that Deep Neural Networks with the right architectures/hyper-parameters achieve better results than shallow Neural Networks with the same computational power (e.g. number of neurons or connections).</p>

</div>
</div>
</div>
<div class="cell border-box-sizing text_cell rendered"><div class="prompt input_prompt">
</div><div class="inner_cell">
<div class="text_cell_render border-box-sizing rendered_html">
<p><b>In Practice, defining "Learning":</b> In the context of supervised learning, digits recognition in our case, the learning part consists of a target/feature which is to be predicted using a given set of observations with the already known final prediction (label). In our case, the target will be the digit (0, 1, 2, 3, 4, 5, 6, 7, 8, 9) and the observations are the intensity and relative position of the pixels. After some training, it is possible to generate a "function" that map inputs (digit image) to desired outputs(type of digit). The only problem is how well this map operation occurs. While trying to generate this "function", the training process continues until the model achieves a desired level of accuracy on the training data.</p>

</div>
</div>
</div>
<div class="cell border-box-sizing text_cell rendered"><div class="prompt input_prompt">
</div><div class="inner_cell">
<div class="text_cell_render border-box-sizing rendered_html">
<hr>
</div>
</div>
</div>
<div class="cell border-box-sizing text_cell rendered"><div class="prompt input_prompt">
</div><div class="inner_cell">
<div class="text_cell_render border-box-sizing rendered_html">
<p><b>Notice:</b> This notebook has been created with TensorFlow version 1.8, and might not work with other versions.</p>

</div>
</div>
</div>
<div class="cell border-box-sizing code_cell rendered">
<div class="input">
<div class="prompt input_prompt">In&nbsp;[1]:</div>
<div class="inner_cell">
    <div class="input_area">
<div class=" highlight hl-ipython3"><pre><span></span><span class="kn">import</span> <span class="nn">tensorflow</span> <span class="k">as</span> <span class="nn">tf</span>
<span class="n">tf</span><span class="o">.</span><span class="n">__version__</span>
</pre></div>

    </div>
</div>
</div>

<div class="output_wrapper">
<div class="output">


<div class="output_area">

    <div class="prompt"></div>


<div class="output_subarea output_stream output_stderr output_text">
<pre>/home/jupyterlab/conda/envs/python/lib/python3.6/site-packages/tensorflow/python/framework/dtypes.py:519: FutureWarning: Passing (type, 1) or &#39;1type&#39; as a synonym of type is deprecated; in a future version of numpy, it will be understood as (type, (1,)) / &#39;(1,)type&#39;.
  _np_qint8 = np.dtype([(&#34;qint8&#34;, np.int8, 1)])
/home/jupyterlab/conda/envs/python/lib/python3.6/site-packages/tensorflow/python/framework/dtypes.py:520: FutureWarning: Passing (type, 1) or &#39;1type&#39; as a synonym of type is deprecated; in a future version of numpy, it will be understood as (type, (1,)) / &#39;(1,)type&#39;.
  _np_quint8 = np.dtype([(&#34;quint8&#34;, np.uint8, 1)])
/home/jupyterlab/conda/envs/python/lib/python3.6/site-packages/tensorflow/python/framework/dtypes.py:521: FutureWarning: Passing (type, 1) or &#39;1type&#39; as a synonym of type is deprecated; in a future version of numpy, it will be understood as (type, (1,)) / &#39;(1,)type&#39;.
  _np_qint16 = np.dtype([(&#34;qint16&#34;, np.int16, 1)])
/home/jupyterlab/conda/envs/python/lib/python3.6/site-packages/tensorflow/python/framework/dtypes.py:522: FutureWarning: Passing (type, 1) or &#39;1type&#39; as a synonym of type is deprecated; in a future version of numpy, it will be understood as (type, (1,)) / &#39;(1,)type&#39;.
  _np_quint16 = np.dtype([(&#34;quint16&#34;, np.uint16, 1)])
/home/jupyterlab/conda/envs/python/lib/python3.6/site-packages/tensorflow/python/framework/dtypes.py:523: FutureWarning: Passing (type, 1) or &#39;1type&#39; as a synonym of type is deprecated; in a future version of numpy, it will be understood as (type, (1,)) / &#39;(1,)type&#39;.
  _np_qint32 = np.dtype([(&#34;qint32&#34;, np.int32, 1)])
/home/jupyterlab/conda/envs/python/lib/python3.6/site-packages/tensorflow/python/framework/dtypes.py:528: FutureWarning: Passing (type, 1) or &#39;1type&#39; as a synonym of type is deprecated; in a future version of numpy, it will be understood as (type, (1,)) / &#39;(1,)type&#39;.
  np_resource = np.dtype([(&#34;resource&#34;, np.ubyte, 1)])
</pre>
</div>
</div>

<div class="output_area">

    <div class="prompt output_prompt">Out[1]:</div>




<div class="output_text output_subarea output_execute_result">
<pre>&#39;1.8.0&#39;</pre>
</div>

</div>

</div>
</div>

</div>
<div class="cell border-box-sizing text_cell rendered"><div class="prompt input_prompt">
</div><div class="inner_cell">
<div class="text_cell_render border-box-sizing rendered_html">
<p>In this tutorial, we first classify MNIST using a simple Multi-layer perceptron and then, in the second part, we use deeplearning to improve the accuracy of our results.</p>
<p><a id="ref3"></a></p>
<h2>1st part: classify MNIST using a simple model.</h2>
</div>
</div>
</div>
<div class="cell border-box-sizing text_cell rendered"><div class="prompt input_prompt">
</div><div class="inner_cell">
<div class="text_cell_render border-box-sizing rendered_html">
<p>We are going to create a simple Multi-layer perceptron, a simple type of Neural Network, to perform classification tasks on the MNIST digits dataset. If you are not familiar with the MNIST dataset, please consider to read more about it: <a href="http://yann.lecun.com/exdb/mnist/">click here</a></p>

</div>
</div>
</div>
<div class="cell border-box-sizing text_cell rendered"><div class="prompt input_prompt">
</div><div class="inner_cell">
<div class="text_cell_render border-box-sizing rendered_html">
<h3>What is MNIST?</h3>
</div>
</div>
</div>
<div class="cell border-box-sizing text_cell rendered"><div class="prompt input_prompt">
</div><div class="inner_cell">
<div class="text_cell_render border-box-sizing rendered_html">
<p>According to LeCun's website, the MNIST is a: "database of handwritten digits that has a training set of 60,000 examples, and a test set of 10,000 examples. It is a subset of a larger set available from NIST. The digits have been size-normalized and centered in a fixed-size image".</p>

</div>
</div>
</div>
<div class="cell border-box-sizing text_cell rendered"><div class="prompt input_prompt">
</div><div class="inner_cell">
<div class="text_cell_render border-box-sizing rendered_html">
<h3>Import the MNIST dataset using TensorFlow built-in feature</h3>
</div>
</div>
</div>
<div class="cell border-box-sizing text_cell rendered"><div class="prompt input_prompt">
</div><div class="inner_cell">
<div class="text_cell_render border-box-sizing rendered_html">
<p>It's very important to notice that MNIST is a high optimized data-set and it does not contain images. You will need to build your own code if you want to see the real digits. Another important side note is the effort that the authors invested on this data-set with normalization and centering operations.</p>

</div>
</div>
</div>
<div class="cell border-box-sizing code_cell rendered">
<div class="input">
<div class="prompt input_prompt">In&nbsp;[2]:</div>
<div class="inner_cell">
    <div class="input_area">
<div class=" highlight hl-ipython3"><pre><span></span><span class="kn">from</span> <span class="nn">tensorflow.examples.tutorials.mnist</span> <span class="kn">import</span> <span class="n">input_data</span>
<span class="n">mnist</span> <span class="o">=</span> <span class="n">input_data</span><span class="o">.</span><span class="n">read_data_sets</span><span class="p">(</span><span class="s2">&quot;MNIST_data/&quot;</span><span class="p">,</span> <span class="n">one_hot</span><span class="o">=</span><span class="kc">True</span><span class="p">)</span>
</pre></div>

    </div>
</div>
</div>

<div class="output_wrapper">
<div class="output">


<div class="output_area">

    <div class="prompt"></div>


<div class="output_subarea output_stream output_stdout output_text">
<pre>WARNING:tensorflow:From &lt;ipython-input-2-8bf8ae5a5303&gt;:2: read_data_sets (from tensorflow.contrib.learn.python.learn.datasets.mnist) is deprecated and will be removed in a future version.
Instructions for updating:
Please use alternatives such as official/mnist/dataset.py from tensorflow/models.
WARNING:tensorflow:From /home/jupyterlab/conda/envs/python/lib/python3.6/site-packages/tensorflow/contrib/learn/python/learn/datasets/mnist.py:260: maybe_download (from tensorflow.contrib.learn.python.learn.datasets.base) is deprecated and will be removed in a future version.
Instructions for updating:
Please write your own downloading logic.
WARNING:tensorflow:From /home/jupyterlab/conda/envs/python/lib/python3.6/site-packages/tensorflow/contrib/learn/python/learn/datasets/base.py:252: _internal_retry.&lt;locals&gt;.wrap.&lt;locals&gt;.wrapped_fn (from tensorflow.contrib.learn.python.learn.datasets.base) is deprecated and will be removed in a future version.
Instructions for updating:
Please use urllib or similar directly.
Successfully downloaded train-images-idx3-ubyte.gz 9912422 bytes.
WARNING:tensorflow:From /home/jupyterlab/conda/envs/python/lib/python3.6/site-packages/tensorflow/contrib/learn/python/learn/datasets/mnist.py:262: extract_images (from tensorflow.contrib.learn.python.learn.datasets.mnist) is deprecated and will be removed in a future version.
Instructions for updating:
Please use tf.data to implement this functionality.
Extracting MNIST_data/train-images-idx3-ubyte.gz
Successfully downloaded train-labels-idx1-ubyte.gz 28881 bytes.
WARNING:tensorflow:From /home/jupyterlab/conda/envs/python/lib/python3.6/site-packages/tensorflow/contrib/learn/python/learn/datasets/mnist.py:267: extract_labels (from tensorflow.contrib.learn.python.learn.datasets.mnist) is deprecated and will be removed in a future version.
Instructions for updating:
Please use tf.data to implement this functionality.
Extracting MNIST_data/train-labels-idx1-ubyte.gz
WARNING:tensorflow:From /home/jupyterlab/conda/envs/python/lib/python3.6/site-packages/tensorflow/contrib/learn/python/learn/datasets/mnist.py:110: dense_to_one_hot (from tensorflow.contrib.learn.python.learn.datasets.mnist) is deprecated and will be removed in a future version.
Instructions for updating:
Please use tf.one_hot on tensors.
Successfully downloaded t10k-images-idx3-ubyte.gz 1648877 bytes.
Extracting MNIST_data/t10k-images-idx3-ubyte.gz
Successfully downloaded t10k-labels-idx1-ubyte.gz 4542 bytes.
Extracting MNIST_data/t10k-labels-idx1-ubyte.gz
WARNING:tensorflow:From /home/jupyterlab/conda/envs/python/lib/python3.6/site-packages/tensorflow/contrib/learn/python/learn/datasets/mnist.py:290: DataSet.__init__ (from tensorflow.contrib.learn.python.learn.datasets.mnist) is deprecated and will be removed in a future version.
Instructions for updating:
Please use alternatives such as official/mnist/dataset.py from tensorflow/models.
</pre>
</div>
</div>

</div>
</div>

</div>
<div class="cell border-box-sizing text_cell rendered"><div class="prompt input_prompt">
</div><div class="inner_cell">
<div class="text_cell_render border-box-sizing rendered_html">
<p>The <span style="background-color:#dcdcdc"> one-hot = True</span> argument only means that, in contrast to Binary representation, the labels will be presented in a way that to represent a number N, the $N^{th}$ bit is 1 while the the other bits are 0. For example, five and zero in a binary code would be:</p>

</div>
</div>
</div>
<div class="cell border-box-sizing text_cell rendered"><div class="prompt input_prompt">
</div><div class="inner_cell">
<div class="text_cell_render border-box-sizing rendered_html">
<pre>
Number representation:    0
Binary encoding:        [2^5]  [2^4]   [2^3]   [2^2]   [2^1]   [2^0]  
Array/vector:             0      0       0       0       0       0 

Number representation:    5
Binary encoding:        [2^5]  [2^4]   [2^3]   [2^2]   [2^1]   [2^0]  
Array/vector:             0      0       0       1       0       1  
</pre>
</div>
</div>
</div>
<div class="cell border-box-sizing text_cell rendered"><div class="prompt input_prompt">
</div><div class="inner_cell">
<div class="text_cell_render border-box-sizing rendered_html">
<p>Using a different notation, the same digits using one-hot vector representation can be show as:</p>

</div>
</div>
</div>
<div class="cell border-box-sizing text_cell rendered"><div class="prompt input_prompt">
</div><div class="inner_cell">
<div class="text_cell_render border-box-sizing rendered_html">
<pre>
Number representation:    0
One-hot encoding:        [5]   [4]    [3]    [2]    [1]   [0]  
Array/vector:             0     0      0      0      0     1   

Number representation:    5
One-hot encoding:        [5]   [4]    [3]    [2]    [1]    [0]  
Array/vector:             1     0      0      0      0      0   
</pre>
</div>
</div>
</div>
<div class="cell border-box-sizing text_cell rendered"><div class="prompt input_prompt">
</div><div class="inner_cell">
<div class="text_cell_render border-box-sizing rendered_html">
<h3>Understanding the imported data</h3>
</div>
</div>
</div>
<div class="cell border-box-sizing text_cell rendered"><div class="prompt input_prompt">
</div><div class="inner_cell">
<div class="text_cell_render border-box-sizing rendered_html">
<p>The imported data can be divided as follow:</p>
<ul>
<li>Training (mnist.train) &gt;&gt;  Use the given dataset with inputs and related outputs for training of NN. In our case, if you give an image that you know that represents a "nine", this set will tell the neural network that we expect a "nine" as the output.  
<pre><code>  - 55,000 data points
  - mnist.train.images for inputs
  - mnist.train.labels for outputs</code></pre>
</li>
</ul>
<ul>
<li>Validation (mnist.validation) &gt;&gt; The same as training, but now the data is used to generate model properties (classification error, for example) and from this, tune parameters like the optimal number of hidden units or determine a stopping point for the back-propagation algorithm  
<pre><code>  - 5,000 data points
  - mnist.validation.images for inputs
  - mnist.validation.labels for outputs</code></pre>
</li>
</ul>
<ul>
<li>Test (mnist.test) &gt;&gt; the model does not have access to this informations prior to the testing phase. It is used to evaluate the performance and accuracy of the model against "real life situations". No further optimization beyond this point.  
<pre><code>  - 10,000 data points
  - mnist.test.images for inputs
  - mnist.test.labels for outputs</code></pre>
</li>
</ul>

</div>
</div>
</div>
<div class="cell border-box-sizing text_cell rendered"><div class="prompt input_prompt">
</div><div class="inner_cell">
<div class="text_cell_render border-box-sizing rendered_html">
<h3>Creating an interactive section</h3>
</div>
</div>
</div>
<div class="cell border-box-sizing text_cell rendered"><div class="prompt input_prompt">
</div><div class="inner_cell">
<div class="text_cell_render border-box-sizing rendered_html">
<p>You have two basic options when using TensorFlow to run your code:</p>
<ul>
<li>[Build graphs and run session] Do all the set-up and THEN execute a session to evaluate tensors and run operations (ops) </li>
<li>[Interactive session] create your coding and run on the fly. </li>
</ul>
<p>For this first part, we will use the interactive session that is more suitable for environments like Jupyter notebooks.</p>

</div>
</div>
</div>
<div class="cell border-box-sizing code_cell rendered">
<div class="input">
<div class="prompt input_prompt">In&nbsp;[3]:</div>
<div class="inner_cell">
    <div class="input_area">
<div class=" highlight hl-ipython3"><pre><span></span><span class="n">sess</span> <span class="o">=</span> <span class="n">tf</span><span class="o">.</span><span class="n">InteractiveSession</span><span class="p">()</span>
</pre></div>

    </div>
</div>
</div>

</div>
<div class="cell border-box-sizing text_cell rendered"><div class="prompt input_prompt">
</div><div class="inner_cell">
<div class="text_cell_render border-box-sizing rendered_html">
<h3 id="Creating-placeholders">Creating placeholders<a class="anchor-link" href="#Creating-placeholders">&#182;</a></h3>
</div>
</div>
</div>
<div class="cell border-box-sizing text_cell rendered"><div class="prompt input_prompt">
</div><div class="inner_cell">
<div class="text_cell_render border-box-sizing rendered_html">
<p>It iss a best practice to create placeholders before variable assignments when using TensorFlow. Here we'll create placeholders for inputs ("Xs") and outputs ("Ys").</p>
<p><b>Placeholder 'X':</b> represents the "space" allocated input or the images.</p>
<ul>
    <li>Each input has 784 pixels distributed by a 28 width x 28 height matrix</li>   
    <li>The 'shape' argument defines the tensor size by its dimensions.</li>     
    <li>1st dimension = None. Indicates that the batch size, can be of any size.</li>     
    <li>2nd dimension = 784. Indicates the number of pixels on a single flattened MNIST image.</li>    
</ul><p><b>Placeholder 'Y':</b> represents the final output or the labels.</p>
<p><ul>
    <li>10 possible classes (0, 1, 2, 3, 4, 5, 6, 7, 8, 9)</li>  
    <li>The 'shape' argument defines the tensor size by its dimensions.</li>    
    <li>1st dimension = None. Indicates that the batch size, can be of any size.</li>     
    <li>2nd dimension = 10. Indicates the number of targets/outcomes</li>   
</ul>
<b>dtype for both placeholders:</b> if you not sure, use tf.float32. The limitation here is that the later presented softmax function only accepts float32 or float64 dtypes. For more dtypes, check TensorFlow's documentation <a href="https://www.tensorflow.org/api_docs/python/tf/DType">here</a></p>

</div>
</div>
</div>
<div class="cell border-box-sizing code_cell rendered">
<div class="input">
<div class="prompt input_prompt">In&nbsp;[4]:</div>
<div class="inner_cell">
    <div class="input_area">
<div class=" highlight hl-ipython3"><pre><span></span><span class="n">x</span>  <span class="o">=</span> <span class="n">tf</span><span class="o">.</span><span class="n">placeholder</span><span class="p">(</span><span class="n">tf</span><span class="o">.</span><span class="n">float32</span><span class="p">,</span> <span class="n">shape</span><span class="o">=</span><span class="p">[</span><span class="kc">None</span><span class="p">,</span> <span class="mi">784</span><span class="p">])</span>
<span class="n">y_</span> <span class="o">=</span> <span class="n">tf</span><span class="o">.</span><span class="n">placeholder</span><span class="p">(</span><span class="n">tf</span><span class="o">.</span><span class="n">float32</span><span class="p">,</span> <span class="n">shape</span><span class="o">=</span><span class="p">[</span><span class="kc">None</span><span class="p">,</span> <span class="mi">10</span><span class="p">])</span>
</pre></div>

    </div>
</div>
</div>

</div>
<div class="cell border-box-sizing text_cell rendered"><div class="prompt input_prompt">
</div><div class="inner_cell">
<div class="text_cell_render border-box-sizing rendered_html">
<h3>Assigning bias and weights to null tensors</h3>
</div>
</div>
</div>
<div class="cell border-box-sizing text_cell rendered"><div class="prompt input_prompt">
</div><div class="inner_cell">
<div class="text_cell_render border-box-sizing rendered_html">
<p>Now we are going to create the weights and biases, for this purpose they will be used as arrays filled with zeros. The values that we choose here can be critical, but we'll cover a better way on the second part, instead of this type of initialization.</p>

</div>
</div>
</div>
<div class="cell border-box-sizing code_cell rendered">
<div class="input">
<div class="prompt input_prompt">In&nbsp;[5]:</div>
<div class="inner_cell">
    <div class="input_area">
<div class=" highlight hl-ipython3"><pre><span></span><span class="c1"># Weight tensor</span>
<span class="n">W</span> <span class="o">=</span> <span class="n">tf</span><span class="o">.</span><span class="n">Variable</span><span class="p">(</span><span class="n">tf</span><span class="o">.</span><span class="n">zeros</span><span class="p">([</span><span class="mi">784</span><span class="p">,</span> <span class="mi">10</span><span class="p">],</span><span class="n">tf</span><span class="o">.</span><span class="n">float32</span><span class="p">))</span>
<span class="c1"># Bias tensor</span>
<span class="n">b</span> <span class="o">=</span> <span class="n">tf</span><span class="o">.</span><span class="n">Variable</span><span class="p">(</span><span class="n">tf</span><span class="o">.</span><span class="n">zeros</span><span class="p">([</span><span class="mi">10</span><span class="p">],</span><span class="n">tf</span><span class="o">.</span><span class="n">float32</span><span class="p">))</span>
</pre></div>

    </div>
</div>
</div>

</div>
<div class="cell border-box-sizing text_cell rendered"><div class="prompt input_prompt">
</div><div class="inner_cell">
<div class="text_cell_render border-box-sizing rendered_html">
<h3>Execute the assignment operation</h3>
</div>
</div>
</div>
<div class="cell border-box-sizing text_cell rendered"><div class="prompt input_prompt">
</div><div class="inner_cell">
<div class="text_cell_render border-box-sizing rendered_html">
<p>Before, we assigned the weights and biases but we did not initialize them with null values. For this reason, TensorFlow need to initialize the variables that you assign.<br>
Please notice that we're using this notation "sess.run" because we previously started an interactive session.</p>

</div>
</div>
</div>
<div class="cell border-box-sizing code_cell rendered">
<div class="input">
<div class="prompt input_prompt">In&nbsp;[6]:</div>
<div class="inner_cell">
    <div class="input_area">
<div class=" highlight hl-ipython3"><pre><span></span><span class="c1"># run the op initialize_all_variables using an interactive session</span>
<span class="n">sess</span><span class="o">.</span><span class="n">run</span><span class="p">(</span><span class="n">tf</span><span class="o">.</span><span class="n">global_variables_initializer</span><span class="p">())</span>
</pre></div>

    </div>
</div>
</div>

</div>
<div class="cell border-box-sizing text_cell rendered"><div class="prompt input_prompt">
</div><div class="inner_cell">
<div class="text_cell_render border-box-sizing rendered_html">
<h3>Adding Weights and Biases to input</h3>
</div>
</div>
</div>
<div class="cell border-box-sizing text_cell rendered"><div class="prompt input_prompt">
</div><div class="inner_cell">
<div class="text_cell_render border-box-sizing rendered_html">
<p>The only difference for our next operation to the picture below is that we are using the mathematical convention for what is being executed in the illustration. The tf.matmul operation performs a matrix multiplication between x (inputs) and W (weights) and after the code add biases.</p>

</div>
</div>
</div>
<div class="cell border-box-sizing text_cell rendered"><div class="prompt input_prompt">
</div><div class="inner_cell">
<div class="text_cell_render border-box-sizing rendered_html">
<p><img src="https://ibm.box.com/shared/static/88ksiymk1xkb10rgk0jwr3jw814jbfxo.png" alt="HTML5 Icon" style="width:400px;height:350px;"></p>
<div style="text-align:center">Illustration showing how weights and biases are added to neurons/nodes. </div>
</div>
</div>
</div>
<div class="cell border-box-sizing code_cell rendered">
<div class="input">
<div class="prompt input_prompt">In&nbsp;[7]:</div>
<div class="inner_cell">
    <div class="input_area">
<div class=" highlight hl-ipython3"><pre><span></span><span class="c1"># mathematical operation to add weights and biases to the inputs</span>
<span class="n">tf</span><span class="o">.</span><span class="n">matmul</span><span class="p">(</span><span class="n">x</span><span class="p">,</span><span class="n">W</span><span class="p">)</span> <span class="o">+</span> <span class="n">b</span>
</pre></div>

    </div>
</div>
</div>

<div class="output_wrapper">
<div class="output">


<div class="output_area">

    <div class="prompt output_prompt">Out[7]:</div>




<div class="output_text output_subarea output_execute_result">
<pre>&lt;tf.Tensor &#39;add:0&#39; shape=(?, 10) dtype=float32&gt;</pre>
</div>

</div>

</div>
</div>

</div>
<div class="cell border-box-sizing text_cell rendered"><div class="prompt input_prompt">
</div><div class="inner_cell">
<div class="text_cell_render border-box-sizing rendered_html">
<h3>Softmax Regression</h3>
</div>
</div>
</div>
<div class="cell border-box-sizing text_cell rendered"><div class="prompt input_prompt">
</div><div class="inner_cell">
<div class="text_cell_render border-box-sizing rendered_html">
<p>Softmax is an activation function that is normally used in classification problems. It generate the probabilities for the output. For example, our model will not be 100% sure that one digit is the number nine, instead, the answer will be a distribution of probabilities where, if the model is right, the nine number will have a larger probability than the other other digits.</p>
<p>For comparison, below is the one-hot vector for a nine digit label:</p>

</div>
</div>
</div>0 --> 0  
1 --> 0 
2 --> 0
3 --> 0
4 --> 0
5 --> 0
6 --> 0
7 --> 0
8 --> 0
9 --> 1
<div class="cell border-box-sizing text_cell rendered"><div class="prompt input_prompt">
</div><div class="inner_cell">
<div class="text_cell_render border-box-sizing rendered_html">
<p>A machine does not have all this certainty, so we want to know what is the best guess, but we also want to understand how sure it was and what was the second better option. Below is an example of a hypothetical distribution for a nine digit:</p>

</div>
</div>
</div>0 -->0.01  
1 -->0.02  
2 -->0.03  
3 -->0.02  
4 -->0.12  
5 -->0.01  
6 -->0.03
7 -->0.06
8 -->0.1
9 -->0.6  
<div class="cell border-box-sizing code_cell rendered">
<div class="input">
<div class="prompt input_prompt">In&nbsp;[8]:</div>
<div class="inner_cell">
    <div class="input_area">
<div class=" highlight hl-ipython3"><pre><span></span><span class="n">y</span> <span class="o">=</span> <span class="n">tf</span><span class="o">.</span><span class="n">nn</span><span class="o">.</span><span class="n">softmax</span><span class="p">(</span><span class="n">tf</span><span class="o">.</span><span class="n">matmul</span><span class="p">(</span><span class="n">x</span><span class="p">,</span><span class="n">W</span><span class="p">)</span> <span class="o">+</span> <span class="n">b</span><span class="p">)</span>
</pre></div>

    </div>
</div>
</div>

</div>
<div class="cell border-box-sizing text_cell rendered"><div class="prompt input_prompt">
</div><div class="inner_cell">
<div class="text_cell_render border-box-sizing rendered_html">
<p>Logistic function output is used for the classification between two target classes 0/1. Softmax function is generalized type of logistic function. That is, Softmax can output a multiclass categorical probability distribution.</p>

</div>
</div>
</div>
<div class="cell border-box-sizing text_cell rendered"><div class="prompt input_prompt">
</div><div class="inner_cell">
<div class="text_cell_render border-box-sizing rendered_html">
<h3>Cost function</h3>
</div>
</div>
</div>
<div class="cell border-box-sizing text_cell rendered"><div class="prompt input_prompt">
</div><div class="inner_cell">
<div class="text_cell_render border-box-sizing rendered_html">
<p>It is a function that is used to minimize the difference between the right answers (labels) and estimated outputs by our Network.</p>

</div>
</div>
</div>
<div class="cell border-box-sizing code_cell rendered">
<div class="input">
<div class="prompt input_prompt">In&nbsp;[9]:</div>
<div class="inner_cell">
    <div class="input_area">
<div class=" highlight hl-ipython3"><pre><span></span><span class="n">cross_entropy</span> <span class="o">=</span> <span class="n">tf</span><span class="o">.</span><span class="n">reduce_mean</span><span class="p">(</span><span class="o">-</span><span class="n">tf</span><span class="o">.</span><span class="n">reduce_sum</span><span class="p">(</span><span class="n">y_</span> <span class="o">*</span> <span class="n">tf</span><span class="o">.</span><span class="n">log</span><span class="p">(</span><span class="n">y</span><span class="p">),</span> <span class="n">reduction_indices</span><span class="o">=</span><span class="p">[</span><span class="mi">1</span><span class="p">]))</span>
</pre></div>

    </div>
</div>
</div>

</div>
<div class="cell border-box-sizing text_cell rendered"><div class="prompt input_prompt">
</div><div class="inner_cell">
<div class="text_cell_render border-box-sizing rendered_html">
<h3>Type of optimization: Gradient Descent</h3>
</div>
</div>
</div>
<div class="cell border-box-sizing text_cell rendered"><div class="prompt input_prompt">
</div><div class="inner_cell">
<div class="text_cell_render border-box-sizing rendered_html">
<p>This is the part where you configure the optimizer for your Neural Network. There are several optimizers available, in our case we will use Gradient Descent because it is a well established optimizer.</p>

</div>
</div>
</div>
<div class="cell border-box-sizing code_cell rendered">
<div class="input">
<div class="prompt input_prompt">In&nbsp;[10]:</div>
<div class="inner_cell">
    <div class="input_area">
<div class=" highlight hl-ipython3"><pre><span></span><span class="n">train_step</span> <span class="o">=</span> <span class="n">tf</span><span class="o">.</span><span class="n">train</span><span class="o">.</span><span class="n">GradientDescentOptimizer</span><span class="p">(</span><span class="mf">0.5</span><span class="p">)</span><span class="o">.</span><span class="n">minimize</span><span class="p">(</span><span class="n">cross_entropy</span><span class="p">)</span>
</pre></div>

    </div>
</div>
</div>

</div>
<div class="cell border-box-sizing text_cell rendered"><div class="prompt input_prompt">
</div><div class="inner_cell">
<div class="text_cell_render border-box-sizing rendered_html">
<h3>Training batches</h3>
</div>
</div>
</div>
<div class="cell border-box-sizing text_cell rendered"><div class="prompt input_prompt">
</div><div class="inner_cell">
<div class="text_cell_render border-box-sizing rendered_html">
<p>Train using minibatch Gradient Descent.</p>
<p>In practice, Batch Gradient Descent is not often used because is too computationally expensive. The good part about this method is that you have the true gradient, but with the expensive computing task of using the whole dataset in one time. Due to this problem, Neural Networks usually use minibatch to train.</p>

</div>
</div>
</div>
<div class="cell border-box-sizing code_cell rendered">
<div class="input">
<div class="prompt input_prompt">In&nbsp;[11]:</div>
<div class="inner_cell">
    <div class="input_area">
<div class=" highlight hl-ipython3"><pre><span></span><span class="c1">#Load 50 training examples for each training iteration   </span>
<span class="k">for</span> <span class="n">i</span> <span class="ow">in</span> <span class="nb">range</span><span class="p">(</span><span class="mi">1000</span><span class="p">):</span>
    <span class="n">batch</span> <span class="o">=</span> <span class="n">mnist</span><span class="o">.</span><span class="n">train</span><span class="o">.</span><span class="n">next_batch</span><span class="p">(</span><span class="mi">50</span><span class="p">)</span>
    <span class="n">train_step</span><span class="o">.</span><span class="n">run</span><span class="p">(</span><span class="n">feed_dict</span><span class="o">=</span><span class="p">{</span><span class="n">x</span><span class="p">:</span> <span class="n">batch</span><span class="p">[</span><span class="mi">0</span><span class="p">],</span> <span class="n">y_</span><span class="p">:</span> <span class="n">batch</span><span class="p">[</span><span class="mi">1</span><span class="p">]})</span>
</pre></div>

    </div>
</div>
</div>

</div>
<div class="cell border-box-sizing text_cell rendered"><div class="prompt input_prompt">
</div><div class="inner_cell">
<div class="text_cell_render border-box-sizing rendered_html">
<h3>Test</h3>
</div>
</div>
</div>
<div class="cell border-box-sizing code_cell rendered">
<div class="input">
<div class="prompt input_prompt">In&nbsp;[12]:</div>
<div class="inner_cell">
    <div class="input_area">
<div class=" highlight hl-ipython3"><pre><span></span><span class="n">correct_prediction</span> <span class="o">=</span> <span class="n">tf</span><span class="o">.</span><span class="n">equal</span><span class="p">(</span><span class="n">tf</span><span class="o">.</span><span class="n">argmax</span><span class="p">(</span><span class="n">y</span><span class="p">,</span> <span class="mi">1</span><span class="p">),</span> <span class="n">tf</span><span class="o">.</span><span class="n">argmax</span><span class="p">(</span><span class="n">y_</span><span class="p">,</span> <span class="mi">1</span><span class="p">))</span>
<span class="n">accuracy</span> <span class="o">=</span> <span class="n">tf</span><span class="o">.</span><span class="n">reduce_mean</span><span class="p">(</span><span class="n">tf</span><span class="o">.</span><span class="n">cast</span><span class="p">(</span><span class="n">correct_prediction</span><span class="p">,</span> <span class="n">tf</span><span class="o">.</span><span class="n">float32</span><span class="p">))</span>
<span class="n">acc</span> <span class="o">=</span> <span class="n">accuracy</span><span class="o">.</span><span class="n">eval</span><span class="p">(</span><span class="n">feed_dict</span><span class="o">=</span><span class="p">{</span><span class="n">x</span><span class="p">:</span> <span class="n">mnist</span><span class="o">.</span><span class="n">test</span><span class="o">.</span><span class="n">images</span><span class="p">,</span> <span class="n">y_</span><span class="p">:</span> <span class="n">mnist</span><span class="o">.</span><span class="n">test</span><span class="o">.</span><span class="n">labels</span><span class="p">})</span> <span class="o">*</span> <span class="mi">100</span>
<span class="nb">print</span><span class="p">(</span><span class="s2">&quot;The final accuracy for the simple ANN model is: </span><span class="si">{}</span><span class="s2"> % &quot;</span><span class="o">.</span><span class="n">format</span><span class="p">(</span><span class="n">acc</span><span class="p">)</span> <span class="p">)</span>
</pre></div>

    </div>
</div>
</div>

<div class="output_wrapper">
<div class="output">


<div class="output_area">

    <div class="prompt"></div>


<div class="output_subarea output_stream output_stdout output_text">
<pre>The final accuracy for the simple ANN model is: 91.51999950408936 % 
</pre>
</div>
</div>

</div>
</div>

</div>
<div class="cell border-box-sizing code_cell rendered">
<div class="input">
<div class="prompt input_prompt">In&nbsp;[13]:</div>
<div class="inner_cell">
    <div class="input_area">
<div class=" highlight hl-ipython3"><pre><span></span><span class="n">sess</span><span class="o">.</span><span class="n">close</span><span class="p">()</span> <span class="c1">#finish the session</span>
</pre></div>

    </div>
</div>
</div>

</div>
<div class="cell border-box-sizing text_cell rendered"><div class="prompt input_prompt">
</div><div class="inner_cell">
<div class="text_cell_render border-box-sizing rendered_html">
<hr>
</div>
</div>
</div>
<div class="cell border-box-sizing text_cell rendered"><div class="prompt input_prompt">
</div><div class="inner_cell">
<div class="text_cell_render border-box-sizing rendered_html">
<p><a id="ref4"></a></p>
<h2>Evaluating the final result</h2>
</div>
</div>
</div>
<div class="cell border-box-sizing text_cell rendered"><div class="prompt input_prompt">
</div><div class="inner_cell">
<div class="text_cell_render border-box-sizing rendered_html">
<p>Is the final result good?</p>
<p>Let's check the best algorithm available out there (10th June 2016):</p>
<p><em>Result:</em> 0.21% error (99.79% accuracy)<br>
<a href="http://cs.nyu.edu/~wanli/dropc/">Reference here</a></p>

</div>
</div>
</div>
<div class="cell border-box-sizing text_cell rendered"><div class="prompt input_prompt">
</div><div class="inner_cell">
<div class="text_cell_render border-box-sizing rendered_html">
<p><a id="ref5"></a></p>
<h2>How to improve our model?</h2>
</div>
</div>
</div>
<div class="cell border-box-sizing text_cell rendered"><div class="prompt input_prompt">
</div><div class="inner_cell">
<div class="text_cell_render border-box-sizing rendered_html">
<p><h4>Several options as follow:</h4></p>
<ul>
    <li>Regularization of Neural Networks using DropConnect</li>
    <li>Multi-column Deep Neural Networks for Image Classification</li> 
    <li>APAC: Augmented Pattern Classification with Neural Networks</li>
    <li>Simple Deep Neural Network with Dropout</li>
</ul>
<h4>In the next part we are going to explore the option:</h4>
<ul>
    <li>Simple Deep Neural Network with Dropout (more than 1 hidden layer)</li>
</ul>
</div>
</div>
</div>
<div class="cell border-box-sizing text_cell rendered"><div class="prompt input_prompt">
</div><div class="inner_cell">
<div class="text_cell_render border-box-sizing rendered_html">
<hr>
</div>
</div>
</div>
<div class="cell border-box-sizing text_cell rendered"><div class="prompt input_prompt">
</div><div class="inner_cell">
<div class="text_cell_render border-box-sizing rendered_html">
<p><a id="ref6"></a></p>
<h2>2nd part: Deep Learning applied on MNIST</h2>
</div>
</div>
</div>
<div class="cell border-box-sizing text_cell rendered"><div class="prompt input_prompt">
</div><div class="inner_cell">
<div class="text_cell_render border-box-sizing rendered_html">
<p>In the first part, we learned how to use a simple ANN to classify MNIST. Now we are going to expand our knowledge using a Deep Neural Network.</p>
<p>Architecture of our network is:</p>
<ul>
<li>(Input) -&gt; [batch_size, 28, 28, 1]  &gt;&gt; Apply 32 filter of [5x5]</li>
<li>(Convolutional layer 1)  -&gt; [batch_size, 28, 28, 32]</li>
<li>(ReLU 1)  -&gt; [?, 28, 28, 32]</li>
<li>(Max pooling 1) -&gt; [?, 14, 14, 32]</li>
<li>(Convolutional layer 2)  -&gt; [?, 14, 14, 64] </li>
<li>(ReLU 2)  -&gt; [?, 14, 14, 64] </li>
<li>(Max pooling 2)  -&gt; [?, 7, 7, 64] </li>
<li>[fully connected layer 3] -&gt; [1x1024]</li>
<li>[ReLU 3]  -&gt; [1x1024]</li>
<li>[Drop out]  -&gt; [1x1024]</li>
<li>[fully connected layer 4] -&gt; [1x10]</li>
</ul>
<p>The next cells will explore this new architecture.</p>

</div>
</div>
</div>
<div class="cell border-box-sizing text_cell rendered"><div class="prompt input_prompt">
</div><div class="inner_cell">
<div class="text_cell_render border-box-sizing rendered_html">
<h3>Starting the code</h3>
</div>
</div>
</div>
<div class="cell border-box-sizing code_cell rendered">
<div class="input">
<div class="prompt input_prompt">In&nbsp;[14]:</div>
<div class="inner_cell">
    <div class="input_area">
<div class=" highlight hl-ipython3"><pre><span></span><span class="kn">import</span> <span class="nn">tensorflow</span> <span class="k">as</span> <span class="nn">tf</span>

<span class="c1"># finish possible remaining session</span>
<span class="n">sess</span><span class="o">.</span><span class="n">close</span><span class="p">()</span>

<span class="c1">#Start interactive session</span>
<span class="n">sess</span> <span class="o">=</span> <span class="n">tf</span><span class="o">.</span><span class="n">InteractiveSession</span><span class="p">()</span>
</pre></div>

    </div>
</div>
</div>

</div>
<div class="cell border-box-sizing text_cell rendered"><div class="prompt input_prompt">
</div><div class="inner_cell">
<div class="text_cell_render border-box-sizing rendered_html">
<h3>The MNIST data</h3>
</div>
</div>
</div>
<div class="cell border-box-sizing code_cell rendered">
<div class="input">
<div class="prompt input_prompt">In&nbsp;[15]:</div>
<div class="inner_cell">
    <div class="input_area">
<div class=" highlight hl-ipython3"><pre><span></span><span class="kn">from</span> <span class="nn">tensorflow.examples.tutorials.mnist</span> <span class="kn">import</span> <span class="n">input_data</span>
<span class="n">mnist</span> <span class="o">=</span> <span class="n">input_data</span><span class="o">.</span><span class="n">read_data_sets</span><span class="p">(</span><span class="s1">&#39;MNIST_data&#39;</span><span class="p">,</span> <span class="n">one_hot</span><span class="o">=</span><span class="kc">True</span><span class="p">)</span>
</pre></div>

    </div>
</div>
</div>

<div class="output_wrapper">
<div class="output">


<div class="output_area">

    <div class="prompt"></div>


<div class="output_subarea output_stream output_stdout output_text">
<pre>Extracting MNIST_data/train-images-idx3-ubyte.gz
Extracting MNIST_data/train-labels-idx1-ubyte.gz
Extracting MNIST_data/t10k-images-idx3-ubyte.gz
Extracting MNIST_data/t10k-labels-idx1-ubyte.gz
</pre>
</div>
</div>

</div>
</div>

</div>
<div class="cell border-box-sizing text_cell rendered"><div class="prompt input_prompt">
</div><div class="inner_cell">
<div class="text_cell_render border-box-sizing rendered_html">
<h3>Initial parameters</h3>
</div>
</div>
</div>
<div class="cell border-box-sizing text_cell rendered"><div class="prompt input_prompt">
</div><div class="inner_cell">
<div class="text_cell_render border-box-sizing rendered_html">
<p>Create general parameters for the model</p>

</div>
</div>
</div>
<div class="cell border-box-sizing code_cell rendered">
<div class="input">
<div class="prompt input_prompt">In&nbsp;[16]:</div>
<div class="inner_cell">
    <div class="input_area">
<div class=" highlight hl-ipython3"><pre><span></span><span class="n">width</span> <span class="o">=</span> <span class="mi">28</span> <span class="c1"># width of the image in pixels </span>
<span class="n">height</span> <span class="o">=</span> <span class="mi">28</span> <span class="c1"># height of the image in pixels</span>
<span class="n">flat</span> <span class="o">=</span> <span class="n">width</span> <span class="o">*</span> <span class="n">height</span> <span class="c1"># number of pixels in one image </span>
<span class="n">class_output</span> <span class="o">=</span> <span class="mi">10</span> <span class="c1"># number of possible classifications for the problem</span>
</pre></div>

    </div>
</div>
</div>

</div>
<div class="cell border-box-sizing text_cell rendered"><div class="prompt input_prompt">
</div><div class="inner_cell">
<div class="text_cell_render border-box-sizing rendered_html">
<h3>Input and output</h3>
</div>
</div>
</div>
<div class="cell border-box-sizing text_cell rendered"><div class="prompt input_prompt">
</div><div class="inner_cell">
<div class="text_cell_render border-box-sizing rendered_html">
<p>Create place holders for inputs and outputs</p>

</div>
</div>
</div>
<div class="cell border-box-sizing code_cell rendered">
<div class="input">
<div class="prompt input_prompt">In&nbsp;[17]:</div>
<div class="inner_cell">
    <div class="input_area">
<div class=" highlight hl-ipython3"><pre><span></span><span class="n">x</span>  <span class="o">=</span> <span class="n">tf</span><span class="o">.</span><span class="n">placeholder</span><span class="p">(</span><span class="n">tf</span><span class="o">.</span><span class="n">float32</span><span class="p">,</span> <span class="n">shape</span><span class="o">=</span><span class="p">[</span><span class="kc">None</span><span class="p">,</span> <span class="n">flat</span><span class="p">])</span>
<span class="n">y_</span> <span class="o">=</span> <span class="n">tf</span><span class="o">.</span><span class="n">placeholder</span><span class="p">(</span><span class="n">tf</span><span class="o">.</span><span class="n">float32</span><span class="p">,</span> <span class="n">shape</span><span class="o">=</span><span class="p">[</span><span class="kc">None</span><span class="p">,</span> <span class="n">class_output</span><span class="p">])</span>
</pre></div>

    </div>
</div>
</div>

</div>
<div class="cell border-box-sizing text_cell rendered"><div class="prompt input_prompt">
</div><div class="inner_cell">
<div class="text_cell_render border-box-sizing rendered_html">
<h4>Converting images of the data set to tensors</h4>
</div>
</div>
</div>
<div class="cell border-box-sizing text_cell rendered"><div class="prompt input_prompt">
</div><div class="inner_cell">
<div class="text_cell_render border-box-sizing rendered_html">
<p>The input image is 28 pixels by 28 pixels, 1 channel (grayscale). In this case, the first dimension is the <b>batch number</b> of the image, and can be of any size (so we set it to -1). The second and third dimensions are width and height, and the last one is the image channels.</p>

</div>
</div>
</div>
<div class="cell border-box-sizing code_cell rendered">
<div class="input">
<div class="prompt input_prompt">In&nbsp;[18]:</div>
<div class="inner_cell">
    <div class="input_area">
<div class=" highlight hl-ipython3"><pre><span></span><span class="n">x_image</span> <span class="o">=</span> <span class="n">tf</span><span class="o">.</span><span class="n">reshape</span><span class="p">(</span><span class="n">x</span><span class="p">,</span> <span class="p">[</span><span class="o">-</span><span class="mi">1</span><span class="p">,</span><span class="mi">28</span><span class="p">,</span><span class="mi">28</span><span class="p">,</span><span class="mi">1</span><span class="p">])</span>  
<span class="n">x_image</span>
</pre></div>

    </div>
</div>
</div>

<div class="output_wrapper">
<div class="output">


<div class="output_area">

    <div class="prompt output_prompt">Out[18]:</div>




<div class="output_text output_subarea output_execute_result">
<pre>&lt;tf.Tensor &#39;Reshape:0&#39; shape=(?, 28, 28, 1) dtype=float32&gt;</pre>
</div>

</div>

</div>
</div>

</div>
<div class="cell border-box-sizing text_cell rendered"><div class="prompt input_prompt">
</div><div class="inner_cell">
<div class="text_cell_render border-box-sizing rendered_html">
<h3>Convolutional Layer 1</h3>
</div>
</div>
</div>
<div class="cell border-box-sizing text_cell rendered"><div class="prompt input_prompt">
</div><div class="inner_cell">
<div class="text_cell_render border-box-sizing rendered_html">
<p><h4>Defining kernel weight and bias</h4>
We define a kernel here. The Size of the filter/kernel is 5x5;  Input channels is 1 (grayscale);  and we need 32 different feature maps (here, 32 feature maps means 32 different filters are applied on each image. So, the output of convolution layer would be 28x28x32). In this step, we create a filter / kernel tensor of shape <code>[filter_height, filter_width, in_channels, out_channels]</code></p>

</div>
</div>
</div>
<div class="cell border-box-sizing code_cell rendered">
<div class="input">
<div class="prompt input_prompt">In&nbsp;[19]:</div>
<div class="inner_cell">
    <div class="input_area">
<div class=" highlight hl-ipython3"><pre><span></span><span class="n">W_conv1</span> <span class="o">=</span> <span class="n">tf</span><span class="o">.</span><span class="n">Variable</span><span class="p">(</span><span class="n">tf</span><span class="o">.</span><span class="n">truncated_normal</span><span class="p">([</span><span class="mi">5</span><span class="p">,</span> <span class="mi">5</span><span class="p">,</span> <span class="mi">1</span><span class="p">,</span> <span class="mi">32</span><span class="p">],</span> <span class="n">stddev</span><span class="o">=</span><span class="mf">0.1</span><span class="p">))</span>
<span class="n">b_conv1</span> <span class="o">=</span> <span class="n">tf</span><span class="o">.</span><span class="n">Variable</span><span class="p">(</span><span class="n">tf</span><span class="o">.</span><span class="n">constant</span><span class="p">(</span><span class="mf">0.1</span><span class="p">,</span> <span class="n">shape</span><span class="o">=</span><span class="p">[</span><span class="mi">32</span><span class="p">]))</span> <span class="c1"># need 32 biases for 32 outputs</span>
</pre></div>

    </div>
</div>
</div>

</div>
<div class="cell border-box-sizing text_cell rendered"><div class="prompt input_prompt">
</div><div class="inner_cell">
<div class="text_cell_render border-box-sizing rendered_html">
<p><img src="https://ibm.box.com/shared/static/vn26neef1nnv2oxn5cb3uueowcawhkgb.png" style="width: 800px; height: 400px;" alt="HTML5 Icon" ></p>
<p>&lt;/h4&gt;Convolve with weight tensor and add biases.&lt;/h4&gt;</p>
<p>To create convolutional layer, we use <b>tf.nn.conv2d</b>. It computes a 2-D convolution given 4-D input and filter tensors.</p>
<p>Inputs:</p>
<ul>
<li>tensor of shape [batch, in_height, in_width, in_channels]. x of shape [batch_size,28 ,28, 1]</li>
<li>a filter / kernel tensor of shape [filter_height, filter_width, in_channels, out_channels]. W is of size [5, 5, 1, 32]</li>
<li>stride which is  [1, 1, 1, 1]. The convolutional layer, slides the "kernel window" across the input tensor. As the input tensor has 4 dimensions:  [batch, height, width, channels], then the convolution operates on a 2D window on the height and width dimensions. <strong>strides</strong> determines how much the window shifts by in each of the dimensions. As the first and last dimensions are related to batch and channels, we set the stride to 1. But for second and third dimension, we could set other values, e.g. [1, 2, 2, 1]</li>
</ul>
<p>Process:</p>
<ul>
<li>Change the filter to a 2-D matrix with shape [5*5*1,32]</li>
<li>Extracts image patches from the input tensor to form a <em>virtual</em> tensor of shape <code>[batch, 28, 28, 5*5*1]</code>.</li>
<li>For each batch, right-multiplies the filter matrix and the image vector.</li>
</ul>
<p>Output:</p>
<ul>
<li>A <code>Tensor</code> (a 2-D convolution) of size tf.Tensor 'add_7:0' shape=(?, 28, 28, 32)- Notice: the output of the first convolution layer is 32 [28x28] images. Here 32 is considered as volume/depth of the output image.</li>
</ul>

</div>
</div>
</div>
<div class="cell border-box-sizing code_cell rendered">
<div class="input">
<div class="prompt input_prompt">In&nbsp;[20]:</div>
<div class="inner_cell">
    <div class="input_area">
<div class=" highlight hl-ipython3"><pre><span></span><span class="n">convolve1</span><span class="o">=</span> <span class="n">tf</span><span class="o">.</span><span class="n">nn</span><span class="o">.</span><span class="n">conv2d</span><span class="p">(</span><span class="n">x_image</span><span class="p">,</span> <span class="n">W_conv1</span><span class="p">,</span> <span class="n">strides</span><span class="o">=</span><span class="p">[</span><span class="mi">1</span><span class="p">,</span> <span class="mi">1</span><span class="p">,</span> <span class="mi">1</span><span class="p">,</span> <span class="mi">1</span><span class="p">],</span> <span class="n">padding</span><span class="o">=</span><span class="s1">&#39;SAME&#39;</span><span class="p">)</span> <span class="o">+</span> <span class="n">b_conv1</span>
</pre></div>

    </div>
</div>
</div>

</div>
<div class="cell border-box-sizing text_cell rendered"><div class="prompt input_prompt">
</div><div class="inner_cell">
<div class="text_cell_render border-box-sizing rendered_html">
<p><img src="https://ibm.box.com/shared/static/iizf4ui4b2hh9wn86pplqxu27ykpqci9.png" style="width: 800px; height: 400px;" alt="HTML5 Icon" ></p>

</div>
</div>
</div>
<div class="cell border-box-sizing text_cell rendered"><div class="prompt input_prompt">
</div><div class="inner_cell">
<div class="text_cell_render border-box-sizing rendered_html">
<h4>Apply the ReLU activation Function</h4>
</div>
</div>
</div>
<div class="cell border-box-sizing text_cell rendered"><div class="prompt input_prompt">
</div><div class="inner_cell">
<div class="text_cell_render border-box-sizing rendered_html">
<p>In this step, we just go through all outputs convolution layer, <b>convolve1</b>, and wherever a negative number occurs, we swap it out for a 0. It is called ReLU activation Function.<br> Let f(x) is a ReLU activation function $f(x) = max(0,x)$.</p>

</div>
</div>
</div>
<div class="cell border-box-sizing code_cell rendered">
<div class="input">
<div class="prompt input_prompt">In&nbsp;[21]:</div>
<div class="inner_cell">
    <div class="input_area">
<div class=" highlight hl-ipython3"><pre><span></span><span class="n">h_conv1</span> <span class="o">=</span> <span class="n">tf</span><span class="o">.</span><span class="n">nn</span><span class="o">.</span><span class="n">relu</span><span class="p">(</span><span class="n">convolve1</span><span class="p">)</span>
</pre></div>

    </div>
</div>
</div>

</div>
<div class="cell border-box-sizing text_cell rendered"><div class="prompt input_prompt">
</div><div class="inner_cell">
<div class="text_cell_render border-box-sizing rendered_html">
<h4>Apply the max pooling</h4>
</div>
</div>
</div>
<div class="cell border-box-sizing text_cell rendered"><div class="prompt input_prompt">
</div><div class="inner_cell">
<div class="text_cell_render border-box-sizing rendered_html">
<p><b>max pooling</b> is a form of non-linear down-sampling. It partitions the input image into a set of rectangles and, and then find the maximum value for that region.</p>
<p>Lets use <b>tf.nn.max_pool</b> function to perform max pooling. 
<b>Kernel size:</b> 2x2 (if the window is a 2x2 matrix, it would result in one output pixel)<br>
<b>Strides:</b> dictates the sliding behaviour of the kernel. In this case it will move 2 pixels everytime, thus not overlapping. The input is a matrix of size 28x28x32, and the output would be a matrix of size 14x14x32.</p>
<p><img src="https://ibm.box.com/shared/static/kmaja90mn3aud9mro9cn8pbbg1h5pejy.png" alt="HTML5 Icon" style="width: 800px; height: 400px;"></p>

</div>
</div>
</div>
<div class="cell border-box-sizing code_cell rendered">
<div class="input">
<div class="prompt input_prompt">In&nbsp;[22]:</div>
<div class="inner_cell">
    <div class="input_area">
<div class=" highlight hl-ipython3"><pre><span></span><span class="n">conv1</span> <span class="o">=</span> <span class="n">tf</span><span class="o">.</span><span class="n">nn</span><span class="o">.</span><span class="n">max_pool</span><span class="p">(</span><span class="n">h_conv1</span><span class="p">,</span> <span class="n">ksize</span><span class="o">=</span><span class="p">[</span><span class="mi">1</span><span class="p">,</span> <span class="mi">2</span><span class="p">,</span> <span class="mi">2</span><span class="p">,</span> <span class="mi">1</span><span class="p">],</span> <span class="n">strides</span><span class="o">=</span><span class="p">[</span><span class="mi">1</span><span class="p">,</span> <span class="mi">2</span><span class="p">,</span> <span class="mi">2</span><span class="p">,</span> <span class="mi">1</span><span class="p">],</span> <span class="n">padding</span><span class="o">=</span><span class="s1">&#39;SAME&#39;</span><span class="p">)</span> <span class="c1">#max_pool_2x2</span>
<span class="n">conv1</span>
</pre></div>

    </div>
</div>
</div>

<div class="output_wrapper">
<div class="output">


<div class="output_area">

    <div class="prompt output_prompt">Out[22]:</div>




<div class="output_text output_subarea output_execute_result">
<pre>&lt;tf.Tensor &#39;MaxPool:0&#39; shape=(?, 14, 14, 32) dtype=float32&gt;</pre>
</div>

</div>

</div>
</div>

</div>
<div class="cell border-box-sizing text_cell rendered"><div class="prompt input_prompt">
</div><div class="inner_cell">
<div class="text_cell_render border-box-sizing rendered_html">
<p>First layer completed</p>

</div>
</div>
</div>
<div class="cell border-box-sizing text_cell rendered"><div class="prompt input_prompt">
</div><div class="inner_cell">
<div class="text_cell_render border-box-sizing rendered_html">
<p><h3>Convolutional Layer 2</h3></p>
<h4>Weights and Biases of kernels</h4>
</div>
</div>
</div>
<div class="cell border-box-sizing text_cell rendered"><div class="prompt input_prompt">
</div><div class="inner_cell">
<div class="text_cell_render border-box-sizing rendered_html">
<p>We apply the convolution again in this layer. Lets look at the second layer kernel:</p>
<ul>
<li>Filter/kernel: 5x5 (25 pixels) </li>
<li>Input channels: 32 (from the 1st Conv layer, we had 32 feature maps) </li>
<li>64 output feature maps  </li>
</ul>
<p><b>Notice:</b> here, the input image is [14x14x32], the filter is [5x5x32], we use 64 filters of size [5x5x32], and the output of the convolutional layer would be 64 convolved image, [14x14x64].</p>
<p><b>Notice:</b> the convolution result of applying a filter of size [5x5x32] on image of size [14x14x32] is an image of size [14x14x1], that is, the convolution is functioning on volume.</p>

</div>
</div>
</div>
<div class="cell border-box-sizing code_cell rendered">
<div class="input">
<div class="prompt input_prompt">In&nbsp;[23]:</div>
<div class="inner_cell">
    <div class="input_area">
<div class=" highlight hl-ipython3"><pre><span></span><span class="n">W_conv2</span> <span class="o">=</span> <span class="n">tf</span><span class="o">.</span><span class="n">Variable</span><span class="p">(</span><span class="n">tf</span><span class="o">.</span><span class="n">truncated_normal</span><span class="p">([</span><span class="mi">5</span><span class="p">,</span> <span class="mi">5</span><span class="p">,</span> <span class="mi">32</span><span class="p">,</span> <span class="mi">64</span><span class="p">],</span> <span class="n">stddev</span><span class="o">=</span><span class="mf">0.1</span><span class="p">))</span>
<span class="n">b_conv2</span> <span class="o">=</span> <span class="n">tf</span><span class="o">.</span><span class="n">Variable</span><span class="p">(</span><span class="n">tf</span><span class="o">.</span><span class="n">constant</span><span class="p">(</span><span class="mf">0.1</span><span class="p">,</span> <span class="n">shape</span><span class="o">=</span><span class="p">[</span><span class="mi">64</span><span class="p">]))</span> <span class="c1">#need 64 biases for 64 outputs</span>
</pre></div>

    </div>
</div>
</div>

</div>
<div class="cell border-box-sizing text_cell rendered"><div class="prompt input_prompt">
</div><div class="inner_cell">
<div class="text_cell_render border-box-sizing rendered_html">
<h4>Convolve image with weight tensor and add biases.</h4>
</div>
</div>
</div>
<div class="cell border-box-sizing code_cell rendered">
<div class="input">
<div class="prompt input_prompt">In&nbsp;[24]:</div>
<div class="inner_cell">
    <div class="input_area">
<div class=" highlight hl-ipython3"><pre><span></span><span class="n">convolve2</span><span class="o">=</span> <span class="n">tf</span><span class="o">.</span><span class="n">nn</span><span class="o">.</span><span class="n">conv2d</span><span class="p">(</span><span class="n">conv1</span><span class="p">,</span> <span class="n">W_conv2</span><span class="p">,</span> <span class="n">strides</span><span class="o">=</span><span class="p">[</span><span class="mi">1</span><span class="p">,</span> <span class="mi">1</span><span class="p">,</span> <span class="mi">1</span><span class="p">,</span> <span class="mi">1</span><span class="p">],</span> <span class="n">padding</span><span class="o">=</span><span class="s1">&#39;SAME&#39;</span><span class="p">)</span> <span class="o">+</span> <span class="n">b_conv2</span>
</pre></div>

    </div>
</div>
</div>

</div>
<div class="cell border-box-sizing text_cell rendered"><div class="prompt input_prompt">
</div><div class="inner_cell">
<div class="text_cell_render border-box-sizing rendered_html">
<h4>Apply the ReLU activation Function</h4>
</div>
</div>
</div>
<div class="cell border-box-sizing code_cell rendered">
<div class="input">
<div class="prompt input_prompt">In&nbsp;[25]:</div>
<div class="inner_cell">
    <div class="input_area">
<div class=" highlight hl-ipython3"><pre><span></span><span class="n">h_conv2</span> <span class="o">=</span> <span class="n">tf</span><span class="o">.</span><span class="n">nn</span><span class="o">.</span><span class="n">relu</span><span class="p">(</span><span class="n">convolve2</span><span class="p">)</span>
</pre></div>

    </div>
</div>
</div>

</div>
<div class="cell border-box-sizing text_cell rendered"><div class="prompt input_prompt">
</div><div class="inner_cell">
<div class="text_cell_render border-box-sizing rendered_html">
<h4>Apply the max pooling</h4>
</div>
</div>
</div>
<div class="cell border-box-sizing code_cell rendered">
<div class="input">
<div class="prompt input_prompt">In&nbsp;[26]:</div>
<div class="inner_cell">
    <div class="input_area">
<div class=" highlight hl-ipython3"><pre><span></span><span class="n">conv2</span> <span class="o">=</span> <span class="n">tf</span><span class="o">.</span><span class="n">nn</span><span class="o">.</span><span class="n">max_pool</span><span class="p">(</span><span class="n">h_conv2</span><span class="p">,</span> <span class="n">ksize</span><span class="o">=</span><span class="p">[</span><span class="mi">1</span><span class="p">,</span> <span class="mi">2</span><span class="p">,</span> <span class="mi">2</span><span class="p">,</span> <span class="mi">1</span><span class="p">],</span> <span class="n">strides</span><span class="o">=</span><span class="p">[</span><span class="mi">1</span><span class="p">,</span> <span class="mi">2</span><span class="p">,</span> <span class="mi">2</span><span class="p">,</span> <span class="mi">1</span><span class="p">],</span> <span class="n">padding</span><span class="o">=</span><span class="s1">&#39;SAME&#39;</span><span class="p">)</span> <span class="c1">#max_pool_2x2</span>
<span class="n">conv2</span>
</pre></div>

    </div>
</div>
</div>

<div class="output_wrapper">
<div class="output">


<div class="output_area">

    <div class="prompt output_prompt">Out[26]:</div>




<div class="output_text output_subarea output_execute_result">
<pre>&lt;tf.Tensor &#39;MaxPool_1:0&#39; shape=(?, 7, 7, 64) dtype=float32&gt;</pre>
</div>

</div>

</div>
</div>

</div>
<div class="cell border-box-sizing text_cell rendered"><div class="prompt input_prompt">
</div><div class="inner_cell">
<div class="text_cell_render border-box-sizing rendered_html">
<p>Second layer completed. So, what is the output of the second layer, layer2?</p>
<ul>
<li>it is 64 matrix of [7x7]</li>
</ul>

</div>
</div>
</div>
<div class="cell border-box-sizing text_cell rendered"><div class="prompt input_prompt">
</div><div class="inner_cell">
<div class="text_cell_render border-box-sizing rendered_html">
<h3>Fully Connected Layer</h3>
</div>
</div>
</div>
<div class="cell border-box-sizing text_cell rendered"><div class="prompt input_prompt">
</div><div class="inner_cell">
<div class="text_cell_render border-box-sizing rendered_html">
<p>You need a fully connected layer to use the Softmax and create the probabilities in the end. Fully connected layers take the high-level filtered images from previous layer, that is all 64 matrices, and convert them to a flat array.</p>
<p>So, each matrix [7x7] will be converted to a matrix of [49x1], and then all of the 64 matrix will be connected, which make an array of size [3136x1]. We will connect it into another layer of size [1024x1]. So, the weight between these 2 layers will be [3136x1024]</p>
<p><img src="https://ibm.box.com/shared/static/pr9mnirmlrzm2bitf1d4jj389hyvv7ey.png" alt="HTML5 Icon" style="width: 800px; height: 400px;"></p>

</div>
</div>
</div>
<div class="cell border-box-sizing text_cell rendered"><div class="prompt input_prompt">
</div><div class="inner_cell">
<div class="text_cell_render border-box-sizing rendered_html">
<h4>Flattening Second Layer</h4>
</div>
</div>
</div>
<div class="cell border-box-sizing code_cell rendered">
<div class="input">
<div class="prompt input_prompt">In&nbsp;[27]:</div>
<div class="inner_cell">
    <div class="input_area">
<div class=" highlight hl-ipython3"><pre><span></span><span class="n">layer2_matrix</span> <span class="o">=</span> <span class="n">tf</span><span class="o">.</span><span class="n">reshape</span><span class="p">(</span><span class="n">conv2</span><span class="p">,</span> <span class="p">[</span><span class="o">-</span><span class="mi">1</span><span class="p">,</span> <span class="mi">7</span> <span class="o">*</span> <span class="mi">7</span> <span class="o">*</span> <span class="mi">64</span><span class="p">])</span>
</pre></div>

    </div>
</div>
</div>

</div>
<div class="cell border-box-sizing text_cell rendered"><div class="prompt input_prompt">
</div><div class="inner_cell">
<div class="text_cell_render border-box-sizing rendered_html">
<h4>Weights and Biases between layer 2 and 3</h4>
</div>
</div>
</div>
<div class="cell border-box-sizing text_cell rendered"><div class="prompt input_prompt">
</div><div class="inner_cell">
<div class="text_cell_render border-box-sizing rendered_html">
<p>Composition of the feature map from the last layer (7x7) multiplied by the number of feature maps (64); 1027 outputs to Softmax layer</p>

</div>
</div>
</div>
<div class="cell border-box-sizing code_cell rendered">
<div class="input">
<div class="prompt input_prompt">In&nbsp;[28]:</div>
<div class="inner_cell">
    <div class="input_area">
<div class=" highlight hl-ipython3"><pre><span></span><span class="n">W_fc1</span> <span class="o">=</span> <span class="n">tf</span><span class="o">.</span><span class="n">Variable</span><span class="p">(</span><span class="n">tf</span><span class="o">.</span><span class="n">truncated_normal</span><span class="p">([</span><span class="mi">7</span> <span class="o">*</span> <span class="mi">7</span> <span class="o">*</span> <span class="mi">64</span><span class="p">,</span> <span class="mi">1024</span><span class="p">],</span> <span class="n">stddev</span><span class="o">=</span><span class="mf">0.1</span><span class="p">))</span>
<span class="n">b_fc1</span> <span class="o">=</span> <span class="n">tf</span><span class="o">.</span><span class="n">Variable</span><span class="p">(</span><span class="n">tf</span><span class="o">.</span><span class="n">constant</span><span class="p">(</span><span class="mf">0.1</span><span class="p">,</span> <span class="n">shape</span><span class="o">=</span><span class="p">[</span><span class="mi">1024</span><span class="p">]))</span> <span class="c1"># need 1024 biases for 1024 outputs</span>
</pre></div>

    </div>
</div>
</div>

</div>
<div class="cell border-box-sizing text_cell rendered"><div class="prompt input_prompt">
</div><div class="inner_cell">
<div class="text_cell_render border-box-sizing rendered_html">
<h4>Matrix Multiplication (applying weights and biases)</h4>
</div>
</div>
</div>
<div class="cell border-box-sizing code_cell rendered">
<div class="input">
<div class="prompt input_prompt">In&nbsp;[29]:</div>
<div class="inner_cell">
    <div class="input_area">
<div class=" highlight hl-ipython3"><pre><span></span><span class="n">fcl</span> <span class="o">=</span> <span class="n">tf</span><span class="o">.</span><span class="n">matmul</span><span class="p">(</span><span class="n">layer2_matrix</span><span class="p">,</span> <span class="n">W_fc1</span><span class="p">)</span> <span class="o">+</span> <span class="n">b_fc1</span>
</pre></div>

    </div>
</div>
</div>

</div>
<div class="cell border-box-sizing text_cell rendered"><div class="prompt input_prompt">
</div><div class="inner_cell">
<div class="text_cell_render border-box-sizing rendered_html">
<h4>Apply the ReLU activation Function</h4>
</div>
</div>
</div>
<div class="cell border-box-sizing code_cell rendered">
<div class="input">
<div class="prompt input_prompt">In&nbsp;[30]:</div>
<div class="inner_cell">
    <div class="input_area">
<div class=" highlight hl-ipython3"><pre><span></span><span class="n">h_fc1</span> <span class="o">=</span> <span class="n">tf</span><span class="o">.</span><span class="n">nn</span><span class="o">.</span><span class="n">relu</span><span class="p">(</span><span class="n">fcl</span><span class="p">)</span>
<span class="n">h_fc1</span>
</pre></div>

    </div>
</div>
</div>

<div class="output_wrapper">
<div class="output">


<div class="output_area">

    <div class="prompt output_prompt">Out[30]:</div>




<div class="output_text output_subarea output_execute_result">
<pre>&lt;tf.Tensor &#39;Relu_2:0&#39; shape=(?, 1024) dtype=float32&gt;</pre>
</div>

</div>

</div>
</div>

</div>
<div class="cell border-box-sizing text_cell rendered"><div class="prompt input_prompt">
</div><div class="inner_cell">
<div class="text_cell_render border-box-sizing rendered_html">
<p>Third layer completed</p>

</div>
</div>
</div>
<div class="cell border-box-sizing text_cell rendered"><div class="prompt input_prompt">
</div><div class="inner_cell">
<div class="text_cell_render border-box-sizing rendered_html">
<h4>Dropout Layer, Optional phase for reducing overfitting</h4>
</div>
</div>
</div>
<div class="cell border-box-sizing text_cell rendered"><div class="prompt input_prompt">
</div><div class="inner_cell">
<div class="text_cell_render border-box-sizing rendered_html">
<p>It is a phase where the network "forget" some features. At each training step in a mini-batch, some units get switched off randomly so that it will not interact with the network. That is, it weights cannot be updated, nor affect the learning of the other network nodes.  This can be very useful for very large neural networks to prevent overfitting.</p>

</div>
</div>
</div>
<div class="cell border-box-sizing code_cell rendered">
<div class="input">
<div class="prompt input_prompt">In&nbsp;[31]:</div>
<div class="inner_cell">
    <div class="input_area">
<div class=" highlight hl-ipython3"><pre><span></span><span class="n">keep_prob</span> <span class="o">=</span> <span class="n">tf</span><span class="o">.</span><span class="n">placeholder</span><span class="p">(</span><span class="n">tf</span><span class="o">.</span><span class="n">float32</span><span class="p">)</span>
<span class="n">layer_drop</span> <span class="o">=</span> <span class="n">tf</span><span class="o">.</span><span class="n">nn</span><span class="o">.</span><span class="n">dropout</span><span class="p">(</span><span class="n">h_fc1</span><span class="p">,</span> <span class="n">keep_prob</span><span class="p">)</span>
<span class="n">layer_drop</span>
</pre></div>

    </div>
</div>
</div>

<div class="output_wrapper">
<div class="output">


<div class="output_area">

    <div class="prompt output_prompt">Out[31]:</div>




<div class="output_text output_subarea output_execute_result">
<pre>&lt;tf.Tensor &#39;dropout/mul:0&#39; shape=(?, 1024) dtype=float32&gt;</pre>
</div>

</div>

</div>
</div>

</div>
<div class="cell border-box-sizing text_cell rendered"><div class="prompt input_prompt">
</div><div class="inner_cell">
<div class="text_cell_render border-box-sizing rendered_html">
<h4>Readout Layer (Softmax Layer)</h4>
</div>
</div>
</div>
<div class="cell border-box-sizing text_cell rendered"><div class="prompt input_prompt">
</div><div class="inner_cell">
<div class="text_cell_render border-box-sizing rendered_html">
<p>Type: Softmax, Fully Connected Layer.</p>

</div>
</div>
</div>
<div class="cell border-box-sizing text_cell rendered"><div class="prompt input_prompt">
</div><div class="inner_cell">
<div class="text_cell_render border-box-sizing rendered_html">
<h4>Weights and Biases</h4>
</div>
</div>
</div>
<div class="cell border-box-sizing text_cell rendered"><div class="prompt input_prompt">
</div><div class="inner_cell">
<div class="text_cell_render border-box-sizing rendered_html">
<p>In last layer, CNN takes the high-level filtered images and translate them into votes using softmax.
Input channels: 1024 (neurons from the 3rd Layer); 10 output features</p>

</div>
</div>
</div>
<div class="cell border-box-sizing code_cell rendered">
<div class="input">
<div class="prompt input_prompt">In&nbsp;[32]:</div>
<div class="inner_cell">
    <div class="input_area">
<div class=" highlight hl-ipython3"><pre><span></span><span class="n">W_fc2</span> <span class="o">=</span> <span class="n">tf</span><span class="o">.</span><span class="n">Variable</span><span class="p">(</span><span class="n">tf</span><span class="o">.</span><span class="n">truncated_normal</span><span class="p">([</span><span class="mi">1024</span><span class="p">,</span> <span class="mi">10</span><span class="p">],</span> <span class="n">stddev</span><span class="o">=</span><span class="mf">0.1</span><span class="p">))</span> <span class="c1">#1024 neurons</span>
<span class="n">b_fc2</span> <span class="o">=</span> <span class="n">tf</span><span class="o">.</span><span class="n">Variable</span><span class="p">(</span><span class="n">tf</span><span class="o">.</span><span class="n">constant</span><span class="p">(</span><span class="mf">0.1</span><span class="p">,</span> <span class="n">shape</span><span class="o">=</span><span class="p">[</span><span class="mi">10</span><span class="p">]))</span> <span class="c1"># 10 possibilities for digits [0,1,2,3,4,5,6,7,8,9]</span>
</pre></div>

    </div>
</div>
</div>

</div>
<div class="cell border-box-sizing text_cell rendered"><div class="prompt input_prompt">
</div><div class="inner_cell">
<div class="text_cell_render border-box-sizing rendered_html">
<h4>Matrix Multiplication (applying weights and biases)</h4>
</div>
</div>
</div>
<div class="cell border-box-sizing code_cell rendered">
<div class="input">
<div class="prompt input_prompt">In&nbsp;[33]:</div>
<div class="inner_cell">
    <div class="input_area">
<div class=" highlight hl-ipython3"><pre><span></span><span class="n">fc</span><span class="o">=</span><span class="n">tf</span><span class="o">.</span><span class="n">matmul</span><span class="p">(</span><span class="n">layer_drop</span><span class="p">,</span> <span class="n">W_fc2</span><span class="p">)</span> <span class="o">+</span> <span class="n">b_fc2</span>
</pre></div>

    </div>
</div>
</div>

</div>
<div class="cell border-box-sizing text_cell rendered"><div class="prompt input_prompt">
</div><div class="inner_cell">
<div class="text_cell_render border-box-sizing rendered_html">
<p><h4>Apply the Softmax activation Function</h4>
<b>softmax</b> allows us to interpret the outputs of <b>fcl4</b> as probabilities. So, <b>y_conv</b> is a tensor of probabilities.</p>

</div>
</div>
</div>
<div class="cell border-box-sizing code_cell rendered">
<div class="input">
<div class="prompt input_prompt">In&nbsp;[34]:</div>
<div class="inner_cell">
    <div class="input_area">
<div class=" highlight hl-ipython3"><pre><span></span><span class="n">y_CNN</span><span class="o">=</span> <span class="n">tf</span><span class="o">.</span><span class="n">nn</span><span class="o">.</span><span class="n">softmax</span><span class="p">(</span><span class="n">fc</span><span class="p">)</span>
<span class="n">y_CNN</span>
</pre></div>

    </div>
</div>
</div>

<div class="output_wrapper">
<div class="output">


<div class="output_area">

    <div class="prompt output_prompt">Out[34]:</div>




<div class="output_text output_subarea output_execute_result">
<pre>&lt;tf.Tensor &#39;Softmax_1:0&#39; shape=(?, 10) dtype=float32&gt;</pre>
</div>

</div>

</div>
</div>

</div>
<div class="cell border-box-sizing text_cell rendered"><div class="prompt input_prompt">
</div><div class="inner_cell">
<div class="text_cell_render border-box-sizing rendered_html">
<hr>

</div>
</div>
</div>
<div class="cell border-box-sizing text_cell rendered"><div class="prompt input_prompt">
</div><div class="inner_cell">
<div class="text_cell_render border-box-sizing rendered_html">
<p><a id="ref7"></a></p>
<h2>Summary of the Deep Convolutional Neural Network</h2>
</div>
</div>
</div>
<div class="cell border-box-sizing text_cell rendered"><div class="prompt input_prompt">
</div><div class="inner_cell">
<div class="text_cell_render border-box-sizing rendered_html">
<p>Now is time to remember the structure of  our network</p>

</div>
</div>
</div>
<div class="cell border-box-sizing text_cell rendered"><div class="prompt input_prompt">
</div><div class="inner_cell">
<div class="text_cell_render border-box-sizing rendered_html">
<h4 id="0)-Input---MNIST-dataset">0) Input - MNIST dataset<a class="anchor-link" href="#0)-Input---MNIST-dataset">&#182;</a></h4><h4 id="1)-Convolutional-and-Max-Pooling">1) Convolutional and Max-Pooling<a class="anchor-link" href="#1)-Convolutional-and-Max-Pooling">&#182;</a></h4><h4 id="2)-Convolutional-and-Max-Pooling">2) Convolutional and Max-Pooling<a class="anchor-link" href="#2)-Convolutional-and-Max-Pooling">&#182;</a></h4><h4 id="3)-Fully-Connected-Layer">3) Fully Connected Layer<a class="anchor-link" href="#3)-Fully-Connected-Layer">&#182;</a></h4><h4 id="4)-Processing---Dropout">4) Processing - Dropout<a class="anchor-link" href="#4)-Processing---Dropout">&#182;</a></h4><h4 id="5)-Readout-layer---Fully-Connected">5) Readout layer - Fully Connected<a class="anchor-link" href="#5)-Readout-layer---Fully-Connected">&#182;</a></h4><h4 id="6)-Outputs---Classified-digits">6) Outputs - Classified digits<a class="anchor-link" href="#6)-Outputs---Classified-digits">&#182;</a></h4>
</div>
</div>
</div>
<div class="cell border-box-sizing text_cell rendered"><div class="prompt input_prompt">
</div><div class="inner_cell">
<div class="text_cell_render border-box-sizing rendered_html">
<hr>

</div>
</div>
</div>
<div class="cell border-box-sizing text_cell rendered"><div class="prompt input_prompt">
</div><div class="inner_cell">
<div class="text_cell_render border-box-sizing rendered_html">
<p><a id="ref8"></a></p>
<h2>Define functions and train the model</h2>
</div>
</div>
</div>
<div class="cell border-box-sizing text_cell rendered"><div class="prompt input_prompt">
</div><div class="inner_cell">
<div class="text_cell_render border-box-sizing rendered_html">
<h4>Define the loss function</h4><p>We need to compare our output, layer4 tensor, with ground truth for all mini_batch. we can use <b>cross entropy&gt;/b&gt; to see how bad our CNN is working - to measure the error at a softmax layer.</p>
<p>The following code shows an toy sample of cross-entropy for a mini-batch of size 2 which its items have been classified. You can run it (first change the cell type to <b>code</b> in the toolbar) to see how cross entropy changes.</p>

</div>
</div>
</div>import numpy as np
layer4_test =[[0.9, 0.1, 0.1],[0.9, 0.1, 0.1]]
y_test=[[1.0, 0.0, 0.0],[1.0, 0.0, 0.0]]
np.mean( -np.sum(y_test * np.log(layer4_test),1))
<div class="cell border-box-sizing text_cell rendered"><div class="prompt input_prompt">
</div><div class="inner_cell">
<div class="text_cell_render border-box-sizing rendered_html">
<p><b>reduce_sum</b> computes the sum of elements of <b>(y_ * tf.log(layer4)</b> across second dimension of the tensor, and <b>reduce_mean</b> computes the mean of all elements in the tensor..</p>

</div>
</div>
</div>
<div class="cell border-box-sizing code_cell rendered">
<div class="input">
<div class="prompt input_prompt">In&nbsp;[35]:</div>
<div class="inner_cell">
    <div class="input_area">
<div class=" highlight hl-ipython3"><pre><span></span><span class="n">cross_entropy</span> <span class="o">=</span> <span class="n">tf</span><span class="o">.</span><span class="n">reduce_mean</span><span class="p">(</span><span class="o">-</span><span class="n">tf</span><span class="o">.</span><span class="n">reduce_sum</span><span class="p">(</span><span class="n">y_</span> <span class="o">*</span> <span class="n">tf</span><span class="o">.</span><span class="n">log</span><span class="p">(</span><span class="n">y_CNN</span><span class="p">),</span> <span class="n">reduction_indices</span><span class="o">=</span><span class="p">[</span><span class="mi">1</span><span class="p">]))</span>
</pre></div>

    </div>
</div>
</div>

</div>
<div class="cell border-box-sizing text_cell rendered"><div class="prompt input_prompt">
</div><div class="inner_cell">
<div class="text_cell_render border-box-sizing rendered_html">
<h4>Define the optimizer</h4><p>It is obvious that we want minimize the error of our network which is calculated by cross_entropy metric. To solve the problem, we have to compute gradients for the loss (which is minimizing the cross-entropy) and apply gradients to variables. It will be done by an optimizer: GradientDescent or Adagrad.</p>

</div>
</div>
</div>
<div class="cell border-box-sizing code_cell rendered">
<div class="input">
<div class="prompt input_prompt">In&nbsp;[36]:</div>
<div class="inner_cell">
    <div class="input_area">
<div class=" highlight hl-ipython3"><pre><span></span><span class="n">train_step</span> <span class="o">=</span> <span class="n">tf</span><span class="o">.</span><span class="n">train</span><span class="o">.</span><span class="n">AdamOptimizer</span><span class="p">(</span><span class="mf">1e-4</span><span class="p">)</span><span class="o">.</span><span class="n">minimize</span><span class="p">(</span><span class="n">cross_entropy</span><span class="p">)</span>
</pre></div>

    </div>
</div>
</div>

</div>
<div class="cell border-box-sizing text_cell rendered"><div class="prompt input_prompt">
</div><div class="inner_cell">
<div class="text_cell_render border-box-sizing rendered_html">
<p><h4>Define prediction</h4>
Do you want to know how many of the cases in a mini-batch has been classified correctly? lets count them.</p>

</div>
</div>
</div>
<div class="cell border-box-sizing code_cell rendered">
<div class="input">
<div class="prompt input_prompt">In&nbsp;[37]:</div>
<div class="inner_cell">
    <div class="input_area">
<div class=" highlight hl-ipython3"><pre><span></span><span class="n">correct_prediction</span> <span class="o">=</span> <span class="n">tf</span><span class="o">.</span><span class="n">equal</span><span class="p">(</span><span class="n">tf</span><span class="o">.</span><span class="n">argmax</span><span class="p">(</span><span class="n">y_CNN</span><span class="p">,</span> <span class="mi">1</span><span class="p">),</span> <span class="n">tf</span><span class="o">.</span><span class="n">argmax</span><span class="p">(</span><span class="n">y_</span><span class="p">,</span> <span class="mi">1</span><span class="p">))</span>
</pre></div>

    </div>
</div>
</div>

</div>
<div class="cell border-box-sizing text_cell rendered"><div class="prompt input_prompt">
</div><div class="inner_cell">
<div class="text_cell_render border-box-sizing rendered_html">
<p><h4>Define accuracy</h4>
It makes more sense to report accuracy using average of correct cases.</p>

</div>
</div>
</div>
<div class="cell border-box-sizing code_cell rendered">
<div class="input">
<div class="prompt input_prompt">In&nbsp;[38]:</div>
<div class="inner_cell">
    <div class="input_area">
<div class=" highlight hl-ipython3"><pre><span></span><span class="n">accuracy</span> <span class="o">=</span> <span class="n">tf</span><span class="o">.</span><span class="n">reduce_mean</span><span class="p">(</span><span class="n">tf</span><span class="o">.</span><span class="n">cast</span><span class="p">(</span><span class="n">correct_prediction</span><span class="p">,</span> <span class="n">tf</span><span class="o">.</span><span class="n">float32</span><span class="p">))</span>
</pre></div>

    </div>
</div>
</div>

</div>
<div class="cell border-box-sizing text_cell rendered"><div class="prompt input_prompt">
</div><div class="inner_cell">
<div class="text_cell_render border-box-sizing rendered_html">
<h4>Run session, train</h4>
</div>
</div>
</div>
<div class="cell border-box-sizing code_cell rendered">
<div class="input">
<div class="prompt input_prompt">In&nbsp;[39]:</div>
<div class="inner_cell">
    <div class="input_area">
<div class=" highlight hl-ipython3"><pre><span></span><span class="n">sess</span><span class="o">.</span><span class="n">run</span><span class="p">(</span><span class="n">tf</span><span class="o">.</span><span class="n">global_variables_initializer</span><span class="p">())</span>
</pre></div>

    </div>
</div>
</div>

</div>
<div class="cell border-box-sizing text_cell rendered"><div class="prompt input_prompt">
</div><div class="inner_cell">
<div class="text_cell_render border-box-sizing rendered_html">
<p><i>If you want a fast result (<b>it might take sometime to train it</b>)</i></p>

</div>
</div>
</div>
<div class="cell border-box-sizing code_cell rendered">
<div class="input">
<div class="prompt input_prompt">In&nbsp;[40]:</div>
<div class="inner_cell">
    <div class="input_area">
<div class=" highlight hl-ipython3"><pre><span></span><span class="k">for</span> <span class="n">i</span> <span class="ow">in</span> <span class="nb">range</span><span class="p">(</span><span class="mi">1100</span><span class="p">):</span>
    <span class="n">batch</span> <span class="o">=</span> <span class="n">mnist</span><span class="o">.</span><span class="n">train</span><span class="o">.</span><span class="n">next_batch</span><span class="p">(</span><span class="mi">50</span><span class="p">)</span>
    <span class="k">if</span> <span class="n">i</span><span class="o">%</span><span class="k">100</span> == 0:
        <span class="n">train_accuracy</span> <span class="o">=</span> <span class="n">accuracy</span><span class="o">.</span><span class="n">eval</span><span class="p">(</span><span class="n">feed_dict</span><span class="o">=</span><span class="p">{</span><span class="n">x</span><span class="p">:</span><span class="n">batch</span><span class="p">[</span><span class="mi">0</span><span class="p">],</span> <span class="n">y_</span><span class="p">:</span> <span class="n">batch</span><span class="p">[</span><span class="mi">1</span><span class="p">],</span> <span class="n">keep_prob</span><span class="p">:</span> <span class="mf">1.0</span><span class="p">})</span>
        <span class="nb">print</span><span class="p">(</span><span class="s2">&quot;step </span><span class="si">%d</span><span class="s2">, training accuracy </span><span class="si">%g</span><span class="s2">&quot;</span><span class="o">%</span><span class="p">(</span><span class="n">i</span><span class="p">,</span> <span class="nb">float</span><span class="p">(</span><span class="n">train_accuracy</span><span class="p">)))</span>
    <span class="n">train_step</span><span class="o">.</span><span class="n">run</span><span class="p">(</span><span class="n">feed_dict</span><span class="o">=</span><span class="p">{</span><span class="n">x</span><span class="p">:</span> <span class="n">batch</span><span class="p">[</span><span class="mi">0</span><span class="p">],</span> <span class="n">y_</span><span class="p">:</span> <span class="n">batch</span><span class="p">[</span><span class="mi">1</span><span class="p">],</span> <span class="n">keep_prob</span><span class="p">:</span> <span class="mf">0.5</span><span class="p">})</span>
</pre></div>

    </div>
</div>
</div>

<div class="output_wrapper">
<div class="output">


<div class="output_area">

    <div class="prompt"></div>


<div class="output_subarea output_stream output_stdout output_text">
<pre>step 0, training accuracy 0.1
step 100, training accuracy 0.86
step 200, training accuracy 0.96
step 300, training accuracy 0.92
step 400, training accuracy 0.88
step 500, training accuracy 0.94
step 600, training accuracy 0.98
step 800, training accuracy 0.96
step 900, training accuracy 0.98
step 1000, training accuracy 1
</pre>
</div>
</div>

</div>
</div>

</div>
<div class="cell border-box-sizing text_cell rendered"><div class="prompt input_prompt">
</div><div class="inner_cell">
<div class="text_cell_render border-box-sizing rendered_html">
<p><div class="alert alert-success alertsuccess" style="margin-top: 20px">
<font size = 3><strong><i>You can run this cell if you REALLY have time to wait, or you are running it using PowerAI (<b>change the type of the cell to code</b>)</i></strong></font></p>

</div>
</div>
</div>for i in range(20000):
    batch = mnist.train.next_batch(50)
    if i%100 == 0:
        train_accuracy = accuracy.eval(feed_dict={
            x:batch[0], y_: batch[1], keep_prob: 1.0})
        print("step %d, training accuracy %g"%(i, train_accuracy))
    train_step.run(feed_dict={x: batch[0], y_: batch[1], keep_prob: 0.5})
<div class="cell border-box-sizing text_cell rendered"><div class="prompt input_prompt">
</div><div class="inner_cell">
<div class="text_cell_render border-box-sizing rendered_html">
<p><i>PS. If you have problems running this notebook, please shutdown all your Jupyter runnning notebooks, clear all cells outputs and run each cell only after the completion of the previous cell.</i></p>

</div>
</div>
</div>
<div class="cell border-box-sizing text_cell rendered"><div class="prompt input_prompt">
</div><div class="inner_cell">
<div class="text_cell_render border-box-sizing rendered_html">
<hr>
</div>
</div>
</div>
<div class="cell border-box-sizing text_cell rendered"><div class="prompt input_prompt">
</div><div class="inner_cell">
<div class="text_cell_render border-box-sizing rendered_html">
<p><a id="ref9"></a></p>
<h2>Evaluate the model</h2>
</div>
</div>
</div>
<div class="cell border-box-sizing text_cell rendered"><div class="prompt input_prompt">
</div><div class="inner_cell">
<div class="text_cell_render border-box-sizing rendered_html">
<p>Print the evaluation to the user</p>

</div>
</div>
</div>
<div class="cell border-box-sizing code_cell rendered">
<div class="input">
<div class="prompt input_prompt">In&nbsp;[41]:</div>
<div class="inner_cell">
    <div class="input_area">
<div class=" highlight hl-ipython3"><pre><span></span><span class="c1"># evaluate in batches to avoid out-of-memory issues</span>
<span class="n">n_batches</span> <span class="o">=</span> <span class="n">mnist</span><span class="o">.</span><span class="n">test</span><span class="o">.</span><span class="n">images</span><span class="o">.</span><span class="n">shape</span><span class="p">[</span><span class="mi">0</span><span class="p">]</span> <span class="o">//</span> <span class="mi">50</span>
<span class="n">cumulative_accuracy</span> <span class="o">=</span> <span class="mf">0.0</span>
<span class="k">for</span> <span class="n">index</span> <span class="ow">in</span> <span class="nb">range</span><span class="p">(</span><span class="n">n_batches</span><span class="p">):</span>
    <span class="n">batch</span> <span class="o">=</span> <span class="n">mnist</span><span class="o">.</span><span class="n">test</span><span class="o">.</span><span class="n">next_batch</span><span class="p">(</span><span class="mi">50</span><span class="p">)</span>
    <span class="n">cumulative_accuracy</span> <span class="o">+=</span> <span class="n">accuracy</span><span class="o">.</span><span class="n">eval</span><span class="p">(</span><span class="n">feed_dict</span><span class="o">=</span><span class="p">{</span><span class="n">x</span><span class="p">:</span> <span class="n">batch</span><span class="p">[</span><span class="mi">0</span><span class="p">],</span> <span class="n">y_</span><span class="p">:</span> <span class="n">batch</span><span class="p">[</span><span class="mi">1</span><span class="p">],</span> <span class="n">keep_prob</span><span class="p">:</span> <span class="mf">1.0</span><span class="p">})</span>
<span class="nb">print</span><span class="p">(</span><span class="s2">&quot;test accuracy </span><span class="si">{}</span><span class="s2">&quot;</span><span class="o">.</span><span class="n">format</span><span class="p">(</span><span class="n">cumulative_accuracy</span> <span class="o">/</span> <span class="n">n_batches</span><span class="p">))</span>
</pre></div>

    </div>
</div>
</div>

<div class="output_wrapper">
<div class="output">


<div class="output_area">

    <div class="prompt"></div>


<div class="output_subarea output_stream output_stdout output_text">
<pre>test accuracy 0.9651999992132186
</pre>
</div>
</div>

</div>
</div>

</div>
<div class="cell border-box-sizing text_cell rendered"><div class="prompt input_prompt">
</div><div class="inner_cell">
<div class="text_cell_render border-box-sizing rendered_html">
<h3>Visualization</h3>
</div>
</div>
</div>
<div class="cell border-box-sizing text_cell rendered"><div class="prompt input_prompt">
</div><div class="inner_cell">
<div class="text_cell_render border-box-sizing rendered_html">
<p>Do you want to look at all the filters?</p>

</div>
</div>
</div>
<div class="cell border-box-sizing code_cell rendered">
<div class="input">
<div class="prompt input_prompt">In&nbsp;[42]:</div>
<div class="inner_cell">
    <div class="input_area">
<div class=" highlight hl-ipython3"><pre><span></span><span class="n">kernels</span> <span class="o">=</span> <span class="n">sess</span><span class="o">.</span><span class="n">run</span><span class="p">(</span><span class="n">tf</span><span class="o">.</span><span class="n">reshape</span><span class="p">(</span><span class="n">tf</span><span class="o">.</span><span class="n">transpose</span><span class="p">(</span><span class="n">W_conv1</span><span class="p">,</span> <span class="n">perm</span><span class="o">=</span><span class="p">[</span><span class="mi">2</span><span class="p">,</span> <span class="mi">3</span><span class="p">,</span> <span class="mi">0</span><span class="p">,</span><span class="mi">1</span><span class="p">]),[</span><span class="mi">32</span><span class="p">,</span> <span class="o">-</span><span class="mi">1</span><span class="p">]))</span>
</pre></div>

    </div>
</div>
</div>

</div>
<div class="cell border-box-sizing code_cell rendered">
<div class="input">
<div class="prompt input_prompt">In&nbsp;[43]:</div>
<div class="inner_cell">
    <div class="input_area">
<div class=" highlight hl-ipython3"><pre><span></span><span class="o">!</span>wget --output-document utils1.py http://deeplearning.net/tutorial/code/utils.py
<span class="kn">import</span> <span class="nn">utils1</span>
<span class="kn">from</span> <span class="nn">utils1</span> <span class="kn">import</span> <span class="n">tile_raster_images</span>
<span class="kn">import</span> <span class="nn">matplotlib.pyplot</span> <span class="k">as</span> <span class="nn">plt</span>
<span class="kn">from</span> <span class="nn">PIL</span> <span class="kn">import</span> <span class="n">Image</span>
<span class="o">%</span><span class="k">matplotlib</span> inline
<span class="n">image</span> <span class="o">=</span> <span class="n">Image</span><span class="o">.</span><span class="n">fromarray</span><span class="p">(</span><span class="n">tile_raster_images</span><span class="p">(</span><span class="n">kernels</span><span class="p">,</span> <span class="n">img_shape</span><span class="o">=</span><span class="p">(</span><span class="mi">5</span><span class="p">,</span> <span class="mi">5</span><span class="p">)</span> <span class="p">,</span><span class="n">tile_shape</span><span class="o">=</span><span class="p">(</span><span class="mi">4</span><span class="p">,</span> <span class="mi">8</span><span class="p">),</span> <span class="n">tile_spacing</span><span class="o">=</span><span class="p">(</span><span class="mi">1</span><span class="p">,</span> <span class="mi">1</span><span class="p">)))</span>
<span class="c1">### Plot image</span>
<span class="n">plt</span><span class="o">.</span><span class="n">rcParams</span><span class="p">[</span><span class="s1">&#39;figure.figsize&#39;</span><span class="p">]</span> <span class="o">=</span> <span class="p">(</span><span class="mf">18.0</span><span class="p">,</span> <span class="mf">18.0</span><span class="p">)</span>
<span class="n">imgplot</span> <span class="o">=</span> <span class="n">plt</span><span class="o">.</span><span class="n">imshow</span><span class="p">(</span><span class="n">image</span><span class="p">)</span>
<span class="n">imgplot</span><span class="o">.</span><span class="n">set_cmap</span><span class="p">(</span><span class="s1">&#39;gray&#39;</span><span class="p">)</span>  
</pre></div>

    </div>
</div>
</div>

<div class="output_wrapper">
<div class="output">


<div class="output_area">

    <div class="prompt"></div>


<div class="output_subarea output_stream output_stdout output_text">
<pre>--2020-08-11 02:43:40--  http://deeplearning.net/tutorial/code/utils.py
Resolving deeplearning.net (deeplearning.net)... 132.204.26.28
Connecting to deeplearning.net (deeplearning.net)|132.204.26.28|:80... connected.
HTTP request sent, awaiting response... 200 OK
Length: 5097 (5.0K) [text/plain]
Saving to: ‘utils1.py’

utils1.py           100%[===================&gt;]   4.98K  --.-KB/s    in 0s      

2020-08-11 02:43:40 (335 MB/s) - ‘utils1.py’ saved [5097/5097]

</pre>
</div>
</div>

<div class="output_area">

    <div class="prompt"></div>




<div class="output_png output_subarea ">
<img src="data:image/png;base64,iVBORw0KGgoAAAANSUhEUgAABA4AAAIKCAYAAACjnw1sAAAAOXRFWHRTb2Z0d2FyZQBNYXRwbG90bGliIHZlcnNpb24zLjMuMCwgaHR0cHM6Ly9tYXRwbG90bGliLm9yZy86wFpkAAAACXBIWXMAAAsTAAALEwEAmpwYAAArGUlEQVR4nO3debTddX3v/9dHQpFKJQEJIGBBRRRcUZRJUZFLQRnFgeJAjK2KYpuCgoilCIoFnIhaqYtBpqAMtoIyaYGiokguEaOgBBGwMo9qCTLK9/5Bsi6//vgUmry/SeA+Hmtl5Zy9T577Cznfs895ZZ992jAMAQAAAHgsT1vSBwAAAAAsvQwHAAAAQJfhAAAAAOgyHAAAAABdhgMAAACga8LivLFJkyYNa6yxRmnzuuuuK+0tsOKKK5Y377777vLmgw8+WN5Mkvvvv7+8ueqqq5Y3k+RP//RPy5tjvF9tuOGG5c0kufXWW8ubN910U3kzSVZfffXy5hjvq5MnTy5vJsk111xT3hzrY8AYnvnMZ5Y3xzj/k+RpT6vf1cc4r5ZffvnyZpLce++95c2Xv/zl5c3rr7++vJkkyy23XHnzlltuKW8myVprrVXevPbaa8ub1Z//LTDGObDsssuWN5PkqquuKm+us8465c0x7quS5GUve9ko3WqttVG6P/nJT8qbK6+8cnkzSW6//fby5pprrlnevOOOO8qbSTJp0qTy5hj3K2O44447cvfddz/mSdAW549jfPGLXzycdtpppc13vvOdpb0Ftt122/Lmd7/73fLmzTffXN5MxrnT+PCHP1zeTMb5gvztb397efMPf/hDeTNJPvOZz5Q3DzzwwPLmWN1f/vKX5c0PfvCD5c0kecMb3lDeHOtjwBi22Wab8uYYX4wm4wwSBxxwQHnzJS95SXkzSX7605+WNx9++OHy5ljn6nOf+9zy5qc+9anyZpLMmDGjvLnrrruWNw877LDyZpJMmTKlvDnWP3RsscUW5c2vfvWr5c0x7quS5IEHHihvjvFxZawv8MYYz3fbbbfyZpJ8+ctfLm+O8bHqyCOPLG8m43wMHGPkG8NBBx2U66677jGHA9+qAAAAAHQZDgAAAIAuwwEAAADQZTgAAAAAugwHAAAAQJfhAAAAAOhapOGgtfb61tpVrbVftdb2qzooAAAAYOmw0MNBa22ZJEck2TbJ+kne1lpbv+rAAAAAgCVvUR5xsEmSXw3DcO0wDA8kOSXJG2oOCwAAAFgaLMpwsEaS6x/1+g3zL/v/aK3t3lqb3Vqbfddddy3CzQEAAACL26IMB+0xLhv+fxcMw1HDMGw0DMNGK6200iLcHAAAALC4LcpwcEOStR71+ppJblq0wwEAAACWJosyHFyaZN3W2jqttT9J8tYk36o5LAAAAGBpMGFh/+AwDA+11v42yXeSLJPk2GEYfl52ZAAAAMASt9DDQZIMw3BOknOKjgUAAABYyizKtyoAAAAAT3GGAwAAAKDLcAAAAAB0GQ4AAACArkV6csT/qd///vc555za51K89NJLS3sL/OhHPypvzpo1q7x51FFHlTeTZKuttipv7r333uXNJNlpp53KmwcddFB584ADDihvJsnqq68+SncMV111VXlzypQp5c0bbrihvJkka6yxRnnzmGOOKW9uv/325c1knP/+K664oryZJJ/61KfKm3Pnzi1v/u3f/m15M0le8YpXlDc/8IEPlDcffPDB8mYyzucARx55ZHkzSebMmTNKt9pHPvKRUbrnn39+efMXv/hFeTNJzjzzzPLm9ddfX94cyxe+8IXy5rXXXlve/OlPf1reTJLll1++vDlz5szy5ljuu+++8uYYn1ckyQMPPFDefMELXlDeTOrvB5dbbrnudR5xAAAAAHQZDgAAAIAuwwEAAADQZTgAAAAAugwHAAAAQJfhAAAAAOgyHAAAAABdhgMAAACgy3AAAAAAdBkOAAAAgC7DAQAAANBlOAAAAAC6DAcAAABAl+EAAAAA6DIcAAAAAF2GAwAAAKDLcAAAAAB0GQ4AAACALsMBAAAA0GU4AAAAALoMBwAAAEDXhMV5Y621LLfccqXNI488srS3wLnnnlve/MUvflHePO2008qbY1lmmWVG6R544IHlzdVWW628OWPGjPJmknzgAx8ob+6zzz7lzSR57WtfW9485phjypu33HJLeTNJHnjggfLmT3/60/LmWF74wheWN4877rjyZpJcfPHF5c0//OEP5c1Pf/rT5c2xrL/++uXNv/u7vytvJsnaa69d3txqq63Km8k471djuOiii0bpTpo0qbz5yU9+sryZjPPxaq+99ipvjmWM+6tp06aVNw866KDyZpKsuuqq5c1Zs2aVN5Nk0003LW+ecsop5c0xjjNJDjnkkPLmvvvuW95MkvXWW6+0d99993Wv84gDAAAAoMtwAAAAAHQZDgAAAIAuwwEAAADQZTgAAAAAugwHAAAAQJfhAAAAAOgyHAAAAABdhgMAAACgy3AAAAAAdBkOAAAAgC7DAQAAANBlOAAAAAC6DAcAAABAl+EAAAAA6DIcAAAAAF2GAwAAAKDLcAAAAAB0GQ4AAACALsMBAAAA0DVhcd7Ycsstl3XWWae0ecABB5T2Frj77rvLm097Wv1Os/3225c3k+TII48sb5522mnlzSR53eteV97cbbfdypsvf/nLy5tJ8rWvfW2U7hg+/OEPlzePOeaY8uZ//ud/ljeT5MEHHyxvXn755eXNsbzpTW8qb86dO7e8mYzzPnDIIYeUN0855ZTyZpKcfvrp5c0NN9ywvLn77ruXN5Nk0003LW/eeOON5c0kOfnkk0fpVps+ffoo3Y9+9KPlzbHuV48++ujy5vnnn1/eXGWVVcqbSbLRRhuVN1/zmteUN88444zyZjLOx4DJkyeXN8dy0kknlTenTp1a3kyS1lp5c9dddy1vJslf//Vfl/ZWWGGF7nUecQAAAAB0GQ4AAACALsMBAAAA0GU4AAAAALoMBwAAAECX4QAAAADoMhwAAAAAXYYDAAAAoMtwAAAAAHQZDgAAAIAuwwEAAADQZTgAAAAAugwHAAAAQJfhAAAAAOgyHAAAAABdhgMAAACgy3AAAAAAdBkOAAAAgC7DAQAAANBlOAAAAAC6DAcAAABA14TFeWP3339/rr322tLmnDlzSnsLbL311uXN17zmNeXN973vfeXNsdx+++2jdK+77rry5ne/+93y5l/8xV+UN5PkS1/6UnnzgAMOKG8myQYbbFDe3GWXXcqbz33uc8ubSbLNNtuUN1dbbbXy5lguuuii8uY666xT3kyS17/+9eXN2bNnlzcPOuig8maSfPzjHy9v3nTTTeXNMc7/JLn00kvLm7/4xS/Km0nyohe9qLz561//urx5+OGHlzeT5O1vf3t589Zbby1vJsnee+9d3vzXf/3X8uZYxri/Ouecc8qbt912W3kzSbbbbrvy5rrrrlveHMvkyZPLmzvuuGN5Mxnna7YxPgdIkkMPPbS0d8stt3Sv84gDAAAAoMtwAAAAAHQZDgAAAIAuwwEAAADQZTgAAAAAugwHAAAAQJfhAAAAAOgyHAAAAABdhgMAAACgy3AAAAAAdBkOAAAAgC7DAQAAANBlOAAAAAC6DAcAAABAl+EAAAAA6DIcAAAAAF2GAwAAAKDLcAAAAAB0GQ4AAACALsMBAAAA0NWGYVh8N9ba4rsxAAAA4AkbhqE91uUecQAAAAB0GQ4AAACALsMBAAAA0GU4AAAAALoMBwAAAECX4QAAAADoMhwAAAAAXRMW5Q+31n6d5O4kf0zy0DAMG1UcFAAAALB0WKThYL4th2G4o6ADAAAALGV8qwIAAADQtajDwZDk31prP26t7f5Yb9Ba2721Nru1NnsRbwsAAABYzNowDAv/h1t79jAMN7XWJic5L8n0YRi+/9+8/cLfGAAAADCaYRjaY12+SI84GIbhpvm/35bk9CSbLEoPAAAAWLos9HDQWntGa+3PFrycZJskV1QdGAAAALDkLcpPVVg1yemttQWdrw3D8O2SowIAAACWCov0HAf/4xvzHAcAAACwVBrlOQ4AAACApzbDAQAAANBlOAAAAAC6DAcAAABA16L8VIX/sZVWWinbbbddafN1r3tdaW+Bd7zjHeXNO++8s7y59957lzeT5MQTTyxvHnrooeXNJHn6059e3lx11VXLm5MnTy5vJskJJ5xQ3pw5c2Z5M0mOOOKI8uZGG21U3jzzzDPLm0lyzz33lDfnzZtX3jz66KPLm8k45+rmm29e3kySFVZYobz5ile8orw5ceLE8maSvP/97y9vrrbaauXNz33uc+XNJJkzZ0558zOf+Ux5M0keeuih8uaECfWfHu65557lzSTZb7/9yptvfetby5tJMv8nkZV685vfXN6cPn16eTMZ5771hz/8YXnz4YcfLm8myVprrVXePP/888ubSfLNb36zvLn//vuXN8fysY99rLw51tds6667bmnvs5/9bPc6jzgAAAAAugwHAAAAQJfhAAAAAOgyHAAAAABdhgMAAACgy3AAAAAAdBkOAAAAgC7DAQAAANBlOAAAAAC6DAcAAABAl+EAAAAA6DIcAAAAAF2GAwAAAKDLcAAAAAB0GQ4AAACALsMBAAAA0GU4AAAAALoMBwAAAECX4QAAAADoMhwAAAAAXYYDAAAAoGvC4ryxlVdeOVOnTi1tDsNQ2lvg7LPPLm9OnDixvLnrrruWN5PkxBNPLG+eeuqp5c0kWWaZZcqbs2fPLm9uvPHG5c0k+eQnP1nenDlzZnkzSTbbbLPy5i233FLeHOu//5WvfGV5c8KExfphfJG8//3vL2+++c1vLm8myWmnnVbefNGLXlTe3HHHHcubyTh/VwcffHB58+KLLy5vJsm0adPKmzvssEN5M0ne+973jtKtNsbH/yT5wAc+UN688cYby5tJssUWW5Q3P/GJT5Q3n0zOOuus8ubPfvaz8maSPO1p9f9e+7znPa+8OZYx3lcvvPDC8maSnHDCCeXNe+65p7yZJH/2Z39W2vvv3k894gAAAADoMhwAAAAAXYYDAAAAoMtwAAAAAHQZDgAAAIAuwwEAAADQZTgAAAAAugwHAAAAQJfhAAAAAOgyHAAAAABdhgMAAACgy3AAAAAAdBkOAAAAgC7DAQAAANBlOAAAAAC6DAcAAABAl+EAAAAA6DIcAAAAAF2GAwAAAKDLcAAAAAB0TVjcN/jwww+X9l75yleW9hb493//9/LmP/3TP5U3TzvttPLmWHbeeedRuptttll5c8aMGeXNefPmlTeT5KSTThqlO4bTTz+9vHnHHXeUNzfccMPyZpL84Ac/KG9+8YtfLG/OnDmzvJkkz33uc8ubEyaMczd23nnnlTc/9KEPlTf/+Mc/ljfHssIKK5Q3p0+fXt5Mkt///vflzb333ru8mST/+I//WN487rjjypuzZ88ubybj3K8cfPDB5c0k+chHPlLefO1rX1venDp1ankzSY499tjy5kte8pLy5tlnn13eTJIVV1yxvPmOd7yjvJkkn/jEJ8qbBx10UHlzn332KW8m4/xdvfe97y1vJsmZZ55Z2lt22WW713nEAQAAANBlOAAAAAC6DAcAAABAl+EAAAAA6DIcAAAAAF2GAwAAAKDLcAAAAAB0GQ4AAACALsMBAAAA0GU4AAAAALoMBwAAAECX4QAAAADoMhwAAAAAXYYDAAAAoMtwAAAAAHQZDgAAAIAuwwEAAADQZTgAAAAAugwHAAAAQJfhAAAAAOiasDhvbBiGPPTQQ6XNrbbaqrS3wHXXXVfe3GGHHcqbe+65Z3kzSb7whS+UN+++++7yZpKccMIJ5c1rr722vLnllluWN5NklVVWGaU7hkMPPbS8+cc//rG8efLJJ5c3k2SDDTYob37ta18rb47lxBNPLG8++OCD5c0k2Weffcqb66yzTnlzxx13LG+O5ayzzipvHnHEEeXNJFl11VXLm2Oc/0my9dZbj9Kttt12243S/fu///vy5sorr1zeTJJdd921vLnLLruUN6dOnVreTJKNN964vLnGGmuUN8c6p9Zaa63y5qWXXlreHMsYf/+HHXZYeTNJdt555/LmueeeW95MklmzZpX25s2b173OIw4AAACALsMBAAAA0GU4AAAAALoMBwAAAECX4QAAAADoMhwAAAAAXYYDAAAAoMtwAAAAAHQZDgAAAIAuwwEAAADQZTgAAAAAugwHAAAAQJfhAAAAAOgyHAAAAABdhgMAAACgy3AAAAAAdBkOAAAAgC7DAQAAANBlOAAAAAC6DAcAAABAl+EAAAAA6JqwOG/szjvvzMyZM0ub//Ef/1HaW+DP//zPy5vrr79+efOcc84pb47lrW996yjdOXPmlDdPPvnk8ua8efPKm0ly8cUXlzc/8YlPlDeT5MEHHyxvbrnlluXNFVdcsbyZJG984xtH6Vb7+te/Pkr3ne98Z3lz8uTJ5c0k+d73vlfe3Gmnncqb2223XXkzSc4888zy5oknnlje3GeffcqbyTjnwJe//OXyZpIcdthho3SrPf/5zx+l+w//8A/lzV/+8pflzWSc/wf33ntveXMsd999d3nziCOOKG8++9nPLm8myQMPPFDe3GGHHcqbSXLuueeWN5dffvny5ty5c8ubSbLpppuWN3fbbbfyZpK8613vKu39d/d/HnEAAAAAdBkOAAAAgC7DAQAAANBlOAAAAAC6DAcAAABAl+EAAAAA6DIcAAAAAF2POxy01o5trd3WWrviUZet1Fo7r7V29fzfJ417mAAAAMCS8EQecXB8ktf/l8v2S3LBMAzrJrlg/usAAADAU8zjDgfDMHw/yV3/5eI3JDlh/ssnJNm59rAAAACApcHCPsfBqsMw3Jwk83+f3HvD1trurbXZrbXZ999//0LeHAAAALAkjP7kiMMwHDUMw0bDMGy03HLLjX1zAAAAQKGFHQ5uba2tniTzf7+t7pAAAACApcXCDgffSjJt/svTknyz5nAAAACApckT+XGMJyf5UZL1Wms3tNbeneSwJFu31q5OsvX81wEAAICnmAmP9wbDMLytc9VWxccCAAAALGVGf3JEAAAA4MnLcAAAAAB0GQ4AAACALsMBAAAA0NWGYVh8N9ba4rsxAAAA4AkbhqE91uUecQAAAAB0GQ4AAACALsMBAAAA0GU4AAAAALoMBwAAAECX4QAAAADoMhwAAAAAXYYDAAAAoMtwAAAAAHQZDgAAAIAuwwEAAADQZTgAAAAAugwHAAAAQJfhAAAAAOgyHAAAAABdhgMAAACgy3AAAAAAdBkOAAAAgC7DAQAAANBlOAAAAAC6DAcAAABA14TFeWNrrrlmPvjBD5Y2f/vb35b2FrjkkkvKm9tvv315c/LkyeXNJHnHO95R3rzqqqvKm0ny6U9/urz54he/uLz561//uryZJC972cvKm9OmTStvJslHP/rR8uYY/18vu+yy8maSTJo0qby54447ljf333//8maSfPvb3y5v3nPPPeXNJDnppJPKm5tuuml58xnPeEZ5M0mmT59e3nzb295W3nz44YfLm0ly6qmnljdnzZpV3kySXXbZpbz5m9/8pry52267lTeTZNllly1vjvUxcObMmeXNFVdcsbz5oQ99qLyZJOecc05586tf/Wp5c4yvAZLkmmuuKW8Ow1DeTJLWWnnzsMMOK2+eccYZ5c0kedrT6v9tfe+99y5vJslxxx1X2rvooou613nEAQAAANBlOAAAAAC6DAcAAABAl+EAAAAA6DIcAAAAAF2GAwAAAKDLcAAAAAB0GQ4AAACALsMBAAAA0GU4AAAAALoMBwAAAECX4QAAAADoMhwAAAAAXYYDAAAAoMtwAAAAAHQZDgAAAIAuwwEAAADQZTgAAAAAugwHAAAAQJfhAAAAAOiasDhv7K677srJJ59c2pw+fXppb4Gf/exn5c3vfe975c099tijvDmWZz/72aN0v/KVr5Q3Dz/88PLmddddV95MkrXXXnuU7hguueSS8uYyyyxT3pw7d255M0k22GCD8uaGG25Y3hzLd77znfLmFltsUd5Mkuc85znlzauvvrq8+Yc//KG8OZatt966vHnqqaeWN5Nkv/32K2/edttt5c0k2Wqrrcqbxx13XHlz5syZ5c0kaa2N0h3Dj3/84/Lm05/+9PLmWM4+++zy5oknnlje3GuvvcqbSTJv3rzy5r777lveHMsDDzxQ3tx5553Lm0kyadKk8uZY99dnnXXWKN3H4hEHAAAAQJfhAAAAAOgyHAAAAABdhgMAAACgy3AAAAAAdBkOAAAAgC7DAQAAANBlOAAAAAC6DAcAAABAl+EAAAAA6DIcAAAAAF2GAwAAAKDLcAAAAAB0GQ4AAACALsMBAAAA0GU4AAAAALoMBwAAAECX4QAAAADoMhwAAAAAXYYDAAAAoKsNw7D4bqy18hs7/vjjq5NJkt133728ufnmm5c3f/vb35Y3k2TOnDnlzVmzZpU3k2TjjTcub37hC18ob06ZMqW8mST7779/efOSSy4pbybJKaecUt687LLLypv33ntveTMZ53w977zzypu33npreTNJPv3pT5c3L7744vJmkrzsZS8rb37sYx8rby6//PLlzWScc2CMzzd+/OMflzeT5NJLLy1vHnHEEeXNJPnBD35Q3pw4cWJ5893vfnd5M0k++tGPljd33nnn8maS7LHHHuXNV7/61eXNsT5fGeP+6phjjilvXnPNNeXNZJy/q69//evlzSS54YYbyptnnnlmefPnP/95eTMZ5/PVGTNmlDeT5J//+Z9Le+eff37uuuuu9ljXecQBAAAA0GU4AAAAALoMBwAAAECX4QAAAADoMhwAAAAAXYYDAAAAoMtwAAAAAHQZDgAAAIAuwwEAAADQZTgAAAAAugwHAAAAQJfhAAAAAOgyHAAAAABdhgMAAACgy3AAAAAAdBkOAAAAgC7DAQAAANBlOAAAAAC6DAcAAABAl+EAAAAA6DIcAAAAAF0TFueNPfvZz84ee+xR2vze975X2lvggAMOKG++4hWvKG9+/etfL28myZw5c8qbV1xxRXkzST772c+WN88///zy5vvf//7yZpKccsop5c211167vJkks2bNKm/OmDGjvDl37tzyZpIccsgh5c2bbrqpvLnMMsuUN5Pk5S9/eXlzn332KW8myWabbTZKt9p66603SneM+4ALLrigvHnnnXeWN5NkhRVWKG/uuuuu5c0kue+++0bpVhvj/2mSTJkypbx5zjnnlDeT5PDDDy9vfvzjHy9vjmW33XYrb6655prlzb/8y78sbybJz372s/LmjTfeWN4cywknnFDevP3228ubSbLFFluUN6dPn17eTJLnP//5pb1hGLrXecQBAAAA0GU4AAAAALoMBwAAAECX4QAAAADoMhwAAAAAXYYDAAAAoOtxh4PW2rGttdtaa1c86rKDWms3ttbmzP+13biHCQAAACwJT+QRB8cnef1jXD5jGIaXzv81zg+8BQAAAJaoxx0OhmH4fpK7FsOxAAAAAEuZRXmOg79trf1s/rcyTCo7IgAAAGCpsbDDwZeTPC/JS5PcnORzvTdsre3eWpvdWpt9zz33LOTNAQAAAEvCQg0HwzDcOgzDH4dheDjJ0Uk2+W/e9qhhGDYahmGjZzzjGQt7nAAAAMASsFDDQWtt9Ue9+sYkV/TeFgAAAHjymvB4b9BaOznJa5M8q7V2Q5IDk7y2tfbSJEOSXyd533iHCAAAACwpjzscDMPwtse4+CsjHAsAAACwlFmUn6oAAAAAPMUZDgAAAIAuwwEAAADQZTgAAAAAugwHAAAAQNfj/lSFSquvvnr233//0ua//du/lfYWOPXUU8ubL3zhC8ub3/jGN8qbY9l2221H6X7rW98qb37xi18sb26yySblzSTZb7/9RumO4fLLLy9vnnHGGeXNz3/+8+XNJJk5c2Z5c+ONNy5vjuXAAw8sb955553lzSTZZZddypsHHXRQefMtb3lLeXMst956a3lzjI//SfKmN72pvPnQQw+VN5PknnvuGaVbbfr06aN011tvvfLmWB9Xxri/njdvXnlzm222KW8myaRJk8qbY3wMHOvv/1e/+lV5c6eddipvJsk3v/nN8ubUqVPLmxtuuGF5M0nWXHPN8ub2229f3kySZz7zmaW9ZZZZpnudRxwAAAAAXYYDAAAAoMtwAAAAAHQZDgAAAIAuwwEAAADQZTgAAAAAugwHAAAAQJfhAAAAAOgyHAAAAABdhgMAAACgy3AAAAAAdBkOAAAAgC7DAQAAANBlOAAAAAC6DAcAAABAl+EAAAAA6DIcAAAAAF2GAwAAAKDLcAAAAAB0GQ4AAACALsMBAAAA0NWGYVh8N9ba4rsxAAAA4AkbhqE91uUecQAAAAB0GQ4AAACALsMBAAAA0GU4AAAAALoMBwAAAECX4QAAAADoMhwAAAAAXYYDAAAAoMtwAAAAAHQZDgAAAIAuwwEAAADQZTgAAAAAugwHAAAAQJfhAAAAAOgyHAAAAABdhgMAAACgy3AAAAAAdBkOAAAAgC7DAQAAANBlOAAAAAC6JizOG5s4cWK23HLL0uZb3vKW0t4CU6ZMKW/+7ne/K2+utNJK5c0k2WCDDcqbc+fOLW+O1b3mmmvKmyussEJ5M0m++93vljdPPvnk8maS3H777eXNVVZZpbx5xBFHlDeTZJNNNilvTp06tbw51rm6/PLLlzcvuOCC8mYyzt/Va17zmvLmxRdfXN4cy4QJ9Z9yTJ8+vbw5lp///OejdF/wgheUN7/0pS+VN/fdd9/yZpIcdthh5c3vfOc75c0ked/73lfe/PCHP1zeHOu8etWrXlXeHON99e1vf3t5M0ne8573lDcfeOCB8maS7LfffuXNv/mbvylvXnjhheXNJHnWs55V3pw4cWJ5M0l+8pOflPZuueWW7nUecQAAAAB0GQ4AAACALsMBAAAA0GU4AAAAALoMBwAAAECX4QAAAADoMhwAAAAAXYYDAAAAoMtwAAAAAHQZDgAAAIAuwwEAAADQZTgAAAAAugwHAAAAQJfhAAAAAOgyHAAAAABdhgMAAACgy3AAAAAAdBkOAAAAgC7DAQAAANBlOAAAAAC6JizOG1t77bVz7LHHljY33XTT0t4Cn/vc58qbU6ZMKW9edtll5c2xHH744aN0N9poo/LmrFmzypu77757eTNJfvSjH43SHcPGG29c3pw7d25589prry1vJsl9991X3jz00EPLm2984xvLm0kyY8aM8uaWW25Z3kySadOmlTcnT55c3nzLW95S3kySf/mXfylvvve97y1vjvE+lSSf//zny5vz5s0rbybJuuuuO0q32nve855RumPcX++6667lzSTZfPPNy5vPe97zyptjeelLX/qkaD788MPlzSS58cYby5snnXRSeXMse+65Z3nz3e9+d3kzSfbaa6/y5nHHHVfeTJLTTz+9tHfwwQd3r/OIAwAAAKDLcAAAAAB0GQ4AAACALsMBAAAA0GU4AAAAALoMBwAAAECX4QAAAADoMhwAAAAAXYYDAAAAoMtwAAAAAHQZDgAAAIAuwwEAAADQZTgAAAAAugwHAAAAQJfhAAAAAOgyHAAAAABdhgMAAACgy3AAAAAAdBkOAAAAgC7DAQAAANBlOAAAAAC6JizOG5szZ04mTZpU2txiiy1KewvcdNNN5c3tt9++vHnVVVeVN8cyefLkUbq77777k6L5nve8p7yZPHJeVTv++OPLm0lyzTXXlDe//e1vlze32mqr8maSPPjgg+XNK6+8srw5lhtvvLG8ufPOO5c3k2TNNdcsbz7jGc8ob45xXzWWV73qVeXND37wg+XNJLnsssvKm5deeml5M0kuv/zyUbrVPvOZz4zSHeP96jnPeU55M0nOPffc8uZ1111X3hzLgQceWN783e9+V948++yzy5vJOJ+z33bbbeXNsay++urlze985zvlzSRZbbXVypuf//zny5tJ/X3Lb3/72+51HnEAAAAAdBkOAAAAgC7DAQAAANBlOAAAAAC6DAcAAABAl+EAAAAA6Hrc4aC1tlZr7cLW2pWttZ+31vacf/lKrbXzWmtXz/+99ucsAgAAAEvcE3nEwUNJ9h6G4UVJNkvyN6219ZPsl+SCYRjWTXLB/NcBAACAp5DHHQ6GYbh5GIbL5r98d5Irk6yR5A1JTpj/Zick2XmkYwQAAACWkAn/kzdura2dZMMks5KsOgzDzckj40JrbXLnz+yeZPdFPE4AAABgCXjCw0FrbYUk/5pkr2EY/rO19oT+3DAMRyU5an5jWJiDBAAAAJaMJ/RTFVpry+aR0eCrwzB8Y/7Ft7bWVp9//epJbhvnEAEAAIAl5Yn8VIWW5CtJrhyG4fBHXfWtJNPmvzwtyTfrDw8AAABYkp7ItypsnmRqkstba3PmX/b3SQ5Lclpr7d1JfpNkl1GOEAAAAFhiHnc4GIbhB0l6T2iwVe3hAAAAAEuTJ/QcBwAAAMD/mwwHAAAAQJfhAAAAAOgyHAAAAABdhgMAAACg64n8OMYyz3nOc7L//vuXNi+55JLS3gIrr7xyeXPKlCnlzTvuuKO8OZa/+qu/GqW7+uqrlzdnz55d3vyTP/mT8maS7LvvvqN0xzDG++vNN99c3rzooovKm0nyjW98o7y5xx57lDfHMm3atPLmxIkTy5tJ8pOf/KS8eeONN5Y3xzr/Tz311PLmhRdeWN78zW9+U95MkkmTJpU311tvvfJmknz/+98fpVvt+uuvH6V70kknlTfHuF9Jkm233ba8efXVV5c3x3L00UeXN8e4D7j99tvLm8k4Xwc8//nPL28myYwZM8qbr371q8ubW2+9dXkzSU477bTy5mabbVbeTJIf/ehHpb2NNtqoe51HHAAAAABdhgMAAACgy3AAAAAAdBkOAAAAgC7DAQAAANBlOAAAAAC6DAcAAABAl+EAAAAA6DIcAAAAAF2GAwAAAKDLcAAAAAB0GQ4AAACALsMBAAAA0GU4AAAAALoMBwAAAECX4QAAAADoMhwAAAAAXYYDAAAAoMtwAAAAAHQZDgAAAIAuwwEAAADQNWFx3tj999+fq6++urR56aWXlvYWWGGFFcqbu+66a3nzJS95SXkzSXbaaafy5jrrrFPeTMb5u7rlllvKm4ccckh5M0nuuuuu8uZRRx1V3kySyZMnlzenTp1a3jzjjDPKm0my6qqrljdnzpxZ3hzL9ttvX94866yzyptJ8slPfrK8eeGFF5Y3t9lmm/LmWI4++ujy5uzZs8ubyTifW7zrXe8qbybJtddeO0q32sEHHzxKd9q0aeXNiRMnljeTce4Dx7i/XmuttcqbSXL99deXN++4447y5pvf/ObyZpIceuih5c299tqrvDmWU089tbx57733ljeT5Pjjjy9v/vCHPyxvJsmmm25a2rvyyiu713nEAQAAANBlOAAAAAC6DAcAAABAl+EAAAAA6DIcAAAAAF2GAwAAAKDLcAAAAAB0GQ4AAACALsMBAAAA0GU4AAAAALoMBwAAAECX4QAAAADoMhwAAAAAXYYDAAAAoMtwAAAAAHQZDgAAAIAuwwEAAADQZTgAAAAAugwHAAAAQJfhAAAAAOhqwzAsvhtr7fYk//EE3/xZSe4Y8XDg/zXOKajnvIJ6ziuo5ZziifrzYRhWeawrFutw8D/RWps9DMNGS/o44KnCOQX1nFdQz3kFtZxTVPCtCgAAAECX4QAAAADoWpqHg6OW9AHAU4xzCuo5r6Ce8wpqOadYZEvtcxwAAAAAS97S/IgDAAAAYAkzHAAAAABdS91w0Fp7fWvtqtbar1pr+y3p44Eno9basa2121prVzzqspVaa+e11q6e//ukJXmM8GTSWlurtXZha+3K1trPW2t7zr/ceQULqbX29Nba/26t/XT+efXx+Zc7r2ARtdaWaa39pLV21vzXnVcskqVqOGitLZPkiCTbJlk/ydtaa+sv2aOCJ6Xjk7z+v1y2X5ILhmFYN8kF818HnpiHkuw9DMOLkmyW5G/m3z85r2Dh3Z/kfw3D8JIkL03y+tbaZnFeQYU9k1z5qNedVyySpWo4SLJJkl8Nw3DtMAwPJDklyRuW8DHBk84wDN9Pctd/ufgNSU6Y//IJSXZenMcET2bDMNw8DMNl81++O498MrZGnFew0IZHzJv/6rLzfw1xXsEiaa2tmWT7JMc86mLnFYtkaRsO1khy/aNev2H+ZcCiW3UYhpuTR74ISjJ5CR8PPCm11tZOsmGSWXFewSKZ/3DqOUluS3LeMAzOK1h0n0+yb5KHH3WZ84pFsrQNB+0xLvPzIgFYKrTWVkjyr0n2GobhP5f08cCT3TAMfxyG4aVJ1kyySWvtxUv4kOBJrbW2Q5LbhmH48ZI+Fp5alrbh4IYkaz3q9TWT3LSEjgWeam5tra2eJPN/v20JHw88qbTWls0jo8FXh2H4xvyLnVdQYBiG3yX5bh55fh7nFSy8zZPs1Fr7dR75tu//1Vo7Kc4rFtHSNhxcmmTd1to6rbU/SfLWJN9awscETxXfSjJt/svTknxzCR4LPKm01lqSryS5chiGwx91lfMKFlJrbZXW2sT5Ly+f5C+SzI3zChbaMAwfHYZhzWEY1s4jX0v9+zAMu8V5xSJqw7B0fSdAa227PPJ9OcskOXYYhn9cskcETz6ttZOTvDbJs5LcmuTAJGckOS3Jc5L8JskuwzD81ydQBB5Da+1VSS5Kcnn+7/eM/n0eeZ4D5xUshNbalDzyJG3L5JF/zDptGIZPtNZWjvMKFllr7bVJ9hmGYQfnFYtqqRsOAAAAgKXH0vatCgAAAMBSxHAAAAAAdBkOAAAAgC7DAQAAANBlOAAAAAC6DAcAAABAl+EAAAAA6Po/LRIppC8LreYAAAAASUVORK5CYII=
"
>
</div>

</div>

</div>
</div>

</div>
<div class="cell border-box-sizing text_cell rendered"><div class="prompt input_prompt">
</div><div class="inner_cell">
<div class="text_cell_render border-box-sizing rendered_html">
<p>Do you want to see the output of an image passing through first convolution layer?</p>

</div>
</div>
</div>
<div class="cell border-box-sizing code_cell rendered">
<div class="input">
<div class="prompt input_prompt">In&nbsp;[44]:</div>
<div class="inner_cell">
    <div class="input_area">
<div class=" highlight hl-ipython3"><pre><span></span><span class="kn">import</span> <span class="nn">numpy</span> <span class="k">as</span> <span class="nn">np</span>
<span class="n">plt</span><span class="o">.</span><span class="n">rcParams</span><span class="p">[</span><span class="s1">&#39;figure.figsize&#39;</span><span class="p">]</span> <span class="o">=</span> <span class="p">(</span><span class="mf">5.0</span><span class="p">,</span> <span class="mf">5.0</span><span class="p">)</span>
<span class="n">sampleimage</span> <span class="o">=</span> <span class="n">mnist</span><span class="o">.</span><span class="n">test</span><span class="o">.</span><span class="n">images</span><span class="p">[</span><span class="mi">1</span><span class="p">]</span>
<span class="n">plt</span><span class="o">.</span><span class="n">imshow</span><span class="p">(</span><span class="n">np</span><span class="o">.</span><span class="n">reshape</span><span class="p">(</span><span class="n">sampleimage</span><span class="p">,[</span><span class="mi">28</span><span class="p">,</span><span class="mi">28</span><span class="p">]),</span> <span class="n">cmap</span><span class="o">=</span><span class="s2">&quot;gray&quot;</span><span class="p">)</span>
</pre></div>

    </div>
</div>
</div>

<div class="output_wrapper">
<div class="output">


<div class="output_area">

    <div class="prompt output_prompt">Out[44]:</div>




<div class="output_text output_subarea output_execute_result">
<pre>&lt;matplotlib.image.AxesImage at 0x7f50a4586a20&gt;</pre>
</div>

</div>

<div class="output_area">

    <div class="prompt"></div>




<div class="output_png output_subarea ">
<img src="data:image/png;base64,iVBORw0KGgoAAAANSUhEUgAAATEAAAEvCAYAAAAtufaDAAAAOXRFWHRTb2Z0d2FyZQBNYXRwbG90bGliIHZlcnNpb24zLjMuMCwgaHR0cHM6Ly9tYXRwbG90bGliLm9yZy86wFpkAAAACXBIWXMAAAsTAAALEwEAmpwYAAAPuUlEQVR4nO3df6hVdbrH8c+nLAnrD2sqtDGdIi7FQCezsLxd1GwqESqwS/4RXvphyfQLTr+MYqISol9z+yMFh6xzaWqYarzZcGsmpLJLEXpCyu65cxOxGU08RURNJVk+94+zhJOzj/vr3vucdR59v0D23t/znLWe5Tp+XGvt71nbESEAyOqQuhsAgHYQYgBSI8QApEaIAUiNEAOQGiEGILUxI7ky28znANCqzyLi2L0H2zoSs32R7b/Y3mT7znaWBQBNfNxosOUQs32opCckXSzpNEkLbJ/W6vIAoBXtHImdLWlTRGyOiO8k/U7SJZ1pCwDKtBNiJ0j626DXW6sxABgx7VzYd4Oxf7hwb3uRpEVtrAcAhtROiG2VNGnQ659K+mTvoohYIWmFxLuTADqvndPJdZJOsf0z24dLukLS6s60BQBlWj4Si4jvbd8g6U+SDpW0MiI+7FhnAFDAI3k/MU4nAbShNyKm7T3Irx0BSI0QA5AaIQYgNUIMQGqEGIDUCDEAqRFiAFIjxACkRogBSI0QA5AaIQYgNUIMQGqEGIDUCDEAqRFiAFIjxACkRogBSI0QA5AaIQYgNUIMQGqEGIDUCDEAqRFiAFIjxACkRogBSI0QA5AaIQYgNUIMQGqEGIDUCDEAqRFiAFIjxACkRogBSI0QA5AaIQYgNUIMQGqEGIDUCDEAqRFiAFIbU3cDB6Kurq6iuvvvv7+obu7cuU1rvvnmm6JlLV++vKiuDraL6j799NOmNaXbuXPnzqK6Xbt2FdVh5LUVYra3SPpK0g+Svo+IaZ1oCgBKdeJIbFZEfNaB5QDAfuOaGIDU2g2xkPRn2722FzUqsL3I9nrb69tcFwD8g3ZPJ2dExCe2j5P0mu3/jYi1gwsiYoWkFZJkO9pcHwD8SFtHYhHxSfXYL2mVpLM70RQAlGo5xGyPs33UnueSfiFpY6caA4AS7ZxOHi9pVTW3Z4ykZyPi1Y50BQCFHDFyl6kOlmtir75aluVz5szp2DpLJ4qO5P7eX53chr6+vqJlbd68uaiuu7u7qG7Tpk1FdWhJb6O5qEyxAJAaIQYgNUIMQGqEGIDUCDEAqRFiAFIjxACkRogBSI0QA5AaM/aHwdSpU4vqzjvvvKK666+/vmnNxx9/XLSs/v7+orq1a9c2L5L09ddfN62ZP39+0bLGjRvXsbpzzjmnaFmlXnjhhaK6K664oqPrxY8wYx/AgYcQA5AaIQYgNUIMQGqEGIDUCDEAqRFiAFIjxACkRogBSI0Z+zU66aSTiupK7tm/dOnSomX19PQU1Y1mRxxxRNOaK6+8smhZy5Yta7edHxkzpt2PcsU+MGMfwIGHEAOQGiEGIDVCDEBqhBiA1AgxAKkRYgBSI8QApMbMvBrNmDGjqK5kUuyxxx7bbjtpfPvtt01rjjnmmBHoBKMBR2IAUiPEAKRGiAFIjRADkBohBiA1QgxAaoQYgNQIMQCpEWIAUmPGfo127txZVFdyC/FZs2YVLeuJJ54oqiuZFV+X6dOnN6154IEHOrrORx55pKPLQ+c0PRKzvdJ2v+2Ng8aOtv2a7Y+qx/HD2yYANFZyOvm0pIv2GrtT0pqIOEXSmuo1AIy4piEWEWslfb7X8CWS9nxsTo+kSzvbFgCUafXC/vERsV2SqsfjOtcSAJQb9gv7thdJWjTc6wFwcGr1SGyH7QmSVD32D1UYESsiYlqjD70EgHa1GmKrJS2sni+U9FJn2gGA/VMyxeI5Se9I+ifbW21fLelBSRfY/kjSBdVrABhxTa+JRcSCIb50fod7AYD9xoz9Gj3//PNFdVOnTm1ac/vttxct65lnnimqu+2224rqNm/eXFRXYsGCof6//LH77ruvaU3Jbznsj1deeaWjy0Pn8LuTAFIjxACkRogBSI0QA5AaIQYgNUIMQGqEGIDUCDEAqRFiAFJjxn4CS5YsaVpzyCFl/x91d3cX1U2aNKmo7qqrrmpas3HjxqY1krR06dKiuhNPPLGorsTixYuL6t5+++2OrROdxZEYgNQIMQCpEWIAUiPEAKRGiAFIjRADkBohBiA1QgxAakx2PUDcfffdRXWff773h7k3Nnv27KK6N954o2nNqlWripY1efLkorpO3nr6nXfeKar77rvvOrZOdBZHYgBSI8QApEaIAUiNEAOQGiEGIDVCDEBqhBiA1AgxAKkRYgBScydnPzddmT1yK0Nbxo4dW1R30003Na255557ipY1bty4orpO/sxee+21RXVPPfVUx9aJlvVGxLS9BzkSA5AaIQYgNUIMQGqEGIDUCDEAqRFiAFIjxACkRogBSI0QA5AaM/Yx7G699daiuocffriobvfu3e2005Jly5YV1d14443D3MlBrbUZ+7ZX2u63vXHQ2L22t9neUP2Z2+luAaBEyenk05IuajD+64joqv78V2fbAoAyTUMsItZKKvucLwAYYe1c2L/B9vvV6eb4oYpsL7K93vb6NtYFAA21GmLLJZ0sqUvSdkmPDlUYESsiYlqjC3IA0K6WQiwidkTEDxGxW9JvJJ3d2bYAoExLIWZ7wqCXl0naOFQtAAynMc0KbD8naaakn9jeKulXkmba7pIUkrZIum74WgSAoTUNsYhY0GD4yWHoBQe50kmsIzlBe4/Fixd3bFlMiO0sfu0IQGqEGIDUCDEAqRFiAFIjxACkRogBSI0QA5AaIQYgNUIMQGrcnhptmThxYtOal19+uWhZXV1dRXV1zNgvtWvXrqY18+bNK1rWmjVr2m3nQNPa7akBYDQjxACkRogBSI0QA5AaIQYgNUIMQGqEGIDUCDEAqRFiAFJreo99YF96enqa1px++ulFy7rmmmuK6tatW9e05vLLLy9a1qxZs4rqzj333KK6ww8/vGnN7Nmzi5bFjP0yHIkBSI0QA5AaIQYgNUIMQGqEGIDUCDEAqRFiAFIjxACkRogBSI177KOhKVOmFNW99dZbTWu2bdtWtKzp06cX1XXSmWeeWVT30EMPFdXNnDmzaU3Jffgl6cILLyyqe/PNN4vqDgDcYx/AgYcQA5AaIQYgNUIMQGqEGIDUCDEAqRFiAFIjxACkxu2p0dDVV19dVDdx4sSmNc8++2y77Qyb3t7eorrzzz+/qG7evHlNa1566aWiZS1ZsqSo7iCa7NpQ0yMx25Nsv267z/aHtm+uxo+2/Zrtj6rH8cPfLgD8WMnp5PeSuiPiVEnTJf3S9mmS7pS0JiJOkbSmeg0AI6ppiEXE9oh4r3r+laQ+SSdIukTSno+66ZF06TD1CABD2q8L+7anSDpD0ruSjo+I7dJA0Ek6ruPdAUATxRf2bR8p6UVJt0TEl7ZLv2+RpEWttQcA+1Z0JGb7MA0E2G8j4g/V8A7bE6qvT5DU3+h7I2JFRExrdAsNAGhXybuTlvSkpL6IeGzQl1ZLWlg9Xyip7H1jAOigktPJGZKulPSB7Q3V2F2SHpT0e9tXS/qrpLLPjQeADmoaYhHx35KGugBWNgMQAIYJM/bR0FlnnVVUN5K3N89gy5YtTWtK/874uy3D704CSI0QA5AaIQYgNUIMQGqEGIDUCDEAqRFiAFIjxACkRogBSI0Z+xh28+fPL6q74447hrmT4bd69eq6WzjocCQGIDVCDEBqhBiA1AgxAKkRYgBSI8QApEaIAUiNEAOQGpNd0VBPT0/zIklz5sxpWjN58uSiZT3++ONFdevXry+qK3HqqacW1V188cVFdSXbym2nO4sjMQCpEWIAUiPEAKRGiAFIjRADkBohBiA1QgxAaoQYgNQIMQCpeSRnD9tmqnISY8eOLaormT1fOivedlHdaJ7xXrINTz/9dNGyuru7i+q++OKLoroDQG9ETNt7kCMxAKkRYgBSI8QApEaIAUiNEAOQGiEGIDVCDEBqhBiA1AgxAKkxYx9AFq3N2Lc9yfbrtvtsf2j75mr8XtvbbG+o/swdjq4BYF9KPu3oe0ndEfGe7aMk9dp+rfraryPikeFrDwD2rWmIRcR2Sdur51/Z7pN0wnA3BgAl9uvCvu0pks6Q9G41dIPt922vtD2+080BQDPFIWb7SEkvSrolIr6UtFzSyZK6NHCk9ugQ37fI9nrbnfvEUwCoFL07afswSX+U9KeIeKzB16dI+mNE/LzJcnh3EkCrWn530pKelNQ3OMBsTxhUdpmkjZ3oEgD2R8m7kzMkXSnpA9sbqrG7JC2w3SUpJG2RdN0w9AcA+8RkVwBZcHtqAAceQgxAaoQYgNQIMQCpEWIAUiPEAKRGiAFIjRADkBohBiA1QgxAaoQYgNQIMQCpEWIAUiPEAKRGiAFIjRADkBohBiA1QgxAaoQYgNRKPiikkz6T9PFeYz+pxrPK3r+Ufxuy9y/l34aR6H9yo8ER/aCQhg3Y6xvd/D+L7P1L+bche/9S/m2os39OJwGkRogBSG00hNiKuhtoU/b+pfzbkL1/Kf821NZ/7dfEAKAdo+FIDABaVluI2b7I9l9sb7J9Z119tMP2Ftsf2N5ge33d/ZSwvdJ2v+2Ng8aOtv2a7Y+qx/F19rgvQ/R/r+1t1X7YYHtunT3ui+1Jtl+33Wf7Q9s3V+OZ9sFQ21DLfqjldNL2oZL+T9IFkrZKWidpQUT8z4g30wbbWyRNi4g083ts/4ukv0v6j4j4eTX2kKTPI+LB6j+U8RFxR519DmWI/u+V9PeIeKTO3krYniBpQkS8Z/soSb2SLpX0b8qzD4bahn9VDfuhriOxsyVtiojNEfGdpN9JuqSmXg4qEbFW0ud7DV8iqad63qOBH8hRaYj+04iI7RHxXvX8K0l9kk5Qrn0w1DbUoq4QO0HS3wa93qoa/xLaEJL+bLvX9qK6m2nD8RGxXRr4AZV0XM39tOIG2+9Xp5uj9lRsMNtTJJ0h6V0l3Qd7bYNUw36oK8TcYCzj26QzImKqpIsl/bI61cHIWy7pZEldkrZLerTWbgrYPlLSi5JuiYgv6+6nFQ22oZb9UFeIbZU0adDrn0r6pKZeWhYRn1SP/ZJWaeA0OaMd1XWOPdc7+mvuZ79ExI6I+CEidkv6jUb5frB9mAb+8f82Iv5QDafaB422oa79UFeIrZN0iu2f2T5c0hWSVtfUS0tsj6suasr2OEm/kLRx3981aq2WtLB6vlDSSzX2st/2/OOvXKZRvB9sW9KTkvoi4rFBX0qzD4bahrr2Q22TXau3X/9d0qGSVkbE0loaaZHtkzRw9CUN3A3k2QzbYPs5STM1cNeBHZJ+Jek/Jf1e0omS/irp8ogYlRfPh+h/pgZOYULSFknX7bm+NNrY/mdJb0n6QNLuavguDVxTyrIPhtqGBaphPzBjH0BqzNgHkBohBiA1QgxAaoQYgNQIMQCpEWIAUiPEAKRGiAFI7f8BVdAS+cWpY18AAAAASUVORK5CYII=
"
>
</div>

</div>

</div>
</div>

</div>
<div class="cell border-box-sizing code_cell rendered">
<div class="input">
<div class="prompt input_prompt">In&nbsp;[45]:</div>
<div class="inner_cell">
    <div class="input_area">
<div class=" highlight hl-ipython3"><pre><span></span><span class="n">ActivatedUnits</span> <span class="o">=</span> <span class="n">sess</span><span class="o">.</span><span class="n">run</span><span class="p">(</span><span class="n">convolve1</span><span class="p">,</span><span class="n">feed_dict</span><span class="o">=</span><span class="p">{</span><span class="n">x</span><span class="p">:</span><span class="n">np</span><span class="o">.</span><span class="n">reshape</span><span class="p">(</span><span class="n">sampleimage</span><span class="p">,[</span><span class="mi">1</span><span class="p">,</span><span class="mi">784</span><span class="p">],</span><span class="n">order</span><span class="o">=</span><span class="s1">&#39;F&#39;</span><span class="p">),</span><span class="n">keep_prob</span><span class="p">:</span><span class="mf">1.0</span><span class="p">})</span>
<span class="n">filters</span> <span class="o">=</span> <span class="n">ActivatedUnits</span><span class="o">.</span><span class="n">shape</span><span class="p">[</span><span class="mi">3</span><span class="p">]</span>
<span class="n">plt</span><span class="o">.</span><span class="n">figure</span><span class="p">(</span><span class="mi">1</span><span class="p">,</span> <span class="n">figsize</span><span class="o">=</span><span class="p">(</span><span class="mi">20</span><span class="p">,</span><span class="mi">20</span><span class="p">))</span>
<span class="n">n_columns</span> <span class="o">=</span> <span class="mi">6</span>
<span class="n">n_rows</span> <span class="o">=</span> <span class="n">np</span><span class="o">.</span><span class="n">math</span><span class="o">.</span><span class="n">ceil</span><span class="p">(</span><span class="n">filters</span> <span class="o">/</span> <span class="n">n_columns</span><span class="p">)</span> <span class="o">+</span> <span class="mi">1</span>
<span class="k">for</span> <span class="n">i</span> <span class="ow">in</span> <span class="nb">range</span><span class="p">(</span><span class="n">filters</span><span class="p">):</span>
    <span class="n">plt</span><span class="o">.</span><span class="n">subplot</span><span class="p">(</span><span class="n">n_rows</span><span class="p">,</span> <span class="n">n_columns</span><span class="p">,</span> <span class="n">i</span><span class="o">+</span><span class="mi">1</span><span class="p">)</span>
    <span class="n">plt</span><span class="o">.</span><span class="n">title</span><span class="p">(</span><span class="s1">&#39;Filter &#39;</span> <span class="o">+</span> <span class="nb">str</span><span class="p">(</span><span class="n">i</span><span class="p">))</span>
    <span class="n">plt</span><span class="o">.</span><span class="n">imshow</span><span class="p">(</span><span class="n">ActivatedUnits</span><span class="p">[</span><span class="mi">0</span><span class="p">,:,:,</span><span class="n">i</span><span class="p">],</span> <span class="n">interpolation</span><span class="o">=</span><span class="s2">&quot;nearest&quot;</span><span class="p">,</span> <span class="n">cmap</span><span class="o">=</span><span class="s2">&quot;gray&quot;</span><span class="p">)</span>
</pre></div>

    </div>
</div>
</div>

<div class="output_wrapper">
<div class="output">


<div class="output_area">

    <div class="prompt"></div>




<div class="output_png output_subarea ">
<img src="data:image/png;base64,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
"
>
</div>

</div>

</div>
</div>

</div>
<div class="cell border-box-sizing text_cell rendered"><div class="prompt input_prompt">
</div><div class="inner_cell">
<div class="text_cell_render border-box-sizing rendered_html">
<p>What about second convolution layer?</p>

</div>
</div>
</div>
<div class="cell border-box-sizing code_cell rendered">
<div class="input">
<div class="prompt input_prompt">In&nbsp;[46]:</div>
<div class="inner_cell">
    <div class="input_area">
<div class=" highlight hl-ipython3"><pre><span></span><span class="n">ActivatedUnits</span> <span class="o">=</span> <span class="n">sess</span><span class="o">.</span><span class="n">run</span><span class="p">(</span><span class="n">convolve2</span><span class="p">,</span><span class="n">feed_dict</span><span class="o">=</span><span class="p">{</span><span class="n">x</span><span class="p">:</span><span class="n">np</span><span class="o">.</span><span class="n">reshape</span><span class="p">(</span><span class="n">sampleimage</span><span class="p">,[</span><span class="mi">1</span><span class="p">,</span><span class="mi">784</span><span class="p">],</span><span class="n">order</span><span class="o">=</span><span class="s1">&#39;F&#39;</span><span class="p">),</span><span class="n">keep_prob</span><span class="p">:</span><span class="mf">1.0</span><span class="p">})</span>
<span class="n">filters</span> <span class="o">=</span> <span class="n">ActivatedUnits</span><span class="o">.</span><span class="n">shape</span><span class="p">[</span><span class="mi">3</span><span class="p">]</span>
<span class="n">plt</span><span class="o">.</span><span class="n">figure</span><span class="p">(</span><span class="mi">1</span><span class="p">,</span> <span class="n">figsize</span><span class="o">=</span><span class="p">(</span><span class="mi">20</span><span class="p">,</span><span class="mi">20</span><span class="p">))</span>
<span class="n">n_columns</span> <span class="o">=</span> <span class="mi">8</span>
<span class="n">n_rows</span> <span class="o">=</span> <span class="n">np</span><span class="o">.</span><span class="n">math</span><span class="o">.</span><span class="n">ceil</span><span class="p">(</span><span class="n">filters</span> <span class="o">/</span> <span class="n">n_columns</span><span class="p">)</span> <span class="o">+</span> <span class="mi">1</span>
<span class="k">for</span> <span class="n">i</span> <span class="ow">in</span> <span class="nb">range</span><span class="p">(</span><span class="n">filters</span><span class="p">):</span>
    <span class="n">plt</span><span class="o">.</span><span class="n">subplot</span><span class="p">(</span><span class="n">n_rows</span><span class="p">,</span> <span class="n">n_columns</span><span class="p">,</span> <span class="n">i</span><span class="o">+</span><span class="mi">1</span><span class="p">)</span>
    <span class="n">plt</span><span class="o">.</span><span class="n">title</span><span class="p">(</span><span class="s1">&#39;Filter &#39;</span> <span class="o">+</span> <span class="nb">str</span><span class="p">(</span><span class="n">i</span><span class="p">))</span>
    <span class="n">plt</span><span class="o">.</span><span class="n">imshow</span><span class="p">(</span><span class="n">ActivatedUnits</span><span class="p">[</span><span class="mi">0</span><span class="p">,:,:,</span><span class="n">i</span><span class="p">],</span> <span class="n">interpolation</span><span class="o">=</span><span class="s2">&quot;nearest&quot;</span><span class="p">,</span> <span class="n">cmap</span><span class="o">=</span><span class="s2">&quot;gray&quot;</span><span class="p">)</span>
</pre></div>

    </div>
</div>
</div>

<div class="output_wrapper">
<div class="output">


<div class="output_area">

    <div class="prompt"></div>




<div class="output_png output_subarea ">
<img src="data:image/png;base64,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
"
>
</div>

</div>

</div>
</div>

</div>
<div class="cell border-box-sizing code_cell rendered">
<div class="input">
<div class="prompt input_prompt">In&nbsp;[47]:</div>
<div class="inner_cell">
    <div class="input_area">
<div class=" highlight hl-ipython3"><pre><span></span><span class="n">sess</span><span class="o">.</span><span class="n">close</span><span class="p">()</span> <span class="c1">#finish the session</span>
</pre></div>

    </div>
</div>
</div>

</div>
<div class="cell border-box-sizing text_cell rendered"><div class="prompt input_prompt">
</div><div class="inner_cell">
<div class="text_cell_render border-box-sizing rendered_html">
<h2 id="Want-to-learn-more?">Want to learn more?<a class="anchor-link" href="#Want-to-learn-more?">&#182;</a></h2><p>Running deep learning programs usually needs a high performance platform. <strong>PowerAI</strong> speeds up deep learning and AI. Built on IBM’s Power Systems, <strong>PowerAI</strong> is a scalable software platform that accelerates deep learning and AI with blazing performance for individual users or enterprises. The <strong>PowerAI</strong> platform supports popular machine learning libraries and dependencies including TensorFlow, Caffe, Torch, and Theano. You can use <a href="https://cocl.us/ML0120EN_PAI">PowerAI on IMB Cloud</a>.</p>
<p>Also, you can use <strong>Watson Studio</strong> to run these notebooks faster with bigger datasets.<strong>Watson Studio</strong> is IBM’s leading cloud solution for data scientists, built by data scientists. With Jupyter notebooks, RStudio, Apache Spark and popular libraries pre-packaged in the cloud, <strong>Watson Studio</strong> enables data scientists to collaborate on their projects without having to install anything. Join the fast-growing community of <strong>Watson Studio</strong> users today with a free account at <a href="https://cocl.us/ML0120EN_DSX">Watson Studio</a>.This is the end of this lesson. Thank you for reading this notebook, and good luck on your studies.</p>

</div>
</div>
</div>
<div class="cell border-box-sizing text_cell rendered"><div class="prompt input_prompt">
</div><div class="inner_cell">
<div class="text_cell_render border-box-sizing rendered_html">
<h3 id="Thanks-for-completing-this-lesson!">Thanks for completing this lesson!<a class="anchor-link" href="#Thanks-for-completing-this-lesson!">&#182;</a></h3>
</div>
</div>
</div>
<div class="cell border-box-sizing text_cell rendered"><div class="prompt input_prompt">
</div><div class="inner_cell">
<div class="text_cell_render border-box-sizing rendered_html">
<p>Created by <a href="https://linkedin.com/in/saeedaghabozorgi"> Saeed Aghabozorgi </a>, <a href="https://linkedin.com/in/luisotsm">Luis Otavio Silveira Martins</a>, <a href="https://linkedin.com/in/erich-natsubori-sato"> Erich Natsubori Sato </a>&lt;/h4&gt;</p>

</div>
</div>
</div>
<div class="cell border-box-sizing text_cell rendered"><div class="prompt input_prompt">
</div><div class="inner_cell">
<div class="text_cell_render border-box-sizing rendered_html">
<h3 id="References:">References:<a class="anchor-link" href="#References:">&#182;</a></h3><p><a href="https://en.wikipedia.org/wiki/Deep_learning">https://en.wikipedia.org/wiki/Deep_learning</a><br>
<a href="http://ruder.io/optimizing-gradient-descent/">http://ruder.io/optimizing-gradient-descent/</a><br> 
<a href="http://yann.lecun.com/exdb/mnist/">http://yann.lecun.com/exdb/mnist/</a><br>
<a href="https://www.quora.com/Artificial-Neural-Networks-What-is-the-difference-between-activation-functions">https://www.quora.com/Artificial-Neural-Networks-What-is-the-difference-between-activation-functions</a><br>
<a href="https://www.tensorflow.org/versions/r0.9/tutorials/mnist/pros/index.html">https://www.tensorflow.org/versions/r0.9/tutorials/mnist/pros/index.html</a></p>

</div>
</div>
</div>
<div class="cell border-box-sizing text_cell rendered"><div class="prompt input_prompt">
</div><div class="inner_cell">
<div class="text_cell_render border-box-sizing rendered_html">
<hr>

<p>Copyright &copy; 2018 <a href="https://cocl.us/DX0108EN_CC">Cognitive Class</a>. This notebook and its source code are released under the terms of the <a href="https://bigdatauniversity.com/mit-license/">MIT License</a>.</p>

</div>
</div>
</div>
    </div>
  </div>
</body>

 


</html>
