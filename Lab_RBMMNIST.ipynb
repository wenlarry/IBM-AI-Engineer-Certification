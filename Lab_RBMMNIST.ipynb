{
 "cells": [
  {
   "cell_type": "markdown",
   "metadata": {},
   "source": [
    "<a href=\"https://www.bigdatauniversity.com\"><img src=\"https://ibm.box.com/shared/static/qo20b88v1hbjztubt06609ovs85q8fau.png\" width=\"400px\" align=\"center\"></a>\n",
    "\n",
    "<h1 align=\"center\"><font size=\"5\">RESTRICTED BOLTZMANN MACHINES</font></h1>"
   ]
  },
  {
   "cell_type": "markdown",
   "metadata": {},
   "source": [
    "<h3>Introduction</h3>\n",
    "<b>Restricted Boltzmann Machine (RBM):</b>  RBMs are shallow neural nets that learn to reconstruct data by themselves in an unsupervised fashion.  \n",
    "\n",
    "\n",
    "<h4>Why are RBMs important?</h4>\n",
    "It can automatically extract <b>meaningful</b> features from a given input.\n",
    "\n",
    "\n",
    "<h4>How does it work?</h4>\n",
    "RBM is a 2 layer neural network. Simply, RBM takes the inputs and translates those into a set of binary values that represents them in the hidden layer. Then, these numbers can be translated back to reconstruct the inputs. Through several forward and backward passes, the RBM will be trained, and a trained RBM can reveal which features are the most important ones when detecting patterns.   \n",
    "\n",
    "\n",
    "<h4>What are the applications of RBM?</h4>\n",
    "RBM is useful for <a href='http://www.cs.utoronto.ca/~hinton/absps/netflixICML.pdf'>  Collaborative Filtering</a>, dimensionality reduction, classification, regression, feature learning, topic modeling and even <b>Deep Belief Networks</b>.\n",
    "\n",
    "\n",
    "\n",
    "<h4>Is RBM a generative or Discriminative model?</h4>\n",
    "RBM is a generative model. Let me explain it by first, see what is different between discriminative and generative models: \n",
    "\n",
    "<b>Discriminative:</b> Consider a classification problem in which we want to learn to distinguish between Sedan cars (y = 1) and SUV cars (y = 0), based on some features of cars. Given a training set, an algorithm like logistic regression tries to find a straight line—that is, a decision boundary—that separates the suv and sedan.  \n",
    "<b>Generative:</b> looking at cars, we can build a model of what Sedan cars look like. Then, looking at SUVs, we can build a separate model of what SUV cars look like. Finally, to classify a new car, we can match the new car against the Sedan model, and match it against the SUV model, to see whether the new car looks more like the SUV or Sedan. \n",
    "\n",
    "Generative Models specify a probability distribution over a dataset of input vectors. We can do both supervise and unsupervised tasks with generative models:\n",
    "<ul>\n",
    "    <li>In an unsupervised task, we try to form a model for P(x), where P is the probability given x as an input vector.</li>\n",
    "    <li>In the supervised task, we first form a model for P(x|y), where P is the probability of x given y(the label for x). For example, if y = 0 indicates whether a car is a SUV or y = 1 indicates indicate a car is a Sedan, then p(x|y = 0) models the distribution of SUVs’ features, and p(x|y = 1) models the distribution of Sedans’ features. If we manage to find P(x|y) and P(y), then we can use <code>Bayes rule</code> to estimate P(y|x), because: $$p(y|x) = \\frac{p(x|y)p(y)}{p(x)}$$</li>\n",
    "</ul>\n",
    "Now the question is, can we build a generative model, and then use it to create synthetic data by directly sampling from the modeled probability distributions? Lets see. "
   ]
  },
  {
   "cell_type": "markdown",
   "metadata": {},
   "source": [
    "<h2>Table of Contents</h2>\n",
    "<ol>\n",
    "    <li><a href=\"#ref1\">Initialization</a></li>\n",
    "    <li><a href=\"#ref2\">RBM layers</a></li>\n",
    "    <li><a href=\"#ref3\">What RBM can do after training?</a></li>\n",
    "    <li><a href=\"#ref4\">How to train the model?</a></li>\n",
    "    <li><a href=\"#ref5\">Learned features</a></li>\n",
    "</ol>\n",
    "<p></p>\n",
    "</div>\n",
    "<br>\n",
    "\n",
    "<hr>"
   ]
  },
  {
   "cell_type": "markdown",
   "metadata": {},
   "source": [
    "<a id=\"ref1\"></a>\n",
    "<h3>Initialization</h3>\n",
    "\n",
    "First we have to load the utility file which contains different utility functions that are not connected\n",
    "in any way to the networks presented in the tutorials, but rather help in\n",
    "processing the outputs into a more understandable way."
   ]
  },
  {
   "cell_type": "code",
   "execution_count": 1,
   "metadata": {},
   "outputs": [],
   "source": [
    "import urllib.request\n",
    "with urllib.request.urlopen(\"http://deeplearning.net/tutorial/code/utils.py\") as url:\n",
    "    response = url.read()\n",
    "target = open('utils.py', 'w')\n",
    "target.write(response.decode('utf-8'))\n",
    "target.close()"
   ]
  },
  {
   "cell_type": "markdown",
   "metadata": {},
   "source": [
    "Now, we load in all the packages that we use to create the net including the TensorFlow package:"
   ]
  },
  {
   "cell_type": "code",
   "execution_count": 2,
   "metadata": {},
   "outputs": [
    {
     "name": "stderr",
     "output_type": "stream",
     "text": [
      "/home/jupyterlab/conda/envs/python/lib/python3.6/site-packages/tensorflow/python/framework/dtypes.py:519: FutureWarning: Passing (type, 1) or '1type' as a synonym of type is deprecated; in a future version of numpy, it will be understood as (type, (1,)) / '(1,)type'.\n",
      "  _np_qint8 = np.dtype([(\"qint8\", np.int8, 1)])\n",
      "/home/jupyterlab/conda/envs/python/lib/python3.6/site-packages/tensorflow/python/framework/dtypes.py:520: FutureWarning: Passing (type, 1) or '1type' as a synonym of type is deprecated; in a future version of numpy, it will be understood as (type, (1,)) / '(1,)type'.\n",
      "  _np_quint8 = np.dtype([(\"quint8\", np.uint8, 1)])\n",
      "/home/jupyterlab/conda/envs/python/lib/python3.6/site-packages/tensorflow/python/framework/dtypes.py:521: FutureWarning: Passing (type, 1) or '1type' as a synonym of type is deprecated; in a future version of numpy, it will be understood as (type, (1,)) / '(1,)type'.\n",
      "  _np_qint16 = np.dtype([(\"qint16\", np.int16, 1)])\n",
      "/home/jupyterlab/conda/envs/python/lib/python3.6/site-packages/tensorflow/python/framework/dtypes.py:522: FutureWarning: Passing (type, 1) or '1type' as a synonym of type is deprecated; in a future version of numpy, it will be understood as (type, (1,)) / '(1,)type'.\n",
      "  _np_quint16 = np.dtype([(\"quint16\", np.uint16, 1)])\n",
      "/home/jupyterlab/conda/envs/python/lib/python3.6/site-packages/tensorflow/python/framework/dtypes.py:523: FutureWarning: Passing (type, 1) or '1type' as a synonym of type is deprecated; in a future version of numpy, it will be understood as (type, (1,)) / '(1,)type'.\n",
      "  _np_qint32 = np.dtype([(\"qint32\", np.int32, 1)])\n",
      "/home/jupyterlab/conda/envs/python/lib/python3.6/site-packages/tensorflow/python/framework/dtypes.py:528: FutureWarning: Passing (type, 1) or '1type' as a synonym of type is deprecated; in a future version of numpy, it will be understood as (type, (1,)) / '(1,)type'.\n",
      "  np_resource = np.dtype([(\"resource\", np.ubyte, 1)])\n"
     ]
    }
   ],
   "source": [
    "import tensorflow as tf\n",
    "import numpy as np\n",
    "from tensorflow.examples.tutorials.mnist import input_data\n",
    "#!pip install pillow\n",
    "from PIL import Image\n",
    "from utils import tile_raster_images\n",
    "import matplotlib.pyplot as plt\n",
    "%matplotlib inline"
   ]
  },
  {
   "cell_type": "markdown",
   "metadata": {},
   "source": [
    "<hr>"
   ]
  },
  {
   "cell_type": "markdown",
   "metadata": {},
   "source": [
    "<a id=\"ref2\"></a>\n",
    "<h3>RBM layers</h3>\n",
    "\n",
    "An RBM has two layers. The first layer of the RBM is called the <b>visible</b> (or input layer). Imagine that our toy example, has only vectors with 7 values, so the visible layer must have j=7 input nodes. \n",
    "The second layer is the <b>hidden</b> layer, which possesses i neurons in our case. Each hidden node can have either 0 or 1 values (i.e., si = 1 or si = 0) with a probability that is a logistic function of the inputs it receives from the other j visible units, called for example, p(si = 1). For our toy sample, we'll use 2 nodes in the hidden layer, so i = 2.\n",
    "\n",
    "<center><img src=\"https://ibm.box.com/shared/static/eu26opvcefgls6vnwuo29uwp0nudmokh.png\" alt=\"RBM Model\" style=\"width: 400px;\"></center>"
   ]
  },
  {
   "cell_type": "markdown",
   "metadata": {},
   "source": [
    "     \n",
    "\n",
    "Each node in the first layer also has a <b>bias</b>. We will denote the bias as “v_bias” for the visible units. The <b>v_bias</b> is shared among all visible units.\n",
    "\n",
    "Here we define the <b>bias</b> of second layer as well. We will denote the bias as “h_bias” for the hidden units. The <b>h_bias</b> is shared among all hidden units"
   ]
  },
  {
   "cell_type": "code",
   "execution_count": 3,
   "metadata": {},
   "outputs": [],
   "source": [
    "v_bias = tf.placeholder(\"float\", [7])\n",
    "h_bias = tf.placeholder(\"float\", [2])"
   ]
  },
  {
   "cell_type": "markdown",
   "metadata": {},
   "source": [
    "We have to define weights among the input layer and hidden layer nodes. In the weight matrix, the number of rows are equal to the input nodes, and the number of columns are equal to the output nodes. Let <b>W</b> be the Tensor of 7x2 (7 - number of visible neurons, 2 - number of hidden neurons) that represents weights between neurons. "
   ]
  },
  {
   "cell_type": "code",
   "execution_count": 4,
   "metadata": {},
   "outputs": [],
   "source": [
    "W = tf.constant(np.random.normal(loc=0.0, scale=1.0, size=(7, 2)).astype(np.float32))"
   ]
  },
  {
   "cell_type": "markdown",
   "metadata": {},
   "source": [
    "<hr>"
   ]
  },
  {
   "cell_type": "markdown",
   "metadata": {},
   "source": [
    "<a id=\"ref3\"></a>\n",
    "<h3>What RBM can do after training?</h3>\n",
    "Think RBM as a model that has been trained based on images of a dataset of many SUV and Sedan cars. Also, imagine that the RBM network has only two hidden nodes, one for the weight and, and one for the size of cars, which in a sense, their different configurations represent different cars, one represent SUV cars and one for Sedan. In a training process, through many forward and backward passes, RBM adjust its weights to send a stronger signal to either the SUV node (0, 1) or the Sedan node (1, 0) in the hidden layer, given the pixels of images. Now, given a SUV in hidden layer, which distribution of pixels should we expect? RBM can give you 2 things. First, it encodes your images in hidden layer. Second, it gives you the probability of observing a case, given some hidden values.\n",
    "\n",
    "\n",
    "<h3>How to inference?</h3>\n",
    "\n",
    "RBM has two phases:\n",
    "<ul>\n",
    "    <li>Forward Pass</li>  \n",
    "    <li>Backward Pass or Reconstruction</li>\n",
    "</ul>\n",
    "\n",
    "<b>Phase 1) Forward pass:</b>  Input one training sample (one image) <b>X</b> through all visible nodes, and pass it to all hidden nodes. Processing happens in each node in the hidden layer. This computation begins by making stochastic decisions about whether to transmit that input or not (i.e. to determine the state of each hidden layer). At the hidden layer's nodes, <b>X</b> is multiplied by a <b>$W_{ij}$</b> and added to <b>h_bias</b>. The result of those two operations is fed into the sigmoid function, which produces the node’s output, $p({h_j})$, where j is the unit number. \n",
    "\n",
    "\n",
    "$p({h_j})= \\sigma(\\sum_i w_{ij} x_i)$, where $\\sigma()$ is the logistic function.\n",
    "\n",
    "\n",
    "Now lets see what $p({h_j})$ represents. In fact, it is the probabilities of the hidden units. And, all values together are called <b>probability distribution</b>. That is, RBM uses inputs x to make predictions about hidden node activations. For example, imagine that the values of $h_p$ for the first training item is [0.51 0.84]. It tells you what is the conditional probability for each hidden neuron to be at Phase 1): \n",
    "<ul>\n",
    "    <li>p($h_{1}$ = 1|V) = 0.51</li>\n",
    "    <li>($h_{2}$ = 1|V) = 0.84</li>  \n",
    "</ul>\n",
    "\n",
    "As a result, for each row in the training set, <b>a vector/tensor</b> is generated, which in our case it is of size [1x2], and totally n vectors ($p({h})$=[nx2]). \n",
    "\n",
    "We then turn unit $h_j$ on with probability $p(h_{j}|V)$, and turn it off with probability $1 - p(h_{j}|V)$.\n",
    "\n",
    "Therefore, the conditional probability of a configuration of h given v (for a training sample) is:\n",
    "\n",
    "$$p(\\mathbf{h} \\mid \\mathbf{v}) = \\prod_{j=0}^H p(h_j \\mid \\mathbf{v})$$"
   ]
  },
  {
   "cell_type": "markdown",
   "metadata": {},
   "source": [
    "Now, sample a hidden activation vector <b>h</b> from this probability distribution $p({h_j})$. That is, we sample the activation vector from the probability distribution of hidden layer values. "
   ]
  },
  {
   "cell_type": "markdown",
   "metadata": {},
   "source": [
    "Before we go further, let's look at a toy example for one case out of all input. Assume that we have a trained RBM, and a very simple input vector such as [1.0, 0.0, 0.0, 1.0, 0.0, 0.0, 0.0], lets see what would be the output of forward pass:"
   ]
  },
  {
   "cell_type": "code",
   "execution_count": 5,
   "metadata": {},
   "outputs": [
    {
     "name": "stdout",
     "output_type": "stream",
     "text": [
      "Input:  [[1. 0. 0. 1. 0. 0. 0.]]\n",
      "hb:  [0.1 0.1]\n",
      "w:  [[-0.1736934  -0.36723757]\n",
      " [-0.44004682  1.4085125 ]\n",
      " [-0.23783301  0.68822175]\n",
      " [ 0.11201803 -1.263151  ]\n",
      " [-0.8082911   0.73115176]\n",
      " [-0.99968296 -0.9993144 ]\n",
      " [-0.694302    0.8442923 ]]\n",
      "p(h|v):  [[0.50958    0.17793684]]\n",
      "h0 states: [[0. 0.]]\n"
     ]
    }
   ],
   "source": [
    "sess = tf.Session()\n",
    "X = tf.constant([[1.0, 0.0, 0.0, 1.0, 0.0, 0.0, 0.0]])\n",
    "v_state = X\n",
    "print (\"Input: \", sess.run(v_state))\n",
    "\n",
    "h_bias = tf.constant([0.1, 0.1])\n",
    "print (\"hb: \", sess.run(h_bias))\n",
    "print (\"w: \", sess.run(W))\n",
    "\n",
    "# Calculate the probabilities of turning the hidden units on:\n",
    "h_prob = tf.nn.sigmoid(tf.matmul(v_state, W) + h_bias)  #probabilities of the hidden units\n",
    "print (\"p(h|v): \", sess.run(h_prob))\n",
    "\n",
    "# Draw samples from the distribution:\n",
    "h_state = tf.nn.relu(tf.sign(h_prob - tf.random_uniform(tf.shape(h_prob)))) #states\n",
    "print (\"h0 states:\", sess.run(h_state))"
   ]
  },
  {
   "cell_type": "markdown",
   "metadata": {},
   "source": [
    "<b>Phase 2) Backward Pass (Reconstruction):</b>\n",
    "The RBM reconstructs data by making several forward and backward passes between the visible and hidden layers.\n",
    "\n",
    "So, in the second phase (i.e. reconstruction phase), the samples from the hidden layer (i.e. h) play the role of input. That is, <b>h</b> becomes the input in the backward pass. The same weight matrix and visible layer biases are used to go through the sigmoid function. The produced output is a reconstruction which is an approximation of the original input."
   ]
  },
  {
   "cell_type": "code",
   "execution_count": 6,
   "metadata": {},
   "outputs": [
    {
     "name": "stdout",
     "output_type": "stream",
     "text": [
      "b:  [0.1 0.2 0.1 0.1 0.1 0.2 0.1]\n",
      "p(vi∣h):  [[0.5249792  0.54983395 0.5249792  0.5249792  0.5249792  0.54983395\n",
      "  0.5249792 ]]\n",
      "v probability states:  [[1. 1. 1. 1. 1. 0. 0.]]\n"
     ]
    }
   ],
   "source": [
    "vb = tf.constant([0.1, 0.2, 0.1, 0.1, 0.1, 0.2, 0.1])\n",
    "print (\"b: \", sess.run(vb))\n",
    "v_prob = sess.run(tf.nn.sigmoid(tf.matmul(h_state, tf.transpose(W)) + vb))\n",
    "print (\"p(vi∣h): \", v_prob)\n",
    "v_state = tf.nn.relu(tf.sign(v_prob - tf.random_uniform(tf.shape(v_prob))))\n",
    "print (\"v probability states: \", sess.run(v_state))"
   ]
  },
  {
   "cell_type": "markdown",
   "metadata": {},
   "source": [
    "RBM learns a probability distribution over the input, and then, after being trained, the RBM can generate new samples from the learned probability distribution. As you know, <b>probability distribution</b>, is a mathematical function that provides the probabilities of occurrence of different possible outcomes in an experiment.\n",
    "\n",
    "The (conditional) probability distribution over the visible units v is given by\n",
    "\n",
    "$p(\\mathbf{v} \\mid \\mathbf{h}) = \\prod_{i=0}^V p(v_i \\mid \\mathbf{h}),$\n",
    "\n",
    "\n",
    "where,\n",
    "\n",
    "$p(v_i \\mid \\mathbf{h}) = \\sigma\\left( a_i + \\sum_{j=0}^H w_{ji} h_j \\right)$\n",
    "\n",
    "so, given current state of hidden units and weights, what is the probability of generating [1. 0. 0. 1. 0. 0. 0.] in reconstruction phase, based on the above <b>probability distribution</b> function?"
   ]
  },
  {
   "cell_type": "code",
   "execution_count": 7,
   "metadata": {},
   "outputs": [
    {
     "name": "stdout",
     "output_type": "stream",
     "text": [
      "[[1. 0. 0. 1. 0. 0. 0.]]\n",
      "[0.5249792  0.54983395 0.5249792  0.5249792  0.5249792  0.54983395\n",
      " 0.5249792 ]\n"
     ]
    },
    {
     "data": {
      "text/plain": [
       "0.0059864253744900215"
      ]
     },
     "execution_count": 7,
     "metadata": {},
     "output_type": "execute_result"
    }
   ],
   "source": [
    "inp = sess.run(X)\n",
    "print(inp)\n",
    "print(v_prob[0])\n",
    "v_probability = 1\n",
    "for elm, p in zip(inp[0],v_prob[0]) :\n",
    "    if elm ==1:\n",
    "        v_probability *= p\n",
    "    else:\n",
    "        v_probability *= (1-p)\n",
    "v_probability"
   ]
  },
  {
   "cell_type": "markdown",
   "metadata": {},
   "source": [
    "How similar X and V vectors are? Of course, the reconstructed values most likely will not look anything like the input vector because our network has not trained yet. Our objective is to train the model in such a way that the input vector and reconstructed vector to be same. Therefore, based on how different the input values look to the ones that we just reconstructed, the weights are adjusted. "
   ]
  },
  {
   "cell_type": "markdown",
   "metadata": {},
   "source": [
    "<hr>"
   ]
  },
  {
   "cell_type": "markdown",
   "metadata": {},
   "source": [
    "\n",
    "<h2>MNIST</h2>\n"
   ]
  },
  {
   "cell_type": "markdown",
   "metadata": {},
   "source": [
    "We will be using the MNIST dataset to practice the usage of RBMs. The following cell loads the MNIST dataset."
   ]
  },
  {
   "cell_type": "code",
   "execution_count": 8,
   "metadata": {},
   "outputs": [
    {
     "name": "stdout",
     "output_type": "stream",
     "text": [
      "WARNING:tensorflow:From <ipython-input-8-a0c1bc5755ed>:1: read_data_sets (from tensorflow.contrib.learn.python.learn.datasets.mnist) is deprecated and will be removed in a future version.\n",
      "Instructions for updating:\n",
      "Please use alternatives such as official/mnist/dataset.py from tensorflow/models.\n",
      "WARNING:tensorflow:From /home/jupyterlab/conda/envs/python/lib/python3.6/site-packages/tensorflow/contrib/learn/python/learn/datasets/mnist.py:260: maybe_download (from tensorflow.contrib.learn.python.learn.datasets.base) is deprecated and will be removed in a future version.\n",
      "Instructions for updating:\n",
      "Please write your own downloading logic.\n",
      "WARNING:tensorflow:From /home/jupyterlab/conda/envs/python/lib/python3.6/site-packages/tensorflow/contrib/learn/python/learn/datasets/mnist.py:262: extract_images (from tensorflow.contrib.learn.python.learn.datasets.mnist) is deprecated and will be removed in a future version.\n",
      "Instructions for updating:\n",
      "Please use tf.data to implement this functionality.\n",
      "Extracting MNIST_data/train-images-idx3-ubyte.gz\n",
      "WARNING:tensorflow:From /home/jupyterlab/conda/envs/python/lib/python3.6/site-packages/tensorflow/contrib/learn/python/learn/datasets/mnist.py:267: extract_labels (from tensorflow.contrib.learn.python.learn.datasets.mnist) is deprecated and will be removed in a future version.\n",
      "Instructions for updating:\n",
      "Please use tf.data to implement this functionality.\n",
      "Extracting MNIST_data/train-labels-idx1-ubyte.gz\n",
      "WARNING:tensorflow:From /home/jupyterlab/conda/envs/python/lib/python3.6/site-packages/tensorflow/contrib/learn/python/learn/datasets/mnist.py:110: dense_to_one_hot (from tensorflow.contrib.learn.python.learn.datasets.mnist) is deprecated and will be removed in a future version.\n",
      "Instructions for updating:\n",
      "Please use tf.one_hot on tensors.\n",
      "Extracting MNIST_data/t10k-images-idx3-ubyte.gz\n",
      "Extracting MNIST_data/t10k-labels-idx1-ubyte.gz\n",
      "WARNING:tensorflow:From /home/jupyterlab/conda/envs/python/lib/python3.6/site-packages/tensorflow/contrib/learn/python/learn/datasets/mnist.py:290: DataSet.__init__ (from tensorflow.contrib.learn.python.learn.datasets.mnist) is deprecated and will be removed in a future version.\n",
      "Instructions for updating:\n",
      "Please use alternatives such as official/mnist/dataset.py from tensorflow/models.\n"
     ]
    }
   ],
   "source": [
    "mnist = input_data.read_data_sets(\"MNIST_data/\", one_hot=True)\n",
    "trX, trY, teX, teY = mnist.train.images, mnist.train.labels, mnist.test.images, mnist.test.labels"
   ]
  },
  {
   "cell_type": "markdown",
   "metadata": {},
   "source": [
    "Lets look at the dimension of the images."
   ]
  },
  {
   "cell_type": "code",
   "execution_count": 9,
   "metadata": {},
   "outputs": [
    {
     "data": {
      "text/plain": [
       "(784,)"
      ]
     },
     "execution_count": 9,
     "metadata": {},
     "output_type": "execute_result"
    }
   ],
   "source": [
    "trX[1].shape"
   ]
  },
  {
   "cell_type": "markdown",
   "metadata": {},
   "source": [
    "MNIST images have 784 pixels, so the visible layer must have 784 input nodes.  For our case, we'll use 50 nodes in the hidden layer, so i = 50."
   ]
  },
  {
   "cell_type": "code",
   "execution_count": 10,
   "metadata": {},
   "outputs": [],
   "source": [
    "vb = tf.placeholder(\"float\", [784])\n",
    "hb = tf.placeholder(\"float\", [50])"
   ]
  },
  {
   "cell_type": "markdown",
   "metadata": {},
   "source": [
    "Let <b>W</b> be the Tensor of 784x50 (784 - number of visible neurons, 50 - number of hidden neurons) that represents weights between the neurons. "
   ]
  },
  {
   "cell_type": "code",
   "execution_count": 11,
   "metadata": {},
   "outputs": [],
   "source": [
    "W = tf.placeholder(\"float\", [784, 50])"
   ]
  },
  {
   "cell_type": "markdown",
   "metadata": {},
   "source": [
    "Lets define the visible layer:"
   ]
  },
  {
   "cell_type": "code",
   "execution_count": 12,
   "metadata": {},
   "outputs": [],
   "source": [
    "v0_state = tf.placeholder(\"float\", [None, 784])"
   ]
  },
  {
   "cell_type": "markdown",
   "metadata": {},
   "source": [
    "Now, we can define hidden layer:"
   ]
  },
  {
   "cell_type": "code",
   "execution_count": 13,
   "metadata": {},
   "outputs": [],
   "source": [
    "h0_prob = tf.nn.sigmoid(tf.matmul(v0_state, W) + hb)  #probabilities of the hidden units\n",
    "h0_state = tf.nn.relu(tf.sign(h0_prob - tf.random_uniform(tf.shape(h0_prob)))) #sample_h_given_X"
   ]
  },
  {
   "cell_type": "markdown",
   "metadata": {},
   "source": [
    "Now, we define reconstruction part:"
   ]
  },
  {
   "cell_type": "code",
   "execution_count": 14,
   "metadata": {},
   "outputs": [],
   "source": [
    "v1_prob = tf.nn.sigmoid(tf.matmul(h0_state, tf.transpose(W)) + vb) \n",
    "v1_state = tf.nn.relu(tf.sign(v1_prob - tf.random_uniform(tf.shape(v1_prob)))) #sample_v_given_h"
   ]
  },
  {
   "cell_type": "markdown",
   "metadata": {},
   "source": [
    "<h3>What is objective function?</h3>\n",
    "\n",
    "<b>Goal</b>: Maximize the likelihood of our data being drawn from that distribution\n",
    "\n",
    "<b>Calculate error:</b>  \n",
    "In each epoch, we compute the \"error\" as a sum of the squared difference between step 1 and step n,\n",
    "e.g the error shows the difference between the data and its reconstruction.\n",
    "\n",
    "<b>Note:</b> tf.reduce_mean computes the mean of elements across dimensions of a tensor."
   ]
  },
  {
   "cell_type": "code",
   "execution_count": 15,
   "metadata": {},
   "outputs": [],
   "source": [
    "err = tf.reduce_mean(tf.square(v0_state - v1_state))"
   ]
  },
  {
   "cell_type": "markdown",
   "metadata": {},
   "source": [
    "<a id=\"ref4\"></a>\n",
    "<h3>How to train the model?</h3>\n",
    "<b>Warning!!</b> The following part discuss how to train the model which needs some algebra background. Still, you can skip this part and run the next cells.\n",
    "\n",
    "As mentioned, we want to give a high probability to the input data we train on. So, in order to train an RBM, we have to maximize the product of probabilities assigned to all rows v (images) in the training set V (a matrix, where each row of it is treated as a visible vector v):\n",
    "\n",
    "<img src=\"https://wikimedia.org/api/rest_v1/media/math/render/svg/d42e9f5aad5e1a62b11b119c9315236383c1864a\">\n",
    "\n",
    "\n",
    "Which is equivalent, maximizing the expected log probability of V:\n",
    "\n",
    "\n",
    "<img src=\"https://wikimedia.org/api/rest_v1/media/math/render/svg/ba0ceed99dca5ff1d21e5ace23f5f2223f19efc0\">\n",
    "\n",
    "\n",
    "So, we have to update the weights wij  to increase p(v) for all v in our training data during training. So we have to calculate the derivative:\n",
    "\n",
    "\n",
    "$$\\frac{\\partial \\log p(\\mathbf v)}{\\partial w_{ij}}$$\n",
    "\n",
    "This cannot be easily done by typical <b>gradient descent (SGD)</b>, so we can use another approach, which has 2 steps:\n",
    "<ol>\n",
    "    <li>Gibbs Sampling</li>\n",
    "    <li>Contrastive Divergence</li>\n",
    "</ol>    \n",
    "    \n",
    "<h3>Gibbs Sampling</h3>   \n",
    "First, given an input vector v we are using p(h|v) for prediction of the hidden values h. \n",
    "<ul>\n",
    "    <li>$p(h|v) = sigmoid(X \\otimes W + hb)$</li>\n",
    "    <li>h0 = sampleProb(h0)</li>\n",
    "</ul>\n",
    "    \n",
    "Then, knowing the hidden values, we use p(v|h) for reconstructing of new input values v. \n",
    "<ul>\n",
    "    <li>$p(v|h) = sigmoid(h0 \\otimes transpose(W) + vb)$</li>\n",
    "    <li>$v1 = sampleProb(v1)$  (Sample v given h)</li>\n",
    "</ul>\n",
    "        \n",
    "This process is repeated k times. After k iterations we obtain an other input vector vk which was recreated from original input values v0 or X.\n",
    "\n",
    "Reconstruction steps:\n",
    "<ul>\n",
    "    <li> Get one data point from data set, like <i>x</i>, and pass it through the net</li>\n",
    "    <li>Pass 0: (x)  $\\Rightarrow$ (h0) $\\Rightarrow$  (v1)   (v1 is reconstruction of the first pass)</li>\n",
    "    <li>Pass 1: (v1) $\\Rightarrow$  (h1) $\\Rightarrow$  (v2)   (v2 is reconstruction of the second pass)</li>\n",
    "    <li>Pass 2: (v2) $\\Rightarrow$  (h2) $\\Rightarrow$  (v3)   (v3 is reconstruction of the third pass)</li>\n",
    "    <li>Pass n: (vk) $\\Rightarrow$  (hk+1) $\\Rightarrow$  (vk+1)(vk is reconstruction of the nth pass)</li>\n",
    "</ul>\n",
    "        \n",
    "<h4>What is sampling here (sampleProb)?</h4>\n",
    "\n",
    "In forward pass: We randomly set the values of each hi to be 1 with probability $sigmoid(v \\otimes W + hb)$.  \n",
    "- To sample h given v means to sample from the conditional probability distribution P(h|v). It means that you are asking what are the probabilities of getting a specific set of values for the hidden neurons, given the values v for the visible neurons, and sampling from this probability distribution. \n",
    "In reconstruction: We randomly set the values of each vi to be 1 with probability $ sigmoid(h \\otimes transpose(W) + vb)$.\n",
    "\n",
    "<h3>contrastive divergence (CD-k)</h3>\n",
    "The update of the weight matrix is done during the Contrastive Divergence step. \n",
    "\n",
    "Vectors v0 and vk are used to calculate the activation probabilities for hidden values h0 and hk. The difference between the outer products of those probabilities with input vectors v0 and vk results in the update matrix:\n",
    "\n",
    "\n",
    "$\\Delta W =v0 \\otimes h0 - vk \\otimes hk$ \n",
    "\n",
    "Contrastive Divergence is actually matrix of values that is computed and used to adjust values of the W matrix. Changing W incrementally leads to training of W values. Then on each step (epoch), W is updated to a new value W' through the equation below:\n",
    "\n",
    "$W' = W + alpha * \\Delta W$ \n",
    "\n",
    " \n",
    "<b>What is Alpha?</b>  \n",
    "Here, alpha is some small step rate and is also known as the \"learning rate\".\n",
    "\n",
    "\n"
   ]
  },
  {
   "cell_type": "markdown",
   "metadata": {},
   "source": [
    "Ok, lets assume that k=1, that is we just get one more step:"
   ]
  },
  {
   "cell_type": "code",
   "execution_count": 16,
   "metadata": {},
   "outputs": [],
   "source": [
    "h1_prob = tf.nn.sigmoid(tf.matmul(v1_state, W) + hb)\n",
    "h1_state = tf.nn.relu(tf.sign(h1_prob - tf.random_uniform(tf.shape(h1_prob)))) #sample_h_given_X"
   ]
  },
  {
   "cell_type": "code",
   "execution_count": 17,
   "metadata": {},
   "outputs": [],
   "source": [
    "alpha = 0.01\n",
    "W_Delta = tf.matmul(tf.transpose(v0_state), h0_prob) - tf.matmul(tf.transpose(v1_state), h1_prob)\n",
    "update_w = W + alpha * W_Delta\n",
    "update_vb = vb + alpha * tf.reduce_mean(v0_state - v1_state, 0)\n",
    "update_hb = hb + alpha * tf.reduce_mean(h0_state - h1_state, 0)"
   ]
  },
  {
   "cell_type": "markdown",
   "metadata": {},
   "source": [
    "Let's start a session and initialize the variables:"
   ]
  },
  {
   "cell_type": "code",
   "execution_count": 18,
   "metadata": {},
   "outputs": [],
   "source": [
    "cur_w = np.zeros([784, 50], np.float32)\n",
    "cur_vb = np.zeros([784], np.float32)\n",
    "cur_hb = np.zeros([50], np.float32)\n",
    "prv_w = np.zeros([784, 50], np.float32)\n",
    "prv_vb = np.zeros([784], np.float32)\n",
    "prv_hb = np.zeros([50], np.float32)\n",
    "sess = tf.Session()\n",
    "init = tf.global_variables_initializer()\n",
    "sess.run(init)"
   ]
  },
  {
   "cell_type": "markdown",
   "metadata": {},
   "source": [
    "Lets look at the error of the first run:"
   ]
  },
  {
   "cell_type": "code",
   "execution_count": 19,
   "metadata": {},
   "outputs": [
    {
     "data": {
      "text/plain": [
       "0.48155203"
      ]
     },
     "execution_count": 19,
     "metadata": {},
     "output_type": "execute_result"
    }
   ],
   "source": [
    "sess.run(err, feed_dict={v0_state: trX, W: prv_w, vb: prv_vb, hb: prv_hb})"
   ]
  },
  {
   "cell_type": "code",
   "execution_count": 20,
   "metadata": {},
   "outputs": [
    {
     "name": "stdout",
     "output_type": "stream",
     "text": [
      "Epoch: 0 reconstruction error: 0.084027\n",
      "Epoch: 1 reconstruction error: 0.080673\n"
     ]
    },
    {
     "data": {
      "image/png": "[encoded data removed]",
      "text/plain": [
       "<Figure size 432x288 with 1 Axes>"
      ]
     },
     "metadata": {
      "needs_background": "light"
     },
     "output_type": "display_data"
    }
   ],
   "source": [
    "#Parameters\n",
    "epochs = 2\n",
    "batchsize = 100\n",
    "weights = []\n",
    "errors = []\n",
    "\n",
    "for epoch in range(epochs):\n",
    "    for start, end in zip( range(0, len(trX), batchsize), range(batchsize, len(trX), batchsize)):\n",
    "        batch = trX[start:end]\n",
    "        cur_w = sess.run(update_w, feed_dict={ v0_state: batch, W: prv_w, vb: prv_vb, hb: prv_hb})\n",
    "        cur_vb = sess.run(update_vb, feed_dict={v0_state: batch, W: prv_w, vb: prv_vb, hb: prv_hb})\n",
    "        cur_hb = sess.run(update_hb, feed_dict={ v0_state: batch, W: prv_w, vb: prv_vb, hb: prv_hb})\n",
    "        prv_w = cur_w\n",
    "        prv_vb = cur_vb\n",
    "        prv_hb = cur_hb\n",
    "        if start % 10000 == 0:\n",
    "            errors.append(sess.run(err, feed_dict={v0_state: trX, W: cur_w, vb: cur_vb, hb: cur_hb}))\n",
    "            weights.append(cur_w)\n",
    "    print ('Epoch: %d' % epoch,'reconstruction error: %f' % errors[-1])\n",
    "plt.plot(errors)\n",
    "plt.xlabel(\"Batch Number\")\n",
    "plt.ylabel(\"Error\")\n",
    "plt.show()"
   ]
  },
  {
   "cell_type": "markdown",
   "metadata": {},
   "source": [
    "What is the final weight after training?"
   ]
  },
  {
   "cell_type": "code",
   "execution_count": 21,
   "metadata": {},
   "outputs": [
    {
     "name": "stdout",
     "output_type": "stream",
     "text": [
      "[[-0.36857203 -0.3182873  -0.38503802 ... -0.31517148 -0.4120863\n",
      "  -0.3865429 ]\n",
      " [-1.2448273  -1.1676116  -1.2018023  ... -1.2595936  -1.3058958\n",
      "  -1.1702545 ]\n",
      " [-0.6657541  -0.6026074  -0.62038785 ... -0.6460758  -0.54819554\n",
      "  -0.5560566 ]\n",
      " ...\n",
      " [-0.33545783 -0.30217648 -0.31283993 ... -0.26998886 -0.34649274\n",
      "  -0.29377767]\n",
      " [-0.4547438  -0.41659787 -0.46827447 ... -0.44547698 -0.46051437\n",
      "  -0.48253083]\n",
      " [-0.75263643 -0.66682595 -0.6904995  ... -0.7218667  -0.72906053\n",
      "  -0.79271203]]\n"
     ]
    }
   ],
   "source": [
    "uw = weights[-1].T\n",
    "print (uw) # a weight matrix of shape (50,784)"
   ]
  },
  {
   "cell_type": "markdown",
   "metadata": {},
   "source": [
    "<a id=\"ref5\"></a>\n",
    "<h3>Learned features</h3> "
   ]
  },
  {
   "cell_type": "markdown",
   "metadata": {},
   "source": [
    "We can take each hidden unit and visualize the connections between that hidden unit and each element in the input vector. In our case, we have 50 hidden units. Lets visualize those."
   ]
  },
  {
   "cell_type": "markdown",
   "metadata": {},
   "source": [
    "Let's plot the current weights:\n",
    "<b>tile_raster_images</b> helps in generating an easy to grasp image from a set of samples or weights. It transform the <b>uw</b> (with one flattened image per row of size 784), into an array (of size $25\\times20$) in which images are reshaped and laid out like tiles on a floor."
   ]
  },
  {
   "cell_type": "code",
   "execution_count": 22,
   "metadata": {},
   "outputs": [
    {
     "data": {
      "image/png": "[encoded data removed]",
      "text/plain": [
       "<Figure size 1296x1296 with 1 Axes>"
      ]
     },
     "metadata": {
      "needs_background": "light"
     },
     "output_type": "display_data"
    }
   ],
   "source": [
    "tile_raster_images(X=cur_w.T, img_shape=(28, 28), tile_shape=(5, 10), tile_spacing=(1, 1))\n",
    "import matplotlib.pyplot as plt\n",
    "from PIL import Image\n",
    "%matplotlib inline\n",
    "image = Image.fromarray(tile_raster_images(X=cur_w.T, img_shape=(28, 28) ,tile_shape=(5, 10), tile_spacing=(1, 1)))\n",
    "### Plot image\n",
    "plt.rcParams['figure.figsize'] = (18.0, 18.0)\n",
    "imgplot = plt.imshow(image)\n",
    "imgplot.set_cmap('gray')  "
   ]
  },
  {
   "cell_type": "markdown",
   "metadata": {},
   "source": [
    "Each tile in the above visualization corresponds to a vector of connections between a hidden unit and visible layer's units. "
   ]
  },
  {
   "cell_type": "markdown",
   "metadata": {},
   "source": [
    "Let's look at one of the learned weights corresponding to one of hidden units for example. In this particular square, the gray color represents weight = 0, and the whiter it is, the more positive the weights are (closer to 1). Conversely, the darker pixels are, the more negative the weights. The positive pixels will increase the probability of activation in hidden units (after multiplying by input/visible pixels), and negative pixels will decrease the probability of a unit hidden to be 1 (activated). So, why is this important?  So we can see that this specific square (hidden unit) can detect a feature (e.g. a \"/\" shape) and if it exists in the input."
   ]
  },
  {
   "cell_type": "code",
   "execution_count": 23,
   "metadata": {},
   "outputs": [
    {
     "data": {
      "image/png": "[encoded data removed]",
      "text/plain": [
       "<Figure size 288x288 with 1 Axes>"
      ]
     },
     "metadata": {
      "needs_background": "light"
     },
     "output_type": "display_data"
    }
   ],
   "source": [
    "from PIL import Image\n",
    "image = Image.fromarray(tile_raster_images(X =cur_w.T[10:11], img_shape=(28, 28),tile_shape=(1, 1), tile_spacing=(1, 1)))\n",
    "### Plot image\n",
    "plt.rcParams['figure.figsize'] = (4.0, 4.0)\n",
    "imgplot = plt.imshow(image)\n",
    "imgplot.set_cmap('gray')  "
   ]
  },
  {
   "cell_type": "markdown",
   "metadata": {},
   "source": [
    "Let's look at the reconstruction of an image now. Imagine that we have a destructed image of figure 3. Lets see if our trained network can fix it:\n",
    "\n",
    "First we plot the image:"
   ]
  },
  {
   "cell_type": "code",
   "execution_count": 24,
   "metadata": {},
   "outputs": [
    {
     "name": "stdout",
     "output_type": "stream",
     "text": [
      "--2020-08-13 04:51:25--  https://ibm.box.com/shared/static/vvm1b63uvuxq88vbw9znpwu5ol380mco.jpg\n",
      "Resolving ibm.box.com (ibm.box.com)... 107.152.27.197\n",
      "Connecting to ibm.box.com (ibm.box.com)|107.152.27.197|:443... connected.\n",
      "HTTP request sent, awaiting response... 301 Moved Permanently\n",
      "Location: /public/static/vvm1b63uvuxq88vbw9znpwu5ol380mco.jpg [following]\n",
      "--2020-08-13 04:51:25--  https://ibm.box.com/public/static/vvm1b63uvuxq88vbw9znpwu5ol380mco.jpg\n",
      "Reusing existing connection to ibm.box.com:443.\n",
      "HTTP request sent, awaiting response... 301 Moved Permanently\n",
      "Location: https://ibm.ent.box.com/public/static/vvm1b63uvuxq88vbw9znpwu5ol380mco.jpg [following]\n",
      "--2020-08-13 04:51:25--  https://ibm.ent.box.com/public/static/vvm1b63uvuxq88vbw9znpwu5ol380mco.jpg\n",
      "Resolving ibm.ent.box.com (ibm.ent.box.com)... 107.152.27.211\n",
      "Connecting to ibm.ent.box.com (ibm.ent.box.com)|107.152.27.211|:443... connected.\n",
      "HTTP request sent, awaiting response... 302 Found\n",
      "Location: https://public.boxcloud.com/d/1/b1!FNDVIbxffRMCap4kX8TPeVIChHJIzWuS005GoBfBgWLOtC-zPMttnzDyRiiWGsicbMP93STo7Go1u94A1-UdUnh4ThriZASu3dRY5adyGYX5Z1MbpU-Xn4QOA47e7dLSRybNsByqWa2OTS15SSckZ9_C2cLg9wI23W7o3ejMSUQY7sfemGEetxhrSuLw-BeTD-FIomlWUaKzO0FY8FZlVTTPpqYtkLOdhpPh5ba6hkUg5hdGa-79XAd2L-2dUURvqZs6D0Q9_qFv5oWDKrw0STepc1pW0TRerF5UAYCOjXTBUfKye_YMnErEAwKVjkcdCAWYPT5c6GEXUgJ374St3GcBzQHPKuFSzfdQiLd-rb63RDvU8J7Ty-bU3BGNWjgEa8Mbl5Hm9Y1Trb87_MiYcSjgN_nnp64_JEsAhbw-zs5AZJ-b34dUxpeDDtFBpe9pSD4jFN_rp3dykP5M9tgyyrk0OJyfn7MWgb5cZXoXTsl34ZkmsRnqqAU0Dli4WoYqPWKUNi5OHTKTfVTBH64lzzX5ps_mla1eSY-8gf3m_VAXS8a3OlLc4w9-h5XJk57sj_AOaMDZ3baIKvP55rmYFhB8vJcsIIX8qB1wc9RaaY8uQlUCr-RHUxoeTigpXGRagVoHPxFN87IPgo38dAsV7NE-eJD6Q5eWwyBx8vcvYs7Jr5u61weLQDsWaHXHoX97FLmJbbC62DNroJVz47ARboMjQH5DOL-wSzKU4fKf1xei0TiYqbdc1OGgo37KkNRqd3TV0imoa0MBFxig_EYsyaIZRQXmDiJVuR6vOq646CJ3Nw4eFEdNGgRGnwSQ4Kac-se6xbLHAJjgiGwEpJV8VKGZYYq0rGvqvUrcGiqg2Vt31OrU2fbJPS8TIXS6qkbzt7HMgXFifTPnWYKlD-RbGiN36EpzEVMrNlwdpErLDeU2waOjYD3tyvNZEfRiiSFNGP4tuy_H7m1ZD3fSzT98HNPBgs91Ssm07iaE1gPTt_TfrvaJKjVQYh96IY9kDqWdHSd2oWv3B5dEC25Pc7rhRMzqpsvHuVVBzeB1Os5u-sogeonzycAIhnMNAXaAyF9sdilCDLyk5nx3-tLDrCfao-_QEPBNlHaHMdlzRNcbaLaKR7MxKxamouz0DAt6wdOAi5N2OBrBEWT0hMRNb8tLaai1XpdvZhHCwfNOPMFelERsq8MiVddG-5ZvDqySoTdKAqWyixwYTMmlMqu6Dnu_HI4z8OxxyQwFxOw2yxf4TjxRCUpz8FyiKTI2HW2d3L5DM3thQnWX75lfH-E_1Qw7WJXifa418yWQ2HqvDXuCLkp65LS1JHNCQFfYW7uhvJxQP8AD4jb-AH1uu5gJ1oR4i0XuzfIgcV5dZpBYd_jjQLtQ1m8L0B8pG6Iv2NYfpCrLtIDFf1WbNvEGb2aDdeBEgpl_sr0y/download [following]\n",
      "--2020-08-13 04:51:26--  https://public.boxcloud.com/d/1/b1!FNDVIbxffRMCap4kX8TPeVIChHJIzWuS005GoBfBgWLOtC-zPMttnzDyRiiWGsicbMP93STo7Go1u94A1-UdUnh4ThriZASu3dRY5adyGYX5Z1MbpU-Xn4QOA47e7dLSRybNsByqWa2OTS15SSckZ9_C2cLg9wI23W7o3ejMSUQY7sfemGEetxhrSuLw-BeTD-FIomlWUaKzO0FY8FZlVTTPpqYtkLOdhpPh5ba6hkUg5hdGa-79XAd2L-2dUURvqZs6D0Q9_qFv5oWDKrw0STepc1pW0TRerF5UAYCOjXTBUfKye_YMnErEAwKVjkcdCAWYPT5c6GEXUgJ374St3GcBzQHPKuFSzfdQiLd-rb63RDvU8J7Ty-bU3BGNWjgEa8Mbl5Hm9Y1Trb87_MiYcSjgN_nnp64_JEsAhbw-zs5AZJ-b34dUxpeDDtFBpe9pSD4jFN_rp3dykP5M9tgyyrk0OJyfn7MWgb5cZXoXTsl34ZkmsRnqqAU0Dli4WoYqPWKUNi5OHTKTfVTBH64lzzX5ps_mla1eSY-8gf3m_VAXS8a3OlLc4w9-h5XJk57sj_AOaMDZ3baIKvP55rmYFhB8vJcsIIX8qB1wc9RaaY8uQlUCr-RHUxoeTigpXGRagVoHPxFN87IPgo38dAsV7NE-eJD6Q5eWwyBx8vcvYs7Jr5u61weLQDsWaHXHoX97FLmJbbC62DNroJVz47ARboMjQH5DOL-wSzKU4fKf1xei0TiYqbdc1OGgo37KkNRqd3TV0imoa0MBFxig_EYsyaIZRQXmDiJVuR6vOq646CJ3Nw4eFEdNGgRGnwSQ4Kac-se6xbLHAJjgiGwEpJV8VKGZYYq0rGvqvUrcGiqg2Vt31OrU2fbJPS8TIXS6qkbzt7HMgXFifTPnWYKlD-RbGiN36EpzEVMrNlwdpErLDeU2waOjYD3tyvNZEfRiiSFNGP4tuy_H7m1ZD3fSzT98HNPBgs91Ssm07iaE1gPTt_TfrvaJKjVQYh96IY9kDqWdHSd2oWv3B5dEC25Pc7rhRMzqpsvHuVVBzeB1Os5u-sogeonzycAIhnMNAXaAyF9sdilCDLyk5nx3-tLDrCfao-_QEPBNlHaHMdlzRNcbaLaKR7MxKxamouz0DAt6wdOAi5N2OBrBEWT0hMRNb8tLaai1XpdvZhHCwfNOPMFelERsq8MiVddG-5ZvDqySoTdKAqWyixwYTMmlMqu6Dnu_HI4z8OxxyQwFxOw2yxf4TjxRCUpz8FyiKTI2HW2d3L5DM3thQnWX75lfH-E_1Qw7WJXifa418yWQ2HqvDXuCLkp65LS1JHNCQFfYW7uhvJxQP8AD4jb-AH1uu5gJ1oR4i0XuzfIgcV5dZpBYd_jjQLtQ1m8L0B8pG6Iv2NYfpCrLtIDFf1WbNvEGb2aDdeBEgpl_sr0y/download\n",
      "Resolving public.boxcloud.com (public.boxcloud.com)... 107.152.27.200\n",
      "Connecting to public.boxcloud.com (public.boxcloud.com)|107.152.27.200|:443... connected.\n",
      "HTTP request sent, awaiting response... 200 OK\n",
      "Length: 24383 (24K) [image/jpeg]\n",
      "Saving to: ‘destructed3.jpg’\n",
      "\n",
      "destructed3.jpg     100%[===================>]  23.81K  --.-KB/s    in 0.01s   \n",
      "\n",
      "2020-08-13 04:51:26 (1.77 MB/s) - ‘destructed3.jpg’ saved [24383/24383]\n",
      "\n"
     ]
    },
    {
     "data": {
      "image/png": "[encoded data removed]",
      "text/plain": [
       "<PIL.JpegImagePlugin.JpegImageFile image mode=RGB size=181x181 at 0x7EFCD406E470>"
      ]
     },
     "execution_count": 24,
     "metadata": {},
     "output_type": "execute_result"
    }
   ],
   "source": [
    "!wget -O destructed3.jpg  https://ibm.box.com/shared/static/vvm1b63uvuxq88vbw9znpwu5ol380mco.jpg\n",
    "img = Image.open('destructed3.jpg')\n",
    "img"
   ]
  },
  {
   "cell_type": "markdown",
   "metadata": {},
   "source": [
    "Now let's pass this image through the net:"
   ]
  },
  {
   "cell_type": "code",
   "execution_count": 25,
   "metadata": {},
   "outputs": [],
   "source": [
    "# convert the image to a 1d numpy array\n",
    "sample_case = np.array(img.convert('I').resize((28,28))).ravel().reshape((1, -1))/255.0"
   ]
  },
  {
   "cell_type": "markdown",
   "metadata": {},
   "source": [
    "Feed the sample case into the network and reconstruct the output:"
   ]
  },
  {
   "cell_type": "code",
   "execution_count": 26,
   "metadata": {},
   "outputs": [
    {
     "name": "stdout",
     "output_type": "stream",
     "text": [
      "Probability nodes in hidden layer: [[9.3502185e-14 9.6763682e-01 1.1481050e-08 9.7092513e-37 2.9300720e-16\n",
      "  1.8751467e-07 5.9522574e-17 1.0000000e+00 2.8184402e-20 1.4257176e-15\n",
      "  7.5609030e-16 3.1153657e-08 9.9766707e-01 9.2002302e-01 5.6482635e-11\n",
      "  2.4726640e-23 9.1095108e-01 2.5377914e-10 9.9996972e-01 8.2715168e-11\n",
      "  7.3212415e-02 3.9491247e-02 8.9199734e-01 1.9213233e-17 4.5226971e-05\n",
      "  2.4297531e-17 9.9999785e-01 1.8931783e-07 1.8694102e-09 2.7399179e-13\n",
      "  2.7107168e-03 3.8274041e-01 1.7777180e-19 1.1729581e-11 9.9998772e-01\n",
      "  2.2162210e-06 6.3195181e-01 3.1933085e-13 3.6639494e-12 1.3788645e-19\n",
      "  4.1510659e-14 9.9999535e-01 2.8062575e-17 2.3489706e-15 2.6115622e-06\n",
      "  1.0283201e-04 1.1252765e-11 9.8198963e-11 1.2341215e-19 9.2790749e-12]]\n",
      "activated nodes in hidden layer: [[0. 1. 0. 0. 0. 0. 0. 1. 0. 0. 0. 0. 1. 1. 0. 0. 1. 0. 1. 0. 0. 0. 1. 0.\n",
      "  0. 0. 1. 0. 0. 0. 0. 0. 0. 0. 1. 0. 1. 0. 0. 0. 0. 1. 0. 0. 0. 0. 0. 0.\n",
      "  0. 0.]]\n"
     ]
    }
   ],
   "source": [
    "hh0_p = tf.nn.sigmoid(tf.matmul(v0_state, W) + hb)\n",
    "#hh0_s = tf.nn.relu(tf.sign(hh0_p - tf.random_uniform(tf.shape(hh0_p)))) \n",
    "hh0_s = tf.round(hh0_p)\n",
    "hh0_p_val,hh0_s_val  = sess.run((hh0_p, hh0_s), feed_dict={ v0_state: sample_case, W: prv_w, hb: prv_hb})\n",
    "print(\"Probability nodes in hidden layer:\" ,hh0_p_val)\n",
    "print(\"activated nodes in hidden layer:\" ,hh0_s_val)\n",
    "\n",
    "# reconstruct\n",
    "vv1_p = tf.nn.sigmoid(tf.matmul(hh0_s_val, tf.transpose(W)) + vb)\n",
    "rec_prob = sess.run(vv1_p, feed_dict={ hh0_s: hh0_s_val, W: prv_w, vb: prv_vb})"
   ]
  },
  {
   "cell_type": "markdown",
   "metadata": {},
   "source": [
    "Here we plot the reconstructed image:"
   ]
  },
  {
   "cell_type": "code",
   "execution_count": 27,
   "metadata": {},
   "outputs": [
    {
     "data": {
      "image/png": "[encoded data removed]",
      "text/plain": [
       "<Figure size 288x288 with 1 Axes>"
      ]
     },
     "metadata": {
      "needs_background": "light"
     },
     "output_type": "display_data"
    }
   ],
   "source": [
    "img = Image.fromarray(tile_raster_images(X=rec_prob, img_shape=(28, 28),tile_shape=(1, 1), tile_spacing=(1, 1)))\n",
    "plt.rcParams['figure.figsize'] = (4.0, 4.0)\n",
    "imgplot = plt.imshow(img)\n",
    "imgplot.set_cmap('gray') "
   ]
  },
  {
   "cell_type": "markdown",
   "metadata": {},
   "source": [
    "<hr>\n",
    "\n",
    "## Want to learn more?\n",
    "\n",
    "Running deep learning programs usually needs a high performance platform. __PowerAI__ speeds up deep learning and AI. Built on IBM’s Power Systems, __PowerAI__ is a scalable software platform that accelerates deep learning and AI with blazing performance for individual users or enterprises. The __PowerAI__ platform supports popular machine learning libraries and dependencies including TensorFlow, Caffe, Torch, and Theano. You can use [PowerAI on IMB Cloud](https://cocl.us/ML0120EN_PAI).\n",
    "\n",
    "Also, you can use __Watson Studio__ to run these notebooks faster with bigger datasets.__Watson Studio__ is IBM’s leading cloud solution for data scientists, built by data scientists. With Jupyter notebooks, RStudio, Apache Spark and popular libraries pre-packaged in the cloud, __Watson Studio__ enables data scientists to collaborate on their projects without having to install anything. Join the fast-growing community of __Watson Studio__ users today with a free account at [Watson Studio](https://cocl.us/ML0120EN_DSX).This is the end of this lesson. Thank you for reading this notebook, and good luck on your studies."
   ]
  },
  {
   "cell_type": "markdown",
   "metadata": {},
   "source": [
    "### Thanks for completing this lesson!\n",
    "\n",
    "Notebook created by: <a href = \"https://ca.linkedin.com/in/saeedaghabozorgi\">Saeed Aghabozorgi</a>"
   ]
  },
  {
   "cell_type": "markdown",
   "metadata": {},
   "source": [
    "### References:\n",
    "https://en.wikipedia.org/wiki/Restricted_Boltzmann_machine  \n",
    "http://deeplearning.net/tutorial/rbm.html  \n",
    "http://www.cs.utoronto.ca/~hinton/absps/netflixICML.pdf<br>\n",
    "http://imonad.com/rbm/restricted-boltzmann-machine/  \n"
   ]
  },
  {
   "cell_type": "markdown",
   "metadata": {},
   "source": [
    "<hr>\n",
    "\n",
    "Copyright &copy; 2018 [Cognitive Class](https://cocl.us/DX0108EN_CC). This notebook and its source code are released under the terms of the [MIT License](https://bigdatauniversity.com/mit-license/)."
   ]
  }
 ],
 "metadata": {
  "kernelspec": {
   "display_name": "Python",
   "language": "python",
   "name": "conda-env-python-py"
  },
  "language_info": {
   "codemirror_mode": {
    "name": "ipython",
    "version": 3
   },
   "file_extension": ".py",
   "mimetype": "text/x-python",
   "name": "python",
   "nbconvert_exporter": "python",
   "pygments_lexer": "ipython3",
   "version": "3.6.11"
  },
  "widgets": {
   "state": {},
   "version": "1.1.2"
  }
 },
 "nbformat": 4,
 "nbformat_minor": 4
}
